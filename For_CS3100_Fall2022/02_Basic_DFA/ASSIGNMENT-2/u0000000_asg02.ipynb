{
  "cells": [
    {
      "cell_type": "code",
      "execution_count": 1,
      "metadata": {
        "id": "2mGV-Aw3qw8I",
        "outputId": "4e858a9b-1db2-4a56-fa77-b549188f5e3d",
        "colab": {
          "base_uri": "https://localhost:8080/"
        }
      },
      "outputs": [
        {
          "output_type": "stream",
          "name": "stdout",
          "text": [
            "Cloning into 'Jove'...\n",
            "remote: Enumerating objects: 5763, done.\u001b[K\n",
            "remote: Counting objects: 100% (1129/1129), done.\u001b[K\n",
            "remote: Compressing objects: 100% (469/469), done.\u001b[K\n",
            "remote: Total 5763 (delta 620), reused 1112 (delta 610), pack-reused 4634\u001b[K\n",
            "Receiving objects: 100% (5763/5763), 8.37 MiB | 20.12 MiB/s, done.\n",
            "Resolving deltas: 100% (3625/3625), done.\n",
            "You may use any of these help commands:\n",
            "help(lphi)\n",
            "help(lunit)\n",
            "help(lcat)\n",
            "help(lexp)\n",
            "help(lunion)\n",
            "help(lstar)\n",
            "help(srev)\n",
            "help(lrev)\n",
            "help(shomo)\n",
            "help(lhomo)\n",
            "help(powset)\n",
            "help(lint)\n",
            "help(lsymdiff)\n",
            "help(lminus)\n",
            "help(lissubset)\n",
            "help(lissuperset)\n",
            "help(lcomplem)\n",
            "help(product)\n",
            "help(nthnumeric)\n",
            "\n",
            "You may use any of these help commands:\n",
            "help(md2mc)\n",
            ".. and if you want to dig more, then ..\n",
            "help(default_line_attr)\n",
            "help(length_ok_input_items)\n",
            "help(union_line_attr_list_fld)\n",
            "help(extend_rsltdict)\n",
            "help(form_delta)\n",
            "help(get_machine_components)\n",
            "\n",
            "You may use any of these help commands:\n",
            "help(ResetStNum)\n",
            "help(NxtStateStr)\n",
            "\n",
            "You may use any of these help commands:\n",
            "help(mkp_dfa)\n",
            "help(mk_dfa)\n",
            "help(totalize_dfa)\n",
            "help(addtosigma_delta)\n",
            "help(step_dfa)\n",
            "help(run_dfa)\n",
            "help(accepts_dfa)\n",
            "help(comp_dfa)\n",
            "help(union_dfa)\n",
            "help(intersect_dfa)\n",
            "help(pruneUnreach)\n",
            "help(iso_dfa)\n",
            "help(langeq_dfa)\n",
            "help(same_status)\n",
            "help(h_langeq_dfa)\n",
            "help(fixptDist)\n",
            "help(min_dfa)\n",
            "help(pairFR)\n",
            "help(state_combos)\n",
            "help(sepFinNonFin)\n",
            "help(bash_eql_classes)\n",
            "help(listminus)\n",
            "help(bash_1)\n",
            "help(mk_rep_eqc)\n",
            "help(F_of)\n",
            "help(rep_of_s)\n",
            "help(q0_of)\n",
            "help(Delta_of)\n",
            "help(mk_state_eqc_name)\n",
            "\n",
            "You may use any of these help commands:\n",
            "help(mk_nfa)\n",
            "help(totalize_nfa)\n",
            "help(step_nfa)\n",
            "help(run_nfa)\n",
            "help(ec_step_nfa)\n",
            "help(Eclosure)\n",
            "help(Echelp)\n",
            "help(accepts_nfa)\n",
            "help(nfa2dfa)\n",
            "help(n2d)\n",
            "help(inSets)\n",
            "help(rev_dfa)\n",
            "help(min_dfa_brz)\n",
            "\n",
            "You may use any of these help commands:\n",
            "help(re2nfa)\n",
            "\n"
          ]
        }
      ],
      "source": [
        "#~~~~~~~~~~~~~~~~~~~~~~~~~~~~~~~~~~~~~~~~~~~~~~~~~~~~~~~\n",
        "# If you want to clear outputs for a \"fresh look\", go to Edit and hit \"clear outputs\"\n",
        "#~~~~~~~~~~~~~~~~~~~~~~~~~~~~~~~~~~~~~~~~~~~~~~~~~~~~~~~\n",
        "import sys\n",
        "\n",
        "# -- Detect if in Own Install or in Colab\n",
        "try:\n",
        "    import google.colab\n",
        "    OWN_INSTALL = False\n",
        "except:\n",
        "    OWN_INSTALL = True\n",
        "    \n",
        "if OWN_INSTALL:\n",
        "    \n",
        "  #---- Leave these definitions ON if running on laptop\n",
        "  #---- Else turn OFF by putting them between ''' ... '''\n",
        "\n",
        "  sys.path[0:0] = ['../../../../..',  '../../../../../3rdparty',  \n",
        "                   '../../../..',  '../../../../3rdparty',  \n",
        "                   '../../..',     '../../../3rdparty', \n",
        "                   '../..',        '../../3rdparty',\n",
        "                   '..',           '../3rdparty' ]\n",
        "\n",
        "else: # In colab\n",
        "  ! if [ ! -d Jove ]; then git clone https://github.com/ganeshutah/Jove Jove; fi\n",
        "  sys.path.append('./Jove')\n",
        "  sys.path.append('./Jove/jove')\n",
        "\n",
        "# -- common imports --\n",
        " \n",
        "from jove.LangDef   import *  #-- mainly for nthnumeric\n",
        "from jove.Def_md2mc import *  #-- for md2mc\n",
        "from jove.Def_DFA   import *  #-- for all DFA functions\n",
        "from jove.DotBashers import * #-- for dotObj_dfa\n",
        "\n",
        "from jove.Def_NFA import *\n",
        "from jove.Def_RE2NFA import *\n",
        "#~~~~~~~~~~~~~~~~~~~~~~~~~~~~~~~~~~~~~~~~~~~~~~~~~~~~~~~"
      ]
    },
    {
      "cell_type": "markdown",
      "metadata": {
        "id": "lRsW2w2jt9na"
      },
      "source": [
        "OVERVIEW OF ALL QUESTIONS (points subject to slight changes):\n",
        "\n",
        "* Question 1 (25%)\n",
        "  - Part a: Define L_eq and L_neq in Jove \n",
        "    - Difficulty: Medium: Needs careful thought about ranges (10%)\n",
        "  - Part b: See if their union is the universe (easy) (3%)\n",
        "  - Part c: Drawing a specific conclusion (easy) (2%)\n",
        "  - Part d: Finding the missing (easy) (3%)\n",
        "  - Part e: Mathematical description of missing\n",
        "    - Difficulty: Medium: Need careful thinking of all the cases (7%)\n",
        "\n",
        "* Question 2 (30%)\n",
        "  - Part a: Building a DFA called Even010\n",
        "    - Difficulty: Enjoyably medium: Fun debugging for all ages! (15%)\n",
        "  - Part b: DFA animation\n",
        "    - Difficulty: Naah. This is fun - totally worth it! (5%)\n",
        "  - Part c: Systematic testing (easy) (5%)\n",
        "  - Part d: Random-testing\n",
        "    - Difficulty: None.\n",
        "    - Value: Now you are getting proficient at testing  machines in many different ways. Valuable for all of us, software engineers! (3%)\n",
        "  - Part e: Comparative bullets (super-easy but useful documentation) (2%)\n",
        "\n",
        "* Question 3 (20%)\n",
        "  - Part a: Building a DFA called Ends010 (enjoyable and medium-easy) (10%)\n",
        "  - Part b: Computing the intersection (fun one-liner) (5%)\n",
        "  - Part c: Minimization of the intersection (fun and interesting outcome) (5%)\n",
        "\n",
        "* Question 4 (25%)\n",
        "  - Part a: Find states eliminated (easy and informative; answers may vary) (5%)\n",
        "  - Part b: Explanation of why getting rid of these states is OK (just a spot-check; not a proof) (20%)"
      ]
    },
    {
      "cell_type": "markdown",
      "metadata": {
        "id": "IDgJe_AQcEbe"
      },
      "source": [
        "## Question 1:"
      ]
    },
    {
      "cell_type": "markdown",
      "metadata": {
        "id": "lcubR90fcPyi"
      },
      "source": [
        "This problem is based on Problem 7, Page 26 of our textbook, but we will rename the languages to avoid some confusion, below.\n",
        "    \n",
        "Suppose we define the language\n",
        "    \n",
        "$$ L_{eq} = \\{ 0^i 1^j \\;:\\; i,j\\in Nat,\\; and\\; i=j \\}$$  \n",
        "\n",
        "(Note: Clearly we could have written this as\n",
        "$$ L_{eq} = \\{ 0^i 1^i \\;:\\; i\\in Nat  \\}$$ \n",
        "but we use the first form to set our question more smoothly.)\n",
        "    \n",
        "Now consider the language $L_{neq}$ \n",
        "    \n",
        "$$ L_{neq} = \\{ 0^i 1^j  \\;:\\; i,j\\in Nat,\\; and\\; i\\neq j \\}$$\n",
        "\n",
        "Your task is to explore whether $L_{eq}$ and $L_{neq}$ are complements. \n",
        "While you may already know the answer (pretend you don't!), we require you to work through some questions that will help you conclude one way or the other with much more certainty."
      ]
    },
    {
      "cell_type": "markdown",
      "metadata": {
        "id": "F40n0MopcVbD"
      },
      "source": [
        "###Part a: \n",
        "Define $L_{eq}$ in Jove for $\\Sigma=\\{0,1\\}$ and the universe being star(\\{0,1\\}, 6). This universe immediately helps you compute the length of the longest strings in it. (__Make sure that $L_{eq}$ includes all the strings in this universe__, and __none outside of it__.). Use this information in defining $L_{eq}$ below.  (__Again, make sure that the range(...) operator used in defining $L_{eq}$ is right.__)\n",
        "\n",
        "Following the definition of $L_{eq}$, define $L_{neq}$ in the same manner, in the space provided below. Make sure that all eligible strings from the universe are included (and none outside the universe are included).\n",
        "\n",
        "\n",
        "REMOVE IN FINAL: However, observe that for $L_{neq}$ you may have to run $i$ and $j$ over a larger range and insist that $(i+j < 7)$, in order to get all eligible strings of length <=6 that are in $L_{neq}$."
      ]
    },
    {
      "cell_type": "code",
      "execution_count": null,
      "metadata": {
        "id": "636WgSYmqw8J"
      },
      "outputs": [],
      "source": [
        "Sigma = {'0','1'}\n",
        "\n",
        "# Define L_eq as follows: \n",
        "# L_eq = { \"0\"* i + \"1\" * j for i in range(...fill...) for j in range(...) if ...as necessary ... }\n",
        "\n",
        "#L_eq =  ...definition...\n",
        " \n",
        "L_eq   =  ...\n",
        "\n",
        "L_eq # to print L_eq and make sure it meets the stated conditions"
      ]
    },
    {
      "cell_type": "code",
      "execution_count": null,
      "metadata": {
        "id": "dm7ANwbxqw8K"
      },
      "outputs": [],
      "source": [
        "# L_{neq} = \"Your Definition Here, as above\"\n",
        "\n",
        "L_neq =  ...\n",
        "\n",
        "L_neq # to print L_neq"
      ]
    },
    {
      "cell_type": "markdown",
      "source": [
        "###Part b:"
      ],
      "metadata": {
        "id": "RcYxZIHejx1L"
      }
    },
    {
      "cell_type": "markdown",
      "metadata": {
        "id": "EuT_gMTSIXFZ"
      },
      "source": [
        " Fill the code-cell below to compute the union of $L_{eq}$ and $L_{neq}$ using Jove's lunion function. Compare the result to the universe. Let the comparison result be called __Matches__."
      ]
    },
    {
      "cell_type": "code",
      "source": [
        "help(lunion)\n",
        "\n",
        "# Union = ...fill this using the lunion(...) Jove function ...\n",
        " \n",
        "Union =  ...\n",
        "\n",
        "# Matches = ...fill this...\n",
        " \n",
        "Matches =  ...\n",
        "\n",
        "Matches # This must print either True or False\n",
        " "
      ],
      "metadata": {
        "id": "4obRghAhIMdT"
      },
      "execution_count": null,
      "outputs": []
    },
    {
      "cell_type": "markdown",
      "source": [
        "###Part c:"
      ],
      "metadata": {
        "id": "hXU7T5qvHkVS"
      }
    },
    {
      "cell_type": "markdown",
      "metadata": {
        "id": "t4FcQPQmefyf"
      },
      "source": [
        "Based on the value of Matches, draw your conclusion, filling the missing parts below.\n",
        "\n",
        "\n",
        "* $L_{neq}$ is indeed the complement of $L_{eq}$ because ...fill this...\n",
        "\n",
        "*  $L_{neq}$ is not the complement of $L_{eq}$ because ...fill this..."
      ]
    },
    {
      "cell_type": "markdown",
      "metadata": {
        "id": "GF56-gSpqw8K"
      },
      "source": [
        "\n",
        "\n",
        "###Part d: \n",
        "If Matches is True, you are done. Else, find the language (set of strings) missing from $L_{neq}$ (with respect to the actual complement of the $L_{eq}$ set). Call this language LangMissed.\n",
        "\n",
        "For the ease of debugging, it is best not to define LangMissed in one shot; you may set up intermediate definitions."
      ]
    },
    {
      "cell_type": "code",
      "execution_count": null,
      "metadata": {
        "id": "r2fUrdTMqw8L"
      },
      "outputs": [],
      "source": [
        "\"YOUR PYTHON-3 CODE CALLING JOVE FUNCTIONS HERE. USE MULTIPLE LINES.\"\n",
        "\n",
        "# LangMissed = \"THE SET OF ALL STRINGS MISSED.\"\n",
        "\n",
        "# LangMissed = ...express it suitably ...\n",
        "\n",
        "SigmaStar =  ...\n",
        "\n",
        "#\n",
        "LangMissed = ...\n",
        "\n",
        "print(\"The strings missed are: \", LangMissed)\n",
        "\n"
      ]
    },
    {
      "cell_type": "markdown",
      "metadata": {
        "id": "x6981FH-qw8L"
      },
      "source": [
        "###Part e: \n",
        "Provide a fully mathematical expression (not Jove code) to define LangMissed.\n",
        "\n",
        "You are required to construct it in the form of a multi-way concatenation (an answer of the form $Sigma^* \\;-\\; L_{eq}$ is not acceptable).\n",
        "\n",
        "Your answer will look like $(L_1\\; L_2 \\; L_3 \\; L_4 \\; L_5)$. Note: it has to be a fully general description of all the things in LangMissed, and so it is very likely that you'll need all these five pieces  $L_1$ through $L_5$.\n",
        "\n",
        "$L_1$ through $L_5$ will turn out to be $\\Sigma^*$ or simple languages such as \\{0\\) and \\{1\\}. This $\\Sigma^*$ is the fully general one, not a truncated $\\Sigma^*$.\n",
        "\n",
        "As a note, if you can write it as a shorter concatenation (less than five languages) that is fine. In any case, you must __explain__ your answers (no points w/o explanations for any mathematical question).\n",
        "\n",
        "\n"
      ]
    },
    {
      "cell_type": "markdown",
      "metadata": {
        "id": "KxFf9BUNcxAV"
      },
      "source": [
        "\n",
        "\n",
        "\n",
        "Answer = \"A LATEX EXPRESSION THAT MARKDOWN TYPE-SETS NICELY AS A MATH EQUATION \""
      ]
    },
    {
      "cell_type": "markdown",
      "source": [
        "...FILL ME..."
      ],
      "metadata": {
        "id": "lV4sTaLOatxz"
      }
    },
    {
      "cell_type": "markdown",
      "source": [
        "__Food for thought: Can this language be implemented as a DFA?__"
      ],
      "metadata": {
        "id": "yV1HlvU3jFVr"
      }
    },
    {
      "cell_type": "markdown",
      "metadata": {
        "id": "p-yLCjKKdX4v"
      },
      "source": [
        "## Question 2:"
      ]
    },
    {
      "cell_type": "markdown",
      "metadata": {
        "id": "atTk-v-EkDY2"
      },
      "source": [
        "###Part a: \n",
        " DFA construction"
      ]
    },
    {
      "cell_type": "markdown",
      "metadata": {
        "id": "pTPlSX1Xeu2_"
      },
      "source": [
        "Using Jove's markdown, define a DFA for the language $L$ of strings over alphabet $\\{0,1\\}$, where\n",
        "\n",
        "$L$ = $ ( \\;\\;  \\overline{ \\{0,1\\}^* \\{010\\}\\{0,1\\}^* }  \\; \\{010\\} \\; \\overline{ \\{0,1\\}^*\\{010\\}\\{0,1\\}^*} \\;\\;   \\{010\\}  \\;\\;  )^*$\n",
        "\n",
        " \n",
        "$L$ consists of \n",
        "\n",
        "* an __arbitrary string not containing a 010__, \n",
        "* then a 010 \n",
        "* then another __arbitrary string not containing a 010__\n",
        "* then 010\n",
        "\n",
        "all repeated zero or more times.\n",
        "\n",
        "It is best to write out some stringsin $L$ before you finish the DFA.\n",
        "\n",
        "* You must THOROUGHLY document your construction. See how to do this, as described in 00_Overview_Of_CS3100 where we also give you codes that help you test DFA.\n",
        "\n",
        "Call this DFA by the name \"Even010\"."
      ]
    },
    {
      "cell_type": "code",
      "execution_count": null,
      "metadata": {
        "id": "wFevIiOMewRD"
      },
      "outputs": [],
      "source": [
        "Even010 = md2mc('''\n",
        "DFA \n",
        "\n",
        "!! Put comments describing overall plan here. Look at 00_Overview_Of_CS3100 for commenting conventions\n",
        "\n",
        "!!  \n",
        " \n",
        "!! ... After key lines of the DFA, put short comments specific to the line ...\n",
        "!! ... Also, group lines for each state in nice bunches ...\n",
        " \n",
        "starting  : 0 -> somestate !! Line-level comments required for all important lines!\n",
        " \n",
        " \n",
        " \n",
        "''')"
      ]
    },
    {
      "cell_type": "code",
      "execution_count": null,
      "metadata": {
        "id": "nUj_VMZgey7f"
      },
      "outputs": [],
      "source": [
        "dotObj_dfa(Even010, FuseEdges=True)"
      ]
    },
    {
      "cell_type": "markdown",
      "metadata": {
        "id": "tRUp06iNmIbX"
      },
      "source": [
        "###Part b: \n",
        " DFA animation: Animate the DFA you just built using the lists MustPassListOf5 and MustFailListOf5 defined below. Feed these one by one and run an animation. Leave the last frame of the animation, intact, so that we can grade easily.\n",
        "\n",
        " A common requirement for these random animations is to make them consist of strings of length at least 10 in both the \"MustPass\" and \"MustFail\" lists. \n",
        " \n",
        "__Why make them this long?__ The idea is to cover some tests beyond what Part-C might cover. (It is unlikely that Part-C will hit this length group, so you are trying to be very sure!)"
      ]
    },
    {
      "cell_type": "code",
      "source": [
        "from jove.AnimateDFA import *\n",
        "help(AnimateDFA)"
      ],
      "metadata": {
        "id": "6gGpFQ04pbKi"
      },
      "execution_count": null,
      "outputs": []
    },
    {
      "cell_type": "markdown",
      "source": [
        "Note that each Animation must be done in a separate cell. The import can be in the first such cell.\n",
        "\n",
        "Then for each animation, have\n",
        "- AnimateDFA(...)\n",
        "- display(...)\n",
        "\n",
        "Repeat this cell for each animation so that you can leave the final screen intact."
      ],
      "metadata": {
        "id": "Dhb1vU8qw3P-"
      }
    },
    {
      "cell_type": "code",
      "source": [
        "from jove.AnimateDFA import *\n",
        "AnimateDFA(Even010, FuseEdges=False)\n",
        "\n",
        "##--- ***** 100% IMPORTANT : in any animation code cell, you must execute this as the last command - a Colab bug workaround **** ---##\n",
        "display(HTML('<link rel=\"stylesheet\" href=\"//stackpath.bootstrapcdn.com/font-awesome/4.7.0/css/font-awesome.min.css\"/>'))"
      ],
      "metadata": {
        "id": "_ECGm0u3pYPZ"
      },
      "execution_count": null,
      "outputs": []
    },
    {
      "cell_type": "code",
      "source": [
        "MustPassListOf5 = [...] # define this\n",
        "\n",
        "#-- Now, perform an animation for these 5 tests, leaving the final animation frame intact for grading.\n",
        "#-- You must make the AnimateDFA call again and again, feeding a string from the above list, and leave the final result ready to view/grade\n",
        "#--- In all animation code-cells, include the above \"display\" line\n",
        "#--- Write down five acceptance tests in your own way, involving test strings of length at least 10.\n",
        "\n",
        "MustFailListOf5 = [...] # define this\n",
        "\n",
        "#-- Now, perform an animation for these 5 tests, leaving the final animation frame intact for grading.\n",
        "#-- You must make the AnimateDFA call again and again, feeding a string from the above list, and leave the final result ready to view/grade\n",
        "#--- In all animation code-cells, include the above \"display\" line\n",
        "#--- Write down five rejecting tests in your own way, involving test strings of length at least 10."
      ],
      "metadata": {
        "id": "eIr_wbXtmfnx"
      },
      "execution_count": null,
      "outputs": []
    },
    {
      "cell_type": "markdown",
      "metadata": {
        "id": "41LAbSa5kShR"
      },
      "source": [
        "###Part c: \n",
        " Testing the DFA systematically.\n",
        "\n",
        " __Systematic testing of any program consists of exhausting a space of small inputs first. Then you can test for some longer-length strings at random. Below, this opportunity is offered for you to practice!__"
      ]
    },
    {
      "cell_type": "code",
      "source": [
        "# Test the Even010 machine : The length of 2048 seems necessary to get far into the accepted list of strings\n",
        "\n",
        "from jove.LangDef import *\n",
        "TestStrings = [nthnumeric(i, ['0','1']) for i in range(2048)]\n",
        "\n",
        "# Now, generate a printout of all accepted strings\n",
        "\n",
        "[ (s, \"Accepted\") for s in TestStrings  if accepts_dfa(Even010, s)]\n",
        "\n"
      ],
      "metadata": {
        "id": "jeAuCKHxlMVn"
      },
      "execution_count": null,
      "outputs": []
    },
    {
      "cell_type": "markdown",
      "metadata": {
        "id": "X2tusIYEkYnw"
      },
      "source": [
        "###Part d: \n",
        "\n",
        "A few random tests of your own, and their test results, below, obtained by iterating through.\n",
        " "
      ]
    },
    {
      "cell_type": "code",
      "source": [
        "# Now, animate through the above lists of tests\n",
        "\n",
        "\n",
        "## -- defined earlier: MustPassListOf5 = [...]\n",
        "\n",
        "#-- Iterate thru the above, and get \"accept\". \n",
        "# Below, you may use the 'for' loop or the list(filter(...)) method\n",
        "\n",
        "... fill this part ...\n",
        "\n",
        "## -- defined earlier: MustFailListOf5 = [...]\n",
        "\n",
        "... fill this part ...\n",
        "\n",
        "#-- Iterate thru the above, and get \"reject\""
      ],
      "metadata": {
        "id": "DUNjICt2lieI"
      },
      "execution_count": null,
      "outputs": []
    },
    {
      "cell_type": "markdown",
      "metadata": {
        "id": "lc1br5awrXoB"
      },
      "source": [
        "###Part e: \n",
        "\n",
        "Comparison of testing methods and a few bullets of notes\n",
        " "
      ]
    },
    {
      "cell_type": "markdown",
      "source": [
        "In For_CS3100_Fall2022/00_Overview_Of_CS3100/Overview_Of_CS3100.ipynb, two other testing methods were introduced. Compare against the testing method offered to you  in Part C. Make observations on the stylistic differences of the code, and the way the test outcomes are shown.\n",
        "\n",
        "* ...\n",
        "* ...\n",
        "* ...\n",
        "* ...\n",
        " "
      ],
      "metadata": {
        "id": "vVRKa7oOj5ls"
      }
    },
    {
      "cell_type": "markdown",
      "metadata": {
        "id": "EIz5YWXVh3bh"
      },
      "source": [
        "## Question 3:"
      ]
    },
    {
      "cell_type": "markdown",
      "metadata": {
        "id": "DFpG_TxDiDnn"
      },
      "source": [
        "Using Jove's markdown, define a DFA for the language of strings over alphabet $\\{0,1\\}$ that ends in a $010$, calling it Ends010. Then obtain the intersection of Even010 and Ends010 DFA using intersect_dfa\n",
        "\n",
        "* Use the call intersect_dfa(Even010, Ends010) (not the arguments listed the other way)"
      ]
    },
    {
      "cell_type": "markdown",
      "metadata": {
        "id": "ORaIciQVr1dM"
      },
      "source": [
        "###Part a: \n",
        "Definition of Ends010 DFA"
      ]
    },
    {
      "cell_type": "code",
      "execution_count": null,
      "metadata": {
        "id": "hGmeVbJ-jv4N"
      },
      "outputs": [],
      "source": [
        "Ends010 =  md2mc('''\n",
        "DFA\n",
        "\n",
        "!! Again, follow the commenting plans and write the \"DFA code\" in neat bunches\n",
        " \n",
        " \n",
        "''')"
      ]
    },
    {
      "cell_type": "code",
      "execution_count": null,
      "metadata": {
        "id": "NfaJEGwKjx3Q"
      },
      "outputs": [],
      "source": [
        "# Let's see the \"Ends010\" machine\n",
        "dotObj_dfa(Ends010, FuseEdges=True)"
      ]
    },
    {
      "cell_type": "markdown",
      "metadata": {
        "id": "BT2DDD6lr8ym"
      },
      "source": [
        "###Part b: \n",
        "Computing the intersection with Even010"
      ]
    },
    {
      "cell_type": "markdown",
      "metadata": {
        "id": "vBBic_Luefyn"
      },
      "source": [
        "Now, obtain the intersection of Even010 (the DFA obtained in Question 2) and Ends010 using the function *intersect_dfa*. Obtain a description of this algorithm first."
      ]
    },
    {
      "cell_type": "code",
      "execution_count": null,
      "metadata": {
        "id": "-wPCk85IkBkS"
      },
      "outputs": [],
      "source": [
        "# Use this method to get the intersection of the two DFAs\n",
        "help(intersect_dfa)"
      ]
    },
    {
      "cell_type": "markdown",
      "metadata": {
        "id": "xPL6Grvrefyo"
      },
      "source": [
        "Now, go ahead and obtain the intersection"
      ]
    },
    {
      "cell_type": "code",
      "execution_count": null,
      "metadata": {
        "id": "mxI6vihJefyo"
      },
      "outputs": [],
      "source": [
        "# FEED Even010 as the first argument and Ends010 as the second argument\n",
        "\n",
        "#? Even010_Ends010 = ...obtain the intersection asked ... \n",
        "#!\n",
        "\n",
        "Even010_Ends010 = ...\n",
        "\n",
        "dotObj_dfa(Even010_Ends010) # Let's look at the resulting DFA"
      ]
    },
    {
      "cell_type": "markdown",
      "metadata": {
        "id": "5pgoc6sfsENd"
      },
      "source": [
        "###Part c: \n",
        "Minimizing the intersection"
      ]
    },
    {
      "cell_type": "markdown",
      "metadata": {
        "id": "PO_nCWofefyo"
      },
      "source": [
        "Now, minimize the intersection machine using another Jove function called *min_dfa*. Obtain its documentation first. "
      ]
    },
    {
      "cell_type": "code",
      "execution_count": null,
      "metadata": {
        "id": "tTFHSPo2efyo"
      },
      "outputs": [],
      "source": [
        "help(min_dfa)"
      ]
    },
    {
      "cell_type": "markdown",
      "metadata": {
        "id": "nHphGthFefyp"
      },
      "source": [
        "Now minimize Even010_Ends010, calling it min_Even010_Ends010 and look at the DFA also"
      ]
    },
    {
      "cell_type": "code",
      "execution_count": null,
      "metadata": {
        "id": "YfYJHt4kefyp"
      },
      "outputs": [],
      "source": [
        "#? min_Even010_Ends010 =  ... # ... Use min_dfa - help(min_dfa) for guidance ...\n",
        "\n",
        "min_Even010_Ends010 = ...\n",
        "\n",
        "dotObj_dfa(min_Even010_Ends010)"
      ]
    },
    {
      "cell_type": "markdown",
      "metadata": {
        "id": "jxaGha97efyp"
      },
      "source": [
        "This is the end of this question. You'll be analyzing min_Even010_Ends010 in the following question."
      ]
    },
    {
      "cell_type": "markdown",
      "metadata": {
        "id": "EUqUhge-kM4A"
      },
      "source": [
        "## Question 4:"
      ]
    },
    {
      "cell_type": "markdown",
      "metadata": {
        "id": "pTh3xAdTlDlX"
      },
      "source": [
        "Find out which states were eliminated in the Minimization Process. Explain why it was OK to leave these states out. Test the constructed machine using the template given to you. Finally use the Python \"filter\" function that filters out the accepted strings. These are broken down into steps __a__ through __f__, below."
      ]
    },
    {
      "cell_type": "markdown",
      "metadata": {
        "id": "GbC9BfoHlI9h"
      },
      "source": [
        "### Step a: Write Python code to find out which states were eliminated:"
      ]
    },
    {
      "cell_type": "code",
      "source": [
        "Original = Even010_Ends010[\"Q\"]"
      ],
      "metadata": {
        "id": "IYPtBRk4PWaR"
      },
      "execution_count": null,
      "outputs": []
    },
    {
      "cell_type": "code",
      "source": [
        "Minimized = ..."
      ],
      "metadata": {
        "id": "xlhpjLO1q9Ew"
      },
      "execution_count": null,
      "outputs": []
    },
    {
      "cell_type": "code",
      "source": [
        "# Write an expression for the states missed\n",
        "Original - Minimized"
      ],
      "metadata": {
        "id": "JBg2SYIvsYsE"
      },
      "execution_count": null,
      "outputs": []
    },
    {
      "cell_type": "markdown",
      "metadata": {
        "id": "a8fbUtbzlMf-"
      },
      "source": [
        "Hint: You can obtain the components of a DFA D by using the notation D[\"Q\"] where\n",
        "\n",
        "D is a DFA created using the md2mc command. Basically, \"D\" is a dictionary and D[\"Q\"] obtains the value of the key at \"Q\". \n",
        "\n",
        "Just try running a cell containing Even010_Ends010[\"Q\"] \n",
        "and you will see the states of this DFA being listed. Then you\n",
        "can do this for min_Even010_Ends010 also"
      ]
    },
    {
      "cell_type": "markdown",
      "metadata": {
        "id": "VCr5BDfulhiV"
      },
      "source": [
        "### Step b: Explain why it is OK to leave these states out. \n",
        "\n",
        "Here is how you must form your answer in the \"Answer\"\" field below that you must submit:\n",
        "\n",
        "* **Pick the first state**  in \"Original - Minimized\" (call it  __S1__). This is the first state in Even010_Ends010 that is found missing in min_Even010_Ends010.  **Depending on how Python hashes, this first state may vary run-to-run. That is OK. Settle on one! **\n",
        "\n",
        "* Now you want to argue that min_Even010_Ends010 is still correct. Proceed as follows.\n",
        "\n",
        "* Find the shortest string, w,  in numeric order that reached __S1__ in Even010_Ends010\n",
        "\n",
        "* Find the state that the same string w reaches in min_Even010_Ends010. Call that __S2__\n",
        "\n",
        "* Since the DFA was correctly minimized, it must be the case that __S1__ and __S2__ are equivalent. Let us spot-check that this state equivalence holds.\n",
        "\n",
        "* Note down the states that  __S1__ reaches on a $0$ and a $1$, respectively. Call those states __S10__ and __S11__ .\n",
        "\n",
        "* Note down the states that  __S2__ reaches on a $0$ and a $1$, respectively. Call those states __S20__ and __S21__ .\n",
        "\n",
        "* It must be the case that __S10__ is accepting iff __S20__ is accepting. \n",
        "\n",
        "* Likewise, __S11__ is accepting iff __S21__ is accepting."
      ]
    },
    {
      "cell_type": "markdown",
      "metadata": {
        "id": "TWSgWzxDlrU7"
      },
      "source": [
        "**Answer:**  Answer by editing these lines as per your machine:\n",
        "\n",
        "* I find that state S1 is in Even010_Ends010 but is missing in min_Even010_Ends010 (edit as necessary to put in the __actual__ state name that is found in the former but missing in the latter state.)\n",
        "\n",
        "* I find that the shortest string, w, reaching S1 is w: (edit-in the actual string, in place of string w)\n",
        "\n",
        "* Now I find that the same w reaches state S2 in min_Even010_Ends010 : (edit-in the actual state name in place of S2)\n",
        "\n",
        "* Now upon 0, S1 goes to state S10 while S2 goes to S20, and they are both accepting/non-accepting:  (edit-in the actual states S10 and S20, and indicate whether they are both accepting---or they are both non-accepting)\n",
        "\n",
        "* Upon a 1, S1 goes to S11 while S21 goes to S21 and they are both accepting/non-accepting:  (edit-in the actual states S11 and S21, and indicate whether they are both accepting---or they are both non-accepting)\n",
        "\n",
        "* Thus I have spot-checked that the minimized machine is correctly produced.\n",
        "\n"
      ]
    },
    {
      "cell_type": "markdown",
      "source": [],
      "metadata": {
        "id": "Znnp3fxYttki"
      }
    },
    {
      "cell_type": "markdown",
      "metadata": {
        "id": "f2-TQO36qw8M"
      },
      "source": [
        "# END"
      ]
    }
  ],
  "metadata": {
    "colab": {
      "provenance": [],
      "collapsed_sections": []
    },
    "kernelspec": {
      "display_name": "Python 3",
      "language": "python",
      "name": "python3"
    },
    "language_info": {
      "codemirror_mode": {
        "name": "ipython",
        "version": 3
      },
      "file_extension": ".py",
      "mimetype": "text/x-python",
      "name": "python",
      "nbconvert_exporter": "python",
      "pygments_lexer": "ipython3",
      "version": "3.8.5"
    }
  },
  "nbformat": 4,
  "nbformat_minor": 0
}