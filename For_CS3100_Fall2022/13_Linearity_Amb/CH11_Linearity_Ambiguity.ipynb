{
 "cells": [
  {
   "cell_type": "markdown",
   "metadata": {
    "run_control": {
     "frozen": false,
     "read_only": false
    }
   },
   "source": [
    " # This notebook will cover \n",
    " \n",
    " ## 1) Linear grammars, illustrated by defining a fresh NFA and converting it into a CFG, and simulating it via a PDA\n",
    " \n",
    " ## 2) Ambiguity and inherent ambiguity, again illustrated via a PDA that encodes such a language\n",
    " \n",
    " # These exercises will be featured in the Quiz-7"
   ]
  },
  {
   "cell_type": "code",
   "execution_count": null,
   "metadata": {
    "run_control": {
     "frozen": false,
     "read_only": false
    }
   },
   "outputs": [],
   "source": [
    "#~~~~~~~~~~~~~~~~~~~~~~~~~~~~~~~~~~~~~~~~~~~~~~~~~~~~~~~\n",
    "import sys\n",
    "\n",
    "# -- Detect if in Own Install or in Colab\n",
    "try:\n",
    "    import google.colab\n",
    "    OWN_INSTALL = False\n",
    "except:\n",
    "    OWN_INSTALL = True\n",
    "    \n",
    "if OWN_INSTALL:\n",
    "    \n",
    "  #---- Leave these definitions ON if running on laptop\n",
    "  #---- Else turn OFF by putting them between ''' ... '''\n",
    "\n",
    "  sys.path[0:0] = ['../../../../..',  '../../../../../3rdparty',  \n",
    "                   '../../../..',  '../../../../3rdparty',  \n",
    "                   '../../..',     '../../../3rdparty', \n",
    "                   '../..',        '../../3rdparty',\n",
    "                   '..',           '../3rdparty' ]\n",
    "\n",
    "else: # In colab\n",
    "  ! if [ ! -d Jove ]; then git clone https://github.com/ganeshutah/Jove Jove; fi\n",
    "  sys.path.append('./Jove')\n",
    "  sys.path.append('./Jove/jove')\n",
    "\n",
    "# -- common imports --\n",
    "\n",
    "from jove.SystemImports import *\n",
    "from jove.DotBashers    import *\n",
    "\n",
    "from jove.Def_NFA       import *\n",
    "from jove.Def_DFA       import *\n",
    "from jove.Def_RE2NFA    import *\n",
    "\n",
    "from jove.Def_md2mc     import *\n",
    "from jove.Def_PDA       import *\n",
    "from jove.AnimatePDA    import *\n",
    "#~~~~~~~~~~~~~~~~~~~~~~~~~~~~~~~~~~~~~~~~~~~~~~~~~~~~~~~"
   ]
  },
  {
   "cell_type": "markdown",
   "metadata": {},
   "source": [
    "# A CFG with purely right-linear productions is equivalent to an NFA\n",
    "\n",
    "### Let us illustrate this by converting an NFA to a CFG that has a linear grammar. To make things more interesting, we pick a slight variant of a language seen before: ``IF there is a second-last position THEN that must be a 1``\n",
    "\n",
    "## For practice, I'll let you write a compact RE for it below; I'll just provide the NFA"
   ]
  },
  {
   "cell_type": "code",
   "execution_count": null,
   "metadata": {},
   "outputs": [],
   "source": [
    "nfa_if_sndlast_then_1 = md2mc('''\n",
    "NFA\n",
    "!! Read the name of the NFA as\n",
    "!! \"IF there is a second-last position THEN that must be a 1\"\n",
    " \n",
    "IF : 0|1    -> F1\n",
    "IF : ''     -> T\n",
    "T  : 1      -> T1\n",
    "T  : 0|1    -> T\n",
    "T1 : 0|1    -> F2\n",
    "''')\n",
    "\n",
    "dotObj_nfa(nfa_if_sndlast_then_1, FuseEdges=True)"
   ]
  },
  {
   "cell_type": "code",
   "execution_count": null,
   "metadata": {},
   "outputs": [],
   "source": [
    "dfa_if_sndlast_then_1 = min_dfa(nfa2dfa(nfa_if_sndlast_then_1))\n",
    "dotObj_dfa(dfa_if_sndlast_then_1, FuseEdges=True)"
   ]
  },
  {
   "cell_type": "markdown",
   "metadata": {},
   "source": [
    " # Write an RE and make sure that agrees!\n",
    " \n",
    " # **GIVEN TO YOU FOR EXTRA PRACTICE WRITING RE**\n",
    " \n",
    " ## Will be a quiz question"
   ]
  },
  {
   "cell_type": "code",
   "execution_count": null,
   "metadata": {},
   "outputs": [],
   "source": [
    "# Let's be absolutely sure we got the right DFA\n",
    "\n",
    "RE_for_this_nfa = \" ... YOUR RE HERE ... \"   # <<====== WRITE THIS RE !!!!\n",
    "\n",
    "dfaRE_if_sndlast_then_1 = min_dfa(nfa2dfa(re2nfa(RE_for_this_nfa)))\n",
    "dotObj_dfa(dfaRE_if_sndlast_then_1, FuseEdges=True)"
   ]
  },
  {
   "cell_type": "code",
   "execution_count": null,
   "metadata": {},
   "outputs": [],
   "source": [
    "iso_dfa(dfa_if_sndlast_then_1, dfaRE_if_sndlast_then_1)"
   ]
  },
  {
   "cell_type": "markdown",
   "metadata": {},
   "source": [
    "## Repeat the NFA to be \"closer\" to the CFG/PDA"
   ]
  },
  {
   "cell_type": "code",
   "execution_count": null,
   "metadata": {},
   "outputs": [],
   "source": [
    "nfa_if_sndlast_then_1 = md2mc('''\n",
    "NFA\n",
    "!! Read the name of the NFA as\n",
    "!! \"IF there is a second-last position THEN that must be a 1\"\n",
    "\n",
    "IF : 0|1    -> F1\n",
    "IF : ''     -> T\n",
    "T  : 1      -> T1\n",
    "T  : 0|1    -> T\n",
    "T1 : 0|1    -> F2\n",
    "''')\n",
    " \n",
    "dotObj_nfa(nfa_if_sndlast_then_1, FuseEdges=True)"
   ]
  },
  {
   "cell_type": "markdown",
   "metadata": {},
   "source": [
    "# Let's obtain a CFG directly from nfa_if_sndlast_then_1 and render as a PDA\n",
    "\n",
    "## NOTE: I've not asked you many specific questions with respect to this NFA to PDA conversion. However, you are urged to study exactly how this conversion is done (and not just run the cells w/o observing things). This may be asked during Midterm-2. By studying these details now, you'll be saving time during Midterm-2."
   ]
  },
  {
   "cell_type": "code",
   "execution_count": null,
   "metadata": {},
   "outputs": [],
   "source": [
    "pda_if_sndlast_then_1 = md2mc('''\n",
    "PDA\n",
    "\n",
    "!! WE NOW DERIVE THE LINEAR GRAMMAR\n",
    "!! ============================================================================\n",
    "!! First we will convert directly, by taking NFA states to be nonterminal names\n",
    "!! Then we will convert it over to one-letter nonterminals \n",
    "\n",
    "!! IF -> ''           -- because \"IF\" is an initial and final\n",
    "!! IF -> 1 F1 | 0 F1  -- because IF jumps to F1 upon 0 or 1\n",
    "!! F1 -> ''           -- because F1 is also a final\n",
    "\n",
    "!! IF ->  T           -- because of IF jumping to T upon ''\n",
    "!! T  -> 0 T | 1 T    -- because of T's self-loop\n",
    "\n",
    "!! T  -> 1 T1         -- because of T's transition to T1\n",
    "\n",
    "!! T1 -> 0 F2 | 1 F2  -- because of T1's transitions\n",
    "\n",
    "!! F2 -> ''           -- because F2 is final\n",
    "\n",
    "!! =============================================================================\n",
    "\n",
    "!! REMEMBER THAT JOVE's grammar simulation via PDA needs one-letter non-terminals\n",
    "!! IF => S ; F1 => F ; F2 -> G ; T => T ; T1 => U\n",
    "!! So we apply these renamings to obtain the grammar below:\n",
    "\n",
    "!! S -> ''            \n",
    "!! S -> 1 F | 0 F    \n",
    "!! F -> ''            \n",
    "\n",
    "!! S ->  T          \n",
    "!! T  -> 0 T | 1 T     \n",
    "\n",
    "!! T  -> 1 U\n",
    "\n",
    "!! U -> 0 G | 1 G   \n",
    "\n",
    "!! G -> ''            \n",
    " \n",
    "!! =============================================================================\n",
    "!! Now a PDA based on the above\n",
    "\n",
    "!!-- standard transitions!\n",
    "I : '',#; S# -> W\n",
    "W : '',#; #  -> F\n",
    "!!-- Sigma-based transitions\n",
    "W : 0,0; '' -> W\n",
    "W : 1,1; '' -> W\n",
    "\n",
    "!!==== Now, CFG rules translated below to PDA rules, one by one ====\n",
    "\n",
    "!! S -> ''  \n",
    "W : '',S; '' -> W\n",
    "\n",
    "!! S -> 1 F \n",
    "W : '',S ; 1F -> W\n",
    "\n",
    "!! S -> 0 F\n",
    "W : '',S ; 0F -> W\n",
    "\n",
    "!! F -> ''         \n",
    "W : '',F; '' -> W\n",
    "\n",
    "!! S  -> T      \n",
    "W : '',S; T  -> W\n",
    "\n",
    "!! T  -> 0 T   \n",
    "W : '',T; 0T -> W\n",
    "\n",
    "!! T  -> 1 T\n",
    "W : '',T; 1T -> W\n",
    "\n",
    "!! T  -> 1 U\n",
    "W : '',T; 1U -> W\n",
    "\n",
    "!! U -> 0 G \n",
    "W : '',U; 0G -> W\n",
    "\n",
    "!! U -> 1 G   \n",
    "W : '',U; 1G -> W\n",
    "\n",
    "!! G -> ''  \n",
    "W : '',G; '' -> W\n",
    " \n",
    "\n",
    "''')\n",
    "\n",
    "dotObj_pda(pda_if_sndlast_then_1, FuseEdges=True)"
   ]
  },
  {
   "cell_type": "code",
   "execution_count": null,
   "metadata": {},
   "outputs": [],
   "source": [
    "help(explore_pda)"
   ]
  },
  {
   "cell_type": "code",
   "execution_count": null,
   "metadata": {},
   "outputs": [],
   "source": [
    "explore_pda('', pda_if_sndlast_then_1)"
   ]
  },
  {
   "cell_type": "code",
   "execution_count": null,
   "metadata": {},
   "outputs": [],
   "source": [
    "explore_pda('0', pda_if_sndlast_then_1)"
   ]
  },
  {
   "cell_type": "code",
   "execution_count": null,
   "metadata": {},
   "outputs": [],
   "source": [
    "explore_pda('1', pda_if_sndlast_then_1)"
   ]
  },
  {
   "cell_type": "code",
   "execution_count": null,
   "metadata": {},
   "outputs": [],
   "source": [
    "explore_pda('10', pda_if_sndlast_then_1)"
   ]
  },
  {
   "cell_type": "code",
   "execution_count": null,
   "metadata": {},
   "outputs": [],
   "source": [
    "explore_pda('01', pda_if_sndlast_then_1)"
   ]
  },
  {
   "cell_type": "code",
   "execution_count": null,
   "metadata": {},
   "outputs": [],
   "source": []
  },
  {
   "cell_type": "code",
   "execution_count": null,
   "metadata": {},
   "outputs": [],
   "source": [
    "explore_pda('1001010', pda_if_sndlast_then_1)"
   ]
  },
  {
   "cell_type": "code",
   "execution_count": null,
   "metadata": {},
   "outputs": [],
   "source": [
    "explore_pda('100100', pda_if_sndlast_then_1)"
   ]
  },
  {
   "cell_type": "code",
   "execution_count": null,
   "metadata": {},
   "outputs": [],
   "source": [
    "AnimatePDA(pda_if_sndlast_then_1, FuseEdges=True)\n",
    "display(HTML('<link rel=\"stylesheet\" href=\"//stackpath.bootstrapcdn.com/font-awesome/4.7.0/css/font-awesome.min.css\"/>'))"
   ]
  },
  {
   "cell_type": "markdown",
   "metadata": {},
   "source": [
    "# Reverse the CFG to obtain a purely left-linear grammar\n",
    "## Then express the CFG as a PDA\n",
    "\n",
    "## NOTE: I've not asked you many specific questions with respect to reversing this CFG and obtaining a purely left-linear grammar. However, you are urged to study exactly how this conversion is done (and not just run the cells w/o observing things). This may be asked during Midterm-2. By studying these details now, you'll be saving time during Midterm-2."
   ]
  },
  {
   "cell_type": "code",
   "execution_count": null,
   "metadata": {},
   "outputs": [],
   "source": [
    "pda_rev = md2mc('''\n",
    "\n",
    "PDA     \n",
    "\n",
    "!! =============================================================================\n",
    "!! We will reverse production-by-production, keeping the same name for the nonterminals!\n",
    "\n",
    "I : '',#; S# -> W\n",
    "W : '',#; #  -> F\n",
    "\n",
    "!!-- Sigma-based transitions\n",
    "W : 0,0; '' -> W\n",
    "W : 1,1; '' -> W\n",
    "\n",
    "!!==== Now, CFG rules for reversed productions ====\n",
    "\n",
    "!! S -> ''  \n",
    "W : '',S; '' -> W\n",
    "\n",
    "!! S -> 1 F ===REVERSED===> S -> F 1\n",
    "W : '',S ; F1 -> W\n",
    "\n",
    "!! S -> 0 F ===REVERSED===> S -> F 0\n",
    "W : '',S ; F0 -> W\n",
    "\n",
    "!! F -> '' ===REVERSED===> F -> ''        \n",
    "W : '',F; '' -> W\n",
    "\n",
    "!! S  -> T ===REVERSED===> S -> T   \n",
    "W : '',S; T  -> W\n",
    "\n",
    "!! T  -> 0 T ===REVERSED===> T -> T 0  \n",
    "W : '',T; T0 -> W\n",
    " \n",
    "!! T  -> 1 T ===REVERSED===> T -> T 1\n",
    "W : '',T; T1 -> W\n",
    "\n",
    "!! T  -> 1 U ===REVERSED===> T -> U 1\n",
    "W : '',T; U1 -> W\n",
    "\n",
    "!! U -> 0 G ===REVERSED===> U -> G 0\n",
    "W : '',U; G0 -> W\n",
    "\n",
    "!! U -> 1 G ===REVERSED===> U -> G 1   \n",
    "W : '',U; G1 -> W\n",
    "\n",
    "!! G -> ''  ===REVERSED===> G -> ''\n",
    "W : '',G; '' -> W\n",
    " \n",
    "\n",
    "''')\n",
    "\n",
    "dotObj_pda(pda_rev, FuseEdges=True)"
   ]
  },
  {
   "cell_type": "code",
   "execution_count": null,
   "metadata": {},
   "outputs": [],
   "source": [
    "explore_pda('', pda_rev)"
   ]
  },
  {
   "cell_type": "code",
   "execution_count": null,
   "metadata": {},
   "outputs": [],
   "source": [
    "explore_pda('0', pda_rev)"
   ]
  },
  {
   "cell_type": "code",
   "execution_count": null,
   "metadata": {},
   "outputs": [],
   "source": [
    "explore_pda('1', pda_rev)"
   ]
  },
  {
   "cell_type": "markdown",
   "metadata": {},
   "source": [
    "# Reversed PDA works but needs STKMAX = 9"
   ]
  },
  {
   "cell_type": "code",
   "execution_count": null,
   "metadata": {
    "scrolled": true
   },
   "outputs": [],
   "source": [
    "# REVERSE THIS TEST:  explore_pda('1001010', pda_if_sndlast_then_1)\n",
    "\n",
    "explore_pda('0101001', pda_rev, STKMAX=9)"
   ]
  },
  {
   "cell_type": "markdown",
   "metadata": {},
   "source": [
    "# Rejects up to stack depth of 12"
   ]
  },
  {
   "cell_type": "code",
   "execution_count": null,
   "metadata": {},
   "outputs": [],
   "source": [
    "# REVERSE THIS TEST:  explore_pda('1001000', pda_if_sndlast_then_1)\n",
    "\n",
    "explore_pda('0001001', pda_rev, STKMAX=12)"
   ]
  },
  {
   "cell_type": "code",
   "execution_count": null,
   "metadata": {},
   "outputs": [],
   "source": [
    "AnimatePDA(pda_rev, FuseEdges=True)\n",
    "display(HTML('<link rel=\"stylesheet\" href=\"//stackpath.bootstrapcdn.com/font-awesome/4.7.0/css/font-awesome.min.css\"/>'))"
   ]
  },
  {
   "cell_type": "markdown",
   "metadata": {},
   "source": [
    "# Now for an inherently ambiguous language\n",
    "\n",
    "## $\\{ a^i b^j c^k \\; : \\; (i=j)\\; \\vee \\; (j=k) \\}$\n",
    "\n",
    "## No CFG can avoid ambiguity! \n",
    "\n",
    "## Let's try a CFG just for illustration\n",
    "\n",
    "## NOTE: I've not asked you many specific questions with respect to encoding this language using a CFG. But again, you are urged to study it well (and not just run the cells w/o observing things), to save time for Midterm-2."
   ]
  },
  {
   "cell_type": "code",
   "execution_count": null,
   "metadata": {
    "run_control": {
     "frozen": false,
     "read_only": false
    }
   },
   "outputs": [],
   "source": [
    "pda_inh_amb = md2mc('''PDA\n",
    "\n",
    "!!---\n",
    "!! \n",
    "!!   where M is \"match a/b\" and N is \"match b/c\"\n",
    "!!   and C means any number of Cs, and A means any number of As\n",
    "!!\n",
    "!! S -> M C |  A N    \n",
    "!!\n",
    "!! M -> a M b | ''\n",
    "!! C -> c C   | ''\n",
    "\n",
    "!! N -> b N c | ''\n",
    "!! A -> a A   | ''\n",
    "!!\n",
    "!!---\n",
    "\n",
    "!!-- Transitions for the CFG rules\n",
    "\n",
    "\n",
    "!! S -> M C |  A N \n",
    "\n",
    "W : '',S; MC -> W\n",
    "W : '',S; AN -> W\n",
    "\n",
    "\n",
    "!! M -> a M b | ''\n",
    "W : '',M; aMb -> W\n",
    "W : '',M; ''  -> W\n",
    "\n",
    "\n",
    "!! C -> c C   | ''\n",
    "W : '',C; cC  -> W\n",
    "W : '',C; ''  -> W\n",
    "\n",
    "!! N -> b N C | ''\n",
    "W : '',N; bNc -> W\n",
    "W : '',N; ''  -> W\n",
    "\n",
    "!! A -> a A   | ''\n",
    "W : '',A; aA  -> W\n",
    "W : '',A; ''  -> W\n",
    "\n",
    "\n",
    "!!-- Standard transitions for CFG 2 PDA\n",
    "I : '',#; S# -> W\n",
    "W : '',#; #  -> F\n",
    "\n",
    "!!-- Transitions for Sigma\n",
    "W : a,a; '' -> W\n",
    "W : b,b; '' -> W\n",
    "W : c,c; '' -> W\n",
    "\n",
    " \n",
    "\n",
    "\n",
    "''')\n",
    "\n",
    "DO_pda_inh_amb = dotObj_pda(pda_inh_amb, FuseEdges=True)\n",
    "DO_pda_inh_amb"
   ]
  },
  {
   "cell_type": "code",
   "execution_count": null,
   "metadata": {},
   "outputs": [],
   "source": [
    "explore_pda('abc', pda_inh_amb)"
   ]
  },
  {
   "cell_type": "code",
   "execution_count": null,
   "metadata": {},
   "outputs": [],
   "source": [
    "AnimatePDA(pda_inh_amb, FuseEdges=True)\n",
    "display(HTML('<link rel=\"stylesheet\" href=\"//stackpath.bootstrapcdn.com/font-awesome/4.7.0/css/font-awesome.min.css\"/>'))"
   ]
  },
  {
   "cell_type": "markdown",
   "metadata": {},
   "source": [
    "# A chatty parser for PDA will parse pda_inh_amb now !!\n",
    "\n",
    "## You are urged to read the code of Jove/jove/Def_md2mc_chatty carefully with respect to how the parser is designed (and not just run the cells w/o observing things). Things with respect to this CFG are game for me to ask in Midterm-2."
   ]
  },
  {
   "cell_type": "code",
   "execution_count": null,
   "metadata": {},
   "outputs": [],
   "source": [
    "from jove.Def_md2mc_chatty     import *"
   ]
  },
  {
   "cell_type": "code",
   "execution_count": null,
   "metadata": {},
   "outputs": [],
   "source": [
    "pda_inh_amb = md2mc('''PDA\n",
    "\n",
    "!!---\n",
    "!! \n",
    "!!   where M is \"match a/b\" and N is \"match b/c\"\n",
    "!!   and C means any number of Cs, and A means any number of As\n",
    "!!\n",
    "!! S -> M C |  A N    \n",
    "!!\n",
    "!! M -> a M b | ''\n",
    "!! C -> c C   | ''\n",
    "\n",
    "!! N -> b N c | ''\n",
    "!! A -> a A   | ''\n",
    "!!\n",
    "!!---\n",
    "\n",
    "!!-- Transitions for the CFG rules\n",
    "\n",
    "\n",
    "!! S -> M C |  A N \n",
    "\n",
    "W : '',S; MC -> W\n",
    "W : '',S; AN -> W\n",
    "\n",
    "\n",
    "!! M -> a M b | ''\n",
    "W : '',M; aMb -> W\n",
    "W : '',M; ''  -> W\n",
    "\n",
    "\n",
    "!! C -> c C   | ''\n",
    "W : '',C; cC  -> W\n",
    "W : '',C; ''  -> W\n",
    "\n",
    "!! N -> b N C | ''\n",
    "W : '',N; bNc -> W\n",
    "W : '',N; ''  -> W\n",
    "\n",
    "!! A -> a A   | ''\n",
    "W : '',A; aA  -> W\n",
    "W : '',A; ''  -> W\n",
    "\n",
    "\n",
    "!!-- Standard transitions for CFG 2 PDA\n",
    "I : '',#; S# -> W\n",
    "W : '',#; #  -> F\n",
    "\n",
    "!!-- Transitions for Sigma\n",
    "W : a,a; '' -> W\n",
    "W : b,b; '' -> W\n",
    "W : c,c; '' -> W\n",
    "\n",
    " \n",
    "\n",
    "\n",
    "''')\n",
    "\n",
    "DO_pda_inh_amb = dotObj_pda(pda_inh_amb, FuseEdges=True)\n",
    "DO_pda_inh_amb"
   ]
  },
  {
   "cell_type": "code",
   "execution_count": null,
   "metadata": {},
   "outputs": [],
   "source": []
  }
 ],
 "metadata": {
  "kernelspec": {
   "display_name": "Python 3",
   "language": "python",
   "name": "python3"
  },
  "language_info": {
   "codemirror_mode": {
    "name": "ipython",
    "version": 3
   },
   "file_extension": ".py",
   "mimetype": "text/x-python",
   "name": "python",
   "nbconvert_exporter": "python",
   "pygments_lexer": "ipython3",
   "version": "3.7.3"
  },
  "toc": {
   "colors": {
    "hover_highlight": "#DAA520",
    "running_highlight": "#FF0000",
    "selected_highlight": "#FFD700"
   },
   "moveMenuLeft": true,
   "nav_menu": {
    "height": "318px",
    "width": "252px"
   },
   "navigate_menu": true,
   "number_sections": true,
   "sideBar": true,
   "threshold": 4,
   "toc_cell": false,
   "toc_section_display": "block",
   "toc_window_display": false,
   "widenNotebook": false
  }
 },
 "nbformat": 4,
 "nbformat_minor": 1
}
