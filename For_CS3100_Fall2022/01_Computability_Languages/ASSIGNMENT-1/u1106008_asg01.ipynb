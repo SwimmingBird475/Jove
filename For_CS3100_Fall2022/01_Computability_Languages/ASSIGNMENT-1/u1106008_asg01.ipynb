{
  "cells": [
    {
      "cell_type": "markdown",
      "metadata": {
        "id": "gOJcNwa-9t-M"
      },
      "source": [
        "### BEFORE YOU SUBMIT THIS FILE, PLEASE RENAME THIS FILE BY REPLACING THE 0000000 IN THE FILE NAME WITH YOUR CORRECT UNID. KEEP THE \"u\" AT THE BEGINNING."
      ]
    },
    {
      "cell_type": "code",
      "execution_count": 1,
      "metadata": {
        "id": "4F8Z5eEX98j1",
        "colab": {
          "base_uri": "https://localhost:8080/"
        },
        "outputId": "2f8b12fc-31e3-4fc0-8442-0346b776456f"
      },
      "outputs": [
        {
          "output_type": "stream",
          "name": "stdout",
          "text": [
            "Cloning into 'Jove'...\n",
            "remote: Enumerating objects: 5726, done.\u001b[K\n",
            "remote: Counting objects: 100% (1092/1092), done.\u001b[K\n",
            "remote: Compressing objects: 100% (534/534), done.\u001b[K\n",
            "remote: Total 5726 (delta 594), reused 1001 (delta 508), pack-reused 4634\u001b[K\n",
            "Receiving objects: 100% (5726/5726), 8.35 MiB | 11.73 MiB/s, done.\n",
            "Resolving deltas: 100% (3599/3599), done.\n",
            "You may use any of these help commands:\n",
            "help(lphi)\n",
            "help(lunit)\n",
            "help(lcat)\n",
            "help(lexp)\n",
            "help(lunion)\n",
            "help(lstar)\n",
            "help(srev)\n",
            "help(lrev)\n",
            "help(shomo)\n",
            "help(lhomo)\n",
            "help(powset)\n",
            "help(lint)\n",
            "help(lsymdiff)\n",
            "help(lminus)\n",
            "help(lissubset)\n",
            "help(lissuperset)\n",
            "help(lcomplem)\n",
            "help(product)\n",
            "help(nthnumeric)\n",
            "\n"
          ]
        }
      ],
      "source": [
        "#~~~~~~~~~~~~~~~~~~~~~~~~~~~~~~~~~~~~~~~~~~~~~~~~~~~~~~~\n",
        "import sys\n",
        "\n",
        "# -- Detect if in Own Install or in Colab\n",
        "try:\n",
        "    import google.colab\n",
        "    OWN_INSTALL = False\n",
        "except:\n",
        "    OWN_INSTALL = True\n",
        "    \n",
        "if OWN_INSTALL:\n",
        "    \n",
        "  #---- Leave these definitions ON if running on laptop\n",
        "  #---- Else turn OFF by putting them between ''' ... '''\n",
        "\n",
        "  sys.path[0:0] = ['../../../../..',  '../../../../../3rdparty',  \n",
        "                   '../../../..',  '../../../../3rdparty',  \n",
        "                   '../../..',     '../../../3rdparty', \n",
        "                   '../..',        '../../3rdparty',\n",
        "                   '..',           '../3rdparty' ]\n",
        "\n",
        "else: # In colab\n",
        "  ! if [ ! -d Jove ]; then git clone https://github.com/ganeshutah/Jove Jove; fi\n",
        "  sys.path.append('./Jove')\n",
        "  sys.path.append('./Jove/jove')\n",
        "\n",
        "# -- common imports --\n",
        "from jove.LangDef   import *\n",
        "#~~~~~~~~~~~~~~~~~~~~~~~~~~~~~~~~~~~~~~~~~~~~~~~~~~~~~~~"
      ]
    },
    {
      "cell_type": "markdown",
      "metadata": {
        "id": "UqyylUAu-NHk"
      },
      "source": [
        "# Question 1"
      ]
    },
    {
      "cell_type": "markdown",
      "metadata": {
        "id": "9AMcC5Fu-QZE"
      },
      "source": [
        "## Part a:\n",
        "\n",
        "Define the universe $\\Sigma_4^*$ for the $\\Sigma$ given below using a function defined in Jove. (Page 28-29 Textbook)\n",
        "\n",
        "**Note:** The star function given in the Textbook is named with the letter 'L' as \"lstar\"  in Jove "
      ]
    },
    {
      "cell_type": "code",
      "execution_count": 3,
      "metadata": {
        "id": "gg7liBdM_LYu"
      },
      "outputs": [],
      "source": [
        "Sigma = {'a', 'b', 'c'}\n",
        "\n",
        "Sigma_4_Star = lstar(Sigma, 4)"
      ]
    },
    {
      "cell_type": "markdown",
      "metadata": {
        "id": "5ouTH_z4_fz0"
      },
      "source": [
        "## Part b: Given two sets:\n",
        "\n",
        "* $A = \\{a, \\varepsilon , bc\\}$\n",
        "\n",
        "* $B = \\{a, \\varepsilon, bba, ca\\}$\n",
        "\n",
        "## Illustrate DeMorgan's law with respect to these specific instructions:\n",
        "\n",
        "* Let LHS = $\\overline{(A\\cup B)}$ and RHS = $\\overline{A} \\cap \\overline{B}$. By using Jove's functions, show that $\\overline{(A\\cup B)} = \\overline{A} \\cap \\overline{B}$.\n",
        "\n",
        "**Note:** Consider the universe $\\Sigma_4^*$ from \"part a\" when taking complement."
      ]
    },
    {
      "cell_type": "code",
      "execution_count": 4,
      "metadata": {
        "colab": {
          "base_uri": "https://localhost:8080/"
        },
        "id": "wFsWz-8VEGme",
        "outputId": "12171192-8398-4a13-ae10-391c533f36ea"
      },
      "outputs": [
        {
          "output_type": "stream",
          "name": "stdout",
          "text": [
            "Help on function lcomplem in module jove.LangDef:\n",
            "\n",
            "lcomplem(L, sigma, n)\n",
            "    In : L (language : set of strings)\n",
            "         sigma (alphabet : set of strings)\n",
            "         n (finite limit for lstar : int)\n",
            "    Out : sigma*_n - L (language : set of strings)\n",
            "    Example:\n",
            "    L = {'0', '10', '010'}\n",
            "    sigma = {'0', '1'}\n",
            "    n = 3\n",
            "    lcomplem(L4,{'0','1'}, 3) -> \n",
            "    {'', '000', '101', '011', '00', '1', \n",
            "     '001', '110', '111', '100', '01', '11'}\n",
            "\n",
            "Help on function lunion in module jove.LangDef:\n",
            "\n",
            "lunion(L1, L2)\n",
            "    In : L1 (language : a set),\n",
            "         L2 (language : a set).\n",
            "    Out: L1 union L2 (language : a set).\n",
            "\n",
            "Help on function lint in module jove.LangDef:\n",
            "\n",
            "lint(L1, L2)\n",
            "    In : L1 (language : set of strings)\n",
            "         L2 (language : set of strings)\n",
            "    Out: L1 intersection L2 (sets of strings)\n",
            "\n"
          ]
        }
      ],
      "source": [
        "#The Jove functions you need:\n",
        "help(lcomplem)\n",
        "help(lunion)\n",
        "help(lint)"
      ]
    },
    {
      "cell_type": "code",
      "execution_count": 10,
      "metadata": {
        "id": "B0UawXyGEl62"
      },
      "outputs": [],
      "source": [
        "A = {'a', '' , 'bc'}\n",
        "\n",
        "B = {'a', '', 'bba', 'c'}\n",
        "\n",
        "LHS = lcomplem(lunion(A, B), Sigma, 4)\n",
        "\n",
        "RHS = lint(lcomplem(A, Sigma, 4), lcomplem(B, Sigma, 4))"
      ]
    },
    {
      "cell_type": "code",
      "execution_count": 11,
      "metadata": {
        "id": "RQqPynA6FFLl",
        "colab": {
          "base_uri": "https://localhost:8080/"
        },
        "outputId": "aacb7574-17db-478f-afe4-a1e84a6f9c10"
      },
      "outputs": [
        {
          "output_type": "execute_result",
          "data": {
            "text/plain": [
              "True"
            ]
          },
          "metadata": {},
          "execution_count": 11
        }
      ],
      "source": [
        "# Now, perform LHS == RHS in Python and check if it is true\n",
        "\n",
        "LHS == RHS"
      ]
    },
    {
      "cell_type": "markdown",
      "metadata": {
        "id": "9VwisEcEFIuE"
      },
      "source": [
        "# Question 2\n"
      ]
    },
    {
      "cell_type": "markdown",
      "metadata": {
        "id": "lNgnnBNKF8oM"
      },
      "source": [
        "**Proposition:**\n",
        "The concatenation of any two languages $L_1$ and $L_2$ has smaller size than their cartesian product if and only if the intersection of those two languages has at least 2 elements and contains $\\varepsilon$.\n",
        "(I thought this was a theorem - but a student pointed out it isn't - great.)\n",
        "(We will discuss in class how to perhaps repair it to be a theorem - not your task for this assignment.)"
      ]
    },
    {
      "cell_type": "markdown",
      "metadata": {
        "id": "fFOhZ-kSOMh8"
      },
      "source": [
        "## Part a: Define two languages L1 and L2. L1 and L2 must both contain  ε. Then, run Code Cell 01 and get the result: \"cat and product have the same size\".\n",
        "## Ignore the above proposition for now; for your assignment, just get this printout."
      ]
    },
    {
      "cell_type": "code",
      "execution_count": 16,
      "metadata": {
        "id": "VdBv80INOgz9"
      },
      "outputs": [],
      "source": [
        "#Define L1 and L2 here\n",
        "L1 = {'', 'a', 'b'}\n",
        "L2 = {'', 'd', 'c'}"
      ]
    },
    {
      "cell_type": "code",
      "execution_count": 17,
      "metadata": {
        "id": "l6kOK6kcPhHd",
        "colab": {
          "base_uri": "https://localhost:8080/"
        },
        "outputId": "4444a56f-254c-42a4-f539-993beb7d9ca9"
      },
      "outputs": [
        {
          "output_type": "stream",
          "name": "stdout",
          "text": [
            "Cat of L1 and L2 is {'', 'a', 'bd', 'c', 'ac', 'bc', 'd', 'b', 'ad'}  of size  9\n",
            "Intersection of L1 and L2 is {''}  of size  1\n",
            "Product of L1 and L2 is {('', ''), ('b', ''), ('', 'd'), ('a', 'd'), ('b', 'c'), ('a', 'c'), ('a', ''), ('', 'c'), ('b', 'd')}  of size  9\n",
            " cat and product have the same size \n"
          ]
        }
      ],
      "source": [
        "#Code Cell 01\n",
        "catL1L2 = lcat(L1,L2)\n",
        "lencatL1L2 = len(catL1L2)\n",
        "print(\"Cat of L1 and L2 is\", catL1L2, \" of size \", lencatL1L2)\n",
        "\n",
        "\n",
        "# Perform L1 and L2 intersection\n",
        "intL1L2 = lint(L1,L2)\n",
        "lenintL1L2 = len(intL1L2)\n",
        "print(\"Intersection of L1 and L2 is\", intL1L2, \" of size \", lenintL1L2)\n",
        "\n",
        "# Define the product of L1 and L2\n",
        "prodL1L2 = { (x,y) for x in L1 for y in L2 }\n",
        "lenprodL1L2 = len(prodL1L2)\n",
        "print(\"Product of L1 and L2 is\", prodL1L2, \" of size \", lenprodL1L2)\n",
        "\n",
        "if (lenprodL1L2 != lencatL1L2):\n",
        "    print(\" cat and product differ in size \")\n",
        "else:\n",
        "    print(\" cat and product have the same size \")"
      ]
    },
    {
      "cell_type": "markdown",
      "metadata": {
        "id": "LFA6OH1dQW88"
      },
      "source": [
        "## Part b: Re-define L1 and L2. L1 and L2 must both contain  ε. Then, run Code Cell 02 so that the result = \"cat and product differ in size\".\n",
        "## Again, ignore the above proposition; for your assignment, just get this printout."
      ]
    },
    {
      "cell_type": "code",
      "execution_count": 18,
      "metadata": {
        "id": "JE69DJsyQoMz"
      },
      "outputs": [],
      "source": [
        "#Re-define L1 and L2 here\n",
        "L1 = {'', 'a', 'b'}\n",
        "L2 = {'', 'b', 'c'}"
      ]
    },
    {
      "cell_type": "code",
      "execution_count": 19,
      "metadata": {
        "id": "pr9-1zsqQrIU",
        "colab": {
          "base_uri": "https://localhost:8080/"
        },
        "outputId": "0799b803-1f6d-426e-fe74-359100a4c1d8"
      },
      "outputs": [
        {
          "output_type": "stream",
          "name": "stdout",
          "text": [
            "Cat of L1 and L2 is {'', 'a', 'bb', 'c', 'ac', 'ab', 'bc', 'b'}  of size  8\n",
            "Intersection of L1 and L2 is {'', 'b'}  of size  2\n",
            "Product of L1 and L2 is {('', ''), ('', 'b'), ('b', 'b'), ('a', 'b'), ('b', ''), ('b', 'c'), ('a', 'c'), ('a', ''), ('', 'c')}  of size  9\n",
            " cat and product differ in size \n"
          ]
        }
      ],
      "source": [
        "#Code Cell 02\n",
        "catL1L2 = lcat(L1,L2)\n",
        "lencatL1L2 = len(catL1L2)\n",
        "print(\"Cat of L1 and L2 is\", catL1L2, \" of size \", lencatL1L2)\n",
        "\n",
        "\n",
        "# Perform L1 and L2 intersection\n",
        "intL1L2 = lint(L1,L2)\n",
        "lenintL1L2 = len(intL1L2)\n",
        "print(\"Intersection of L1 and L2 is\", intL1L2, \" of size \", lenintL1L2)\n",
        "\n",
        "# Define the product of L1 and L2\n",
        "prodL1L2 = { (x,y) for x in L1 for y in L2 }\n",
        "lenprodL1L2 = len(prodL1L2)\n",
        "print(\"Product of L1 and L2 is\", prodL1L2, \" of size \", lenprodL1L2)\n",
        "\n",
        "if (lenprodL1L2 != lencatL1L2):\n",
        "    print(\" cat and product differ in size \")\n",
        "else:\n",
        "    print(\" cat and product have the same size \")"
      ]
    },
    {
      "cell_type": "markdown",
      "metadata": {
        "id": "0q4IxOI8R-Vs"
      },
      "source": [
        "# Question 3"
      ]
    },
    {
      "cell_type": "markdown",
      "metadata": {
        "id": "LYcZql5HU17V"
      },
      "source": [
        "## Consider this proposition:  \n",
        "For any two languages $L_1$ and $L_2$, their intersection **can never have the same size as**  their concatenation if both languages are finite.\n",
        "Side Note: This can work for many finite languages - including even those where both languages are epsilon-free. While not required, thinking of those cases would be useful for your future tests."
      ]
    },
    {
      "cell_type": "markdown",
      "metadata": {
        "id": "XC4TifENW2h0"
      },
      "source": [
        "## Now, define two languages where the above proposition is false."
      ]
    },
    {
      "cell_type": "code",
      "execution_count": 20,
      "metadata": {
        "id": "zOnqyAzzZJNe",
        "colab": {
          "base_uri": "https://localhost:8080/"
        },
        "outputId": "f164c478-fa6f-41aa-f2fb-8b3e7ff46a94"
      },
      "outputs": [
        {
          "output_type": "stream",
          "name": "stdout",
          "text": [
            "intersection =  {'c', 'a'}\n",
            "concatenation =  {'a', 'ca', 'cc', 'c', 'ac', 'bc', 'ba', 'aa'}\n"
          ]
        },
        {
          "output_type": "execute_result",
          "data": {
            "text/plain": [
              "False"
            ]
          },
          "metadata": {},
          "execution_count": 20
        }
      ],
      "source": [
        "# Define two FINITE languages\n",
        "L1 = {'', 'a', 'b', 'c'}\n",
        "L2 = {'a', 'c'}\n",
        "\n",
        "# Perform their intersection\n",
        "intL1L2 = lint(L1,L2)\n",
        "\n",
        "# Perform their concatenation\n",
        "catL1L2 = lcat(L1,L2)\n",
        "\n",
        "# Compare the intersection and the concatenation\n",
        "print(\"intersection = \", intL1L2)\n",
        "print(\"concatenation = \", catL1L2)\n",
        "\n",
        "# Check if the same size -- the 'len' function in Python obtains the size\n",
        "\n",
        "len(intL1L2) == len(catL1L2)\n"
      ]
    },
    {
      "cell_type": "markdown",
      "metadata": {
        "id": "eTYZQbh8fy8d"
      },
      "source": [
        "# Question 4"
      ]
    },
    {
      "cell_type": "markdown",
      "metadata": {
        "id": "RPVfMhEampQ_"
      },
      "source": [
        "## Define a regular language using Python's set builder (set comprehension) syntax\n",
        "<font size=\"4\"> \n",
        "    \n",
        "Recall from Chapter-1 that sets of strings of the form \"any number of $a$'s followed by any number of $b$'s followed by any number of $c$'s are regular languages.\n",
        "\n",
        "* Here, for instance, is a regular language\n",
        "    \n",
        "    $$ \\{ a^i b^j c^k \\;:\\; i,j,k \\ge 0 \\}$$\n",
        "  \n",
        "\n",
        "**Task for you**:\n",
        "\n",
        "* Define this set in Python: $$ \\{ a^i b^j c^k \\;:\\; 0 \\le i,j,k \\le 4 \\}$$\n",
        "\n",
        "**IMPORTANT NOTE**: ALL finite sets are regular. Thus by truncating the set to a finite size, we always get a regular language. The purpose of truncation is ONLY to make sure that the printing stops. What we are really referring to as a regular language of interest is the mathematical language\n",
        "\n",
        "\n",
        "    \n",
        "    \n",
        "</font>  "
      ]
    },
    {
      "cell_type": "code",
      "execution_count": 24,
      "metadata": {
        "id": "V96-pVokn7lN",
        "colab": {
          "base_uri": "https://localhost:8080/"
        },
        "outputId": "893d905f-fd6c-421b-af35-1f551a1c24f6"
      },
      "outputs": [
        {
          "output_type": "execute_result",
          "data": {
            "text/plain": [
              "{'',\n",
              " 'a',\n",
              " 'aa',\n",
              " 'aaa',\n",
              " 'aaaa',\n",
              " 'aaaab',\n",
              " 'aaaabb',\n",
              " 'aaaabbb',\n",
              " 'aaaabbbb',\n",
              " 'aaaabbbbc',\n",
              " 'aaaabbbbcc',\n",
              " 'aaaabbbbccc',\n",
              " 'aaaabbbbcccc',\n",
              " 'aaaabbbc',\n",
              " 'aaaabbbcc',\n",
              " 'aaaabbbccc',\n",
              " 'aaaabbbcccc',\n",
              " 'aaaabbc',\n",
              " 'aaaabbcc',\n",
              " 'aaaabbccc',\n",
              " 'aaaabbcccc',\n",
              " 'aaaabc',\n",
              " 'aaaabcc',\n",
              " 'aaaabccc',\n",
              " 'aaaabcccc',\n",
              " 'aaaac',\n",
              " 'aaaacc',\n",
              " 'aaaaccc',\n",
              " 'aaaacccc',\n",
              " 'aaab',\n",
              " 'aaabb',\n",
              " 'aaabbb',\n",
              " 'aaabbbb',\n",
              " 'aaabbbbc',\n",
              " 'aaabbbbcc',\n",
              " 'aaabbbbccc',\n",
              " 'aaabbbbcccc',\n",
              " 'aaabbbc',\n",
              " 'aaabbbcc',\n",
              " 'aaabbbccc',\n",
              " 'aaabbbcccc',\n",
              " 'aaabbc',\n",
              " 'aaabbcc',\n",
              " 'aaabbccc',\n",
              " 'aaabbcccc',\n",
              " 'aaabc',\n",
              " 'aaabcc',\n",
              " 'aaabccc',\n",
              " 'aaabcccc',\n",
              " 'aaac',\n",
              " 'aaacc',\n",
              " 'aaaccc',\n",
              " 'aaacccc',\n",
              " 'aab',\n",
              " 'aabb',\n",
              " 'aabbb',\n",
              " 'aabbbb',\n",
              " 'aabbbbc',\n",
              " 'aabbbbcc',\n",
              " 'aabbbbccc',\n",
              " 'aabbbbcccc',\n",
              " 'aabbbc',\n",
              " 'aabbbcc',\n",
              " 'aabbbccc',\n",
              " 'aabbbcccc',\n",
              " 'aabbc',\n",
              " 'aabbcc',\n",
              " 'aabbccc',\n",
              " 'aabbcccc',\n",
              " 'aabc',\n",
              " 'aabcc',\n",
              " 'aabccc',\n",
              " 'aabcccc',\n",
              " 'aac',\n",
              " 'aacc',\n",
              " 'aaccc',\n",
              " 'aacccc',\n",
              " 'ab',\n",
              " 'abb',\n",
              " 'abbb',\n",
              " 'abbbb',\n",
              " 'abbbbc',\n",
              " 'abbbbcc',\n",
              " 'abbbbccc',\n",
              " 'abbbbcccc',\n",
              " 'abbbc',\n",
              " 'abbbcc',\n",
              " 'abbbccc',\n",
              " 'abbbcccc',\n",
              " 'abbc',\n",
              " 'abbcc',\n",
              " 'abbccc',\n",
              " 'abbcccc',\n",
              " 'abc',\n",
              " 'abcc',\n",
              " 'abccc',\n",
              " 'abcccc',\n",
              " 'ac',\n",
              " 'acc',\n",
              " 'accc',\n",
              " 'acccc',\n",
              " 'b',\n",
              " 'bb',\n",
              " 'bbb',\n",
              " 'bbbb',\n",
              " 'bbbbc',\n",
              " 'bbbbcc',\n",
              " 'bbbbccc',\n",
              " 'bbbbcccc',\n",
              " 'bbbc',\n",
              " 'bbbcc',\n",
              " 'bbbccc',\n",
              " 'bbbcccc',\n",
              " 'bbc',\n",
              " 'bbcc',\n",
              " 'bbccc',\n",
              " 'bbcccc',\n",
              " 'bc',\n",
              " 'bcc',\n",
              " 'bccc',\n",
              " 'bcccc',\n",
              " 'c',\n",
              " 'cc',\n",
              " 'ccc',\n",
              " 'cccc'}"
            ]
          },
          "metadata": {},
          "execution_count": 24
        }
      ],
      "source": [
        "# The above regular language truncated to a small size, below\n",
        "A_reg_language = { \"a\" * i + \"b\" * j + \"c\" * k for i in range (5) for j in range (5) for k in range (5)}\n",
        "\n",
        "# Print its contents\n",
        "A_reg_language"
      ]
    },
    {
      "cell_type": "markdown",
      "metadata": {
        "id": "vyf0eAkgqJFc"
      },
      "source": [
        "## Define a context-free language using Python's set builder (set comprehension) syntax\n",
        "\n",
        "<font size=\"4\"> \n",
        "    \n",
        "Recall from Chapter-1 that sets of strings of the form \"any number of $a$'s followed by the same number of $b$'s and $c$'s is context-free.\n",
        "    \n",
        "* Here, for instance, is a context-free language\n",
        "    \n",
        "    $$ \\{ a^i b^j c^j \\;:\\; i,j \\ge 0 \\}$$\n",
        "     \n",
        "\n",
        "**Task for you**:\n",
        "\n",
        "* Define the above set in Python, again limiting $i,j$ to be in $\\{0, \\ldots, 4\\}$.\n",
        "\n",
        "**IMPORTANT NOTE**: ALL finite sets are regular. Thus by truncating the set to a finite size, we always get a regular language. The purpose of truncation is ONLY to make sure that the printing stops. What we are really referring to as a **context-free language** of interest is the mathematical language\n",
        "\n",
        "   $$ \\{ a^i b^j c^j \\;:\\; i,j \\ge 0 \\}$$\n",
        "    \n",
        "    \n",
        "</font>  "
      ]
    },
    {
      "cell_type": "code",
      "execution_count": 25,
      "metadata": {
        "id": "SKBecDclqMz6",
        "colab": {
          "base_uri": "https://localhost:8080/"
        },
        "outputId": "12441174-ffb9-4577-b533-41821942a030"
      },
      "outputs": [
        {
          "output_type": "execute_result",
          "data": {
            "text/plain": [
              "{'',\n",
              " 'a',\n",
              " 'aa',\n",
              " 'aaa',\n",
              " 'aaaa',\n",
              " 'aaaabbbbcccc',\n",
              " 'aaaabbbccc',\n",
              " 'aaaabbcc',\n",
              " 'aaaabc',\n",
              " 'aaabbbbcccc',\n",
              " 'aaabbbccc',\n",
              " 'aaabbcc',\n",
              " 'aaabc',\n",
              " 'aabbbbcccc',\n",
              " 'aabbbccc',\n",
              " 'aabbcc',\n",
              " 'aabc',\n",
              " 'abbbbcccc',\n",
              " 'abbbccc',\n",
              " 'abbcc',\n",
              " 'abc',\n",
              " 'bbbbcccc',\n",
              " 'bbbccc',\n",
              " 'bbcc',\n",
              " 'bc'}"
            ]
          },
          "metadata": {},
          "execution_count": 25
        }
      ],
      "source": [
        "# Your Python definition of a context-free language, below\n",
        "A_context_free_language = { \"a\" * i + \"b\" * j + \"c\" * j for i in range(5) for j in range(5) }\n",
        "\n",
        "# Print its contents\n",
        "A_context_free_language "
      ]
    },
    {
      "cell_type": "markdown",
      "metadata": {
        "id": "hQd6gsQNqWE0"
      },
      "source": [
        "## Define another context-free language  \n",
        "\n",
        "<font size=\"4\"> \n",
        "    \n",
        "In Chapter 4, we will study the Pumping Lemma to argue that this language is not context-free:\n",
        "    $$L_{if} = \\{ a^i b^j c^k  {\\rm if}\\ ( i = 2 )\\ {\\rm then}\\ (j=k) \\}$$\n",
        "    \n",
        "\n",
        "\n",
        "**Task for you**:\n",
        "\n",
        "* Define $L_{if}$ in Python. Limit $i,j,k$ to be in $\\{0, \\ldots, 4\\}$.\n",
        "* List all the strings where the condition $(i=2)$ is met. How many such strings are there?\n",
        "    \n",
        "**IMPORTANT NOTE**: ALL finite sets are regular. Thus by truncating the set to a finite size, we always get a regular language. The purpose of truncation is ONLY to make sure that the printing stops. What we are really referring to as a **context-free language** of interest is the mathematical language\n",
        "\n",
        "   \n",
        "  $$L_{if} = \\{ a^i b^j c^k \\;:\\; {\\rm if}\\; (i=2)\\; {\\rm then}\\; (j=k) \\}$$\n",
        "    \n",
        "**REQUIRED:** You must encode the condition in the set builder/comprehension as a single Boolean Expression.\n",
        "**Hint:**  Recall how you can encode 'if smoke then fire' as a Boolean expression, assuming that 'smoke' and 'fire' are propositional variables.\n",
        "</font>  "
      ]
    },
    {
      "cell_type": "code",
      "execution_count": 40,
      "metadata": {
        "id": "-rjjdrsLqYb8",
        "colab": {
          "base_uri": "https://localhost:8080/"
        },
        "outputId": "13a65d6e-a2fd-408b-da9c-dbbd050723be"
      },
      "outputs": [
        {
          "output_type": "execute_result",
          "data": {
            "text/plain": [
              "{'aa',\n",
              " 'aab',\n",
              " 'aabb',\n",
              " 'aabbb',\n",
              " 'aabbbb',\n",
              " 'aabbbbc',\n",
              " 'aabbbbcc',\n",
              " 'aabbbbccc',\n",
              " 'aabbbbcccc',\n",
              " 'aabbbc',\n",
              " 'aabbbcc',\n",
              " 'aabbbccc',\n",
              " 'aabbbcccc',\n",
              " 'aabbc',\n",
              " 'aabbcc',\n",
              " 'aabbccc',\n",
              " 'aabbcccc',\n",
              " 'aabc',\n",
              " 'aabcc',\n",
              " 'aabccc',\n",
              " 'aabcccc',\n",
              " 'aac',\n",
              " 'aacc',\n",
              " 'aaccc',\n",
              " 'aacccc'}"
            ]
          },
          "metadata": {},
          "execution_count": 40
        }
      ],
      "source": [
        "from ast import If\n",
        " \n",
        "# Your Python definition of the language Lif below\n",
        "Lif =  { \"a\" * i + \"b\" * j + \"c\" * k for i in range (5) for j in range (5) for k in range (5) if i == 2 }\n",
        "\n",
        "# print Lif\n",
        "Lif"
      ]
    },
    {
      "cell_type": "markdown",
      "metadata": {
        "id": "IiPeeqXhqaoc"
      },
      "source": [
        "\n",
        "\n",
        "\n",
        "## The number of strings where i = 2, and which are they?\n",
        "\n",
        "SHOW YOUR WORK by adding a code-cell below that calculates Answer-1. That is,\n",
        "\n",
        "\n",
        "* Use the Python 'len' function to get their count\n",
        " \n",
        "\n",
        "\n",
        "## The strings where i = 2 is met are these:\n",
        "\n",
        "SHOW YOUR WORK by adding a code-cell below that calculates Answer-2. That is,\n",
        "\n",
        "\n",
        "* Simply list the strings (remove the 'len' application above and list the actual strings)"
      ]
    },
    {
      "cell_type": "code",
      "source": [
        "# Code-cell to calculate Answer-1 for you\n",
        "\n",
        "# Get the Length of Lif\n",
        "len(Lif)"
      ],
      "metadata": {
        "id": "beIJcfBL0uOs",
        "outputId": "d70fbc10-dc34-40d6-ac58-32db98eedfaf",
        "colab": {
          "base_uri": "https://localhost:8080/"
        }
      },
      "execution_count": 41,
      "outputs": [
        {
          "output_type": "execute_result",
          "data": {
            "text/plain": [
              "25"
            ]
          },
          "metadata": {},
          "execution_count": 41
        }
      ]
    },
    {
      "cell_type": "code",
      "source": [
        "# Code-cell to calculate Answer-2 for you\n",
        "# Print Lif\n",
        "Lif"
      ],
      "metadata": {
        "id": "a0egLJGE1QnB",
        "outputId": "6f14076b-700d-46d2-8b17-11f5d1967733",
        "colab": {
          "base_uri": "https://localhost:8080/"
        }
      },
      "execution_count": 42,
      "outputs": [
        {
          "output_type": "execute_result",
          "data": {
            "text/plain": [
              "{'aa',\n",
              " 'aab',\n",
              " 'aabb',\n",
              " 'aabbb',\n",
              " 'aabbbb',\n",
              " 'aabbbbc',\n",
              " 'aabbbbcc',\n",
              " 'aabbbbccc',\n",
              " 'aabbbbcccc',\n",
              " 'aabbbc',\n",
              " 'aabbbcc',\n",
              " 'aabbbccc',\n",
              " 'aabbbcccc',\n",
              " 'aabbc',\n",
              " 'aabbcc',\n",
              " 'aabbccc',\n",
              " 'aabbcccc',\n",
              " 'aabc',\n",
              " 'aabcc',\n",
              " 'aabccc',\n",
              " 'aabcccc',\n",
              " 'aac',\n",
              " 'aacc',\n",
              " 'aaccc',\n",
              " 'aacccc'}"
            ]
          },
          "metadata": {},
          "execution_count": 42
        }
      ]
    }
  ],
  "metadata": {
    "colab": {
      "collapsed_sections": [],
      "name": "u0000000_asg01.ipynb",
      "provenance": []
    },
    "kernelspec": {
      "display_name": "Python 3 (ipykernel)",
      "language": "python",
      "name": "python3"
    },
    "language_info": {
      "codemirror_mode": {
        "name": "ipython",
        "version": 3
      },
      "file_extension": ".py",
      "mimetype": "text/x-python",
      "name": "python",
      "nbconvert_exporter": "python",
      "pygments_lexer": "ipython3",
      "version": "3.7.4"
    }
  },
  "nbformat": 4,
  "nbformat_minor": 0
}