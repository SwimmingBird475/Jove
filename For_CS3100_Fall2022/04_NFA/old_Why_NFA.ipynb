{
 "cells": [
  {
   "cell_type": "markdown",
   "metadata": {
    "run_control": {
     "frozen": false,
     "read_only": false
    }
   },
   "source": [
    "# Basics of NFA\n",
    "\n",
    "You may wish to watch my lecture on NFA a little, then play with the\n",
    "code below, and then finish watching."
   ]
  },
  {
   "cell_type": "code",
   "execution_count": null,
   "metadata": {
    "run_control": {
     "frozen": false,
     "read_only": false
    }
   },
   "outputs": [],
   "source": [
    "#~~~~~~~~~~~~~~~~~~~~~~~~~~~~~~~~~~~~~~~~~~~~~~~~~~~~~~~\n",
    "import sys\n",
    "\n",
    "# -- Detect if in Own Install or in Colab\n",
    "try:\n",
    "    import google.colab\n",
    "    OWN_INSTALL = False\n",
    "except:\n",
    "    OWN_INSTALL = True\n",
    "    \n",
    "if OWN_INSTALL:\n",
    "    \n",
    "  #---- Leave these definitions ON if running on laptop\n",
    "  #---- Else turn OFF by putting them between ''' ... '''\n",
    "\n",
    "  sys.path[0:0] = ['../../../../..',  '../../../../../3rdparty',  \n",
    "                   '../../../..',  '../../../../3rdparty',  \n",
    "                   '../../..',     '../../../3rdparty', \n",
    "                   '../..',        '../../3rdparty',\n",
    "                   '..',           '../3rdparty' ]\n",
    "\n",
    "else: # In colab\n",
    "  ! if [ ! -d Jove ]; then git clone https://github.com/ganeshutah/Jove Jove; fi\n",
    "  sys.path.append('./Jove')\n",
    "  sys.path.append('./Jove/jove')\n",
    "\n",
    "# -- common imports --\n",
    "from jove.DotBashers import *\n",
    "from jove.Def_md2mc  import *\n",
    "from jove.Def_NFA    import *\n",
    "from jove.Def_DFA    import *\n",
    "from jove.AnimateNFA import *\n",
    "from jove.Def_RE2NFA import *\n",
    "#~~~~~~~~~~~~~~~~~~~~~~~~~~~~~~~~~~~~~~~~~~~~~~~~~~~~~~~"
   ]
  },
  {
   "cell_type": "markdown",
   "metadata": {},
   "source": [
    "# Why NFA?\n",
    "\n",
    "## 1) NFA emphasize the essence of the language of interest\n",
    "## 2) By exploiting the ability to be in a set of states, it remains compact\n",
    "\n",
    "## A good example is \"third last is a 1\" i.e.\n",
    "### {0,1}* 1 {0,1} {0,1}\n",
    "\n",
    "## A DFA for this language ends up keeping the full history of 3 past bits\n",
    "### and hence prove to be exponentially large (2^3 states)\n",
    "\n",
    "### For 4th-last is a 1, the NFA will have 16 states\n",
    "\n",
    "### This is one example of when a DFA becomes large\n",
    "### More importantly, this DFA is very hard to trust ... its state semantics cannot be reliably argued\n",
    "### And one is better off designing a DFA with more states (emphasizing clarity) and then minimizing"
   ]
  },
  {
   "cell_type": "code",
   "execution_count": null,
   "metadata": {},
   "outputs": [],
   "source": [
    "ThirdLastIs1DFA = md2mc(\n",
    "'''\n",
    "DFA\n",
    "\n",
    "I      :  0   -> I    !! A 0 need not be remembered\n",
    "I      :  1   -> S1   !! A 1 needs to be remembered\n",
    "\n",
    "S1     :  0   -> S10  !! Record where the 1 is\n",
    "S1     :  1   -> S11  !! ditto\n",
    "\n",
    "S10    :  0   -> F00  !! The 1 has been pushed to the \"third last\"\n",
    "S10    :  1   -> F01  !! ditto\n",
    "\n",
    "S11    :  0   -> F10  !! The 1 has been pushed to the third last\n",
    "S11    :  1   -> F11  !! ditto\n",
    "\n",
    "F00    :  0   -> I   !! The 1 is gone from the picture (no longer in the third-last)\n",
    "F00    :  1   -> S1  !! ditto\n",
    "\n",
    "F01    :  0   -> S10  !! The 1 is gone from the picture \n",
    "F01    :  1   -> S11  !! ditto\n",
    "\n",
    "F10    :  0   -> F00  !! There is a 1 in the third-last position now\n",
    "F10    :  1   -> F01  !! ditto\n",
    "\n",
    "F11    :  0   -> F10  !! There is a 1 in the third-last position\n",
    "F11    :  1   -> F11  !! ditto\n",
    "\n",
    "'''\n",
    ")"
   ]
  },
  {
   "cell_type": "code",
   "execution_count": null,
   "metadata": {},
   "outputs": [],
   "source": [
    "dotObj_dfa(ThirdLastIs1DFA, FuseEdges=True)"
   ]
  },
  {
   "cell_type": "markdown",
   "metadata": {},
   "source": [
    "## An NFA avoids the specification complexity, but requires the use of nondeterminism\n",
    "### A big plus is that it is VERY easy to trust"
   ]
  },
  {
   "cell_type": "code",
   "execution_count": null,
   "metadata": {},
   "outputs": [],
   "source": [
    "ThirdLastIs1NFA = md2mc('''\n",
    "NFA  \n",
    "\n",
    "I   : 0|1 -> I\n",
    "\n",
    "I   : ''  -> S\n",
    "\n",
    "S   : 1   -> Sa\n",
    "\n",
    "Sa  : 0|1 -> Sb\n",
    "\n",
    "Sb  : 0|1 -> F\n",
    "\n",
    "''')"
   ]
  },
  {
   "cell_type": "markdown",
   "metadata": {},
   "source": [
    "# Study the third-last-is-1\n",
    "\n",
    "Put it in animate mode, and then single-step to see the EClosure of states"
   ]
  },
  {
   "cell_type": "code",
   "execution_count": null,
   "metadata": {},
   "outputs": [],
   "source": [
    "AnimateNFA(ThirdLastIs1NFA, FuseEdges=True)\n",
    "display(HTML('<link rel=\\\"stylesheet\\\" href=\\\"//stackpath.bootstrapcdn.com/font-awesome/4.7.0/css/font-awesome.min.css\\\"/>'))"
   ]
  },
  {
   "cell_type": "markdown",
   "metadata": {},
   "source": [
    "# An alternate NFA for \"third last is 1\""
   ]
  },
  {
   "cell_type": "code",
   "execution_count": null,
   "metadata": {},
   "outputs": [],
   "source": [
    "ThirdLastIs1NFAalt = md2mc('''\n",
    "NFA  \n",
    "\n",
    "I   : 0|1 -> I\n",
    "\n",
    "I   : 1   -> Sa\n",
    "\n",
    "Sa  : 0|1 -> Sb\n",
    "\n",
    "Sb  : 0|1 -> F\n",
    "\n",
    "''')"
   ]
  },
  {
   "cell_type": "code",
   "execution_count": null,
   "metadata": {},
   "outputs": [],
   "source": [
    "dotObj_nfa(ThirdLastIs1NFAalt, FuseEdges=True)"
   ]
  },
  {
   "cell_type": "code",
   "execution_count": null,
   "metadata": {},
   "outputs": [],
   "source": [
    "help(nfa2dfa)"
   ]
  },
  {
   "cell_type": "code",
   "execution_count": null,
   "metadata": {},
   "outputs": [],
   "source": [
    "nfa2dfa(ThirdLastIs1)"
   ]
  },
  {
   "cell_type": "code",
   "execution_count": null,
   "metadata": {},
   "outputs": [],
   "source": [
    "dotObj_dfa(nfa2dfa(ThirdLastIs1), FuseEdges=True)"
   ]
  },
  {
   "cell_type": "code",
   "execution_count": null,
   "metadata": {},
   "outputs": [],
   "source": [
    "nfa2dfa(ThirdLastIs1, STATENAME_MAXSIZE=30)"
   ]
  },
  {
   "cell_type": "code",
   "execution_count": null,
   "metadata": {},
   "outputs": [],
   "source": [
    "help(dotObj_dfa)"
   ]
  },
  {
   "cell_type": "code",
   "execution_count": null,
   "metadata": {},
   "outputs": [],
   "source": [
    "dotObj_dfa(nfa2dfa(ThirdLastIs1, STATENAME_MAXSIZE=30), STATENAME_MAXSIZE=30)"
   ]
  },
  {
   "cell_type": "code",
   "execution_count": null,
   "metadata": {},
   "outputs": [],
   "source": [
    "dotObj_dfa(nfa2dfa(ThirdLastIs1, STATENAME_MAXSIZE=30), STATENAME_MAXSIZE=30).render('ThirdLastDFA.pdf')"
   ]
  },
  {
   "cell_type": "code",
   "execution_count": null,
   "metadata": {},
   "outputs": [],
   "source": [
    "DFA_a_bc_ca = md2mc(\n",
    "'''\n",
    "DFA\n",
    "\n",
    "I : a -> F\n",
    "I : b -> Sb\n",
    "I : c -> Sc\n",
    "\n",
    "Sb : c -> F\n",
    "Sb : a|b -> BH\n",
    "\n",
    "Sc : a   -> F\n",
    "Sc : b|c -> BH\n",
    "\n",
    "F  : a|b|c -> BH\n",
    "\n",
    "BH : a|b|c -> BH\n",
    "''')"
   ]
  },
  {
   "cell_type": "code",
   "execution_count": null,
   "metadata": {},
   "outputs": [],
   "source": [
    "dotObj_dfa_w_bh(DFA_a_bc_ca, FuseEdges=True)"
   ]
  },
  {
   "cell_type": "code",
   "execution_count": null,
   "metadata": {},
   "outputs": [],
   "source": [
    "NFA_a_bc_ca = md2mc(\n",
    "'''\n",
    "NFA\n",
    "\n",
    "I1 : a -> F1\n",
    "\n",
    "I2 : b -> Sb\n",
    "Sb : c -> F2\n",
    "\n",
    "I3 : c -> Sc\n",
    "Sc : a -> F3\n",
    "''')"
   ]
  },
  {
   "cell_type": "code",
   "execution_count": null,
   "metadata": {},
   "outputs": [],
   "source": [
    "dotObj_nfa(NFA_a_bc_ca)"
   ]
  },
  {
   "cell_type": "code",
   "execution_count": null,
   "metadata": {},
   "outputs": [],
   "source": [
    "AnimateNFA(NFA_a_bc_ca, FuseEdges=True)\n",
    "display(HTML('<link rel=\\\"stylesheet\\\" href=\\\"//stackpath.bootstrapcdn.com/font-awesome/4.7.0/css/font-awesome.min.css\\\"/>'))"
   ]
  },
  {
   "cell_type": "code",
   "execution_count": null,
   "metadata": {},
   "outputs": [],
   "source": [
    "dotObj_nfa(re2nfa(\"(a+bc+ca)(a+bc+ca)\")).render(\"a_bc_ca_concat.pdf\")"
   ]
  },
  {
   "cell_type": "code",
   "execution_count": null,
   "metadata": {},
   "outputs": [],
   "source": [
    "dotObj_dfa(nfa2dfa(NFA_a_bc_ca))"
   ]
  },
  {
   "cell_type": "markdown",
   "metadata": {},
   "source": [
    "# This is an example from Figure 7.7 of the book\n",
    "\n",
    "I am choosing to type it in two different ways: one with a single initial state, and \n",
    "another with multiple initial states. Fig77 is the single initial state version, and\n",
    "Fig77a is with multiple initial states"
   ]
  },
  {
   "cell_type": "code",
   "execution_count": null,
   "metadata": {},
   "outputs": [],
   "source": [
    "Fig77 = md2mc('''NFA\n",
    "I : '' -> A, G\n",
    "A : '' -> B, C\n",
    "G : 1  -> F\n",
    "B : 1  -> D\n",
    "C : 0  -> E\n",
    "D : '' -> A, G\n",
    "E : '' -> A, G\n",
    "''')"
   ]
  },
  {
   "cell_type": "code",
   "execution_count": null,
   "metadata": {
    "scrolled": true
   },
   "outputs": [],
   "source": [
    "AnimateNFA(Fig77, FuseEdges=False)\n",
    "display(HTML('<link rel=\\\"stylesheet\\\" href=\\\"//stackpath.bootstrapcdn.com/font-awesome/4.7.0/css/font-awesome.min.css\\\"/>'))"
   ]
  },
  {
   "cell_type": "code",
   "execution_count": null,
   "metadata": {},
   "outputs": [],
   "source": [
    "Fig77a = md2mc('''NFA\n",
    "IA : '' -> B, C\n",
    "IG : 1  -> F\n",
    "B : 1  -> D\n",
    "C : 0  -> E\n",
    "D : '' -> IA, IG\n",
    "E : '' -> IA, IG\n",
    "''')"
   ]
  },
  {
   "cell_type": "code",
   "execution_count": null,
   "metadata": {},
   "outputs": [],
   "source": [
    "dotObj_nfa(Fig77a)"
   ]
  },
  {
   "cell_type": "code",
   "execution_count": null,
   "metadata": {},
   "outputs": [],
   "source": [
    "dotObj_dfa(nfa2dfa(Fig77a, STATENAME_MAXSIZE=50), STATENAME_MAXSIZE=50)"
   ]
  },
  {
   "cell_type": "code",
   "execution_count": null,
   "metadata": {
    "run_control": {
     "frozen": false,
     "read_only": false
    }
   },
   "outputs": [],
   "source": [
    "# Our automd markdown works for NFA also. Here is the NFA for\n",
    "# the language \"ends in 0101\"\n",
    "\n",
    "NFA_ends0101 = md2mc(''' \n",
    "!!---------------------------------------------------------------------------\n",
    "!! This NFA looks for patterns of the form \n",
    "!!\n",
    "!!     ......<some 0's and 1's>.....0101\n",
    "!!\n",
    "!! i.e., all strings that end in 0101.\n",
    "!!\n",
    "!! This example (over and above thirdlastis1.nfa) also illustrates\n",
    "!! the power of nondeterminism. Anytime we see a 0 from state I, we\n",
    "!! can have the NFA speculate that it is seeing the beginning of a\n",
    "!! 0101 pattern! If the NFA fails in its guess, it pays no price\n",
    "!! (because another guess is soon coming from behind).\n",
    "!!\n",
    "!! * We take 4 states in the NFA solution. The DFA solution takes\n",
    "!!   5 states.\n",
    "!!\n",
    "!! * This shows how burden is shifted from the\n",
    "!!   human to the computer doing the NFA simulation.\n",
    "!!   Even though the savings in states is not dramatic,\n",
    "!!   the effort to build this NFA is much lower than building\n",
    "!!   the corresponding DFA.\n",
    "!! \n",
    "!!-----------------------------------------------------------------\n",
    "!! For NFA, each line can be as follows:\n",
    "!!\n",
    "!! State : in1 | in2 ...  ->  COmma, Separated, State, List  !! comment\n",
    "!!-----------------------------------------------------------------\n",
    "\n",
    "NFA\n",
    "\n",
    "I    : 1   -> I      !! I goes to I upon 1\n",
    "\n",
    "I    : 0   -> S0, I  !! I goes to S0 and I upon 0\n",
    "\n",
    "S0   : 1   -> S01    !! S0 goes to S01 upon 1\n",
    "\n",
    "S01  : 0   -> S010   !! S01 goes to S010 upon 0\n",
    "\n",
    "S010 : 1   -> F      !! S010 goes to F upon F\n",
    "\n",
    "!!---\n",
    "''')"
   ]
  },
  {
   "cell_type": "code",
   "execution_count": null,
   "metadata": {
    "run_control": {
     "frozen": false,
     "read_only": false
    }
   },
   "outputs": [],
   "source": [
    "# Now let us see the dict version of the NFA\n",
    "NFA_ends0101 "
   ]
  },
  {
   "cell_type": "code",
   "execution_count": null,
   "metadata": {
    "run_control": {
     "frozen": false,
     "read_only": false
    }
   },
   "outputs": [],
   "source": [
    "# Let's see the drawing of this NFA\n",
    "\n",
    "dotObj_nfa(NFA_ends0101)  "
   ]
  },
  {
   "cell_type": "code",
   "execution_count": null,
   "metadata": {
    "run_control": {
     "frozen": false,
     "read_only": false
    }
   },
   "outputs": [],
   "source": [
    "# The drawing produces separated self-loops. Let's fuse 'em\n",
    "\n",
    "# Now we are going to fuse the separate self-loops into one\n",
    "\n",
    "dotObj_nfa(NFA_ends0101, FuseEdges=True) "
   ]
  },
  {
   "cell_type": "markdown",
   "metadata": {
    "run_control": {
     "frozen": false,
     "read_only": false
    }
   },
   "source": [
    "# NFA for 3rd-last is 1"
   ]
  },
  {
   "cell_type": "code",
   "execution_count": null,
   "metadata": {
    "run_control": {
     "frozen": false,
     "read_only": false
    }
   },
   "outputs": [],
   "source": [
    "# Here is the automd (markdown) for an NF whose third-last symbol is a 1\n",
    "\n",
    "NFA_3rdlast_1 = md2mc('''\n",
    "NFA\n",
    "\n",
    "I : 0  | 1  -> I  !! Upon a 0 or a 1, continue to stay in state I\n",
    "\n",
    "I : ''      -> S0 !! Nondeterministically transition to state S0\n",
    "\n",
    "S0 : 1      -> S1 !! This is the key \"1\" (third-last being 1) seen\n",
    "\n",
    "S1 : 0 | 1  -> S2 !! One 0/1 takes the NFA to S2\n",
    "\n",
    "S2 : 0 | 1  -> F  !! One more 0/1 takes the NFA to F\n",
    "\n",
    "''')"
   ]
  },
  {
   "cell_type": "code",
   "execution_count": null,
   "metadata": {
    "run_control": {
     "frozen": false,
     "read_only": false
    }
   },
   "outputs": [],
   "source": [
    "# Let us see its internal representation\n",
    "\n",
    "NFA_3rdlast_1"
   ]
  },
  {
   "cell_type": "code",
   "execution_count": null,
   "metadata": {
    "run_control": {
     "frozen": false,
     "read_only": false
    }
   },
   "outputs": [],
   "source": [
    "# Let us see this NFA drawn out\n",
    "\n",
    "dotObj_nfa(NFA_3rdlast_1, FuseEdges=True)"
   ]
  },
  {
   "cell_type": "code",
   "execution_count": null,
   "metadata": {
    "run_control": {
     "frozen": false,
     "read_only": false
    }
   },
   "outputs": [],
   "source": [
    "# Let's step the NFA on epsilon   \n",
    "step_nfa(NFA_3rdlast_1, \"I\", \"\")"
   ]
  },
  {
   "cell_type": "code",
   "execution_count": null,
   "metadata": {
    "run_control": {
     "frozen": false,
     "read_only": false
    }
   },
   "outputs": [],
   "source": [
    "# Let's step it on '0'  \n",
    "step_nfa(NFA_3rdlast_1, \"I\", \"0\")"
   ]
  },
  {
   "cell_type": "code",
   "execution_count": null,
   "metadata": {
    "run_control": {
     "frozen": false,
     "read_only": false
    }
   },
   "outputs": [],
   "source": [
    "# Step it on a \"1\" to see two next states. That shows nondeterminism!\n",
    "\n",
    "step_nfa(NFA_3rdlast_1, \"I\", \"1\")  "
   ]
  },
  {
   "cell_type": "code",
   "execution_count": null,
   "metadata": {
    "run_control": {
     "frozen": false,
     "read_only": false
    }
   },
   "outputs": [],
   "source": [
    "# What is the Eclosure of the set of states {I} ?\n",
    "\n",
    "Eclosure(NFA_3rdlast_1, {\"I\"})"
   ]
  },
  {
   "cell_type": "code",
   "execution_count": null,
   "metadata": {
    "run_control": {
     "frozen": false,
     "read_only": false
    }
   },
   "outputs": [],
   "source": [
    "help(accepts_nfa)"
   ]
  },
  {
   "cell_type": "code",
   "execution_count": null,
   "metadata": {
    "run_control": {
     "frozen": false,
     "read_only": false
    }
   },
   "outputs": [],
   "source": [
    "accepts_nfa(NFA_3rdlast_1, \"0100100\", chatty=True)"
   ]
  },
  {
   "cell_type": "markdown",
   "metadata": {
    "run_control": {
     "frozen": false,
     "read_only": false
    }
   },
   "source": [
    "# Let us run NFA interactively via widgets\n",
    "\n",
    "We have two NFA to play with, namely nfa_ends0101 and NFA_3rdlast_1\n"
   ]
  },
  {
   "cell_type": "code",
   "execution_count": null,
   "metadata": {
    "run_control": {
     "frozen": false,
     "read_only": false
    }
   },
   "outputs": [],
   "source": [
    "import ipywidgets as wdg\n",
    "def run_nfa_slider(N, s, n):\n",
    "    \"\"\"Run NFA N from N[\"Q0\"] (which is a set..) on substring s[0:n]\n",
    "    \"\"\"\n",
    "    S = N[\"Q0\"] \n",
    "    if (n > len(s)):\n",
    "        n = len(s)\n",
    "    print(\"string = \", s[0:n])\n",
    "    run_nfa(N, S, s[0:n], True)\n",
    "    \n",
    "def run_nfa_int(N1, N2):\n",
    "    \"\"\"Run interactively from the given NFA .. from {q0} \n",
    "       on input string's substring\n",
    "       as picked by slider.\n",
    "    \"\"\"\n",
    "    inp = input(\"Please provide string: \")\n",
    "    wdg.interact(run_nfa_slider, N = {'N1': N1, 'N2': N2}, \n",
    "                 s = inp, n=(0,32))\n",
    "    \n",
    "def test_run_nfa_int(N1, N2):\n",
    "    \"\"\"Test the interactive run of NFA.\n",
    "    \"\"\"\n",
    "    run_nfa_int(N1, N2)\n",
    "\n",
    "#-- enable this later. test_run_nfa_int()"
   ]
  },
  {
   "cell_type": "markdown",
   "metadata": {
    "run_control": {
     "frozen": false,
     "read_only": false
    }
   },
   "source": [
    "## Once you run the command below, provide a string\n",
    "\n",
    "Provide a string of 0's and 1's. Then you can use the pull-down to pick the NFA\n",
    "to test, and the slider to incrementally consume more of the input string\n"
   ]
  },
  {
   "cell_type": "code",
   "execution_count": null,
   "metadata": {
    "run_control": {
     "frozen": false,
     "read_only": false
    }
   },
   "outputs": [],
   "source": [
    "test_run_nfa_int(NFA_ends0101, NFA_3rdlast_1)"
   ]
  },
  {
   "cell_type": "markdown",
   "metadata": {
    "run_control": {
     "frozen": false,
     "read_only": false
    }
   },
   "source": [
    "## Alternate definition of the NFA of Figure 7.7 is below\n",
    "## Illustrates the use of multiple initial states\n",
    "\n",
    " "
   ]
  },
  {
   "cell_type": "code",
   "execution_count": null,
   "metadata": {},
   "outputs": [],
   "source": [
    "Fig77alt = md2mc(\n",
    "\n",
    "'''NFA\n",
    "!! --- GONE !!   ---> I : '' -> A, G\n",
    "\n",
    "!! --- replace  A : '' -> B, C  by\n",
    "IA : '' -> B, C\n",
    "\n",
    "!! --- replace G : 1  -> F  by\n",
    "IG : 1  -> F\n",
    "\n",
    "B : 1  -> D\n",
    "C : 0  -> E\n",
    "\n",
    "D : '' -> IA, IG  !! suitably changed\n",
    "\n",
    "E : '' -> IA, IG  !! suitably changed\n",
    "''')"
   ]
  },
  {
   "cell_type": "code",
   "execution_count": null,
   "metadata": {},
   "outputs": [],
   "source": [
    "dotObj_nfa(Fig77alt, FuseEdges=\"True\")"
   ]
  },
  {
   "cell_type": "code",
   "execution_count": null,
   "metadata": {},
   "outputs": [],
   "source": []
  }
 ],
 "metadata": {
  "kernelspec": {
   "display_name": "Python 3",
   "language": "python",
   "name": "python3"
  },
  "language_info": {
   "codemirror_mode": {
    "name": "ipython",
    "version": 3
   },
   "file_extension": ".py",
   "mimetype": "text/x-python",
   "name": "python",
   "nbconvert_exporter": "python",
   "pygments_lexer": "ipython3",
   "version": "3.8.5"
  },
  "toc": {
   "colors": {
    "hover_highlight": "#DAA520",
    "running_highlight": "#FF0000",
    "selected_highlight": "#FFD700"
   },
   "moveMenuLeft": true,
   "nav_menu": {
    "height": "121px",
    "width": "252px"
   },
   "navigate_menu": true,
   "number_sections": true,
   "sideBar": true,
   "threshold": 4,
   "toc_cell": false,
   "toc_section_display": "block",
   "toc_window_display": false,
   "widenNotebook": false
  },
  "widgets": {
   "state": {
    "430c92ee02b34ec1912bf03c8de1e6dc": {
     "views": [
      {
       "cell_index": 20
      }
     ]
    }
   },
   "version": "1.2.0"
  }
 },
 "nbformat": 4,
 "nbformat_minor": 2
}
