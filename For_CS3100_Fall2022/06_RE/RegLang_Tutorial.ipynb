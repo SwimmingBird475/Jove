{
  "cells": [
    {
      "cell_type": "code",
      "execution_count": 1,
      "metadata": {
        "run_control": {
          "frozen": false,
          "read_only": false
        },
        "id": "1jAjb09S-MIe",
        "outputId": "222e88cb-629b-4d21-b05c-c334e4a96c66",
        "colab": {
          "base_uri": "https://localhost:8080/"
        }
      },
      "outputs": [
        {
          "output_type": "stream",
          "name": "stdout",
          "text": [
            "You may use any of these help commands:\n",
            "help(ResetStNum)\n",
            "help(NxtStateStr)\n",
            "\n",
            "You may use any of these help commands:\n",
            "help(mkp_dfa)\n",
            "help(mk_dfa)\n",
            "help(totalize_dfa)\n",
            "help(addtosigma_delta)\n",
            "help(step_dfa)\n",
            "help(run_dfa)\n",
            "help(accepts_dfa)\n",
            "help(comp_dfa)\n",
            "help(flTup)\n",
            "help(union_dfa)\n",
            "help(intersect_dfa)\n",
            "help(pruneUnreach)\n",
            "help(iso_dfa)\n",
            "help(langeq_dfa)\n",
            "help(same_status)\n",
            "help(h_langeq_dfa)\n",
            "help(fixptDist)\n",
            "help(min_dfa)\n",
            "help(pairFR)\n",
            "help(state_combos)\n",
            "help(sepFinNonFin)\n",
            "help(bash_eql_classes)\n",
            "help(listminus)\n",
            "help(bash_1)\n",
            "help(mk_rep_eqc)\n",
            "help(F_of)\n",
            "help(rep_of_s)\n",
            "help(q0_of)\n",
            "help(Delta_of)\n",
            "help(mk_state_eqc_name)\n",
            "\n",
            "You may use any of these help commands:\n",
            "help(mk_nfa)\n",
            "help(totalize_nfa)\n",
            "help(step_nfa)\n",
            "help(run_nfa)\n",
            "help(ec_step_nfa)\n",
            "help(Eclosure)\n",
            "help(Echelp)\n",
            "help(accepts_nfa)\n",
            "help(nfa2dfa)\n",
            "help(n2d)\n",
            "help(inSets)\n",
            "help(rev_dfa)\n",
            "help(min_dfa_brz)\n",
            "\n",
            "You may use any of these help commands:\n",
            "help(re2nfa)\n",
            "\n",
            "You may use any of these help commands:\n",
            "help(RE2Str)\n",
            "help(mk_gnfa)\n",
            "help(mk_gnfa_from_D)\n",
            "help(dfa2nfa)\n",
            "help(del_gnfa_states)\n",
            "help(gnfa_w_REStr)\n",
            "help(del_one_gnfa_state)\n",
            "help(Edges_Exist_Via)\n",
            "help(choose_state_to_del)\n",
            "help(form_alt_RE)\n",
            "help(form_concat_RE)\n",
            "help(form_kleene_RE)\n",
            "\n",
            "You may use any of these help commands:\n",
            "help(md2mc)\n",
            ".. and if you want to dig more, then ..\n",
            "help(default_line_attr)\n",
            "help(length_ok_input_items)\n",
            "help(union_line_attr_list_fld)\n",
            "help(extend_rsltdict)\n",
            "help(form_delta)\n",
            "help(get_machine_components)\n",
            "\n"
          ]
        }
      ],
      "source": [
        "#~~~~~~~~~~~~~~~~~~~~~~~~~~~~~~~~~~~~~~~~~~~~~~~~~~~~~~~\n",
        "import sys\n",
        "\n",
        "# -- Detect if in Own Install or in Colab\n",
        "try:\n",
        "    import google.colab\n",
        "    OWN_INSTALL = False\n",
        "except:\n",
        "    OWN_INSTALL = True\n",
        "    \n",
        "if OWN_INSTALL:\n",
        "    \n",
        "  #---- Leave these definitions ON if running on laptop\n",
        "  #---- Else turn OFF by putting them between ''' ... '''\n",
        "\n",
        "  sys.path[0:0] = ['../../../../..',  '../../../../../3rdparty',  \n",
        "                   '../../../..',  '../../../../3rdparty',  \n",
        "                   '../../..',     '../../../3rdparty', \n",
        "                   '../..',        '../../3rdparty',\n",
        "                   '..',           '../3rdparty' ]\n",
        "\n",
        "else: # In colab\n",
        "  ! if [ ! -d Jove ]; then git clone https://github.com/ganeshutah/Jove Jove; fi\n",
        "  sys.path.append('./Jove')\n",
        "  sys.path.append('./Jove/jove')\n",
        "\n",
        "# -- common imports --\n",
        "from jove.DotBashers import *\n",
        "from jove.Def_DFA import *\n",
        "from jove.Def_NFA import *\n",
        "from jove.Def_RE2NFA import *\n",
        "from jove.Def_NFA2RE import *\n",
        "from jove.Def_md2mc import *\n",
        "#~~~~~~~~~~~~~~~~~~~~~~~~~~~~~~~~~~~~~~~~~~~~~~~~~~~~~~~"
      ]
    },
    {
      "cell_type": "markdown",
      "source": [
        "# THIS ENTIRE NOTEBOOK HELPS YOU WITH ASG-3"
      ],
      "metadata": {
        "id": "ptM1nCGkUtam"
      }
    },
    {
      "cell_type": "markdown",
      "metadata": {
        "run_control": {
          "frozen": false,
          "read_only": false
        },
        "id": "8b3wZepG-MIl"
      },
      "source": [
        "# RE to NFA"
      ]
    },
    {
      "cell_type": "code",
      "source": [
        "dotObj_nfa(re2nfa(\"''\"))"
      ],
      "metadata": {
        "colab": {
          "base_uri": "https://localhost:8080/",
          "height": 105
        },
        "id": "BmuGypEgLxsa",
        "outputId": "cfdb9a79-0d6c-4bb2-a611-37ad91f71390"
      },
      "execution_count": 2,
      "outputs": [
        {
          "output_type": "execute_result",
          "data": {
            "text/plain": [
              "<graphviz.dot.Digraph at 0x7f87feb40a50>"
            ],
            "image/svg+xml": "<?xml version=\"1.0\" encoding=\"UTF-8\" standalone=\"no\"?>\n<!DOCTYPE svg PUBLIC \"-//W3C//DTD SVG 1.1//EN\"\n \"http://www.w3.org/Graphics/SVG/1.1/DTD/svg11.dtd\">\n<!-- Generated by graphviz version 2.40.1 (20161225.0304)\n -->\n<!-- Title: %3 Pages: 1 -->\n<svg width=\"153pt\" height=\"63pt\"\n viewBox=\"0.00 0.00 152.80 62.80\" xmlns=\"http://www.w3.org/2000/svg\" xmlns:xlink=\"http://www.w3.org/1999/xlink\">\n<g id=\"graph0\" class=\"graph\" transform=\"scale(1 1) rotate(0) translate(4 58.7958)\">\n<title>%3</title>\n<polygon fill=\"#ffffff\" stroke=\"transparent\" points=\"-4,4 -4,-58.7958 148.7958,-58.7958 148.7958,4 -4,4\"/>\n<!-- EMPTY -->\n<g id=\"node1\" class=\"node\">\n<title>EMPTY</title>\n</g>\n<!-- St1 -->\n<g id=\"node2\" class=\"node\">\n<title>St1</title>\n<ellipse fill=\"none\" stroke=\"#000000\" cx=\"117.3979\" cy=\"-27.3979\" rx=\"23.3111\" ry=\"23.3111\"/>\n<ellipse fill=\"none\" stroke=\"#000000\" cx=\"117.3979\" cy=\"-27.3979\" rx=\"27.2962\" ry=\"27.2962\"/>\n<text text-anchor=\"middle\" x=\"117.3979\" y=\"-23.6979\" font-family=\"Times,serif\" font-size=\"14.00\" fill=\"#000000\">St1</text>\n</g>\n<!-- EMPTY&#45;&gt;St1 -->\n<g id=\"edge1\" class=\"edge\">\n<title>EMPTY&#45;&gt;St1</title>\n<path fill=\"none\" stroke=\"#000000\" d=\"M54.1224,-27.3979C62.1825,-27.3979 71.1609,-27.3979 79.7631,-27.3979\"/>\n<polygon fill=\"#000000\" stroke=\"#000000\" points=\"79.9823,-30.898 89.9823,-27.3979 79.9822,-23.898 79.9823,-30.898\"/>\n</g>\n</g>\n</svg>\n"
          },
          "metadata": {},
          "execution_count": 2
        }
      ]
    },
    {
      "cell_type": "code",
      "source": [
        "dotObj_nfa(re2nfa(\"a\"))"
      ],
      "metadata": {
        "colab": {
          "base_uri": "https://localhost:8080/",
          "height": 105
        },
        "id": "p_44-VIFMGN5",
        "outputId": "83299859-cd90-485e-9250-806d551f76c6"
      },
      "execution_count": 3,
      "outputs": [
        {
          "output_type": "execute_result",
          "data": {
            "text/plain": [
              "<graphviz.dot.Digraph at 0x7f87f871a9d0>"
            ],
            "image/svg+xml": "<?xml version=\"1.0\" encoding=\"UTF-8\" standalone=\"no\"?>\n<!DOCTYPE svg PUBLIC \"-//W3C//DTD SVG 1.1//EN\"\n \"http://www.w3.org/Graphics/SVG/1.1/DTD/svg11.dtd\">\n<!-- Generated by graphviz version 2.40.1 (20161225.0304)\n -->\n<!-- Title: %3 Pages: 1 -->\n<svg width=\"247pt\" height=\"63pt\"\n viewBox=\"0.00 0.00 246.59 62.80\" xmlns=\"http://www.w3.org/2000/svg\" xmlns:xlink=\"http://www.w3.org/1999/xlink\">\n<g id=\"graph0\" class=\"graph\" transform=\"scale(1 1) rotate(0) translate(4 58.7958)\">\n<title>%3</title>\n<polygon fill=\"#ffffff\" stroke=\"transparent\" points=\"-4,4 -4,-58.7958 242.5917,-58.7958 242.5917,4 -4,4\"/>\n<!-- EMPTY -->\n<g id=\"node1\" class=\"node\">\n<title>EMPTY</title>\n</g>\n<!-- St1 -->\n<g id=\"node2\" class=\"node\">\n<title>St1</title>\n<ellipse fill=\"none\" stroke=\"#000000\" cx=\"114.3979\" cy=\"-27.3979\" rx=\"23.2963\" ry=\"23.2963\"/>\n<text text-anchor=\"middle\" x=\"114.3979\" y=\"-23.6979\" font-family=\"Times,serif\" font-size=\"14.00\" fill=\"#000000\">St1</text>\n</g>\n<!-- EMPTY&#45;&gt;St1 -->\n<g id=\"edge1\" class=\"edge\">\n<title>EMPTY&#45;&gt;St1</title>\n<path fill=\"none\" stroke=\"#000000\" d=\"M54.1742,-27.3979C62.5103,-27.3979 71.7873,-27.3979 80.5137,-27.3979\"/>\n<polygon fill=\"#000000\" stroke=\"#000000\" points=\"80.7846,-30.898 90.7846,-27.3979 80.7845,-23.898 80.7846,-30.898\"/>\n</g>\n<!-- St2 -->\n<g id=\"node3\" class=\"node\">\n<title>St2</title>\n<ellipse fill=\"none\" stroke=\"#000000\" cx=\"211.1938\" cy=\"-27.3979\" rx=\"23.3111\" ry=\"23.3111\"/>\n<ellipse fill=\"none\" stroke=\"#000000\" cx=\"211.1938\" cy=\"-27.3979\" rx=\"27.2962\" ry=\"27.2962\"/>\n<text text-anchor=\"middle\" x=\"211.1938\" y=\"-23.6979\" font-family=\"Times,serif\" font-size=\"14.00\" fill=\"#000000\">St2</text>\n</g>\n<!-- St1&#45;&gt;St2 -->\n<g id=\"edge2\" class=\"edge\">\n<title>St1&#45;&gt;St2</title>\n<path fill=\"none\" stroke=\"#000000\" d=\"M137.8295,-27.3979C148.4751,-27.3979 161.3399,-27.3979 173.3045,-27.3979\"/>\n<polygon fill=\"#000000\" stroke=\"#000000\" points=\"173.5086,-30.898 183.5086,-27.3979 173.5086,-23.898 173.5086,-30.898\"/>\n<text text-anchor=\"middle\" x=\"160.7958\" y=\"-31.1979\" font-family=\"Times,serif\" font-size=\"14.00\" fill=\"#000000\">a </text>\n</g>\n</g>\n</svg>\n"
          },
          "metadata": {},
          "execution_count": 3
        }
      ]
    },
    {
      "cell_type": "code",
      "source": [
        "dotObj_nfa(re2nfa(\"a+b\"))"
      ],
      "metadata": {
        "colab": {
          "base_uri": "https://localhost:8080/",
          "height": 203
        },
        "id": "sLUuPZWFMJHF",
        "outputId": "cc899a1c-0e93-4e66-c1ee-0748b74c2160"
      },
      "execution_count": 4,
      "outputs": [
        {
          "output_type": "execute_result",
          "data": {
            "text/plain": [
              "<graphviz.dot.Digraph at 0x7f87f872a190>"
            ],
            "image/svg+xml": "<?xml version=\"1.0\" encoding=\"UTF-8\" standalone=\"no\"?>\n<!DOCTYPE svg PUBLIC \"-//W3C//DTD SVG 1.1//EN\"\n \"http://www.w3.org/Graphics/SVG/1.1/DTD/svg11.dtd\">\n<!-- Generated by graphviz version 2.40.1 (20161225.0304)\n -->\n<!-- Title: %3 Pages: 1 -->\n<svg width=\"249pt\" height=\"136pt\"\n viewBox=\"0.00 0.00 248.59 135.80\" xmlns=\"http://www.w3.org/2000/svg\" xmlns:xlink=\"http://www.w3.org/1999/xlink\">\n<g id=\"graph0\" class=\"graph\" transform=\"scale(1 1) rotate(0) translate(4 131.7958)\">\n<title>%3</title>\n<polygon fill=\"#ffffff\" stroke=\"transparent\" points=\"-4,4 -4,-131.7958 244.5917,-131.7958 244.5917,4 -4,4\"/>\n<!-- EMPTY -->\n<g id=\"node1\" class=\"node\">\n<title>EMPTY</title>\n</g>\n<!-- St3 -->\n<g id=\"node2\" class=\"node\">\n<title>St3</title>\n<ellipse fill=\"none\" stroke=\"#000000\" cx=\"114.3979\" cy=\"-98.3979\" rx=\"23.2963\" ry=\"23.2963\"/>\n<text text-anchor=\"middle\" x=\"114.3979\" y=\"-94.6979\" font-family=\"Times,serif\" font-size=\"14.00\" fill=\"#000000\">St3</text>\n</g>\n<!-- EMPTY&#45;&gt;St3 -->\n<g id=\"edge1\" class=\"edge\">\n<title>EMPTY&#45;&gt;St3</title>\n<path fill=\"none\" stroke=\"#000000\" d=\"M54.1742,-72.9021C63.3974,-76.8068 73.7724,-81.199 83.279,-85.2237\"/>\n<polygon fill=\"#000000\" stroke=\"#000000\" points=\"82.2136,-88.5734 92.7869,-89.2489 84.9427,-82.1272 82.2136,-88.5734\"/>\n</g>\n<!-- St1 -->\n<g id=\"node3\" class=\"node\">\n<title>St1</title>\n<ellipse fill=\"none\" stroke=\"#000000\" cx=\"114.3979\" cy=\"-29.3979\" rx=\"23.2963\" ry=\"23.2963\"/>\n<text text-anchor=\"middle\" x=\"114.3979\" y=\"-25.6979\" font-family=\"Times,serif\" font-size=\"14.00\" fill=\"#000000\">St1</text>\n</g>\n<!-- EMPTY&#45;&gt;St1 -->\n<g id=\"edge2\" class=\"edge\">\n<title>EMPTY&#45;&gt;St1</title>\n<path fill=\"none\" stroke=\"#000000\" d=\"M54.1742,-51.4483C63.2486,-48.1258 73.438,-44.3951 82.8183,-40.9605\"/>\n<polygon fill=\"#000000\" stroke=\"#000000\" points=\"84.0332,-44.243 92.2202,-37.5181 81.6264,-37.6698 84.0332,-44.243\"/>\n</g>\n<!-- St4 -->\n<g id=\"node4\" class=\"node\">\n<title>St4</title>\n<ellipse fill=\"none\" stroke=\"#000000\" cx=\"213.1938\" cy=\"-100.3979\" rx=\"23.3111\" ry=\"23.3111\"/>\n<ellipse fill=\"none\" stroke=\"#000000\" cx=\"213.1938\" cy=\"-100.3979\" rx=\"27.2962\" ry=\"27.2962\"/>\n<text text-anchor=\"middle\" x=\"213.1938\" y=\"-96.6979\" font-family=\"Times,serif\" font-size=\"14.00\" fill=\"#000000\">St4</text>\n</g>\n<!-- St3&#45;&gt;St4 -->\n<g id=\"edge4\" class=\"edge\">\n<title>St3&#45;&gt;St4</title>\n<path fill=\"none\" stroke=\"#000000\" d=\"M137.8112,-98.8719C149.0451,-99.0993 162.7854,-99.3775 175.4437,-99.6337\"/>\n<polygon fill=\"#000000\" stroke=\"#000000\" points=\"175.6745,-103.139 185.7433,-99.8422 175.8163,-96.1404 175.6745,-103.139\"/>\n<text text-anchor=\"middle\" x=\"161.7958\" y=\"-103.1979\" font-family=\"Times,serif\" font-size=\"14.00\" fill=\"#000000\">b </text>\n</g>\n<!-- St2 -->\n<g id=\"node5\" class=\"node\">\n<title>St2</title>\n<ellipse fill=\"none\" stroke=\"#000000\" cx=\"213.1938\" cy=\"-27.3979\" rx=\"23.3111\" ry=\"23.3111\"/>\n<ellipse fill=\"none\" stroke=\"#000000\" cx=\"213.1938\" cy=\"-27.3979\" rx=\"27.2962\" ry=\"27.2962\"/>\n<text text-anchor=\"middle\" x=\"213.1938\" y=\"-23.6979\" font-family=\"Times,serif\" font-size=\"14.00\" fill=\"#000000\">St2</text>\n</g>\n<!-- St1&#45;&gt;St2 -->\n<g id=\"edge3\" class=\"edge\">\n<title>St1&#45;&gt;St2</title>\n<path fill=\"none\" stroke=\"#000000\" d=\"M137.8112,-28.924C149.0451,-28.6965 162.7854,-28.4184 175.4437,-28.1621\"/>\n<polygon fill=\"#000000\" stroke=\"#000000\" points=\"175.8163,-31.6554 185.7433,-27.9536 175.6745,-24.6568 175.8163,-31.6554\"/>\n<text text-anchor=\"middle\" x=\"161.7958\" y=\"-33.1979\" font-family=\"Times,serif\" font-size=\"14.00\" fill=\"#000000\">a </text>\n</g>\n</g>\n</svg>\n"
          },
          "metadata": {},
          "execution_count": 4
        }
      ]
    },
    {
      "cell_type": "code",
      "source": [
        "dotObj_nfa(re2nfa(\"a*\"))"
      ],
      "metadata": {
        "colab": {
          "base_uri": "https://localhost:8080/",
          "height": 140
        },
        "id": "y6vJ1hHDMLBB",
        "outputId": "d9823a7e-d5f7-4210-d060-b85c3a9bdcbb"
      },
      "execution_count": 5,
      "outputs": [
        {
          "output_type": "execute_result",
          "data": {
            "text/plain": [
              "<graphviz.dot.Digraph at 0x7f87f8730390>"
            ],
            "image/svg+xml": "<?xml version=\"1.0\" encoding=\"UTF-8\" standalone=\"no\"?>\n<!DOCTYPE svg PUBLIC \"-//W3C//DTD SVG 1.1//EN\"\n \"http://www.w3.org/Graphics/SVG/1.1/DTD/svg11.dtd\">\n<!-- Generated by graphviz version 2.40.1 (20161225.0304)\n -->\n<!-- Title: %3 Pages: 1 -->\n<svg width=\"338pt\" height=\"89pt\"\n viewBox=\"0.00 0.00 338.39 88.80\" xmlns=\"http://www.w3.org/2000/svg\" xmlns:xlink=\"http://www.w3.org/1999/xlink\">\n<g id=\"graph0\" class=\"graph\" transform=\"scale(1 1) rotate(0) translate(4 84.7958)\">\n<title>%3</title>\n<polygon fill=\"#ffffff\" stroke=\"transparent\" points=\"-4,4 -4,-84.7958 334.3875,-84.7958 334.3875,4 -4,4\"/>\n<!-- EMPTY -->\n<g id=\"node1\" class=\"node\">\n<title>EMPTY</title>\n</g>\n<!-- St3 -->\n<g id=\"node4\" class=\"node\">\n<title>St3</title>\n<ellipse fill=\"none\" stroke=\"#000000\" cx=\"118.3979\" cy=\"-53.3979\" rx=\"23.3111\" ry=\"23.3111\"/>\n<ellipse fill=\"none\" stroke=\"#000000\" cx=\"118.3979\" cy=\"-53.3979\" rx=\"27.2962\" ry=\"27.2962\"/>\n<text text-anchor=\"middle\" x=\"118.3979\" y=\"-49.6979\" font-family=\"Times,serif\" font-size=\"14.00\" fill=\"#000000\">St3</text>\n</g>\n<!-- EMPTY&#45;&gt;St3 -->\n<g id=\"edge1\" class=\"edge\">\n<title>EMPTY&#45;&gt;St3</title>\n<path fill=\"none\" stroke=\"#000000\" d=\"M54.4224,-53.3979C62.7369,-53.3979 72.0177,-53.3979 80.875,-53.3979\"/>\n<polygon fill=\"#000000\" stroke=\"#000000\" points=\"80.9949,-56.898 90.9949,-53.3979 80.9949,-49.898 80.9949,-56.898\"/>\n</g>\n<!-- St1 -->\n<g id=\"node2\" class=\"node\">\n<title>St1</title>\n<ellipse fill=\"none\" stroke=\"#000000\" cx=\"214.1938\" cy=\"-23.3979\" rx=\"23.2963\" ry=\"23.2963\"/>\n<text text-anchor=\"middle\" x=\"214.1938\" y=\"-19.6979\" font-family=\"Times,serif\" font-size=\"14.00\" fill=\"#000000\">St1</text>\n</g>\n<!-- St2 -->\n<g id=\"node3\" class=\"node\">\n<title>St2</title>\n<ellipse fill=\"none\" stroke=\"#000000\" cx=\"306.9896\" cy=\"-53.3979\" rx=\"23.2963\" ry=\"23.2963\"/>\n<text text-anchor=\"middle\" x=\"306.9896\" y=\"-49.6979\" font-family=\"Times,serif\" font-size=\"14.00\" fill=\"#000000\">St2</text>\n</g>\n<!-- St1&#45;&gt;St2 -->\n<g id=\"edge3\" class=\"edge\">\n<title>St1&#45;&gt;St2</title>\n<path fill=\"none\" stroke=\"#000000\" d=\"M236.6571,-30.6601C248.0847,-34.3545 262.1798,-38.9114 274.7439,-42.9732\"/>\n<polygon fill=\"#000000\" stroke=\"#000000\" points=\"273.8198,-46.3527 284.4116,-46.0987 275.9731,-39.6922 273.8198,-46.3527\"/>\n<text text-anchor=\"middle\" x=\"260.5917\" y=\"-42.1979\" font-family=\"Times,serif\" font-size=\"14.00\" fill=\"#000000\">a </text>\n</g>\n<!-- St2&#45;&gt;St3 -->\n<g id=\"edge4\" class=\"edge\">\n<title>St2&#45;&gt;St3</title>\n<path fill=\"none\" stroke=\"#000000\" d=\"M283.3746,-56.0759C277.5679,-56.6249 271.3615,-57.1198 265.5917,-57.3979 220.4016,-59.5761 208.9948,-59.3853 163.7958,-57.3979 161.2368,-57.2854 158.5989,-57.1374 155.9431,-56.9646\"/>\n<polygon fill=\"#000000\" stroke=\"#000000\" points=\"155.9736,-53.4571 145.7396,-56.1985 155.4494,-60.4375 155.9736,-53.4571\"/>\n<text text-anchor=\"middle\" x=\"214.1938\" y=\"-62.1979\" font-family=\"Times,serif\" font-size=\"14.00\" fill=\"#000000\">&#39;&#39; </text>\n</g>\n<!-- St3&#45;&gt;St1 -->\n<g id=\"edge2\" class=\"edge\">\n<title>St3&#45;&gt;St1</title>\n<path fill=\"none\" stroke=\"#000000\" d=\"M144.5746,-45.2003C156.0868,-41.5951 169.723,-37.3247 181.8624,-33.523\"/>\n<polygon fill=\"#000000\" stroke=\"#000000\" points=\"183.131,-36.7934 191.6279,-30.4648 181.0389,-30.1133 183.131,-36.7934\"/>\n<text text-anchor=\"middle\" x=\"168.2958\" y=\"-42.1979\" font-family=\"Times,serif\" font-size=\"14.00\" fill=\"#000000\">&#39;&#39; </text>\n</g>\n</g>\n</svg>\n"
          },
          "metadata": {},
          "execution_count": 5
        }
      ]
    },
    {
      "cell_type": "code",
      "source": [
        "dotObj_nfa(re2nfa(\"(p+q)\"))"
      ],
      "metadata": {
        "colab": {
          "base_uri": "https://localhost:8080/",
          "height": 203
        },
        "id": "erXnJUeAMNfk",
        "outputId": "2a1ecb4b-cd7e-4a2b-a788-4b2acdb15aa5"
      },
      "execution_count": 6,
      "outputs": [
        {
          "output_type": "execute_result",
          "data": {
            "text/plain": [
              "<graphviz.dot.Digraph at 0x7f87f871a210>"
            ],
            "image/svg+xml": "<?xml version=\"1.0\" encoding=\"UTF-8\" standalone=\"no\"?>\n<!DOCTYPE svg PUBLIC \"-//W3C//DTD SVG 1.1//EN\"\n \"http://www.w3.org/Graphics/SVG/1.1/DTD/svg11.dtd\">\n<!-- Generated by graphviz version 2.40.1 (20161225.0304)\n -->\n<!-- Title: %3 Pages: 1 -->\n<svg width=\"249pt\" height=\"136pt\"\n viewBox=\"0.00 0.00 248.59 135.80\" xmlns=\"http://www.w3.org/2000/svg\" xmlns:xlink=\"http://www.w3.org/1999/xlink\">\n<g id=\"graph0\" class=\"graph\" transform=\"scale(1 1) rotate(0) translate(4 131.7958)\">\n<title>%3</title>\n<polygon fill=\"#ffffff\" stroke=\"transparent\" points=\"-4,4 -4,-131.7958 244.5917,-131.7958 244.5917,4 -4,4\"/>\n<!-- EMPTY -->\n<g id=\"node1\" class=\"node\">\n<title>EMPTY</title>\n</g>\n<!-- St3 -->\n<g id=\"node2\" class=\"node\">\n<title>St3</title>\n<ellipse fill=\"none\" stroke=\"#000000\" cx=\"114.3979\" cy=\"-98.3979\" rx=\"23.2963\" ry=\"23.2963\"/>\n<text text-anchor=\"middle\" x=\"114.3979\" y=\"-94.6979\" font-family=\"Times,serif\" font-size=\"14.00\" fill=\"#000000\">St3</text>\n</g>\n<!-- EMPTY&#45;&gt;St3 -->\n<g id=\"edge1\" class=\"edge\">\n<title>EMPTY&#45;&gt;St3</title>\n<path fill=\"none\" stroke=\"#000000\" d=\"M54.1742,-72.9021C63.3974,-76.8068 73.7724,-81.199 83.279,-85.2237\"/>\n<polygon fill=\"#000000\" stroke=\"#000000\" points=\"82.2136,-88.5734 92.7869,-89.2489 84.9427,-82.1272 82.2136,-88.5734\"/>\n</g>\n<!-- St1 -->\n<g id=\"node3\" class=\"node\">\n<title>St1</title>\n<ellipse fill=\"none\" stroke=\"#000000\" cx=\"114.3979\" cy=\"-29.3979\" rx=\"23.2963\" ry=\"23.2963\"/>\n<text text-anchor=\"middle\" x=\"114.3979\" y=\"-25.6979\" font-family=\"Times,serif\" font-size=\"14.00\" fill=\"#000000\">St1</text>\n</g>\n<!-- EMPTY&#45;&gt;St1 -->\n<g id=\"edge2\" class=\"edge\">\n<title>EMPTY&#45;&gt;St1</title>\n<path fill=\"none\" stroke=\"#000000\" d=\"M54.1742,-51.4483C63.2486,-48.1258 73.438,-44.3951 82.8183,-40.9605\"/>\n<polygon fill=\"#000000\" stroke=\"#000000\" points=\"84.0332,-44.243 92.2202,-37.5181 81.6264,-37.6698 84.0332,-44.243\"/>\n</g>\n<!-- St4 -->\n<g id=\"node4\" class=\"node\">\n<title>St4</title>\n<ellipse fill=\"none\" stroke=\"#000000\" cx=\"213.1938\" cy=\"-100.3979\" rx=\"23.3111\" ry=\"23.3111\"/>\n<ellipse fill=\"none\" stroke=\"#000000\" cx=\"213.1938\" cy=\"-100.3979\" rx=\"27.2962\" ry=\"27.2962\"/>\n<text text-anchor=\"middle\" x=\"213.1938\" y=\"-96.6979\" font-family=\"Times,serif\" font-size=\"14.00\" fill=\"#000000\">St4</text>\n</g>\n<!-- St3&#45;&gt;St4 -->\n<g id=\"edge4\" class=\"edge\">\n<title>St3&#45;&gt;St4</title>\n<path fill=\"none\" stroke=\"#000000\" d=\"M137.8112,-98.8719C149.0451,-99.0993 162.7854,-99.3775 175.4437,-99.6337\"/>\n<polygon fill=\"#000000\" stroke=\"#000000\" points=\"175.6745,-103.139 185.7433,-99.8422 175.8163,-96.1404 175.6745,-103.139\"/>\n<text text-anchor=\"middle\" x=\"161.7958\" y=\"-103.1979\" font-family=\"Times,serif\" font-size=\"14.00\" fill=\"#000000\">q </text>\n</g>\n<!-- St2 -->\n<g id=\"node5\" class=\"node\">\n<title>St2</title>\n<ellipse fill=\"none\" stroke=\"#000000\" cx=\"213.1938\" cy=\"-27.3979\" rx=\"23.3111\" ry=\"23.3111\"/>\n<ellipse fill=\"none\" stroke=\"#000000\" cx=\"213.1938\" cy=\"-27.3979\" rx=\"27.2962\" ry=\"27.2962\"/>\n<text text-anchor=\"middle\" x=\"213.1938\" y=\"-23.6979\" font-family=\"Times,serif\" font-size=\"14.00\" fill=\"#000000\">St2</text>\n</g>\n<!-- St1&#45;&gt;St2 -->\n<g id=\"edge3\" class=\"edge\">\n<title>St1&#45;&gt;St2</title>\n<path fill=\"none\" stroke=\"#000000\" d=\"M137.8112,-28.924C149.0451,-28.6965 162.7854,-28.4184 175.4437,-28.1621\"/>\n<polygon fill=\"#000000\" stroke=\"#000000\" points=\"175.8163,-31.6554 185.7433,-27.9536 175.6745,-24.6568 175.8163,-31.6554\"/>\n<text text-anchor=\"middle\" x=\"161.7958\" y=\"-33.1979\" font-family=\"Times,serif\" font-size=\"14.00\" fill=\"#000000\">p </text>\n</g>\n</g>\n</svg>\n"
          },
          "metadata": {},
          "execution_count": 6
        }
      ]
    },
    {
      "cell_type": "code",
      "source": [
        "dotObj_nfa(re2nfa(\"(p+q)*\"))"
      ],
      "metadata": {
        "colab": {
          "base_uri": "https://localhost:8080/",
          "height": 257
        },
        "id": "l4DAlwZ5MSrH",
        "outputId": "6cdeecb5-8c03-4e52-da9a-0dec18213d14"
      },
      "execution_count": 7,
      "outputs": [
        {
          "output_type": "execute_result",
          "data": {
            "text/plain": [
              "<graphviz.dot.Digraph at 0x7f87f87091d0>"
            ],
            "image/svg+xml": "<?xml version=\"1.0\" encoding=\"UTF-8\" standalone=\"no\"?>\n<!DOCTYPE svg PUBLIC \"-//W3C//DTD SVG 1.1//EN\"\n \"http://www.w3.org/Graphics/SVG/1.1/DTD/svg11.dtd\">\n<!-- Generated by graphviz version 2.40.1 (20161225.0304)\n -->\n<!-- Title: %3 Pages: 1 -->\n<svg width=\"340pt\" height=\"177pt\"\n viewBox=\"0.00 0.00 340.39 177.29\" xmlns=\"http://www.w3.org/2000/svg\" xmlns:xlink=\"http://www.w3.org/1999/xlink\">\n<g id=\"graph0\" class=\"graph\" transform=\"scale(1 1) rotate(0) translate(4 173.2895)\">\n<title>%3</title>\n<polygon fill=\"#ffffff\" stroke=\"transparent\" points=\"-4,4 -4,-173.2895 336.3875,-173.2895 336.3875,4 -4,4\"/>\n<!-- EMPTY -->\n<g id=\"node1\" class=\"node\">\n<title>EMPTY</title>\n</g>\n<!-- St5 -->\n<g id=\"node6\" class=\"node\">\n<title>St5</title>\n<ellipse fill=\"none\" stroke=\"#000000\" cx=\"118.3979\" cy=\"-91.2895\" rx=\"23.3111\" ry=\"23.3111\"/>\n<ellipse fill=\"none\" stroke=\"#000000\" cx=\"118.3979\" cy=\"-91.2895\" rx=\"27.2962\" ry=\"27.2962\"/>\n<text text-anchor=\"middle\" x=\"118.3979\" y=\"-87.5895\" font-family=\"Times,serif\" font-size=\"14.00\" fill=\"#000000\">St5</text>\n</g>\n<!-- EMPTY&#45;&gt;St5 -->\n<g id=\"edge1\" class=\"edge\">\n<title>EMPTY&#45;&gt;St5</title>\n<path fill=\"none\" stroke=\"#000000\" d=\"M54.4224,-91.2895C62.7369,-91.2895 72.0177,-91.2895 80.875,-91.2895\"/>\n<polygon fill=\"#000000\" stroke=\"#000000\" points=\"80.9949,-94.7896 90.9949,-91.2895 80.9949,-87.7896 80.9949,-94.7896\"/>\n</g>\n<!-- St3 -->\n<g id=\"node2\" class=\"node\">\n<title>St3</title>\n<ellipse fill=\"none\" stroke=\"#000000\" cx=\"214.1938\" cy=\"-52.2895\" rx=\"23.2963\" ry=\"23.2963\"/>\n<text text-anchor=\"middle\" x=\"214.1938\" y=\"-48.5895\" font-family=\"Times,serif\" font-size=\"14.00\" fill=\"#000000\">St3</text>\n</g>\n<!-- St4 -->\n<g id=\"node4\" class=\"node\">\n<title>St4</title>\n<ellipse fill=\"none\" stroke=\"#000000\" cx=\"308.9896\" cy=\"-45.2895\" rx=\"23.2963\" ry=\"23.2963\"/>\n<text text-anchor=\"middle\" x=\"308.9896\" y=\"-41.5895\" font-family=\"Times,serif\" font-size=\"14.00\" fill=\"#000000\">St4</text>\n</g>\n<!-- St3&#45;&gt;St4 -->\n<g id=\"edge5\" class=\"edge\">\n<title>St3&#45;&gt;St4</title>\n<path fill=\"none\" stroke=\"#000000\" d=\"M237.6265,-50.5592C249.0203,-49.7178 262.9215,-48.6913 275.4176,-47.7686\"/>\n<polygon fill=\"#000000\" stroke=\"#000000\" points=\"275.7829,-51.2512 285.498,-47.0242 275.2673,-44.2702 275.7829,-51.2512\"/>\n<text text-anchor=\"middle\" x=\"261.5917\" y=\"-53.0895\" font-family=\"Times,serif\" font-size=\"14.00\" fill=\"#000000\">q </text>\n</g>\n<!-- St2 -->\n<g id=\"node3\" class=\"node\">\n<title>St2</title>\n<ellipse fill=\"none\" stroke=\"#000000\" cx=\"308.9896\" cy=\"-138.2895\" rx=\"23.2963\" ry=\"23.2963\"/>\n<text text-anchor=\"middle\" x=\"308.9896\" y=\"-134.5895\" font-family=\"Times,serif\" font-size=\"14.00\" fill=\"#000000\">St2</text>\n</g>\n<!-- St2&#45;&gt;St5 -->\n<g id=\"edge7\" class=\"edge\">\n<title>St2&#45;&gt;St5</title>\n<path fill=\"none\" stroke=\"#000000\" d=\"M286.5222,-145.8691C262.2226,-152.8239 222.6846,-160.4878 190.7958,-149.2895 173.3045,-143.1471 156.9054,-130.802 144.1528,-119.0741\"/>\n<polygon fill=\"#000000\" stroke=\"#000000\" points=\"146.3403,-116.3219 136.7066,-111.9125 141.4879,-121.3671 146.3403,-116.3219\"/>\n<text text-anchor=\"middle\" x=\"214.1938\" y=\"-158.0895\" font-family=\"Times,serif\" font-size=\"14.00\" fill=\"#000000\">&#39;&#39; </text>\n</g>\n<!-- St4&#45;&gt;St5 -->\n<g id=\"edge6\" class=\"edge\">\n<title>St4&#45;&gt;St5</title>\n<path fill=\"none\" stroke=\"#000000\" d=\"M290.4884,-30.4157C266.8055,-13.3041 224.7742,10.5217 190.7958,-5.2895 167.3185,-16.2143 148.7297,-38.9157 136.2685,-58.252\"/>\n<polygon fill=\"#000000\" stroke=\"#000000\" points=\"133.2405,-56.4944 130.9788,-66.845 139.2016,-60.164 133.2405,-56.4944\"/>\n<text text-anchor=\"middle\" x=\"214.1938\" y=\"-9.0895\" font-family=\"Times,serif\" font-size=\"14.00\" fill=\"#000000\">&#39;&#39; </text>\n</g>\n<!-- St1 -->\n<g id=\"node5\" class=\"node\">\n<title>St1</title>\n<ellipse fill=\"none\" stroke=\"#000000\" cx=\"214.1938\" cy=\"-117.2895\" rx=\"23.2963\" ry=\"23.2963\"/>\n<text text-anchor=\"middle\" x=\"214.1938\" y=\"-113.5895\" font-family=\"Times,serif\" font-size=\"14.00\" fill=\"#000000\">St1</text>\n</g>\n<!-- St1&#45;&gt;St2 -->\n<g id=\"edge4\" class=\"edge\">\n<title>St1&#45;&gt;St2</title>\n<path fill=\"none\" stroke=\"#000000\" d=\"M237.1412,-122.373C248.8151,-124.9591 263.2141,-128.1489 276.0489,-130.9922\"/>\n<polygon fill=\"#000000\" stroke=\"#000000\" points=\"275.4046,-134.4342 285.9249,-133.18 276.9187,-127.5999 275.4046,-134.4342\"/>\n<text text-anchor=\"middle\" x=\"261.5917\" y=\"-132.0895\" font-family=\"Times,serif\" font-size=\"14.00\" fill=\"#000000\">p </text>\n</g>\n<!-- St5&#45;&gt;St3 -->\n<g id=\"edge2\" class=\"edge\">\n<title>St5&#45;&gt;St3</title>\n<path fill=\"none\" stroke=\"#000000\" d=\"M143.8179,-80.9406C155.8323,-76.0494 170.2869,-70.1647 182.9624,-65.0043\"/>\n<polygon fill=\"#000000\" stroke=\"#000000\" points=\"184.2967,-68.2401 192.2388,-61.2277 181.6572,-61.7568 184.2967,-68.2401\"/>\n<text text-anchor=\"middle\" x=\"168.2958\" y=\"-75.0895\" font-family=\"Times,serif\" font-size=\"14.00\" fill=\"#000000\">&#39;&#39; </text>\n</g>\n<!-- St5&#45;&gt;St1 -->\n<g id=\"edge3\" class=\"edge\">\n<title>St5&#45;&gt;St1</title>\n<path fill=\"none\" stroke=\"#000000\" d=\"M145.0824,-98.5319C156.3866,-101.6 169.6662,-105.2043 181.5479,-108.4291\"/>\n<polygon fill=\"#000000\" stroke=\"#000000\" points=\"180.9769,-111.9007 191.5446,-111.1423 182.8105,-105.1451 180.9769,-111.9007\"/>\n<text text-anchor=\"middle\" x=\"168.2958\" y=\"-109.0895\" font-family=\"Times,serif\" font-size=\"14.00\" fill=\"#000000\">&#39;&#39; </text>\n</g>\n</g>\n</svg>\n"
          },
          "metadata": {},
          "execution_count": 7
        }
      ]
    },
    {
      "cell_type": "code",
      "source": [
        "dotObj_nfa(re2nfa(\"pq\"))"
      ],
      "metadata": {
        "colab": {
          "base_uri": "https://localhost:8080/",
          "height": 105
        },
        "id": "5wHaDfacMWcf",
        "outputId": "0c7947e1-dfee-41f9-c973-c8505ecdfd4a"
      },
      "execution_count": 8,
      "outputs": [
        {
          "output_type": "execute_result",
          "data": {
            "text/plain": [
              "<graphviz.dot.Digraph at 0x7f87f8730cd0>"
            ],
            "image/svg+xml": "<?xml version=\"1.0\" encoding=\"UTF-8\" standalone=\"no\"?>\n<!DOCTYPE svg PUBLIC \"-//W3C//DTD SVG 1.1//EN\"\n \"http://www.w3.org/Graphics/SVG/1.1/DTD/svg11.dtd\">\n<!-- Generated by graphviz version 2.40.1 (20161225.0304)\n -->\n<!-- Title: %3 Pages: 1 -->\n<svg width=\"435pt\" height=\"63pt\"\n viewBox=\"0.00 0.00 435.18 62.80\" xmlns=\"http://www.w3.org/2000/svg\" xmlns:xlink=\"http://www.w3.org/1999/xlink\">\n<g id=\"graph0\" class=\"graph\" transform=\"scale(1 1) rotate(0) translate(4 58.7958)\">\n<title>%3</title>\n<polygon fill=\"#ffffff\" stroke=\"transparent\" points=\"-4,4 -4,-58.7958 431.1834,-58.7958 431.1834,4 -4,4\"/>\n<!-- EMPTY -->\n<g id=\"node1\" class=\"node\">\n<title>EMPTY</title>\n</g>\n<!-- St1 -->\n<g id=\"node3\" class=\"node\">\n<title>St1</title>\n<ellipse fill=\"none\" stroke=\"#000000\" cx=\"114.3979\" cy=\"-27.3979\" rx=\"23.2963\" ry=\"23.2963\"/>\n<text text-anchor=\"middle\" x=\"114.3979\" y=\"-23.6979\" font-family=\"Times,serif\" font-size=\"14.00\" fill=\"#000000\">St1</text>\n</g>\n<!-- EMPTY&#45;&gt;St1 -->\n<g id=\"edge1\" class=\"edge\">\n<title>EMPTY&#45;&gt;St1</title>\n<path fill=\"none\" stroke=\"#000000\" d=\"M54.1742,-27.3979C62.5103,-27.3979 71.7873,-27.3979 80.5137,-27.3979\"/>\n<polygon fill=\"#000000\" stroke=\"#000000\" points=\"80.7846,-30.898 90.7846,-27.3979 80.7845,-23.898 80.7846,-30.898\"/>\n</g>\n<!-- St3 -->\n<g id=\"node2\" class=\"node\">\n<title>St3</title>\n<ellipse fill=\"none\" stroke=\"#000000\" cx=\"300.9896\" cy=\"-27.3979\" rx=\"23.2963\" ry=\"23.2963\"/>\n<text text-anchor=\"middle\" x=\"300.9896\" y=\"-23.6979\" font-family=\"Times,serif\" font-size=\"14.00\" fill=\"#000000\">St3</text>\n</g>\n<!-- St4 -->\n<g id=\"node5\" class=\"node\">\n<title>St4</title>\n<ellipse fill=\"none\" stroke=\"#000000\" cx=\"399.7855\" cy=\"-27.3979\" rx=\"23.3111\" ry=\"23.3111\"/>\n<ellipse fill=\"none\" stroke=\"#000000\" cx=\"399.7855\" cy=\"-27.3979\" rx=\"27.2962\" ry=\"27.2962\"/>\n<text text-anchor=\"middle\" x=\"399.7855\" y=\"-23.6979\" font-family=\"Times,serif\" font-size=\"14.00\" fill=\"#000000\">St4</text>\n</g>\n<!-- St3&#45;&gt;St4 -->\n<g id=\"edge3\" class=\"edge\">\n<title>St3&#45;&gt;St4</title>\n<path fill=\"none\" stroke=\"#000000\" d=\"M324.4029,-27.3979C335.6368,-27.3979 349.3771,-27.3979 362.0354,-27.3979\"/>\n<polygon fill=\"#000000\" stroke=\"#000000\" points=\"362.3351,-30.898 372.335,-27.3979 362.335,-23.898 362.3351,-30.898\"/>\n<text text-anchor=\"middle\" x=\"348.3875\" y=\"-31.1979\" font-family=\"Times,serif\" font-size=\"14.00\" fill=\"#000000\">q </text>\n</g>\n<!-- St2 -->\n<g id=\"node4\" class=\"node\">\n<title>St2</title>\n<ellipse fill=\"none\" stroke=\"#000000\" cx=\"209.1938\" cy=\"-27.3979\" rx=\"23.2963\" ry=\"23.2963\"/>\n<text text-anchor=\"middle\" x=\"209.1938\" y=\"-23.6979\" font-family=\"Times,serif\" font-size=\"14.00\" fill=\"#000000\">St2</text>\n</g>\n<!-- St1&#45;&gt;St2 -->\n<g id=\"edge2\" class=\"edge\">\n<title>St1&#45;&gt;St2</title>\n<path fill=\"none\" stroke=\"#000000\" d=\"M137.8306,-27.3979C149.2245,-27.3979 163.1257,-27.3979 175.6218,-27.3979\"/>\n<polygon fill=\"#000000\" stroke=\"#000000\" points=\"175.7021,-30.898 185.7021,-27.3979 175.7021,-23.898 175.7021,-30.898\"/>\n<text text-anchor=\"middle\" x=\"161.7958\" y=\"-31.1979\" font-family=\"Times,serif\" font-size=\"14.00\" fill=\"#000000\">p </text>\n</g>\n<!-- St2&#45;&gt;St3 -->\n<g id=\"edge4\" class=\"edge\">\n<title>St2&#45;&gt;St3</title>\n<path fill=\"none\" stroke=\"#000000\" d=\"M232.8335,-27.3979C243.3267,-27.3979 255.868,-27.3979 267.3151,-27.3979\"/>\n<polygon fill=\"#000000\" stroke=\"#000000\" points=\"267.4301,-30.898 277.43,-27.3979 267.43,-23.898 267.4301,-30.898\"/>\n<text text-anchor=\"middle\" x=\"255.0917\" y=\"-31.1979\" font-family=\"Times,serif\" font-size=\"14.00\" fill=\"#000000\">&#39;&#39; </text>\n</g>\n</g>\n</svg>\n"
          },
          "metadata": {},
          "execution_count": 8
        }
      ]
    },
    {
      "cell_type": "code",
      "source": [
        "dotObj_nfa(re2nfa(\"p*q*\"))"
      ],
      "metadata": {
        "colab": {
          "base_uri": "https://localhost:8080/",
          "height": 293
        },
        "id": "M01dBs6gMcOb",
        "outputId": "dbd3aa55-0918-40ab-a341-ff32fd92fa0b"
      },
      "execution_count": 9,
      "outputs": [
        {
          "output_type": "execute_result",
          "data": {
            "text/plain": [
              "<graphviz.dot.Digraph at 0x7f87f8730dd0>"
            ],
            "image/svg+xml": "<?xml version=\"1.0\" encoding=\"UTF-8\" standalone=\"no\"?>\n<!DOCTYPE svg PUBLIC \"-//W3C//DTD SVG 1.1//EN\"\n \"http://www.w3.org/Graphics/SVG/1.1/DTD/svg11.dtd\">\n<!-- Generated by graphviz version 2.40.1 (20161225.0304)\n -->\n<!-- Title: %3 Pages: 1 -->\n<svg width=\"435pt\" height=\"204pt\"\n viewBox=\"0.00 0.00 435.18 203.80\" xmlns=\"http://www.w3.org/2000/svg\" xmlns:xlink=\"http://www.w3.org/1999/xlink\">\n<g id=\"graph0\" class=\"graph\" transform=\"scale(1 1) rotate(0) translate(4 199.7958)\">\n<title>%3</title>\n<polygon fill=\"#ffffff\" stroke=\"transparent\" points=\"-4,4 -4,-199.7958 431.1834,-199.7958 431.1834,4 -4,4\"/>\n<!-- EMPTY -->\n<g id=\"node1\" class=\"node\">\n<title>EMPTY</title>\n</g>\n<!-- St3 -->\n<g id=\"node4\" class=\"node\">\n<title>St3</title>\n<ellipse fill=\"none\" stroke=\"#000000\" cx=\"114.3979\" cy=\"-116.3979\" rx=\"23.2963\" ry=\"23.2963\"/>\n<text text-anchor=\"middle\" x=\"114.3979\" y=\"-112.6979\" font-family=\"Times,serif\" font-size=\"14.00\" fill=\"#000000\">St3</text>\n</g>\n<!-- EMPTY&#45;&gt;St3 -->\n<g id=\"edge1\" class=\"edge\">\n<title>EMPTY&#45;&gt;St3</title>\n<path fill=\"none\" stroke=\"#000000\" d=\"M54.1742,-116.3979C62.5103,-116.3979 71.7873,-116.3979 80.5137,-116.3979\"/>\n<polygon fill=\"#000000\" stroke=\"#000000\" points=\"80.7846,-119.898 90.7846,-116.3979 80.7845,-112.898 80.7846,-119.898\"/>\n</g>\n<!-- St5 -->\n<g id=\"node2\" class=\"node\">\n<title>St5</title>\n<ellipse fill=\"none\" stroke=\"#000000\" cx=\"403.7855\" cy=\"-53.3979\" rx=\"23.2963\" ry=\"23.2963\"/>\n<text text-anchor=\"middle\" x=\"403.7855\" y=\"-49.6979\" font-family=\"Times,serif\" font-size=\"14.00\" fill=\"#000000\">St5</text>\n</g>\n<!-- St6 -->\n<g id=\"node7\" class=\"node\">\n<title>St6</title>\n<ellipse fill=\"none\" stroke=\"#000000\" cx=\"210.1938\" cy=\"-53.3979\" rx=\"23.3111\" ry=\"23.3111\"/>\n<ellipse fill=\"none\" stroke=\"#000000\" cx=\"210.1938\" cy=\"-53.3979\" rx=\"27.2962\" ry=\"27.2962\"/>\n<text text-anchor=\"middle\" x=\"210.1938\" y=\"-49.6979\" font-family=\"Times,serif\" font-size=\"14.00\" fill=\"#000000\">St6</text>\n</g>\n<!-- St5&#45;&gt;St6 -->\n<g id=\"edge8\" class=\"edge\">\n<title>St5&#45;&gt;St6</title>\n<path fill=\"none\" stroke=\"#000000\" d=\"M380.1864,-56.745C374.3792,-57.4313 368.1686,-58.0501 362.3875,-58.3979 315.0063,-61.2489 303.0011,-59.7331 255.5917,-57.3979 253.0332,-57.2719 250.3958,-57.1138 247.7404,-56.9337\"/>\n<polygon fill=\"#000000\" stroke=\"#000000\" points=\"247.7759,-53.4263 237.5376,-56.1517 247.2409,-60.4058 247.7759,-53.4263\"/>\n<text text-anchor=\"middle\" x=\"308.9896\" y=\"-63.1979\" font-family=\"Times,serif\" font-size=\"14.00\" fill=\"#000000\">&#39;&#39; </text>\n</g>\n<!-- St1 -->\n<g id=\"node3\" class=\"node\">\n<title>St1</title>\n<ellipse fill=\"none\" stroke=\"#000000\" cx=\"210.1938\" cy=\"-172.3979\" rx=\"23.2963\" ry=\"23.2963\"/>\n<text text-anchor=\"middle\" x=\"210.1938\" y=\"-168.6979\" font-family=\"Times,serif\" font-size=\"14.00\" fill=\"#000000\">St1</text>\n</g>\n<!-- St2 -->\n<g id=\"node6\" class=\"node\">\n<title>St2</title>\n<ellipse fill=\"none\" stroke=\"#000000\" cx=\"308.9896\" cy=\"-149.3979\" rx=\"23.2963\" ry=\"23.2963\"/>\n<text text-anchor=\"middle\" x=\"308.9896\" y=\"-145.6979\" font-family=\"Times,serif\" font-size=\"14.00\" fill=\"#000000\">St2</text>\n</g>\n<!-- St1&#45;&gt;St2 -->\n<g id=\"edge4\" class=\"edge\">\n<title>St1&#45;&gt;St2</title>\n<path fill=\"none\" stroke=\"#000000\" d=\"M233.1078,-167.0635C245.9512,-164.0735 262.1858,-160.294 276.3396,-156.999\"/>\n<polygon fill=\"#000000\" stroke=\"#000000\" points=\"277.2539,-160.3798 286.1998,-154.7035 275.6666,-153.5621 277.2539,-160.3798\"/>\n<text text-anchor=\"middle\" x=\"261.5917\" y=\"-165.1979\" font-family=\"Times,serif\" font-size=\"14.00\" fill=\"#000000\">p </text>\n</g>\n<!-- St3&#45;&gt;St1 -->\n<g id=\"edge3\" class=\"edge\">\n<title>St3&#45;&gt;St1</title>\n<path fill=\"none\" stroke=\"#000000\" d=\"M134.7138,-128.2741C148.1765,-136.1441 166.0492,-146.5921 181.0235,-155.3457\"/>\n<polygon fill=\"#000000\" stroke=\"#000000\" points=\"179.5077,-158.5137 189.9072,-160.5389 183.0405,-152.4705 179.5077,-158.5137\"/>\n<text text-anchor=\"middle\" x=\"160.2958\" y=\"-148.1979\" font-family=\"Times,serif\" font-size=\"14.00\" fill=\"#000000\">&#39;&#39; </text>\n</g>\n<!-- St3&#45;&gt;St6 -->\n<g id=\"edge2\" class=\"edge\">\n<title>St3&#45;&gt;St6</title>\n<path fill=\"none\" stroke=\"#000000\" d=\"M133.6295,-102.6128C140.5618,-97.7272 148.4791,-92.2424 155.7958,-87.3979 162.8474,-82.729 170.502,-77.8383 177.7815,-73.2682\"/>\n<polygon fill=\"#000000\" stroke=\"#000000\" points=\"180.0928,-75.9518 186.7278,-67.6917 176.39,-70.0113 180.0928,-75.9518\"/>\n<text text-anchor=\"middle\" x=\"160.2958\" y=\"-91.1979\" font-family=\"Times,serif\" font-size=\"14.00\" fill=\"#000000\">&#39;&#39; </text>\n</g>\n<!-- St4 -->\n<g id=\"node5\" class=\"node\">\n<title>St4</title>\n<ellipse fill=\"none\" stroke=\"#000000\" cx=\"308.9896\" cy=\"-23.3979\" rx=\"23.2963\" ry=\"23.2963\"/>\n<text text-anchor=\"middle\" x=\"308.9896\" y=\"-19.6979\" font-family=\"Times,serif\" font-size=\"14.00\" fill=\"#000000\">St4</text>\n</g>\n<!-- St4&#45;&gt;St5 -->\n<g id=\"edge7\" class=\"edge\">\n<title>St4&#45;&gt;St5</title>\n<path fill=\"none\" stroke=\"#000000\" d=\"M331.4549,-30.5075C343.4094,-34.2907 358.322,-39.0101 371.4957,-43.1792\"/>\n<polygon fill=\"#000000\" stroke=\"#000000\" points=\"370.5629,-46.555 381.1529,-46.2354 372.675,-39.8812 370.5629,-46.555\"/>\n<text text-anchor=\"middle\" x=\"356.3875\" y=\"-43.1979\" font-family=\"Times,serif\" font-size=\"14.00\" fill=\"#000000\">q </text>\n</g>\n<!-- St2&#45;&gt;St3 -->\n<g id=\"edge5\" class=\"edge\">\n<title>St2&#45;&gt;St3</title>\n<path fill=\"none\" stroke=\"#000000\" d=\"M287.1897,-140.4772C273.2474,-135.1733 254.6423,-128.8294 237.5917,-125.3979 207.7912,-119.4004 173.2217,-117.2853 148.3013,-116.592\"/>\n<polygon fill=\"#000000\" stroke=\"#000000\" points=\"148.3272,-113.0918 138.2539,-116.3747 148.1758,-120.0902 148.3272,-113.0918\"/>\n<text text-anchor=\"middle\" x=\"210.1938\" y=\"-129.1979\" font-family=\"Times,serif\" font-size=\"14.00\" fill=\"#000000\">&#39;&#39; </text>\n</g>\n<!-- St6&#45;&gt;St4 -->\n<g id=\"edge6\" class=\"edge\">\n<title>St6&#45;&gt;St4</title>\n<path fill=\"none\" stroke=\"#000000\" d=\"M236.4099,-45.4372C248.679,-41.7116 263.4157,-37.2367 276.3952,-33.2954\"/>\n<polygon fill=\"#000000\" stroke=\"#000000\" points=\"277.7955,-36.5281 286.3471,-30.2735 275.7615,-29.8301 277.7955,-36.5281\"/>\n<text text-anchor=\"middle\" x=\"261.5917\" y=\"-42.1979\" font-family=\"Times,serif\" font-size=\"14.00\" fill=\"#000000\">&#39;&#39; </text>\n</g>\n</g>\n</svg>\n"
          },
          "metadata": {},
          "execution_count": 9
        }
      ]
    },
    {
      "cell_type": "markdown",
      "source": [
        "# Summarize RE to NFA conversion"
      ],
      "metadata": {
        "id": "s8D7r5TGMmdK"
      }
    },
    {
      "cell_type": "code",
      "source": [],
      "metadata": {
        "id": "Uu0i9hs8MhLH"
      },
      "execution_count": 9,
      "outputs": []
    },
    {
      "cell_type": "code",
      "source": [
        "R1 = \"(0 0*      1)*\""
      ],
      "metadata": {
        "id": "6h25TZWOL299"
      },
      "execution_count": 10,
      "outputs": []
    },
    {
      "cell_type": "code",
      "source": [
        "R2 = \"(0 (0+1)*  1)*\""
      ],
      "metadata": {
        "id": "ibPklUfKM1eE"
      },
      "execution_count": 11,
      "outputs": []
    },
    {
      "cell_type": "code",
      "source": [
        "dotObj_dfa(min_dfa(nfa2dfa(re2nfa(R1))))"
      ],
      "metadata": {
        "colab": {
          "base_uri": "https://localhost:8080/",
          "height": 144
        },
        "id": "UQBQNI0RNILv",
        "outputId": "7949a733-795b-445f-f89b-39c2a01c239a"
      },
      "execution_count": 12,
      "outputs": [
        {
          "output_type": "execute_result",
          "data": {
            "text/plain": [
              "<graphviz.dot.Digraph at 0x7f87f86c9f50>"
            ],
            "image/svg+xml": "<?xml version=\"1.0\" encoding=\"UTF-8\" standalone=\"no\"?>\n<!DOCTYPE svg PUBLIC \"-//W3C//DTD SVG 1.1//EN\"\n \"http://www.w3.org/Graphics/SVG/1.1/DTD/svg11.dtd\">\n<!-- Generated by graphviz version 2.40.1 (20161225.0304)\n -->\n<!-- Title: %3 Pages: 1 -->\n<svg width=\"249pt\" height=\"92pt\"\n viewBox=\"0.00 0.00 248.59 91.80\" xmlns=\"http://www.w3.org/2000/svg\" xmlns:xlink=\"http://www.w3.org/1999/xlink\">\n<g id=\"graph0\" class=\"graph\" transform=\"scale(1 1) rotate(0) translate(4 87.7958)\">\n<title>%3</title>\n<polygon fill=\"#ffffff\" stroke=\"transparent\" points=\"-4,4 -4,-87.7958 244.5917,-87.7958 244.5917,4 -4,4\"/>\n<!-- EMPTY -->\n<g id=\"node1\" class=\"node\">\n<title>EMPTY</title>\n</g>\n<!-- St2 -->\n<g id=\"node3\" class=\"node\">\n<title>St2</title>\n<ellipse fill=\"none\" stroke=\"#000000\" cx=\"118.3979\" cy=\"-27.3979\" rx=\"23.3111\" ry=\"23.3111\"/>\n<ellipse fill=\"none\" stroke=\"#000000\" cx=\"118.3979\" cy=\"-27.3979\" rx=\"27.2962\" ry=\"27.2962\"/>\n<text text-anchor=\"middle\" x=\"118.3979\" y=\"-23.6979\" font-family=\"Times,serif\" font-size=\"14.00\" fill=\"#000000\">St2</text>\n</g>\n<!-- EMPTY&#45;&gt;St2 -->\n<g id=\"edge1\" class=\"edge\">\n<title>EMPTY&#45;&gt;St2</title>\n<path fill=\"none\" stroke=\"#000000\" d=\"M54.4224,-27.3979C62.7369,-27.3979 72.0177,-27.3979 80.875,-27.3979\"/>\n<polygon fill=\"#000000\" stroke=\"#000000\" points=\"80.9949,-30.898 90.9949,-27.3979 80.9949,-23.898 80.9949,-30.898\"/>\n</g>\n<!-- St3 -->\n<g id=\"node2\" class=\"node\">\n<title>St3</title>\n<ellipse fill=\"none\" stroke=\"#000000\" cx=\"217.1938\" cy=\"-27.3979\" rx=\"23.2963\" ry=\"23.2963\"/>\n<text text-anchor=\"middle\" x=\"217.1938\" y=\"-23.6979\" font-family=\"Times,serif\" font-size=\"14.00\" fill=\"#000000\">St3</text>\n</g>\n<!-- St3&#45;&gt;St3 -->\n<g id=\"edge4\" class=\"edge\">\n<title>St3&#45;&gt;St3</title>\n<path fill=\"none\" stroke=\"#000000\" d=\"M208.7393,-49.5452C207.817,-59.8192 210.6352,-68.7958 217.1938,-68.7958 221.3954,-68.7958 224.0619,-65.1118 225.1933,-59.7628\"/>\n<polygon fill=\"#000000\" stroke=\"#000000\" points=\"228.6999,-59.691 225.6482,-49.5452 221.7068,-59.3796 228.6999,-59.691\"/>\n<text text-anchor=\"middle\" x=\"217.1938\" y=\"-72.5958\" font-family=\"Times,serif\" font-size=\"14.00\" fill=\"#000000\">0 </text>\n</g>\n<!-- St3&#45;&gt;St2 -->\n<g id=\"edge3\" class=\"edge\">\n<title>St3&#45;&gt;St2</title>\n<path fill=\"none\" stroke=\"#000000\" d=\"M196.7436,-15.908C190.249,-12.8418 182.9034,-9.9511 175.7958,-8.3979 167.8645,-6.6647 159.4864,-7.7131 151.6555,-10.0205\"/>\n<polygon fill=\"#000000\" stroke=\"#000000\" points=\"150.3006,-6.7891 142.1038,-13.502 152.6978,-13.3658 150.3006,-6.7891\"/>\n<text text-anchor=\"middle\" x=\"169.7958\" y=\"-12.1979\" font-family=\"Times,serif\" font-size=\"14.00\" fill=\"#000000\">1 </text>\n</g>\n<!-- St2&#45;&gt;St3 -->\n<g id=\"edge2\" class=\"edge\">\n<title>St2&#45;&gt;St3</title>\n<path fill=\"none\" stroke=\"#000000\" d=\"M145.9181,-27.3979C157.4879,-27.3979 171.0644,-27.3979 183.2468,-27.3979\"/>\n<polygon fill=\"#000000\" stroke=\"#000000\" points=\"183.5081,-30.898 193.5081,-27.3979 183.5081,-23.898 183.5081,-30.898\"/>\n<text text-anchor=\"middle\" x=\"169.7958\" y=\"-31.1979\" font-family=\"Times,serif\" font-size=\"14.00\" fill=\"#000000\">0 </text>\n</g>\n</g>\n</svg>\n"
          },
          "metadata": {},
          "execution_count": 12
        }
      ]
    },
    {
      "cell_type": "code",
      "source": [
        "dotObj_dfa(min_dfa(nfa2dfa(re2nfa(R2))))"
      ],
      "metadata": {
        "colab": {
          "base_uri": "https://localhost:8080/",
          "height": 149
        },
        "id": "61pS-Xr0NM93",
        "outputId": "43726453-5705-4477-fdc3-33a22739fc4e"
      },
      "execution_count": 13,
      "outputs": [
        {
          "output_type": "execute_result",
          "data": {
            "text/plain": [
              "<graphviz.dot.Digraph at 0x7f87f86d5950>"
            ],
            "image/svg+xml": "<?xml version=\"1.0\" encoding=\"UTF-8\" standalone=\"no\"?>\n<!DOCTYPE svg PUBLIC \"-//W3C//DTD SVG 1.1//EN\"\n \"http://www.w3.org/Graphics/SVG/1.1/DTD/svg11.dtd\">\n<!-- Generated by graphviz version 2.40.1 (20161225.0304)\n -->\n<!-- Title: %3 Pages: 1 -->\n<svg width=\"351pt\" height=\"96pt\"\n viewBox=\"0.00 0.00 351.39 95.80\" xmlns=\"http://www.w3.org/2000/svg\" xmlns:xlink=\"http://www.w3.org/1999/xlink\">\n<g id=\"graph0\" class=\"graph\" transform=\"scale(1 1) rotate(0) translate(4 91.7958)\">\n<title>%3</title>\n<polygon fill=\"#ffffff\" stroke=\"transparent\" points=\"-4,4 -4,-91.7958 347.3875,-91.7958 347.3875,4 -4,4\"/>\n<!-- EMPTY -->\n<g id=\"node1\" class=\"node\">\n<title>EMPTY</title>\n</g>\n<!-- St2 -->\n<g id=\"node3\" class=\"node\">\n<title>St2</title>\n<ellipse fill=\"none\" stroke=\"#000000\" cx=\"118.3979\" cy=\"-27.3979\" rx=\"23.3111\" ry=\"23.3111\"/>\n<ellipse fill=\"none\" stroke=\"#000000\" cx=\"118.3979\" cy=\"-27.3979\" rx=\"27.2962\" ry=\"27.2962\"/>\n<text text-anchor=\"middle\" x=\"118.3979\" y=\"-23.6979\" font-family=\"Times,serif\" font-size=\"14.00\" fill=\"#000000\">St2</text>\n</g>\n<!-- EMPTY&#45;&gt;St2 -->\n<g id=\"edge1\" class=\"edge\">\n<title>EMPTY&#45;&gt;St2</title>\n<path fill=\"none\" stroke=\"#000000\" d=\"M54.4224,-27.3979C62.7369,-27.3979 72.0177,-27.3979 80.875,-27.3979\"/>\n<polygon fill=\"#000000\" stroke=\"#000000\" points=\"80.9949,-30.898 90.9949,-27.3979 80.9949,-23.898 80.9949,-30.898\"/>\n</g>\n<!-- St3 -->\n<g id=\"node2\" class=\"node\">\n<title>St3</title>\n<ellipse fill=\"none\" stroke=\"#000000\" cx=\"217.1938\" cy=\"-27.3979\" rx=\"23.2963\" ry=\"23.2963\"/>\n<text text-anchor=\"middle\" x=\"217.1938\" y=\"-23.6979\" font-family=\"Times,serif\" font-size=\"14.00\" fill=\"#000000\">St3</text>\n</g>\n<!-- St3&#45;&gt;St3 -->\n<g id=\"edge4\" class=\"edge\">\n<title>St3&#45;&gt;St3</title>\n<path fill=\"none\" stroke=\"#000000\" d=\"M208.7393,-49.5452C207.817,-59.8192 210.6352,-68.7958 217.1938,-68.7958 221.3954,-68.7958 224.0619,-65.1118 225.1933,-59.7628\"/>\n<polygon fill=\"#000000\" stroke=\"#000000\" points=\"228.6999,-59.691 225.6482,-49.5452 221.7068,-59.3796 228.6999,-59.691\"/>\n<text text-anchor=\"middle\" x=\"217.1938\" y=\"-72.5958\" font-family=\"Times,serif\" font-size=\"14.00\" fill=\"#000000\">0 </text>\n</g>\n<!-- St1 -->\n<g id=\"node4\" class=\"node\">\n<title>St1</title>\n<ellipse fill=\"none\" stroke=\"#000000\" cx=\"315.9896\" cy=\"-27.3979\" rx=\"23.3111\" ry=\"23.3111\"/>\n<ellipse fill=\"none\" stroke=\"#000000\" cx=\"315.9896\" cy=\"-27.3979\" rx=\"27.2962\" ry=\"27.2962\"/>\n<text text-anchor=\"middle\" x=\"315.9896\" y=\"-23.6979\" font-family=\"Times,serif\" font-size=\"14.00\" fill=\"#000000\">St1</text>\n</g>\n<!-- St3&#45;&gt;St1 -->\n<g id=\"edge3\" class=\"edge\">\n<title>St3&#45;&gt;St1</title>\n<path fill=\"none\" stroke=\"#000000\" d=\"M240.607,-27.3979C251.8409,-27.3979 265.5813,-27.3979 278.2395,-27.3979\"/>\n<polygon fill=\"#000000\" stroke=\"#000000\" points=\"278.5392,-30.898 288.5392,-27.3979 278.5392,-23.898 278.5392,-30.898\"/>\n<text text-anchor=\"middle\" x=\"264.5917\" y=\"-31.1979\" font-family=\"Times,serif\" font-size=\"14.00\" fill=\"#000000\">1 </text>\n</g>\n<!-- St2&#45;&gt;St3 -->\n<g id=\"edge2\" class=\"edge\">\n<title>St2&#45;&gt;St3</title>\n<path fill=\"none\" stroke=\"#000000\" d=\"M145.9181,-27.3979C157.4879,-27.3979 171.0644,-27.3979 183.2468,-27.3979\"/>\n<polygon fill=\"#000000\" stroke=\"#000000\" points=\"183.5081,-30.898 193.5081,-27.3979 183.5081,-23.898 183.5081,-30.898\"/>\n<text text-anchor=\"middle\" x=\"169.7958\" y=\"-31.1979\" font-family=\"Times,serif\" font-size=\"14.00\" fill=\"#000000\">0 </text>\n</g>\n<!-- St1&#45;&gt;St3 -->\n<g id=\"edge6\" class=\"edge\">\n<title>St1&#45;&gt;St3</title>\n<path fill=\"none\" stroke=\"#000000\" d=\"M292.2837,-13.502C282.0556,-9.0943 269.8719,-5.933 258.5917,-8.3979 254.7047,-9.2473 250.7466,-10.4967 246.8954,-11.9561\"/>\n<polygon fill=\"#000000\" stroke=\"#000000\" points=\"245.4651,-8.761 237.644,-15.908 248.215,-15.1983 245.4651,-8.761\"/>\n<text text-anchor=\"middle\" x=\"264.5917\" y=\"-12.1979\" font-family=\"Times,serif\" font-size=\"14.00\" fill=\"#000000\">0 </text>\n</g>\n<!-- St1&#45;&gt;St1 -->\n<g id=\"edge5\" class=\"edge\">\n<title>St1&#45;&gt;St1</title>\n<path fill=\"none\" stroke=\"#000000\" d=\"M306.6718,-53.523C306.1454,-64.0011 309.2513,-72.7958 315.9896,-72.7958 320.3063,-72.7958 323.1323,-69.1865 324.4676,-63.8374\"/>\n<polygon fill=\"#000000\" stroke=\"#000000\" points=\"327.9842,-63.7741 325.3074,-53.523 321.0073,-63.206 327.9842,-63.7741\"/>\n<text text-anchor=\"middle\" x=\"315.9896\" y=\"-76.5958\" font-family=\"Times,serif\" font-size=\"14.00\" fill=\"#000000\">1 </text>\n</g>\n</g>\n</svg>\n"
          },
          "metadata": {},
          "execution_count": 13
        }
      ]
    },
    {
      "cell_type": "code",
      "source": [
        "# Compute R1 - R2\n",
        "dR1  = min_dfa(nfa2dfa(re2nfa(R1)))\n",
        "dCR1 = comp_dfa(dR1)\n",
        "dR2  = min_dfa(nfa2dfa(re2nfa(R2)))\n",
        "dCR2 = comp_dfa(dR2)"
      ],
      "metadata": {
        "id": "j2RT-P_tNZ4f"
      },
      "execution_count": 14,
      "outputs": []
    },
    {
      "cell_type": "code",
      "source": [
        "dotObj_dfa_w_bh(dCR2)"
      ],
      "metadata": {
        "colab": {
          "base_uri": "https://localhost:8080/",
          "height": 335
        },
        "id": "8OA2mWCcPhZu",
        "outputId": "a1f89d88-ec3f-4cec-8006-4a5c03038a49"
      },
      "execution_count": 15,
      "outputs": [
        {
          "output_type": "execute_result",
          "data": {
            "text/plain": [
              "<graphviz.dot.Digraph at 0x7f87f8730a90>"
            ],
            "image/svg+xml": "<?xml version=\"1.0\" encoding=\"UTF-8\" standalone=\"no\"?>\n<!DOCTYPE svg PUBLIC \"-//W3C//DTD SVG 1.1//EN\"\n \"http://www.w3.org/Graphics/SVG/1.1/DTD/svg11.dtd\">\n<!-- Generated by graphviz version 2.40.1 (20161225.0304)\n -->\n<!-- Title: %3 Pages: 1 -->\n<svg width=\"345pt\" height=\"235pt\"\n viewBox=\"0.00 0.00 344.69 235.45\" xmlns=\"http://www.w3.org/2000/svg\" xmlns:xlink=\"http://www.w3.org/1999/xlink\">\n<g id=\"graph0\" class=\"graph\" transform=\"scale(1 1) rotate(0) translate(4 231.4458)\">\n<title>%3</title>\n<polygon fill=\"#ffffff\" stroke=\"transparent\" points=\"-4,4 -4,-231.4458 340.6874,-231.4458 340.6874,4 -4,4\"/>\n<!-- EMPTY -->\n<g id=\"node1\" class=\"node\">\n<title>EMPTY</title>\n</g>\n<!-- St2 -->\n<g id=\"node3\" class=\"node\">\n<title>St2</title>\n<ellipse fill=\"none\" stroke=\"#000000\" cx=\"114.3979\" cy=\"-97.0479\" rx=\"23.2963\" ry=\"23.2963\"/>\n<text text-anchor=\"middle\" x=\"114.3979\" y=\"-93.3479\" font-family=\"Times,serif\" font-size=\"14.00\" fill=\"#000000\">St2</text>\n</g>\n<!-- EMPTY&#45;&gt;St2 -->\n<g id=\"edge1\" class=\"edge\">\n<title>EMPTY&#45;&gt;St2</title>\n<path fill=\"none\" stroke=\"#000000\" d=\"M54.1742,-97.0479C62.5103,-97.0479 71.7873,-97.0479 80.5137,-97.0479\"/>\n<polygon fill=\"#000000\" stroke=\"#000000\" points=\"80.7846,-100.548 90.7846,-97.0479 80.7845,-93.548 80.7846,-100.548\"/>\n</g>\n<!-- St1 -->\n<g id=\"node2\" class=\"node\">\n<title>St1</title>\n<ellipse fill=\"none\" stroke=\"#000000\" cx=\"313.2895\" cy=\"-167.0479\" rx=\"23.2963\" ry=\"23.2963\"/>\n<text text-anchor=\"middle\" x=\"313.2895\" y=\"-163.3479\" font-family=\"Times,serif\" font-size=\"14.00\" fill=\"#000000\">St1</text>\n</g>\n<!-- St1&#45;&gt;St1 -->\n<g id=\"edge8\" class=\"edge\">\n<title>St1&#45;&gt;St1</title>\n<path fill=\"none\" stroke=\"#000000\" d=\"M304.8351,-189.1951C303.9128,-199.4692 306.7309,-208.4458 313.2895,-208.4458 317.4911,-208.4458 320.1576,-204.7618 321.2891,-199.4127\"/>\n<polygon fill=\"#000000\" stroke=\"#000000\" points=\"324.7956,-199.3409 321.7439,-189.1951 317.8026,-199.0295 324.7956,-199.3409\"/>\n<text text-anchor=\"middle\" x=\"313.2895\" y=\"-212.2458\" font-family=\"Times,serif\" font-size=\"14.00\" fill=\"#000000\">1 </text>\n</g>\n<!-- St3 -->\n<g id=\"node4\" class=\"node\">\n<title>St3</title>\n<ellipse fill=\"none\" stroke=\"#000000\" cx=\"213.8437\" cy=\"-167.0479\" rx=\"23.3111\" ry=\"23.3111\"/>\n<ellipse fill=\"none\" stroke=\"#000000\" cx=\"213.8437\" cy=\"-167.0479\" rx=\"27.2962\" ry=\"27.2962\"/>\n<text text-anchor=\"middle\" x=\"213.8437\" y=\"-163.3479\" font-family=\"Times,serif\" font-size=\"14.00\" fill=\"#000000\">St3</text>\n</g>\n<!-- St1&#45;&gt;St3 -->\n<g id=\"edge9\" class=\"edge\">\n<title>St1&#45;&gt;St3</title>\n<path fill=\"none\" stroke=\"#000000\" d=\"M292.8393,-155.558C286.3448,-152.4917 278.9992,-149.601 271.8916,-148.0479 263.7165,-146.2614 255.0657,-147.3818 247.0091,-149.7866\"/>\n<polygon fill=\"#000000\" stroke=\"#000000\" points=\"245.7372,-146.525 237.5486,-153.248 248.1424,-153.0989 245.7372,-146.525\"/>\n<text text-anchor=\"middle\" x=\"265.8916\" y=\"-151.8479\" font-family=\"Times,serif\" font-size=\"14.00\" fill=\"#000000\">0 </text>\n</g>\n<!-- St2&#45;&gt;St3 -->\n<g id=\"edge3\" class=\"edge\">\n<title>St2&#45;&gt;St3</title>\n<path fill=\"none\" stroke=\"#000000\" d=\"M133.5721,-110.5446C147.4777,-120.3328 166.5878,-133.7844 182.6737,-145.1072\"/>\n<polygon fill=\"#000000\" stroke=\"#000000\" points=\"181.0549,-148.2479 191.2468,-151.1419 185.0841,-142.5238 181.0549,-148.2479\"/>\n<text text-anchor=\"middle\" x=\"161.7958\" y=\"-137.8479\" font-family=\"Times,serif\" font-size=\"14.00\" fill=\"#000000\">0 </text>\n</g>\n<!-- BH -->\n<g id=\"node5\" class=\"node\">\n<title>BH</title>\n<ellipse fill=\"none\" stroke=\"#000000\" cx=\"213.8437\" cy=\"-28.0479\" rx=\"24.089\" ry=\"24.089\"/>\n<ellipse fill=\"none\" stroke=\"#000000\" cx=\"213.8437\" cy=\"-28.0479\" rx=\"28.0958\" ry=\"28.0958\"/>\n<text text-anchor=\"middle\" x=\"213.8437\" y=\"-24.3479\" font-family=\"Times,serif\" font-size=\"14.00\" fill=\"#000000\">BH</text>\n</g>\n<!-- St2&#45;&gt;BH -->\n<g id=\"edge2\" class=\"edge\">\n<title>St2&#45;&gt;BH</title>\n<path fill=\"none\" stroke=\"#000000\" d=\"M134.0452,-83.4157C147.8001,-73.8719 166.4736,-60.9154 182.2984,-49.9354\"/>\n<polygon fill=\"#000000\" stroke=\"#000000\" points=\"184.5268,-52.6493 190.7476,-44.073 180.5363,-46.8981 184.5268,-52.6493\"/>\n<text text-anchor=\"middle\" x=\"161.7958\" y=\"-70.8479\" font-family=\"Times,serif\" font-size=\"14.00\" fill=\"#000000\">1 </text>\n</g>\n<!-- St3&#45;&gt;St1 -->\n<g id=\"edge6\" class=\"edge\">\n<title>St3&#45;&gt;St1</title>\n<path fill=\"none\" stroke=\"#000000\" d=\"M241.281,-167.0479C253.1385,-167.0479 267.1279,-167.0479 279.6075,-167.0479\"/>\n<polygon fill=\"#000000\" stroke=\"#000000\" points=\"279.6553,-170.548 289.6553,-167.0479 279.6552,-163.548 279.6553,-170.548\"/>\n<text text-anchor=\"middle\" x=\"265.8916\" y=\"-170.8479\" font-family=\"Times,serif\" font-size=\"14.00\" fill=\"#000000\">1 </text>\n</g>\n<!-- St3&#45;&gt;St3 -->\n<g id=\"edge7\" class=\"edge\">\n<title>St3&#45;&gt;St3</title>\n<path fill=\"none\" stroke=\"#000000\" d=\"M204.1794,-192.7163C203.5129,-203.3943 206.7343,-212.4458 213.8437,-212.4458 218.5092,-212.4458 221.5004,-208.5476 222.8171,-202.8498\"/>\n<polygon fill=\"#000000\" stroke=\"#000000\" points=\"226.3196,-202.9313 223.508,-192.7163 219.3358,-202.4551 226.3196,-202.9313\"/>\n<text text-anchor=\"middle\" x=\"213.8437\" y=\"-216.2458\" font-family=\"Times,serif\" font-size=\"14.00\" fill=\"#000000\">0 </text>\n</g>\n<!-- BH&#45;&gt;BH -->\n<g id=\"edge4\" class=\"edge\">\n<title>BH&#45;&gt;BH</title>\n<path fill=\"none\" stroke=\"#000000\" d=\"M208.9735,-55.923C208.8687,-65.9339 210.4922,-74.0957 213.8437,-74.0957 215.9384,-74.0957 217.3581,-70.9075 218.1027,-66.0723\"/>\n<polygon fill=\"#000000\" stroke=\"#000000\" points=\"221.6064,-66.1153 218.714,-55.923 214.619,-65.6944 221.6064,-66.1153\"/>\n<text text-anchor=\"middle\" x=\"213.8437\" y=\"-77.8957\" font-family=\"Times,serif\" font-size=\"14.00\" fill=\"#000000\">1 </text>\n</g>\n<!-- BH&#45;&gt;BH -->\n<g id=\"edge5\" class=\"edge\">\n<title>BH&#45;&gt;BH</title>\n<path fill=\"none\" stroke=\"#000000\" d=\"M205.0941,-54.6974C202.3451,-73.4874 205.2617,-92.0957 213.8437,-92.0957 220.8837,-92.0957 224.1112,-79.574 223.5264,-64.7019\"/>\n<polygon fill=\"#000000\" stroke=\"#000000\" points=\"227.007,-64.3291 222.5934,-54.6974 220.0372,-64.9792 227.007,-64.3291\"/>\n<text text-anchor=\"middle\" x=\"213.8437\" y=\"-95.8957\" font-family=\"Times,serif\" font-size=\"14.00\" fill=\"#000000\">0 </text>\n</g>\n</g>\n</svg>\n"
          },
          "metadata": {},
          "execution_count": 15
        }
      ]
    },
    {
      "cell_type": "code",
      "source": [
        "# R1 - R2\n",
        "dR1_and_dCR2 = intersect_dfa(dR1,dCR2)\n",
        "dotObj_dfa_w_bh(dR1_and_dCR2)"
      ],
      "metadata": {
        "colab": {
          "base_uri": "https://localhost:8080/",
          "height": 463
        },
        "id": "ToyGhbEGNsL-",
        "outputId": "a0aac514-8f07-417e-f488-eaa68bc7cf13"
      },
      "execution_count": 16,
      "outputs": [
        {
          "output_type": "execute_result",
          "data": {
            "text/plain": [
              "<graphviz.dot.Digraph at 0x7f87f86d9bd0>"
            ],
            "image/svg+xml": "<?xml version=\"1.0\" encoding=\"UTF-8\" standalone=\"no\"?>\n<!DOCTYPE svg PUBLIC \"-//W3C//DTD SVG 1.1//EN\"\n \"http://www.w3.org/Graphics/SVG/1.1/DTD/svg11.dtd\">\n<!-- Generated by graphviz version 2.40.1 (20161225.0304)\n -->\n<!-- Title: %3 Pages: 1 -->\n<svg width=\"764pt\" height=\"316pt\"\n viewBox=\"0.00 0.00 764.16 315.54\" xmlns=\"http://www.w3.org/2000/svg\" xmlns:xlink=\"http://www.w3.org/1999/xlink\">\n<g id=\"graph0\" class=\"graph\" transform=\"scale(1 1) rotate(0) translate(4 311.5415)\">\n<title>%3</title>\n<polygon fill=\"#ffffff\" stroke=\"transparent\" points=\"-4,4 -4,-311.5415 760.158,-311.5415 760.158,4 -4,4\"/>\n<!-- EMPTY -->\n<g id=\"node1\" class=\"node\">\n<title>EMPTY</title>\n</g>\n<!-- \\(St2_St2\\) -->\n<g id=\"node6\" class=\"node\">\n<title>\\(St2_St2\\)</title>\n<ellipse fill=\"none\" stroke=\"#000000\" cx=\"137.7958\" cy=\"-137.0957\" rx=\"46.5926\" ry=\"46.5926\"/>\n<text text-anchor=\"middle\" x=\"137.7958\" y=\"-133.3957\" font-family=\"Times,serif\" font-size=\"14.00\" fill=\"#000000\">(St2_St2)</text>\n</g>\n<!-- EMPTY&#45;&gt;\\(St2_St2\\) -->\n<g id=\"edge1\" class=\"edge\">\n<title>EMPTY&#45;&gt;\\(St2_St2\\)</title>\n<path fill=\"none\" stroke=\"#000000\" d=\"M54.1037,-137.0957C62.1958,-137.0957 71.389,-137.0957 80.6474,-137.0957\"/>\n<polygon fill=\"#000000\" stroke=\"#000000\" points=\"80.6704,-140.5958 90.6704,-137.0957 80.6703,-133.5958 80.6704,-140.5958\"/>\n</g>\n<!-- \\(St3_St3\\) -->\n<g id=\"node2\" class=\"node\">\n<title>\\(St3_St3\\)</title>\n<ellipse fill=\"none\" stroke=\"#000000\" cx=\"280.6874\" cy=\"-227.0957\" rx=\"46.5926\" ry=\"46.5926\"/>\n<text text-anchor=\"middle\" x=\"280.6874\" y=\"-223.3957\" font-family=\"Times,serif\" font-size=\"14.00\" fill=\"#000000\">(St3_St3)</text>\n</g>\n<!-- \\(St3_St3\\)&#45;&gt;\\(St3_St3\\) -->\n<g id=\"edge13\" class=\"edge\">\n<title>\\(St3_St3\\)&#45;&gt;\\(St3_St3\\)</title>\n<path fill=\"none\" stroke=\"#000000\" d=\"M267.3728,-272.2147C268.3039,-283.4751 272.7421,-291.8916 280.6874,-291.8916 286.0257,-291.8916 289.7808,-288.0922 291.9527,-282.1837\"/>\n<polygon fill=\"#000000\" stroke=\"#000000\" points=\"295.4167,-282.7146 294.002,-272.2147 288.56,-281.3051 295.4167,-282.7146\"/>\n<text text-anchor=\"middle\" x=\"280.6874\" y=\"-295.6916\" font-family=\"Times,serif\" font-size=\"14.00\" fill=\"#000000\">0 </text>\n</g>\n<!-- \\(St2_St1\\) -->\n<g id=\"node3\" class=\"node\">\n<title>\\(St2_St1\\)</title>\n<ellipse fill=\"none\" stroke=\"#000000\" cx=\"423.579\" cy=\"-227.0957\" rx=\"46.5926\" ry=\"46.5926\"/>\n<text text-anchor=\"middle\" x=\"423.579\" y=\"-223.3957\" font-family=\"Times,serif\" font-size=\"14.00\" fill=\"#000000\">(St2_St1)</text>\n</g>\n<!-- \\(St3_St3\\)&#45;&gt;\\(St2_St1\\) -->\n<g id=\"edge12\" class=\"edge\">\n<title>\\(St3_St3\\)&#45;&gt;\\(St2_St1\\)</title>\n<path fill=\"none\" stroke=\"#000000\" d=\"M327.8715,-227.0957C340.1871,-227.0957 353.5942,-227.0957 366.3684,-227.0957\"/>\n<polygon fill=\"#000000\" stroke=\"#000000\" points=\"366.4445,-230.5958 376.4445,-227.0957 366.4445,-223.5958 366.4445,-230.5958\"/>\n<text text-anchor=\"middle\" x=\"352.7832\" y=\"-230.8957\" font-family=\"Times,serif\" font-size=\"14.00\" fill=\"#000000\">1 </text>\n</g>\n<!-- \\(St2_St1\\)&#45;&gt;\\(St3_St3\\) -->\n<g id=\"edge11\" class=\"edge\">\n<title>\\(St2_St1\\)&#45;&gt;\\(St3_St3\\)</title>\n<path fill=\"none\" stroke=\"#000000\" d=\"M378.943,-213.0049C372.247,-211.3855 365.3771,-209.9946 358.7832,-209.0957 351.0284,-208.0386 342.911,-208.3151 334.9648,-209.3902\"/>\n<polygon fill=\"#000000\" stroke=\"#000000\" points=\"334.2731,-205.958 325.0313,-211.1387 335.4867,-212.852 334.2731,-205.958\"/>\n<text text-anchor=\"middle\" x=\"352.7832\" y=\"-212.8957\" font-family=\"Times,serif\" font-size=\"14.00\" fill=\"#000000\">0 </text>\n</g>\n<!-- \\(BH_St1\\) -->\n<g id=\"node4\" class=\"node\">\n<title>\\(BH_St1\\)</title>\n<ellipse fill=\"none\" stroke=\"#000000\" cx=\"565.8206\" cy=\"-227.0957\" rx=\"47.3916\" ry=\"47.3916\"/>\n<text text-anchor=\"middle\" x=\"565.8206\" y=\"-223.3957\" font-family=\"Times,serif\" font-size=\"14.00\" fill=\"#000000\">(BH_St1)</text>\n</g>\n<!-- \\(St2_St1\\)&#45;&gt;\\(BH_St1\\) -->\n<g id=\"edge4\" class=\"edge\">\n<title>\\(St2_St1\\)&#45;&gt;\\(BH_St1\\)</title>\n<path fill=\"none\" stroke=\"#000000\" d=\"M470.5485,-227.0957C482.4338,-227.0957 495.3403,-227.0957 507.704,-227.0957\"/>\n<polygon fill=\"#000000\" stroke=\"#000000\" points=\"507.9275,-230.5958 517.9274,-227.0957 507.9274,-223.5958 507.9275,-230.5958\"/>\n<text text-anchor=\"middle\" x=\"494.3749\" y=\"-230.8957\" font-family=\"Times,serif\" font-size=\"14.00\" fill=\"#000000\">1 </text>\n</g>\n<!-- \\(BH_St1\\)&#45;&gt;\\(BH_St1\\) -->\n<g id=\"edge8\" class=\"edge\">\n<title>\\(BH_St1\\)&#45;&gt;\\(BH_St1\\)</title>\n<path fill=\"none\" stroke=\"#000000\" d=\"M552.9007,-272.9685C553.8578,-284.1904 558.1644,-292.5415 565.8206,-292.5415 570.9647,-292.5415 574.5967,-288.7717 576.7166,-282.8942\"/>\n<polygon fill=\"#000000\" stroke=\"#000000\" points=\"580.1719,-283.4662 578.7406,-272.9685 573.313,-282.0675 580.1719,-283.4662\"/>\n<text text-anchor=\"middle\" x=\"565.8206\" y=\"-296.3415\" font-family=\"Times,serif\" font-size=\"14.00\" fill=\"#000000\">1 </text>\n</g>\n<!-- \\(BH_St3\\) -->\n<g id=\"node7\" class=\"node\">\n<title>\\(BH_St3\\)</title>\n<ellipse fill=\"none\" stroke=\"#000000\" cx=\"708.7122\" cy=\"-227.0957\" rx=\"47.3916\" ry=\"47.3916\"/>\n<text text-anchor=\"middle\" x=\"708.7122\" y=\"-223.3957\" font-family=\"Times,serif\" font-size=\"14.00\" fill=\"#000000\">(BH_St3)</text>\n</g>\n<!-- \\(BH_St1\\)&#45;&gt;\\(BH_St3\\) -->\n<g id=\"edge9\" class=\"edge\">\n<title>\\(BH_St1\\)&#45;&gt;\\(BH_St3\\)</title>\n<path fill=\"none\" stroke=\"#000000\" d=\"M613.4015,-227.0957C625.3257,-227.0957 638.2519,-227.0957 650.6239,-227.0957\"/>\n<polygon fill=\"#000000\" stroke=\"#000000\" points=\"650.852,-230.5958 660.852,-227.0957 650.8519,-223.5958 650.852,-230.5958\"/>\n<text text-anchor=\"middle\" x=\"637.2664\" y=\"-230.8957\" font-family=\"Times,serif\" font-size=\"14.00\" fill=\"#000000\">0 </text>\n</g>\n<!-- \\(BH_BH\\) -->\n<g id=\"node5\" class=\"node\">\n<title>\\(BH_BH\\)</title>\n<ellipse fill=\"none\" stroke=\"#000000\" cx=\"280.6874\" cy=\"-48.0957\" rx=\"48.1917\" ry=\"48.1917\"/>\n<text text-anchor=\"middle\" x=\"280.6874\" y=\"-44.3957\" font-family=\"Times,serif\" font-size=\"14.00\" fill=\"#000000\">(BH_BH)</text>\n</g>\n<!-- \\(BH_BH\\)&#45;&gt;\\(BH_BH\\) -->\n<g id=\"edge7\" class=\"edge\">\n<title>\\(BH_BH\\)&#45;&gt;\\(BH_BH\\)</title>\n<path fill=\"none\" stroke=\"#000000\" d=\"M274.1191,-95.9241C274.7363,-106.4936 276.9257,-114.1915 280.6874,-114.1915 283.0973,-114.1915 284.8619,-111.0323 285.9812,-105.9827\"/>\n<polygon fill=\"#000000\" stroke=\"#000000\" points=\"289.4708,-106.2848 287.2557,-95.9241 282.5263,-105.4048 289.4708,-106.2848\"/>\n<text text-anchor=\"middle\" x=\"280.6874\" y=\"-117.9915\" font-family=\"Times,serif\" font-size=\"14.00\" fill=\"#000000\">0 </text>\n</g>\n<!-- \\(BH_BH\\)&#45;&gt;\\(BH_BH\\) -->\n<g id=\"edge10\" class=\"edge\">\n<title>\\(BH_BH\\)&#45;&gt;\\(BH_BH\\)</title>\n<path fill=\"none\" stroke=\"#000000\" d=\"M267.3728,-94.3688C266.1945,-114.698 270.6327,-132.1915 280.6874,-132.1915 289.014,-132.1915 293.4888,-120.1946 294.1118,-104.5253\"/>\n<polygon fill=\"#000000\" stroke=\"#000000\" points=\"297.61,-104.3303 294.002,-94.3688 290.6104,-104.4061 297.61,-104.3303\"/>\n<text text-anchor=\"middle\" x=\"280.6874\" y=\"-135.9915\" font-family=\"Times,serif\" font-size=\"14.00\" fill=\"#000000\">1 </text>\n</g>\n<!-- \\(St2_St2\\)&#45;&gt;\\(St3_St3\\) -->\n<g id=\"edge6\" class=\"edge\">\n<title>\\(St2_St2\\)&#45;&gt;\\(St3_St3\\)</title>\n<path fill=\"none\" stroke=\"#000000\" d=\"M177.5991,-162.1658C194.4891,-172.8039 214.3357,-185.3042 232.0814,-196.4813\"/>\n<polygon fill=\"#000000\" stroke=\"#000000\" points=\"230.2752,-199.48 240.602,-201.848 234.0058,-193.557 230.2752,-199.48\"/>\n<text text-anchor=\"middle\" x=\"208.5917\" y=\"-188.8957\" font-family=\"Times,serif\" font-size=\"14.00\" fill=\"#000000\">0 </text>\n</g>\n<!-- \\(St2_St2\\)&#45;&gt;\\(BH_BH\\) -->\n<g id=\"edge2\" class=\"edge\">\n<title>\\(St2_St2\\)&#45;&gt;\\(BH_BH\\)</title>\n<path fill=\"none\" stroke=\"#000000\" d=\"M177.5991,-112.3043C194.0543,-102.0552 213.3158,-90.0582 230.7067,-79.2262\"/>\n<polygon fill=\"#000000\" stroke=\"#000000\" points=\"232.9681,-81.9412 239.6058,-73.6834 229.2672,-75.9994 232.9681,-81.9412\"/>\n<text text-anchor=\"middle\" x=\"208.5917\" y=\"-99.8957\" font-family=\"Times,serif\" font-size=\"14.00\" fill=\"#000000\">1 </text>\n</g>\n<!-- \\(BH_St3\\)&#45;&gt;\\(BH_St1\\) -->\n<g id=\"edge5\" class=\"edge\">\n<title>\\(BH_St3\\)&#45;&gt;\\(BH_St1\\)</title>\n<path fill=\"none\" stroke=\"#000000\" d=\"M663.266,-212.9196C656.6164,-211.3367 649.8062,-209.9787 643.2664,-209.0957 635.8473,-208.0941 628.0958,-208.3247 620.4858,-209.3104\"/>\n<polygon fill=\"#000000\" stroke=\"#000000\" points=\"619.8695,-205.8649 610.6029,-211.0011 621.0499,-212.7647 619.8695,-205.8649\"/>\n<text text-anchor=\"middle\" x=\"637.2664\" y=\"-212.8957\" font-family=\"Times,serif\" font-size=\"14.00\" fill=\"#000000\">1 </text>\n</g>\n<!-- \\(BH_St3\\)&#45;&gt;\\(BH_St3\\) -->\n<g id=\"edge3\" class=\"edge\">\n<title>\\(BH_St3\\)&#45;&gt;\\(BH_St3\\)</title>\n<path fill=\"none\" stroke=\"#000000\" d=\"M695.7923,-272.9685C696.7493,-284.1904 701.056,-292.5415 708.7122,-292.5415 713.8563,-292.5415 717.4882,-288.7717 719.6082,-282.8942\"/>\n<polygon fill=\"#000000\" stroke=\"#000000\" points=\"723.0635,-283.4662 721.6321,-272.9685 716.2046,-282.0675 723.0635,-283.4662\"/>\n<text text-anchor=\"middle\" x=\"708.7122\" y=\"-296.3415\" font-family=\"Times,serif\" font-size=\"14.00\" fill=\"#000000\">0 </text>\n</g>\n</g>\n</svg>\n"
          },
          "metadata": {},
          "execution_count": 16
        }
      ]
    },
    {
      "cell_type": "code",
      "source": [
        "# R2 - R1\n",
        "dR2_and_dCR1 = intersect_dfa(dR2,dCR1)\n",
        "dotObj_dfa(dR2_and_dCR1)"
      ],
      "metadata": {
        "colab": {
          "base_uri": "https://localhost:8080/",
          "height": 468
        },
        "id": "2hAq7i_iN8uT",
        "outputId": "1bcb21f5-7ebe-4d5a-f54c-c9c0eb093988"
      },
      "execution_count": 17,
      "outputs": [
        {
          "output_type": "execute_result",
          "data": {
            "text/plain": [
              "<graphviz.dot.Digraph at 0x7f87f86e4650>"
            ],
            "image/svg+xml": "<?xml version=\"1.0\" encoding=\"UTF-8\" standalone=\"no\"?>\n<!DOCTYPE svg PUBLIC \"-//W3C//DTD SVG 1.1//EN\"\n \"http://www.w3.org/Graphics/SVG/1.1/DTD/svg11.dtd\">\n<!-- Generated by graphviz version 2.40.1 (20161225.0304)\n -->\n<!-- Title: %3 Pages: 1 -->\n<svg width=\"772pt\" height=\"320pt\"\n viewBox=\"0.00 0.00 772.16 319.54\" xmlns=\"http://www.w3.org/2000/svg\" xmlns:xlink=\"http://www.w3.org/1999/xlink\">\n<g id=\"graph0\" class=\"graph\" transform=\"scale(1 1) rotate(0) translate(4 315.5415)\">\n<title>%3</title>\n<polygon fill=\"#ffffff\" stroke=\"transparent\" points=\"-4,4 -4,-315.5415 768.158,-315.5415 768.158,4 -4,4\"/>\n<!-- EMPTY -->\n<g id=\"node1\" class=\"node\">\n<title>EMPTY</title>\n</g>\n<!-- \\(St2_St2\\) -->\n<g id=\"node6\" class=\"node\">\n<title>\\(St2_St2\\)</title>\n<ellipse fill=\"none\" stroke=\"#000000\" cx=\"137.7958\" cy=\"-124.4458\" rx=\"46.5926\" ry=\"46.5926\"/>\n<text text-anchor=\"middle\" x=\"137.7958\" y=\"-120.7458\" font-family=\"Times,serif\" font-size=\"14.00\" fill=\"#000000\">(St2_St2)</text>\n</g>\n<!-- EMPTY&#45;&gt;\\(St2_St2\\) -->\n<g id=\"edge1\" class=\"edge\">\n<title>EMPTY&#45;&gt;\\(St2_St2\\)</title>\n<path fill=\"none\" stroke=\"#000000\" d=\"M54.1037,-124.4458C62.1958,-124.4458 71.389,-124.4458 80.6474,-124.4458\"/>\n<polygon fill=\"#000000\" stroke=\"#000000\" points=\"80.6704,-127.9459 90.6704,-124.4458 80.6703,-120.9459 80.6704,-127.9459\"/>\n</g>\n<!-- \\(BH_BH\\) -->\n<g id=\"node2\" class=\"node\">\n<title>\\(BH_BH\\)</title>\n<ellipse fill=\"none\" stroke=\"#000000\" cx=\"280.6874\" cy=\"-197.4458\" rx=\"48.1917\" ry=\"48.1917\"/>\n<text text-anchor=\"middle\" x=\"280.6874\" y=\"-193.7458\" font-family=\"Times,serif\" font-size=\"14.00\" fill=\"#000000\">(BH_BH)</text>\n</g>\n<!-- \\(BH_BH\\)&#45;&gt;\\(BH_BH\\) -->\n<g id=\"edge7\" class=\"edge\">\n<title>\\(BH_BH\\)&#45;&gt;\\(BH_BH\\)</title>\n<path fill=\"none\" stroke=\"#000000\" d=\"M274.1191,-245.2741C274.7363,-255.8437 276.9257,-263.5415 280.6874,-263.5415 283.0973,-263.5415 284.8619,-260.3823 285.9812,-255.3328\"/>\n<polygon fill=\"#000000\" stroke=\"#000000\" points=\"289.4708,-255.6348 287.2557,-245.2741 282.5263,-254.7548 289.4708,-255.6348\"/>\n<text text-anchor=\"middle\" x=\"280.6874\" y=\"-267.3415\" font-family=\"Times,serif\" font-size=\"14.00\" fill=\"#000000\">0 </text>\n</g>\n<!-- \\(BH_BH\\)&#45;&gt;\\(BH_BH\\) -->\n<g id=\"edge9\" class=\"edge\">\n<title>\\(BH_BH\\)&#45;&gt;\\(BH_BH\\)</title>\n<path fill=\"none\" stroke=\"#000000\" d=\"M267.3728,-243.7188C266.1945,-264.0481 270.6327,-281.5415 280.6874,-281.5415 289.014,-281.5415 293.4888,-269.5447 294.1118,-253.8754\"/>\n<polygon fill=\"#000000\" stroke=\"#000000\" points=\"297.61,-253.6804 294.002,-243.7188 290.6104,-253.7561 297.61,-253.6804\"/>\n<text text-anchor=\"middle\" x=\"280.6874\" y=\"-285.3415\" font-family=\"Times,serif\" font-size=\"14.00\" fill=\"#000000\">1 </text>\n</g>\n<!-- \\(St3_St3\\) -->\n<g id=\"node3\" class=\"node\">\n<title>\\(St3_St3\\)</title>\n<ellipse fill=\"none\" stroke=\"#000000\" cx=\"280.6874\" cy=\"-51.4458\" rx=\"46.5926\" ry=\"46.5926\"/>\n<text text-anchor=\"middle\" x=\"280.6874\" y=\"-47.7458\" font-family=\"Times,serif\" font-size=\"14.00\" fill=\"#000000\">(St3_St3)</text>\n</g>\n<!-- \\(St3_St3\\)&#45;&gt;\\(St3_St3\\) -->\n<g id=\"edge12\" class=\"edge\">\n<title>\\(St3_St3\\)&#45;&gt;\\(St3_St3\\)</title>\n<path fill=\"none\" stroke=\"#000000\" d=\"M267.3728,-96.5647C268.3039,-107.8251 272.7421,-116.2416 280.6874,-116.2416 286.0257,-116.2416 289.7808,-112.4423 291.9527,-106.5337\"/>\n<polygon fill=\"#000000\" stroke=\"#000000\" points=\"295.4167,-107.0647 294.002,-96.5647 288.56,-105.6551 295.4167,-107.0647\"/>\n<text text-anchor=\"middle\" x=\"280.6874\" y=\"-120.0416\" font-family=\"Times,serif\" font-size=\"14.00\" fill=\"#000000\">0 </text>\n</g>\n<!-- \\(St1_St2\\) -->\n<g id=\"node4\" class=\"node\">\n<title>\\(St1_St2\\)</title>\n<ellipse fill=\"none\" stroke=\"#000000\" cx=\"423.579\" cy=\"-51.4458\" rx=\"46.5926\" ry=\"46.5926\"/>\n<text text-anchor=\"middle\" x=\"423.579\" y=\"-47.7458\" font-family=\"Times,serif\" font-size=\"14.00\" fill=\"#000000\">(St1_St2)</text>\n</g>\n<!-- \\(St3_St3\\)&#45;&gt;\\(St1_St2\\) -->\n<g id=\"edge4\" class=\"edge\">\n<title>\\(St3_St3\\)&#45;&gt;\\(St1_St2\\)</title>\n<path fill=\"none\" stroke=\"#000000\" d=\"M327.8715,-51.4458C340.1871,-51.4458 353.5942,-51.4458 366.3684,-51.4458\"/>\n<polygon fill=\"#000000\" stroke=\"#000000\" points=\"366.4445,-54.9459 376.4445,-51.4458 366.4445,-47.9459 366.4445,-54.9459\"/>\n<text text-anchor=\"middle\" x=\"352.7832\" y=\"-55.2458\" font-family=\"Times,serif\" font-size=\"14.00\" fill=\"#000000\">1 </text>\n</g>\n<!-- \\(St1_St2\\)&#45;&gt;\\(St3_St3\\) -->\n<g id=\"edge2\" class=\"edge\">\n<title>\\(St1_St2\\)&#45;&gt;\\(St3_St3\\)</title>\n<path fill=\"none\" stroke=\"#000000\" d=\"M378.943,-37.355C372.247,-35.7356 365.3771,-34.3447 358.7832,-33.4458 351.0284,-32.3887 342.911,-32.6652 334.9648,-33.7402\"/>\n<polygon fill=\"#000000\" stroke=\"#000000\" points=\"334.2731,-30.3081 325.0313,-35.4888 335.4867,-37.2021 334.2731,-30.3081\"/>\n<text text-anchor=\"middle\" x=\"352.7832\" y=\"-37.2458\" font-family=\"Times,serif\" font-size=\"14.00\" fill=\"#000000\">0 </text>\n</g>\n<!-- \\(St1_BH\\) -->\n<g id=\"node7\" class=\"node\">\n<title>\\(St1_BH\\)</title>\n<ellipse fill=\"none\" stroke=\"#000000\" cx=\"569.8206\" cy=\"-51.4458\" rx=\"47.3958\" ry=\"47.3958\"/>\n<ellipse fill=\"none\" stroke=\"#000000\" cx=\"569.8206\" cy=\"-51.4458\" rx=\"51.3916\" ry=\"51.3916\"/>\n<text text-anchor=\"middle\" x=\"569.8206\" y=\"-47.7458\" font-family=\"Times,serif\" font-size=\"14.00\" fill=\"#000000\">(St1_BH)</text>\n</g>\n<!-- \\(St1_St2\\)&#45;&gt;\\(St1_BH\\) -->\n<g id=\"edge13\" class=\"edge\">\n<title>\\(St1_St2\\)&#45;&gt;\\(St1_BH\\)</title>\n<path fill=\"none\" stroke=\"#000000\" d=\"M470.6558,-51.4458C482.5282,-51.4458 495.4543,-51.4458 507.9332,-51.4458\"/>\n<polygon fill=\"#000000\" stroke=\"#000000\" points=\"508.2774,-54.9459 518.2774,-51.4458 508.2774,-47.9459 508.2774,-54.9459\"/>\n<text text-anchor=\"middle\" x=\"494.3749\" y=\"-55.2458\" font-family=\"Times,serif\" font-size=\"14.00\" fill=\"#000000\">1 </text>\n</g>\n<!-- \\(St3_BH\\) -->\n<g id=\"node5\" class=\"node\">\n<title>\\(St3_BH\\)</title>\n<ellipse fill=\"none\" stroke=\"#000000\" cx=\"716.7122\" cy=\"-51.4458\" rx=\"47.3916\" ry=\"47.3916\"/>\n<text text-anchor=\"middle\" x=\"716.7122\" y=\"-47.7458\" font-family=\"Times,serif\" font-size=\"14.00\" fill=\"#000000\">(St3_BH)</text>\n</g>\n<!-- \\(St3_BH\\)&#45;&gt;\\(St3_BH\\) -->\n<g id=\"edge6\" class=\"edge\">\n<title>\\(St3_BH\\)&#45;&gt;\\(St3_BH\\)</title>\n<path fill=\"none\" stroke=\"#000000\" d=\"M703.7923,-97.3186C704.7493,-108.5404 709.056,-116.8916 716.7122,-116.8916 721.8563,-116.8916 725.4882,-113.1217 727.6082,-107.2442\"/>\n<polygon fill=\"#000000\" stroke=\"#000000\" points=\"731.0635,-107.8163 729.6321,-97.3186 724.2046,-106.4176 731.0635,-107.8163\"/>\n<text text-anchor=\"middle\" x=\"716.7122\" y=\"-120.6916\" font-family=\"Times,serif\" font-size=\"14.00\" fill=\"#000000\">0 </text>\n</g>\n<!-- \\(St3_BH\\)&#45;&gt;\\(St1_BH\\) -->\n<g id=\"edge11\" class=\"edge\">\n<title>\\(St3_BH\\)&#45;&gt;\\(St1_BH\\)</title>\n<path fill=\"none\" stroke=\"#000000\" d=\"M671.3022,-36.4838C664.6473,-34.8126 657.8259,-33.3787 651.2664,-32.4458 643.8701,-31.3939 636.1568,-31.5323 628.5527,-32.4252\"/>\n<polygon fill=\"#000000\" stroke=\"#000000\" points=\"627.9825,-28.9718 618.6552,-33.9968 629.0804,-35.8851 627.9825,-28.9718\"/>\n<text text-anchor=\"middle\" x=\"645.2664\" y=\"-36.2458\" font-family=\"Times,serif\" font-size=\"14.00\" fill=\"#000000\">1 </text>\n</g>\n<!-- \\(St2_St2\\)&#45;&gt;\\(BH_BH\\) -->\n<g id=\"edge3\" class=\"edge\">\n<title>\\(St2_St2\\)&#45;&gt;\\(BH_BH\\)</title>\n<path fill=\"none\" stroke=\"#000000\" d=\"M179.5101,-145.7567C194.7973,-153.5665 212.2947,-162.5056 228.3919,-170.7292\"/>\n<polygon fill=\"#000000\" stroke=\"#000000\" points=\"227.183,-174.0419 237.6805,-175.4746 230.3677,-167.8082 227.183,-174.0419\"/>\n<text text-anchor=\"middle\" x=\"208.5917\" y=\"-166.2458\" font-family=\"Times,serif\" font-size=\"14.00\" fill=\"#000000\">1 </text>\n</g>\n<!-- \\(St2_St2\\)&#45;&gt;\\(St3_St3\\) -->\n<g id=\"edge5\" class=\"edge\">\n<title>\\(St2_St2\\)&#45;&gt;\\(St3_St3\\)</title>\n<path fill=\"none\" stroke=\"#000000\" d=\"M179.5101,-103.1349C195.2182,-95.1101 213.2599,-85.8929 229.7182,-77.4848\"/>\n<polygon fill=\"#000000\" stroke=\"#000000\" points=\"231.361,-80.5759 238.6739,-72.9095 228.1764,-74.3422 231.361,-80.5759\"/>\n<text text-anchor=\"middle\" x=\"208.5917\" y=\"-93.2458\" font-family=\"Times,serif\" font-size=\"14.00\" fill=\"#000000\">0 </text>\n</g>\n<!-- \\(St1_BH\\)&#45;&gt;\\(St3_BH\\) -->\n<g id=\"edge10\" class=\"edge\">\n<title>\\(St1_BH\\)&#45;&gt;\\(St3_BH\\)</title>\n<path fill=\"none\" stroke=\"#000000\" d=\"M621.6091,-51.4458C633.6119,-51.4458 646.4621,-51.4458 658.7119,-51.4458\"/>\n<polygon fill=\"#000000\" stroke=\"#000000\" points=\"658.8288,-54.9459 668.8288,-51.4458 658.8288,-47.9459 658.8288,-54.9459\"/>\n<text text-anchor=\"middle\" x=\"645.2664\" y=\"-55.2458\" font-family=\"Times,serif\" font-size=\"14.00\" fill=\"#000000\">0 </text>\n</g>\n<!-- \\(St1_BH\\)&#45;&gt;\\(St1_BH\\) -->\n<g id=\"edge8\" class=\"edge\">\n<title>\\(St1_BH\\)&#45;&gt;\\(St1_BH\\)</title>\n<path fill=\"none\" stroke=\"#000000\" d=\"M556.2514,-101.0725C557.4206,-112.4984 561.9437,-120.8916 569.8206,-120.8916 575.113,-120.8916 578.8913,-117.1028 581.1557,-111.1509\"/>\n<polygon fill=\"#000000\" stroke=\"#000000\" points=\"584.6426,-111.593 583.3899,-101.0725 577.8085,-110.0779 584.6426,-111.593\"/>\n<text text-anchor=\"middle\" x=\"569.8206\" y=\"-124.6916\" font-family=\"Times,serif\" font-size=\"14.00\" fill=\"#000000\">1 </text>\n</g>\n</g>\n</svg>\n"
          },
          "metadata": {},
          "execution_count": 17
        }
      ]
    },
    {
      "cell_type": "markdown",
      "metadata": {
        "run_control": {
          "frozen": false,
          "read_only": false
        },
        "id": "JufG6QvzLujz"
      },
      "source": [
        "# Now obtain an RE for complement(0(0+1)*)\n",
        "\n",
        "## Build it and see if it makes sense"
      ]
    },
    {
      "cell_type": "code",
      "source": [
        "RE = \"0(0+1)*\""
      ],
      "metadata": {
        "id": "h1wZLkzfQc7j"
      },
      "execution_count": 18,
      "outputs": []
    },
    {
      "cell_type": "code",
      "source": [
        "cmdfa_RE = comp_dfa(min_dfa(nfa2dfa(re2nfa(RE))))"
      ],
      "metadata": {
        "id": "p1TT2QKyQgdI"
      },
      "execution_count": 19,
      "outputs": []
    },
    {
      "cell_type": "code",
      "source": [
        "dotObj_dfa_w_bh(cmdfa_RE)"
      ],
      "metadata": {
        "colab": {
          "base_uri": "https://localhost:8080/",
          "height": 368
        },
        "id": "69RJOoMWQqif",
        "outputId": "289559cf-3334-46eb-cc97-dc1cb3594934"
      },
      "execution_count": 20,
      "outputs": [
        {
          "output_type": "execute_result",
          "data": {
            "text/plain": [
              "<graphviz.dot.Digraph at 0x7f87f86c9710>"
            ],
            "image/svg+xml": "<?xml version=\"1.0\" encoding=\"UTF-8\" standalone=\"no\"?>\n<!DOCTYPE svg PUBLIC \"-//W3C//DTD SVG 1.1//EN\"\n \"http://www.w3.org/Graphics/SVG/1.1/DTD/svg11.dtd\">\n<!-- Generated by graphviz version 2.40.1 (20161225.0304)\n -->\n<!-- Title: %3 Pages: 1 -->\n<svg width=\"258pt\" height=\"260pt\"\n viewBox=\"0.00 0.00 257.89 260.45\" xmlns=\"http://www.w3.org/2000/svg\" xmlns:xlink=\"http://www.w3.org/1999/xlink\">\n<g id=\"graph0\" class=\"graph\" transform=\"scale(1 1) rotate(0) translate(4 256.4458)\">\n<title>%3</title>\n<polygon fill=\"#ffffff\" stroke=\"transparent\" points=\"-4,4 -4,-256.4458 253.8916,-256.4458 253.8916,4 -4,4\"/>\n<!-- EMPTY -->\n<g id=\"node1\" class=\"node\">\n<title>EMPTY</title>\n</g>\n<!-- St1 -->\n<g id=\"node4\" class=\"node\">\n<title>St1</title>\n<ellipse fill=\"none\" stroke=\"#000000\" cx=\"118.3979\" cy=\"-95.0479\" rx=\"23.3111\" ry=\"23.3111\"/>\n<ellipse fill=\"none\" stroke=\"#000000\" cx=\"118.3979\" cy=\"-95.0479\" rx=\"27.2962\" ry=\"27.2962\"/>\n<text text-anchor=\"middle\" x=\"118.3979\" y=\"-91.3479\" font-family=\"Times,serif\" font-size=\"14.00\" fill=\"#000000\">St1</text>\n</g>\n<!-- EMPTY&#45;&gt;St1 -->\n<g id=\"edge1\" class=\"edge\">\n<title>EMPTY&#45;&gt;St1</title>\n<path fill=\"none\" stroke=\"#000000\" d=\"M54.4224,-95.0479C62.7369,-95.0479 72.0177,-95.0479 80.875,-95.0479\"/>\n<polygon fill=\"#000000\" stroke=\"#000000\" points=\"80.9949,-98.548 90.9949,-95.0479 80.9949,-91.548 80.9949,-98.548\"/>\n</g>\n<!-- St3 -->\n<g id=\"node2\" class=\"node\">\n<title>St3</title>\n<ellipse fill=\"none\" stroke=\"#000000\" cx=\"221.8437\" cy=\"-163.0479\" rx=\"23.2963\" ry=\"23.2963\"/>\n<text text-anchor=\"middle\" x=\"221.8437\" y=\"-159.3479\" font-family=\"Times,serif\" font-size=\"14.00\" fill=\"#000000\">St3</text>\n</g>\n<!-- St3&#45;&gt;St3 -->\n<g id=\"edge6\" class=\"edge\">\n<title>St3&#45;&gt;St3</title>\n<path fill=\"none\" stroke=\"#000000\" d=\"M217.027,-186.0365C216.6327,-195.9543 218.2382,-204.4458 221.8437,-204.4458 224.0971,-204.4458 225.5693,-201.1288 226.2603,-196.2197\"/>\n<polygon fill=\"#000000\" stroke=\"#000000\" points=\"229.765,-196.1662 226.6604,-186.0365 222.7704,-195.8914 229.765,-196.1662\"/>\n<text text-anchor=\"middle\" x=\"221.8437\" y=\"-208.2458\" font-family=\"Times,serif\" font-size=\"14.00\" fill=\"#000000\">1 </text>\n</g>\n<!-- St3&#45;&gt;St3 -->\n<g id=\"edge7\" class=\"edge\">\n<title>St3&#45;&gt;St3</title>\n<path fill=\"none\" stroke=\"#000000\" d=\"M213.5814,-184.9797C210.0506,-203.3015 212.8047,-222.4458 221.8437,-222.4458 229.188,-222.4458 232.3831,-209.8075 231.4292,-195.2409\"/>\n<polygon fill=\"#000000\" stroke=\"#000000\" points=\"234.8563,-194.4499 230.106,-184.9797 227.9138,-195.3453 234.8563,-194.4499\"/>\n<text text-anchor=\"middle\" x=\"221.8437\" y=\"-226.2458\" font-family=\"Times,serif\" font-size=\"14.00\" fill=\"#000000\">0 </text>\n</g>\n<!-- BH -->\n<g id=\"node3\" class=\"node\">\n<title>BH</title>\n<ellipse fill=\"none\" stroke=\"#000000\" cx=\"221.8437\" cy=\"-28.0479\" rx=\"24.089\" ry=\"24.089\"/>\n<ellipse fill=\"none\" stroke=\"#000000\" cx=\"221.8437\" cy=\"-28.0479\" rx=\"28.0958\" ry=\"28.0958\"/>\n<text text-anchor=\"middle\" x=\"221.8437\" y=\"-24.3479\" font-family=\"Times,serif\" font-size=\"14.00\" fill=\"#000000\">BH</text>\n</g>\n<!-- BH&#45;&gt;BH -->\n<g id=\"edge4\" class=\"edge\">\n<title>BH&#45;&gt;BH</title>\n<path fill=\"none\" stroke=\"#000000\" d=\"M216.9735,-55.923C216.8687,-65.9339 218.4922,-74.0957 221.8437,-74.0957 223.9384,-74.0957 225.3581,-70.9075 226.1027,-66.0723\"/>\n<polygon fill=\"#000000\" stroke=\"#000000\" points=\"229.6064,-66.1153 226.714,-55.923 222.619,-65.6944 229.6064,-66.1153\"/>\n<text text-anchor=\"middle\" x=\"221.8437\" y=\"-77.8957\" font-family=\"Times,serif\" font-size=\"14.00\" fill=\"#000000\">1 </text>\n</g>\n<!-- BH&#45;&gt;BH -->\n<g id=\"edge5\" class=\"edge\">\n<title>BH&#45;&gt;BH</title>\n<path fill=\"none\" stroke=\"#000000\" d=\"M213.0941,-54.6974C210.3451,-73.4874 213.2617,-92.0957 221.8437,-92.0957 228.8837,-92.0957 232.1112,-79.574 231.5264,-64.7019\"/>\n<polygon fill=\"#000000\" stroke=\"#000000\" points=\"235.007,-64.3291 230.5934,-54.6974 228.0372,-64.9792 235.007,-64.3291\"/>\n<text text-anchor=\"middle\" x=\"221.8437\" y=\"-95.8957\" font-family=\"Times,serif\" font-size=\"14.00\" fill=\"#000000\">0 </text>\n</g>\n<!-- St1&#45;&gt;St3 -->\n<g id=\"edge3\" class=\"edge\">\n<title>St1&#45;&gt;St3</title>\n<path fill=\"none\" stroke=\"#000000\" d=\"M141.3559,-110.1393C156.7241,-120.2415 177.0601,-133.6094 193.4456,-144.3804\"/>\n<polygon fill=\"#000000\" stroke=\"#000000\" points=\"191.8068,-147.4916 202.0856,-150.0599 195.6519,-141.6422 191.8068,-147.4916\"/>\n<text text-anchor=\"middle\" x=\"169.7958\" y=\"-134.8479\" font-family=\"Times,serif\" font-size=\"14.00\" fill=\"#000000\">0 </text>\n</g>\n<!-- St1&#45;&gt;BH -->\n<g id=\"edge2\" class=\"edge\">\n<title>St1&#45;&gt;BH</title>\n<path fill=\"none\" stroke=\"#000000\" d=\"M141.6132,-80.0118C155.6556,-70.9167 173.7749,-59.1812 189.2402,-49.1646\"/>\n<polygon fill=\"#000000\" stroke=\"#000000\" points=\"191.4977,-51.8725 197.9884,-43.4985 187.6924,-45.9971 191.4977,-51.8725\"/>\n<text text-anchor=\"middle\" x=\"169.7958\" y=\"-68.8479\" font-family=\"Times,serif\" font-size=\"14.00\" fill=\"#000000\">1 </text>\n</g>\n</g>\n</svg>\n"
          },
          "metadata": {},
          "execution_count": 20
        }
      ]
    },
    {
      "cell_type": "code",
      "source": [
        "# Convert the above DFA to an NFA - processing convenience\n",
        "\n",
        "ncRE = dfa2nfa(cmdfa_RE)"
      ],
      "metadata": {
        "id": "rBqToTvbQtQH"
      },
      "execution_count": 21,
      "outputs": []
    },
    {
      "cell_type": "code",
      "source": [
        "cmdfa_RE"
      ],
      "metadata": {
        "colab": {
          "base_uri": "https://localhost:8080/"
        },
        "id": "iuwqNNB_RvdY",
        "outputId": "03567225-d2a3-4c8c-e92c-f90f332ce39b"
      },
      "execution_count": 22,
      "outputs": [
        {
          "output_type": "execute_result",
          "data": {
            "text/plain": [
              "{'Q': {'BH', 'St1', 'St3'},\n",
              " 'Sigma': {'0', '1'},\n",
              " 'Delta': {('St1', '1'): 'BH',\n",
              "  ('St1', '0'): 'St3',\n",
              "  ('BH', '1'): 'BH',\n",
              "  ('BH', '0'): 'BH',\n",
              "  ('St3', '1'): 'St3',\n",
              "  ('St3', '0'): 'St3'},\n",
              " 'q0': 'St1',\n",
              " 'F': {'BH', 'St1'}}"
            ]
          },
          "metadata": {},
          "execution_count": 22
        }
      ]
    },
    {
      "cell_type": "code",
      "source": [
        "ncRE"
      ],
      "metadata": {
        "colab": {
          "base_uri": "https://localhost:8080/"
        },
        "id": "x0Q_UgykRw_E",
        "outputId": "fb16cf69-11b1-4b02-91d4-41aeb26d5539"
      },
      "execution_count": 23,
      "outputs": [
        {
          "output_type": "execute_result",
          "data": {
            "text/plain": [
              "{'Q': {'BH', 'St1', 'St3'},\n",
              " 'Sigma': {'0', '1'},\n",
              " 'Delta': {('St1', '1'): {'BH'},\n",
              "  ('St1', '0'): {'St3'},\n",
              "  ('BH', '1'): {'BH'},\n",
              "  ('BH', '0'): {'BH'},\n",
              "  ('St3', '1'): {'St3'},\n",
              "  ('St3', '0'): {'St3'}},\n",
              " 'Q0': {'St1'},\n",
              " 'F': {'BH', 'St1'}}"
            ]
          },
          "metadata": {},
          "execution_count": 23
        }
      ]
    },
    {
      "cell_type": "code",
      "source": [
        "dotObj_nfa(ncRE)"
      ],
      "metadata": {
        "colab": {
          "base_uri": "https://localhost:8080/",
          "height": 368
        },
        "id": "3ZW4icF1R-9U",
        "outputId": "b89d05be-604e-4a83-9845-50b0461452f4"
      },
      "execution_count": 24,
      "outputs": [
        {
          "output_type": "execute_result",
          "data": {
            "text/plain": [
              "<graphviz.dot.Digraph at 0x7f87f86f64d0>"
            ],
            "image/svg+xml": "<?xml version=\"1.0\" encoding=\"UTF-8\" standalone=\"no\"?>\n<!DOCTYPE svg PUBLIC \"-//W3C//DTD SVG 1.1//EN\"\n \"http://www.w3.org/Graphics/SVG/1.1/DTD/svg11.dtd\">\n<!-- Generated by graphviz version 2.40.1 (20161225.0304)\n -->\n<!-- Title: %3 Pages: 1 -->\n<svg width=\"258pt\" height=\"260pt\"\n viewBox=\"0.00 0.00 257.89 260.45\" xmlns=\"http://www.w3.org/2000/svg\" xmlns:xlink=\"http://www.w3.org/1999/xlink\">\n<g id=\"graph0\" class=\"graph\" transform=\"scale(1 1) rotate(0) translate(4 256.4458)\">\n<title>%3</title>\n<polygon fill=\"#ffffff\" stroke=\"transparent\" points=\"-4,4 -4,-256.4458 253.8916,-256.4458 253.8916,4 -4,4\"/>\n<!-- EMPTY -->\n<g id=\"node1\" class=\"node\">\n<title>EMPTY</title>\n</g>\n<!-- St1 -->\n<g id=\"node4\" class=\"node\">\n<title>St1</title>\n<ellipse fill=\"none\" stroke=\"#000000\" cx=\"118.3979\" cy=\"-95.0479\" rx=\"23.3111\" ry=\"23.3111\"/>\n<ellipse fill=\"none\" stroke=\"#000000\" cx=\"118.3979\" cy=\"-95.0479\" rx=\"27.2962\" ry=\"27.2962\"/>\n<text text-anchor=\"middle\" x=\"118.3979\" y=\"-91.3479\" font-family=\"Times,serif\" font-size=\"14.00\" fill=\"#000000\">St1</text>\n</g>\n<!-- EMPTY&#45;&gt;St1 -->\n<g id=\"edge1\" class=\"edge\">\n<title>EMPTY&#45;&gt;St1</title>\n<path fill=\"none\" stroke=\"#000000\" d=\"M54.4224,-95.0479C62.7369,-95.0479 72.0177,-95.0479 80.875,-95.0479\"/>\n<polygon fill=\"#000000\" stroke=\"#000000\" points=\"80.9949,-98.548 90.9949,-95.0479 80.9949,-91.548 80.9949,-98.548\"/>\n</g>\n<!-- St3 -->\n<g id=\"node2\" class=\"node\">\n<title>St3</title>\n<ellipse fill=\"none\" stroke=\"#000000\" cx=\"221.8437\" cy=\"-163.0479\" rx=\"23.2963\" ry=\"23.2963\"/>\n<text text-anchor=\"middle\" x=\"221.8437\" y=\"-159.3479\" font-family=\"Times,serif\" font-size=\"14.00\" fill=\"#000000\">St3</text>\n</g>\n<!-- St3&#45;&gt;St3 -->\n<g id=\"edge6\" class=\"edge\">\n<title>St3&#45;&gt;St3</title>\n<path fill=\"none\" stroke=\"#000000\" d=\"M217.027,-186.0365C216.6327,-195.9543 218.2382,-204.4458 221.8437,-204.4458 224.0971,-204.4458 225.5693,-201.1288 226.2603,-196.2197\"/>\n<polygon fill=\"#000000\" stroke=\"#000000\" points=\"229.765,-196.1662 226.6604,-186.0365 222.7704,-195.8914 229.765,-196.1662\"/>\n<text text-anchor=\"middle\" x=\"221.8437\" y=\"-208.2458\" font-family=\"Times,serif\" font-size=\"14.00\" fill=\"#000000\">1 </text>\n</g>\n<!-- St3&#45;&gt;St3 -->\n<g id=\"edge7\" class=\"edge\">\n<title>St3&#45;&gt;St3</title>\n<path fill=\"none\" stroke=\"#000000\" d=\"M213.5814,-184.9797C210.0506,-203.3015 212.8047,-222.4458 221.8437,-222.4458 229.188,-222.4458 232.3831,-209.8075 231.4292,-195.2409\"/>\n<polygon fill=\"#000000\" stroke=\"#000000\" points=\"234.8563,-194.4499 230.106,-184.9797 227.9138,-195.3453 234.8563,-194.4499\"/>\n<text text-anchor=\"middle\" x=\"221.8437\" y=\"-226.2458\" font-family=\"Times,serif\" font-size=\"14.00\" fill=\"#000000\">0 </text>\n</g>\n<!-- BH -->\n<g id=\"node3\" class=\"node\">\n<title>BH</title>\n<ellipse fill=\"none\" stroke=\"#000000\" cx=\"221.8437\" cy=\"-28.0479\" rx=\"24.089\" ry=\"24.089\"/>\n<ellipse fill=\"none\" stroke=\"#000000\" cx=\"221.8437\" cy=\"-28.0479\" rx=\"28.0958\" ry=\"28.0958\"/>\n<text text-anchor=\"middle\" x=\"221.8437\" y=\"-24.3479\" font-family=\"Times,serif\" font-size=\"14.00\" fill=\"#000000\">BH</text>\n</g>\n<!-- BH&#45;&gt;BH -->\n<g id=\"edge4\" class=\"edge\">\n<title>BH&#45;&gt;BH</title>\n<path fill=\"none\" stroke=\"#000000\" d=\"M216.9735,-55.923C216.8687,-65.9339 218.4922,-74.0957 221.8437,-74.0957 223.9384,-74.0957 225.3581,-70.9075 226.1027,-66.0723\"/>\n<polygon fill=\"#000000\" stroke=\"#000000\" points=\"229.6064,-66.1153 226.714,-55.923 222.619,-65.6944 229.6064,-66.1153\"/>\n<text text-anchor=\"middle\" x=\"221.8437\" y=\"-77.8957\" font-family=\"Times,serif\" font-size=\"14.00\" fill=\"#000000\">1 </text>\n</g>\n<!-- BH&#45;&gt;BH -->\n<g id=\"edge5\" class=\"edge\">\n<title>BH&#45;&gt;BH</title>\n<path fill=\"none\" stroke=\"#000000\" d=\"M213.0941,-54.6974C210.3451,-73.4874 213.2617,-92.0957 221.8437,-92.0957 228.8837,-92.0957 232.1112,-79.574 231.5264,-64.7019\"/>\n<polygon fill=\"#000000\" stroke=\"#000000\" points=\"235.007,-64.3291 230.5934,-54.6974 228.0372,-64.9792 235.007,-64.3291\"/>\n<text text-anchor=\"middle\" x=\"221.8437\" y=\"-95.8957\" font-family=\"Times,serif\" font-size=\"14.00\" fill=\"#000000\">0 </text>\n</g>\n<!-- St1&#45;&gt;St3 -->\n<g id=\"edge3\" class=\"edge\">\n<title>St1&#45;&gt;St3</title>\n<path fill=\"none\" stroke=\"#000000\" d=\"M141.3559,-110.1393C156.7241,-120.2415 177.0601,-133.6094 193.4456,-144.3804\"/>\n<polygon fill=\"#000000\" stroke=\"#000000\" points=\"191.8068,-147.4916 202.0856,-150.0599 195.6519,-141.6422 191.8068,-147.4916\"/>\n<text text-anchor=\"middle\" x=\"169.7958\" y=\"-134.8479\" font-family=\"Times,serif\" font-size=\"14.00\" fill=\"#000000\">0 </text>\n</g>\n<!-- St1&#45;&gt;BH -->\n<g id=\"edge2\" class=\"edge\">\n<title>St1&#45;&gt;BH</title>\n<path fill=\"none\" stroke=\"#000000\" d=\"M141.6132,-80.0118C155.6556,-70.9167 173.7749,-59.1812 189.2402,-49.1646\"/>\n<polygon fill=\"#000000\" stroke=\"#000000\" points=\"191.4977,-51.8725 197.9884,-43.4985 187.6924,-45.9971 191.4977,-51.8725\"/>\n<text text-anchor=\"middle\" x=\"169.7958\" y=\"-68.8479\" font-family=\"Times,serif\" font-size=\"14.00\" fill=\"#000000\">1 </text>\n</g>\n</g>\n</svg>\n"
          },
          "metadata": {},
          "execution_count": 24
        }
      ]
    },
    {
      "cell_type": "code",
      "source": [
        "# Make it into a GNFA\n",
        "gncRE = mk_gnfa(ncRE)"
      ],
      "metadata": {
        "id": "_Y5YIZeGR7m5"
      },
      "execution_count": 25,
      "outputs": []
    },
    {
      "cell_type": "code",
      "source": [
        "dotObj_gnfa(gncRE)"
      ],
      "metadata": {
        "colab": {
          "base_uri": "https://localhost:8080/",
          "height": 456
        },
        "id": "CpLCBSaHSJBu",
        "outputId": "4246e2ec-0e89-42f3-859a-d899f0883309"
      },
      "execution_count": 26,
      "outputs": [
        {
          "output_type": "execute_result",
          "data": {
            "text/plain": [
              "<graphviz.dot.Digraph at 0x7f87f867b8d0>"
            ],
            "image/svg+xml": "<?xml version=\"1.0\" encoding=\"UTF-8\" standalone=\"no\"?>\n<!DOCTYPE svg PUBLIC \"-//W3C//DTD SVG 1.1//EN\"\n \"http://www.w3.org/Graphics/SVG/1.1/DTD/svg11.dtd\">\n<!-- Generated by graphviz version 2.40.1 (20161225.0304)\n -->\n<!-- Title: %3 Pages: 1 -->\n<svg width=\"485pt\" height=\"311pt\"\n viewBox=\"0.00 0.00 485.48 311.09\" xmlns=\"http://www.w3.org/2000/svg\" xmlns:xlink=\"http://www.w3.org/1999/xlink\">\n<g id=\"graph0\" class=\"graph\" transform=\"scale(1 1) rotate(0) translate(4 307.0946)\">\n<title>%3</title>\n<polygon fill=\"#ffffff\" stroke=\"transparent\" points=\"-4,4 -4,-307.0946 481.4787,-307.0946 481.4787,4 -4,4\"/>\n<!-- EMPTY -->\n<g id=\"node1\" class=\"node\">\n<title>EMPTY</title>\n</g>\n<!-- Real_I -->\n<g id=\"node2\" class=\"node\">\n<title>Real_I</title>\n<ellipse fill=\"none\" stroke=\"#000000\" cx=\"126.0969\" cy=\"-82.6967\" rx=\"35.194\" ry=\"35.194\"/>\n<text text-anchor=\"middle\" x=\"126.0969\" y=\"-78.9967\" font-family=\"Times,serif\" font-size=\"14.00\" fill=\"#000000\">Real_I</text>\n</g>\n<!-- EMPTY&#45;&gt;Real_I -->\n<g id=\"edge1\" class=\"edge\">\n<title>EMPTY&#45;&gt;Real_I</title>\n<path fill=\"none\" stroke=\"#000000\" d=\"M54.0787,-82.6967C62.3227,-82.6967 71.6196,-82.6967 80.7269,-82.6967\"/>\n<polygon fill=\"#000000\" stroke=\"#000000\" points=\"80.8626,-86.1968 90.8626,-82.6967 80.8625,-79.1968 80.8626,-86.1968\"/>\n</g>\n<!-- St1 -->\n<g id=\"node5\" class=\"node\">\n<title>St1</title>\n<ellipse fill=\"none\" stroke=\"#000000\" cx=\"229.5917\" cy=\"-82.6967\" rx=\"23.2963\" ry=\"23.2963\"/>\n<text text-anchor=\"middle\" x=\"229.5917\" y=\"-78.9967\" font-family=\"Times,serif\" font-size=\"14.00\" fill=\"#000000\">St1</text>\n</g>\n<!-- Real_I&#45;&gt;St1 -->\n<g id=\"edge8\" class=\"edge\">\n<title>Real_I&#45;&gt;St1</title>\n<path fill=\"none\" stroke=\"#000000\" d=\"M161.4245,-82.6967C172.6072,-82.6967 184.9312,-82.6967 195.9895,-82.6967\"/>\n<polygon fill=\"#000000\" stroke=\"#000000\" points=\"196.1253,-86.1968 206.1253,-82.6967 196.1253,-79.1968 196.1253,-86.1968\"/>\n<text text-anchor=\"middle\" x=\"183.6938\" y=\"-86.4967\" font-family=\"Times,serif\" font-size=\"14.00\" fill=\"#000000\">&#39;&#39; </text>\n</g>\n<!-- St3 -->\n<g id=\"node3\" class=\"node\">\n<title>St3</title>\n<ellipse fill=\"none\" stroke=\"#000000\" cx=\"325.0375\" cy=\"-213.6967\" rx=\"23.2963\" ry=\"23.2963\"/>\n<text text-anchor=\"middle\" x=\"325.0375\" y=\"-209.9967\" font-family=\"Times,serif\" font-size=\"14.00\" fill=\"#000000\">St3</text>\n</g>\n<!-- St3&#45;&gt;St3 -->\n<g id=\"edge6\" class=\"edge\">\n<title>St3&#45;&gt;St3</title>\n<path fill=\"none\" stroke=\"#000000\" d=\"M320.7629,-237.1035C320.4681,-246.8406 321.893,-255.0946 325.0375,-255.0946 326.9537,-255.0946 328.2313,-252.0296 328.8704,-247.4317\"/>\n<polygon fill=\"#000000\" stroke=\"#000000\" points=\"332.3815,-247.2439 329.3121,-237.1035 325.3879,-246.9448 332.3815,-247.2439\"/>\n<text text-anchor=\"middle\" x=\"325.0375\" y=\"-258.8946\" font-family=\"Times,serif\" font-size=\"14.00\" fill=\"#000000\">1 </text>\n</g>\n<!-- St3&#45;&gt;St3 -->\n<g id=\"edge7\" class=\"edge\">\n<title>St3&#45;&gt;St3</title>\n<path fill=\"none\" stroke=\"#000000\" d=\"M317.6764,-235.9374C314.6326,-254.1648 317.0863,-273.0946 325.0375,-273.0946 331.4978,-273.0946 334.3289,-260.5979 333.5309,-246.135\"/>\n<polygon fill=\"#000000\" stroke=\"#000000\" points=\"336.9808,-245.49 332.3985,-235.9374 330.0236,-246.2626 336.9808,-245.49\"/>\n<text text-anchor=\"middle\" x=\"325.0375\" y=\"-276.8946\" font-family=\"Times,serif\" font-size=\"14.00\" fill=\"#000000\">0 </text>\n</g>\n<!-- BH -->\n<g id=\"node4\" class=\"node\">\n<title>BH</title>\n<ellipse fill=\"none\" stroke=\"#000000\" cx=\"325.0375\" cy=\"-82.6967\" rx=\"24.0958\" ry=\"24.0958\"/>\n<text text-anchor=\"middle\" x=\"325.0375\" y=\"-78.9967\" font-family=\"Times,serif\" font-size=\"14.00\" fill=\"#000000\">BH</text>\n</g>\n<!-- BH&#45;&gt;BH -->\n<g id=\"edge4\" class=\"edge\">\n<title>BH&#45;&gt;BH</title>\n<path fill=\"none\" stroke=\"#000000\" d=\"M320.7629,-106.471C320.4681,-116.361 321.893,-124.7445 325.0375,-124.7445 327.0028,-124.7445 328.2964,-121.4697 328.9182,-116.599\"/>\n<polygon fill=\"#000000\" stroke=\"#000000\" points=\"332.4208,-116.5994 329.3121,-106.471 325.4261,-116.3274 332.4208,-116.5994\"/>\n<text text-anchor=\"middle\" x=\"325.0375\" y=\"-128.5445\" font-family=\"Times,serif\" font-size=\"14.00\" fill=\"#000000\">1 </text>\n</g>\n<!-- BH&#45;&gt;BH -->\n<g id=\"edge5\" class=\"edge\">\n<title>BH&#45;&gt;BH</title>\n<path fill=\"none\" stroke=\"#000000\" d=\"M317.5754,-105.8056C314.6888,-124.0376 317.1762,-142.7445 325.0375,-142.7445 331.4248,-142.7445 334.2645,-130.395 333.5565,-115.9848\"/>\n<polygon fill=\"#000000\" stroke=\"#000000\" points=\"337.0137,-115.3907 332.4996,-105.8056 330.0512,-116.1137 337.0137,-115.3907\"/>\n<text text-anchor=\"middle\" x=\"325.0375\" y=\"-146.5445\" font-family=\"Times,serif\" font-size=\"14.00\" fill=\"#000000\">0 </text>\n</g>\n<!-- Real_F -->\n<g id=\"node6\" class=\"node\">\n<title>Real_F</title>\n<ellipse fill=\"none\" stroke=\"#000000\" cx=\"435.782\" cy=\"-41.6967\" rx=\"37.8753\" ry=\"37.8753\"/>\n<ellipse fill=\"none\" stroke=\"#000000\" cx=\"435.782\" cy=\"-41.6967\" rx=\"41.8942\" ry=\"41.8942\"/>\n<text text-anchor=\"middle\" x=\"435.782\" y=\"-37.9967\" font-family=\"Times,serif\" font-size=\"14.00\" fill=\"#000000\">Real_F</text>\n</g>\n<!-- BH&#45;&gt;Real_F -->\n<g id=\"edge9\" class=\"edge\">\n<title>BH&#45;&gt;Real_F</title>\n<path fill=\"none\" stroke=\"#000000\" d=\"M347.7155,-74.3008C359.1298,-70.0749 373.4318,-64.7801 387.1702,-59.6938\"/>\n<polygon fill=\"#000000\" stroke=\"#000000\" points=\"388.3861,-62.9759 396.5489,-56.2216 385.9558,-56.4113 388.3861,-62.9759\"/>\n<text text-anchor=\"middle\" x=\"371.5854\" y=\"-70.4967\" font-family=\"Times,serif\" font-size=\"14.00\" fill=\"#000000\">&#39;&#39; </text>\n</g>\n<!-- St1&#45;&gt;St3 -->\n<g id=\"edge3\" class=\"edge\">\n<title>St1&#45;&gt;St3</title>\n<path fill=\"none\" stroke=\"#000000\" d=\"M243.1689,-101.756C257.4513,-121.7501 280.6364,-154.0515 300.9896,-181.6967 302.1639,-183.2916 303.3747,-184.928 304.5995,-186.5769\"/>\n<polygon fill=\"#000000\" stroke=\"#000000\" points=\"301.9459,-188.8731 310.7338,-194.7912 307.5545,-184.6846 301.9459,-188.8731\"/>\n<text text-anchor=\"middle\" x=\"276.9896\" y=\"-157.4967\" font-family=\"Times,serif\" font-size=\"14.00\" fill=\"#000000\">0 </text>\n</g>\n<!-- St1&#45;&gt;BH -->\n<g id=\"edge2\" class=\"edge\">\n<title>St1&#45;&gt;BH</title>\n<path fill=\"none\" stroke=\"#000000\" d=\"M253.185,-82.6967C264.4845,-82.6967 278.2332,-82.6967 290.6668,-82.6967\"/>\n<polygon fill=\"#000000\" stroke=\"#000000\" points=\"290.7191,-86.1968 300.719,-82.6967 290.719,-79.1968 290.7191,-86.1968\"/>\n<text text-anchor=\"middle\" x=\"276.9896\" y=\"-86.4967\" font-family=\"Times,serif\" font-size=\"14.00\" fill=\"#000000\">1 </text>\n</g>\n<!-- St1&#45;&gt;Real_F -->\n<g id=\"edge10\" class=\"edge\">\n<title>St1&#45;&gt;Real_F</title>\n<path fill=\"none\" stroke=\"#000000\" d=\"M246.8184,-66.7751C260.3973,-55.3728 280.4164,-40.9693 300.9896,-34.6967 327.9997,-26.4614 359.4483,-27.5301 385.1719,-30.9685\"/>\n<polygon fill=\"#000000\" stroke=\"#000000\" points=\"384.6827,-34.4342 395.0895,-32.4468 385.7148,-27.5106 384.6827,-34.4342\"/>\n<text text-anchor=\"middle\" x=\"325.0375\" y=\"-38.4967\" font-family=\"Times,serif\" font-size=\"14.00\" fill=\"#000000\">&#39;&#39; </text>\n</g>\n</g>\n</svg>\n"
          },
          "metadata": {},
          "execution_count": 26
        }
      ]
    },
    {
      "cell_type": "code",
      "source": [
        "help(del_gnfa_states)"
      ],
      "metadata": {
        "colab": {
          "base_uri": "https://localhost:8080/"
        },
        "id": "rNXiPtfuSLfw",
        "outputId": "0a5404f6-0ce3-44b5-a1ea-16981973bb1f"
      },
      "execution_count": 27,
      "outputs": [
        {
          "output_type": "stream",
          "name": "stdout",
          "text": [
            "Help on function del_gnfa_states in module jove.Def_NFA2RE:\n",
            "\n",
            "del_gnfa_states(Gin, DelList=[])\n",
            "    Given a GNFA Gin with no unreachable states, \n",
            "    delete all states but f\n",
            "    or Real_I and Real_F.\n",
            "    If DelList is given, follow the state deletion\n",
            "    order mentioned therein; else choose order internally.\n",
            "    \n",
            "    Return a triple (Gfinal, dotObj_List, final_re_str), where\n",
            "      Gfinal       : the final GNFA\n",
            "      dotObj_List  : a list of Dot objects recording the process of\n",
            "                     deleting states and forming intermediate REs\n",
            "      final_re_str : the final RE as a string (ready to be fed to  \n",
            "                     re2nfa for converting back to an NFA)\n",
            "\n"
          ]
        }
      ]
    },
    {
      "cell_type": "code",
      "source": [
        "(Gfinal, DO, RE) = del_gnfa_states(gncRE)"
      ],
      "metadata": {
        "colab": {
          "base_uri": "https://localhost:8080/"
        },
        "id": "AP0hSoXVSlzp",
        "outputId": "ae021d23-a571-4715-cf87-1562a7bb6566"
      },
      "execution_count": 28,
      "outputs": [
        {
          "output_type": "stream",
          "name": "stdout",
          "text": [
            "**** Eliminating state St1 ****\n",
            "**** Eliminating state St3 ****\n",
            "**** Eliminating state BH ****\n"
          ]
        }
      ]
    },
    {
      "cell_type": "code",
      "source": [
        "DO[0]"
      ],
      "metadata": {
        "colab": {
          "base_uri": "https://localhost:8080/",
          "height": 456
        },
        "id": "v3csoTq4S4Sw",
        "outputId": "500ae96a-aa33-4327-a8f8-37c58219da85"
      },
      "execution_count": 29,
      "outputs": [
        {
          "output_type": "execute_result",
          "data": {
            "text/plain": [
              "<graphviz.dot.Digraph at 0x7f87f871ad90>"
            ],
            "image/svg+xml": "<?xml version=\"1.0\" encoding=\"UTF-8\" standalone=\"no\"?>\n<!DOCTYPE svg PUBLIC \"-//W3C//DTD SVG 1.1//EN\"\n \"http://www.w3.org/Graphics/SVG/1.1/DTD/svg11.dtd\">\n<!-- Generated by graphviz version 2.40.1 (20161225.0304)\n -->\n<!-- Title: %3 Pages: 1 -->\n<svg width=\"485pt\" height=\"311pt\"\n viewBox=\"0.00 0.00 485.48 311.09\" xmlns=\"http://www.w3.org/2000/svg\" xmlns:xlink=\"http://www.w3.org/1999/xlink\">\n<g id=\"graph0\" class=\"graph\" transform=\"scale(1 1) rotate(0) translate(4 307.0946)\">\n<title>%3</title>\n<polygon fill=\"#ffffff\" stroke=\"transparent\" points=\"-4,4 -4,-307.0946 481.4787,-307.0946 481.4787,4 -4,4\"/>\n<!-- EMPTY -->\n<g id=\"node1\" class=\"node\">\n<title>EMPTY</title>\n</g>\n<!-- Real_I -->\n<g id=\"node2\" class=\"node\">\n<title>Real_I</title>\n<ellipse fill=\"none\" stroke=\"#000000\" cx=\"126.0969\" cy=\"-82.6967\" rx=\"35.194\" ry=\"35.194\"/>\n<text text-anchor=\"middle\" x=\"126.0969\" y=\"-78.9967\" font-family=\"Times,serif\" font-size=\"14.00\" fill=\"#000000\">Real_I</text>\n</g>\n<!-- EMPTY&#45;&gt;Real_I -->\n<g id=\"edge1\" class=\"edge\">\n<title>EMPTY&#45;&gt;Real_I</title>\n<path fill=\"none\" stroke=\"#000000\" d=\"M54.0787,-82.6967C62.3227,-82.6967 71.6196,-82.6967 80.7269,-82.6967\"/>\n<polygon fill=\"#000000\" stroke=\"#000000\" points=\"80.8626,-86.1968 90.8626,-82.6967 80.8625,-79.1968 80.8626,-86.1968\"/>\n</g>\n<!-- St1 -->\n<g id=\"node5\" class=\"node\">\n<title>St1</title>\n<ellipse fill=\"none\" stroke=\"#000000\" cx=\"229.5917\" cy=\"-82.6967\" rx=\"23.2963\" ry=\"23.2963\"/>\n<text text-anchor=\"middle\" x=\"229.5917\" y=\"-78.9967\" font-family=\"Times,serif\" font-size=\"14.00\" fill=\"#000000\">St1</text>\n</g>\n<!-- Real_I&#45;&gt;St1 -->\n<g id=\"edge8\" class=\"edge\">\n<title>Real_I&#45;&gt;St1</title>\n<path fill=\"none\" stroke=\"#000000\" d=\"M161.4245,-82.6967C172.6072,-82.6967 184.9312,-82.6967 195.9895,-82.6967\"/>\n<polygon fill=\"#000000\" stroke=\"#000000\" points=\"196.1253,-86.1968 206.1253,-82.6967 196.1253,-79.1968 196.1253,-86.1968\"/>\n<text text-anchor=\"middle\" x=\"183.6938\" y=\"-86.4967\" font-family=\"Times,serif\" font-size=\"14.00\" fill=\"#000000\">&#39;&#39; </text>\n</g>\n<!-- St3 -->\n<g id=\"node3\" class=\"node\">\n<title>St3</title>\n<ellipse fill=\"none\" stroke=\"#000000\" cx=\"325.0375\" cy=\"-213.6967\" rx=\"23.2963\" ry=\"23.2963\"/>\n<text text-anchor=\"middle\" x=\"325.0375\" y=\"-209.9967\" font-family=\"Times,serif\" font-size=\"14.00\" fill=\"#000000\">St3</text>\n</g>\n<!-- St3&#45;&gt;St3 -->\n<g id=\"edge6\" class=\"edge\">\n<title>St3&#45;&gt;St3</title>\n<path fill=\"none\" stroke=\"#000000\" d=\"M320.7629,-237.1035C320.4681,-246.8406 321.893,-255.0946 325.0375,-255.0946 326.9537,-255.0946 328.2313,-252.0296 328.8704,-247.4317\"/>\n<polygon fill=\"#000000\" stroke=\"#000000\" points=\"332.3815,-247.2439 329.3121,-237.1035 325.3879,-246.9448 332.3815,-247.2439\"/>\n<text text-anchor=\"middle\" x=\"325.0375\" y=\"-258.8946\" font-family=\"Times,serif\" font-size=\"14.00\" fill=\"#000000\">1 </text>\n</g>\n<!-- St3&#45;&gt;St3 -->\n<g id=\"edge7\" class=\"edge\">\n<title>St3&#45;&gt;St3</title>\n<path fill=\"none\" stroke=\"#000000\" d=\"M317.6764,-235.9374C314.6326,-254.1648 317.0863,-273.0946 325.0375,-273.0946 331.4978,-273.0946 334.3289,-260.5979 333.5309,-246.135\"/>\n<polygon fill=\"#000000\" stroke=\"#000000\" points=\"336.9808,-245.49 332.3985,-235.9374 330.0236,-246.2626 336.9808,-245.49\"/>\n<text text-anchor=\"middle\" x=\"325.0375\" y=\"-276.8946\" font-family=\"Times,serif\" font-size=\"14.00\" fill=\"#000000\">0 </text>\n</g>\n<!-- BH -->\n<g id=\"node4\" class=\"node\">\n<title>BH</title>\n<ellipse fill=\"none\" stroke=\"#000000\" cx=\"325.0375\" cy=\"-82.6967\" rx=\"24.0958\" ry=\"24.0958\"/>\n<text text-anchor=\"middle\" x=\"325.0375\" y=\"-78.9967\" font-family=\"Times,serif\" font-size=\"14.00\" fill=\"#000000\">BH</text>\n</g>\n<!-- BH&#45;&gt;BH -->\n<g id=\"edge4\" class=\"edge\">\n<title>BH&#45;&gt;BH</title>\n<path fill=\"none\" stroke=\"#000000\" d=\"M320.7629,-106.471C320.4681,-116.361 321.893,-124.7445 325.0375,-124.7445 327.0028,-124.7445 328.2964,-121.4697 328.9182,-116.599\"/>\n<polygon fill=\"#000000\" stroke=\"#000000\" points=\"332.4208,-116.5994 329.3121,-106.471 325.4261,-116.3274 332.4208,-116.5994\"/>\n<text text-anchor=\"middle\" x=\"325.0375\" y=\"-128.5445\" font-family=\"Times,serif\" font-size=\"14.00\" fill=\"#000000\">1 </text>\n</g>\n<!-- BH&#45;&gt;BH -->\n<g id=\"edge5\" class=\"edge\">\n<title>BH&#45;&gt;BH</title>\n<path fill=\"none\" stroke=\"#000000\" d=\"M317.5754,-105.8056C314.6888,-124.0376 317.1762,-142.7445 325.0375,-142.7445 331.4248,-142.7445 334.2645,-130.395 333.5565,-115.9848\"/>\n<polygon fill=\"#000000\" stroke=\"#000000\" points=\"337.0137,-115.3907 332.4996,-105.8056 330.0512,-116.1137 337.0137,-115.3907\"/>\n<text text-anchor=\"middle\" x=\"325.0375\" y=\"-146.5445\" font-family=\"Times,serif\" font-size=\"14.00\" fill=\"#000000\">0 </text>\n</g>\n<!-- Real_F -->\n<g id=\"node6\" class=\"node\">\n<title>Real_F</title>\n<ellipse fill=\"none\" stroke=\"#000000\" cx=\"435.782\" cy=\"-41.6967\" rx=\"37.8753\" ry=\"37.8753\"/>\n<ellipse fill=\"none\" stroke=\"#000000\" cx=\"435.782\" cy=\"-41.6967\" rx=\"41.8942\" ry=\"41.8942\"/>\n<text text-anchor=\"middle\" x=\"435.782\" y=\"-37.9967\" font-family=\"Times,serif\" font-size=\"14.00\" fill=\"#000000\">Real_F</text>\n</g>\n<!-- BH&#45;&gt;Real_F -->\n<g id=\"edge9\" class=\"edge\">\n<title>BH&#45;&gt;Real_F</title>\n<path fill=\"none\" stroke=\"#000000\" d=\"M347.7155,-74.3008C359.1298,-70.0749 373.4318,-64.7801 387.1702,-59.6938\"/>\n<polygon fill=\"#000000\" stroke=\"#000000\" points=\"388.3861,-62.9759 396.5489,-56.2216 385.9558,-56.4113 388.3861,-62.9759\"/>\n<text text-anchor=\"middle\" x=\"371.5854\" y=\"-70.4967\" font-family=\"Times,serif\" font-size=\"14.00\" fill=\"#000000\">&#39;&#39; </text>\n</g>\n<!-- St1&#45;&gt;St3 -->\n<g id=\"edge3\" class=\"edge\">\n<title>St1&#45;&gt;St3</title>\n<path fill=\"none\" stroke=\"#000000\" d=\"M243.1689,-101.756C257.4513,-121.7501 280.6364,-154.0515 300.9896,-181.6967 302.1639,-183.2916 303.3747,-184.928 304.5995,-186.5769\"/>\n<polygon fill=\"#000000\" stroke=\"#000000\" points=\"301.9459,-188.8731 310.7338,-194.7912 307.5545,-184.6846 301.9459,-188.8731\"/>\n<text text-anchor=\"middle\" x=\"276.9896\" y=\"-157.4967\" font-family=\"Times,serif\" font-size=\"14.00\" fill=\"#000000\">0 </text>\n</g>\n<!-- St1&#45;&gt;BH -->\n<g id=\"edge2\" class=\"edge\">\n<title>St1&#45;&gt;BH</title>\n<path fill=\"none\" stroke=\"#000000\" d=\"M253.185,-82.6967C264.4845,-82.6967 278.2332,-82.6967 290.6668,-82.6967\"/>\n<polygon fill=\"#000000\" stroke=\"#000000\" points=\"290.7191,-86.1968 300.719,-82.6967 290.719,-79.1968 290.7191,-86.1968\"/>\n<text text-anchor=\"middle\" x=\"276.9896\" y=\"-86.4967\" font-family=\"Times,serif\" font-size=\"14.00\" fill=\"#000000\">1 </text>\n</g>\n<!-- St1&#45;&gt;Real_F -->\n<g id=\"edge10\" class=\"edge\">\n<title>St1&#45;&gt;Real_F</title>\n<path fill=\"none\" stroke=\"#000000\" d=\"M246.8184,-66.7751C260.3973,-55.3728 280.4164,-40.9693 300.9896,-34.6967 327.9997,-26.4614 359.4483,-27.5301 385.1719,-30.9685\"/>\n<polygon fill=\"#000000\" stroke=\"#000000\" points=\"384.6827,-34.4342 395.0895,-32.4468 385.7148,-27.5106 384.6827,-34.4342\"/>\n<text text-anchor=\"middle\" x=\"325.0375\" y=\"-38.4967\" font-family=\"Times,serif\" font-size=\"14.00\" fill=\"#000000\">&#39;&#39; </text>\n</g>\n</g>\n</svg>\n"
          },
          "metadata": {},
          "execution_count": 29
        }
      ]
    },
    {
      "cell_type": "code",
      "source": [
        "DO[1]"
      ],
      "metadata": {
        "colab": {
          "base_uri": "https://localhost:8080/",
          "height": 436
        },
        "id": "areod7i4S61b",
        "outputId": "4d8da996-32a3-4efa-c993-4bd3afd55eca"
      },
      "execution_count": 30,
      "outputs": [
        {
          "output_type": "execute_result",
          "data": {
            "text/plain": [
              "<graphviz.dot.Digraph at 0x7f87f86e4090>"
            ],
            "image/svg+xml": "<?xml version=\"1.0\" encoding=\"UTF-8\" standalone=\"no\"?>\n<!DOCTYPE svg PUBLIC \"-//W3C//DTD SVG 1.1//EN\"\n \"http://www.w3.org/Graphics/SVG/1.1/DTD/svg11.dtd\">\n<!-- Generated by graphviz version 2.40.1 (20161225.0304)\n -->\n<!-- Title: %3 Pages: 1 -->\n<svg width=\"401pt\" height=\"311pt\"\n viewBox=\"0.00 0.00 400.68 311.09\" xmlns=\"http://www.w3.org/2000/svg\" xmlns:xlink=\"http://www.w3.org/1999/xlink\">\n<g id=\"graph0\" class=\"graph\" transform=\"scale(1 1) rotate(0) translate(4 307.0946)\">\n<title>%3</title>\n<polygon fill=\"#ffffff\" stroke=\"transparent\" points=\"-4,4 -4,-307.0946 396.6828,-307.0946 396.6828,4 -4,4\"/>\n<!-- EMPTY -->\n<g id=\"node1\" class=\"node\">\n<title>EMPTY</title>\n</g>\n<!-- Real_I -->\n<g id=\"node2\" class=\"node\">\n<title>Real_I</title>\n<ellipse fill=\"none\" stroke=\"#000000\" cx=\"126.0969\" cy=\"-82.6967\" rx=\"35.194\" ry=\"35.194\"/>\n<text text-anchor=\"middle\" x=\"126.0969\" y=\"-78.9967\" font-family=\"Times,serif\" font-size=\"14.00\" fill=\"#000000\">Real_I</text>\n</g>\n<!-- EMPTY&#45;&gt;Real_I -->\n<g id=\"edge1\" class=\"edge\">\n<title>EMPTY&#45;&gt;Real_I</title>\n<path fill=\"none\" stroke=\"#000000\" d=\"M54.0787,-82.6967C62.3227,-82.6967 71.6196,-82.6967 80.7269,-82.6967\"/>\n<polygon fill=\"#000000\" stroke=\"#000000\" points=\"80.8626,-86.1968 90.8626,-82.6967 80.8625,-79.1968 80.8626,-86.1968\"/>\n</g>\n<!-- St3 -->\n<g id=\"node3\" class=\"node\">\n<title>St3</title>\n<ellipse fill=\"none\" stroke=\"#000000\" cx=\"233.2416\" cy=\"-213.6967\" rx=\"23.2963\" ry=\"23.2963\"/>\n<text text-anchor=\"middle\" x=\"233.2416\" y=\"-209.9967\" font-family=\"Times,serif\" font-size=\"14.00\" fill=\"#000000\">St3</text>\n</g>\n<!-- Real_I&#45;&gt;St3 -->\n<g id=\"edge3\" class=\"edge\">\n<title>Real_I&#45;&gt;St3</title>\n<path fill=\"none\" stroke=\"#000000\" d=\"M148.5579,-110.1585C167.249,-133.0111 193.6721,-165.3172 212.0124,-187.7409\"/>\n<polygon fill=\"#000000\" stroke=\"#000000\" points=\"209.3341,-189.9945 218.3744,-195.5193 214.7525,-185.5628 209.3341,-189.9945\"/>\n<text text-anchor=\"middle\" x=\"185.1938\" y=\"-163.4967\" font-family=\"Times,serif\" font-size=\"14.00\" fill=\"#000000\">0 </text>\n</g>\n<!-- BH -->\n<g id=\"node4\" class=\"node\">\n<title>BH</title>\n<ellipse fill=\"none\" stroke=\"#000000\" cx=\"233.2416\" cy=\"-82.6967\" rx=\"24.0958\" ry=\"24.0958\"/>\n<text text-anchor=\"middle\" x=\"233.2416\" y=\"-78.9967\" font-family=\"Times,serif\" font-size=\"14.00\" fill=\"#000000\">BH</text>\n</g>\n<!-- Real_I&#45;&gt;BH -->\n<g id=\"edge4\" class=\"edge\">\n<title>Real_I&#45;&gt;BH</title>\n<path fill=\"none\" stroke=\"#000000\" d=\"M161.477,-82.6967C173.5461,-82.6967 187.013,-82.6967 198.9916,-82.6967\"/>\n<polygon fill=\"#000000\" stroke=\"#000000\" points=\"199.0627,-86.1968 209.0627,-82.6967 199.0626,-79.1968 199.0627,-86.1968\"/>\n<text text-anchor=\"middle\" x=\"185.1938\" y=\"-86.4967\" font-family=\"Times,serif\" font-size=\"14.00\" fill=\"#000000\">1 </text>\n</g>\n<!-- Real_F -->\n<g id=\"node5\" class=\"node\">\n<title>Real_F</title>\n<ellipse fill=\"none\" stroke=\"#000000\" cx=\"350.9862\" cy=\"-41.6967\" rx=\"37.8753\" ry=\"37.8753\"/>\n<ellipse fill=\"none\" stroke=\"#000000\" cx=\"350.9862\" cy=\"-41.6967\" rx=\"41.8942\" ry=\"41.8942\"/>\n<text text-anchor=\"middle\" x=\"350.9862\" y=\"-37.9967\" font-family=\"Times,serif\" font-size=\"14.00\" fill=\"#000000\">Real_F</text>\n</g>\n<!-- Real_I&#45;&gt;Real_F -->\n<g id=\"edge2\" class=\"edge\">\n<title>Real_I&#45;&gt;Real_F</title>\n<path fill=\"none\" stroke=\"#000000\" d=\"M154.4274,-61.3362C169.7687,-51.1075 189.5612,-39.9595 209.1938,-34.6967 238.5359,-26.8311 272.4919,-28.162 299.8174,-31.6573\"/>\n<polygon fill=\"#000000\" stroke=\"#000000\" points=\"299.5507,-35.1543 309.9421,-33.0882 300.5303,-28.2232 299.5507,-35.1543\"/>\n<text text-anchor=\"middle\" x=\"233.2416\" y=\"-38.4967\" font-family=\"Times,serif\" font-size=\"14.00\" fill=\"#000000\">&quot;&quot; </text>\n</g>\n<!-- St3&#45;&gt;St3 -->\n<g id=\"edge7\" class=\"edge\">\n<title>St3&#45;&gt;St3</title>\n<path fill=\"none\" stroke=\"#000000\" d=\"M228.7955,-236.6853C228.4315,-246.6031 229.9135,-255.0946 233.2416,-255.0946 235.3217,-255.0946 236.6807,-251.7776 237.3185,-246.8685\"/>\n<polygon fill=\"#000000\" stroke=\"#000000\" points=\"240.823,-246.8056 237.6878,-236.6853 233.8276,-246.5518 240.823,-246.8056\"/>\n<text text-anchor=\"middle\" x=\"233.2416\" y=\"-258.8946\" font-family=\"Times,serif\" font-size=\"14.00\" fill=\"#000000\">1 </text>\n</g>\n<!-- St3&#45;&gt;St3 -->\n<g id=\"edge8\" class=\"edge\">\n<title>St3&#45;&gt;St3</title>\n<path fill=\"none\" stroke=\"#000000\" d=\"M225.5605,-235.9374C222.3844,-254.1648 224.9448,-273.0946 233.2416,-273.0946 239.9828,-273.0946 242.9371,-260.5979 242.1043,-246.135\"/>\n<polygon fill=\"#000000\" stroke=\"#000000\" points=\"245.5505,-245.4681 240.9227,-235.9374 238.597,-246.2738 245.5505,-245.4681\"/>\n<text text-anchor=\"middle\" x=\"233.2416\" y=\"-276.8946\" font-family=\"Times,serif\" font-size=\"14.00\" fill=\"#000000\">0 </text>\n</g>\n<!-- BH&#45;&gt;BH -->\n<g id=\"edge5\" class=\"edge\">\n<title>BH&#45;&gt;BH</title>\n<path fill=\"none\" stroke=\"#000000\" d=\"M228.7812,-106.471C228.4736,-116.361 229.9604,-124.7445 233.2416,-124.7445 235.2924,-124.7445 236.6422,-121.4697 237.2911,-116.599\"/>\n<polygon fill=\"#000000\" stroke=\"#000000\" points=\"240.7937,-116.6047 237.7021,-106.471 233.7994,-116.3208 240.7937,-116.6047\"/>\n<text text-anchor=\"middle\" x=\"233.2416\" y=\"-128.5445\" font-family=\"Times,serif\" font-size=\"14.00\" fill=\"#000000\">1 </text>\n</g>\n<!-- BH&#45;&gt;BH -->\n<g id=\"edge6\" class=\"edge\">\n<title>BH&#45;&gt;BH</title>\n<path fill=\"none\" stroke=\"#000000\" d=\"M225.5073,-105.4931C222.4135,-123.8232 224.9916,-142.7445 233.2416,-142.7445 239.9448,-142.7445 242.9036,-130.2535 242.118,-115.7375\"/>\n<polygon fill=\"#000000\" stroke=\"#000000\" points=\"245.5625,-115.0438 240.976,-105.4931 238.6056,-115.8194 245.5625,-115.0438\"/>\n<text text-anchor=\"middle\" x=\"233.2416\" y=\"-146.5445\" font-family=\"Times,serif\" font-size=\"14.00\" fill=\"#000000\">0 </text>\n</g>\n<!-- BH&#45;&gt;Real_F -->\n<g id=\"edge9\" class=\"edge\">\n<title>BH&#45;&gt;Real_F</title>\n<path fill=\"none\" stroke=\"#000000\" d=\"M256.2235,-74.6941C269.1924,-70.1782 285.9188,-64.3539 301.7006,-58.8584\"/>\n<polygon fill=\"#000000\" stroke=\"#000000\" points=\"303.0701,-62.0878 311.363,-55.4939 300.7682,-55.4771 303.0701,-62.0878\"/>\n<text text-anchor=\"middle\" x=\"283.2895\" y=\"-70.4967\" font-family=\"Times,serif\" font-size=\"14.00\" fill=\"#000000\">&quot;&quot; </text>\n</g>\n</g>\n</svg>\n"
          },
          "metadata": {},
          "execution_count": 30
        }
      ]
    },
    {
      "cell_type": "code",
      "source": [
        "DO[2]"
      ],
      "metadata": {
        "colab": {
          "base_uri": "https://localhost:8080/",
          "height": 263
        },
        "id": "cyw_LjSGS90g",
        "outputId": "5189b576-ca56-42d6-9d6b-dd4e68b9ff1e"
      },
      "execution_count": 31,
      "outputs": [
        {
          "output_type": "execute_result",
          "data": {
            "text/plain": [
              "<graphviz.dot.Digraph at 0x7f87f86c8290>"
            ],
            "image/svg+xml": "<?xml version=\"1.0\" encoding=\"UTF-8\" standalone=\"no\"?>\n<!DOCTYPE svg PUBLIC \"-//W3C//DTD SVG 1.1//EN\"\n \"http://www.w3.org/Graphics/SVG/1.1/DTD/svg11.dtd\">\n<!-- Generated by graphviz version 2.40.1 (20161225.0304)\n -->\n<!-- Title: %3 Pages: 1 -->\n<svg width=\"401pt\" height=\"181pt\"\n viewBox=\"0.00 0.00 400.68 180.74\" xmlns=\"http://www.w3.org/2000/svg\" xmlns:xlink=\"http://www.w3.org/1999/xlink\">\n<g id=\"graph0\" class=\"graph\" transform=\"scale(1 1) rotate(0) translate(4 176.7445)\">\n<title>%3</title>\n<polygon fill=\"#ffffff\" stroke=\"transparent\" points=\"-4,4 -4,-176.7445 396.6828,-176.7445 396.6828,4 -4,4\"/>\n<!-- EMPTY -->\n<g id=\"node1\" class=\"node\">\n<title>EMPTY</title>\n</g>\n<!-- Real_I -->\n<g id=\"node2\" class=\"node\">\n<title>Real_I</title>\n<ellipse fill=\"none\" stroke=\"#000000\" cx=\"126.0969\" cy=\"-41.6967\" rx=\"35.194\" ry=\"35.194\"/>\n<text text-anchor=\"middle\" x=\"126.0969\" y=\"-37.9967\" font-family=\"Times,serif\" font-size=\"14.00\" fill=\"#000000\">Real_I</text>\n</g>\n<!-- EMPTY&#45;&gt;Real_I -->\n<g id=\"edge1\" class=\"edge\">\n<title>EMPTY&#45;&gt;Real_I</title>\n<path fill=\"none\" stroke=\"#000000\" d=\"M54.0787,-41.6967C62.3227,-41.6967 71.6196,-41.6967 80.7269,-41.6967\"/>\n<polygon fill=\"#000000\" stroke=\"#000000\" points=\"80.8626,-45.1968 90.8626,-41.6967 80.8625,-38.1968 80.8626,-45.1968\"/>\n</g>\n<!-- BH -->\n<g id=\"node3\" class=\"node\">\n<title>BH</title>\n<ellipse fill=\"none\" stroke=\"#000000\" cx=\"233.2416\" cy=\"-82.6967\" rx=\"24.0958\" ry=\"24.0958\"/>\n<text text-anchor=\"middle\" x=\"233.2416\" y=\"-78.9967\" font-family=\"Times,serif\" font-size=\"14.00\" fill=\"#000000\">BH</text>\n</g>\n<!-- Real_I&#45;&gt;BH -->\n<g id=\"edge3\" class=\"edge\">\n<title>Real_I&#45;&gt;BH</title>\n<path fill=\"none\" stroke=\"#000000\" d=\"M159.1181,-54.3326C172.4456,-59.4324 187.7731,-65.2977 201.0188,-70.3663\"/>\n<polygon fill=\"#000000\" stroke=\"#000000\" points=\"200.084,-73.756 210.6744,-74.0611 202.5857,-67.2183 200.084,-73.756\"/>\n<text text-anchor=\"middle\" x=\"185.1938\" y=\"-69.4967\" font-family=\"Times,serif\" font-size=\"14.00\" fill=\"#000000\">1 </text>\n</g>\n<!-- Real_F -->\n<g id=\"node4\" class=\"node\">\n<title>Real_F</title>\n<ellipse fill=\"none\" stroke=\"#000000\" cx=\"350.9862\" cy=\"-41.6967\" rx=\"37.8753\" ry=\"37.8753\"/>\n<ellipse fill=\"none\" stroke=\"#000000\" cx=\"350.9862\" cy=\"-41.6967\" rx=\"41.8942\" ry=\"41.8942\"/>\n<text text-anchor=\"middle\" x=\"350.9862\" y=\"-37.9967\" font-family=\"Times,serif\" font-size=\"14.00\" fill=\"#000000\">Real_F</text>\n</g>\n<!-- Real_I&#45;&gt;Real_F -->\n<g id=\"edge2\" class=\"edge\">\n<title>Real_I&#45;&gt;Real_F</title>\n<path fill=\"none\" stroke=\"#000000\" d=\"M161.2323,-38.0788C176.0221,-36.727 193.4271,-35.3596 209.1938,-34.6967 238.9765,-33.4444 272.2663,-34.9378 299.1019,-36.8621\"/>\n<polygon fill=\"#000000\" stroke=\"#000000\" points=\"299.1878,-40.3786 309.4241,-37.6457 299.7178,-33.3987 299.1878,-40.3786\"/>\n<text text-anchor=\"middle\" x=\"233.2416\" y=\"-38.4967\" font-family=\"Times,serif\" font-size=\"14.00\" fill=\"#000000\">&quot;&quot; </text>\n</g>\n<!-- BH&#45;&gt;BH -->\n<g id=\"edge4\" class=\"edge\">\n<title>BH&#45;&gt;BH</title>\n<path fill=\"none\" stroke=\"#000000\" d=\"M228.7812,-106.471C228.4736,-116.361 229.9604,-124.7445 233.2416,-124.7445 235.2924,-124.7445 236.6422,-121.4697 237.2911,-116.599\"/>\n<polygon fill=\"#000000\" stroke=\"#000000\" points=\"240.7937,-116.6047 237.7021,-106.471 233.7994,-116.3208 240.7937,-116.6047\"/>\n<text text-anchor=\"middle\" x=\"233.2416\" y=\"-128.5445\" font-family=\"Times,serif\" font-size=\"14.00\" fill=\"#000000\">1 </text>\n</g>\n<!-- BH&#45;&gt;BH -->\n<g id=\"edge5\" class=\"edge\">\n<title>BH&#45;&gt;BH</title>\n<path fill=\"none\" stroke=\"#000000\" d=\"M225.5073,-105.4931C222.4135,-123.8232 224.9916,-142.7445 233.2416,-142.7445 239.9448,-142.7445 242.9036,-130.2535 242.118,-115.7375\"/>\n<polygon fill=\"#000000\" stroke=\"#000000\" points=\"245.5625,-115.0438 240.976,-105.4931 238.6056,-115.8194 245.5625,-115.0438\"/>\n<text text-anchor=\"middle\" x=\"233.2416\" y=\"-146.5445\" font-family=\"Times,serif\" font-size=\"14.00\" fill=\"#000000\">0 </text>\n</g>\n<!-- BH&#45;&gt;Real_F -->\n<g id=\"edge6\" class=\"edge\">\n<title>BH&#45;&gt;Real_F</title>\n<path fill=\"none\" stroke=\"#000000\" d=\"M256.2235,-74.6941C269.1924,-70.1782 285.9188,-64.3539 301.7006,-58.8584\"/>\n<polygon fill=\"#000000\" stroke=\"#000000\" points=\"303.0701,-62.0878 311.363,-55.4939 300.7682,-55.4771 303.0701,-62.0878\"/>\n<text text-anchor=\"middle\" x=\"283.2895\" y=\"-70.4967\" font-family=\"Times,serif\" font-size=\"14.00\" fill=\"#000000\">&quot;&quot; </text>\n</g>\n</g>\n</svg>\n"
          },
          "metadata": {},
          "execution_count": 31
        }
      ]
    },
    {
      "cell_type": "code",
      "source": [
        "DO[3]"
      ],
      "metadata": {
        "colab": {
          "base_uri": "https://localhost:8080/",
          "height": 143
        },
        "id": "RHym05_CTA4q",
        "outputId": "b339d9d7-914b-4838-d9dd-8d8806659e11"
      },
      "execution_count": 32,
      "outputs": [
        {
          "output_type": "execute_result",
          "data": {
            "text/plain": [
              "<graphviz.dot.Digraph at 0x7f87f86d9110>"
            ],
            "image/svg+xml": "<?xml version=\"1.0\" encoding=\"UTF-8\" standalone=\"no\"?>\n<!DOCTYPE svg PUBLIC \"-//W3C//DTD SVG 1.1//EN\"\n \"http://www.w3.org/Graphics/SVG/1.1/DTD/svg11.dtd\">\n<!-- Generated by graphviz version 2.40.1 (20161225.0304)\n -->\n<!-- Title: %3 Pages: 1 -->\n<svg width=\"407pt\" height=\"91pt\"\n viewBox=\"0.00 0.00 406.59 91.39\" xmlns=\"http://www.w3.org/2000/svg\" xmlns:xlink=\"http://www.w3.org/1999/xlink\">\n<g id=\"graph0\" class=\"graph\" transform=\"scale(1 1) rotate(0) translate(4 87.3933)\">\n<title>%3</title>\n<polygon fill=\"#ffffff\" stroke=\"transparent\" points=\"-4,4 -4,-87.3933 402.5871,-87.3933 402.5871,4 -4,4\"/>\n<!-- EMPTY -->\n<g id=\"node1\" class=\"node\">\n<title>EMPTY</title>\n</g>\n<!-- Real_I -->\n<g id=\"node2\" class=\"node\">\n<title>Real_I</title>\n<ellipse fill=\"none\" stroke=\"#000000\" cx=\"126.0969\" cy=\"-41.6967\" rx=\"35.194\" ry=\"35.194\"/>\n<text text-anchor=\"middle\" x=\"126.0969\" y=\"-37.9967\" font-family=\"Times,serif\" font-size=\"14.00\" fill=\"#000000\">Real_I</text>\n</g>\n<!-- EMPTY&#45;&gt;Real_I -->\n<g id=\"edge1\" class=\"edge\">\n<title>EMPTY&#45;&gt;Real_I</title>\n<path fill=\"none\" stroke=\"#000000\" d=\"M54.0787,-41.6967C62.3227,-41.6967 71.6196,-41.6967 80.7269,-41.6967\"/>\n<polygon fill=\"#000000\" stroke=\"#000000\" points=\"80.8626,-45.1968 90.8626,-41.6967 80.8625,-38.1968 80.8626,-45.1968\"/>\n</g>\n<!-- Real_F -->\n<g id=\"node3\" class=\"node\">\n<title>Real_F</title>\n<ellipse fill=\"none\" stroke=\"#000000\" cx=\"356.8904\" cy=\"-41.6967\" rx=\"37.8753\" ry=\"37.8753\"/>\n<ellipse fill=\"none\" stroke=\"#000000\" cx=\"356.8904\" cy=\"-41.6967\" rx=\"41.8942\" ry=\"41.8942\"/>\n<text text-anchor=\"middle\" x=\"356.8904\" y=\"-37.9967\" font-family=\"Times,serif\" font-size=\"14.00\" fill=\"#000000\">Real_F</text>\n</g>\n<!-- Real_I&#45;&gt;Real_F -->\n<g id=\"edge2\" class=\"edge\">\n<title>Real_I&#45;&gt;Real_F</title>\n<path fill=\"none\" stroke=\"#000000\" d=\"M161.4007,-41.6967C199.6276,-41.6967 260.993,-41.6967 304.7705,-41.6967\"/>\n<polygon fill=\"#000000\" stroke=\"#000000\" points=\"304.9392,-45.1968 314.9392,-41.6967 304.9391,-38.1968 304.9392,-45.1968\"/>\n<text text-anchor=\"middle\" x=\"238.1938\" y=\"-45.4967\" font-family=\"Times,serif\" font-size=\"14.00\" fill=\"#000000\">((1 ((1 + 0))*) + &quot;&quot;) </text>\n</g>\n<!-- Real_I&#45;&gt;Real_F -->\n<g id=\"edge3\" class=\"edge\">\n<title>Real_I&#45;&gt;Real_F</title>\n<path fill=\"none\" stroke=\"#000000\" d=\"M158.4764,-28.1324C165.2107,-25.8759 172.3448,-23.8852 179.1938,-22.6967 230.866,-13.73 245.3705,-14.6485 297.1938,-22.6967 300.6296,-23.2302 304.1382,-23.9269 307.6479,-24.7375\"/>\n<polygon fill=\"#000000\" stroke=\"#000000\" points=\"306.9242,-28.1654 317.4822,-27.283 308.6783,-21.3887 306.9242,-28.1654\"/>\n<text text-anchor=\"middle\" x=\"238.1938\" y=\"-26.4967\" font-family=\"Times,serif\" font-size=\"14.00\" fill=\"#000000\">&quot;&quot; </text>\n</g>\n</g>\n</svg>\n"
          },
          "metadata": {},
          "execution_count": 32
        }
      ]
    },
    {
      "cell_type": "code",
      "source": [
        "RE"
      ],
      "metadata": {
        "colab": {
          "base_uri": "https://localhost:8080/",
          "height": 35
        },
        "id": "VHR21P9zTJqE",
        "outputId": "8d67833b-deaa-483e-bd07-f5d6776eb7dc"
      },
      "execution_count": 98,
      "outputs": [
        {
          "output_type": "execute_result",
          "data": {
            "text/plain": [
              "'(((1 ((1 + 0))*) + \"\") + \"\")'"
            ],
            "application/vnd.google.colaboratory.intrinsic+json": {
              "type": "string"
            }
          },
          "metadata": {},
          "execution_count": 98
        }
      ]
    },
    {
      "cell_type": "code",
      "source": [
        "# Suppose you have to paste this RE to make (RE 1*)*, here is how you can do it\n",
        "RE_onestar_star = \"(\" + RE + \"1*\" + \")*\""
      ],
      "metadata": {
        "id": "2OAZ1zHLUNdT"
      },
      "execution_count": 99,
      "outputs": []
    },
    {
      "cell_type": "code",
      "source": [
        "RE_onestar_star"
      ],
      "metadata": {
        "colab": {
          "base_uri": "https://localhost:8080/",
          "height": 35
        },
        "id": "8i_4cDo3UhiC",
        "outputId": "c0cdfdd4-beb4-4b8d-a6d7-9041b0abfba2"
      },
      "execution_count": 100,
      "outputs": [
        {
          "output_type": "execute_result",
          "data": {
            "text/plain": [
              "'((((1 ((1 + 0))*) + \"\") + \"\")1*)*'"
            ],
            "application/vnd.google.colaboratory.intrinsic+json": {
              "type": "string"
            }
          },
          "metadata": {},
          "execution_count": 100
        }
      ]
    },
    {
      "cell_type": "code",
      "source": [
        "# Check that this RE is right\n",
        "\n",
        "dotObj_dfa(min_dfa(nfa2dfa(re2nfa(RE))))"
      ],
      "metadata": {
        "colab": {
          "base_uri": "https://localhost:8080/",
          "height": 193
        },
        "id": "2Rk9WyZ3TPWS",
        "outputId": "f32bf188-9c7e-47d1-a144-ce382f70040a"
      },
      "execution_count": 34,
      "outputs": [
        {
          "output_type": "execute_result",
          "data": {
            "text/plain": [
              "<graphviz.dot.Digraph at 0x7f87f86d5710>"
            ],
            "image/svg+xml": "<?xml version=\"1.0\" encoding=\"UTF-8\" standalone=\"no\"?>\n<!DOCTYPE svg PUBLIC \"-//W3C//DTD SVG 1.1//EN\"\n \"http://www.w3.org/Graphics/SVG/1.1/DTD/svg11.dtd\">\n<!-- Generated by graphviz version 2.40.1 (20161225.0304)\n -->\n<!-- Title: %3 Pages: 1 -->\n<svg width=\"257pt\" height=\"129pt\"\n viewBox=\"0.00 0.00 256.59 128.80\" xmlns=\"http://www.w3.org/2000/svg\" xmlns:xlink=\"http://www.w3.org/1999/xlink\">\n<g id=\"graph0\" class=\"graph\" transform=\"scale(1 1) rotate(0) translate(4 124.7958)\">\n<title>%3</title>\n<polygon fill=\"#ffffff\" stroke=\"transparent\" points=\"-4,4 -4,-124.7958 252.5917,-124.7958 252.5917,4 -4,4\"/>\n<!-- EMPTY -->\n<g id=\"node1\" class=\"node\">\n<title>EMPTY</title>\n</g>\n<!-- St1 -->\n<g id=\"node3\" class=\"node\">\n<title>St1</title>\n<ellipse fill=\"none\" stroke=\"#000000\" cx=\"118.3979\" cy=\"-27.3979\" rx=\"23.3111\" ry=\"23.3111\"/>\n<ellipse fill=\"none\" stroke=\"#000000\" cx=\"118.3979\" cy=\"-27.3979\" rx=\"27.2962\" ry=\"27.2962\"/>\n<text text-anchor=\"middle\" x=\"118.3979\" y=\"-23.6979\" font-family=\"Times,serif\" font-size=\"14.00\" fill=\"#000000\">St1</text>\n</g>\n<!-- EMPTY&#45;&gt;St1 -->\n<g id=\"edge1\" class=\"edge\">\n<title>EMPTY&#45;&gt;St1</title>\n<path fill=\"none\" stroke=\"#000000\" d=\"M54.4224,-27.3979C62.7369,-27.3979 72.0177,-27.3979 80.875,-27.3979\"/>\n<polygon fill=\"#000000\" stroke=\"#000000\" points=\"80.9949,-30.898 90.9949,-27.3979 80.9949,-23.898 80.9949,-30.898\"/>\n</g>\n<!-- St3 -->\n<g id=\"node2\" class=\"node\">\n<title>St3</title>\n<ellipse fill=\"none\" stroke=\"#000000\" cx=\"221.1938\" cy=\"-27.3979\" rx=\"23.3111\" ry=\"23.3111\"/>\n<ellipse fill=\"none\" stroke=\"#000000\" cx=\"221.1938\" cy=\"-27.3979\" rx=\"27.2962\" ry=\"27.2962\"/>\n<text text-anchor=\"middle\" x=\"221.1938\" y=\"-23.6979\" font-family=\"Times,serif\" font-size=\"14.00\" fill=\"#000000\">St3</text>\n</g>\n<!-- St3&#45;&gt;St3 -->\n<g id=\"edge3\" class=\"edge\">\n<title>St3&#45;&gt;St3</title>\n<path fill=\"none\" stroke=\"#000000\" d=\"M216.5166,-54.4297C216.3632,-64.5036 217.9223,-72.7958 221.1938,-72.7958 223.2384,-72.7958 224.6142,-69.5567 225.3211,-64.6679\"/>\n<polygon fill=\"#000000\" stroke=\"#000000\" points=\"228.8295,-64.6031 225.871,-54.4297 221.8396,-64.2276 228.8295,-64.6031\"/>\n<text text-anchor=\"middle\" x=\"221.1938\" y=\"-76.5958\" font-family=\"Times,serif\" font-size=\"14.00\" fill=\"#000000\">1 </text>\n</g>\n<!-- St3&#45;&gt;St3 -->\n<g id=\"edge4\" class=\"edge\">\n<title>St3&#45;&gt;St3</title>\n<path fill=\"none\" stroke=\"#000000\" d=\"M212.7806,-53.777C210.1374,-72.3764 212.9418,-90.7958 221.1938,-90.7958 227.8985,-90.7958 231.0069,-78.6361 230.5191,-64.1\"/>\n<polygon fill=\"#000000\" stroke=\"#000000\" points=\"233.9737,-63.4301 229.6069,-53.777 227.0009,-64.0463 233.9737,-63.4301\"/>\n<text text-anchor=\"middle\" x=\"221.1938\" y=\"-94.5958\" font-family=\"Times,serif\" font-size=\"14.00\" fill=\"#000000\">0 </text>\n</g>\n<!-- St1&#45;&gt;St3 -->\n<g id=\"edge2\" class=\"edge\">\n<title>St1&#45;&gt;St3</title>\n<path fill=\"none\" stroke=\"#000000\" d=\"M145.9453,-27.3979C157.4679,-27.3979 171.0454,-27.3979 183.4725,-27.3979\"/>\n<polygon fill=\"#000000\" stroke=\"#000000\" points=\"183.5704,-30.898 193.5703,-27.3979 183.5703,-23.898 183.5704,-30.898\"/>\n<text text-anchor=\"middle\" x=\"169.7958\" y=\"-31.1979\" font-family=\"Times,serif\" font-size=\"14.00\" fill=\"#000000\">1 </text>\n</g>\n</g>\n</svg>\n"
          },
          "metadata": {},
          "execution_count": 34
        }
      ]
    },
    {
      "cell_type": "code",
      "source": [],
      "metadata": {
        "id": "nhL9-7n0Ti2g"
      },
      "execution_count": 34,
      "outputs": []
    },
    {
      "cell_type": "code",
      "execution_count": 35,
      "metadata": {
        "id": "E6sTBpI--MIn",
        "outputId": "20c72012-62d3-4acd-b33d-7fc492feb2bb",
        "colab": {
          "base_uri": "https://localhost:8080/"
        }
      },
      "outputs": [
        {
          "output_type": "stream",
          "name": "stderr",
          "text": [
            "Generating LALR tables\n"
          ]
        }
      ],
      "source": [
        "nfa1 = md2mc('''\n",
        "NFA\n",
        "\n",
        "IF : '' | a -> A\n",
        "\n",
        "A  : '' | b -> B\n",
        "\n",
        "B  : ''     -> C\n",
        "\n",
        "C  : '' | a -> IF\n",
        "\n",
        "C  : a | c  -> D\n",
        "\n",
        "D  : a      -> F\n",
        "\n",
        "''')"
      ]
    },
    {
      "cell_type": "code",
      "execution_count": 36,
      "metadata": {
        "id": "XcbADE-l-MIp",
        "outputId": "02d40cab-a1e0-4c27-f370-ec09bee61043",
        "colab": {
          "base_uri": "https://localhost:8080/",
          "height": 211
        }
      },
      "outputs": [
        {
          "output_type": "execute_result",
          "data": {
            "text/plain": [
              "<graphviz.dot.Digraph at 0x7f87f86900d0>"
            ],
            "image/svg+xml": "<?xml version=\"1.0\" encoding=\"UTF-8\" standalone=\"no\"?>\n<!DOCTYPE svg PUBLIC \"-//W3C//DTD SVG 1.1//EN\"\n \"http://www.w3.org/Graphics/SVG/1.1/DTD/svg11.dtd\">\n<!-- Generated by graphviz version 2.40.1 (20161225.0304)\n -->\n<!-- Title: %3 Pages: 1 -->\n<svg width=\"564pt\" height=\"127pt\"\n viewBox=\"0.00 0.00 563.70 127.00\" xmlns=\"http://www.w3.org/2000/svg\" xmlns:xlink=\"http://www.w3.org/1999/xlink\">\n<g id=\"graph0\" class=\"graph\" transform=\"scale(1 1) rotate(0) translate(4 123)\">\n<title>%3</title>\n<polygon fill=\"#ffffff\" stroke=\"transparent\" points=\"-4,4 -4,-123 559.6967,-123 559.6967,4 -4,4\"/>\n<!-- EMPTY -->\n<g id=\"node1\" class=\"node\">\n<title>EMPTY</title>\n</g>\n<!-- IF -->\n<g id=\"node7\" class=\"node\">\n<title>IF</title>\n<ellipse fill=\"none\" stroke=\"#000000\" cx=\"113.8483\" cy=\"-60\" rx=\"18.724\" ry=\"18.724\"/>\n<ellipse fill=\"none\" stroke=\"#000000\" cx=\"113.8483\" cy=\"-60\" rx=\"22.6977\" ry=\"22.6977\"/>\n<text text-anchor=\"middle\" x=\"113.8483\" y=\"-56.3\" font-family=\"Times,serif\" font-size=\"14.00\" fill=\"#000000\">IF</text>\n</g>\n<!-- EMPTY&#45;&gt;IF -->\n<g id=\"edge1\" class=\"edge\">\n<title>EMPTY&#45;&gt;IF</title>\n<path fill=\"none\" stroke=\"#000000\" d=\"M54.0033,-60C62.5212,-60 72.0276,-60 80.9112,-60\"/>\n<polygon fill=\"#000000\" stroke=\"#000000\" points=\"80.9572,-63.5001 90.9572,-60 80.9572,-56.5001 80.9572,-63.5001\"/>\n</g>\n<!-- B -->\n<g id=\"node2\" class=\"node\">\n<title>B</title>\n<ellipse fill=\"none\" stroke=\"#000000\" cx=\"284.6967\" cy=\"-29\" rx=\"18\" ry=\"18\"/>\n<text text-anchor=\"middle\" x=\"284.6967\" y=\"-25.3\" font-family=\"Times,serif\" font-size=\"14.00\" fill=\"#000000\">B</text>\n</g>\n<!-- C -->\n<g id=\"node3\" class=\"node\">\n<title>C</title>\n<ellipse fill=\"none\" stroke=\"#000000\" cx=\"365.6967\" cy=\"-75\" rx=\"18\" ry=\"18\"/>\n<text text-anchor=\"middle\" x=\"365.6967\" y=\"-71.3\" font-family=\"Times,serif\" font-size=\"14.00\" fill=\"#000000\">C</text>\n</g>\n<!-- B&#45;&gt;C -->\n<g id=\"edge6\" class=\"edge\">\n<title>B&#45;&gt;C</title>\n<path fill=\"none\" stroke=\"#000000\" d=\"M302.3712,-34.2279C310.9138,-37.1121 321.1429,-41.1063 329.6967,-46 334.7471,-48.8894 339.8243,-52.4682 344.508,-56.1141\"/>\n<polygon fill=\"#000000\" stroke=\"#000000\" points=\"342.4739,-58.9726 352.423,-62.6148 346.9167,-53.5632 342.4739,-58.9726\"/>\n<text text-anchor=\"middle\" x=\"325.1967\" y=\"-49.8\" font-family=\"Times,serif\" font-size=\"14.00\" fill=\"#000000\">&#39;&#39; </text>\n</g>\n<!-- D -->\n<g id=\"node4\" class=\"node\">\n<title>D</title>\n<ellipse fill=\"none\" stroke=\"#000000\" cx=\"447.6967\" cy=\"-75\" rx=\"18\" ry=\"18\"/>\n<text text-anchor=\"middle\" x=\"447.6967\" y=\"-71.3\" font-family=\"Times,serif\" font-size=\"14.00\" fill=\"#000000\">D</text>\n</g>\n<!-- C&#45;&gt;D -->\n<g id=\"edge8\" class=\"edge\">\n<title>C&#45;&gt;D</title>\n<path fill=\"none\" stroke=\"#000000\" d=\"M383.8951,-75C394.299,-75 407.5751,-75 419.3199,-75\"/>\n<polygon fill=\"#000000\" stroke=\"#000000\" points=\"419.5491,-78.5001 429.5491,-75 419.549,-71.5001 419.5491,-78.5001\"/>\n<text text-anchor=\"middle\" x=\"406.6967\" y=\"-78.8\" font-family=\"Times,serif\" font-size=\"14.00\" fill=\"#000000\">a </text>\n</g>\n<!-- C&#45;&gt;D -->\n<g id=\"edge10\" class=\"edge\">\n<title>C&#45;&gt;D</title>\n<path fill=\"none\" stroke=\"#000000\" d=\"M380.8023,-64.93C387.0034,-61.3682 394.4253,-57.8011 401.6967,-56 409.1926,-54.1433 417.0613,-55.8988 424.1288,-58.9707\"/>\n<polygon fill=\"#000000\" stroke=\"#000000\" points=\"422.6851,-62.1668 433.1595,-63.7599 425.9648,-55.9826 422.6851,-62.1668\"/>\n<text text-anchor=\"middle\" x=\"406.6967\" y=\"-59.8\" font-family=\"Times,serif\" font-size=\"14.00\" fill=\"#000000\">c </text>\n</g>\n<!-- C&#45;&gt;IF -->\n<g id=\"edge7\" class=\"edge\">\n<title>C&#45;&gt;IF</title>\n<path fill=\"none\" stroke=\"#000000\" d=\"M349.2095,-82.7923C343.2034,-85.2578 336.2719,-87.6823 329.6967,-89 253.4353,-104.2835 228.5046,-113.531 154.6967,-89 149.332,-87.217 144.0582,-84.4698 139.1749,-81.3631\"/>\n<polygon fill=\"#000000\" stroke=\"#000000\" points=\"141.0623,-78.4114 130.8715,-75.5132 137.0306,-84.1338 141.0623,-78.4114\"/>\n<text text-anchor=\"middle\" x=\"242.6967\" y=\"-107.8\" font-family=\"Times,serif\" font-size=\"14.00\" fill=\"#000000\">&#39;&#39; </text>\n</g>\n<!-- C&#45;&gt;IF -->\n<g id=\"edge9\" class=\"edge\">\n<title>C&#45;&gt;IF</title>\n<path fill=\"none\" stroke=\"#000000\" d=\"M347.7106,-73.9288C305.8025,-71.4327 201.1302,-65.1985 147.172,-61.9847\"/>\n<polygon fill=\"#000000\" stroke=\"#000000\" points=\"147.2806,-58.4851 137.0902,-61.3843 146.8644,-65.4727 147.2806,-58.4851\"/>\n<text text-anchor=\"middle\" x=\"242.6967\" y=\"-71.8\" font-family=\"Times,serif\" font-size=\"14.00\" fill=\"#000000\">a </text>\n</g>\n<!-- F -->\n<g id=\"node6\" class=\"node\">\n<title>F</title>\n<ellipse fill=\"none\" stroke=\"#000000\" cx=\"533.6967\" cy=\"-75\" rx=\"18\" ry=\"18\"/>\n<ellipse fill=\"none\" stroke=\"#000000\" cx=\"533.6967\" cy=\"-75\" rx=\"22\" ry=\"22\"/>\n<text text-anchor=\"middle\" x=\"533.6967\" y=\"-71.3\" font-family=\"Times,serif\" font-size=\"14.00\" fill=\"#000000\">F</text>\n</g>\n<!-- D&#45;&gt;F -->\n<g id=\"edge11\" class=\"edge\">\n<title>D&#45;&gt;F</title>\n<path fill=\"none\" stroke=\"#000000\" d=\"M465.935,-75C476.2315,-75 489.4013,-75 501.3877,-75\"/>\n<polygon fill=\"#000000\" stroke=\"#000000\" points=\"501.5146,-78.5001 511.5146,-75 501.5146,-71.5001 501.5146,-78.5001\"/>\n<text text-anchor=\"middle\" x=\"488.6967\" y=\"-78.8\" font-family=\"Times,serif\" font-size=\"14.00\" fill=\"#000000\">a </text>\n</g>\n<!-- A -->\n<g id=\"node5\" class=\"node\">\n<title>A</title>\n<ellipse fill=\"none\" stroke=\"#000000\" cx=\"200.6967\" cy=\"-18\" rx=\"18\" ry=\"18\"/>\n<text text-anchor=\"middle\" x=\"200.6967\" y=\"-14.3\" font-family=\"Times,serif\" font-size=\"14.00\" fill=\"#000000\">A</text>\n</g>\n<!-- A&#45;&gt;B -->\n<g id=\"edge4\" class=\"edge\">\n<title>A&#45;&gt;B</title>\n<path fill=\"none\" stroke=\"#000000\" d=\"M218.9234,-20.3868C230.0063,-21.8382 244.3823,-23.7207 256.8663,-25.3555\"/>\n<polygon fill=\"#000000\" stroke=\"#000000\" points=\"256.4242,-28.8275 266.7941,-26.6556 257.3332,-21.8867 256.4242,-28.8275\"/>\n<text text-anchor=\"middle\" x=\"242.6967\" y=\"-28.8\" font-family=\"Times,serif\" font-size=\"14.00\" fill=\"#000000\">&#39;&#39; </text>\n</g>\n<!-- A&#45;&gt;B -->\n<g id=\"edge5\" class=\"edge\">\n<title>A&#45;&gt;B</title>\n<path fill=\"none\" stroke=\"#000000\" d=\"M216.3079,-8.7131C225.718,-4.2904 237.9277,-.6275 248.6967,-4 253.7411,-5.5798 258.6988,-8.1431 263.2453,-11.0398\"/>\n<polygon fill=\"#000000\" stroke=\"#000000\" points=\"261.2218,-13.8956 271.3963,-16.8503 265.285,-8.1956 261.2218,-13.8956\"/>\n<text text-anchor=\"middle\" x=\"242.6967\" y=\"-7.8\" font-family=\"Times,serif\" font-size=\"14.00\" fill=\"#000000\">b </text>\n</g>\n<!-- IF&#45;&gt;A -->\n<g id=\"edge2\" class=\"edge\">\n<title>IF&#45;&gt;A</title>\n<path fill=\"none\" stroke=\"#000000\" d=\"M134.4302,-50.0466C146.5816,-44.1701 162.069,-36.6804 175.0154,-30.4195\"/>\n<polygon fill=\"#000000\" stroke=\"#000000\" points=\"176.8441,-33.423 184.3229,-25.9184 173.7965,-27.1212 176.8441,-33.423\"/>\n<text text-anchor=\"middle\" x=\"159.6967\" y=\"-42.8\" font-family=\"Times,serif\" font-size=\"14.00\" fill=\"#000000\">&#39;&#39; </text>\n</g>\n<!-- IF&#45;&gt;A -->\n<g id=\"edge3\" class=\"edge\">\n<title>IF&#45;&gt;A</title>\n<path fill=\"none\" stroke=\"#000000\" d=\"M126.5716,-40.6142C133.6576,-31.6274 143.3427,-21.8745 154.6967,-17 160.3394,-14.5774 166.7413,-13.7 172.9375,-13.6582\"/>\n<polygon fill=\"#000000\" stroke=\"#000000\" points=\"172.8122,-17.1568 183.0009,-14.2514 173.2242,-10.1689 172.8122,-17.1568\"/>\n<text text-anchor=\"middle\" x=\"159.6967\" y=\"-20.8\" font-family=\"Times,serif\" font-size=\"14.00\" fill=\"#000000\">a </text>\n</g>\n</g>\n</svg>\n"
          },
          "metadata": {},
          "execution_count": 36
        }
      ],
      "source": [
        "dotObj_nfa(nfa1)"
      ]
    },
    {
      "cell_type": "markdown",
      "metadata": {
        "id": "a_WCKnSw-MIp"
      },
      "source": [
        "# (2) What is the Delta value for C upon a, b, c, '' ?"
      ]
    },
    {
      "cell_type": "code",
      "execution_count": 37,
      "metadata": {
        "id": "rAUbmqes-MIq",
        "outputId": "464b67a0-6c26-4c61-a5a8-ae1a81f8e65a",
        "colab": {
          "base_uri": "https://localhost:8080/"
        }
      },
      "outputs": [
        {
          "output_type": "execute_result",
          "data": {
            "text/plain": [
              "{'Q': {'A', 'B', 'C', 'D', 'F', 'IF'},\n",
              " 'Sigma': {'a', 'b', 'c'},\n",
              " 'Delta': {('IF', ''): {'A'},\n",
              "  ('IF', 'a'): {'A'},\n",
              "  ('A', ''): {'B'},\n",
              "  ('A', 'b'): {'B'},\n",
              "  ('B', ''): {'C'},\n",
              "  ('C', ''): {'IF'},\n",
              "  ('C', 'a'): {'D', 'IF'},\n",
              "  ('C', 'c'): {'D'},\n",
              "  ('D', 'a'): {'F'}},\n",
              " 'Q0': {'IF'},\n",
              " 'F': {'F', 'IF'}}"
            ]
          },
          "metadata": {},
          "execution_count": 37
        }
      ],
      "source": [
        "nfa1"
      ]
    },
    {
      "cell_type": "markdown",
      "metadata": {
        "id": "Nd5bV3N8-MIq"
      },
      "source": [
        "## It is this\n",
        "\n",
        "$ \\delta(C, a) = \\{ D, IF \\}$\n",
        "\n",
        "$ \\delta(C, b) =  \\{ \\}$\n",
        "\n",
        "$ \\delta(C, c) = \\{ D \\}$\n",
        "\n",
        "$ \\delta(C, \\varepsilon) = \\{ IF \\} $"
      ]
    },
    {
      "cell_type": "markdown",
      "metadata": {
        "run_control": {
          "frozen": false,
          "read_only": false
        },
        "id": "0WY7nyU9-MIr"
      },
      "source": [
        "# Questions on NFA2DFA"
      ]
    },
    {
      "cell_type": "markdown",
      "metadata": {
        "id": "bWPrxNOC-MIs"
      },
      "source": [
        "# (3) Compute the Eclosure of IF"
      ]
    },
    {
      "cell_type": "code",
      "execution_count": 38,
      "metadata": {
        "id": "vrkF8J1y-MIt",
        "outputId": "e02d6b80-33d8-45f4-d698-20e5774bac31",
        "colab": {
          "base_uri": "https://localhost:8080/"
        }
      },
      "outputs": [
        {
          "output_type": "stream",
          "name": "stdout",
          "text": [
            "Help on function Eclosure in module jove.Def_NFA:\n",
            "\n",
            "Eclosure(N, S)\n",
            "    In : N (consistent NFA)\n",
            "         S (set of states of NFA to be Eclosed)\n",
            "    Out: Eclosure of S (set of states).\n",
            "\n"
          ]
        }
      ],
      "source": [
        "help(Eclosure)"
      ]
    },
    {
      "cell_type": "code",
      "execution_count": 39,
      "metadata": {
        "id": "rwHxN6rt-MIt",
        "outputId": "1f70155e-19c3-42c6-df04-0cbe7bccac0a",
        "colab": {
          "base_uri": "https://localhost:8080/"
        }
      },
      "outputs": [
        {
          "output_type": "execute_result",
          "data": {
            "text/plain": [
              "{'A', 'B', 'C', 'IF'}"
            ]
          },
          "metadata": {},
          "execution_count": 39
        }
      ],
      "source": [
        "Eclosure(nfa1, {'IF'})"
      ]
    },
    {
      "cell_type": "markdown",
      "metadata": {
        "id": "nvGMQJsx-MIu"
      },
      "source": [
        "# (4) Compute NFA 2 DFA of nfa1"
      ]
    },
    {
      "cell_type": "code",
      "execution_count": 40,
      "metadata": {
        "id": "DLQ-Z8SJ-MIu",
        "outputId": "a7135f82-1f71-4b2f-97af-dfb073841e03",
        "colab": {
          "base_uri": "https://localhost:8080/"
        }
      },
      "outputs": [
        {
          "output_type": "stream",
          "name": "stdout",
          "text": [
            "Help on function nfa2dfa in module jove.Def_NFA:\n",
            "\n",
            "nfa2dfa(N, STATENAME_MAXSIZE=20)\n",
            "    In : N (consistent NFA), and optional STATENAME_MAXSIZE\n",
            "         for the generated DFA states\n",
            "    Out: A consistent DFA that is language-equivalent to N.\n",
            "\n"
          ]
        }
      ],
      "source": [
        "help(nfa2dfa)"
      ]
    },
    {
      "cell_type": "code",
      "execution_count": 41,
      "metadata": {
        "id": "DJjxE-bk-MIu"
      },
      "outputs": [],
      "source": [
        "dfa1 = nfa2dfa(nfa1, STATENAME_MAXSIZE = 40)"
      ]
    },
    {
      "cell_type": "code",
      "execution_count": 42,
      "metadata": {
        "id": "Pry7tt3I-MIv",
        "outputId": "5e19fb6c-5fc0-4151-91dc-b9068b820eff",
        "colab": {
          "base_uri": "https://localhost:8080/",
          "height": 437
        }
      },
      "outputs": [
        {
          "output_type": "execute_result",
          "data": {
            "text/plain": [
              "<graphviz.dot.Digraph at 0x7f87fc8ce510>"
            ],
            "image/svg+xml": "<?xml version=\"1.0\" encoding=\"UTF-8\" standalone=\"no\"?>\n<!DOCTYPE svg PUBLIC \"-//W3C//DTD SVG 1.1//EN\"\n \"http://www.w3.org/Graphics/SVG/1.1/DTD/svg11.dtd\">\n<!-- Generated by graphviz version 2.40.1 (20161225.0304)\n -->\n<!-- Title: %3 Pages: 1 -->\n<svg width=\"776pt\" height=\"297pt\"\n viewBox=\"0.00 0.00 776.37 297.39\" xmlns=\"http://www.w3.org/2000/svg\" xmlns:xlink=\"http://www.w3.org/1999/xlink\">\n<g id=\"graph0\" class=\"graph\" transform=\"scale(1 1) rotate(0) translate(4 293.3933)\">\n<title>%3</title>\n<polygon fill=\"#ffffff\" stroke=\"transparent\" points=\"-4,4 -4,-293.3933 772.3656,-293.3933 772.3656,4 -4,4\"/>\n<!-- EMPTY -->\n<g id=\"node1\" class=\"node\">\n<title>EMPTY</title>\n</g>\n<!-- A_B_C_IF -->\n<g id=\"node4\" class=\"node\">\n<title>A_B_C_IF</title>\n<ellipse fill=\"none\" stroke=\"#000000\" cx=\"148.2953\" cy=\"-177.3933\" rx=\"53.1055\" ry=\"53.1055\"/>\n<ellipse fill=\"none\" stroke=\"#000000\" cx=\"148.2953\" cy=\"-177.3933\" rx=\"57.0913\" ry=\"57.0913\"/>\n<text text-anchor=\"middle\" x=\"148.2953\" y=\"-173.6933\" font-family=\"Times,serif\" font-size=\"14.00\" fill=\"#000000\">A_B_C_IF</text>\n</g>\n<!-- EMPTY&#45;&gt;A_B_C_IF -->\n<g id=\"edge1\" class=\"edge\">\n<title>EMPTY&#45;&gt;A_B_C_IF</title>\n<path fill=\"none\" stroke=\"#000000\" d=\"M54.221,-177.3933C62.2229,-177.3933 71.3538,-177.3933 80.7079,-177.3933\"/>\n<polygon fill=\"#000000\" stroke=\"#000000\" points=\"80.9028,-180.8934 90.9028,-177.3933 80.9027,-173.8934 80.9028,-180.8934\"/>\n</g>\n<!-- D -->\n<g id=\"node2\" class=\"node\">\n<title>D</title>\n<ellipse fill=\"none\" stroke=\"#000000\" cx=\"660.3656\" cy=\"-227.3933\" rx=\"18\" ry=\"18\"/>\n<text text-anchor=\"middle\" x=\"660.3656\" y=\"-223.6933\" font-family=\"Times,serif\" font-size=\"14.00\" fill=\"#000000\">D</text>\n</g>\n<!-- F -->\n<g id=\"node6\" class=\"node\">\n<title>F</title>\n<ellipse fill=\"none\" stroke=\"#000000\" cx=\"746.3656\" cy=\"-227.3933\" rx=\"18\" ry=\"18\"/>\n<ellipse fill=\"none\" stroke=\"#000000\" cx=\"746.3656\" cy=\"-227.3933\" rx=\"22\" ry=\"22\"/>\n<text text-anchor=\"middle\" x=\"746.3656\" y=\"-223.6933\" font-family=\"Times,serif\" font-size=\"14.00\" fill=\"#000000\">F</text>\n</g>\n<!-- D&#45;&gt;F -->\n<g id=\"edge8\" class=\"edge\">\n<title>D&#45;&gt;F</title>\n<path fill=\"none\" stroke=\"#000000\" d=\"M678.604,-227.3933C688.9004,-227.3933 702.0702,-227.3933 714.0567,-227.3933\"/>\n<polygon fill=\"#000000\" stroke=\"#000000\" points=\"714.1836,-230.8934 724.1836,-227.3933 714.1835,-223.8934 714.1836,-230.8934\"/>\n<text text-anchor=\"middle\" x=\"701.3656\" y=\"-231.1933\" font-family=\"Times,serif\" font-size=\"14.00\" fill=\"#000000\">a </text>\n</g>\n<!-- A_B_C_D_IF -->\n<g id=\"node3\" class=\"node\">\n<title>A_B_C_D_IF</title>\n<ellipse fill=\"none\" stroke=\"#000000\" cx=\"322.5848\" cy=\"-177.3933\" rx=\"64.9888\" ry=\"64.9888\"/>\n<ellipse fill=\"none\" stroke=\"#000000\" cx=\"322.5848\" cy=\"-177.3933\" rx=\"68.9885\" ry=\"68.9885\"/>\n<text text-anchor=\"middle\" x=\"322.5848\" y=\"-173.6933\" font-family=\"Times,serif\" font-size=\"14.00\" fill=\"#000000\">A_B_C_D_IF</text>\n</g>\n<!-- A_B_C_D_IF&#45;&gt;D -->\n<g id=\"edge7\" class=\"edge\">\n<title>A_B_C_D_IF&#45;&gt;D</title>\n<path fill=\"none\" stroke=\"#000000\" d=\"M390.2274,-191.8219C405.744,-194.8811 422.2003,-197.9272 437.579,-200.3933 507.2957,-211.573 589.9524,-220.4549 632.2909,-224.6898\"/>\n<polygon fill=\"#000000\" stroke=\"#000000\" points=\"632.1001,-228.1879 642.3959,-225.6885 632.7886,-221.2218 632.1001,-228.1879\"/>\n<text text-anchor=\"middle\" x=\"516.9723\" y=\"-224.1933\" font-family=\"Times,serif\" font-size=\"14.00\" fill=\"#000000\">c </text>\n</g>\n<!-- A_B_C_D_IF&#45;&gt;A_B_C_IF -->\n<g id=\"edge5\" class=\"edge\">\n<title>A_B_C_D_IF&#45;&gt;A_B_C_IF</title>\n<path fill=\"none\" stroke=\"#000000\" d=\"M253.5738,-177.3933C241.2209,-177.3933 228.3593,-177.3933 216.0423,-177.3933\"/>\n<polygon fill=\"#000000\" stroke=\"#000000\" points=\"215.8472,-173.8934 205.8472,-177.3933 215.8472,-180.8934 215.8472,-173.8934\"/>\n<text text-anchor=\"middle\" x=\"229.5905\" y=\"-181.1933\" font-family=\"Times,serif\" font-size=\"14.00\" fill=\"#000000\">b </text>\n</g>\n<!-- A_B_C_D_F_IF -->\n<g id=\"node5\" class=\"node\">\n<title>A_B_C_D_F_IF</title>\n<ellipse fill=\"none\" stroke=\"#000000\" cx=\"516.9723\" cy=\"-79.3933\" rx=\"75.2921\" ry=\"75.2921\"/>\n<ellipse fill=\"none\" stroke=\"#000000\" cx=\"516.9723\" cy=\"-79.3933\" rx=\"79.2868\" ry=\"79.2868\"/>\n<text text-anchor=\"middle\" x=\"516.9723\" y=\"-75.6933\" font-family=\"Times,serif\" font-size=\"14.00\" fill=\"#000000\">A_B_C_D_F_IF</text>\n</g>\n<!-- A_B_C_D_IF&#45;&gt;A_B_C_D_F_IF -->\n<g id=\"edge6\" class=\"edge\">\n<title>A_B_C_D_IF&#45;&gt;A_B_C_D_F_IF</title>\n<path fill=\"none\" stroke=\"#000000\" d=\"M384.3573,-146.2508C401.019,-137.8509 419.2896,-128.6398 436.7995,-119.8122\"/>\n<polygon fill=\"#000000\" stroke=\"#000000\" points=\"438.5204,-122.8644 445.8742,-115.2373 435.3691,-116.6138 438.5204,-122.8644\"/>\n<text text-anchor=\"middle\" x=\"414.579\" y=\"-134.1933\" font-family=\"Times,serif\" font-size=\"14.00\" fill=\"#000000\">a </text>\n</g>\n<!-- A_B_C_IF&#45;&gt;D -->\n<g id=\"edge4\" class=\"edge\">\n<title>A_B_C_IF&#45;&gt;D</title>\n<path fill=\"none\" stroke=\"#000000\" d=\"M189.7873,-217.7384C207.8728,-232.6073 230.2587,-247.6928 253.5905,-255.3933 390.458,-300.5653 566.9257,-256.1711 633.4242,-236.1077\"/>\n<polygon fill=\"#000000\" stroke=\"#000000\" points=\"634.6056,-239.4061 643.1297,-233.114 632.5423,-232.7171 634.6056,-239.4061\"/>\n<text text-anchor=\"middle\" x=\"414.579\" y=\"-278.1933\" font-family=\"Times,serif\" font-size=\"14.00\" fill=\"#000000\">c </text>\n</g>\n<!-- A_B_C_IF&#45;&gt;A_B_C_D_IF -->\n<g id=\"edge3\" class=\"edge\">\n<title>A_B_C_IF&#45;&gt;A_B_C_D_IF</title>\n<path fill=\"none\" stroke=\"#000000\" d=\"M203.9529,-162.5501C210.532,-161.2533 217.1835,-160.1485 223.5905,-159.3933 230.7467,-158.5498 238.1669,-158.4455 245.5803,-158.8641\"/>\n<polygon fill=\"#000000\" stroke=\"#000000\" points=\"245.3947,-162.361 255.6598,-159.7386 245.9998,-155.3872 245.3947,-162.361\"/>\n<text text-anchor=\"middle\" x=\"229.5905\" y=\"-163.1933\" font-family=\"Times,serif\" font-size=\"14.00\" fill=\"#000000\">a </text>\n</g>\n<!-- A_B_C_IF&#45;&gt;A_B_C_IF -->\n<g id=\"edge2\" class=\"edge\">\n<title>A_B_C_IF&#45;&gt;A_B_C_IF</title>\n<path fill=\"none\" stroke=\"#000000\" d=\"M134.9496,-233.215C136.4033,-244.5627 140.8519,-252.6886 148.2953,-252.6886 153.2963,-252.6886 156.9454,-249.0204 159.2426,-243.1715\"/>\n<polygon fill=\"#000000\" stroke=\"#000000\" points=\"162.7017,-243.7566 161.641,-233.215 155.8964,-242.1172 162.7017,-243.7566\"/>\n<text text-anchor=\"middle\" x=\"148.2953\" y=\"-256.4886\" font-family=\"Times,serif\" font-size=\"14.00\" fill=\"#000000\">b </text>\n</g>\n<!-- A_B_C_D_F_IF&#45;&gt;D -->\n<g id=\"edge11\" class=\"edge\">\n<title>A_B_C_D_F_IF&#45;&gt;D</title>\n<path fill=\"none\" stroke=\"#000000\" d=\"M572.4119,-136.614C596.3321,-161.3026 622.8007,-188.6215 640.3904,-206.7763\"/>\n<polygon fill=\"#000000\" stroke=\"#000000\" points=\"638.3341,-209.6839 647.8062,-214.4304 643.3615,-204.813 638.3341,-209.6839\"/>\n<text text-anchor=\"middle\" x=\"619.3656\" y=\"-191.1933\" font-family=\"Times,serif\" font-size=\"14.00\" fill=\"#000000\">c </text>\n</g>\n<!-- A_B_C_D_F_IF&#45;&gt;A_B_C_IF -->\n<g id=\"edge9\" class=\"edge\">\n<title>A_B_C_D_F_IF&#45;&gt;A_B_C_IF</title>\n<path fill=\"none\" stroke=\"#000000\" d=\"M438.4625,-67.0361C384.6062,-61.8354 312.5113,-61.4569 253.5905,-84.3933 230.7201,-93.2962 209.5606,-109.5689 192.3005,-126.0422\"/>\n<polygon fill=\"#000000\" stroke=\"#000000\" points=\"189.8122,-123.5804 185.1485,-133.0935 194.7268,-128.5651 189.8122,-123.5804\"/>\n<text text-anchor=\"middle\" x=\"322.5848\" y=\"-88.1933\" font-family=\"Times,serif\" font-size=\"14.00\" fill=\"#000000\">b </text>\n</g>\n<!-- A_B_C_D_F_IF&#45;&gt;A_B_C_D_F_IF -->\n<g id=\"edge10\" class=\"edge\">\n<title>A_B_C_D_F_IF&#45;&gt;A_B_C_D_F_IF</title>\n<path fill=\"none\" stroke=\"#000000\" d=\"M499.5329,-156.9436C502.1943,-168.7617 508.0075,-176.7866 516.9723,-176.7866 523.1356,-176.7866 527.8093,-172.9936 530.9933,-166.7826\"/>\n<polygon fill=\"#000000\" stroke=\"#000000\" points=\"534.4359,-167.5385 534.4117,-156.9436 527.8236,-165.2411 534.4359,-167.5385\"/>\n<text text-anchor=\"middle\" x=\"516.9723\" y=\"-180.5866\" font-family=\"Times,serif\" font-size=\"14.00\" fill=\"#000000\">a </text>\n</g>\n</g>\n</svg>\n"
          },
          "metadata": {},
          "execution_count": 42
        }
      ],
      "source": [
        "dotObj_dfa(dfa1, STATENAME_MAXSIZE = 40)"
      ]
    },
    {
      "cell_type": "code",
      "execution_count": 43,
      "metadata": {
        "id": "MJW4DwHc-MIv",
        "outputId": "5adfca61-244e-4e41-e906-0e3133e0a309",
        "colab": {
          "base_uri": "https://localhost:8080/",
          "height": 479
        }
      },
      "outputs": [
        {
          "output_type": "execute_result",
          "data": {
            "text/plain": [
              "<graphviz.dot.Digraph at 0x7f87fc8eaad0>"
            ],
            "image/svg+xml": "<?xml version=\"1.0\" encoding=\"UTF-8\" standalone=\"no\"?>\n<!DOCTYPE svg PUBLIC \"-//W3C//DTD SVG 1.1//EN\"\n \"http://www.w3.org/Graphics/SVG/1.1/DTD/svg11.dtd\">\n<!-- Generated by graphviz version 2.40.1 (20161225.0304)\n -->\n<!-- Title: %3 Pages: 1 -->\n<svg width=\"872pt\" height=\"328pt\"\n viewBox=\"0.00 0.00 872.46 328.44\" xmlns=\"http://www.w3.org/2000/svg\" xmlns:xlink=\"http://www.w3.org/1999/xlink\">\n<g id=\"graph0\" class=\"graph\" transform=\"scale(1 1) rotate(0) translate(4 324.4412)\">\n<title>%3</title>\n<polygon fill=\"#ffffff\" stroke=\"transparent\" points=\"-4,4 -4,-324.4412 868.4614,-324.4412 868.4614,4 -4,4\"/>\n<!-- EMPTY -->\n<g id=\"node1\" class=\"node\">\n<title>EMPTY</title>\n</g>\n<!-- A_B_C_IF -->\n<g id=\"node5\" class=\"node\">\n<title>A_B_C_IF</title>\n<ellipse fill=\"none\" stroke=\"#000000\" cx=\"148.2953\" cy=\"-177.3933\" rx=\"53.1055\" ry=\"53.1055\"/>\n<ellipse fill=\"none\" stroke=\"#000000\" cx=\"148.2953\" cy=\"-177.3933\" rx=\"57.0913\" ry=\"57.0913\"/>\n<text text-anchor=\"middle\" x=\"148.2953\" y=\"-173.6933\" font-family=\"Times,serif\" font-size=\"14.00\" fill=\"#000000\">A_B_C_IF</text>\n</g>\n<!-- EMPTY&#45;&gt;A_B_C_IF -->\n<g id=\"edge1\" class=\"edge\">\n<title>EMPTY&#45;&gt;A_B_C_IF</title>\n<path fill=\"none\" stroke=\"#000000\" d=\"M54.221,-177.3933C62.2229,-177.3933 71.3538,-177.3933 80.7079,-177.3933\"/>\n<polygon fill=\"#000000\" stroke=\"#000000\" points=\"80.9028,-180.8934 90.9028,-177.3933 80.9027,-173.8934 80.9028,-180.8934\"/>\n</g>\n<!-- D -->\n<g id=\"node2\" class=\"node\">\n<title>D</title>\n<ellipse fill=\"none\" stroke=\"#000000\" cx=\"660.3656\" cy=\"-227.3933\" rx=\"18\" ry=\"18\"/>\n<text text-anchor=\"middle\" x=\"660.3656\" y=\"-223.6933\" font-family=\"Times,serif\" font-size=\"14.00\" fill=\"#000000\">D</text>\n</g>\n<!-- BH -->\n<g id=\"node3\" class=\"node\">\n<title>BH</title>\n<ellipse fill=\"none\" stroke=\"#000000\" cx=\"840.4135\" cy=\"-197.3933\" rx=\"24.0958\" ry=\"24.0958\"/>\n<text text-anchor=\"middle\" x=\"840.4135\" y=\"-193.6933\" font-family=\"Times,serif\" font-size=\"14.00\" fill=\"#000000\">BH</text>\n</g>\n<!-- D&#45;&gt;BH -->\n<g id=\"edge8\" class=\"edge\">\n<title>D&#45;&gt;BH</title>\n<path fill=\"none\" stroke=\"#000000\" d=\"M677.2353,-234.8341C704.4545,-245.6381 758.9866,-262.2267 798.3656,-241.3933 806.1525,-237.2737 813.3273,-231.1704 819.4627,-224.8125\"/>\n<polygon fill=\"#000000\" stroke=\"#000000\" points=\"822.0956,-227.1188 826.1621,-217.3355 816.8822,-222.4476 822.0956,-227.1188\"/>\n<text text-anchor=\"middle\" x=\"746.3656\" y=\"-254.1933\" font-family=\"Times,serif\" font-size=\"14.00\" fill=\"#000000\">b </text>\n</g>\n<!-- D&#45;&gt;BH -->\n<g id=\"edge10\" class=\"edge\">\n<title>D&#45;&gt;BH</title>\n<path fill=\"none\" stroke=\"#000000\" d=\"M678.2875,-224.4071C708.1259,-219.4354 768.4622,-209.382 806.523,-203.0402\"/>\n<polygon fill=\"#000000\" stroke=\"#000000\" points=\"807.3348,-206.4533 816.6236,-201.3572 806.1843,-199.5485 807.3348,-206.4533\"/>\n<text text-anchor=\"middle\" x=\"746.3656\" y=\"-219.1933\" font-family=\"Times,serif\" font-size=\"14.00\" fill=\"#000000\">c </text>\n</g>\n<!-- F -->\n<g id=\"node7\" class=\"node\">\n<title>F</title>\n<ellipse fill=\"none\" stroke=\"#000000\" cx=\"746.3656\" cy=\"-164.3933\" rx=\"18\" ry=\"18\"/>\n<ellipse fill=\"none\" stroke=\"#000000\" cx=\"746.3656\" cy=\"-164.3933\" rx=\"22\" ry=\"22\"/>\n<text text-anchor=\"middle\" x=\"746.3656\" y=\"-160.6933\" font-family=\"Times,serif\" font-size=\"14.00\" fill=\"#000000\">F</text>\n</g>\n<!-- D&#45;&gt;F -->\n<g id=\"edge9\" class=\"edge\">\n<title>D&#45;&gt;F</title>\n<path fill=\"none\" stroke=\"#000000\" d=\"M674.178,-215.8327C680.7924,-210.4094 688.8853,-203.9355 696.3656,-198.3933 703.6405,-193.0034 711.6889,-187.386 719.1638,-182.3062\"/>\n<polygon fill=\"#000000\" stroke=\"#000000\" points=\"721.2502,-185.121 727.5946,-176.6357 717.3435,-179.3125 721.2502,-185.121\"/>\n<text text-anchor=\"middle\" x=\"701.3656\" y=\"-202.1933\" font-family=\"Times,serif\" font-size=\"14.00\" fill=\"#000000\">a </text>\n</g>\n<!-- BH&#45;&gt;BH -->\n<g id=\"edge14\" class=\"edge\">\n<title>BH&#45;&gt;BH</title>\n<path fill=\"none\" stroke=\"#000000\" d=\"M837.4318,-221.5905C837.2633,-231.2954 838.2572,-239.4412 840.4135,-239.4412 841.7275,-239.4412 842.6098,-236.4164 843.0605,-231.8571\"/>\n<polygon fill=\"#000000\" stroke=\"#000000\" points=\"846.5674,-231.6993 843.3952,-221.5905 839.5711,-231.4712 846.5674,-231.6993\"/>\n<text text-anchor=\"middle\" x=\"840.4135\" y=\"-243.2412\" font-family=\"Times,serif\" font-size=\"14.00\" fill=\"#000000\">b </text>\n</g>\n<!-- BH&#45;&gt;BH -->\n<g id=\"edge15\" class=\"edge\">\n<title>BH&#45;&gt;BH</title>\n<path fill=\"none\" stroke=\"#000000\" d=\"M835.1551,-221.1276C833.2544,-239.1594 835.0072,-257.4412 840.4135,-257.4412 844.8061,-257.4412 846.7868,-245.3723 846.3557,-231.1747\"/>\n<polygon fill=\"#000000\" stroke=\"#000000\" points=\"849.8429,-230.8668 845.6719,-221.1276 842.8591,-231.3422 849.8429,-230.8668\"/>\n<text text-anchor=\"middle\" x=\"840.4135\" y=\"-261.2412\" font-family=\"Times,serif\" font-size=\"14.00\" fill=\"#000000\">a </text>\n</g>\n<!-- BH&#45;&gt;BH -->\n<g id=\"edge16\" class=\"edge\">\n<title>BH&#45;&gt;BH</title>\n<path fill=\"none\" stroke=\"#000000\" d=\"M833.6635,-220.5638C829.1635,-246.1732 831.4135,-275.4412 840.4135,-275.4412 848.2533,-275.4412 850.9713,-253.2325 848.5672,-230.5793\"/>\n<polygon fill=\"#000000\" stroke=\"#000000\" points=\"852.0177,-229.9811 847.1635,-220.5638 845.0855,-230.9528 852.0177,-229.9811\"/>\n<text text-anchor=\"middle\" x=\"840.4135\" y=\"-279.2412\" font-family=\"Times,serif\" font-size=\"14.00\" fill=\"#000000\">c </text>\n</g>\n<!-- A_B_C_D_IF -->\n<g id=\"node4\" class=\"node\">\n<title>A_B_C_D_IF</title>\n<ellipse fill=\"none\" stroke=\"#000000\" cx=\"322.5848\" cy=\"-177.3933\" rx=\"64.9888\" ry=\"64.9888\"/>\n<ellipse fill=\"none\" stroke=\"#000000\" cx=\"322.5848\" cy=\"-177.3933\" rx=\"68.9885\" ry=\"68.9885\"/>\n<text text-anchor=\"middle\" x=\"322.5848\" y=\"-173.6933\" font-family=\"Times,serif\" font-size=\"14.00\" fill=\"#000000\">A_B_C_D_IF</text>\n</g>\n<!-- A_B_C_D_IF&#45;&gt;D -->\n<g id=\"edge7\" class=\"edge\">\n<title>A_B_C_D_IF&#45;&gt;D</title>\n<path fill=\"none\" stroke=\"#000000\" d=\"M390.2274,-191.8219C405.744,-194.8811 422.2003,-197.9272 437.579,-200.3933 507.2957,-211.573 589.9524,-220.4549 632.2909,-224.6898\"/>\n<polygon fill=\"#000000\" stroke=\"#000000\" points=\"632.1001,-228.1879 642.3959,-225.6885 632.7886,-221.2218 632.1001,-228.1879\"/>\n<text text-anchor=\"middle\" x=\"516.9723\" y=\"-224.1933\" font-family=\"Times,serif\" font-size=\"14.00\" fill=\"#000000\">c </text>\n</g>\n<!-- A_B_C_D_IF&#45;&gt;A_B_C_IF -->\n<g id=\"edge5\" class=\"edge\">\n<title>A_B_C_D_IF&#45;&gt;A_B_C_IF</title>\n<path fill=\"none\" stroke=\"#000000\" d=\"M253.5738,-177.3933C241.2209,-177.3933 228.3593,-177.3933 216.0423,-177.3933\"/>\n<polygon fill=\"#000000\" stroke=\"#000000\" points=\"215.8472,-173.8934 205.8472,-177.3933 215.8472,-180.8934 215.8472,-173.8934\"/>\n<text text-anchor=\"middle\" x=\"229.5905\" y=\"-181.1933\" font-family=\"Times,serif\" font-size=\"14.00\" fill=\"#000000\">b </text>\n</g>\n<!-- A_B_C_D_F_IF -->\n<g id=\"node6\" class=\"node\">\n<title>A_B_C_D_F_IF</title>\n<ellipse fill=\"none\" stroke=\"#000000\" cx=\"516.9723\" cy=\"-79.3933\" rx=\"75.2921\" ry=\"75.2921\"/>\n<ellipse fill=\"none\" stroke=\"#000000\" cx=\"516.9723\" cy=\"-79.3933\" rx=\"79.2868\" ry=\"79.2868\"/>\n<text text-anchor=\"middle\" x=\"516.9723\" y=\"-75.6933\" font-family=\"Times,serif\" font-size=\"14.00\" fill=\"#000000\">A_B_C_D_F_IF</text>\n</g>\n<!-- A_B_C_D_IF&#45;&gt;A_B_C_D_F_IF -->\n<g id=\"edge6\" class=\"edge\">\n<title>A_B_C_D_IF&#45;&gt;A_B_C_D_F_IF</title>\n<path fill=\"none\" stroke=\"#000000\" d=\"M384.3573,-146.2508C401.019,-137.8509 419.2896,-128.6398 436.7995,-119.8122\"/>\n<polygon fill=\"#000000\" stroke=\"#000000\" points=\"438.5204,-122.8644 445.8742,-115.2373 435.3691,-116.6138 438.5204,-122.8644\"/>\n<text text-anchor=\"middle\" x=\"414.579\" y=\"-134.1933\" font-family=\"Times,serif\" font-size=\"14.00\" fill=\"#000000\">a </text>\n</g>\n<!-- A_B_C_IF&#45;&gt;D -->\n<g id=\"edge4\" class=\"edge\">\n<title>A_B_C_IF&#45;&gt;D</title>\n<path fill=\"none\" stroke=\"#000000\" d=\"M189.7873,-217.7384C207.8728,-232.6073 230.2587,-247.6928 253.5905,-255.3933 390.458,-300.5653 566.9257,-256.1711 633.4242,-236.1077\"/>\n<polygon fill=\"#000000\" stroke=\"#000000\" points=\"634.6056,-239.4061 643.1297,-233.114 632.5423,-232.7171 634.6056,-239.4061\"/>\n<text text-anchor=\"middle\" x=\"414.579\" y=\"-278.1933\" font-family=\"Times,serif\" font-size=\"14.00\" fill=\"#000000\">c </text>\n</g>\n<!-- A_B_C_IF&#45;&gt;A_B_C_D_IF -->\n<g id=\"edge3\" class=\"edge\">\n<title>A_B_C_IF&#45;&gt;A_B_C_D_IF</title>\n<path fill=\"none\" stroke=\"#000000\" d=\"M203.9529,-162.5501C210.532,-161.2533 217.1835,-160.1485 223.5905,-159.3933 230.7467,-158.5498 238.1669,-158.4455 245.5803,-158.8641\"/>\n<polygon fill=\"#000000\" stroke=\"#000000\" points=\"245.3947,-162.361 255.6598,-159.7386 245.9998,-155.3872 245.3947,-162.361\"/>\n<text text-anchor=\"middle\" x=\"229.5905\" y=\"-163.1933\" font-family=\"Times,serif\" font-size=\"14.00\" fill=\"#000000\">a </text>\n</g>\n<!-- A_B_C_IF&#45;&gt;A_B_C_IF -->\n<g id=\"edge2\" class=\"edge\">\n<title>A_B_C_IF&#45;&gt;A_B_C_IF</title>\n<path fill=\"none\" stroke=\"#000000\" d=\"M134.9496,-233.215C136.4033,-244.5627 140.8519,-252.6886 148.2953,-252.6886 153.2963,-252.6886 156.9454,-249.0204 159.2426,-243.1715\"/>\n<polygon fill=\"#000000\" stroke=\"#000000\" points=\"162.7017,-243.7566 161.641,-233.215 155.8964,-242.1172 162.7017,-243.7566\"/>\n<text text-anchor=\"middle\" x=\"148.2953\" y=\"-256.4886\" font-family=\"Times,serif\" font-size=\"14.00\" fill=\"#000000\">b </text>\n</g>\n<!-- A_B_C_D_F_IF&#45;&gt;D -->\n<g id=\"edge13\" class=\"edge\">\n<title>A_B_C_D_F_IF&#45;&gt;D</title>\n<path fill=\"none\" stroke=\"#000000\" d=\"M572.4119,-136.614C596.3321,-161.3026 622.8007,-188.6215 640.3904,-206.7763\"/>\n<polygon fill=\"#000000\" stroke=\"#000000\" points=\"638.3341,-209.6839 647.8062,-214.4304 643.3615,-204.813 638.3341,-209.6839\"/>\n<text text-anchor=\"middle\" x=\"619.3656\" y=\"-191.1933\" font-family=\"Times,serif\" font-size=\"14.00\" fill=\"#000000\">c </text>\n</g>\n<!-- A_B_C_D_F_IF&#45;&gt;A_B_C_IF -->\n<g id=\"edge11\" class=\"edge\">\n<title>A_B_C_D_F_IF&#45;&gt;A_B_C_IF</title>\n<path fill=\"none\" stroke=\"#000000\" d=\"M438.4625,-67.0361C384.6062,-61.8354 312.5113,-61.4569 253.5905,-84.3933 230.7201,-93.2962 209.5606,-109.5689 192.3005,-126.0422\"/>\n<polygon fill=\"#000000\" stroke=\"#000000\" points=\"189.8122,-123.5804 185.1485,-133.0935 194.7268,-128.5651 189.8122,-123.5804\"/>\n<text text-anchor=\"middle\" x=\"322.5848\" y=\"-88.1933\" font-family=\"Times,serif\" font-size=\"14.00\" fill=\"#000000\">b </text>\n</g>\n<!-- A_B_C_D_F_IF&#45;&gt;A_B_C_D_F_IF -->\n<g id=\"edge12\" class=\"edge\">\n<title>A_B_C_D_F_IF&#45;&gt;A_B_C_D_F_IF</title>\n<path fill=\"none\" stroke=\"#000000\" d=\"M499.5329,-156.9436C502.1943,-168.7617 508.0075,-176.7866 516.9723,-176.7866 523.1356,-176.7866 527.8093,-172.9936 530.9933,-166.7826\"/>\n<polygon fill=\"#000000\" stroke=\"#000000\" points=\"534.4359,-167.5385 534.4117,-156.9436 527.8236,-165.2411 534.4359,-167.5385\"/>\n<text text-anchor=\"middle\" x=\"516.9723\" y=\"-180.5866\" font-family=\"Times,serif\" font-size=\"14.00\" fill=\"#000000\">a </text>\n</g>\n<!-- F&#45;&gt;BH -->\n<g id=\"edge17\" class=\"edge\">\n<title>F&#45;&gt;BH</title>\n<path fill=\"none\" stroke=\"#000000\" d=\"M757.4052,-145.109C767.4637,-130.1738 783.0455,-113.4188 798.3656,-122.3933 813.9387,-131.516 824.1808,-148.7509 830.6539,-164.4005\"/>\n<polygon fill=\"#000000\" stroke=\"#000000\" points=\"827.4132,-165.7266 834.2111,-173.853 833.9647,-163.2611 827.4132,-165.7266\"/>\n<text text-anchor=\"middle\" x=\"792.3656\" y=\"-126.1933\" font-family=\"Times,serif\" font-size=\"14.00\" fill=\"#000000\">b </text>\n</g>\n<!-- F&#45;&gt;BH -->\n<g id=\"edge18\" class=\"edge\">\n<title>F&#45;&gt;BH</title>\n<path fill=\"none\" stroke=\"#000000\" d=\"M767.2379,-171.7171C779.2567,-175.9343 794.6174,-181.3241 808.1593,-186.0758\"/>\n<polygon fill=\"#000000\" stroke=\"#000000\" points=\"807.0298,-189.3886 817.6246,-189.397 809.3475,-182.7834 807.0298,-189.3886\"/>\n<text text-anchor=\"middle\" x=\"792.3656\" y=\"-185.1933\" font-family=\"Times,serif\" font-size=\"14.00\" fill=\"#000000\">a </text>\n</g>\n<!-- F&#45;&gt;BH -->\n<g id=\"edge19\" class=\"edge\">\n<title>F&#45;&gt;BH</title>\n<path fill=\"none\" stroke=\"#000000\" d=\"M767.4545,-158.104C777.1499,-156.2751 788.632,-155.6467 798.3656,-159.3933 805.4362,-162.1149 812.0575,-166.6371 817.86,-171.6306\"/>\n<polygon fill=\"#000000\" stroke=\"#000000\" points=\"815.5618,-174.2745 825.2304,-178.607 820.3739,-169.1908 815.5618,-174.2745\"/>\n<text text-anchor=\"middle\" x=\"792.3656\" y=\"-163.1933\" font-family=\"Times,serif\" font-size=\"14.00\" fill=\"#000000\">c </text>\n</g>\n</g>\n</svg>\n"
          },
          "metadata": {},
          "execution_count": 43
        }
      ],
      "source": [
        "dotObj_dfa_w_bh(dfa1, STATENAME_MAXSIZE = 40)"
      ]
    },
    {
      "cell_type": "code",
      "execution_count": 44,
      "metadata": {
        "id": "W4WNjnSU-MIw",
        "outputId": "2927deed-69e0-4f69-ca75-144137bc8f3c",
        "colab": {
          "base_uri": "https://localhost:8080/",
          "height": 269
        }
      },
      "outputs": [
        {
          "output_type": "execute_result",
          "data": {
            "text/plain": [
              "<graphviz.dot.Digraph at 0x7f87f86d5c10>"
            ],
            "image/svg+xml": "<?xml version=\"1.0\" encoding=\"UTF-8\" standalone=\"no\"?>\n<!DOCTYPE svg PUBLIC \"-//W3C//DTD SVG 1.1//EN\"\n \"http://www.w3.org/Graphics/SVG/1.1/DTD/svg11.dtd\">\n<!-- Generated by graphviz version 2.40.1 (20161225.0304)\n -->\n<!-- Title: %3 Pages: 1 -->\n<svg width=\"551pt\" height=\"171pt\"\n viewBox=\"0.00 0.00 550.98 171.40\" xmlns=\"http://www.w3.org/2000/svg\" xmlns:xlink=\"http://www.w3.org/1999/xlink\">\n<g id=\"graph0\" class=\"graph\" transform=\"scale(1 1) rotate(0) translate(4 167.3979)\">\n<title>%3</title>\n<polygon fill=\"#ffffff\" stroke=\"transparent\" points=\"-4,4 -4,-167.3979 546.9792,-167.3979 546.9792,4 -4,4\"/>\n<!-- EMPTY -->\n<g id=\"node1\" class=\"node\">\n<title>EMPTY</title>\n</g>\n<!-- St3 -->\n<g id=\"node3\" class=\"node\">\n<title>St3</title>\n<ellipse fill=\"none\" stroke=\"#000000\" cx=\"118.3979\" cy=\"-94.3979\" rx=\"23.3111\" ry=\"23.3111\"/>\n<ellipse fill=\"none\" stroke=\"#000000\" cx=\"118.3979\" cy=\"-94.3979\" rx=\"27.2962\" ry=\"27.2962\"/>\n<text text-anchor=\"middle\" x=\"118.3979\" y=\"-90.6979\" font-family=\"Times,serif\" font-size=\"14.00\" fill=\"#000000\">St3</text>\n</g>\n<!-- EMPTY&#45;&gt;St3 -->\n<g id=\"edge1\" class=\"edge\">\n<title>EMPTY&#45;&gt;St3</title>\n<path fill=\"none\" stroke=\"#000000\" d=\"M54.4224,-94.3979C62.7369,-94.3979 72.0177,-94.3979 80.875,-94.3979\"/>\n<polygon fill=\"#000000\" stroke=\"#000000\" points=\"80.9949,-97.898 90.9949,-94.3979 80.9949,-90.898 80.9949,-97.898\"/>\n</g>\n<!-- St4 -->\n<g id=\"node2\" class=\"node\">\n<title>St4</title>\n<ellipse fill=\"none\" stroke=\"#000000\" cx=\"418.7855\" cy=\"-123.3979\" rx=\"23.2963\" ry=\"23.2963\"/>\n<text text-anchor=\"middle\" x=\"418.7855\" y=\"-119.6979\" font-family=\"Times,serif\" font-size=\"14.00\" fill=\"#000000\">St4</text>\n</g>\n<!-- St5 -->\n<g id=\"node5\" class=\"node\">\n<title>St5</title>\n<ellipse fill=\"none\" stroke=\"#000000\" cx=\"515.5813\" cy=\"-123.3979\" rx=\"23.3111\" ry=\"23.3111\"/>\n<ellipse fill=\"none\" stroke=\"#000000\" cx=\"515.5813\" cy=\"-123.3979\" rx=\"27.2962\" ry=\"27.2962\"/>\n<text text-anchor=\"middle\" x=\"515.5813\" y=\"-119.6979\" font-family=\"Times,serif\" font-size=\"14.00\" fill=\"#000000\">St5</text>\n</g>\n<!-- St4&#45;&gt;St5 -->\n<g id=\"edge8\" class=\"edge\">\n<title>St4&#45;&gt;St5</title>\n<path fill=\"none\" stroke=\"#000000\" d=\"M442.217,-123.3979C452.8626,-123.3979 465.7275,-123.3979 477.692,-123.3979\"/>\n<polygon fill=\"#000000\" stroke=\"#000000\" points=\"477.8962,-126.898 487.8962,-123.3979 477.8961,-119.898 477.8962,-126.898\"/>\n<text text-anchor=\"middle\" x=\"465.1834\" y=\"-127.1979\" font-family=\"Times,serif\" font-size=\"14.00\" fill=\"#000000\">a </text>\n</g>\n<!-- St3&#45;&gt;St4 -->\n<g id=\"edge4\" class=\"edge\">\n<title>St3&#45;&gt;St4</title>\n<path fill=\"none\" stroke=\"#000000\" d=\"M139.6509,-111.7603C153.9893,-122.3126 173.867,-134.7986 193.7958,-140.3979 260.3048,-159.0848 341.9561,-143.9563 386.3211,-132.7352\"/>\n<polygon fill=\"#000000\" stroke=\"#000000\" points=\"387.461,-136.0547 396.2452,-130.1313 385.6844,-129.2839 387.461,-136.0547\"/>\n<text text-anchor=\"middle\" x=\"271.5917\" y=\"-152.1979\" font-family=\"Times,serif\" font-size=\"14.00\" fill=\"#000000\">c </text>\n</g>\n<!-- St3&#45;&gt;St3 -->\n<g id=\"edge2\" class=\"edge\">\n<title>St3&#45;&gt;St3</title>\n<path fill=\"none\" stroke=\"#000000\" d=\"M110.1802,-120.9775C109.8149,-131.2542 112.5542,-139.7958 118.3979,-139.7958 122.1416,-139.7958 124.6111,-136.2903 125.8066,-131.0689\"/>\n<polygon fill=\"#000000\" stroke=\"#000000\" points=\"129.3052,-131.2252 126.6157,-120.9775 122.3276,-130.6658 129.3052,-131.2252\"/>\n<text text-anchor=\"middle\" x=\"118.3979\" y=\"-143.5958\" font-family=\"Times,serif\" font-size=\"14.00\" fill=\"#000000\">b </text>\n</g>\n<!-- St2 -->\n<g id=\"node6\" class=\"node\">\n<title>St2</title>\n<ellipse fill=\"none\" stroke=\"#000000\" cx=\"221.1938\" cy=\"-104.3979\" rx=\"23.3111\" ry=\"23.3111\"/>\n<ellipse fill=\"none\" stroke=\"#000000\" cx=\"221.1938\" cy=\"-104.3979\" rx=\"27.2962\" ry=\"27.2962\"/>\n<text text-anchor=\"middle\" x=\"221.1938\" y=\"-100.6979\" font-family=\"Times,serif\" font-size=\"14.00\" fill=\"#000000\">St2</text>\n</g>\n<!-- St3&#45;&gt;St2 -->\n<g id=\"edge3\" class=\"edge\">\n<title>St3&#45;&gt;St2</title>\n<path fill=\"none\" stroke=\"#000000\" d=\"M145.6754,-97.0515C157.2926,-98.1816 171.036,-99.5186 183.5928,-100.7401\"/>\n<polygon fill=\"#000000\" stroke=\"#000000\" points=\"183.4969,-104.2472 193.7888,-101.732 184.1747,-97.2801 183.4969,-104.2472\"/>\n<text text-anchor=\"middle\" x=\"169.7958\" y=\"-103.1979\" font-family=\"Times,serif\" font-size=\"14.00\" fill=\"#000000\">a </text>\n</g>\n<!-- St1 -->\n<g id=\"node4\" class=\"node\">\n<title>St1</title>\n<ellipse fill=\"none\" stroke=\"#000000\" cx=\"321.9896\" cy=\"-27.3979\" rx=\"23.3111\" ry=\"23.3111\"/>\n<ellipse fill=\"none\" stroke=\"#000000\" cx=\"321.9896\" cy=\"-27.3979\" rx=\"27.2962\" ry=\"27.2962\"/>\n<text text-anchor=\"middle\" x=\"321.9896\" y=\"-23.6979\" font-family=\"Times,serif\" font-size=\"14.00\" fill=\"#000000\">St1</text>\n</g>\n<!-- St1&#45;&gt;St4 -->\n<g id=\"edge11\" class=\"edge\">\n<title>St1&#45;&gt;St4</title>\n<path fill=\"none\" stroke=\"#000000\" d=\"M341.5777,-46.825C357.0032,-62.1237 378.5678,-83.5109 394.9871,-99.7952\"/>\n<polygon fill=\"#000000\" stroke=\"#000000\" points=\"392.5636,-102.3211 402.1285,-106.8779 397.4929,-97.3509 392.5636,-102.3211\"/>\n<text text-anchor=\"middle\" x=\"372.3875\" y=\"-84.1979\" font-family=\"Times,serif\" font-size=\"14.00\" fill=\"#000000\">c </text>\n</g>\n<!-- St1&#45;&gt;St3 -->\n<g id=\"edge9\" class=\"edge\">\n<title>St1&#45;&gt;St3</title>\n<path fill=\"none\" stroke=\"#000000\" d=\"M294.586,-30.5501C268.1825,-34.1426 227.4054,-41.1645 193.7958,-53.3979 178.8931,-58.8223 163.3489,-66.8236 150.2728,-74.3213\"/>\n<polygon fill=\"#000000\" stroke=\"#000000\" points=\"148.4962,-71.3056 141.6526,-79.3937 152.0463,-77.3387 148.4962,-71.3056\"/>\n<text text-anchor=\"middle\" x=\"221.1938\" y=\"-57.1979\" font-family=\"Times,serif\" font-size=\"14.00\" fill=\"#000000\">b </text>\n</g>\n<!-- St1&#45;&gt;St1 -->\n<g id=\"edge10\" class=\"edge\">\n<title>St1&#45;&gt;St1</title>\n<path fill=\"none\" stroke=\"#000000\" d=\"M312.6718,-53.523C312.1454,-64.0011 315.2513,-72.7958 321.9896,-72.7958 326.3063,-72.7958 329.1323,-69.1865 330.4676,-63.8374\"/>\n<polygon fill=\"#000000\" stroke=\"#000000\" points=\"333.9842,-63.7741 331.3074,-53.523 327.0073,-63.206 333.9842,-63.7741\"/>\n<text text-anchor=\"middle\" x=\"321.9896\" y=\"-76.5958\" font-family=\"Times,serif\" font-size=\"14.00\" fill=\"#000000\">a </text>\n</g>\n<!-- St2&#45;&gt;St4 -->\n<g id=\"edge7\" class=\"edge\">\n<title>St2&#45;&gt;St4</title>\n<path fill=\"none\" stroke=\"#000000\" d=\"M248.6681,-107.0398C284.3375,-110.4697 346.5656,-116.4534 385.0594,-120.1549\"/>\n<polygon fill=\"#000000\" stroke=\"#000000\" points=\"384.9563,-123.661 395.2454,-121.1344 385.6264,-116.6932 384.9563,-123.661\"/>\n<text text-anchor=\"middle\" x=\"321.9896\" y=\"-120.1979\" font-family=\"Times,serif\" font-size=\"14.00\" fill=\"#000000\">c </text>\n</g>\n<!-- St2&#45;&gt;St3 -->\n<g id=\"edge5\" class=\"edge\">\n<title>St2&#45;&gt;St3</title>\n<path fill=\"none\" stroke=\"#000000\" d=\"M198.1086,-88.7769C191.2251,-84.9401 183.4643,-81.3698 175.7958,-79.3979 168.4579,-77.5111 160.5977,-77.9472 153.1212,-79.527\"/>\n<polygon fill=\"#000000\" stroke=\"#000000\" points=\"151.9416,-76.2224 143.249,-82.2796 153.8217,-82.9652 151.9416,-76.2224\"/>\n<text text-anchor=\"middle\" x=\"169.7958\" y=\"-83.1979\" font-family=\"Times,serif\" font-size=\"14.00\" fill=\"#000000\">b </text>\n</g>\n<!-- St2&#45;&gt;St1 -->\n<g id=\"edge6\" class=\"edge\">\n<title>St2&#45;&gt;St1</title>\n<path fill=\"none\" stroke=\"#000000\" d=\"M243.065,-87.6901C257.3301,-76.7926 276.1418,-62.422 291.8213,-50.4441\"/>\n<polygon fill=\"#000000\" stroke=\"#000000\" points=\"294.3392,-52.9251 300.1611,-44.0732 290.0898,-47.3625 294.3392,-52.9251\"/>\n<text text-anchor=\"middle\" x=\"271.5917\" y=\"-71.1979\" font-family=\"Times,serif\" font-size=\"14.00\" fill=\"#000000\">a </text>\n</g>\n</g>\n</svg>\n"
          },
          "metadata": {},
          "execution_count": 44
        }
      ],
      "source": [
        "dotObj_dfa(dfa1, STATENAME_MAXSIZE = 10)"
      ]
    },
    {
      "cell_type": "code",
      "source": [
        "mdfa1 = min_dfa_brz(dfa1)"
      ],
      "metadata": {
        "id": "_cIhzDXcwmEI"
      },
      "execution_count": 45,
      "outputs": []
    },
    {
      "cell_type": "code",
      "source": [
        "dotObj_dfa(mdfa1)"
      ],
      "metadata": {
        "id": "8DvI8eSEwpGg",
        "outputId": "d1a548bf-19b4-4228-df01-41da9f8be582",
        "colab": {
          "base_uri": "https://localhost:8080/",
          "height": 193
        }
      },
      "execution_count": 46,
      "outputs": [
        {
          "output_type": "execute_result",
          "data": {
            "text/plain": [
              "<graphviz.dot.Digraph at 0x7f87f871a450>"
            ],
            "image/svg+xml": "<?xml version=\"1.0\" encoding=\"UTF-8\" standalone=\"no\"?>\n<!DOCTYPE svg PUBLIC \"-//W3C//DTD SVG 1.1//EN\"\n \"http://www.w3.org/Graphics/SVG/1.1/DTD/svg11.dtd\">\n<!-- Generated by graphviz version 2.40.1 (20161225.0304)\n -->\n<!-- Title: %3 Pages: 1 -->\n<svg width=\"347pt\" height=\"129pt\"\n viewBox=\"0.00 0.00 347.39 128.80\" xmlns=\"http://www.w3.org/2000/svg\" xmlns:xlink=\"http://www.w3.org/1999/xlink\">\n<g id=\"graph0\" class=\"graph\" transform=\"scale(1 1) rotate(0) translate(4 124.7958)\">\n<title>%3</title>\n<polygon fill=\"#ffffff\" stroke=\"transparent\" points=\"-4,4 -4,-124.7958 343.3875,-124.7958 343.3875,4 -4,4\"/>\n<!-- EMPTY -->\n<g id=\"node1\" class=\"node\">\n<title>EMPTY</title>\n</g>\n<!-- St1 -->\n<g id=\"node4\" class=\"node\">\n<title>St1</title>\n<ellipse fill=\"none\" stroke=\"#000000\" cx=\"118.3979\" cy=\"-27.3979\" rx=\"23.3111\" ry=\"23.3111\"/>\n<ellipse fill=\"none\" stroke=\"#000000\" cx=\"118.3979\" cy=\"-27.3979\" rx=\"27.2962\" ry=\"27.2962\"/>\n<text text-anchor=\"middle\" x=\"118.3979\" y=\"-23.6979\" font-family=\"Times,serif\" font-size=\"14.00\" fill=\"#000000\">St1</text>\n</g>\n<!-- EMPTY&#45;&gt;St1 -->\n<g id=\"edge1\" class=\"edge\">\n<title>EMPTY&#45;&gt;St1</title>\n<path fill=\"none\" stroke=\"#000000\" d=\"M54.4224,-27.3979C62.7369,-27.3979 72.0177,-27.3979 80.875,-27.3979\"/>\n<polygon fill=\"#000000\" stroke=\"#000000\" points=\"80.9949,-30.898 90.9949,-27.3979 80.9949,-23.898 80.9949,-30.898\"/>\n</g>\n<!-- St2 -->\n<g id=\"node2\" class=\"node\">\n<title>St2</title>\n<ellipse fill=\"none\" stroke=\"#000000\" cx=\"215.1938\" cy=\"-27.3979\" rx=\"23.2963\" ry=\"23.2963\"/>\n<text text-anchor=\"middle\" x=\"215.1938\" y=\"-23.6979\" font-family=\"Times,serif\" font-size=\"14.00\" fill=\"#000000\">St2</text>\n</g>\n<!-- St3 -->\n<g id=\"node3\" class=\"node\">\n<title>St3</title>\n<ellipse fill=\"none\" stroke=\"#000000\" cx=\"311.9896\" cy=\"-27.3979\" rx=\"23.3111\" ry=\"23.3111\"/>\n<ellipse fill=\"none\" stroke=\"#000000\" cx=\"311.9896\" cy=\"-27.3979\" rx=\"27.2962\" ry=\"27.2962\"/>\n<text text-anchor=\"middle\" x=\"311.9896\" y=\"-23.6979\" font-family=\"Times,serif\" font-size=\"14.00\" fill=\"#000000\">St3</text>\n</g>\n<!-- St2&#45;&gt;St3 -->\n<g id=\"edge5\" class=\"edge\">\n<title>St2&#45;&gt;St3</title>\n<path fill=\"none\" stroke=\"#000000\" d=\"M238.6253,-27.3979C249.2709,-27.3979 262.1358,-27.3979 274.1003,-27.3979\"/>\n<polygon fill=\"#000000\" stroke=\"#000000\" points=\"274.3045,-30.898 284.3045,-27.3979 274.3044,-23.898 274.3045,-30.898\"/>\n<text text-anchor=\"middle\" x=\"261.5917\" y=\"-31.1979\" font-family=\"Times,serif\" font-size=\"14.00\" fill=\"#000000\">a </text>\n</g>\n<!-- St1&#45;&gt;St2 -->\n<g id=\"edge4\" class=\"edge\">\n<title>St1&#45;&gt;St2</title>\n<path fill=\"none\" stroke=\"#000000\" d=\"M145.8768,-27.3979C156.9174,-27.3979 169.7564,-27.3979 181.3628,-27.3979\"/>\n<polygon fill=\"#000000\" stroke=\"#000000\" points=\"181.5884,-30.898 191.5884,-27.3979 181.5883,-23.898 181.5884,-30.898\"/>\n<text text-anchor=\"middle\" x=\"168.7958\" y=\"-31.1979\" font-family=\"Times,serif\" font-size=\"14.00\" fill=\"#000000\">c </text>\n</g>\n<!-- St1&#45;&gt;St1 -->\n<g id=\"edge2\" class=\"edge\">\n<title>St1&#45;&gt;St1</title>\n<path fill=\"none\" stroke=\"#000000\" d=\"M114.277,-54.8796C114.1883,-64.7492 115.562,-72.7958 118.3979,-72.7958 120.1704,-72.7958 121.3716,-69.6526 122.0017,-64.8857\"/>\n<polygon fill=\"#000000\" stroke=\"#000000\" points=\"125.4979,-65.0469 122.5189,-54.8796 118.5073,-64.6855 125.4979,-65.0469\"/>\n<text text-anchor=\"middle\" x=\"118.3979\" y=\"-76.5958\" font-family=\"Times,serif\" font-size=\"14.00\" fill=\"#000000\">b </text>\n</g>\n<!-- St1&#45;&gt;St1 -->\n<g id=\"edge3\" class=\"edge\">\n<title>St1&#45;&gt;St1</title>\n<path fill=\"none\" stroke=\"#000000\" d=\"M110.9944,-53.777C108.6684,-72.3764 111.1362,-90.7958 118.3979,-90.7958 124.2981,-90.7958 127.0335,-78.6361 126.6043,-64.1\"/>\n<polygon fill=\"#000000\" stroke=\"#000000\" points=\"130.0664,-63.4755 125.8015,-53.777 123.0874,-64.0183 130.0664,-63.4755\"/>\n<text text-anchor=\"middle\" x=\"118.3979\" y=\"-94.5958\" font-family=\"Times,serif\" font-size=\"14.00\" fill=\"#000000\">a </text>\n</g>\n</g>\n</svg>\n"
          },
          "metadata": {},
          "execution_count": 46
        }
      ]
    },
    {
      "cell_type": "code",
      "source": [
        "dotObj_dfa(min_dfa(dfa1))"
      ],
      "metadata": {
        "id": "wLAE83otxfgK",
        "outputId": "c1702ad6-c537-4b96-e86a-fc08e5b74e81",
        "colab": {
          "base_uri": "https://localhost:8080/",
          "height": 193
        }
      },
      "execution_count": 47,
      "outputs": [
        {
          "output_type": "execute_result",
          "data": {
            "text/plain": [
              "<graphviz.dot.Digraph at 0x7f87fc8f04d0>"
            ],
            "image/svg+xml": "<?xml version=\"1.0\" encoding=\"UTF-8\" standalone=\"no\"?>\n<!DOCTYPE svg PUBLIC \"-//W3C//DTD SVG 1.1//EN\"\n \"http://www.w3.org/Graphics/SVG/1.1/DTD/svg11.dtd\">\n<!-- Generated by graphviz version 2.40.1 (20161225.0304)\n -->\n<!-- Title: %3 Pages: 1 -->\n<svg width=\"347pt\" height=\"129pt\"\n viewBox=\"0.00 0.00 347.39 128.80\" xmlns=\"http://www.w3.org/2000/svg\" xmlns:xlink=\"http://www.w3.org/1999/xlink\">\n<g id=\"graph0\" class=\"graph\" transform=\"scale(1 1) rotate(0) translate(4 124.7958)\">\n<title>%3</title>\n<polygon fill=\"#ffffff\" stroke=\"transparent\" points=\"-4,4 -4,-124.7958 343.3875,-124.7958 343.3875,4 -4,4\"/>\n<!-- EMPTY -->\n<g id=\"node1\" class=\"node\">\n<title>EMPTY</title>\n</g>\n<!-- St1 -->\n<g id=\"node4\" class=\"node\">\n<title>St1</title>\n<ellipse fill=\"none\" stroke=\"#000000\" cx=\"118.3979\" cy=\"-27.3979\" rx=\"23.3111\" ry=\"23.3111\"/>\n<ellipse fill=\"none\" stroke=\"#000000\" cx=\"118.3979\" cy=\"-27.3979\" rx=\"27.2962\" ry=\"27.2962\"/>\n<text text-anchor=\"middle\" x=\"118.3979\" y=\"-23.6979\" font-family=\"Times,serif\" font-size=\"14.00\" fill=\"#000000\">St1</text>\n</g>\n<!-- EMPTY&#45;&gt;St1 -->\n<g id=\"edge1\" class=\"edge\">\n<title>EMPTY&#45;&gt;St1</title>\n<path fill=\"none\" stroke=\"#000000\" d=\"M54.4224,-27.3979C62.7369,-27.3979 72.0177,-27.3979 80.875,-27.3979\"/>\n<polygon fill=\"#000000\" stroke=\"#000000\" points=\"80.9949,-30.898 90.9949,-27.3979 80.9949,-23.898 80.9949,-30.898\"/>\n</g>\n<!-- St2 -->\n<g id=\"node2\" class=\"node\">\n<title>St2</title>\n<ellipse fill=\"none\" stroke=\"#000000\" cx=\"215.1938\" cy=\"-27.3979\" rx=\"23.2963\" ry=\"23.2963\"/>\n<text text-anchor=\"middle\" x=\"215.1938\" y=\"-23.6979\" font-family=\"Times,serif\" font-size=\"14.00\" fill=\"#000000\">St2</text>\n</g>\n<!-- St3 -->\n<g id=\"node3\" class=\"node\">\n<title>St3</title>\n<ellipse fill=\"none\" stroke=\"#000000\" cx=\"311.9896\" cy=\"-27.3979\" rx=\"23.3111\" ry=\"23.3111\"/>\n<ellipse fill=\"none\" stroke=\"#000000\" cx=\"311.9896\" cy=\"-27.3979\" rx=\"27.2962\" ry=\"27.2962\"/>\n<text text-anchor=\"middle\" x=\"311.9896\" y=\"-23.6979\" font-family=\"Times,serif\" font-size=\"14.00\" fill=\"#000000\">St3</text>\n</g>\n<!-- St2&#45;&gt;St3 -->\n<g id=\"edge5\" class=\"edge\">\n<title>St2&#45;&gt;St3</title>\n<path fill=\"none\" stroke=\"#000000\" d=\"M238.6253,-27.3979C249.2709,-27.3979 262.1358,-27.3979 274.1003,-27.3979\"/>\n<polygon fill=\"#000000\" stroke=\"#000000\" points=\"274.3045,-30.898 284.3045,-27.3979 274.3044,-23.898 274.3045,-30.898\"/>\n<text text-anchor=\"middle\" x=\"261.5917\" y=\"-31.1979\" font-family=\"Times,serif\" font-size=\"14.00\" fill=\"#000000\">a </text>\n</g>\n<!-- St1&#45;&gt;St2 -->\n<g id=\"edge4\" class=\"edge\">\n<title>St1&#45;&gt;St2</title>\n<path fill=\"none\" stroke=\"#000000\" d=\"M145.8768,-27.3979C156.9174,-27.3979 169.7564,-27.3979 181.3628,-27.3979\"/>\n<polygon fill=\"#000000\" stroke=\"#000000\" points=\"181.5884,-30.898 191.5884,-27.3979 181.5883,-23.898 181.5884,-30.898\"/>\n<text text-anchor=\"middle\" x=\"168.7958\" y=\"-31.1979\" font-family=\"Times,serif\" font-size=\"14.00\" fill=\"#000000\">c </text>\n</g>\n<!-- St1&#45;&gt;St1 -->\n<g id=\"edge2\" class=\"edge\">\n<title>St1&#45;&gt;St1</title>\n<path fill=\"none\" stroke=\"#000000\" d=\"M114.277,-54.8796C114.1883,-64.7492 115.562,-72.7958 118.3979,-72.7958 120.1704,-72.7958 121.3716,-69.6526 122.0017,-64.8857\"/>\n<polygon fill=\"#000000\" stroke=\"#000000\" points=\"125.4979,-65.0469 122.5189,-54.8796 118.5073,-64.6855 125.4979,-65.0469\"/>\n<text text-anchor=\"middle\" x=\"118.3979\" y=\"-76.5958\" font-family=\"Times,serif\" font-size=\"14.00\" fill=\"#000000\">b </text>\n</g>\n<!-- St1&#45;&gt;St1 -->\n<g id=\"edge3\" class=\"edge\">\n<title>St1&#45;&gt;St1</title>\n<path fill=\"none\" stroke=\"#000000\" d=\"M110.9944,-53.777C108.6684,-72.3764 111.1362,-90.7958 118.3979,-90.7958 124.2981,-90.7958 127.0335,-78.6361 126.6043,-64.1\"/>\n<polygon fill=\"#000000\" stroke=\"#000000\" points=\"130.0664,-63.4755 125.8015,-53.777 123.0874,-64.0183 130.0664,-63.4755\"/>\n<text text-anchor=\"middle\" x=\"118.3979\" y=\"-94.5958\" font-family=\"Times,serif\" font-size=\"14.00\" fill=\"#000000\">a </text>\n</g>\n</g>\n</svg>\n"
          },
          "metadata": {},
          "execution_count": 47
        }
      ]
    },
    {
      "cell_type": "code",
      "source": [
        "langeq_dfa(mdfa1, dfa1)"
      ],
      "metadata": {
        "id": "TlgZPzETxlmM",
        "outputId": "04566aa7-54a6-4cab-e200-cb837860c7d3",
        "colab": {
          "base_uri": "https://localhost:8080/"
        }
      },
      "execution_count": 48,
      "outputs": [
        {
          "output_type": "execute_result",
          "data": {
            "text/plain": [
              "True"
            ]
          },
          "metadata": {},
          "execution_count": 48
        }
      ]
    },
    {
      "cell_type": "code",
      "source": [
        "iso_dfa(dfa1, mdfa1)"
      ],
      "metadata": {
        "id": "bbznta_BxqUB",
        "outputId": "ec7540e0-d8a3-4e2f-9229-8d76bb39c311",
        "colab": {
          "base_uri": "https://localhost:8080/"
        }
      },
      "execution_count": 49,
      "outputs": [
        {
          "output_type": "execute_result",
          "data": {
            "text/plain": [
              "False"
            ]
          },
          "metadata": {},
          "execution_count": 49
        }
      ]
    },
    {
      "cell_type": "code",
      "source": [
        "rdfa1 = rev_dfa(dfa1)"
      ],
      "metadata": {
        "id": "Capaf0ZMwwcH"
      },
      "execution_count": 50,
      "outputs": []
    },
    {
      "cell_type": "code",
      "source": [
        "dotObj_nfa(rdfa1)"
      ],
      "metadata": {
        "id": "ADA53R-Cwz8Q",
        "outputId": "c2dab888-7124-47be-9b5e-98ac8da053e5",
        "colab": {
          "base_uri": "https://localhost:8080/",
          "height": 373
        }
      },
      "execution_count": 51,
      "outputs": [
        {
          "output_type": "execute_result",
          "data": {
            "text/plain": [
              "<graphviz.dot.Digraph at 0x7f87f86867d0>"
            ],
            "image/svg+xml": "<?xml version=\"1.0\" encoding=\"UTF-8\" standalone=\"no\"?>\n<!DOCTYPE svg PUBLIC \"-//W3C//DTD SVG 1.1//EN\"\n \"http://www.w3.org/Graphics/SVG/1.1/DTD/svg11.dtd\">\n<!-- Generated by graphviz version 2.40.1 (20161225.0304)\n -->\n<!-- Title: %3 Pages: 1 -->\n<svg width=\"540pt\" height=\"249pt\"\n viewBox=\"0.00 0.00 539.98 249.30\" xmlns=\"http://www.w3.org/2000/svg\" xmlns:xlink=\"http://www.w3.org/1999/xlink\">\n<g id=\"graph0\" class=\"graph\" transform=\"scale(1 1) rotate(0) translate(4 245.3015)\">\n<title>%3</title>\n<polygon fill=\"#ffffff\" stroke=\"transparent\" points=\"-4,4 -4,-245.3015 535.9792,-245.3015 535.9792,4 -4,4\"/>\n<!-- EMPTY -->\n<g id=\"node1\" class=\"node\">\n<title>EMPTY</title>\n</g>\n<!-- St0 -->\n<g id=\"node3\" class=\"node\">\n<title>St0</title>\n<ellipse fill=\"none\" stroke=\"#000000\" cx=\"310.9896\" cy=\"-72.3015\" rx=\"23.2963\" ry=\"23.2963\"/>\n<text text-anchor=\"middle\" x=\"310.9896\" y=\"-68.6015\" font-family=\"Times,serif\" font-size=\"14.00\" fill=\"#000000\">St0</text>\n</g>\n<!-- EMPTY&#45;&gt;St0 -->\n<g id=\"edge3\" class=\"edge\">\n<title>EMPTY&#45;&gt;St0</title>\n<path fill=\"none\" stroke=\"#000000\" d=\"M54.2301,-185.316C107.2711,-161.9696 224.1244,-110.5358 280.0201,-85.9329\"/>\n<polygon fill=\"#000000\" stroke=\"#000000\" points=\"281.6594,-89.0355 289.402,-81.8034 278.8394,-82.6286 281.6594,-89.0355\"/>\n</g>\n<!-- St3 -->\n<g id=\"node4\" class=\"node\">\n<title>St3</title>\n<ellipse fill=\"none\" stroke=\"#000000\" cx=\"508.5813\" cy=\"-74.3015\" rx=\"23.2963\" ry=\"23.2963\"/>\n<text text-anchor=\"middle\" x=\"508.5813\" y=\"-70.6015\" font-family=\"Times,serif\" font-size=\"14.00\" fill=\"#000000\">St3</text>\n</g>\n<!-- EMPTY&#45;&gt;St3 -->\n<g id=\"edge1\" class=\"edge\">\n<title>EMPTY&#45;&gt;St3</title>\n<path fill=\"none\" stroke=\"#000000\" d=\"M51.9487,-215.452C71.0713,-227.5723 98.6382,-241.3015 125.3979,-241.3015 125.3979,-241.3015 125.3979,-241.3015 409.7855,-241.3015 471.1409,-241.3015 495.2006,-156.7684 503.9767,-107.9873\"/>\n<polygon fill=\"#000000\" stroke=\"#000000\" points=\"507.4705,-108.3151 505.6704,-97.8743 500.5667,-107.1588 507.4705,-108.3151\"/>\n</g>\n<!-- St4 -->\n<g id=\"node5\" class=\"node\">\n<title>St4</title>\n<ellipse fill=\"none\" stroke=\"#000000\" cx=\"125.3979\" cy=\"-72.3015\" rx=\"23.2963\" ry=\"23.2963\"/>\n<text text-anchor=\"middle\" x=\"125.3979\" y=\"-68.6015\" font-family=\"Times,serif\" font-size=\"14.00\" fill=\"#000000\">St4</text>\n</g>\n<!-- EMPTY&#45;&gt;St4 -->\n<g id=\"edge2\" class=\"edge\">\n<title>EMPTY&#45;&gt;St4</title>\n<path fill=\"none\" stroke=\"#000000\" d=\"M42.5671,-179.1464C46.3493,-174.6548 50.3535,-169.8312 54,-165.3015 71.5999,-143.4391 90.9532,-118.1482 105.0655,-99.4642\"/>\n<polygon fill=\"#000000\" stroke=\"#000000\" points=\"107.9337,-101.4738 111.1556,-91.3807 102.3428,-97.2616 107.9337,-101.4738\"/>\n</g>\n<!-- St1 -->\n<g id=\"node7\" class=\"node\">\n<title>St1</title>\n<ellipse fill=\"none\" stroke=\"#000000\" cx=\"409.7855\" cy=\"-110.3015\" rx=\"23.3111\" ry=\"23.3111\"/>\n<ellipse fill=\"none\" stroke=\"#000000\" cx=\"409.7855\" cy=\"-110.3015\" rx=\"27.2962\" ry=\"27.2962\"/>\n<text text-anchor=\"middle\" x=\"409.7855\" y=\"-106.6015\" font-family=\"Times,serif\" font-size=\"14.00\" fill=\"#000000\">St1</text>\n</g>\n<!-- EMPTY&#45;&gt;St1 -->\n<g id=\"edge4\" class=\"edge\">\n<title>EMPTY&#45;&gt;St1</title>\n<path fill=\"none\" stroke=\"#000000\" d=\"M54.1204,-199.846C73.8671,-201.4813 101.2662,-203.3015 125.3979,-203.3015 125.3979,-203.3015 125.3979,-203.3015 310.9896,-203.3015 346.9676,-203.3015 375.1821,-170.1978 392.0902,-143.491\"/>\n<polygon fill=\"#000000\" stroke=\"#000000\" points=\"395.2049,-145.1041 397.3858,-134.7361 389.2154,-141.4812 395.2049,-145.1041\"/>\n</g>\n<!-- St5 -->\n<g id=\"node2\" class=\"node\">\n<title>St5</title>\n<ellipse fill=\"none\" stroke=\"#000000\" cx=\"27\" cy=\"-34.3015\" rx=\"23.2963\" ry=\"23.2963\"/>\n<text text-anchor=\"middle\" x=\"27\" y=\"-30.6015\" font-family=\"Times,serif\" font-size=\"14.00\" fill=\"#000000\">St5</text>\n</g>\n<!-- St5&#45;&gt;St5 -->\n<g id=\"edge16\" class=\"edge\">\n<title>St5&#45;&gt;St5</title>\n<path fill=\"none\" stroke=\"#000000\" d=\"M23.9025,-57.7083C23.6888,-67.4454 24.7214,-75.6994 27,-75.6994 28.3885,-75.6994 29.3144,-72.6344 29.7774,-68.0365\"/>\n<polygon fill=\"#000000\" stroke=\"#000000\" points=\"33.286,-67.812 30.0975,-57.7083 26.2893,-67.5951 33.286,-67.812\"/>\n<text text-anchor=\"middle\" x=\"27\" y=\"-79.4994\" font-family=\"Times,serif\" font-size=\"14.00\" fill=\"#000000\">b </text>\n</g>\n<!-- St5&#45;&gt;St5 -->\n<g id=\"edge19\" class=\"edge\">\n<title>St5&#45;&gt;St5</title>\n<path fill=\"none\" stroke=\"#000000\" d=\"M21.5927,-57.1604C19.5009,-75.195 21.3034,-93.6994 27,-93.6994 31.6285,-93.6994 33.6862,-81.4836 33.1732,-67.2293\"/>\n<polygon fill=\"#000000\" stroke=\"#000000\" points=\"36.6558,-66.8661 32.4073,-57.1604 29.676,-67.397 36.6558,-66.8661\"/>\n<text text-anchor=\"middle\" x=\"27\" y=\"-97.4994\" font-family=\"Times,serif\" font-size=\"14.00\" fill=\"#000000\">a </text>\n</g>\n<!-- St5&#45;&gt;St5 -->\n<g id=\"edge21\" class=\"edge\">\n<title>St5&#45;&gt;St5</title>\n<path fill=\"none\" stroke=\"#000000\" d=\"M20.0426,-56.8825C15.257,-82.3721 17.5762,-111.6994 27,-111.6994 35.209,-111.6994 38.027,-89.4457 35.4539,-66.8601\"/>\n<polygon fill=\"#000000\" stroke=\"#000000\" points=\"38.9021,-66.2527 33.9574,-56.8825 31.9795,-67.291 38.9021,-66.2527\"/>\n<text text-anchor=\"middle\" x=\"27\" y=\"-115.4994\" font-family=\"Times,serif\" font-size=\"14.00\" fill=\"#000000\">c </text>\n</g>\n<!-- St5&#45;&gt;St4 -->\n<g id=\"edge15\" class=\"edge\">\n<title>St5&#45;&gt;St4</title>\n<path fill=\"none\" stroke=\"#000000\" d=\"M38.003,-54.9525C45.7298,-67.1108 57.3017,-81.4172 72,-88.3015 79.6014,-91.8618 88.1815,-91.173 96.2046,-88.7056\"/>\n<polygon fill=\"#000000\" stroke=\"#000000\" points=\"97.603,-91.9163 105.6115,-84.9799 95.0254,-85.4082 97.603,-91.9163\"/>\n<text text-anchor=\"middle\" x=\"78\" y=\"-94.1015\" font-family=\"Times,serif\" font-size=\"14.00\" fill=\"#000000\">b </text>\n</g>\n<!-- St5&#45;&gt;St4 -->\n<g id=\"edge18\" class=\"edge\">\n<title>St5&#45;&gt;St4</title>\n<path fill=\"none\" stroke=\"#000000\" d=\"M48.8377,-42.7349C61.9945,-47.8159 78.979,-54.3751 93.6067,-60.0241\"/>\n<polygon fill=\"#000000\" stroke=\"#000000\" points=\"92.6916,-63.4226 103.281,-63.7602 95.2134,-56.8926 92.6916,-63.4226\"/>\n<text text-anchor=\"middle\" x=\"78\" y=\"-59.1015\" font-family=\"Times,serif\" font-size=\"14.00\" fill=\"#000000\">a </text>\n</g>\n<!-- St5&#45;&gt;St4 -->\n<g id=\"edge20\" class=\"edge\">\n<title>St5&#45;&gt;St4</title>\n<path fill=\"none\" stroke=\"#000000\" d=\"M49.9414,-29.2994C60.649,-28.0043 73.3508,-27.9972 84,-32.3015 91.5574,-35.3561 98.5014,-40.5246 104.4557,-46.15\"/>\n<polygon fill=\"#000000\" stroke=\"#000000\" points=\"101.98,-48.6249 111.4402,-53.395 107.0195,-43.7665 101.98,-48.6249\"/>\n<text text-anchor=\"middle\" x=\"78\" y=\"-36.1015\" font-family=\"Times,serif\" font-size=\"14.00\" fill=\"#000000\">c </text>\n</g>\n<!-- St2 -->\n<g id=\"node6\" class=\"node\">\n<title>St2</title>\n<ellipse fill=\"none\" stroke=\"#000000\" cx=\"218.1938\" cy=\"-36.3015\" rx=\"23.2963\" ry=\"23.2963\"/>\n<text text-anchor=\"middle\" x=\"218.1938\" y=\"-32.6015\" font-family=\"Times,serif\" font-size=\"14.00\" fill=\"#000000\">St2</text>\n</g>\n<!-- St5&#45;&gt;St2 -->\n<g id=\"edge17\" class=\"edge\">\n<title>St5&#45;&gt;St2</title>\n<path fill=\"none\" stroke=\"#000000\" d=\"M49.7309,-28.2369C56.8109,-26.6224 64.6811,-25.1049 72,-24.3015 110.6654,-20.0571 155.235,-25.1494 184.8988,-29.9479\"/>\n<polygon fill=\"#000000\" stroke=\"#000000\" points=\"184.6695,-33.4591 195.1146,-31.6847 185.8427,-26.5581 184.6695,-33.4591\"/>\n<text text-anchor=\"middle\" x=\"125.3979\" y=\"-28.1015\" font-family=\"Times,serif\" font-size=\"14.00\" fill=\"#000000\">b </text>\n</g>\n<!-- St5&#45;&gt;St2 -->\n<g id=\"edge22\" class=\"edge\">\n<title>St5&#45;&gt;St2</title>\n<path fill=\"none\" stroke=\"#000000\" d=\"M47.6408,-23.1842C62.3304,-15.9265 82.7908,-7.1149 102,-3.3015 122.4,.7484 128.5078,1.2766 148.7958,-3.3015 162.6586,-6.4297 177.0005,-12.6683 189.0225,-18.8872\"/>\n<polygon fill=\"#000000\" stroke=\"#000000\" points=\"187.6531,-22.1259 198.1131,-23.8107 190.9868,-15.9706 187.6531,-22.1259\"/>\n<text text-anchor=\"middle\" x=\"125.3979\" y=\"-7.1015\" font-family=\"Times,serif\" font-size=\"14.00\" fill=\"#000000\">c </text>\n</g>\n<!-- St0&#45;&gt;St1 -->\n<g id=\"edge5\" class=\"edge\">\n<title>St0&#45;&gt;St1</title>\n<path fill=\"none\" stroke=\"#000000\" d=\"M334.4676,-69.4627C344.0124,-69.1394 354.9852,-69.8557 364.3875,-73.3015 370.9301,-75.6992 377.2231,-79.4647 382.9314,-83.6939\"/>\n<polygon fill=\"#000000\" stroke=\"#000000\" points=\"380.8687,-86.5276 390.8371,-90.1165 385.2825,-81.0945 380.8687,-86.5276\"/>\n<text text-anchor=\"middle\" x=\"358.3875\" y=\"-77.1015\" font-family=\"Times,serif\" font-size=\"14.00\" fill=\"#000000\">a </text>\n</g>\n<!-- St3&#45;&gt;St0 -->\n<g id=\"edge13\" class=\"edge\">\n<title>St3&#45;&gt;St0</title>\n<path fill=\"none\" stroke=\"#000000\" d=\"M485.9415,-68.2917C471.9963,-64.9041 453.6871,-61.0164 437.1834,-59.3015 412.9601,-56.7844 406.6426,-57.1113 382.3875,-59.3015 369.7707,-60.4407 356.0507,-62.6905 344.0405,-65.0027\"/>\n<polygon fill=\"#000000\" stroke=\"#000000\" points=\"343.1095,-61.6198 333.9968,-67.0243 344.4908,-68.4821 343.1095,-61.6198\"/>\n<text text-anchor=\"middle\" x=\"409.7855\" y=\"-63.1015\" font-family=\"Times,serif\" font-size=\"14.00\" fill=\"#000000\">a </text>\n</g>\n<!-- St3&#45;&gt;St3 -->\n<g id=\"edge12\" class=\"edge\">\n<title>St3&#45;&gt;St3</title>\n<path fill=\"none\" stroke=\"#000000\" d=\"M500.1269,-96.4488C499.2046,-106.7228 502.0227,-115.6994 508.5813,-115.6994 512.7829,-115.6994 515.4494,-112.0154 516.5809,-106.6663\"/>\n<polygon fill=\"#000000\" stroke=\"#000000\" points=\"520.0874,-106.5946 517.0358,-96.4488 513.0944,-106.2832 520.0874,-106.5946\"/>\n<text text-anchor=\"middle\" x=\"508.5813\" y=\"-119.4994\" font-family=\"Times,serif\" font-size=\"14.00\" fill=\"#000000\">a </text>\n</g>\n<!-- St4&#45;&gt;St2 -->\n<g id=\"edge14\" class=\"edge\">\n<title>St4&#45;&gt;St2</title>\n<path fill=\"none\" stroke=\"#000000\" d=\"M147.3892,-63.77C159.1769,-59.197 173.9028,-53.4841 186.8674,-48.4545\"/>\n<polygon fill=\"#000000\" stroke=\"#000000\" points=\"188.3032,-51.6517 196.3603,-44.7717 185.7714,-45.1256 188.3032,-51.6517\"/>\n<text text-anchor=\"middle\" x=\"171.7958\" y=\"-59.1015\" font-family=\"Times,serif\" font-size=\"14.00\" fill=\"#000000\">a </text>\n</g>\n<!-- St2&#45;&gt;St0 -->\n<g id=\"edge10\" class=\"edge\">\n<title>St2&#45;&gt;St0</title>\n<path fill=\"none\" stroke=\"#000000\" d=\"M240.1851,-44.833C251.9728,-49.406 266.6986,-55.1189 279.6632,-60.1485\"/>\n<polygon fill=\"#000000\" stroke=\"#000000\" points=\"278.5672,-63.4774 289.1562,-63.8312 281.0991,-56.9513 278.5672,-63.4774\"/>\n<text text-anchor=\"middle\" x=\"264.5917\" y=\"-59.1015\" font-family=\"Times,serif\" font-size=\"14.00\" fill=\"#000000\">c </text>\n</g>\n<!-- St2&#45;&gt;St3 -->\n<g id=\"edge9\" class=\"edge\">\n<title>St2&#45;&gt;St3</title>\n<path fill=\"none\" stroke=\"#000000\" d=\"M241.6859,-35.4658C286.4394,-34.4861 386.6403,-35.2466 467.1834,-57.3015 470.5836,-58.2326 474.0791,-59.3677 477.5292,-60.6052\"/>\n<polygon fill=\"#000000\" stroke=\"#000000\" points=\"476.4264,-63.9314 487.0155,-64.2798 478.9549,-57.404 476.4264,-63.9314\"/>\n<text text-anchor=\"middle\" x=\"358.3875\" y=\"-43.1015\" font-family=\"Times,serif\" font-size=\"14.00\" fill=\"#000000\">c </text>\n</g>\n<!-- St2&#45;&gt;St1 -->\n<g id=\"edge11\" class=\"edge\">\n<title>St2&#45;&gt;St1</title>\n<path fill=\"none\" stroke=\"#000000\" d=\"M231.7703,-55.4277C244.291,-71.4289 264.4099,-93.3477 287.5917,-104.3015 313.973,-116.7671 347.2279,-117.5818 372.3827,-115.6603\"/>\n<polygon fill=\"#000000\" stroke=\"#000000\" points=\"372.9961,-119.1181 382.6237,-114.6953 372.3394,-112.149 372.9961,-119.1181\"/>\n<text text-anchor=\"middle\" x=\"310.9896\" y=\"-119.1015\" font-family=\"Times,serif\" font-size=\"14.00\" fill=\"#000000\">c </text>\n</g>\n<!-- St1&#45;&gt;St0 -->\n<g id=\"edge7\" class=\"edge\">\n<title>St1&#45;&gt;St0</title>\n<path fill=\"none\" stroke=\"#000000\" d=\"M384.0643,-100.4604C374.1605,-96.6665 362.7455,-92.2882 352.3875,-88.3015 349.1246,-87.0456 345.7178,-85.7323 342.3206,-84.4213\"/>\n<polygon fill=\"#000000\" stroke=\"#000000\" points=\"343.489,-81.1206 332.8995,-80.7826 340.9669,-87.6505 343.489,-81.1206\"/>\n<text text-anchor=\"middle\" x=\"358.3875\" y=\"-96.1015\" font-family=\"Times,serif\" font-size=\"14.00\" fill=\"#000000\">b </text>\n</g>\n<!-- St1&#45;&gt;St3 -->\n<g id=\"edge6\" class=\"edge\">\n<title>St1&#45;&gt;St3</title>\n<path fill=\"none\" stroke=\"#000000\" d=\"M435.7429,-100.8429C448.3169,-96.2611 463.5288,-90.7181 476.7921,-85.8851\"/>\n<polygon fill=\"#000000\" stroke=\"#000000\" points=\"478.2814,-89.0676 486.4788,-82.3554 475.8848,-82.4906 478.2814,-89.0676\"/>\n<text text-anchor=\"middle\" x=\"461.1834\" y=\"-97.1015\" font-family=\"Times,serif\" font-size=\"14.00\" fill=\"#000000\">b </text>\n</g>\n<!-- St1&#45;&gt;St1 -->\n<g id=\"edge8\" class=\"edge\">\n<title>St1&#45;&gt;St1</title>\n<path fill=\"none\" stroke=\"#000000\" d=\"M400.4677,-136.4266C399.9413,-146.9047 403.0472,-155.6994 409.7855,-155.6994 414.1022,-155.6994 416.9282,-152.09 418.2634,-146.741\"/>\n<polygon fill=\"#000000\" stroke=\"#000000\" points=\"421.7801,-146.6776 419.1032,-136.4266 414.8032,-146.1095 421.7801,-146.6776\"/>\n<text text-anchor=\"middle\" x=\"409.7855\" y=\"-159.4994\" font-family=\"Times,serif\" font-size=\"14.00\" fill=\"#000000\">b </text>\n</g>\n</g>\n</svg>\n"
          },
          "metadata": {},
          "execution_count": 51
        }
      ]
    },
    {
      "cell_type": "code",
      "source": [
        "det_rdfa1 = nfa2dfa(rdfa1)"
      ],
      "metadata": {
        "id": "v8knmwZww7o9"
      },
      "execution_count": 52,
      "outputs": []
    },
    {
      "cell_type": "code",
      "source": [
        "dotObj_dfa(det_rdfa1)"
      ],
      "metadata": {
        "id": "A_9EwjL9w_td",
        "outputId": "9cd75bd0-9821-4f6a-c67f-aa69e3b0faa1",
        "colab": {
          "base_uri": "https://localhost:8080/",
          "height": 215
        }
      },
      "execution_count": 53,
      "outputs": [
        {
          "output_type": "execute_result",
          "data": {
            "text/plain": [
              "<graphviz.dot.Digraph at 0x7f87f86f68d0>"
            ],
            "image/svg+xml": "<?xml version=\"1.0\" encoding=\"UTF-8\" standalone=\"no\"?>\n<!DOCTYPE svg PUBLIC \"-//W3C//DTD SVG 1.1//EN\"\n \"http://www.w3.org/Graphics/SVG/1.1/DTD/svg11.dtd\">\n<!-- Generated by graphviz version 2.40.1 (20161225.0304)\n -->\n<!-- Title: %3 Pages: 1 -->\n<svg width=\"357pt\" height=\"145pt\"\n viewBox=\"0.00 0.00 357.39 145.26\" xmlns=\"http://www.w3.org/2000/svg\" xmlns:xlink=\"http://www.w3.org/1999/xlink\">\n<g id=\"graph0\" class=\"graph\" transform=\"scale(1 1) rotate(0) translate(4 141.2565)\">\n<title>%3</title>\n<polygon fill=\"#ffffff\" stroke=\"transparent\" points=\"-4,4 -4,-141.2565 353.3875,-141.2565 353.3875,4 -4,4\"/>\n<!-- EMPTY -->\n<g id=\"node1\" class=\"node\">\n<title>EMPTY</title>\n</g>\n<!-- St2 -->\n<g id=\"node4\" class=\"node\">\n<title>St2</title>\n<ellipse fill=\"none\" stroke=\"#000000\" cx=\"118.3979\" cy=\"-61.8586\" rx=\"23.3111\" ry=\"23.3111\"/>\n<ellipse fill=\"none\" stroke=\"#000000\" cx=\"118.3979\" cy=\"-61.8586\" rx=\"27.2962\" ry=\"27.2962\"/>\n<text text-anchor=\"middle\" x=\"118.3979\" y=\"-58.1586\" font-family=\"Times,serif\" font-size=\"14.00\" fill=\"#000000\">St2</text>\n</g>\n<!-- EMPTY&#45;&gt;St2 -->\n<g id=\"edge1\" class=\"edge\">\n<title>EMPTY&#45;&gt;St2</title>\n<path fill=\"none\" stroke=\"#000000\" d=\"M54.4224,-61.8586C62.7369,-61.8586 72.0177,-61.8586 80.875,-61.8586\"/>\n<polygon fill=\"#000000\" stroke=\"#000000\" points=\"80.9949,-65.3587 90.9949,-61.8586 80.9949,-58.3587 80.9949,-65.3587\"/>\n</g>\n<!-- St3 -->\n<g id=\"node2\" class=\"node\">\n<title>St3</title>\n<ellipse fill=\"none\" stroke=\"#000000\" cx=\"321.9896\" cy=\"-43.8586\" rx=\"23.3111\" ry=\"23.3111\"/>\n<ellipse fill=\"none\" stroke=\"#000000\" cx=\"321.9896\" cy=\"-43.8586\" rx=\"27.2962\" ry=\"27.2962\"/>\n<text text-anchor=\"middle\" x=\"321.9896\" y=\"-40.1586\" font-family=\"Times,serif\" font-size=\"14.00\" fill=\"#000000\">St3</text>\n</g>\n<!-- St3&#45;&gt;St3 -->\n<g id=\"edge4\" class=\"edge\">\n<title>St3&#45;&gt;St3</title>\n<path fill=\"none\" stroke=\"#000000\" d=\"M317.3124,-70.8904C317.1591,-80.9642 318.7181,-89.2565 321.9896,-89.2565 324.0343,-89.2565 325.4101,-86.0173 326.1169,-81.1285\"/>\n<polygon fill=\"#000000\" stroke=\"#000000\" points=\"329.6253,-81.0637 326.6668,-70.8904 322.6354,-80.6882 329.6253,-81.0637\"/>\n<text text-anchor=\"middle\" x=\"321.9896\" y=\"-93.0565\" font-family=\"Times,serif\" font-size=\"14.00\" fill=\"#000000\">b </text>\n</g>\n<!-- St3&#45;&gt;St3 -->\n<g id=\"edge5\" class=\"edge\">\n<title>St3&#45;&gt;St3</title>\n<path fill=\"none\" stroke=\"#000000\" d=\"M313.5765,-70.2377C310.9333,-88.837 313.7377,-107.2565 321.9896,-107.2565 328.6943,-107.2565 331.8028,-95.0968 331.315,-80.5606\"/>\n<polygon fill=\"#000000\" stroke=\"#000000\" points=\"334.7695,-79.8907 330.4027,-70.2377 327.7967,-80.507 334.7695,-79.8907\"/>\n<text text-anchor=\"middle\" x=\"321.9896\" y=\"-111.0565\" font-family=\"Times,serif\" font-size=\"14.00\" fill=\"#000000\">a </text>\n</g>\n<!-- St1 -->\n<g id=\"node3\" class=\"node\">\n<title>St1</title>\n<ellipse fill=\"none\" stroke=\"#000000\" cx=\"219.1938\" cy=\"-27.8586\" rx=\"23.3111\" ry=\"23.3111\"/>\n<ellipse fill=\"none\" stroke=\"#000000\" cx=\"219.1938\" cy=\"-27.8586\" rx=\"27.2962\" ry=\"27.2962\"/>\n<text text-anchor=\"middle\" x=\"219.1938\" y=\"-24.1586\" font-family=\"Times,serif\" font-size=\"14.00\" fill=\"#000000\">St1</text>\n</g>\n<!-- St1&#45;&gt;St3 -->\n<g id=\"edge6\" class=\"edge\">\n<title>St1&#45;&gt;St3</title>\n<path fill=\"none\" stroke=\"#000000\" d=\"M245.3685,-36.445C251.6061,-38.1862 258.2844,-39.8047 264.5917,-40.8586 270.9214,-41.9162 277.6933,-42.6317 284.2857,-43.1104\"/>\n<polygon fill=\"#000000\" stroke=\"#000000\" points=\"284.2265,-46.6125 294.4081,-43.6825 284.6216,-39.6237 284.2265,-46.6125\"/>\n<text text-anchor=\"middle\" x=\"270.5917\" y=\"-45.6586\" font-family=\"Times,serif\" font-size=\"14.00\" fill=\"#000000\">b </text>\n</g>\n<!-- St1&#45;&gt;St3 -->\n<g id=\"edge7\" class=\"edge\">\n<title>St1&#45;&gt;St3</title>\n<path fill=\"none\" stroke=\"#000000\" d=\"M245.9916,-21.4337C255.714,-20.0511 266.7288,-19.5947 276.5917,-21.8586 280.7211,-22.8064 284.911,-24.1816 288.991,-25.7888\"/>\n<polygon fill=\"#000000\" stroke=\"#000000\" points=\"287.6697,-29.0314 298.2314,-29.8681 290.4967,-22.6276 287.6697,-29.0314\"/>\n<text text-anchor=\"middle\" x=\"270.5917\" y=\"-25.6586\" font-family=\"Times,serif\" font-size=\"14.00\" fill=\"#000000\">a </text>\n</g>\n<!-- St1&#45;&gt;St3 -->\n<g id=\"edge8\" class=\"edge\">\n<title>St1&#45;&gt;St3</title>\n<path fill=\"none\" stroke=\"#000000\" d=\"M239.9618,-9.7662C250.7693,-2.5761 264.2663,2.9684 276.5917,-1.8586 284.1838,-4.8319 291.2664,-9.7368 297.4737,-15.1658\"/>\n<polygon fill=\"#000000\" stroke=\"#000000\" points=\"295.1962,-17.8308 304.8406,-22.2168 300.0364,-12.7738 295.1962,-17.8308\"/>\n<text text-anchor=\"middle\" x=\"270.5917\" y=\"-5.6586\" font-family=\"Times,serif\" font-size=\"14.00\" fill=\"#000000\">c </text>\n</g>\n<!-- St2&#45;&gt;St3 -->\n<g id=\"edge2\" class=\"edge\">\n<title>St2&#45;&gt;St3</title>\n<path fill=\"none\" stroke=\"#000000\" d=\"M145.6955,-65.2981C177.5696,-68.4898 231.6553,-71.3321 276.5917,-60.8586 279.9727,-60.0706 283.4428,-59.0951 286.8856,-58.0131\"/>\n<polygon fill=\"#000000\" stroke=\"#000000\" points=\"288.0919,-61.2996 296.4188,-54.7486 285.8242,-54.6771 288.0919,-61.2996\"/>\n<text text-anchor=\"middle\" x=\"219.1938\" y=\"-71.6586\" font-family=\"Times,serif\" font-size=\"14.00\" fill=\"#000000\">b </text>\n</g>\n<!-- St2&#45;&gt;St1 -->\n<g id=\"edge3\" class=\"edge\">\n<title>St2&#45;&gt;St1</title>\n<path fill=\"none\" stroke=\"#000000\" d=\"M144.6177,-53.0142C156.5172,-49.0004 170.7734,-44.1915 183.6193,-39.8584\"/>\n<polygon fill=\"#000000\" stroke=\"#000000\" points=\"184.7485,-43.1713 193.1053,-36.6586 182.5111,-36.5385 184.7485,-43.1713\"/>\n<text text-anchor=\"middle\" x=\"168.7958\" y=\"-49.6586\" font-family=\"Times,serif\" font-size=\"14.00\" fill=\"#000000\">a </text>\n</g>\n</g>\n</svg>\n"
          },
          "metadata": {},
          "execution_count": 53
        }
      ]
    },
    {
      "cell_type": "code",
      "source": [
        "rev_det_rdfa1 = rev_dfa(det_rdfa1)"
      ],
      "metadata": {
        "id": "anNOkkapxBud"
      },
      "execution_count": 54,
      "outputs": []
    },
    {
      "cell_type": "code",
      "source": [
        "dotObj_nfa(rev_det_rdfa1)"
      ],
      "metadata": {
        "id": "XatA0WUFxJs8",
        "outputId": "7f1e97f0-ce68-48d6-fce4-98783b75d64b",
        "colab": {
          "base_uri": "https://localhost:8080/",
          "height": 384
        }
      },
      "execution_count": 55,
      "outputs": [
        {
          "output_type": "execute_result",
          "data": {
            "text/plain": [
              "<graphviz.dot.Digraph at 0x7f87f8690cd0>"
            ],
            "image/svg+xml": "<?xml version=\"1.0\" encoding=\"UTF-8\" standalone=\"no\"?>\n<!DOCTYPE svg PUBLIC \"-//W3C//DTD SVG 1.1//EN\"\n \"http://www.w3.org/Graphics/SVG/1.1/DTD/svg11.dtd\">\n<!-- Generated by graphviz version 2.40.1 (20161225.0304)\n -->\n<!-- Title: %3 Pages: 1 -->\n<svg width=\"350pt\" height=\"272pt\"\n viewBox=\"0.00 0.00 350.39 271.75\" xmlns=\"http://www.w3.org/2000/svg\" xmlns:xlink=\"http://www.w3.org/1999/xlink\">\n<g id=\"graph0\" class=\"graph\" transform=\"scale(1 1) rotate(0) translate(4 267.7464)\">\n<title>%3</title>\n<polygon fill=\"#ffffff\" stroke=\"transparent\" points=\"-4,4 -4,-267.7464 346.3875,-267.7464 346.3875,4 -4,4\"/>\n<!-- EMPTY -->\n<g id=\"node1\" class=\"node\">\n<title>EMPTY</title>\n</g>\n<!-- St3 -->\n<g id=\"node2\" class=\"node\">\n<title>St3</title>\n<ellipse fill=\"none\" stroke=\"#000000\" cx=\"123.3979\" cy=\"-160.0479\" rx=\"23.2963\" ry=\"23.2963\"/>\n<text text-anchor=\"middle\" x=\"123.3979\" y=\"-156.3479\" font-family=\"Times,serif\" font-size=\"14.00\" fill=\"#000000\">St3</text>\n</g>\n<!-- EMPTY&#45;&gt;St3 -->\n<g id=\"edge1\" class=\"edge\">\n<title>EMPTY&#45;&gt;St3</title>\n<path fill=\"none\" stroke=\"#000000\" d=\"M54.1087,-176.5799C65.3933,-173.8874 78.5991,-170.7366 90.4378,-167.912\"/>\n<polygon fill=\"#000000\" stroke=\"#000000\" points=\"91.4921,-171.2587 100.4068,-165.5334 89.8675,-164.4499 91.4921,-171.2587\"/>\n</g>\n<!-- St1 -->\n<g id=\"node4\" class=\"node\">\n<title>St1</title>\n<ellipse fill=\"none\" stroke=\"#000000\" cx=\"218.1938\" cy=\"-204.0479\" rx=\"23.2963\" ry=\"23.2963\"/>\n<text text-anchor=\"middle\" x=\"218.1938\" y=\"-200.3479\" font-family=\"Times,serif\" font-size=\"14.00\" fill=\"#000000\">St1</text>\n</g>\n<!-- EMPTY&#45;&gt;St1 -->\n<g id=\"edge2\" class=\"edge\">\n<title>EMPTY&#45;&gt;St1</title>\n<path fill=\"none\" stroke=\"#000000\" d=\"M38.3301,-201.3273C50.8518,-219.6068 72.8814,-246.5997 100,-258.0479 119.1608,-266.1366 127.0783,-264.6646 146.7958,-258.0479 164.7322,-252.0288 181.755,-239.5235 194.6772,-228.0617\"/>\n<polygon fill=\"#000000\" stroke=\"#000000\" points=\"197.206,-230.4902 202.1647,-221.1273 192.4496,-225.3543 197.206,-230.4902\"/>\n</g>\n<!-- St2 -->\n<g id=\"node5\" class=\"node\">\n<title>St2</title>\n<ellipse fill=\"none\" stroke=\"#000000\" cx=\"314.9896\" cy=\"-110.0479\" rx=\"23.3111\" ry=\"23.3111\"/>\n<ellipse fill=\"none\" stroke=\"#000000\" cx=\"314.9896\" cy=\"-110.0479\" rx=\"27.2962\" ry=\"27.2962\"/>\n<text text-anchor=\"middle\" x=\"314.9896\" y=\"-106.3479\" font-family=\"Times,serif\" font-size=\"14.00\" fill=\"#000000\">St2</text>\n</g>\n<!-- EMPTY&#45;&gt;St2 -->\n<g id=\"edge3\" class=\"edge\">\n<title>EMPTY&#45;&gt;St2</title>\n<path fill=\"none\" stroke=\"#000000\" d=\"M45.0119,-164.8216C58.7905,-152.1262 78.9485,-136.0827 100,-128.0479 158.8361,-105.5916 233.126,-104.8686 277.1903,-107.0176\"/>\n<polygon fill=\"#000000\" stroke=\"#000000\" points=\"277.2663,-110.5274 287.4478,-107.5972 277.6612,-103.5385 277.2663,-110.5274\"/>\n</g>\n<!-- St3&#45;&gt;St3 -->\n<g id=\"edge4\" class=\"edge\">\n<title>St3&#45;&gt;St3</title>\n<path fill=\"none\" stroke=\"#000000\" d=\"M119.1233,-183.4547C118.8285,-193.1918 120.2534,-201.4458 123.3979,-201.4458 125.3141,-201.4458 126.5917,-198.3808 127.2308,-193.7829\"/>\n<polygon fill=\"#000000\" stroke=\"#000000\" points=\"130.7419,-193.5951 127.6725,-183.4547 123.7483,-193.296 130.7419,-193.5951\"/>\n<text text-anchor=\"middle\" x=\"123.3979\" y=\"-205.2458\" font-family=\"Times,serif\" font-size=\"14.00\" fill=\"#000000\">b </text>\n</g>\n<!-- St3&#45;&gt;St3 -->\n<g id=\"edge7\" class=\"edge\">\n<title>St3&#45;&gt;St3</title>\n<path fill=\"none\" stroke=\"#000000\" d=\"M116.0369,-182.2886C112.9931,-200.516 115.4468,-219.4458 123.3979,-219.4458 129.8583,-219.4458 132.6894,-206.9491 131.8913,-192.4862\"/>\n<polygon fill=\"#000000\" stroke=\"#000000\" points=\"135.3413,-191.8412 130.759,-182.2886 128.384,-192.6138 135.3413,-191.8412\"/>\n<text text-anchor=\"middle\" x=\"123.3979\" y=\"-223.2458\" font-family=\"Times,serif\" font-size=\"14.00\" fill=\"#000000\">a </text>\n</g>\n<!-- St3&#45;&gt;St1 -->\n<g id=\"edge6\" class=\"edge\">\n<title>St3&#45;&gt;St1</title>\n<path fill=\"none\" stroke=\"#000000\" d=\"M144.2566,-171.6424C150.7678,-175.1233 158.02,-178.8609 164.7958,-182.0479 171.782,-185.3338 179.3965,-188.6333 186.6292,-191.641\"/>\n<polygon fill=\"#000000\" stroke=\"#000000\" points=\"185.5795,-194.9929 196.1605,-195.5329 188.2257,-188.5123 185.5795,-194.9929\"/>\n<text text-anchor=\"middle\" x=\"170.7958\" y=\"-190.8479\" font-family=\"Times,serif\" font-size=\"14.00\" fill=\"#000000\">b </text>\n</g>\n<!-- St3&#45;&gt;St1 -->\n<g id=\"edge8\" class=\"edge\">\n<title>St3&#45;&gt;St1</title>\n<path fill=\"none\" stroke=\"#000000\" d=\"M146.85,-157.8123C156.4947,-157.7821 167.5479,-158.9363 176.7958,-163.0479 184.3347,-166.3996 191.272,-171.7774 197.2258,-177.55\"/>\n<polygon fill=\"#000000\" stroke=\"#000000\" points=\"194.8026,-180.0817 204.2125,-184.9504 199.8925,-175.2763 194.8026,-180.0817\"/>\n<text text-anchor=\"middle\" x=\"170.7958\" y=\"-166.8479\" font-family=\"Times,serif\" font-size=\"14.00\" fill=\"#000000\">a </text>\n</g>\n<!-- St3&#45;&gt;St1 -->\n<g id=\"edge9\" class=\"edge\">\n<title>St3&#45;&gt;St1</title>\n<path fill=\"none\" stroke=\"#000000\" d=\"M135.7093,-180.2805C142.8589,-190.0179 152.8221,-200.715 164.7958,-206.0479 171.1159,-208.8627 178.2855,-209.8678 185.2731,-209.8786\"/>\n<polygon fill=\"#000000\" stroke=\"#000000\" points=\"185.4887,-213.3721 195.2606,-209.2781 185.0685,-206.3847 185.4887,-213.3721\"/>\n<text text-anchor=\"middle\" x=\"170.7958\" y=\"-212.8479\" font-family=\"Times,serif\" font-size=\"14.00\" fill=\"#000000\">c </text>\n</g>\n<!-- St3&#45;&gt;St2 -->\n<g id=\"edge5\" class=\"edge\">\n<title>St3&#45;&gt;St2</title>\n<path fill=\"none\" stroke=\"#000000\" d=\"M146.1284,-154.1159C178.7942,-145.591 239.3667,-129.7833 278.3882,-119.5998\"/>\n<polygon fill=\"#000000\" stroke=\"#000000\" points=\"279.5056,-122.9255 288.2977,-117.0137 277.7379,-116.1524 279.5056,-122.9255\"/>\n<text text-anchor=\"middle\" x=\"218.1938\" y=\"-143.8479\" font-family=\"Times,serif\" font-size=\"14.00\" fill=\"#000000\">b </text>\n</g>\n<!-- BH -->\n<g id=\"node3\" class=\"node\">\n<title>BH</title>\n<ellipse fill=\"none\" stroke=\"#000000\" cx=\"27\" cy=\"-24.0479\" rx=\"24.0958\" ry=\"24.0958\"/>\n<text text-anchor=\"middle\" x=\"27\" y=\"-20.3479\" font-family=\"Times,serif\" font-size=\"14.00\" fill=\"#000000\">BH</text>\n</g>\n<!-- BH&#45;&gt;St3 -->\n<g id=\"edge13\" class=\"edge\">\n<title>BH&#45;&gt;St3</title>\n<path fill=\"none\" stroke=\"#000000\" d=\"M41.0171,-43.8234C57.5311,-67.1217 85.0747,-105.9808 103.722,-132.2887\"/>\n<polygon fill=\"#000000\" stroke=\"#000000\" points=\"101.0378,-134.5543 109.676,-140.6888 106.7487,-130.5064 101.0378,-134.5543\"/>\n<text text-anchor=\"middle\" x=\"77\" y=\"-103.8479\" font-family=\"Times,serif\" font-size=\"14.00\" fill=\"#000000\">c </text>\n</g>\n<!-- BH&#45;&gt;BH -->\n<g id=\"edge11\" class=\"edge\">\n<title>BH&#45;&gt;BH</title>\n<path fill=\"none\" stroke=\"#000000\" d=\"M23.8941,-48.2451C23.7186,-57.95 24.7539,-66.0957 27,-66.0957 28.3687,-66.0957 29.2878,-63.0709 29.7573,-58.5117\"/>\n<polygon fill=\"#000000\" stroke=\"#000000\" points=\"33.2644,-58.3581 30.1059,-48.2451 26.2685,-58.1205 33.2644,-58.3581\"/>\n<text text-anchor=\"middle\" x=\"27\" y=\"-69.8957\" font-family=\"Times,serif\" font-size=\"14.00\" fill=\"#000000\">b </text>\n</g>\n<!-- BH&#45;&gt;BH -->\n<g id=\"edge12\" class=\"edge\">\n<title>BH&#45;&gt;BH</title>\n<path fill=\"none\" stroke=\"#000000\" d=\"M21.5225,-47.7821C19.5426,-65.8139 21.3685,-84.0957 27,-84.0957 31.5756,-84.0957 33.6389,-72.0269 33.1898,-57.8292\"/>\n<polygon fill=\"#000000\" stroke=\"#000000\" points=\"36.676,-57.5095 32.4775,-47.7821 29.6935,-58.0046 36.676,-57.5095\"/>\n<text text-anchor=\"middle\" x=\"27\" y=\"-87.8957\" font-family=\"Times,serif\" font-size=\"14.00\" fill=\"#000000\">a </text>\n</g>\n<!-- BH&#45;&gt;BH -->\n<g id=\"edge14\" class=\"edge\">\n<title>BH&#45;&gt;BH</title>\n<path fill=\"none\" stroke=\"#000000\" d=\"M19.9688,-47.2183C15.2813,-72.8278 17.625,-102.0957 27,-102.0957 35.1665,-102.0957 37.9977,-79.8871 35.4935,-57.2338\"/>\n<polygon fill=\"#000000\" stroke=\"#000000\" points=\"38.9393,-56.6078 34.0313,-47.2183 32.0127,-57.6191 38.9393,-56.6078\"/>\n<text text-anchor=\"middle\" x=\"27\" y=\"-105.8957\" font-family=\"Times,serif\" font-size=\"14.00\" fill=\"#000000\">c </text>\n</g>\n<!-- BH&#45;&gt;St2 -->\n<g id=\"edge15\" class=\"edge\">\n<title>BH&#45;&gt;St2</title>\n<path fill=\"none\" stroke=\"#000000\" d=\"M50.0806,-30.9402C100.0459,-45.861 218.5592,-81.2516 278.6744,-99.2034\"/>\n<polygon fill=\"#000000\" stroke=\"#000000\" points=\"277.9134,-102.6287 288.4967,-102.1365 279.9164,-95.9214 277.9134,-102.6287\"/>\n<text text-anchor=\"middle\" x=\"170.7958\" y=\"-70.8479\" font-family=\"Times,serif\" font-size=\"14.00\" fill=\"#000000\">c </text>\n</g>\n<!-- St1&#45;&gt;St2 -->\n<g id=\"edge10\" class=\"edge\">\n<title>St1&#45;&gt;St2</title>\n<path fill=\"none\" stroke=\"#000000\" d=\"M235.0543,-187.6743C249.6155,-173.5337 270.9226,-152.842 287.8774,-136.377\"/>\n<polygon fill=\"#000000\" stroke=\"#000000\" points=\"290.5858,-138.6257 295.3213,-129.148 285.7091,-133.6039 290.5858,-138.6257\"/>\n<text text-anchor=\"middle\" x=\"264.5917\" y=\"-165.8479\" font-family=\"Times,serif\" font-size=\"14.00\" fill=\"#000000\">a </text>\n</g>\n</g>\n</svg>\n"
          },
          "metadata": {},
          "execution_count": 55
        }
      ]
    },
    {
      "cell_type": "code",
      "source": [
        "det_rev_det_rdfa1 = nfa2dfa(rev_det_rdfa1)"
      ],
      "metadata": {
        "id": "69pjw-8LxOwD"
      },
      "execution_count": 56,
      "outputs": []
    },
    {
      "cell_type": "code",
      "source": [
        "dotObj_dfa(det_rev_det_rdfa1)"
      ],
      "metadata": {
        "id": "c2jOm2ulxVFT",
        "outputId": "8091d431-d9fe-4cb4-ac95-389bdec87886",
        "colab": {
          "base_uri": "https://localhost:8080/",
          "height": 193
        }
      },
      "execution_count": 57,
      "outputs": [
        {
          "output_type": "execute_result",
          "data": {
            "text/plain": [
              "<graphviz.dot.Digraph at 0x7f87f8679d10>"
            ],
            "image/svg+xml": "<?xml version=\"1.0\" encoding=\"UTF-8\" standalone=\"no\"?>\n<!DOCTYPE svg PUBLIC \"-//W3C//DTD SVG 1.1//EN\"\n \"http://www.w3.org/Graphics/SVG/1.1/DTD/svg11.dtd\">\n<!-- Generated by graphviz version 2.40.1 (20161225.0304)\n -->\n<!-- Title: %3 Pages: 1 -->\n<svg width=\"347pt\" height=\"129pt\"\n viewBox=\"0.00 0.00 347.39 128.80\" xmlns=\"http://www.w3.org/2000/svg\" xmlns:xlink=\"http://www.w3.org/1999/xlink\">\n<g id=\"graph0\" class=\"graph\" transform=\"scale(1 1) rotate(0) translate(4 124.7958)\">\n<title>%3</title>\n<polygon fill=\"#ffffff\" stroke=\"transparent\" points=\"-4,4 -4,-124.7958 343.3875,-124.7958 343.3875,4 -4,4\"/>\n<!-- EMPTY -->\n<g id=\"node1\" class=\"node\">\n<title>EMPTY</title>\n</g>\n<!-- St1 -->\n<g id=\"node4\" class=\"node\">\n<title>St1</title>\n<ellipse fill=\"none\" stroke=\"#000000\" cx=\"118.3979\" cy=\"-27.3979\" rx=\"23.3111\" ry=\"23.3111\"/>\n<ellipse fill=\"none\" stroke=\"#000000\" cx=\"118.3979\" cy=\"-27.3979\" rx=\"27.2962\" ry=\"27.2962\"/>\n<text text-anchor=\"middle\" x=\"118.3979\" y=\"-23.6979\" font-family=\"Times,serif\" font-size=\"14.00\" fill=\"#000000\">St1</text>\n</g>\n<!-- EMPTY&#45;&gt;St1 -->\n<g id=\"edge1\" class=\"edge\">\n<title>EMPTY&#45;&gt;St1</title>\n<path fill=\"none\" stroke=\"#000000\" d=\"M54.4224,-27.3979C62.7369,-27.3979 72.0177,-27.3979 80.875,-27.3979\"/>\n<polygon fill=\"#000000\" stroke=\"#000000\" points=\"80.9949,-30.898 90.9949,-27.3979 80.9949,-23.898 80.9949,-30.898\"/>\n</g>\n<!-- St2 -->\n<g id=\"node2\" class=\"node\">\n<title>St2</title>\n<ellipse fill=\"none\" stroke=\"#000000\" cx=\"215.1938\" cy=\"-27.3979\" rx=\"23.2963\" ry=\"23.2963\"/>\n<text text-anchor=\"middle\" x=\"215.1938\" y=\"-23.6979\" font-family=\"Times,serif\" font-size=\"14.00\" fill=\"#000000\">St2</text>\n</g>\n<!-- St3 -->\n<g id=\"node3\" class=\"node\">\n<title>St3</title>\n<ellipse fill=\"none\" stroke=\"#000000\" cx=\"311.9896\" cy=\"-27.3979\" rx=\"23.3111\" ry=\"23.3111\"/>\n<ellipse fill=\"none\" stroke=\"#000000\" cx=\"311.9896\" cy=\"-27.3979\" rx=\"27.2962\" ry=\"27.2962\"/>\n<text text-anchor=\"middle\" x=\"311.9896\" y=\"-23.6979\" font-family=\"Times,serif\" font-size=\"14.00\" fill=\"#000000\">St3</text>\n</g>\n<!-- St2&#45;&gt;St3 -->\n<g id=\"edge5\" class=\"edge\">\n<title>St2&#45;&gt;St3</title>\n<path fill=\"none\" stroke=\"#000000\" d=\"M238.6253,-27.3979C249.2709,-27.3979 262.1358,-27.3979 274.1003,-27.3979\"/>\n<polygon fill=\"#000000\" stroke=\"#000000\" points=\"274.3045,-30.898 284.3045,-27.3979 274.3044,-23.898 274.3045,-30.898\"/>\n<text text-anchor=\"middle\" x=\"261.5917\" y=\"-31.1979\" font-family=\"Times,serif\" font-size=\"14.00\" fill=\"#000000\">a </text>\n</g>\n<!-- St1&#45;&gt;St2 -->\n<g id=\"edge4\" class=\"edge\">\n<title>St1&#45;&gt;St2</title>\n<path fill=\"none\" stroke=\"#000000\" d=\"M145.8768,-27.3979C156.9174,-27.3979 169.7564,-27.3979 181.3628,-27.3979\"/>\n<polygon fill=\"#000000\" stroke=\"#000000\" points=\"181.5884,-30.898 191.5884,-27.3979 181.5883,-23.898 181.5884,-30.898\"/>\n<text text-anchor=\"middle\" x=\"168.7958\" y=\"-31.1979\" font-family=\"Times,serif\" font-size=\"14.00\" fill=\"#000000\">c </text>\n</g>\n<!-- St1&#45;&gt;St1 -->\n<g id=\"edge2\" class=\"edge\">\n<title>St1&#45;&gt;St1</title>\n<path fill=\"none\" stroke=\"#000000\" d=\"M114.277,-54.8796C114.1883,-64.7492 115.562,-72.7958 118.3979,-72.7958 120.1704,-72.7958 121.3716,-69.6526 122.0017,-64.8857\"/>\n<polygon fill=\"#000000\" stroke=\"#000000\" points=\"125.4979,-65.0469 122.5189,-54.8796 118.5073,-64.6855 125.4979,-65.0469\"/>\n<text text-anchor=\"middle\" x=\"118.3979\" y=\"-76.5958\" font-family=\"Times,serif\" font-size=\"14.00\" fill=\"#000000\">b </text>\n</g>\n<!-- St1&#45;&gt;St1 -->\n<g id=\"edge3\" class=\"edge\">\n<title>St1&#45;&gt;St1</title>\n<path fill=\"none\" stroke=\"#000000\" d=\"M110.9944,-53.777C108.6684,-72.3764 111.1362,-90.7958 118.3979,-90.7958 124.2981,-90.7958 127.0335,-78.6361 126.6043,-64.1\"/>\n<polygon fill=\"#000000\" stroke=\"#000000\" points=\"130.0664,-63.4755 125.8015,-53.777 123.0874,-64.0183 130.0664,-63.4755\"/>\n<text text-anchor=\"middle\" x=\"118.3979\" y=\"-94.5958\" font-family=\"Times,serif\" font-size=\"14.00\" fill=\"#000000\">a </text>\n</g>\n</g>\n</svg>\n"
          },
          "metadata": {},
          "execution_count": 57
        }
      ]
    },
    {
      "cell_type": "markdown",
      "metadata": {
        "run_control": {
          "frozen": false,
          "read_only": false
        },
        "id": "NGF0_E3j-MIw"
      },
      "source": [
        "# (5) Apply Brzozowski's Minimization on this DFA"
      ]
    },
    {
      "cell_type": "code",
      "execution_count": 58,
      "metadata": {
        "id": "Tp804_ck-MIw",
        "colab": {
          "base_uri": "https://localhost:8080/"
        },
        "outputId": "937489c0-7aff-42d8-9174-c0b0c24c9a2c"
      },
      "outputs": [
        {
          "output_type": "stream",
          "name": "stderr",
          "text": [
            "Generating LALR tables\n"
          ]
        }
      ],
      "source": [
        "X = md2mc('''\n",
        "DFA\n",
        "\n",
        "I   : a -> F1\n",
        " \n",
        "F1  : a -> A\n",
        "\n",
        "A   : a -> F2 \n",
        "\n",
        "F2  : a -> I\n",
        "\n",
        "''')"
      ]
    },
    {
      "cell_type": "code",
      "execution_count": 59,
      "metadata": {
        "id": "3_bnVsg3-MIx",
        "outputId": "634d3243-7381-41c6-c1ab-42ea6ff9cf02",
        "colab": {
          "base_uri": "https://localhost:8080/",
          "height": 148
        }
      },
      "outputs": [
        {
          "output_type": "execute_result",
          "data": {
            "text/plain": [
              "<graphviz.dot.Digraph at 0x7f87f867ebd0>"
            ],
            "image/svg+xml": "<?xml version=\"1.0\" encoding=\"UTF-8\" standalone=\"no\"?>\n<!DOCTYPE svg PUBLIC \"-//W3C//DTD SVG 1.1//EN\"\n \"http://www.w3.org/Graphics/SVG/1.1/DTD/svg11.dtd\">\n<!-- Generated by graphviz version 2.40.1 (20161225.0304)\n -->\n<!-- Title: %3 Pages: 1 -->\n<svg width=\"408pt\" height=\"95pt\"\n viewBox=\"0.00 0.00 408.19 94.60\" xmlns=\"http://www.w3.org/2000/svg\" xmlns:xlink=\"http://www.w3.org/1999/xlink\">\n<g id=\"graph0\" class=\"graph\" transform=\"scale(1 1) rotate(0) translate(4 90.5963)\">\n<title>%3</title>\n<polygon fill=\"#ffffff\" stroke=\"transparent\" points=\"-4,4 -4,-90.5963 404.1926,-90.5963 404.1926,4 -4,4\"/>\n<!-- EMPTY -->\n<g id=\"node1\" class=\"node\">\n<title>EMPTY</title>\n</g>\n<!-- I -->\n<g id=\"node2\" class=\"node\">\n<title>I</title>\n<ellipse fill=\"none\" stroke=\"#000000\" cx=\"109\" cy=\"-24.7982\" rx=\"18\" ry=\"18\"/>\n<text text-anchor=\"middle\" x=\"109\" y=\"-21.0982\" font-family=\"Times,serif\" font-size=\"14.00\" fill=\"#000000\">I</text>\n</g>\n<!-- EMPTY&#45;&gt;I -->\n<g id=\"edge1\" class=\"edge\">\n<title>EMPTY&#45;&gt;I</title>\n<path fill=\"none\" stroke=\"#000000\" d=\"M54.3048,-24.7982C62.6909,-24.7982 71.9407,-24.7982 80.4103,-24.7982\"/>\n<polygon fill=\"#000000\" stroke=\"#000000\" points=\"80.5976,-28.2983 90.5976,-24.7982 80.5976,-21.2983 80.5976,-28.2983\"/>\n</g>\n<!-- F1 -->\n<g id=\"node5\" class=\"node\">\n<title>F1</title>\n<ellipse fill=\"none\" stroke=\"#000000\" cx=\"197.7982\" cy=\"-61.7982\" rx=\"20.6302\" ry=\"20.6302\"/>\n<ellipse fill=\"none\" stroke=\"#000000\" cx=\"197.7982\" cy=\"-61.7982\" rx=\"24.5979\" ry=\"24.5979\"/>\n<text text-anchor=\"middle\" x=\"197.7982\" y=\"-58.0982\" font-family=\"Times,serif\" font-size=\"14.00\" fill=\"#000000\">F1</text>\n</g>\n<!-- I&#45;&gt;F1 -->\n<g id=\"edge2\" class=\"edge\">\n<title>I&#45;&gt;F1</title>\n<path fill=\"none\" stroke=\"#000000\" d=\"M125.7023,-31.7576C136.8601,-36.4068 151.9037,-42.6751 165.3624,-48.283\"/>\n<polygon fill=\"#000000\" stroke=\"#000000\" points=\"164.2272,-51.6016 174.8041,-52.2171 166.9196,-45.1401 164.2272,-51.6016\"/>\n<text text-anchor=\"middle\" x=\"150\" y=\"-46.5982\" font-family=\"Times,serif\" font-size=\"14.00\" fill=\"#000000\">a </text>\n</g>\n<!-- A -->\n<g id=\"node3\" class=\"node\">\n<title>A</title>\n<ellipse fill=\"none\" stroke=\"#000000\" cx=\"286.5963\" cy=\"-57.7982\" rx=\"18\" ry=\"18\"/>\n<text text-anchor=\"middle\" x=\"286.5963\" y=\"-54.0982\" font-family=\"Times,serif\" font-size=\"14.00\" fill=\"#000000\">A</text>\n</g>\n<!-- F2 -->\n<g id=\"node4\" class=\"node\">\n<title>F2</title>\n<ellipse fill=\"none\" stroke=\"#000000\" cx=\"375.3945\" cy=\"-24.7982\" rx=\"20.6302\" ry=\"20.6302\"/>\n<ellipse fill=\"none\" stroke=\"#000000\" cx=\"375.3945\" cy=\"-24.7982\" rx=\"24.5979\" ry=\"24.5979\"/>\n<text text-anchor=\"middle\" x=\"375.3945\" y=\"-21.0982\" font-family=\"Times,serif\" font-size=\"14.00\" fill=\"#000000\">F2</text>\n</g>\n<!-- A&#45;&gt;F2 -->\n<g id=\"edge4\" class=\"edge\">\n<title>A&#45;&gt;F2</title>\n<path fill=\"none\" stroke=\"#000000\" d=\"M303.7175,-51.4354C314.6412,-47.3758 329.1618,-41.9796 342.276,-37.1059\"/>\n<polygon fill=\"#000000\" stroke=\"#000000\" points=\"343.7932,-40.276 351.9476,-33.5117 341.3547,-33.7145 343.7932,-40.276\"/>\n<text text-anchor=\"middle\" x=\"327.5963\" y=\"-47.5982\" font-family=\"Times,serif\" font-size=\"14.00\" fill=\"#000000\">a </text>\n</g>\n<!-- F2&#45;&gt;I -->\n<g id=\"edge5\" class=\"edge\">\n<title>F2&#45;&gt;I</title>\n<path fill=\"none\" stroke=\"#000000\" d=\"M350.5328,-24.7982C300.9565,-24.7982 190.0638,-24.7982 137.5802,-24.7982\"/>\n<polygon fill=\"#000000\" stroke=\"#000000\" points=\"137.3104,-21.2983 127.3104,-24.7982 137.3103,-28.2983 137.3104,-21.2983\"/>\n<text text-anchor=\"middle\" x=\"245.5963\" y=\"-28.5982\" font-family=\"Times,serif\" font-size=\"14.00\" fill=\"#000000\">a </text>\n</g>\n<!-- F1&#45;&gt;A -->\n<g id=\"edge3\" class=\"edge\">\n<title>F1&#45;&gt;A</title>\n<path fill=\"none\" stroke=\"#000000\" d=\"M223.0066,-60.6626C233.9642,-60.169 246.8528,-59.5884 258.1515,-59.0795\"/>\n<polygon fill=\"#000000\" stroke=\"#000000\" points=\"258.5499,-62.5652 268.3822,-58.6186 258.2348,-55.5723 258.5499,-62.5652\"/>\n<text text-anchor=\"middle\" x=\"245.5963\" y=\"-63.5982\" font-family=\"Times,serif\" font-size=\"14.00\" fill=\"#000000\">a </text>\n</g>\n</g>\n</svg>\n"
          },
          "metadata": {},
          "execution_count": 59
        }
      ],
      "source": [
        "dotObj_dfa(X)"
      ]
    },
    {
      "cell_type": "code",
      "execution_count": 60,
      "metadata": {
        "id": "7zohkrRR-MIx",
        "outputId": "4c3157ff-493a-46a7-b905-50997bbdf723",
        "colab": {
          "base_uri": "https://localhost:8080/"
        }
      },
      "outputs": [
        {
          "output_type": "stream",
          "name": "stdout",
          "text": [
            "Help on function rev_dfa in module jove.Def_NFA:\n",
            "\n",
            "rev_dfa(D)\n",
            "    In : D = a partially consistent DFA without any unreachable states.\n",
            "    Out: A consistent NFA whose language is D's language reversed.\n",
            "\n"
          ]
        }
      ],
      "source": [
        "help(rev_dfa)"
      ]
    },
    {
      "cell_type": "code",
      "execution_count": 61,
      "metadata": {
        "id": "bMR5lvg5-MIy"
      },
      "outputs": [],
      "source": [
        "rX = rev_dfa(X)"
      ]
    },
    {
      "cell_type": "code",
      "execution_count": 62,
      "metadata": {
        "id": "0fIWPwx1-MIy",
        "outputId": "a3a2f91e-3c72-4aa3-ad48-afdeaf764fe8",
        "colab": {
          "base_uri": "https://localhost:8080/",
          "height": 163
        }
      },
      "outputs": [
        {
          "output_type": "execute_result",
          "data": {
            "text/plain": [
              "<graphviz.dot.Digraph at 0x7f87f872a110>"
            ],
            "image/svg+xml": "<?xml version=\"1.0\" encoding=\"UTF-8\" standalone=\"no\"?>\n<!DOCTYPE svg PUBLIC \"-//W3C//DTD SVG 1.1//EN\"\n \"http://www.w3.org/Graphics/SVG/1.1/DTD/svg11.dtd\">\n<!-- Generated by graphviz version 2.40.1 (20161225.0304)\n -->\n<!-- Title: %3 Pages: 1 -->\n<svg width=\"400pt\" height=\"106pt\"\n viewBox=\"0.00 0.00 400.19 106.00\" xmlns=\"http://www.w3.org/2000/svg\" xmlns:xlink=\"http://www.w3.org/1999/xlink\">\n<g id=\"graph0\" class=\"graph\" transform=\"scale(1 1) rotate(0) translate(4 102)\">\n<title>%3</title>\n<polygon fill=\"#ffffff\" stroke=\"transparent\" points=\"-4,4 -4,-102 396.1926,-102 396.1926,4 -4,4\"/>\n<!-- EMPTY -->\n<g id=\"node1\" class=\"node\">\n<title>EMPTY</title>\n</g>\n<!-- F2 -->\n<g id=\"node2\" class=\"node\">\n<title>F2</title>\n<ellipse fill=\"none\" stroke=\"#000000\" cx=\"111.7982\" cy=\"-55\" rx=\"20.5982\" ry=\"20.5982\"/>\n<text text-anchor=\"middle\" x=\"111.7982\" y=\"-51.3\" font-family=\"Times,serif\" font-size=\"14.00\" fill=\"#000000\">F2</text>\n</g>\n<!-- EMPTY&#45;&gt;F2 -->\n<g id=\"edge1\" class=\"edge\">\n<title>EMPTY&#45;&gt;F2</title>\n<path fill=\"none\" stroke=\"#000000\" d=\"M54.2974,-29.9107C63.5684,-33.9559 73.9475,-38.4846 83.3091,-42.5694\"/>\n<polygon fill=\"#000000\" stroke=\"#000000\" points=\"82.0422,-45.8352 92.6075,-46.6265 84.8417,-39.4193 82.0422,-45.8352\"/>\n</g>\n<!-- F1 -->\n<g id=\"node3\" class=\"node\">\n<title>F1</title>\n<ellipse fill=\"none\" stroke=\"#000000\" cx=\"281.3945\" cy=\"-49\" rx=\"20.5982\" ry=\"20.5982\"/>\n<text text-anchor=\"middle\" x=\"281.3945\" y=\"-45.3\" font-family=\"Times,serif\" font-size=\"14.00\" fill=\"#000000\">F1</text>\n</g>\n<!-- EMPTY&#45;&gt;F1 -->\n<g id=\"edge2\" class=\"edge\">\n<title>EMPTY&#45;&gt;F1</title>\n<path fill=\"none\" stroke=\"#000000\" d=\"M54.0109,-16.4314C90.7298,-14.8815 158.2797,-14.1042 214.5963,-25 227.4158,-27.4802 241.0671,-32.019 252.6652,-36.4873\"/>\n<polygon fill=\"#000000\" stroke=\"#000000\" points=\"251.6727,-39.8604 262.2565,-40.3423 254.2832,-33.3654 251.6727,-39.8604\"/>\n</g>\n<!-- A -->\n<g id=\"node4\" class=\"node\">\n<title>A</title>\n<ellipse fill=\"none\" stroke=\"#000000\" cx=\"196.5963\" cy=\"-52\" rx=\"18\" ry=\"18\"/>\n<text text-anchor=\"middle\" x=\"196.5963\" y=\"-48.3\" font-family=\"Times,serif\" font-size=\"14.00\" fill=\"#000000\">A</text>\n</g>\n<!-- F2&#45;&gt;A -->\n<g id=\"edge6\" class=\"edge\">\n<title>F2&#45;&gt;A</title>\n<path fill=\"none\" stroke=\"#000000\" d=\"M132.7595,-54.2584C143.4989,-53.8785 156.7284,-53.4105 168.3539,-52.9992\"/>\n<polygon fill=\"#000000\" stroke=\"#000000\" points=\"168.5919,-56.493 178.4619,-52.6416 168.3444,-49.4974 168.5919,-56.493\"/>\n<text text-anchor=\"middle\" x=\"155.5963\" y=\"-57.8\" font-family=\"Times,serif\" font-size=\"14.00\" fill=\"#000000\">a </text>\n</g>\n<!-- I -->\n<g id=\"node5\" class=\"node\">\n<title>I</title>\n<ellipse fill=\"none\" stroke=\"#000000\" cx=\"370.1926\" cy=\"-74\" rx=\"18\" ry=\"18\"/>\n<ellipse fill=\"none\" stroke=\"#000000\" cx=\"370.1926\" cy=\"-74\" rx=\"22\" ry=\"22\"/>\n<text text-anchor=\"middle\" x=\"370.1926\" y=\"-70.3\" font-family=\"Times,serif\" font-size=\"14.00\" fill=\"#000000\">I</text>\n</g>\n<!-- F1&#45;&gt;I -->\n<g id=\"edge3\" class=\"edge\">\n<title>F1&#45;&gt;I</title>\n<path fill=\"none\" stroke=\"#000000\" d=\"M301.5441,-54.6729C312.5777,-57.7793 326.4935,-61.6971 338.9068,-65.1919\"/>\n<polygon fill=\"#000000\" stroke=\"#000000\" points=\"338.3101,-68.6599 348.8844,-68.0009 340.2072,-61.9218 338.3101,-68.6599\"/>\n<text text-anchor=\"middle\" x=\"325.1926\" y=\"-66.8\" font-family=\"Times,serif\" font-size=\"14.00\" fill=\"#000000\">a </text>\n</g>\n<!-- A&#45;&gt;F1 -->\n<g id=\"edge5\" class=\"edge\">\n<title>A&#45;&gt;F1</title>\n<path fill=\"none\" stroke=\"#000000\" d=\"M214.9962,-51.349C225.3191,-50.9838 238.4719,-50.5185 250.3435,-50.0985\"/>\n<polygon fill=\"#000000\" stroke=\"#000000\" points=\"250.4729,-53.5962 260.3429,-49.7448 250.2254,-46.6006 250.4729,-53.5962\"/>\n<text text-anchor=\"middle\" x=\"237.5963\" y=\"-54.8\" font-family=\"Times,serif\" font-size=\"14.00\" fill=\"#000000\">a </text>\n</g>\n<!-- I&#45;&gt;F2 -->\n<g id=\"edge4\" class=\"edge\">\n<title>I&#45;&gt;F2</title>\n<path fill=\"none\" stroke=\"#000000\" d=\"M348.7203,-79.1041C342.7564,-80.3001 336.2535,-81.3999 330.1926,-82 325.7698,-82.4379 324.6368,-82.0471 320.1926,-82 257.2503,-81.3333 241.1181,-86.294 178.5963,-79 165.9551,-77.5252 162.6662,-77.0366 150.5963,-73 147.0049,-71.7989 143.3046,-70.362 139.6813,-68.8309\"/>\n<polygon fill=\"#000000\" stroke=\"#000000\" points=\"140.9537,-65.5655 130.3981,-64.6552 138.0822,-71.9494 140.9537,-65.5655\"/>\n<text text-anchor=\"middle\" x=\"237.5963\" y=\"-86.8\" font-family=\"Times,serif\" font-size=\"14.00\" fill=\"#000000\">a </text>\n</g>\n</g>\n</svg>\n"
          },
          "metadata": {},
          "execution_count": 62
        }
      ],
      "source": [
        "dotObj_nfa(rX)"
      ]
    },
    {
      "cell_type": "code",
      "execution_count": 63,
      "metadata": {
        "id": "KEXOmumB-MIy"
      },
      "outputs": [],
      "source": [
        "drX = nfa2dfa(rX)"
      ]
    },
    {
      "cell_type": "code",
      "execution_count": 64,
      "metadata": {
        "id": "DjrMfQlZ-MIy",
        "outputId": "002fee9e-5475-4fa4-8db3-5d63f655b68f",
        "colab": {
          "base_uri": "https://localhost:8080/",
          "height": 129
        }
      },
      "outputs": [
        {
          "output_type": "execute_result",
          "data": {
            "text/plain": [
              "<graphviz.dot.Digraph at 0x7f87f863ae50>"
            ],
            "image/svg+xml": "<?xml version=\"1.0\" encoding=\"UTF-8\" standalone=\"no\"?>\n<!DOCTYPE svg PUBLIC \"-//W3C//DTD SVG 1.1//EN\"\n \"http://www.w3.org/Graphics/SVG/1.1/DTD/svg11.dtd\">\n<!-- Generated by graphviz version 2.40.1 (20161225.0304)\n -->\n<!-- Title: %3 Pages: 1 -->\n<svg width=\"276pt\" height=\"81pt\"\n viewBox=\"0.00 0.00 276.49 80.79\" xmlns=\"http://www.w3.org/2000/svg\" xmlns:xlink=\"http://www.w3.org/1999/xlink\">\n<g id=\"graph0\" class=\"graph\" transform=\"scale(1 1) rotate(0) translate(4 76.7935)\">\n<title>%3</title>\n<polygon fill=\"#ffffff\" stroke=\"transparent\" points=\"-4,4 -4,-76.7935 272.489,-76.7935 272.489,4 -4,4\"/>\n<!-- EMPTY -->\n<g id=\"node1\" class=\"node\">\n<title>EMPTY</title>\n</g>\n<!-- F1_F2 -->\n<g id=\"node2\" class=\"node\">\n<title>F1_F2</title>\n<ellipse fill=\"none\" stroke=\"#000000\" cx=\"127.3968\" cy=\"-36.3968\" rx=\"36.2938\" ry=\"36.2938\"/>\n<text text-anchor=\"middle\" x=\"127.3968\" y=\"-32.6968\" font-family=\"Times,serif\" font-size=\"14.00\" fill=\"#000000\">F1_F2</text>\n</g>\n<!-- EMPTY&#45;&gt;F1_F2 -->\n<g id=\"edge1\" class=\"edge\">\n<title>EMPTY&#45;&gt;F1_F2</title>\n<path fill=\"none\" stroke=\"#000000\" d=\"M54.1688,-36.3968C62.3543,-36.3968 71.5827,-36.3968 80.6596,-36.3968\"/>\n<polygon fill=\"#000000\" stroke=\"#000000\" points=\"80.7795,-39.8969 90.7795,-36.3968 80.7795,-32.8969 80.7795,-39.8969\"/>\n</g>\n<!-- A_I -->\n<g id=\"node3\" class=\"node\">\n<title>A_I</title>\n<ellipse fill=\"none\" stroke=\"#000000\" cx=\"239.1413\" cy=\"-36.3968\" rx=\"25.2169\" ry=\"25.2169\"/>\n<ellipse fill=\"none\" stroke=\"#000000\" cx=\"239.1413\" cy=\"-36.3968\" rx=\"29.1963\" ry=\"29.1963\"/>\n<text text-anchor=\"middle\" x=\"239.1413\" y=\"-32.6968\" font-family=\"Times,serif\" font-size=\"14.00\" fill=\"#000000\">A_I</text>\n</g>\n<!-- F1_F2&#45;&gt;A_I -->\n<g id=\"edge2\" class=\"edge\">\n<title>F1_F2&#45;&gt;A_I</title>\n<path fill=\"none\" stroke=\"#000000\" d=\"M163.9861,-36.3968C175.2922,-36.3968 187.7989,-36.3968 199.3125,-36.3968\"/>\n<polygon fill=\"#000000\" stroke=\"#000000\" points=\"199.5441,-39.8969 209.5441,-36.3968 199.5441,-32.8969 199.5441,-39.8969\"/>\n<text text-anchor=\"middle\" x=\"186.7935\" y=\"-40.1968\" font-family=\"Times,serif\" font-size=\"14.00\" fill=\"#000000\">a </text>\n</g>\n<!-- A_I&#45;&gt;F1_F2 -->\n<g id=\"edge3\" class=\"edge\">\n<title>A_I&#45;&gt;F1_F2</title>\n<path fill=\"none\" stroke=\"#000000\" d=\"M212.6402,-23.709C205.9835,-21.1 198.7507,-18.7406 191.7935,-17.3968 184.6333,-16.0137 177.1268,-16.4414 169.8708,-17.8774\"/>\n<polygon fill=\"#000000\" stroke=\"#000000\" points=\"168.9907,-14.4898 160.1877,-20.3852 170.7458,-21.2662 168.9907,-14.4898\"/>\n<text text-anchor=\"middle\" x=\"186.7935\" y=\"-21.1968\" font-family=\"Times,serif\" font-size=\"14.00\" fill=\"#000000\">a </text>\n</g>\n</g>\n</svg>\n"
          },
          "metadata": {},
          "execution_count": 64
        }
      ],
      "source": [
        "dotObj_dfa(drX)"
      ]
    },
    {
      "cell_type": "code",
      "execution_count": 65,
      "metadata": {
        "id": "I9LDf7Ae-MIz"
      },
      "outputs": [],
      "source": [
        "rdrX = rev_dfa(drX)"
      ]
    },
    {
      "cell_type": "code",
      "execution_count": 66,
      "metadata": {
        "id": "MXLg6cvQ-MIz",
        "outputId": "86e7e0b2-5c80-49fd-fd6e-85cb8c5114d1",
        "colab": {
          "base_uri": "https://localhost:8080/",
          "height": 105
        }
      },
      "outputs": [
        {
          "output_type": "execute_result",
          "data": {
            "text/plain": [
              "<graphviz.dot.Digraph at 0x7f87f867e3d0>"
            ],
            "image/svg+xml": "<?xml version=\"1.0\" encoding=\"UTF-8\" standalone=\"no\"?>\n<!DOCTYPE svg PUBLIC \"-//W3C//DTD SVG 1.1//EN\"\n \"http://www.w3.org/Graphics/SVG/1.1/DTD/svg11.dtd\">\n<!-- Generated by graphviz version 2.40.1 (20161225.0304)\n -->\n<!-- Title: %3 Pages: 1 -->\n<svg width=\"247pt\" height=\"63pt\"\n viewBox=\"0.00 0.00 246.59 62.80\" xmlns=\"http://www.w3.org/2000/svg\" xmlns:xlink=\"http://www.w3.org/1999/xlink\">\n<g id=\"graph0\" class=\"graph\" transform=\"scale(1 1) rotate(0) translate(4 58.7958)\">\n<title>%3</title>\n<polygon fill=\"#ffffff\" stroke=\"transparent\" points=\"-4,4 -4,-58.7958 242.5917,-58.7958 242.5917,4 -4,4\"/>\n<!-- EMPTY -->\n<g id=\"node1\" class=\"node\">\n<title>EMPTY</title>\n</g>\n<!-- St0 -->\n<g id=\"node2\" class=\"node\">\n<title>St0</title>\n<ellipse fill=\"none\" stroke=\"#000000\" cx=\"114.3979\" cy=\"-27.3979\" rx=\"23.2963\" ry=\"23.2963\"/>\n<text text-anchor=\"middle\" x=\"114.3979\" y=\"-23.6979\" font-family=\"Times,serif\" font-size=\"14.00\" fill=\"#000000\">St0</text>\n</g>\n<!-- EMPTY&#45;&gt;St0 -->\n<g id=\"edge1\" class=\"edge\">\n<title>EMPTY&#45;&gt;St0</title>\n<path fill=\"none\" stroke=\"#000000\" d=\"M54.1742,-27.3979C62.5103,-27.3979 71.7873,-27.3979 80.5137,-27.3979\"/>\n<polygon fill=\"#000000\" stroke=\"#000000\" points=\"80.7846,-30.898 90.7846,-27.3979 80.7845,-23.898 80.7846,-30.898\"/>\n</g>\n<!-- St1 -->\n<g id=\"node3\" class=\"node\">\n<title>St1</title>\n<ellipse fill=\"none\" stroke=\"#000000\" cx=\"211.1938\" cy=\"-27.3979\" rx=\"23.3111\" ry=\"23.3111\"/>\n<ellipse fill=\"none\" stroke=\"#000000\" cx=\"211.1938\" cy=\"-27.3979\" rx=\"27.2962\" ry=\"27.2962\"/>\n<text text-anchor=\"middle\" x=\"211.1938\" y=\"-23.6979\" font-family=\"Times,serif\" font-size=\"14.00\" fill=\"#000000\">St1</text>\n</g>\n<!-- St0&#45;&gt;St1 -->\n<g id=\"edge2\" class=\"edge\">\n<title>St0&#45;&gt;St1</title>\n<path fill=\"none\" stroke=\"#000000\" d=\"M137.8295,-27.3979C148.4751,-27.3979 161.3399,-27.3979 173.3045,-27.3979\"/>\n<polygon fill=\"#000000\" stroke=\"#000000\" points=\"173.5086,-30.898 183.5086,-27.3979 173.5086,-23.898 173.5086,-30.898\"/>\n<text text-anchor=\"middle\" x=\"160.7958\" y=\"-31.1979\" font-family=\"Times,serif\" font-size=\"14.00\" fill=\"#000000\">a </text>\n</g>\n<!-- St1&#45;&gt;St0 -->\n<g id=\"edge3\" class=\"edge\">\n<title>St1&#45;&gt;St0</title>\n<path fill=\"none\" stroke=\"#000000\" d=\"M187.541,-13.2206C177.8461,-9.0136 166.4244,-6.0753 155.7958,-8.3979 151.9089,-9.2473 147.9507,-10.4967 144.0995,-11.9561\"/>\n<polygon fill=\"#000000\" stroke=\"#000000\" points=\"142.6693,-8.761 134.8481,-15.908 145.4192,-15.1983 142.6693,-8.761\"/>\n<text text-anchor=\"middle\" x=\"160.7958\" y=\"-12.1979\" font-family=\"Times,serif\" font-size=\"14.00\" fill=\"#000000\">a </text>\n</g>\n</g>\n</svg>\n"
          },
          "metadata": {},
          "execution_count": 66
        }
      ],
      "source": [
        "dotObj_nfa(rdrX)"
      ]
    },
    {
      "cell_type": "code",
      "execution_count": 67,
      "metadata": {
        "id": "UlxDGm3A-MIz"
      },
      "outputs": [],
      "source": [
        "drdrX = nfa2dfa(rdrX)"
      ]
    },
    {
      "cell_type": "markdown",
      "metadata": {
        "id": "ibn9LCh2-MI0"
      },
      "source": [
        "dotObj_dfa(drdrX)"
      ]
    },
    {
      "cell_type": "markdown",
      "metadata": {
        "id": "licQjR2D-MI0"
      },
      "source": [
        "# Questions on RE"
      ]
    },
    {
      "cell_type": "markdown",
      "metadata": {
        "id": "uGrkjB0A-MI1"
      },
      "source": [
        "# (6) What is the language denoted by this RE?"
      ]
    },
    {
      "cell_type": "code",
      "execution_count": 68,
      "metadata": {
        "id": "dvbMuocN-MI1"
      },
      "outputs": [],
      "source": [
        "RE1 = \"b(a+ab+b*)\""
      ]
    },
    {
      "cell_type": "markdown",
      "metadata": {
        "id": "2RDvZcVq-MI2"
      },
      "source": [
        "# (7) What is the language denoted by this RE?"
      ]
    },
    {
      "cell_type": "code",
      "execution_count": 69,
      "metadata": {
        "id": "BXfOYNme-MI2"
      },
      "outputs": [],
      "source": [
        "RE2 = \"b(a+b*)(''+b)\""
      ]
    },
    {
      "cell_type": "markdown",
      "metadata": {
        "id": "6a_TqCYS-MI2"
      },
      "source": [
        "# (8) Are there Strings in RE1 not in RE2?"
      ]
    },
    {
      "cell_type": "code",
      "execution_count": 70,
      "metadata": {
        "id": "msjzbH5T-MI3"
      },
      "outputs": [],
      "source": [
        "DFA1 = min_dfa(nfa2dfa(re2nfa(RE1)))"
      ]
    },
    {
      "cell_type": "code",
      "execution_count": 71,
      "metadata": {
        "id": "qR4LAOoT-MI3"
      },
      "outputs": [],
      "source": [
        "DFA2 = min_dfa(nfa2dfa(re2nfa(RE2)))"
      ]
    },
    {
      "cell_type": "code",
      "execution_count": 72,
      "metadata": {
        "id": "rUrxXX0y-MI3",
        "outputId": "abc6dda3-c185-4496-a875-bc60d71ba942",
        "colab": {
          "base_uri": "https://localhost:8080/",
          "height": 247
        }
      },
      "outputs": [
        {
          "output_type": "execute_result",
          "data": {
            "text/plain": [
              "<graphviz.dot.Digraph at 0x7f87f863ed50>"
            ],
            "image/svg+xml": "<?xml version=\"1.0\" encoding=\"UTF-8\" standalone=\"no\"?>\n<!DOCTYPE svg PUBLIC \"-//W3C//DTD SVG 1.1//EN\"\n \"http://www.w3.org/Graphics/SVG/1.1/DTD/svg11.dtd\">\n<!-- Generated by graphviz version 2.40.1 (20161225.0304)\n -->\n<!-- Title: %3 Pages: 1 -->\n<svg width=\"454pt\" height=\"169pt\"\n viewBox=\"0.00 0.00 454.18 168.80\" xmlns=\"http://www.w3.org/2000/svg\" xmlns:xlink=\"http://www.w3.org/1999/xlink\">\n<g id=\"graph0\" class=\"graph\" transform=\"scale(1 1) rotate(0) translate(4 164.7958)\">\n<title>%3</title>\n<polygon fill=\"#ffffff\" stroke=\"transparent\" points=\"-4,4 -4,-164.7958 450.1834,-164.7958 450.1834,4 -4,4\"/>\n<!-- EMPTY -->\n<g id=\"node1\" class=\"node\">\n<title>EMPTY</title>\n</g>\n<!-- St1 -->\n<g id=\"node2\" class=\"node\">\n<title>St1</title>\n<ellipse fill=\"none\" stroke=\"#000000\" cx=\"114.3979\" cy=\"-80.3979\" rx=\"23.2963\" ry=\"23.2963\"/>\n<text text-anchor=\"middle\" x=\"114.3979\" y=\"-76.6979\" font-family=\"Times,serif\" font-size=\"14.00\" fill=\"#000000\">St1</text>\n</g>\n<!-- EMPTY&#45;&gt;St1 -->\n<g id=\"edge1\" class=\"edge\">\n<title>EMPTY&#45;&gt;St1</title>\n<path fill=\"none\" stroke=\"#000000\" d=\"M54.1742,-80.3979C62.5103,-80.3979 71.7873,-80.3979 80.5137,-80.3979\"/>\n<polygon fill=\"#000000\" stroke=\"#000000\" points=\"80.7846,-83.898 90.7846,-80.3979 80.7845,-76.898 80.7846,-83.898\"/>\n</g>\n<!-- St3 -->\n<g id=\"node3\" class=\"node\">\n<title>St3</title>\n<ellipse fill=\"none\" stroke=\"#000000\" cx=\"213.1938\" cy=\"-80.3979\" rx=\"23.3111\" ry=\"23.3111\"/>\n<ellipse fill=\"none\" stroke=\"#000000\" cx=\"213.1938\" cy=\"-80.3979\" rx=\"27.2962\" ry=\"27.2962\"/>\n<text text-anchor=\"middle\" x=\"213.1938\" y=\"-76.6979\" font-family=\"Times,serif\" font-size=\"14.00\" fill=\"#000000\">St3</text>\n</g>\n<!-- St1&#45;&gt;St3 -->\n<g id=\"edge2\" class=\"edge\">\n<title>St1&#45;&gt;St3</title>\n<path fill=\"none\" stroke=\"#000000\" d=\"M137.8112,-80.3979C149.0451,-80.3979 162.7854,-80.3979 175.4437,-80.3979\"/>\n<polygon fill=\"#000000\" stroke=\"#000000\" points=\"175.7434,-83.898 185.7433,-80.3979 175.7433,-76.898 175.7434,-83.898\"/>\n<text text-anchor=\"middle\" x=\"161.7958\" y=\"-84.1979\" font-family=\"Times,serif\" font-size=\"14.00\" fill=\"#000000\">b </text>\n</g>\n<!-- St4 -->\n<g id=\"node4\" class=\"node\">\n<title>St4</title>\n<ellipse fill=\"none\" stroke=\"#000000\" cx=\"315.9896\" cy=\"-133.3979\" rx=\"23.3111\" ry=\"23.3111\"/>\n<ellipse fill=\"none\" stroke=\"#000000\" cx=\"315.9896\" cy=\"-133.3979\" rx=\"27.2962\" ry=\"27.2962\"/>\n<text text-anchor=\"middle\" x=\"315.9896\" y=\"-129.6979\" font-family=\"Times,serif\" font-size=\"14.00\" fill=\"#000000\">St4</text>\n</g>\n<!-- St3&#45;&gt;St4 -->\n<g id=\"edge4\" class=\"edge\">\n<title>St3&#45;&gt;St4</title>\n<path fill=\"none\" stroke=\"#000000\" d=\"M237.555,-92.9582C250.8996,-99.8385 267.6434,-108.4714 282.2303,-115.9921\"/>\n<polygon fill=\"#000000\" stroke=\"#000000\" points=\"280.9549,-119.2724 291.4471,-120.7441 284.1628,-113.0506 280.9549,-119.2724\"/>\n<text text-anchor=\"middle\" x=\"264.5917\" y=\"-113.1979\" font-family=\"Times,serif\" font-size=\"14.00\" fill=\"#000000\">a </text>\n</g>\n<!-- St2 -->\n<g id=\"node6\" class=\"node\">\n<title>St2</title>\n<ellipse fill=\"none\" stroke=\"#000000\" cx=\"315.9896\" cy=\"-27.3979\" rx=\"23.3111\" ry=\"23.3111\"/>\n<ellipse fill=\"none\" stroke=\"#000000\" cx=\"315.9896\" cy=\"-27.3979\" rx=\"27.2962\" ry=\"27.2962\"/>\n<text text-anchor=\"middle\" x=\"315.9896\" y=\"-23.6979\" font-family=\"Times,serif\" font-size=\"14.00\" fill=\"#000000\">St2</text>\n</g>\n<!-- St3&#45;&gt;St2 -->\n<g id=\"edge3\" class=\"edge\">\n<title>St3&#45;&gt;St2</title>\n<path fill=\"none\" stroke=\"#000000\" d=\"M237.555,-67.8377C250.8996,-60.9574 267.6434,-52.3245 282.2303,-44.8037\"/>\n<polygon fill=\"#000000\" stroke=\"#000000\" points=\"284.1628,-47.7452 291.4471,-40.0517 280.9549,-41.5235 284.1628,-47.7452\"/>\n<text text-anchor=\"middle\" x=\"264.5917\" y=\"-60.1979\" font-family=\"Times,serif\" font-size=\"14.00\" fill=\"#000000\">b </text>\n</g>\n<!-- St5 -->\n<g id=\"node5\" class=\"node\">\n<title>St5</title>\n<ellipse fill=\"none\" stroke=\"#000000\" cx=\"418.7855\" cy=\"-133.3979\" rx=\"23.3111\" ry=\"23.3111\"/>\n<ellipse fill=\"none\" stroke=\"#000000\" cx=\"418.7855\" cy=\"-133.3979\" rx=\"27.2962\" ry=\"27.2962\"/>\n<text text-anchor=\"middle\" x=\"418.7855\" y=\"-129.6979\" font-family=\"Times,serif\" font-size=\"14.00\" fill=\"#000000\">St5</text>\n</g>\n<!-- St4&#45;&gt;St5 -->\n<g id=\"edge6\" class=\"edge\">\n<title>St4&#45;&gt;St5</title>\n<path fill=\"none\" stroke=\"#000000\" d=\"M343.537,-133.3979C355.0596,-133.3979 368.6371,-133.3979 381.0642,-133.3979\"/>\n<polygon fill=\"#000000\" stroke=\"#000000\" points=\"381.1621,-136.898 391.162,-133.3979 381.162,-129.898 381.1621,-136.898\"/>\n<text text-anchor=\"middle\" x=\"367.3875\" y=\"-137.1979\" font-family=\"Times,serif\" font-size=\"14.00\" fill=\"#000000\">b </text>\n</g>\n<!-- St2&#45;&gt;St2 -->\n<g id=\"edge5\" class=\"edge\">\n<title>St2&#45;&gt;St2</title>\n<path fill=\"none\" stroke=\"#000000\" d=\"M306.6718,-53.523C306.1454,-64.0011 309.2513,-72.7958 315.9896,-72.7958 320.3063,-72.7958 323.1323,-69.1865 324.4676,-63.8374\"/>\n<polygon fill=\"#000000\" stroke=\"#000000\" points=\"327.9842,-63.7741 325.3074,-53.523 321.0073,-63.206 327.9842,-63.7741\"/>\n<text text-anchor=\"middle\" x=\"315.9896\" y=\"-76.5958\" font-family=\"Times,serif\" font-size=\"14.00\" fill=\"#000000\">b </text>\n</g>\n</g>\n</svg>\n"
          },
          "metadata": {},
          "execution_count": 72
        }
      ],
      "source": [
        "dotObj_dfa(DFA1)"
      ]
    },
    {
      "cell_type": "code",
      "execution_count": 73,
      "metadata": {
        "id": "HodEJVsp-MI4",
        "outputId": "42e9a34f-8543-4c2f-bd39-146ba32bc70a",
        "colab": {
          "base_uri": "https://localhost:8080/",
          "height": 247
        }
      },
      "outputs": [
        {
          "output_type": "execute_result",
          "data": {
            "text/plain": [
              "<graphviz.dot.Digraph at 0x7f87f8672810>"
            ],
            "image/svg+xml": "<?xml version=\"1.0\" encoding=\"UTF-8\" standalone=\"no\"?>\n<!DOCTYPE svg PUBLIC \"-//W3C//DTD SVG 1.1//EN\"\n \"http://www.w3.org/Graphics/SVG/1.1/DTD/svg11.dtd\">\n<!-- Generated by graphviz version 2.40.1 (20161225.0304)\n -->\n<!-- Title: %3 Pages: 1 -->\n<svg width=\"454pt\" height=\"169pt\"\n viewBox=\"0.00 0.00 454.18 168.80\" xmlns=\"http://www.w3.org/2000/svg\" xmlns:xlink=\"http://www.w3.org/1999/xlink\">\n<g id=\"graph0\" class=\"graph\" transform=\"scale(1 1) rotate(0) translate(4 164.7958)\">\n<title>%3</title>\n<polygon fill=\"#ffffff\" stroke=\"transparent\" points=\"-4,4 -4,-164.7958 450.1834,-164.7958 450.1834,4 -4,4\"/>\n<!-- EMPTY -->\n<g id=\"node1\" class=\"node\">\n<title>EMPTY</title>\n</g>\n<!-- St1 -->\n<g id=\"node2\" class=\"node\">\n<title>St1</title>\n<ellipse fill=\"none\" stroke=\"#000000\" cx=\"114.3979\" cy=\"-80.3979\" rx=\"23.2963\" ry=\"23.2963\"/>\n<text text-anchor=\"middle\" x=\"114.3979\" y=\"-76.6979\" font-family=\"Times,serif\" font-size=\"14.00\" fill=\"#000000\">St1</text>\n</g>\n<!-- EMPTY&#45;&gt;St1 -->\n<g id=\"edge1\" class=\"edge\">\n<title>EMPTY&#45;&gt;St1</title>\n<path fill=\"none\" stroke=\"#000000\" d=\"M54.1742,-80.3979C62.5103,-80.3979 71.7873,-80.3979 80.5137,-80.3979\"/>\n<polygon fill=\"#000000\" stroke=\"#000000\" points=\"80.7846,-83.898 90.7846,-80.3979 80.7845,-76.898 80.7846,-83.898\"/>\n</g>\n<!-- St4 -->\n<g id=\"node4\" class=\"node\">\n<title>St4</title>\n<ellipse fill=\"none\" stroke=\"#000000\" cx=\"213.1938\" cy=\"-80.3979\" rx=\"23.3111\" ry=\"23.3111\"/>\n<ellipse fill=\"none\" stroke=\"#000000\" cx=\"213.1938\" cy=\"-80.3979\" rx=\"27.2962\" ry=\"27.2962\"/>\n<text text-anchor=\"middle\" x=\"213.1938\" y=\"-76.6979\" font-family=\"Times,serif\" font-size=\"14.00\" fill=\"#000000\">St4</text>\n</g>\n<!-- St1&#45;&gt;St4 -->\n<g id=\"edge2\" class=\"edge\">\n<title>St1&#45;&gt;St4</title>\n<path fill=\"none\" stroke=\"#000000\" d=\"M137.8112,-80.3979C149.0451,-80.3979 162.7854,-80.3979 175.4437,-80.3979\"/>\n<polygon fill=\"#000000\" stroke=\"#000000\" points=\"175.7434,-83.898 185.7433,-80.3979 175.7433,-76.898 175.7434,-83.898\"/>\n<text text-anchor=\"middle\" x=\"161.7958\" y=\"-84.1979\" font-family=\"Times,serif\" font-size=\"14.00\" fill=\"#000000\">b </text>\n</g>\n<!-- St3 -->\n<g id=\"node3\" class=\"node\">\n<title>St3</title>\n<ellipse fill=\"none\" stroke=\"#000000\" cx=\"418.7855\" cy=\"-133.3979\" rx=\"23.3111\" ry=\"23.3111\"/>\n<ellipse fill=\"none\" stroke=\"#000000\" cx=\"418.7855\" cy=\"-133.3979\" rx=\"27.2962\" ry=\"27.2962\"/>\n<text text-anchor=\"middle\" x=\"418.7855\" y=\"-129.6979\" font-family=\"Times,serif\" font-size=\"14.00\" fill=\"#000000\">St3</text>\n</g>\n<!-- St5 -->\n<g id=\"node5\" class=\"node\">\n<title>St5</title>\n<ellipse fill=\"none\" stroke=\"#000000\" cx=\"315.9896\" cy=\"-133.3979\" rx=\"23.3111\" ry=\"23.3111\"/>\n<ellipse fill=\"none\" stroke=\"#000000\" cx=\"315.9896\" cy=\"-133.3979\" rx=\"27.2962\" ry=\"27.2962\"/>\n<text text-anchor=\"middle\" x=\"315.9896\" y=\"-129.6979\" font-family=\"Times,serif\" font-size=\"14.00\" fill=\"#000000\">St5</text>\n</g>\n<!-- St4&#45;&gt;St5 -->\n<g id=\"edge4\" class=\"edge\">\n<title>St4&#45;&gt;St5</title>\n<path fill=\"none\" stroke=\"#000000\" d=\"M237.555,-92.9582C250.8996,-99.8385 267.6434,-108.4714 282.2303,-115.9921\"/>\n<polygon fill=\"#000000\" stroke=\"#000000\" points=\"280.9549,-119.2724 291.4471,-120.7441 284.1628,-113.0506 280.9549,-119.2724\"/>\n<text text-anchor=\"middle\" x=\"264.5917\" y=\"-113.1979\" font-family=\"Times,serif\" font-size=\"14.00\" fill=\"#000000\">a </text>\n</g>\n<!-- St2 -->\n<g id=\"node6\" class=\"node\">\n<title>St2</title>\n<ellipse fill=\"none\" stroke=\"#000000\" cx=\"315.9896\" cy=\"-27.3979\" rx=\"23.3111\" ry=\"23.3111\"/>\n<ellipse fill=\"none\" stroke=\"#000000\" cx=\"315.9896\" cy=\"-27.3979\" rx=\"27.2962\" ry=\"27.2962\"/>\n<text text-anchor=\"middle\" x=\"315.9896\" y=\"-23.6979\" font-family=\"Times,serif\" font-size=\"14.00\" fill=\"#000000\">St2</text>\n</g>\n<!-- St4&#45;&gt;St2 -->\n<g id=\"edge3\" class=\"edge\">\n<title>St4&#45;&gt;St2</title>\n<path fill=\"none\" stroke=\"#000000\" d=\"M237.555,-67.8377C250.8996,-60.9574 267.6434,-52.3245 282.2303,-44.8037\"/>\n<polygon fill=\"#000000\" stroke=\"#000000\" points=\"284.1628,-47.7452 291.4471,-40.0517 280.9549,-41.5235 284.1628,-47.7452\"/>\n<text text-anchor=\"middle\" x=\"264.5917\" y=\"-60.1979\" font-family=\"Times,serif\" font-size=\"14.00\" fill=\"#000000\">b </text>\n</g>\n<!-- St5&#45;&gt;St3 -->\n<g id=\"edge6\" class=\"edge\">\n<title>St5&#45;&gt;St3</title>\n<path fill=\"none\" stroke=\"#000000\" d=\"M343.537,-133.3979C355.0596,-133.3979 368.6371,-133.3979 381.0642,-133.3979\"/>\n<polygon fill=\"#000000\" stroke=\"#000000\" points=\"381.1621,-136.898 391.162,-133.3979 381.162,-129.898 381.1621,-136.898\"/>\n<text text-anchor=\"middle\" x=\"367.3875\" y=\"-137.1979\" font-family=\"Times,serif\" font-size=\"14.00\" fill=\"#000000\">b </text>\n</g>\n<!-- St2&#45;&gt;St2 -->\n<g id=\"edge5\" class=\"edge\">\n<title>St2&#45;&gt;St2</title>\n<path fill=\"none\" stroke=\"#000000\" d=\"M306.6718,-53.523C306.1454,-64.0011 309.2513,-72.7958 315.9896,-72.7958 320.3063,-72.7958 323.1323,-69.1865 324.4676,-63.8374\"/>\n<polygon fill=\"#000000\" stroke=\"#000000\" points=\"327.9842,-63.7741 325.3074,-53.523 321.0073,-63.206 327.9842,-63.7741\"/>\n<text text-anchor=\"middle\" x=\"315.9896\" y=\"-76.5958\" font-family=\"Times,serif\" font-size=\"14.00\" fill=\"#000000\">b </text>\n</g>\n</g>\n</svg>\n"
          },
          "metadata": {},
          "execution_count": 73
        }
      ],
      "source": [
        "dotObj_dfa(DFA2)"
      ]
    },
    {
      "cell_type": "code",
      "execution_count": 73,
      "metadata": {
        "id": "t_T4NMih-MI4"
      },
      "outputs": [],
      "source": []
    },
    {
      "cell_type": "code",
      "execution_count": 74,
      "metadata": {
        "id": "DFJt7CKw-MI4"
      },
      "outputs": [],
      "source": [
        "CDFA1 = comp_dfa(DFA1)"
      ]
    },
    {
      "cell_type": "code",
      "execution_count": 75,
      "metadata": {
        "id": "YM3m96wZ-MI4"
      },
      "outputs": [],
      "source": [
        "CDFA2 = comp_dfa(DFA2)"
      ]
    },
    {
      "cell_type": "code",
      "execution_count": 76,
      "metadata": {
        "id": "4OixukUp-MI4"
      },
      "outputs": [],
      "source": [
        "DFA1_not2 = intersect_dfa(DFA1, CDFA2)"
      ]
    },
    {
      "cell_type": "code",
      "execution_count": 77,
      "metadata": {
        "id": "KQw2QYZx-MI4",
        "outputId": "433ffa01-6a8e-4edf-ec3a-a2331d6ec723",
        "colab": {
          "base_uri": "https://localhost:8080/",
          "height": 468
        }
      },
      "outputs": [
        {
          "output_type": "execute_result",
          "data": {
            "text/plain": [
              "<graphviz.dot.Digraph at 0x7f87f8672490>"
            ],
            "image/svg+xml": "<?xml version=\"1.0\" encoding=\"UTF-8\" standalone=\"no\"?>\n<!DOCTYPE svg PUBLIC \"-//W3C//DTD SVG 1.1//EN\"\n \"http://www.w3.org/Graphics/SVG/1.1/DTD/svg11.dtd\">\n<!-- Generated by graphviz version 2.40.1 (20161225.0304)\n -->\n<!-- Title: %3 Pages: 1 -->\n<svg width=\"843pt\" height=\"320pt\"\n viewBox=\"0.00 0.00 843.15 319.80\" xmlns=\"http://www.w3.org/2000/svg\" xmlns:xlink=\"http://www.w3.org/1999/xlink\">\n<g id=\"graph0\" class=\"graph\" transform=\"scale(1 1) rotate(0) translate(4 315.7958)\">\n<title>%3</title>\n<polygon fill=\"#ffffff\" stroke=\"transparent\" points=\"-4,4 -4,-315.7958 839.1499,-315.7958 839.1499,4 -4,4\"/>\n<!-- EMPTY -->\n<g id=\"node1\" class=\"node\">\n<title>EMPTY</title>\n</g>\n<!-- \\(St1_St1\\) -->\n<g id=\"node4\" class=\"node\">\n<title>\\(St1_St1\\)</title>\n<ellipse fill=\"none\" stroke=\"#000000\" cx=\"137.7958\" cy=\"-219.7958\" rx=\"46.5926\" ry=\"46.5926\"/>\n<text text-anchor=\"middle\" x=\"137.7958\" y=\"-216.0958\" font-family=\"Times,serif\" font-size=\"14.00\" fill=\"#000000\">(St1_St1)</text>\n</g>\n<!-- EMPTY&#45;&gt;\\(St1_St1\\) -->\n<g id=\"edge1\" class=\"edge\">\n<title>EMPTY&#45;&gt;\\(St1_St1\\)</title>\n<path fill=\"none\" stroke=\"#000000\" d=\"M54.1037,-219.7958C62.1958,-219.7958 71.389,-219.7958 80.6474,-219.7958\"/>\n<polygon fill=\"#000000\" stroke=\"#000000\" points=\"80.6704,-223.2959 90.6704,-219.7958 80.6703,-216.2959 80.6704,-223.2959\"/>\n</g>\n<!-- \\(St4_St5\\) -->\n<g id=\"node2\" class=\"node\">\n<title>\\(St4_St5\\)</title>\n<ellipse fill=\"none\" stroke=\"#000000\" cx=\"420.9792\" cy=\"-169.7958\" rx=\"46.5926\" ry=\"46.5926\"/>\n<text text-anchor=\"middle\" x=\"420.9792\" y=\"-166.0958\" font-family=\"Times,serif\" font-size=\"14.00\" fill=\"#000000\">(St4_St5)</text>\n</g>\n<!-- \\(St5_St3\\) -->\n<g id=\"node3\" class=\"node\">\n<title>\\(St5_St3\\)</title>\n<ellipse fill=\"none\" stroke=\"#000000\" cx=\"644.1626\" cy=\"-221.7958\" rx=\"46.5926\" ry=\"46.5926\"/>\n<text text-anchor=\"middle\" x=\"644.1626\" y=\"-218.0958\" font-family=\"Times,serif\" font-size=\"14.00\" fill=\"#000000\">(St5_St3)</text>\n</g>\n<!-- \\(St4_St5\\)&#45;&gt;\\(St5_St3\\) -->\n<g id=\"edge9\" class=\"edge\">\n<title>\\(St4_St5\\)&#45;&gt;\\(St5_St3\\)</title>\n<path fill=\"none\" stroke=\"#000000\" d=\"M466.6823,-180.4443C502.0369,-188.6817 551.1386,-200.122 588.7352,-208.8817\"/>\n<polygon fill=\"#000000\" stroke=\"#000000\" points=\"587.9873,-212.3011 598.5207,-211.1616 589.5758,-205.4837 587.9873,-212.3011\"/>\n<text text-anchor=\"middle\" x=\"532.5709\" y=\"-210.5958\" font-family=\"Times,serif\" font-size=\"14.00\" fill=\"#000000\">b </text>\n</g>\n<!-- \\(BH_BH\\) -->\n<g id=\"node5\" class=\"node\">\n<title>\\(BH_BH\\)</title>\n<ellipse fill=\"none\" stroke=\"#000000\" cx=\"787.0542\" cy=\"-183.7958\" rx=\"48.1917\" ry=\"48.1917\"/>\n<text text-anchor=\"middle\" x=\"787.0542\" y=\"-180.0958\" font-family=\"Times,serif\" font-size=\"14.00\" fill=\"#000000\">(BH_BH)</text>\n</g>\n<!-- \\(St4_St5\\)&#45;&gt;\\(BH_BH\\) -->\n<g id=\"edge3\" class=\"edge\">\n<title>\\(St4_St5\\)&#45;&gt;\\(BH_BH\\)</title>\n<path fill=\"none\" stroke=\"#000000\" d=\"M467.151,-159.9968C521.1584,-150.0433 613.097,-137.7992 690.9585,-150.7958 704.8191,-153.1095 719.359,-157.1788 732.813,-161.6871\"/>\n<polygon fill=\"#000000\" stroke=\"#000000\" points=\"731.7977,-165.0397 742.3925,-165.0285 734.1032,-158.4302 731.7977,-165.0397\"/>\n<text text-anchor=\"middle\" x=\"644.1626\" y=\"-154.5958\" font-family=\"Times,serif\" font-size=\"14.00\" fill=\"#000000\">a </text>\n</g>\n<!-- \\(St5_St3\\)&#45;&gt;\\(BH_BH\\) -->\n<g id=\"edge2\" class=\"edge\">\n<title>\\(St5_St3\\)&#45;&gt;\\(BH_BH\\)</title>\n<path fill=\"none\" stroke=\"#000000\" d=\"M689.7673,-209.6679C702.7806,-206.2072 717.1158,-202.395 730.69,-198.7851\"/>\n<polygon fill=\"#000000\" stroke=\"#000000\" points=\"731.6453,-202.1528 740.4098,-196.2003 729.8462,-195.3879 731.6453,-202.1528\"/>\n<text text-anchor=\"middle\" x=\"714.9585\" y=\"-208.5958\" font-family=\"Times,serif\" font-size=\"14.00\" fill=\"#000000\">b </text>\n</g>\n<!-- \\(St5_St3\\)&#45;&gt;\\(BH_BH\\) -->\n<g id=\"edge6\" class=\"edge\">\n<title>\\(St5_St3\\)&#45;&gt;\\(BH_BH\\)</title>\n<path fill=\"none\" stroke=\"#000000\" d=\"M682.3486,-194.2361C690.7393,-189.5173 699.8498,-185.3256 708.9585,-182.7958 715.2174,-181.0576 721.8686,-180.0049 728.5462,-179.4421\"/>\n<polygon fill=\"#000000\" stroke=\"#000000\" points=\"729.1905,-182.9149 739.0085,-178.9327 728.8501,-175.9232 729.1905,-182.9149\"/>\n<text text-anchor=\"middle\" x=\"714.9585\" y=\"-186.5958\" font-family=\"Times,serif\" font-size=\"14.00\" fill=\"#000000\">a </text>\n</g>\n<!-- \\(St1_St1\\)&#45;&gt;\\(BH_BH\\) -->\n<g id=\"edge12\" class=\"edge\">\n<title>\\(St1_St1\\)&#45;&gt;\\(BH_BH\\)</title>\n<path fill=\"none\" stroke=\"#000000\" d=\"M172.5318,-251.3369C199.6063,-272.6015 239.2338,-296.7958 279.3875,-296.7958 279.3875,-296.7958 279.3875,-296.7958 644.1626,-296.7958 688.728,-296.7958 727.525,-262.5608 753.4019,-231.7782\"/>\n<polygon fill=\"#000000\" stroke=\"#000000\" points=\"756.4301,-233.6019 760.0245,-223.6354 750.9994,-229.1851 756.4301,-233.6019\"/>\n<text text-anchor=\"middle\" x=\"420.9792\" y=\"-300.5958\" font-family=\"Times,serif\" font-size=\"14.00\" fill=\"#000000\">a </text>\n</g>\n<!-- \\(St3_St4\\) -->\n<g id=\"node7\" class=\"node\">\n<title>\\(St3_St4\\)</title>\n<ellipse fill=\"none\" stroke=\"#000000\" cx=\"279.3875\" cy=\"-169.7958\" rx=\"46.5926\" ry=\"46.5926\"/>\n<text text-anchor=\"middle\" x=\"279.3875\" y=\"-166.0958\" font-family=\"Times,serif\" font-size=\"14.00\" fill=\"#000000\">(St3_St4)</text>\n</g>\n<!-- \\(St1_St1\\)&#45;&gt;\\(St3_St4\\) -->\n<g id=\"edge13\" class=\"edge\">\n<title>\\(St1_St1\\)&#45;&gt;\\(St3_St4\\)</title>\n<path fill=\"none\" stroke=\"#000000\" d=\"M182.2079,-204.1127C195.9141,-199.2727 211.1599,-193.8889 225.4357,-188.8478\"/>\n<polygon fill=\"#000000\" stroke=\"#000000\" points=\"226.8692,-192.0534 235.1331,-185.4233 224.5383,-185.4529 226.8692,-192.0534\"/>\n<text text-anchor=\"middle\" x=\"208.5917\" y=\"-200.5958\" font-family=\"Times,serif\" font-size=\"14.00\" fill=\"#000000\">b </text>\n</g>\n<!-- \\(BH_BH\\)&#45;&gt;\\(BH_BH\\) -->\n<g id=\"edge4\" class=\"edge\">\n<title>\\(BH_BH\\)&#45;&gt;\\(BH_BH\\)</title>\n<path fill=\"none\" stroke=\"#000000\" d=\"M780.4859,-231.6242C781.1031,-242.1937 783.2925,-249.8916 787.0542,-249.8916 789.4641,-249.8916 791.2286,-246.7324 792.348,-241.6828\"/>\n<polygon fill=\"#000000\" stroke=\"#000000\" points=\"795.8376,-241.9849 793.6225,-231.6242 788.8931,-241.1049 795.8376,-241.9849\"/>\n<text text-anchor=\"middle\" x=\"787.0542\" y=\"-253.6916\" font-family=\"Times,serif\" font-size=\"14.00\" fill=\"#000000\">b </text>\n</g>\n<!-- \\(BH_BH\\)&#45;&gt;\\(BH_BH\\) -->\n<g id=\"edge11\" class=\"edge\">\n<title>\\(BH_BH\\)&#45;&gt;\\(BH_BH\\)</title>\n<path fill=\"none\" stroke=\"#000000\" d=\"M773.7396,-230.0689C772.5613,-250.3982 776.9995,-267.8916 787.0542,-267.8916 795.3807,-267.8916 799.8556,-255.8947 800.4786,-240.2254\"/>\n<polygon fill=\"#000000\" stroke=\"#000000\" points=\"803.9768,-240.0304 800.3688,-230.0689 796.9772,-240.1062 803.9768,-240.0304\"/>\n<text text-anchor=\"middle\" x=\"787.0542\" y=\"-271.6916\" font-family=\"Times,serif\" font-size=\"14.00\" fill=\"#000000\">a </text>\n</g>\n<!-- \\(St2_St2\\) -->\n<g id=\"node6\" class=\"node\">\n<title>\\(St2_St2\\)</title>\n<ellipse fill=\"none\" stroke=\"#000000\" cx=\"532.5709\" cy=\"-46.7958\" rx=\"46.5926\" ry=\"46.5926\"/>\n<text text-anchor=\"middle\" x=\"532.5709\" y=\"-43.0958\" font-family=\"Times,serif\" font-size=\"14.00\" fill=\"#000000\">(St2_St2)</text>\n</g>\n<!-- \\(St2_St2\\)&#45;&gt;\\(BH_BH\\) -->\n<g id=\"edge5\" class=\"edge\">\n<title>\\(St2_St2\\)&#45;&gt;\\(BH_BH\\)</title>\n<path fill=\"none\" stroke=\"#000000\" d=\"M577.8357,-59.3531C610.4005,-69.333 654.774,-84.908 690.9585,-104.7958 705.6821,-112.8883 707.8786,-117.2513 720.9585,-127.7958 728.0954,-133.5494 735.5807,-139.7378 742.844,-145.8278\"/>\n<polygon fill=\"#000000\" stroke=\"#000000\" points=\"740.7086,-148.6054 750.6112,-152.3723 745.2191,-143.2522 740.7086,-148.6054\"/>\n<text text-anchor=\"middle\" x=\"644.1626\" y=\"-108.5958\" font-family=\"Times,serif\" font-size=\"14.00\" fill=\"#000000\">a </text>\n</g>\n<!-- \\(St2_St2\\)&#45;&gt;\\(St2_St2\\) -->\n<g id=\"edge10\" class=\"edge\">\n<title>\\(St2_St2\\)&#45;&gt;\\(St2_St2\\)</title>\n<path fill=\"none\" stroke=\"#000000\" d=\"M511.9774,-88.8623C512.4935,-101.6196 519.358,-111.5917 532.5709,-111.5917 542.0677,-111.5917 548.2849,-106.4401 551.2225,-98.8055\"/>\n<polygon fill=\"#000000\" stroke=\"#000000\" points=\"554.6826,-99.3478 553.1645,-88.8623 547.8124,-98.006 554.6826,-99.3478\"/>\n<text text-anchor=\"middle\" x=\"532.5709\" y=\"-115.3917\" font-family=\"Times,serif\" font-size=\"14.00\" fill=\"#000000\">b </text>\n</g>\n<!-- \\(St3_St4\\)&#45;&gt;\\(St4_St5\\) -->\n<g id=\"edge8\" class=\"edge\">\n<title>\\(St3_St4\\)&#45;&gt;\\(St4_St5\\)</title>\n<path fill=\"none\" stroke=\"#000000\" d=\"M326.5355,-169.7958C338.4769,-169.7958 351.4325,-169.7958 363.8105,-169.7958\"/>\n<polygon fill=\"#000000\" stroke=\"#000000\" points=\"364.0372,-173.2959 374.0371,-169.7958 364.0371,-166.2959 364.0372,-173.2959\"/>\n<text text-anchor=\"middle\" x=\"350.1834\" y=\"-173.5958\" font-family=\"Times,serif\" font-size=\"14.00\" fill=\"#000000\">a </text>\n</g>\n<!-- \\(St3_St4\\)&#45;&gt;\\(St2_St2\\) -->\n<g id=\"edge7\" class=\"edge\">\n<title>\\(St3_St4\\)&#45;&gt;\\(St2_St2\\)</title>\n<path fill=\"none\" stroke=\"#000000\" d=\"M319.3199,-144.6037C335.9968,-134.5065 355.7489,-123.0878 374.1834,-113.7958 408.4933,-96.5018 448.3324,-79.6643 479.472,-67.1944\"/>\n<polygon fill=\"#000000\" stroke=\"#000000\" points=\"480.8418,-70.4163 488.8409,-63.4689 478.2553,-63.9116 480.8418,-70.4163\"/>\n<text text-anchor=\"middle\" x=\"350.1834\" y=\"-133.5958\" font-family=\"Times,serif\" font-size=\"14.00\" fill=\"#000000\">b </text>\n</g>\n</g>\n</svg>\n"
          },
          "metadata": {},
          "execution_count": 77
        }
      ],
      "source": [
        "dotObj_dfa(DFA1_not2)"
      ]
    },
    {
      "cell_type": "markdown",
      "metadata": {
        "id": "WmQngFcb-MI5"
      },
      "source": [
        "# (9) Are there Strings in RE2 not in RE1?"
      ]
    },
    {
      "cell_type": "code",
      "execution_count": 78,
      "metadata": {
        "id": "uJfZTIKT-MI5"
      },
      "outputs": [],
      "source": [
        "DFA2_not1 = intersect_dfa(DFA2, CDFA1)"
      ]
    },
    {
      "cell_type": "code",
      "execution_count": 79,
      "metadata": {
        "id": "ztXOeMXP-MI5",
        "outputId": "87ada7e7-bd46-4698-e01e-36865bf90081",
        "colab": {
          "base_uri": "https://localhost:8080/",
          "height": 387
        }
      },
      "outputs": [
        {
          "output_type": "execute_result",
          "data": {
            "text/plain": [
              "<graphviz.dot.Digraph at 0x7f87f863c590>"
            ],
            "image/svg+xml": "<?xml version=\"1.0\" encoding=\"UTF-8\" standalone=\"no\"?>\n<!DOCTYPE svg PUBLIC \"-//W3C//DTD SVG 1.1//EN\"\n \"http://www.w3.org/Graphics/SVG/1.1/DTD/svg11.dtd\">\n<!-- Generated by graphviz version 2.40.1 (20161225.0304)\n -->\n<!-- Title: %3 Pages: 1 -->\n<svg width=\"843pt\" height=\"259pt\"\n viewBox=\"0.00 0.00 843.15 258.80\" xmlns=\"http://www.w3.org/2000/svg\" xmlns:xlink=\"http://www.w3.org/1999/xlink\">\n<g id=\"graph0\" class=\"graph\" transform=\"scale(1 1) rotate(0) translate(4 254.7958)\">\n<title>%3</title>\n<polygon fill=\"#ffffff\" stroke=\"transparent\" points=\"-4,4 -4,-254.7958 839.1499,-254.7958 839.1499,4 -4,4\"/>\n<!-- EMPTY -->\n<g id=\"node1\" class=\"node\">\n<title>EMPTY</title>\n</g>\n<!-- \\(St1_St1\\) -->\n<g id=\"node4\" class=\"node\">\n<title>\\(St1_St1\\)</title>\n<ellipse fill=\"none\" stroke=\"#000000\" cx=\"137.7958\" cy=\"-46.7958\" rx=\"46.5926\" ry=\"46.5926\"/>\n<text text-anchor=\"middle\" x=\"137.7958\" y=\"-43.0958\" font-family=\"Times,serif\" font-size=\"14.00\" fill=\"#000000\">(St1_St1)</text>\n</g>\n<!-- EMPTY&#45;&gt;\\(St1_St1\\) -->\n<g id=\"edge1\" class=\"edge\">\n<title>EMPTY&#45;&gt;\\(St1_St1\\)</title>\n<path fill=\"none\" stroke=\"#000000\" d=\"M54.1037,-46.7958C62.1958,-46.7958 71.389,-46.7958 80.6474,-46.7958\"/>\n<polygon fill=\"#000000\" stroke=\"#000000\" points=\"80.6704,-50.2959 90.6704,-46.7958 80.6703,-43.2959 80.6704,-50.2959\"/>\n</g>\n<!-- \\(St5_St4\\) -->\n<g id=\"node2\" class=\"node\">\n<title>\\(St5_St4\\)</title>\n<ellipse fill=\"none\" stroke=\"#000000\" cx=\"420.9792\" cy=\"-195.7958\" rx=\"46.5926\" ry=\"46.5926\"/>\n<text text-anchor=\"middle\" x=\"420.9792\" y=\"-192.0958\" font-family=\"Times,serif\" font-size=\"14.00\" fill=\"#000000\">(St5_St4)</text>\n</g>\n<!-- \\(BH_BH\\) -->\n<g id=\"node5\" class=\"node\">\n<title>\\(BH_BH\\)</title>\n<ellipse fill=\"none\" stroke=\"#000000\" cx=\"787.0542\" cy=\"-126.7958\" rx=\"48.1917\" ry=\"48.1917\"/>\n<text text-anchor=\"middle\" x=\"787.0542\" y=\"-123.0958\" font-family=\"Times,serif\" font-size=\"14.00\" fill=\"#000000\">(BH_BH)</text>\n</g>\n<!-- \\(St5_St4\\)&#45;&gt;\\(BH_BH\\) -->\n<g id=\"edge2\" class=\"edge\">\n<title>\\(St5_St4\\)&#45;&gt;\\(BH_BH\\)</title>\n<path fill=\"none\" stroke=\"#000000\" d=\"M464.8911,-211.9787C519.8862,-229.5725 615.9881,-251.3665 690.9585,-220.7958 714.7838,-211.0806 735.9107,-192.299 752.2446,-174.0621\"/>\n<polygon fill=\"#000000\" stroke=\"#000000\" points=\"755.0552,-176.1626 758.9452,-166.3077 749.7587,-171.5858 755.0552,-176.1626\"/>\n<text text-anchor=\"middle\" x=\"644.1626\" y=\"-239.5958\" font-family=\"Times,serif\" font-size=\"14.00\" fill=\"#000000\">a </text>\n</g>\n<!-- \\(St3_St5\\) -->\n<g id=\"node7\" class=\"node\">\n<title>\\(St3_St5\\)</title>\n<ellipse fill=\"none\" stroke=\"#000000\" cx=\"644.1626\" cy=\"-164.7958\" rx=\"46.5926\" ry=\"46.5926\"/>\n<text text-anchor=\"middle\" x=\"644.1626\" y=\"-161.0958\" font-family=\"Times,serif\" font-size=\"14.00\" fill=\"#000000\">(St3_St5)</text>\n</g>\n<!-- \\(St5_St4\\)&#45;&gt;\\(St3_St5\\) -->\n<g id=\"edge7\" class=\"edge\">\n<title>\\(St5_St4\\)&#45;&gt;\\(St3_St5\\)</title>\n<path fill=\"none\" stroke=\"#000000\" d=\"M467.4941,-189.335C502.4091,-184.4853 550.389,-177.8209 587.5371,-172.6611\"/>\n<polygon fill=\"#000000\" stroke=\"#000000\" points=\"588.2843,-176.091 597.7076,-171.2484 587.3212,-169.1576 588.2843,-176.091\"/>\n<text text-anchor=\"middle\" x=\"532.5709\" y=\"-189.5958\" font-family=\"Times,serif\" font-size=\"14.00\" fill=\"#000000\">b </text>\n</g>\n<!-- \\(St4_St3\\) -->\n<g id=\"node3\" class=\"node\">\n<title>\\(St4_St3\\)</title>\n<ellipse fill=\"none\" stroke=\"#000000\" cx=\"279.3875\" cy=\"-105.7958\" rx=\"46.5926\" ry=\"46.5926\"/>\n<text text-anchor=\"middle\" x=\"279.3875\" y=\"-102.0958\" font-family=\"Times,serif\" font-size=\"14.00\" fill=\"#000000\">(St4_St3)</text>\n</g>\n<!-- \\(St4_St3\\)&#45;&gt;\\(St5_St4\\) -->\n<g id=\"edge11\" class=\"edge\">\n<title>\\(St4_St3\\)&#45;&gt;\\(St5_St4\\)</title>\n<path fill=\"none\" stroke=\"#000000\" d=\"M319.2055,-131.1054C335.7832,-141.6426 355.1836,-153.9742 372.5746,-165.0284\"/>\n<polygon fill=\"#000000\" stroke=\"#000000\" points=\"371.1432,-168.2657 381.4601,-170.6763 374.8982,-162.3581 371.1432,-168.2657\"/>\n<text text-anchor=\"middle\" x=\"350.1834\" y=\"-156.5958\" font-family=\"Times,serif\" font-size=\"14.00\" fill=\"#000000\">a </text>\n</g>\n<!-- \\(St2_St2\\) -->\n<g id=\"node6\" class=\"node\">\n<title>\\(St2_St2\\)</title>\n<ellipse fill=\"none\" stroke=\"#000000\" cx=\"532.5709\" cy=\"-92.7958\" rx=\"46.5926\" ry=\"46.5926\"/>\n<text text-anchor=\"middle\" x=\"532.5709\" y=\"-89.0958\" font-family=\"Times,serif\" font-size=\"14.00\" fill=\"#000000\">(St2_St2)</text>\n</g>\n<!-- \\(St4_St3\\)&#45;&gt;\\(St2_St2\\) -->\n<g id=\"edge8\" class=\"edge\">\n<title>\\(St4_St3\\)&#45;&gt;\\(St2_St2\\)</title>\n<path fill=\"none\" stroke=\"#000000\" d=\"M326.416,-103.3811C368.6054,-101.2149 430.622,-98.0305 475.609,-95.7206\"/>\n<polygon fill=\"#000000\" stroke=\"#000000\" points=\"475.987,-99.2059 485.7943,-95.1976 475.6279,-92.2151 475.987,-99.2059\"/>\n<text text-anchor=\"middle\" x=\"350.1834\" y=\"-105.5958\" font-family=\"Times,serif\" font-size=\"14.00\" fill=\"#000000\">b </text>\n</g>\n<!-- \\(St1_St1\\)&#45;&gt;\\(St4_St3\\) -->\n<g id=\"edge13\" class=\"edge\">\n<title>\\(St1_St1\\)&#45;&gt;\\(St4_St3\\)</title>\n<path fill=\"none\" stroke=\"#000000\" d=\"M181.0474,-64.8184C195.3241,-70.7674 211.3714,-77.4541 226.2968,-83.6734\"/>\n<polygon fill=\"#000000\" stroke=\"#000000\" points=\"225.336,-87.0647 235.913,-87.6804 228.0285,-80.6032 225.336,-87.0647\"/>\n<text text-anchor=\"middle\" x=\"208.5917\" y=\"-81.5958\" font-family=\"Times,serif\" font-size=\"14.00\" fill=\"#000000\">b </text>\n</g>\n<!-- \\(St1_St1\\)&#45;&gt;\\(BH_BH\\) -->\n<g id=\"edge10\" class=\"edge\">\n<title>\\(St1_St1\\)&#45;&gt;\\(BH_BH\\)</title>\n<path fill=\"none\" stroke=\"#000000\" d=\"M184.2002,-38.8896C211.7712,-34.8586 247.4751,-30.7958 279.3875,-30.7958 279.3875,-30.7958 279.3875,-30.7958 644.1626,-30.7958 684.5932,-30.7958 722.196,-57.604 748.6694,-82.8871\"/>\n<polygon fill=\"#000000\" stroke=\"#000000\" points=\"746.2569,-85.4237 755.8342,-89.9543 751.1726,-80.4401 746.2569,-85.4237\"/>\n<text text-anchor=\"middle\" x=\"420.9792\" y=\"-34.5958\" font-family=\"Times,serif\" font-size=\"14.00\" fill=\"#000000\">a </text>\n</g>\n<!-- \\(BH_BH\\)&#45;&gt;\\(BH_BH\\) -->\n<g id=\"edge3\" class=\"edge\">\n<title>\\(BH_BH\\)&#45;&gt;\\(BH_BH\\)</title>\n<path fill=\"none\" stroke=\"#000000\" d=\"M780.4859,-174.6242C781.1031,-185.1937 783.2925,-192.8916 787.0542,-192.8916 789.4641,-192.8916 791.2286,-189.7324 792.348,-184.6828\"/>\n<polygon fill=\"#000000\" stroke=\"#000000\" points=\"795.8376,-184.9849 793.6225,-174.6242 788.8931,-184.1049 795.8376,-184.9849\"/>\n<text text-anchor=\"middle\" x=\"787.0542\" y=\"-196.6916\" font-family=\"Times,serif\" font-size=\"14.00\" fill=\"#000000\">b </text>\n</g>\n<!-- \\(BH_BH\\)&#45;&gt;\\(BH_BH\\) -->\n<g id=\"edge9\" class=\"edge\">\n<title>\\(BH_BH\\)&#45;&gt;\\(BH_BH\\)</title>\n<path fill=\"none\" stroke=\"#000000\" d=\"M773.7396,-173.0689C772.5613,-193.3982 776.9995,-210.8916 787.0542,-210.8916 795.3807,-210.8916 799.8556,-198.8947 800.4786,-183.2254\"/>\n<polygon fill=\"#000000\" stroke=\"#000000\" points=\"803.9768,-183.0304 800.3688,-173.0689 796.9772,-183.1062 803.9768,-183.0304\"/>\n<text text-anchor=\"middle\" x=\"787.0542\" y=\"-214.6916\" font-family=\"Times,serif\" font-size=\"14.00\" fill=\"#000000\">a </text>\n</g>\n<!-- \\(St2_St2\\)&#45;&gt;\\(BH_BH\\) -->\n<g id=\"edge4\" class=\"edge\">\n<title>\\(St2_St2\\)&#45;&gt;\\(BH_BH\\)</title>\n<path fill=\"none\" stroke=\"#000000\" d=\"M579.3511,-89.1465C611.0699,-87.634 653.8196,-87.4761 690.9585,-93.7958 704.8118,-96.1532 719.3488,-100.2391 732.8025,-104.7493\"/>\n<polygon fill=\"#000000\" stroke=\"#000000\" points=\"731.7874,-108.102 742.3822,-108.0899 734.0923,-101.4923 731.7874,-108.102\"/>\n<text text-anchor=\"middle\" x=\"644.1626\" y=\"-97.5958\" font-family=\"Times,serif\" font-size=\"14.00\" fill=\"#000000\">a </text>\n</g>\n<!-- \\(St2_St2\\)&#45;&gt;\\(St2_St2\\) -->\n<g id=\"edge6\" class=\"edge\">\n<title>\\(St2_St2\\)&#45;&gt;\\(St2_St2\\)</title>\n<path fill=\"none\" stroke=\"#000000\" d=\"M511.9774,-134.8623C512.4935,-147.6196 519.358,-157.5917 532.5709,-157.5917 542.0677,-157.5917 548.2849,-152.4401 551.2225,-144.8055\"/>\n<polygon fill=\"#000000\" stroke=\"#000000\" points=\"554.6826,-145.3478 553.1645,-134.8623 547.8124,-144.006 554.6826,-145.3478\"/>\n<text text-anchor=\"middle\" x=\"532.5709\" y=\"-161.3917\" font-family=\"Times,serif\" font-size=\"14.00\" fill=\"#000000\">b </text>\n</g>\n<!-- \\(St3_St5\\)&#45;&gt;\\(BH_BH\\) -->\n<g id=\"edge5\" class=\"edge\">\n<title>\\(St3_St5\\)&#45;&gt;\\(BH_BH\\)</title>\n<path fill=\"none\" stroke=\"#000000\" d=\"M689.7673,-152.6679C702.7806,-149.2072 717.1158,-145.395 730.69,-141.7851\"/>\n<polygon fill=\"#000000\" stroke=\"#000000\" points=\"731.6453,-145.1528 740.4098,-139.2003 729.8462,-138.3879 731.6453,-145.1528\"/>\n<text text-anchor=\"middle\" x=\"714.9585\" y=\"-150.5958\" font-family=\"Times,serif\" font-size=\"14.00\" fill=\"#000000\">a </text>\n</g>\n<!-- \\(St3_St5\\)&#45;&gt;\\(BH_BH\\) -->\n<g id=\"edge12\" class=\"edge\">\n<title>\\(St3_St5\\)&#45;&gt;\\(BH_BH\\)</title>\n<path fill=\"none\" stroke=\"#000000\" d=\"M681.9244,-136.7378C690.4164,-131.8154 699.6744,-127.4307 708.9585,-124.7958 715.209,-123.0219 721.855,-121.982 728.5296,-121.4634\"/>\n<polygon fill=\"#000000\" stroke=\"#000000\" points=\"729.1362,-124.9421 738.989,-121.0471 728.8577,-117.9477 729.1362,-124.9421\"/>\n<text text-anchor=\"middle\" x=\"714.9585\" y=\"-128.5958\" font-family=\"Times,serif\" font-size=\"14.00\" fill=\"#000000\">b </text>\n</g>\n</g>\n</svg>\n"
          },
          "metadata": {},
          "execution_count": 79
        }
      ],
      "source": [
        "dotObj_dfa(DFA2_not1)"
      ]
    },
    {
      "cell_type": "code",
      "execution_count": 79,
      "metadata": {
        "id": "apnwVTGz-MI5"
      },
      "outputs": [],
      "source": []
    },
    {
      "cell_type": "markdown",
      "metadata": {
        "id": "-5osF3G5-MI5"
      },
      "source": [
        "## Strings in RE2 not in RE1"
      ]
    },
    {
      "cell_type": "markdown",
      "metadata": {
        "run_control": {
          "frozen": false,
          "read_only": false
        },
        "id": "S9fNJ-jQ-MI5"
      },
      "source": [
        "# (10) Draw RE1 as an NFA"
      ]
    },
    {
      "cell_type": "code",
      "execution_count": 80,
      "metadata": {
        "id": "Rodwf1-W-MI6"
      },
      "outputs": [],
      "source": [
        "N1 = re2nfa(RE1)"
      ]
    },
    {
      "cell_type": "code",
      "execution_count": 81,
      "metadata": {
        "id": "kTs-1YU--MI6",
        "outputId": "00742e13-7b73-445f-c3a2-0ce984b6bba1",
        "colab": {
          "base_uri": "https://localhost:8080/",
          "height": 379
        }
      },
      "outputs": [
        {
          "output_type": "execute_result",
          "data": {
            "text/plain": [
              "<graphviz.dot.Digraph at 0x7f87f85fa290>"
            ],
            "image/svg+xml": "<?xml version=\"1.0\" encoding=\"UTF-8\" standalone=\"no\"?>\n<!DOCTYPE svg PUBLIC \"-//W3C//DTD SVG 1.1//EN\"\n \"http://www.w3.org/Graphics/SVG/1.1/DTD/svg11.dtd\">\n<!-- Generated by graphviz version 2.40.1 (20161225.0304)\n -->\n<!-- Title: %3 Pages: 1 -->\n<svg width=\"658pt\" height=\"253pt\"\n viewBox=\"0.00 0.00 658.27 252.80\" xmlns=\"http://www.w3.org/2000/svg\" xmlns:xlink=\"http://www.w3.org/1999/xlink\">\n<g id=\"graph0\" class=\"graph\" transform=\"scale(1 1) rotate(0) translate(4 248.7958)\">\n<title>%3</title>\n<polygon fill=\"#ffffff\" stroke=\"transparent\" points=\"-4,4 -4,-248.7958 654.2734,-248.7958 654.2734,4 -4,4\"/>\n<!-- EMPTY -->\n<g id=\"node1\" class=\"node\">\n<title>EMPTY</title>\n</g>\n<!-- St1 -->\n<g id=\"node4\" class=\"node\">\n<title>St1</title>\n<ellipse fill=\"none\" stroke=\"#000000\" cx=\"114.3979\" cy=\"-149.3979\" rx=\"23.2963\" ry=\"23.2963\"/>\n<text text-anchor=\"middle\" x=\"114.3979\" y=\"-145.6979\" font-family=\"Times,serif\" font-size=\"14.00\" fill=\"#000000\">St1</text>\n</g>\n<!-- EMPTY&#45;&gt;St1 -->\n<g id=\"edge1\" class=\"edge\">\n<title>EMPTY&#45;&gt;St1</title>\n<path fill=\"none\" stroke=\"#000000\" d=\"M54.1742,-149.3979C62.5103,-149.3979 71.7873,-149.3979 80.5137,-149.3979\"/>\n<polygon fill=\"#000000\" stroke=\"#000000\" points=\"80.7846,-152.898 90.7846,-149.3979 80.7845,-145.898 80.7846,-152.898\"/>\n</g>\n<!-- St5 -->\n<g id=\"node2\" class=\"node\">\n<title>St5</title>\n<ellipse fill=\"none\" stroke=\"#000000\" cx=\"309.5392\" cy=\"-216.3979\" rx=\"23.2963\" ry=\"23.2963\"/>\n<text text-anchor=\"middle\" x=\"309.5392\" y=\"-212.6979\" font-family=\"Times,serif\" font-size=\"14.00\" fill=\"#000000\">St5</text>\n</g>\n<!-- St6 -->\n<g id=\"node8\" class=\"node\">\n<title>St6</title>\n<ellipse fill=\"none\" stroke=\"#000000\" cx=\"414.8847\" cy=\"-217.3979\" rx=\"23.2963\" ry=\"23.2963\"/>\n<text text-anchor=\"middle\" x=\"414.8847\" y=\"-213.6979\" font-family=\"Times,serif\" font-size=\"14.00\" fill=\"#000000\">St6</text>\n</g>\n<!-- St5&#45;&gt;St6 -->\n<g id=\"edge4\" class=\"edge\">\n<title>St5&#45;&gt;St6</title>\n<path fill=\"none\" stroke=\"#000000\" d=\"M333.1808,-216.6223C347.2773,-216.7562 365.4081,-216.9283 381.0075,-217.0763\"/>\n<polygon fill=\"#000000\" stroke=\"#000000\" points=\"381.2892,-220.5791 391.322,-217.1743 381.3557,-213.5794 381.2892,-220.5791\"/>\n<text text-anchor=\"middle\" x=\"364.4867\" y=\"-220.1979\" font-family=\"Times,serif\" font-size=\"14.00\" fill=\"#000000\">a </text>\n</g>\n<!-- St10 -->\n<g id=\"node3\" class=\"node\">\n<title>St10</title>\n<ellipse fill=\"none\" stroke=\"#000000\" cx=\"518.88\" cy=\"-67.3979\" rx=\"28.6953\" ry=\"28.6953\"/>\n<text text-anchor=\"middle\" x=\"518.88\" y=\"-63.6979\" font-family=\"Times,serif\" font-size=\"14.00\" fill=\"#000000\">St10</text>\n</g>\n<!-- St11 -->\n<g id=\"node12\" class=\"node\">\n<title>St11</title>\n<ellipse fill=\"none\" stroke=\"#000000\" cx=\"309.5392\" cy=\"-76.3979\" rx=\"27.9017\" ry=\"27.9017\"/>\n<ellipse fill=\"none\" stroke=\"#000000\" cx=\"309.5392\" cy=\"-76.3979\" rx=\"31.8951\" ry=\"31.8951\"/>\n<text text-anchor=\"middle\" x=\"309.5392\" y=\"-72.6979\" font-family=\"Times,serif\" font-size=\"14.00\" fill=\"#000000\">St11</text>\n</g>\n<!-- St10&#45;&gt;St11 -->\n<g id=\"edge9\" class=\"edge\">\n<title>St10&#45;&gt;St11</title>\n<path fill=\"none\" stroke=\"#000000\" d=\"M490.2948,-68.6269C454.5352,-70.1642 393.0046,-72.8096 351.7998,-74.5811\"/>\n<polygon fill=\"#000000\" stroke=\"#000000\" points=\"351.6303,-71.085 341.7899,-75.0114 351.9311,-78.0785 351.6303,-71.085\"/>\n<text text-anchor=\"middle\" x=\"414.8847\" y=\"-76.1979\" font-family=\"Times,serif\" font-size=\"14.00\" fill=\"#000000\">&#39;&#39; </text>\n</g>\n<!-- St2 -->\n<g id=\"node9\" class=\"node\">\n<title>St2</title>\n<ellipse fill=\"none\" stroke=\"#000000\" cx=\"209.1938\" cy=\"-149.3979\" rx=\"23.2963\" ry=\"23.2963\"/>\n<text text-anchor=\"middle\" x=\"209.1938\" y=\"-145.6979\" font-family=\"Times,serif\" font-size=\"14.00\" fill=\"#000000\">St2</text>\n</g>\n<!-- St1&#45;&gt;St2 -->\n<g id=\"edge2\" class=\"edge\">\n<title>St1&#45;&gt;St2</title>\n<path fill=\"none\" stroke=\"#000000\" d=\"M137.8306,-149.3979C149.2245,-149.3979 163.1257,-149.3979 175.6218,-149.3979\"/>\n<polygon fill=\"#000000\" stroke=\"#000000\" points=\"175.7021,-152.898 185.7021,-149.3979 175.7021,-145.898 175.7021,-152.898\"/>\n<text text-anchor=\"middle\" x=\"161.7958\" y=\"-153.1979\" font-family=\"Times,serif\" font-size=\"14.00\" fill=\"#000000\">b </text>\n</g>\n<!-- St3 -->\n<g id=\"node5\" class=\"node\">\n<title>St3</title>\n<ellipse fill=\"none\" stroke=\"#000000\" cx=\"309.5392\" cy=\"-149.3979\" rx=\"23.2963\" ry=\"23.2963\"/>\n<text text-anchor=\"middle\" x=\"309.5392\" y=\"-145.6979\" font-family=\"Times,serif\" font-size=\"14.00\" fill=\"#000000\">St3</text>\n</g>\n<!-- St4 -->\n<g id=\"node11\" class=\"node\">\n<title>St4</title>\n<ellipse fill=\"none\" stroke=\"#000000\" cx=\"414.8847\" cy=\"-148.3979\" rx=\"23.3111\" ry=\"23.3111\"/>\n<ellipse fill=\"none\" stroke=\"#000000\" cx=\"414.8847\" cy=\"-148.3979\" rx=\"27.2962\" ry=\"27.2962\"/>\n<text text-anchor=\"middle\" x=\"414.8847\" y=\"-144.6979\" font-family=\"Times,serif\" font-size=\"14.00\" fill=\"#000000\">St4</text>\n</g>\n<!-- St3&#45;&gt;St4 -->\n<g id=\"edge3\" class=\"edge\">\n<title>St3&#45;&gt;St4</title>\n<path fill=\"none\" stroke=\"#000000\" d=\"M333.1808,-149.1735C346.0678,-149.0512 362.3266,-148.8968 376.9405,-148.7581\"/>\n<polygon fill=\"#000000\" stroke=\"#000000\" points=\"377.253,-152.2554 387.2193,-148.6605 377.1865,-145.2557 377.253,-152.2554\"/>\n<text text-anchor=\"middle\" x=\"364.4867\" y=\"-152.1979\" font-family=\"Times,serif\" font-size=\"14.00\" fill=\"#000000\">a </text>\n</g>\n<!-- St7 -->\n<g id=\"node6\" class=\"node\">\n<title>St7</title>\n<ellipse fill=\"none\" stroke=\"#000000\" cx=\"518.88\" cy=\"-217.3979\" rx=\"23.2963\" ry=\"23.2963\"/>\n<text text-anchor=\"middle\" x=\"518.88\" y=\"-213.6979\" font-family=\"Times,serif\" font-size=\"14.00\" fill=\"#000000\">St7</text>\n</g>\n<!-- St8 -->\n<g id=\"node10\" class=\"node\">\n<title>St8</title>\n<ellipse fill=\"none\" stroke=\"#000000\" cx=\"622.8754\" cy=\"-217.3979\" rx=\"23.3111\" ry=\"23.3111\"/>\n<ellipse fill=\"none\" stroke=\"#000000\" cx=\"622.8754\" cy=\"-217.3979\" rx=\"27.2962\" ry=\"27.2962\"/>\n<text text-anchor=\"middle\" x=\"622.8754\" y=\"-213.6979\" font-family=\"Times,serif\" font-size=\"14.00\" fill=\"#000000\">St8</text>\n</g>\n<!-- St7&#45;&gt;St8 -->\n<g id=\"edge5\" class=\"edge\">\n<title>St7&#45;&gt;St8</title>\n<path fill=\"none\" stroke=\"#000000\" d=\"M542.4782,-217.3979C555.1127,-217.3979 570.974,-217.3979 585.2625,-217.3979\"/>\n<polygon fill=\"#000000\" stroke=\"#000000\" points=\"585.3201,-220.898 595.3201,-217.3979 585.32,-213.898 585.3201,-220.898\"/>\n<text text-anchor=\"middle\" x=\"571.4775\" y=\"-221.1979\" font-family=\"Times,serif\" font-size=\"14.00\" fill=\"#000000\">b </text>\n</g>\n<!-- St9 -->\n<g id=\"node7\" class=\"node\">\n<title>St9</title>\n<ellipse fill=\"none\" stroke=\"#000000\" cx=\"414.8847\" cy=\"-23.3979\" rx=\"23.2963\" ry=\"23.2963\"/>\n<text text-anchor=\"middle\" x=\"414.8847\" y=\"-19.6979\" font-family=\"Times,serif\" font-size=\"14.00\" fill=\"#000000\">St9</text>\n</g>\n<!-- St9&#45;&gt;St10 -->\n<g id=\"edge8\" class=\"edge\">\n<title>St9&#45;&gt;St10</title>\n<path fill=\"none\" stroke=\"#000000\" d=\"M436.6855,-32.6218C450.1014,-38.298 467.6215,-45.7107 483.038,-52.2333\"/>\n<polygon fill=\"#000000\" stroke=\"#000000\" points=\"481.7361,-55.4828 492.3096,-56.1561 484.4638,-49.0361 481.7361,-55.4828\"/>\n<text text-anchor=\"middle\" x=\"466.2826\" y=\"-51.1979\" font-family=\"Times,serif\" font-size=\"14.00\" fill=\"#000000\">b </text>\n</g>\n<!-- St6&#45;&gt;St7 -->\n<g id=\"edge6\" class=\"edge\">\n<title>St6&#45;&gt;St7</title>\n<path fill=\"none\" stroke=\"#000000\" d=\"M438.4828,-217.3979C452.3111,-217.3979 470.005,-217.3979 485.2714,-217.3979\"/>\n<polygon fill=\"#000000\" stroke=\"#000000\" points=\"485.3753,-220.898 495.3753,-217.3979 485.3752,-213.898 485.3753,-220.898\"/>\n<text text-anchor=\"middle\" x=\"466.2826\" y=\"-221.1979\" font-family=\"Times,serif\" font-size=\"14.00\" fill=\"#000000\">&#39;&#39; </text>\n</g>\n<!-- St2&#45;&gt;St5 -->\n<g id=\"edge11\" class=\"edge\">\n<title>St2&#45;&gt;St5</title>\n<path fill=\"none\" stroke=\"#000000\" d=\"M229.0188,-162.635C243.862,-172.5457 264.3814,-186.2464 280.991,-197.3365\"/>\n<polygon fill=\"#000000\" stroke=\"#000000\" points=\"279.4953,-200.5462 289.7554,-203.1884 283.3823,-194.7246 279.4953,-200.5462\"/>\n<text text-anchor=\"middle\" x=\"255.0917\" y=\"-186.1979\" font-family=\"Times,serif\" font-size=\"14.00\" fill=\"#000000\">&#39;&#39; </text>\n</g>\n<!-- St2&#45;&gt;St3 -->\n<g id=\"edge10\" class=\"edge\">\n<title>St2&#45;&gt;St3</title>\n<path fill=\"none\" stroke=\"#000000\" d=\"M232.7203,-149.3979C245.4608,-149.3979 261.4307,-149.3979 275.5045,-149.3979\"/>\n<polygon fill=\"#000000\" stroke=\"#000000\" points=\"275.8124,-152.898 285.8124,-149.3979 275.8123,-145.898 275.8124,-152.898\"/>\n<text text-anchor=\"middle\" x=\"255.0917\" y=\"-153.1979\" font-family=\"Times,serif\" font-size=\"14.00\" fill=\"#000000\">&#39;&#39; </text>\n</g>\n<!-- St2&#45;&gt;St11 -->\n<g id=\"edge12\" class=\"edge\">\n<title>St2&#45;&gt;St11</title>\n<path fill=\"none\" stroke=\"#000000\" d=\"M228.5414,-135.3228C241.7079,-125.7443 259.4984,-112.802 275.0526,-101.4865\"/>\n<polygon fill=\"#000000\" stroke=\"#000000\" points=\"277.3927,-104.1123 283.4202,-95.3991 273.2747,-98.4517 277.3927,-104.1123\"/>\n<text text-anchor=\"middle\" x=\"255.0917\" y=\"-120.1979\" font-family=\"Times,serif\" font-size=\"14.00\" fill=\"#000000\">&#39;&#39; </text>\n</g>\n<!-- St11&#45;&gt;St9 -->\n<g id=\"edge7\" class=\"edge\">\n<title>St11&#45;&gt;St9</title>\n<path fill=\"none\" stroke=\"#000000\" d=\"M338.3253,-61.9154C352.7176,-54.6746 370.1285,-45.9151 384.7079,-38.5801\"/>\n<polygon fill=\"#000000\" stroke=\"#000000\" points=\"386.4595,-41.6169 393.8196,-33.9959 383.3134,-35.3637 386.4595,-41.6169\"/>\n<text text-anchor=\"middle\" x=\"364.4867\" y=\"-54.1979\" font-family=\"Times,serif\" font-size=\"14.00\" fill=\"#000000\">&#39;&#39; </text>\n</g>\n</g>\n</svg>\n"
          },
          "metadata": {},
          "execution_count": 81
        }
      ],
      "source": [
        "dotObj_nfa(N1)"
      ]
    },
    {
      "cell_type": "code",
      "execution_count": 81,
      "metadata": {
        "id": "x94F1Ycf-MI6"
      },
      "outputs": [],
      "source": []
    },
    {
      "cell_type": "markdown",
      "metadata": {
        "run_control": {
          "frozen": false,
          "read_only": false
        },
        "id": "qkN_e0DH-MI6"
      },
      "source": [
        "# (11) Convert N1 into an RE"
      ]
    },
    {
      "cell_type": "code",
      "execution_count": 82,
      "metadata": {
        "id": "T9WoH2tx-MI6"
      },
      "outputs": [],
      "source": [
        "GN1 = mk_gnfa(N1)"
      ]
    },
    {
      "cell_type": "code",
      "execution_count": 83,
      "metadata": {
        "id": "WrRLj-dL-MI6",
        "outputId": "3afb4cde-78fb-41a6-aaf8-5b405fcf602d",
        "colab": {
          "base_uri": "https://localhost:8080/",
          "height": 372
        }
      },
      "outputs": [
        {
          "output_type": "execute_result",
          "data": {
            "text/plain": [
              "<graphviz.dot.Digraph at 0x7f87f8644610>"
            ],
            "image/svg+xml": "<?xml version=\"1.0\" encoding=\"UTF-8\" standalone=\"no\"?>\n<!DOCTYPE svg PUBLIC \"-//W3C//DTD SVG 1.1//EN\"\n \"http://www.w3.org/Graphics/SVG/1.1/DTD/svg11.dtd\">\n<!-- Generated by graphviz version 2.40.1 (20161225.0304)\n -->\n<!-- Title: %3 Pages: 1 -->\n<svg width=\"949pt\" height=\"248pt\"\n viewBox=\"0.00 0.00 949.45 248.40\" xmlns=\"http://www.w3.org/2000/svg\" xmlns:xlink=\"http://www.w3.org/1999/xlink\">\n<g id=\"graph0\" class=\"graph\" transform=\"scale(1 1) rotate(0) translate(4 244.3979)\">\n<title>%3</title>\n<polygon fill=\"#ffffff\" stroke=\"transparent\" points=\"-4,4 -4,-244.3979 945.4521,-244.3979 945.4521,4 -4,4\"/>\n<!-- EMPTY -->\n<g id=\"node1\" class=\"node\">\n<title>EMPTY</title>\n</g>\n<!-- Real_I -->\n<g id=\"node2\" class=\"node\">\n<title>Real_I</title>\n<ellipse fill=\"none\" stroke=\"#000000\" cx=\"126.0969\" cy=\"-161\" rx=\"35.194\" ry=\"35.194\"/>\n<text text-anchor=\"middle\" x=\"126.0969\" y=\"-157.3\" font-family=\"Times,serif\" font-size=\"14.00\" fill=\"#000000\">Real_I</text>\n</g>\n<!-- EMPTY&#45;&gt;Real_I -->\n<g id=\"edge1\" class=\"edge\">\n<title>EMPTY&#45;&gt;Real_I</title>\n<path fill=\"none\" stroke=\"#000000\" d=\"M54.0787,-161C62.3227,-161 71.6196,-161 80.7269,-161\"/>\n<polygon fill=\"#000000\" stroke=\"#000000\" points=\"80.8626,-164.5001 90.8626,-161 80.8625,-157.5001 80.8626,-164.5001\"/>\n</g>\n<!-- St1 -->\n<g id=\"node6\" class=\"node\">\n<title>St1</title>\n<ellipse fill=\"none\" stroke=\"#000000\" cx=\"229.5917\" cy=\"-161\" rx=\"23.2963\" ry=\"23.2963\"/>\n<text text-anchor=\"middle\" x=\"229.5917\" y=\"-157.3\" font-family=\"Times,serif\" font-size=\"14.00\" fill=\"#000000\">St1</text>\n</g>\n<!-- Real_I&#45;&gt;St1 -->\n<g id=\"edge14\" class=\"edge\">\n<title>Real_I&#45;&gt;St1</title>\n<path fill=\"none\" stroke=\"#000000\" d=\"M161.4245,-161C172.6072,-161 184.9312,-161 195.9895,-161\"/>\n<polygon fill=\"#000000\" stroke=\"#000000\" points=\"196.1253,-164.5001 206.1253,-161 196.1253,-157.5001 196.1253,-164.5001\"/>\n<text text-anchor=\"middle\" x=\"183.6938\" y=\"-164.8\" font-family=\"Times,serif\" font-size=\"14.00\" fill=\"#000000\">&#39;&#39; </text>\n</g>\n<!-- St8 -->\n<g id=\"node3\" class=\"node\">\n<title>St8</title>\n<ellipse fill=\"none\" stroke=\"#000000\" cx=\"789.6609\" cy=\"-214\" rx=\"23.2963\" ry=\"23.2963\"/>\n<text text-anchor=\"middle\" x=\"789.6609\" y=\"-210.3\" font-family=\"Times,serif\" font-size=\"14.00\" fill=\"#000000\">St8</text>\n</g>\n<!-- Real_F -->\n<g id=\"node14\" class=\"node\">\n<title>Real_F</title>\n<ellipse fill=\"none\" stroke=\"#000000\" cx=\"899.7555\" cy=\"-161\" rx=\"37.8753\" ry=\"37.8753\"/>\n<ellipse fill=\"none\" stroke=\"#000000\" cx=\"899.7555\" cy=\"-161\" rx=\"41.8942\" ry=\"41.8942\"/>\n<text text-anchor=\"middle\" x=\"899.7555\" y=\"-157.3\" font-family=\"Times,serif\" font-size=\"14.00\" fill=\"#000000\">Real_F</text>\n</g>\n<!-- St8&#45;&gt;Real_F -->\n<g id=\"edge15\" class=\"edge\">\n<title>St8&#45;&gt;Real_F</title>\n<path fill=\"none\" stroke=\"#000000\" d=\"M810.8882,-203.7811C822.7799,-198.0564 838.1094,-190.6767 852.6781,-183.6632\"/>\n<polygon fill=\"#000000\" stroke=\"#000000\" points=\"854.606,-186.6196 862.0982,-179.1284 851.5697,-180.3124 854.606,-186.6196\"/>\n<text text-anchor=\"middle\" x=\"835.5588\" y=\"-196.8\" font-family=\"Times,serif\" font-size=\"14.00\" fill=\"#000000\">&#39;&#39; </text>\n</g>\n<!-- St5 -->\n<g id=\"node4\" class=\"node\">\n<title>St5</title>\n<ellipse fill=\"none\" stroke=\"#000000\" cx=\"420.733\" cy=\"-213\" rx=\"23.2963\" ry=\"23.2963\"/>\n<text text-anchor=\"middle\" x=\"420.733\" y=\"-209.3\" font-family=\"Times,serif\" font-size=\"14.00\" fill=\"#000000\">St5</text>\n</g>\n<!-- St6 -->\n<g id=\"node12\" class=\"node\">\n<title>St6</title>\n<ellipse fill=\"none\" stroke=\"#000000\" cx=\"554.8743\" cy=\"-217\" rx=\"23.2963\" ry=\"23.2963\"/>\n<text text-anchor=\"middle\" x=\"554.8743\" y=\"-213.3\" font-family=\"Times,serif\" font-size=\"14.00\" fill=\"#000000\">St6</text>\n</g>\n<!-- St5&#45;&gt;St6 -->\n<g id=\"edge4\" class=\"edge\">\n<title>St5&#45;&gt;St6</title>\n<path fill=\"none\" stroke=\"#000000\" d=\"M444.406,-213.7059C465.7648,-214.3428 497.4138,-215.2866 521.3676,-216.0009\"/>\n<polygon fill=\"#000000\" stroke=\"#000000\" points=\"521.338,-219.5014 531.4379,-216.3011 521.5467,-212.5045 521.338,-219.5014\"/>\n<text text-anchor=\"middle\" x=\"490.0784\" y=\"-218.8\" font-family=\"Times,serif\" font-size=\"14.00\" fill=\"#000000\">a </text>\n</g>\n<!-- St10 -->\n<g id=\"node5\" class=\"node\">\n<title>St10</title>\n<ellipse fill=\"none\" stroke=\"#000000\" cx=\"689.6655\" cy=\"-83\" rx=\"28.6953\" ry=\"28.6953\"/>\n<text text-anchor=\"middle\" x=\"689.6655\" y=\"-79.3\" font-family=\"Times,serif\" font-size=\"14.00\" fill=\"#000000\">St10</text>\n</g>\n<!-- St11 -->\n<g id=\"node11\" class=\"node\">\n<title>St11</title>\n<ellipse fill=\"none\" stroke=\"#000000\" cx=\"420.733\" cy=\"-86\" rx=\"27.8951\" ry=\"27.8951\"/>\n<text text-anchor=\"middle\" x=\"420.733\" y=\"-82.3\" font-family=\"Times,serif\" font-size=\"14.00\" fill=\"#000000\">St11</text>\n</g>\n<!-- St10&#45;&gt;St11 -->\n<g id=\"edge10\" class=\"edge\">\n<title>St10&#45;&gt;St11</title>\n<path fill=\"none\" stroke=\"#000000\" d=\"M661.1724,-88.6094C655.213,-89.5805 648.9526,-90.4528 643.0681,-91 598.4887,-95.1457 500.6869,-95.5755 466.6805,-93 463.9826,-92.7957 461.2031,-92.5248 458.4098,-92.2082\"/>\n<polygon fill=\"#000000\" stroke=\"#000000\" points=\"458.7223,-88.7195 448.3543,-90.8997 457.819,-95.661 458.7223,-88.7195\"/>\n<text text-anchor=\"middle\" x=\"554.8743\" y=\"-98.8\" font-family=\"Times,serif\" font-size=\"14.00\" fill=\"#000000\">&#39;&#39; </text>\n</g>\n<!-- St2 -->\n<g id=\"node13\" class=\"node\">\n<title>St2</title>\n<ellipse fill=\"none\" stroke=\"#000000\" cx=\"324.3875\" cy=\"-161\" rx=\"23.2963\" ry=\"23.2963\"/>\n<text text-anchor=\"middle\" x=\"324.3875\" y=\"-157.3\" font-family=\"Times,serif\" font-size=\"14.00\" fill=\"#000000\">St2</text>\n</g>\n<!-- St1&#45;&gt;St2 -->\n<g id=\"edge2\" class=\"edge\">\n<title>St1&#45;&gt;St2</title>\n<path fill=\"none\" stroke=\"#000000\" d=\"M253.0244,-161C264.4183,-161 278.3194,-161 290.8155,-161\"/>\n<polygon fill=\"#000000\" stroke=\"#000000\" points=\"290.8959,-164.5001 300.8959,-161 290.8959,-157.5001 290.8959,-164.5001\"/>\n<text text-anchor=\"middle\" x=\"276.9896\" y=\"-164.8\" font-family=\"Times,serif\" font-size=\"14.00\" fill=\"#000000\">b </text>\n</g>\n<!-- St3 -->\n<g id=\"node7\" class=\"node\">\n<title>St3</title>\n<ellipse fill=\"none\" stroke=\"#000000\" cx=\"490.0784\" cy=\"-161\" rx=\"23.2963\" ry=\"23.2963\"/>\n<text text-anchor=\"middle\" x=\"490.0784\" y=\"-157.3\" font-family=\"Times,serif\" font-size=\"14.00\" fill=\"#000000\">St3</text>\n</g>\n<!-- St4 -->\n<g id=\"node10\" class=\"node\">\n<title>St4</title>\n<ellipse fill=\"none\" stroke=\"#000000\" cx=\"619.6701\" cy=\"-161\" rx=\"23.2963\" ry=\"23.2963\"/>\n<text text-anchor=\"middle\" x=\"619.6701\" y=\"-157.3\" font-family=\"Times,serif\" font-size=\"14.00\" fill=\"#000000\">St4</text>\n</g>\n<!-- St3&#45;&gt;St4 -->\n<g id=\"edge3\" class=\"edge\">\n<title>St3&#45;&gt;St4</title>\n<path fill=\"none\" stroke=\"#000000\" d=\"M513.5465,-161C533.6959,-161 562.9962,-161 585.7069,-161\"/>\n<polygon fill=\"#000000\" stroke=\"#000000\" points=\"585.9388,-164.5001 595.9387,-161 585.9387,-157.5001 585.9388,-164.5001\"/>\n<text text-anchor=\"middle\" x=\"554.8743\" y=\"-164.8\" font-family=\"Times,serif\" font-size=\"14.00\" fill=\"#000000\">a </text>\n</g>\n<!-- St7 -->\n<g id=\"node8\" class=\"node\">\n<title>St7</title>\n<ellipse fill=\"none\" stroke=\"#000000\" cx=\"689.6655\" cy=\"-215\" rx=\"23.2963\" ry=\"23.2963\"/>\n<text text-anchor=\"middle\" x=\"689.6655\" y=\"-211.3\" font-family=\"Times,serif\" font-size=\"14.00\" fill=\"#000000\">St7</text>\n</g>\n<!-- St7&#45;&gt;St8 -->\n<g id=\"edge5\" class=\"edge\">\n<title>St7&#45;&gt;St8</title>\n<path fill=\"none\" stroke=\"#000000\" d=\"M713.11,-214.7655C725.8061,-214.6386 741.7202,-214.4794 755.7449,-214.3392\"/>\n<polygon fill=\"#000000\" stroke=\"#000000\" points=\"756.0524,-217.8364 766.0168,-214.2365 755.9823,-210.8367 756.0524,-217.8364\"/>\n<text text-anchor=\"middle\" x=\"742.263\" y=\"-217.8\" font-family=\"Times,serif\" font-size=\"14.00\" fill=\"#000000\">b </text>\n</g>\n<!-- St9 -->\n<g id=\"node9\" class=\"node\">\n<title>St9</title>\n<ellipse fill=\"none\" stroke=\"#000000\" cx=\"554.8743\" cy=\"-51\" rx=\"23.2963\" ry=\"23.2963\"/>\n<text text-anchor=\"middle\" x=\"554.8743\" y=\"-47.3\" font-family=\"Times,serif\" font-size=\"14.00\" fill=\"#000000\">St9</text>\n</g>\n<!-- St9&#45;&gt;St10 -->\n<g id=\"edge9\" class=\"edge\">\n<title>St9&#45;&gt;St10</title>\n<path fill=\"none\" stroke=\"#000000\" d=\"M577.7398,-56.4284C597.982,-61.234 627.925,-68.3425 651.748,-73.9982\"/>\n<polygon fill=\"#000000\" stroke=\"#000000\" points=\"650.999,-77.4176 661.5371,-76.3222 652.616,-70.6069 650.999,-77.4176\"/>\n<text text-anchor=\"middle\" x=\"619.6701\" y=\"-75.8\" font-family=\"Times,serif\" font-size=\"14.00\" fill=\"#000000\">b </text>\n</g>\n<!-- St4&#45;&gt;Real_F -->\n<g id=\"edge16\" class=\"edge\">\n<title>St4&#45;&gt;Real_F</title>\n<path fill=\"none\" stroke=\"#000000\" d=\"M643.0683,-161C687.8112,-161 786.4771,-161 847.6168,-161\"/>\n<polygon fill=\"#000000\" stroke=\"#000000\" points=\"847.8334,-164.5001 857.8333,-161 847.8333,-157.5001 847.8334,-164.5001\"/>\n<text text-anchor=\"middle\" x=\"742.263\" y=\"-164.8\" font-family=\"Times,serif\" font-size=\"14.00\" fill=\"#000000\">&#39;&#39; </text>\n</g>\n<!-- St11&#45;&gt;St9 -->\n<g id=\"edge7\" class=\"edge\">\n<title>St11&#45;&gt;St9</title>\n<path fill=\"none\" stroke=\"#000000\" d=\"M447.8785,-78.9172C469.3882,-73.3049 499.5116,-65.4452 522.3172,-59.4947\"/>\n<polygon fill=\"#000000\" stroke=\"#000000\" points=\"523.431,-62.8214 532.2234,-56.9101 521.6636,-56.0482 523.431,-62.8214\"/>\n<text text-anchor=\"middle\" x=\"490.0784\" y=\"-77.8\" font-family=\"Times,serif\" font-size=\"14.00\" fill=\"#000000\">&#39;&#39; </text>\n</g>\n<!-- St11&#45;&gt;Real_F -->\n<g id=\"edge8\" class=\"edge\">\n<title>St11&#45;&gt;Real_F</title>\n<path fill=\"none\" stroke=\"#000000\" d=\"M439.2138,-64.2986C463.0955,-38.8218 507.293,0 554.8743,0 554.8743,0 554.8743,0 789.6609,0 843.8772,0 873.3416,-62.9782 887.8077,-110.157\"/>\n<polygon fill=\"#000000\" stroke=\"#000000\" points=\"884.5066,-111.339 890.6705,-119.9563 891.2258,-109.3761 884.5066,-111.339\"/>\n<text text-anchor=\"middle\" x=\"689.6655\" y=\"-3.8\" font-family=\"Times,serif\" font-size=\"14.00\" fill=\"#000000\">&#39;&#39; </text>\n</g>\n<!-- St6&#45;&gt;St7 -->\n<g id=\"edge6\" class=\"edge\">\n<title>St6&#45;&gt;St7</title>\n<path fill=\"none\" stroke=\"#000000\" d=\"M578.3531,-216.6516C599.7726,-216.3338 631.6746,-215.8605 655.8417,-215.5019\"/>\n<polygon fill=\"#000000\" stroke=\"#000000\" points=\"656.0565,-218.9992 666.0035,-215.3511 655.9526,-211.9999 656.0565,-218.9992\"/>\n<text text-anchor=\"middle\" x=\"619.6701\" y=\"-219.8\" font-family=\"Times,serif\" font-size=\"14.00\" fill=\"#000000\">&#39;&#39; </text>\n</g>\n<!-- St2&#45;&gt;St5 -->\n<g id=\"edge12\" class=\"edge\">\n<title>St2&#45;&gt;St5</title>\n<path fill=\"none\" stroke=\"#000000\" d=\"M345.2931,-172.2832C358.6759,-179.5062 376.245,-188.9887 391.061,-196.9853\"/>\n<polygon fill=\"#000000\" stroke=\"#000000\" points=\"389.4058,-200.0692 399.8683,-201.7388 392.7306,-193.9091 389.4058,-200.0692\"/>\n<text text-anchor=\"middle\" x=\"370.2855\" y=\"-190.8\" font-family=\"Times,serif\" font-size=\"14.00\" fill=\"#000000\">&#39;&#39; </text>\n</g>\n<!-- St2&#45;&gt;St3 -->\n<g id=\"edge11\" class=\"edge\">\n<title>St2&#45;&gt;St3</title>\n<path fill=\"none\" stroke=\"#000000\" d=\"M348.127,-161C376.5062,-161 424.1935,-161 456.3798,-161\"/>\n<polygon fill=\"#000000\" stroke=\"#000000\" points=\"456.6507,-164.5001 466.6507,-161 456.6507,-157.5001 456.6507,-164.5001\"/>\n<text text-anchor=\"middle\" x=\"370.2855\" y=\"-164.8\" font-family=\"Times,serif\" font-size=\"14.00\" fill=\"#000000\">&#39;&#39; </text>\n</g>\n<!-- St2&#45;&gt;St11 -->\n<g id=\"edge13\" class=\"edge\">\n<title>St2&#45;&gt;St11</title>\n<path fill=\"none\" stroke=\"#000000\" d=\"M341.6983,-144.6586C348.9616,-138.0337 357.6074,-130.4419 365.7855,-124 372.9891,-118.3256 380.9841,-112.5317 388.5947,-107.2333\"/>\n<polygon fill=\"#000000\" stroke=\"#000000\" points=\"391.0128,-109.8191 397.2817,-101.2779 387.0548,-104.0455 391.0128,-109.8191\"/>\n<text text-anchor=\"middle\" x=\"370.2855\" y=\"-127.8\" font-family=\"Times,serif\" font-size=\"14.00\" fill=\"#000000\">&#39;&#39; </text>\n</g>\n</g>\n</svg>\n"
          },
          "metadata": {},
          "execution_count": 83
        }
      ],
      "source": [
        "dotObj_gnfa(GN1)"
      ]
    },
    {
      "cell_type": "code",
      "execution_count": 84,
      "metadata": {
        "id": "BbP7pRxZ-MI7",
        "outputId": "538b5242-eb95-491d-d05e-ac4ec7485ec2",
        "colab": {
          "base_uri": "https://localhost:8080/"
        }
      },
      "outputs": [
        {
          "output_type": "stream",
          "name": "stdout",
          "text": [
            "Help on function del_gnfa_states in module jove.Def_NFA2RE:\n",
            "\n",
            "del_gnfa_states(Gin, DelList=[])\n",
            "    Given a GNFA Gin with no unreachable states, \n",
            "    delete all states but f\n",
            "    or Real_I and Real_F.\n",
            "    If DelList is given, follow the state deletion\n",
            "    order mentioned therein; else choose order internally.\n",
            "    \n",
            "    Return a triple (Gfinal, dotObj_List, final_re_str), where\n",
            "      Gfinal       : the final GNFA\n",
            "      dotObj_List  : a list of Dot objects recording the process of\n",
            "                     deleting states and forming intermediate REs\n",
            "      final_re_str : the final RE as a string (ready to be fed to  \n",
            "                     re2nfa for converting back to an NFA)\n",
            "\n"
          ]
        }
      ],
      "source": [
        "help(del_gnfa_states)"
      ]
    },
    {
      "cell_type": "code",
      "execution_count": 85,
      "metadata": {
        "id": "YhlbHEjE-MI7",
        "outputId": "14922ce1-6c39-4cf5-e1ae-95c4912e8a7a",
        "colab": {
          "base_uri": "https://localhost:8080/"
        }
      },
      "outputs": [
        {
          "output_type": "stream",
          "name": "stdout",
          "text": [
            "**** Eliminating state St8 ****\n",
            "**** Eliminating state St5 ****\n",
            "**** Eliminating state St10 ****\n",
            "**** Eliminating state St1 ****\n",
            "**** Eliminating state St3 ****\n",
            "**** Eliminating state St7 ****\n",
            "**** Eliminating state St9 ****\n",
            "**** Eliminating state St4 ****\n",
            "**** Eliminating state St11 ****\n",
            "**** Eliminating state St6 ****\n",
            "**** Eliminating state St2 ****\n"
          ]
        }
      ],
      "source": [
        "(Gfinal, DO, REfin) = del_gnfa_states(GN1)"
      ]
    },
    {
      "cell_type": "code",
      "execution_count": 86,
      "metadata": {
        "id": "jojPc2oC-MI7",
        "outputId": "d34c4a29-74d2-4199-fc7a-d695271fc8cf",
        "colab": {
          "base_uri": "https://localhost:8080/",
          "height": 35
        }
      },
      "outputs": [
        {
          "output_type": "execute_result",
          "data": {
            "text/plain": [
              "'(b (((a b) + (((b)* + a) + a)) + (((b)* + a) + a)))'"
            ],
            "application/vnd.google.colaboratory.intrinsic+json": {
              "type": "string"
            }
          },
          "metadata": {},
          "execution_count": 86
        }
      ],
      "source": [
        "REfin"
      ]
    },
    {
      "cell_type": "code",
      "execution_count": 87,
      "metadata": {
        "id": "9Lpg20vA-MI7",
        "outputId": "85ecd6dd-594d-4e02-aae3-3d31bc91ca11",
        "colab": {
          "base_uri": "https://localhost:8080/",
          "height": 343
        }
      },
      "outputs": [
        {
          "output_type": "execute_result",
          "data": {
            "text/plain": [
              "<graphviz.dot.Digraph at 0x7f87f860c990>"
            ],
            "image/svg+xml": "<?xml version=\"1.0\" encoding=\"UTF-8\" standalone=\"no\"?>\n<!DOCTYPE svg PUBLIC \"-//W3C//DTD SVG 1.1//EN\"\n \"http://www.w3.org/Graphics/SVG/1.1/DTD/svg11.dtd\">\n<!-- Generated by graphviz version 2.40.1 (20161225.0304)\n -->\n<!-- Title: %3 Pages: 1 -->\n<svg width=\"507pt\" height=\"226pt\"\n viewBox=\"0.00 0.00 507.28 225.80\" xmlns=\"http://www.w3.org/2000/svg\" xmlns:xlink=\"http://www.w3.org/1999/xlink\">\n<g id=\"graph0\" class=\"graph\" transform=\"scale(1 1) rotate(0) translate(4 221.7958)\">\n<title>%3</title>\n<polygon fill=\"#ffffff\" stroke=\"transparent\" points=\"-4,4 -4,-221.7958 503.278,-221.7958 503.278,4 -4,4\"/>\n<!-- EMPTY -->\n<g id=\"node1\" class=\"node\">\n<title>EMPTY</title>\n</g>\n<!-- Real_I -->\n<g id=\"node2\" class=\"node\">\n<title>Real_I</title>\n<ellipse fill=\"none\" stroke=\"#000000\" cx=\"126.0969\" cy=\"-92.3979\" rx=\"35.194\" ry=\"35.194\"/>\n<text text-anchor=\"middle\" x=\"126.0969\" y=\"-88.6979\" font-family=\"Times,serif\" font-size=\"14.00\" fill=\"#000000\">Real_I</text>\n</g>\n<!-- EMPTY&#45;&gt;Real_I -->\n<g id=\"edge1\" class=\"edge\">\n<title>EMPTY&#45;&gt;Real_I</title>\n<path fill=\"none\" stroke=\"#000000\" d=\"M54.0787,-92.3979C62.3227,-92.3979 71.6196,-92.3979 80.7269,-92.3979\"/>\n<polygon fill=\"#000000\" stroke=\"#000000\" points=\"80.8626,-95.898 90.8626,-92.3979 80.8625,-88.898 80.8626,-95.898\"/>\n</g>\n<!-- St2 -->\n<g id=\"node6\" class=\"node\">\n<title>St2</title>\n<ellipse fill=\"none\" stroke=\"#000000\" cx=\"232.5917\" cy=\"-92.3979\" rx=\"23.2963\" ry=\"23.2963\"/>\n<text text-anchor=\"middle\" x=\"232.5917\" y=\"-88.6979\" font-family=\"Times,serif\" font-size=\"14.00\" fill=\"#000000\">St2</text>\n</g>\n<!-- Real_I&#45;&gt;St2 -->\n<g id=\"edge6\" class=\"edge\">\n<title>Real_I&#45;&gt;St2</title>\n<path fill=\"none\" stroke=\"#000000\" d=\"M161.2624,-92.3979C173.352,-92.3979 186.8527,-92.3979 198.8282,-92.3979\"/>\n<polygon fill=\"#000000\" stroke=\"#000000\" points=\"198.8858,-95.898 208.8857,-92.3979 198.8857,-88.898 198.8858,-95.898\"/>\n<text text-anchor=\"middle\" x=\"185.1938\" y=\"-96.1979\" font-family=\"Times,serif\" font-size=\"14.00\" fill=\"#000000\">b </text>\n</g>\n<!-- St4 -->\n<g id=\"node3\" class=\"node\">\n<title>St4</title>\n<ellipse fill=\"none\" stroke=\"#000000\" cx=\"335.9371\" cy=\"-194.3979\" rx=\"23.2963\" ry=\"23.2963\"/>\n<text text-anchor=\"middle\" x=\"335.9371\" y=\"-190.6979\" font-family=\"Times,serif\" font-size=\"14.00\" fill=\"#000000\">St4</text>\n</g>\n<!-- Real_F -->\n<g id=\"node7\" class=\"node\">\n<title>Real_F</title>\n<ellipse fill=\"none\" stroke=\"#000000\" cx=\"457.5813\" cy=\"-92.3979\" rx=\"37.8753\" ry=\"37.8753\"/>\n<ellipse fill=\"none\" stroke=\"#000000\" cx=\"457.5813\" cy=\"-92.3979\" rx=\"41.8942\" ry=\"41.8942\"/>\n<text text-anchor=\"middle\" x=\"457.5813\" y=\"-88.6979\" font-family=\"Times,serif\" font-size=\"14.00\" fill=\"#000000\">Real_F</text>\n</g>\n<!-- St4&#45;&gt;Real_F -->\n<g id=\"edge9\" class=\"edge\">\n<title>St4&#45;&gt;Real_F</title>\n<path fill=\"none\" stroke=\"#000000\" d=\"M353.8862,-179.3475C370.6024,-165.3307 396.1097,-143.9426 417.6424,-125.8872\"/>\n<polygon fill=\"#000000\" stroke=\"#000000\" points=\"419.9582,-128.513 425.372,-119.4058 415.4605,-123.1491 419.9582,-128.513\"/>\n<text text-anchor=\"middle\" x=\"389.8847\" y=\"-159.1979\" font-family=\"Times,serif\" font-size=\"14.00\" fill=\"#000000\">&quot;&quot; </text>\n</g>\n<!-- St11 -->\n<g id=\"node4\" class=\"node\">\n<title>St11</title>\n<ellipse fill=\"none\" stroke=\"#000000\" cx=\"335.9371\" cy=\"-92.3979\" rx=\"27.8951\" ry=\"27.8951\"/>\n<text text-anchor=\"middle\" x=\"335.9371\" y=\"-88.6979\" font-family=\"Times,serif\" font-size=\"14.00\" fill=\"#000000\">St11</text>\n</g>\n<!-- St11&#45;&gt;St11 -->\n<g id=\"edge2\" class=\"edge\">\n<title>St11&#45;&gt;St11</title>\n<path fill=\"none\" stroke=\"#000000\" d=\"M326.2466,-118.8393C325.6992,-129.4442 328.9293,-138.3454 335.9371,-138.3454 340.536,-138.3454 343.508,-134.512 344.8531,-128.8793\"/>\n<polygon fill=\"#000000\" stroke=\"#000000\" points=\"348.348,-129.0789 345.6276,-118.8393 341.3687,-128.5404 348.348,-129.0789\"/>\n<text text-anchor=\"middle\" x=\"335.9371\" y=\"-142.1454\" font-family=\"Times,serif\" font-size=\"14.00\" fill=\"#000000\">b </text>\n</g>\n<!-- St11&#45;&gt;Real_F -->\n<g id=\"edge7\" class=\"edge\">\n<title>St11&#45;&gt;Real_F</title>\n<path fill=\"none\" stroke=\"#000000\" d=\"M364.1505,-92.3979C376.4626,-92.3979 391.3056,-92.3979 405.5001,-92.3979\"/>\n<polygon fill=\"#000000\" stroke=\"#000000\" points=\"405.6758,-95.898 415.6757,-92.3979 405.6757,-88.898 405.6758,-95.898\"/>\n<text text-anchor=\"middle\" x=\"389.8847\" y=\"-96.1979\" font-family=\"Times,serif\" font-size=\"14.00\" fill=\"#000000\">&quot;&quot; </text>\n</g>\n<!-- St6 -->\n<g id=\"node5\" class=\"node\">\n<title>St6</title>\n<ellipse fill=\"none\" stroke=\"#000000\" cx=\"335.9371\" cy=\"-23.3979\" rx=\"23.2963\" ry=\"23.2963\"/>\n<text text-anchor=\"middle\" x=\"335.9371\" y=\"-19.6979\" font-family=\"Times,serif\" font-size=\"14.00\" fill=\"#000000\">St6</text>\n</g>\n<!-- St6&#45;&gt;Real_F -->\n<g id=\"edge3\" class=\"edge\">\n<title>St6&#45;&gt;Real_F</title>\n<path fill=\"none\" stroke=\"#000000\" d=\"M356.2976,-34.947C371.4785,-43.558 392.8141,-55.6601 411.9906,-66.5376\"/>\n<polygon fill=\"#000000\" stroke=\"#000000\" points=\"410.4812,-69.7052 420.9062,-71.5948 413.9349,-63.6165 410.4812,-69.7052\"/>\n<text text-anchor=\"middle\" x=\"389.8847\" y=\"-61.1979\" font-family=\"Times,serif\" font-size=\"14.00\" fill=\"#000000\">b </text>\n</g>\n<!-- St2&#45;&gt;St4 -->\n<g id=\"edge5\" class=\"edge\">\n<title>St2&#45;&gt;St4</title>\n<path fill=\"none\" stroke=\"#000000\" d=\"M249.6571,-109.2411C266.6626,-126.0253 292.9232,-151.9439 312.0072,-170.7796\"/>\n<polygon fill=\"#000000\" stroke=\"#000000\" points=\"309.6134,-173.3345 319.1893,-177.8681 314.5306,-168.3524 309.6134,-173.3345\"/>\n<text text-anchor=\"middle\" x=\"281.9896\" y=\"-150.1979\" font-family=\"Times,serif\" font-size=\"14.00\" fill=\"#000000\">a </text>\n</g>\n<!-- St2&#45;&gt;St11 -->\n<g id=\"edge8\" class=\"edge\">\n<title>St2&#45;&gt;St11</title>\n<path fill=\"none\" stroke=\"#000000\" d=\"M256.0424,-92.3979C268.2861,-92.3979 283.5794,-92.3979 297.4988,-92.3979\"/>\n<polygon fill=\"#000000\" stroke=\"#000000\" points=\"297.8021,-95.898 307.8021,-92.3979 297.802,-88.898 297.8021,-95.898\"/>\n<text text-anchor=\"middle\" x=\"281.9896\" y=\"-96.1979\" font-family=\"Times,serif\" font-size=\"14.00\" fill=\"#000000\">&quot;&quot; </text>\n</g>\n<!-- St2&#45;&gt;St6 -->\n<g id=\"edge4\" class=\"edge\">\n<title>St2&#45;&gt;St6</title>\n<path fill=\"none\" stroke=\"#000000\" d=\"M252.5177,-79.094C268.2013,-68.6227 290.2555,-53.8979 307.7486,-42.2184\"/>\n<polygon fill=\"#000000\" stroke=\"#000000\" points=\"310.0495,-44.8906 316.4227,-36.427 306.1626,-39.0689 310.0495,-44.8906\"/>\n<text text-anchor=\"middle\" x=\"281.9896\" y=\"-67.1979\" font-family=\"Times,serif\" font-size=\"14.00\" fill=\"#000000\">a </text>\n</g>\n</g>\n</svg>\n"
          },
          "metadata": {},
          "execution_count": 87
        }
      ],
      "source": [
        "DO[7]"
      ]
    },
    {
      "cell_type": "code",
      "execution_count": 88,
      "metadata": {
        "id": "9uzljamf-MI7",
        "outputId": "215a0c8e-7b0b-4d93-c5d5-771700ea98cb",
        "colab": {
          "base_uri": "https://localhost:8080/",
          "height": 296
        }
      },
      "outputs": [
        {
          "output_type": "execute_result",
          "data": {
            "text/plain": [
              "<graphviz.dot.Digraph at 0x7f87f860ce10>"
            ],
            "image/svg+xml": "<?xml version=\"1.0\" encoding=\"UTF-8\" standalone=\"no\"?>\n<!DOCTYPE svg PUBLIC \"-//W3C//DTD SVG 1.1//EN\"\n \"http://www.w3.org/Graphics/SVG/1.1/DTD/svg11.dtd\">\n<!-- Generated by graphviz version 2.40.1 (20161225.0304)\n -->\n<!-- Title: %3 Pages: 1 -->\n<svg width=\"507pt\" height=\"191pt\"\n viewBox=\"0.00 0.00 507.28 190.65\" xmlns=\"http://www.w3.org/2000/svg\" xmlns:xlink=\"http://www.w3.org/1999/xlink\">\n<g id=\"graph0\" class=\"graph\" transform=\"scale(1 1) rotate(0) translate(4 186.6475)\">\n<title>%3</title>\n<polygon fill=\"#ffffff\" stroke=\"transparent\" points=\"-4,4 -4,-186.6475 503.278,-186.6475 503.278,4 -4,4\"/>\n<!-- EMPTY -->\n<g id=\"node1\" class=\"node\">\n<title>EMPTY</title>\n</g>\n<!-- Real_I -->\n<g id=\"node2\" class=\"node\">\n<title>Real_I</title>\n<ellipse fill=\"none\" stroke=\"#000000\" cx=\"126.0969\" cy=\"-57.2496\" rx=\"35.194\" ry=\"35.194\"/>\n<text text-anchor=\"middle\" x=\"126.0969\" y=\"-53.5496\" font-family=\"Times,serif\" font-size=\"14.00\" fill=\"#000000\">Real_I</text>\n</g>\n<!-- EMPTY&#45;&gt;Real_I -->\n<g id=\"edge1\" class=\"edge\">\n<title>EMPTY&#45;&gt;Real_I</title>\n<path fill=\"none\" stroke=\"#000000\" d=\"M54.0787,-57.2496C62.3227,-57.2496 71.6196,-57.2496 80.7269,-57.2496\"/>\n<polygon fill=\"#000000\" stroke=\"#000000\" points=\"80.8626,-60.7497 90.8626,-57.2496 80.8625,-53.7497 80.8626,-60.7497\"/>\n</g>\n<!-- St2 -->\n<g id=\"node5\" class=\"node\">\n<title>St2</title>\n<ellipse fill=\"none\" stroke=\"#000000\" cx=\"232.5917\" cy=\"-57.2496\" rx=\"23.2963\" ry=\"23.2963\"/>\n<text text-anchor=\"middle\" x=\"232.5917\" y=\"-53.5496\" font-family=\"Times,serif\" font-size=\"14.00\" fill=\"#000000\">St2</text>\n</g>\n<!-- Real_I&#45;&gt;St2 -->\n<g id=\"edge6\" class=\"edge\">\n<title>Real_I&#45;&gt;St2</title>\n<path fill=\"none\" stroke=\"#000000\" d=\"M161.2624,-57.2496C173.352,-57.2496 186.8527,-57.2496 198.8282,-57.2496\"/>\n<polygon fill=\"#000000\" stroke=\"#000000\" points=\"198.8858,-60.7497 208.8857,-57.2496 198.8857,-53.7497 198.8858,-60.7497\"/>\n<text text-anchor=\"middle\" x=\"185.1938\" y=\"-61.0496\" font-family=\"Times,serif\" font-size=\"14.00\" fill=\"#000000\">b </text>\n</g>\n<!-- St6 -->\n<g id=\"node3\" class=\"node\">\n<title>St6</title>\n<ellipse fill=\"none\" stroke=\"#000000\" cx=\"335.9371\" cy=\"-159.2496\" rx=\"23.2963\" ry=\"23.2963\"/>\n<text text-anchor=\"middle\" x=\"335.9371\" y=\"-155.5496\" font-family=\"Times,serif\" font-size=\"14.00\" fill=\"#000000\">St6</text>\n</g>\n<!-- Real_F -->\n<g id=\"node6\" class=\"node\">\n<title>Real_F</title>\n<ellipse fill=\"none\" stroke=\"#000000\" cx=\"457.5813\" cy=\"-57.2496\" rx=\"37.8753\" ry=\"37.8753\"/>\n<ellipse fill=\"none\" stroke=\"#000000\" cx=\"457.5813\" cy=\"-57.2496\" rx=\"41.8942\" ry=\"41.8942\"/>\n<text text-anchor=\"middle\" x=\"457.5813\" y=\"-53.5496\" font-family=\"Times,serif\" font-size=\"14.00\" fill=\"#000000\">Real_F</text>\n</g>\n<!-- St6&#45;&gt;Real_F -->\n<g id=\"edge5\" class=\"edge\">\n<title>St6&#45;&gt;Real_F</title>\n<path fill=\"none\" stroke=\"#000000\" d=\"M353.8862,-144.1991C370.6024,-130.1823 396.1097,-108.7942 417.6424,-90.7388\"/>\n<polygon fill=\"#000000\" stroke=\"#000000\" points=\"419.9582,-93.3646 425.372,-84.2574 415.4605,-88.0007 419.9582,-93.3646\"/>\n<text text-anchor=\"middle\" x=\"389.8847\" y=\"-124.0496\" font-family=\"Times,serif\" font-size=\"14.00\" fill=\"#000000\">b </text>\n</g>\n<!-- St11 -->\n<g id=\"node4\" class=\"node\">\n<title>St11</title>\n<ellipse fill=\"none\" stroke=\"#000000\" cx=\"335.9371\" cy=\"-57.2496\" rx=\"27.8951\" ry=\"27.8951\"/>\n<text text-anchor=\"middle\" x=\"335.9371\" y=\"-53.5496\" font-family=\"Times,serif\" font-size=\"14.00\" fill=\"#000000\">St11</text>\n</g>\n<!-- St11&#45;&gt;St11 -->\n<g id=\"edge4\" class=\"edge\">\n<title>St11&#45;&gt;St11</title>\n<path fill=\"none\" stroke=\"#000000\" d=\"M326.2466,-83.6909C325.6992,-94.2959 328.9293,-103.1971 335.9371,-103.1971 340.536,-103.1971 343.508,-99.3636 344.8531,-93.731\"/>\n<polygon fill=\"#000000\" stroke=\"#000000\" points=\"348.348,-93.9305 345.6276,-83.6909 341.3687,-93.392 348.348,-93.9305\"/>\n<text text-anchor=\"middle\" x=\"335.9371\" y=\"-106.9971\" font-family=\"Times,serif\" font-size=\"14.00\" fill=\"#000000\">b </text>\n</g>\n<!-- St11&#45;&gt;Real_F -->\n<g id=\"edge7\" class=\"edge\">\n<title>St11&#45;&gt;Real_F</title>\n<path fill=\"none\" stroke=\"#000000\" d=\"M364.1505,-57.2496C376.4626,-57.2496 391.3056,-57.2496 405.5001,-57.2496\"/>\n<polygon fill=\"#000000\" stroke=\"#000000\" points=\"405.6758,-60.7497 415.6757,-57.2496 405.6757,-53.7497 405.6758,-60.7497\"/>\n<text text-anchor=\"middle\" x=\"389.8847\" y=\"-61.0496\" font-family=\"Times,serif\" font-size=\"14.00\" fill=\"#000000\">&quot;&quot; </text>\n</g>\n<!-- St2&#45;&gt;St6 -->\n<g id=\"edge2\" class=\"edge\">\n<title>St2&#45;&gt;St6</title>\n<path fill=\"none\" stroke=\"#000000\" d=\"M249.6571,-74.0928C266.6626,-90.8769 292.9232,-116.7956 312.0072,-135.6312\"/>\n<polygon fill=\"#000000\" stroke=\"#000000\" points=\"309.6134,-138.1862 319.1893,-142.7197 314.5306,-133.2041 309.6134,-138.1862\"/>\n<text text-anchor=\"middle\" x=\"281.9896\" y=\"-115.0496\" font-family=\"Times,serif\" font-size=\"14.00\" fill=\"#000000\">a </text>\n</g>\n<!-- St2&#45;&gt;St11 -->\n<g id=\"edge8\" class=\"edge\">\n<title>St2&#45;&gt;St11</title>\n<path fill=\"none\" stroke=\"#000000\" d=\"M256.0424,-57.2496C268.2861,-57.2496 283.5794,-57.2496 297.4988,-57.2496\"/>\n<polygon fill=\"#000000\" stroke=\"#000000\" points=\"297.8021,-60.7497 307.8021,-57.2496 297.802,-53.7497 297.8021,-60.7497\"/>\n<text text-anchor=\"middle\" x=\"281.9896\" y=\"-61.0496\" font-family=\"Times,serif\" font-size=\"14.00\" fill=\"#000000\">&quot;&quot; </text>\n</g>\n<!-- St2&#45;&gt;Real_F -->\n<g id=\"edge3\" class=\"edge\">\n<title>St2&#45;&gt;Real_F</title>\n<path fill=\"none\" stroke=\"#000000\" d=\"M249.5296,-41.0296C263.8309,-28.5331 285.5201,-12.2465 307.9896,-5.2496 331.7085,2.1365 339.8353,.9766 363.8847,-5.2496 381.4995,-9.8099 399.331,-18.4757 414.6425,-27.4444\"/>\n<polygon fill=\"#000000\" stroke=\"#000000\" points=\"412.982,-30.5308 423.3458,-32.7312 416.6162,-24.5481 412.982,-30.5308\"/>\n<text text-anchor=\"middle\" x=\"335.9371\" y=\"-9.0496\" font-family=\"Times,serif\" font-size=\"14.00\" fill=\"#000000\">a </text>\n</g>\n</g>\n</svg>\n"
          },
          "metadata": {},
          "execution_count": 88
        }
      ],
      "source": [
        "DO[8]"
      ]
    },
    {
      "cell_type": "code",
      "execution_count": 89,
      "metadata": {
        "id": "pGDy8Ivq-MI7",
        "outputId": "f9795adc-8fa4-4ea4-8ef8-c70218ae304b",
        "colab": {
          "base_uri": "https://localhost:8080/",
          "height": 213
        }
      },
      "outputs": [
        {
          "output_type": "execute_result",
          "data": {
            "text/plain": [
              "<graphviz.dot.Digraph at 0x7f87f860f250>"
            ],
            "image/svg+xml": "<?xml version=\"1.0\" encoding=\"UTF-8\" standalone=\"no\"?>\n<!DOCTYPE svg PUBLIC \"-//W3C//DTD SVG 1.1//EN\"\n \"http://www.w3.org/Graphics/SVG/1.1/DTD/svg11.dtd\">\n<!-- Generated by graphviz version 2.40.1 (20161225.0304)\n -->\n<!-- Title: %3 Pages: 1 -->\n<svg width=\"500pt\" height=\"129pt\"\n viewBox=\"0.00 0.00 500.38 129.09\" xmlns=\"http://www.w3.org/2000/svg\" xmlns:xlink=\"http://www.w3.org/1999/xlink\">\n<g id=\"graph0\" class=\"graph\" transform=\"scale(1 1) rotate(0) translate(4 125.0946)\">\n<title>%3</title>\n<polygon fill=\"#ffffff\" stroke=\"transparent\" points=\"-4,4 -4,-125.0946 496.3829,-125.0946 496.3829,4 -4,4\"/>\n<!-- EMPTY -->\n<g id=\"node1\" class=\"node\">\n<title>EMPTY</title>\n</g>\n<!-- Real_I -->\n<g id=\"node2\" class=\"node\">\n<title>Real_I</title>\n<ellipse fill=\"none\" stroke=\"#000000\" cx=\"126.0969\" cy=\"-41.6967\" rx=\"35.194\" ry=\"35.194\"/>\n<text text-anchor=\"middle\" x=\"126.0969\" y=\"-37.9967\" font-family=\"Times,serif\" font-size=\"14.00\" fill=\"#000000\">Real_I</text>\n</g>\n<!-- EMPTY&#45;&gt;Real_I -->\n<g id=\"edge1\" class=\"edge\">\n<title>EMPTY&#45;&gt;Real_I</title>\n<path fill=\"none\" stroke=\"#000000\" d=\"M54.0787,-41.6967C62.3227,-41.6967 71.6196,-41.6967 80.7269,-41.6967\"/>\n<polygon fill=\"#000000\" stroke=\"#000000\" points=\"80.8626,-45.1968 90.8626,-41.6967 80.8625,-38.1968 80.8626,-45.1968\"/>\n</g>\n<!-- St2 -->\n<g id=\"node4\" class=\"node\">\n<title>St2</title>\n<ellipse fill=\"none\" stroke=\"#000000\" cx=\"232.5917\" cy=\"-41.6967\" rx=\"23.2963\" ry=\"23.2963\"/>\n<text text-anchor=\"middle\" x=\"232.5917\" y=\"-37.9967\" font-family=\"Times,serif\" font-size=\"14.00\" fill=\"#000000\">St2</text>\n</g>\n<!-- Real_I&#45;&gt;St2 -->\n<g id=\"edge6\" class=\"edge\">\n<title>Real_I&#45;&gt;St2</title>\n<path fill=\"none\" stroke=\"#000000\" d=\"M161.2624,-41.6967C173.352,-41.6967 186.8527,-41.6967 198.8282,-41.6967\"/>\n<polygon fill=\"#000000\" stroke=\"#000000\" points=\"198.8858,-45.1968 208.8857,-41.6967 198.8857,-38.1968 198.8858,-45.1968\"/>\n<text text-anchor=\"middle\" x=\"185.1938\" y=\"-45.4967\" font-family=\"Times,serif\" font-size=\"14.00\" fill=\"#000000\">b </text>\n</g>\n<!-- St6 -->\n<g id=\"node3\" class=\"node\">\n<title>St6</title>\n<ellipse fill=\"none\" stroke=\"#000000\" cx=\"331.4896\" cy=\"-97.6967\" rx=\"23.2963\" ry=\"23.2963\"/>\n<text text-anchor=\"middle\" x=\"331.4896\" y=\"-93.9967\" font-family=\"Times,serif\" font-size=\"14.00\" fill=\"#000000\">St6</text>\n</g>\n<!-- Real_F -->\n<g id=\"node5\" class=\"node\">\n<title>Real_F</title>\n<ellipse fill=\"none\" stroke=\"#000000\" cx=\"450.6863\" cy=\"-41.6967\" rx=\"37.8753\" ry=\"37.8753\"/>\n<ellipse fill=\"none\" stroke=\"#000000\" cx=\"450.6863\" cy=\"-41.6967\" rx=\"41.8942\" ry=\"41.8942\"/>\n<text text-anchor=\"middle\" x=\"450.6863\" y=\"-37.9967\" font-family=\"Times,serif\" font-size=\"14.00\" fill=\"#000000\">Real_F</text>\n</g>\n<!-- St6&#45;&gt;Real_F -->\n<g id=\"edge5\" class=\"edge\">\n<title>St6&#45;&gt;Real_F</title>\n<path fill=\"none\" stroke=\"#000000\" d=\"M352.7996,-87.685C366.8117,-81.1019 385.7204,-72.2184 403.1829,-64.0143\"/>\n<polygon fill=\"#000000\" stroke=\"#000000\" points=\"405.1326,-66.9654 412.6952,-59.5453 402.156,-60.6298 405.1326,-66.9654\"/>\n<text text-anchor=\"middle\" x=\"384.9896\" y=\"-78.4967\" font-family=\"Times,serif\" font-size=\"14.00\" fill=\"#000000\">b </text>\n</g>\n<!-- St2&#45;&gt;St6 -->\n<g id=\"edge3\" class=\"edge\">\n<title>St2&#45;&gt;St6</title>\n<path fill=\"none\" stroke=\"#000000\" d=\"M253.0834,-53.2999C267.272,-61.3341 286.3718,-72.1491 302.1677,-81.0934\"/>\n<polygon fill=\"#000000\" stroke=\"#000000\" points=\"300.5978,-84.2266 311.0242,-86.1083 304.0469,-78.1353 300.5978,-84.2266\"/>\n<text text-anchor=\"middle\" x=\"278.9896\" y=\"-73.4967\" font-family=\"Times,serif\" font-size=\"14.00\" fill=\"#000000\">a </text>\n</g>\n<!-- St2&#45;&gt;Real_F -->\n<g id=\"edge2\" class=\"edge\">\n<title>St2&#45;&gt;Real_F</title>\n<path fill=\"none\" stroke=\"#000000\" d=\"M256.3468,-41.6967C290.2488,-41.6967 353.3919,-41.6967 398.5052,-41.6967\"/>\n<polygon fill=\"#000000\" stroke=\"#000000\" points=\"398.697,-45.1968 408.697,-41.6967 398.697,-38.1968 398.697,-45.1968\"/>\n<text text-anchor=\"middle\" x=\"331.4896\" y=\"-45.4967\" font-family=\"Times,serif\" font-size=\"14.00\" fill=\"#000000\">((b)* + a) </text>\n</g>\n<!-- St2&#45;&gt;Real_F -->\n<g id=\"edge4\" class=\"edge\">\n<title>St2&#45;&gt;Real_F</title>\n<path fill=\"none\" stroke=\"#000000\" d=\"M254.7809,-33.9915C268.2508,-29.7258 285.8952,-24.86 301.9896,-22.6967 334.7532,-18.2926 371.6122,-22.9368 400.4362,-28.7343\"/>\n<polygon fill=\"#000000\" stroke=\"#000000\" points=\"399.7681,-32.1704 410.2765,-30.8201 401.2197,-25.3226 399.7681,-32.1704\"/>\n<text text-anchor=\"middle\" x=\"331.4896\" y=\"-26.4967\" font-family=\"Times,serif\" font-size=\"14.00\" fill=\"#000000\">a </text>\n</g>\n</g>\n</svg>\n"
          },
          "metadata": {},
          "execution_count": 89
        }
      ],
      "source": [
        "DO[9]"
      ]
    },
    {
      "cell_type": "code",
      "execution_count": 90,
      "metadata": {
        "id": "jaC_LOTd-MI8",
        "outputId": "a08ccdf9-a469-499a-f13b-9654d2e51775",
        "colab": {
          "base_uri": "https://localhost:8080/",
          "height": 163
        }
      },
      "outputs": [
        {
          "output_type": "execute_result",
          "data": {
            "text/plain": [
              "<graphviz.dot.Digraph at 0x7f87f860f690>"
            ],
            "image/svg+xml": "<?xml version=\"1.0\" encoding=\"UTF-8\" standalone=\"no\"?>\n<!DOCTYPE svg PUBLIC \"-//W3C//DTD SVG 1.1//EN\"\n \"http://www.w3.org/Graphics/SVG/1.1/DTD/svg11.dtd\">\n<!-- Generated by graphviz version 2.40.1 (20161225.0304)\n -->\n<!-- Title: %3 Pages: 1 -->\n<svg width=\"524pt\" height=\"91pt\"\n viewBox=\"0.00 0.00 524.38 91.39\" xmlns=\"http://www.w3.org/2000/svg\" xmlns:xlink=\"http://www.w3.org/1999/xlink\">\n<g id=\"graph0\" class=\"graph\" transform=\"scale(1 1) rotate(0) translate(4 87.3933)\">\n<title>%3</title>\n<polygon fill=\"#ffffff\" stroke=\"transparent\" points=\"-4,4 -4,-87.3933 520.3829,-87.3933 520.3829,4 -4,4\"/>\n<!-- EMPTY -->\n<g id=\"node1\" class=\"node\">\n<title>EMPTY</title>\n</g>\n<!-- Real_I -->\n<g id=\"node2\" class=\"node\">\n<title>Real_I</title>\n<ellipse fill=\"none\" stroke=\"#000000\" cx=\"126.0969\" cy=\"-41.6967\" rx=\"35.194\" ry=\"35.194\"/>\n<text text-anchor=\"middle\" x=\"126.0969\" y=\"-37.9967\" font-family=\"Times,serif\" font-size=\"14.00\" fill=\"#000000\">Real_I</text>\n</g>\n<!-- EMPTY&#45;&gt;Real_I -->\n<g id=\"edge1\" class=\"edge\">\n<title>EMPTY&#45;&gt;Real_I</title>\n<path fill=\"none\" stroke=\"#000000\" d=\"M54.0787,-41.6967C62.3227,-41.6967 71.6196,-41.6967 80.7269,-41.6967\"/>\n<polygon fill=\"#000000\" stroke=\"#000000\" points=\"80.8626,-45.1968 90.8626,-41.6967 80.8625,-38.1968 80.8626,-45.1968\"/>\n</g>\n<!-- St2 -->\n<g id=\"node3\" class=\"node\">\n<title>St2</title>\n<ellipse fill=\"none\" stroke=\"#000000\" cx=\"232.5917\" cy=\"-41.6967\" rx=\"23.2963\" ry=\"23.2963\"/>\n<text text-anchor=\"middle\" x=\"232.5917\" y=\"-37.9967\" font-family=\"Times,serif\" font-size=\"14.00\" fill=\"#000000\">St2</text>\n</g>\n<!-- Real_I&#45;&gt;St2 -->\n<g id=\"edge5\" class=\"edge\">\n<title>Real_I&#45;&gt;St2</title>\n<path fill=\"none\" stroke=\"#000000\" d=\"M161.2624,-41.6967C173.352,-41.6967 186.8527,-41.6967 198.8282,-41.6967\"/>\n<polygon fill=\"#000000\" stroke=\"#000000\" points=\"198.8858,-45.1968 208.8857,-41.6967 198.8857,-38.1968 198.8858,-45.1968\"/>\n<text text-anchor=\"middle\" x=\"185.1938\" y=\"-45.4967\" font-family=\"Times,serif\" font-size=\"14.00\" fill=\"#000000\">b </text>\n</g>\n<!-- Real_F -->\n<g id=\"node4\" class=\"node\">\n<title>Real_F</title>\n<ellipse fill=\"none\" stroke=\"#000000\" cx=\"474.6863\" cy=\"-41.6967\" rx=\"37.8753\" ry=\"37.8753\"/>\n<ellipse fill=\"none\" stroke=\"#000000\" cx=\"474.6863\" cy=\"-41.6967\" rx=\"41.8942\" ry=\"41.8942\"/>\n<text text-anchor=\"middle\" x=\"474.6863\" y=\"-37.9967\" font-family=\"Times,serif\" font-size=\"14.00\" fill=\"#000000\">Real_F</text>\n</g>\n<!-- St2&#45;&gt;Real_F -->\n<g id=\"edge2\" class=\"edge\">\n<title>St2&#45;&gt;Real_F</title>\n<path fill=\"none\" stroke=\"#000000\" d=\"M254.0655,-51.7182C260.3492,-54.1742 267.324,-56.4534 273.9896,-57.6967 335.5938,-69.1873 352.8594,-65.8784 414.9896,-57.6967 418.181,-57.2764 421.4442,-56.7349 424.7186,-56.1064\"/>\n<polygon fill=\"#000000\" stroke=\"#000000\" points=\"425.4772,-59.5233 434.5146,-53.9938 424.0014,-52.6806 425.4772,-59.5233\"/>\n<text text-anchor=\"middle\" x=\"344.4896\" y=\"-68.4967\" font-family=\"Times,serif\" font-size=\"14.00\" fill=\"#000000\">((a b) + (((b)* + a) + a)) </text>\n</g>\n<!-- St2&#45;&gt;Real_F -->\n<g id=\"edge3\" class=\"edge\">\n<title>St2&#45;&gt;Real_F</title>\n<path fill=\"none\" stroke=\"#000000\" d=\"M256.2191,-39.6881C262.0255,-39.2763 268.2286,-38.9051 273.9896,-38.6967 336.6153,-36.4305 352.3427,-37.1235 414.9896,-38.6967 417.5312,-38.7605 420.1331,-38.8396 422.7604,-38.9304\"/>\n<polygon fill=\"#000000\" stroke=\"#000000\" points=\"422.8168,-42.4352 432.9468,-39.3316 423.0923,-35.4407 422.8168,-42.4352\"/>\n<text text-anchor=\"middle\" x=\"344.4896\" y=\"-42.4967\" font-family=\"Times,serif\" font-size=\"14.00\" fill=\"#000000\">((b)* + a) </text>\n</g>\n<!-- St2&#45;&gt;Real_F -->\n<g id=\"edge4\" class=\"edge\">\n<title>St2&#45;&gt;Real_F</title>\n<path fill=\"none\" stroke=\"#000000\" d=\"M251.8656,-27.7174C258.5409,-23.6605 266.2879,-19.7677 273.9896,-17.6967 334.5064,-1.4232 353.4641,-5.792 414.9896,-17.6967 419.061,-18.4844 423.2071,-19.5485 427.3204,-20.7921\"/>\n<polygon fill=\"#000000\" stroke=\"#000000\" points=\"426.2145,-24.1127 436.8085,-23.9741 428.4404,-17.476 426.2145,-24.1127\"/>\n<text text-anchor=\"middle\" x=\"344.4896\" y=\"-21.4967\" font-family=\"Times,serif\" font-size=\"14.00\" fill=\"#000000\">a </text>\n</g>\n</g>\n</svg>\n"
          },
          "metadata": {},
          "execution_count": 90
        }
      ],
      "source": [
        "DO[10]"
      ]
    },
    {
      "cell_type": "code",
      "execution_count": 91,
      "metadata": {
        "id": "t07BNI-M-MI8",
        "outputId": "4e143bf1-d120-48d5-de06-3fe1e33544c5",
        "colab": {
          "base_uri": "https://localhost:8080/",
          "height": 163
        }
      },
      "outputs": [
        {
          "output_type": "execute_result",
          "data": {
            "text/plain": [
              "<graphviz.dot.Digraph at 0x7f87f860fc10>"
            ],
            "image/svg+xml": "<?xml version=\"1.0\" encoding=\"UTF-8\" standalone=\"no\"?>\n<!DOCTYPE svg PUBLIC \"-//W3C//DTD SVG 1.1//EN\"\n \"http://www.w3.org/Graphics/SVG/1.1/DTD/svg11.dtd\">\n<!-- Generated by graphviz version 2.40.1 (20161225.0304)\n -->\n<!-- Title: %3 Pages: 1 -->\n<svg width=\"560pt\" height=\"91pt\"\n viewBox=\"0.00 0.00 559.59 91.39\" xmlns=\"http://www.w3.org/2000/svg\" xmlns:xlink=\"http://www.w3.org/1999/xlink\">\n<g id=\"graph0\" class=\"graph\" transform=\"scale(1 1) rotate(0) translate(4 87.3933)\">\n<title>%3</title>\n<polygon fill=\"#ffffff\" stroke=\"transparent\" points=\"-4,4 -4,-87.3933 555.5871,-87.3933 555.5871,4 -4,4\"/>\n<!-- EMPTY -->\n<g id=\"node1\" class=\"node\">\n<title>EMPTY</title>\n</g>\n<!-- Real_I -->\n<g id=\"node2\" class=\"node\">\n<title>Real_I</title>\n<ellipse fill=\"none\" stroke=\"#000000\" cx=\"126.0969\" cy=\"-41.6967\" rx=\"35.194\" ry=\"35.194\"/>\n<text text-anchor=\"middle\" x=\"126.0969\" y=\"-37.9967\" font-family=\"Times,serif\" font-size=\"14.00\" fill=\"#000000\">Real_I</text>\n</g>\n<!-- EMPTY&#45;&gt;Real_I -->\n<g id=\"edge1\" class=\"edge\">\n<title>EMPTY&#45;&gt;Real_I</title>\n<path fill=\"none\" stroke=\"#000000\" d=\"M54.0787,-41.6967C62.3227,-41.6967 71.6196,-41.6967 80.7269,-41.6967\"/>\n<polygon fill=\"#000000\" stroke=\"#000000\" points=\"80.8626,-45.1968 90.8626,-41.6967 80.8625,-38.1968 80.8626,-45.1968\"/>\n</g>\n<!-- Real_F -->\n<g id=\"node3\" class=\"node\">\n<title>Real_F</title>\n<ellipse fill=\"none\" stroke=\"#000000\" cx=\"509.8904\" cy=\"-41.6967\" rx=\"37.8753\" ry=\"37.8753\"/>\n<ellipse fill=\"none\" stroke=\"#000000\" cx=\"509.8904\" cy=\"-41.6967\" rx=\"41.8942\" ry=\"41.8942\"/>\n<text text-anchor=\"middle\" x=\"509.8904\" y=\"-37.9967\" font-family=\"Times,serif\" font-size=\"14.00\" fill=\"#000000\">Real_F</text>\n</g>\n<!-- Real_I&#45;&gt;Real_F -->\n<g id=\"edge2\" class=\"edge\">\n<title>Real_I&#45;&gt;Real_F</title>\n<path fill=\"none\" stroke=\"#000000\" d=\"M161.5153,-41.6967C229.4456,-41.6967 378.3226,-41.6967 457.6728,-41.6967\"/>\n<polygon fill=\"#000000\" stroke=\"#000000\" points=\"457.9267,-45.1968 467.9267,-41.6967 457.9266,-38.1968 457.9267,-45.1968\"/>\n<text text-anchor=\"middle\" x=\"314.6938\" y=\"-45.4967\" font-family=\"Times,serif\" font-size=\"14.00\" fill=\"#000000\">(b (((a b) + (((b)* + a) + a)) + (((b)* + a) + a))) </text>\n</g>\n</g>\n</svg>\n"
          },
          "metadata": {},
          "execution_count": 91
        }
      ],
      "source": [
        "DO[11]"
      ]
    },
    {
      "cell_type": "code",
      "execution_count": 92,
      "metadata": {
        "id": "MhMyUgh4-MI8",
        "outputId": "7643d8c6-9592-40fe-c3db-d78d1a73492e",
        "colab": {
          "base_uri": "https://localhost:8080/",
          "height": 35
        }
      },
      "outputs": [
        {
          "output_type": "execute_result",
          "data": {
            "text/plain": [
              "'(b (((a b) + (((b)* + a) + a)) + (((b)* + a) + a)))'"
            ],
            "application/vnd.google.colaboratory.intrinsic+json": {
              "type": "string"
            }
          },
          "metadata": {},
          "execution_count": 92
        }
      ],
      "source": [
        "REfin"
      ]
    },
    {
      "cell_type": "code",
      "source": [
        "DO[1]"
      ],
      "metadata": {
        "id": "PUsw7dN9_L1r",
        "outputId": "fcb56d07-c66d-4ec3-a5c8-b1f283062b76",
        "colab": {
          "base_uri": "https://localhost:8080/",
          "height": 353
        }
      },
      "execution_count": 93,
      "outputs": [
        {
          "output_type": "execute_result",
          "data": {
            "text/plain": [
              "<graphviz.dot.Digraph at 0x7f87f8675610>"
            ],
            "image/svg+xml": "<?xml version=\"1.0\" encoding=\"UTF-8\" standalone=\"no\"?>\n<!DOCTYPE svg PUBLIC \"-//W3C//DTD SVG 1.1//EN\"\n \"http://www.w3.org/Graphics/SVG/1.1/DTD/svg11.dtd\">\n<!-- Generated by graphviz version 2.40.1 (20161225.0304)\n -->\n<!-- Title: %3 Pages: 1 -->\n<svg width=\"872pt\" height=\"234pt\"\n viewBox=\"0.00 0.00 871.66 234.01\" xmlns=\"http://www.w3.org/2000/svg\" xmlns:xlink=\"http://www.w3.org/1999/xlink\">\n<g id=\"graph0\" class=\"graph\" transform=\"scale(1 1) rotate(0) translate(4 230.0054)\">\n<title>%3</title>\n<polygon fill=\"#ffffff\" stroke=\"transparent\" points=\"-4,4 -4,-230.0054 867.6563,-230.0054 867.6563,4 -4,4\"/>\n<!-- EMPTY -->\n<g id=\"node1\" class=\"node\">\n<title>EMPTY</title>\n</g>\n<!-- Real_I -->\n<g id=\"node2\" class=\"node\">\n<title>Real_I</title>\n<ellipse fill=\"none\" stroke=\"#000000\" cx=\"126.0969\" cy=\"-146.6074\" rx=\"35.194\" ry=\"35.194\"/>\n<text text-anchor=\"middle\" x=\"126.0969\" y=\"-142.9074\" font-family=\"Times,serif\" font-size=\"14.00\" fill=\"#000000\">Real_I</text>\n</g>\n<!-- EMPTY&#45;&gt;Real_I -->\n<g id=\"edge1\" class=\"edge\">\n<title>EMPTY&#45;&gt;Real_I</title>\n<path fill=\"none\" stroke=\"#000000\" d=\"M54.0787,-146.6074C62.3227,-146.6074 71.6196,-146.6074 80.7269,-146.6074\"/>\n<polygon fill=\"#000000\" stroke=\"#000000\" points=\"80.8626,-150.1075 90.8626,-146.6074 80.8625,-143.1075 80.8626,-150.1075\"/>\n</g>\n<!-- St1 -->\n<g id=\"node5\" class=\"node\">\n<title>St1</title>\n<ellipse fill=\"none\" stroke=\"#000000\" cx=\"236.5917\" cy=\"-146.6074\" rx=\"23.2963\" ry=\"23.2963\"/>\n<text text-anchor=\"middle\" x=\"236.5917\" y=\"-142.9074\" font-family=\"Times,serif\" font-size=\"14.00\" fill=\"#000000\">St1</text>\n</g>\n<!-- Real_I&#45;&gt;St1 -->\n<g id=\"edge14\" class=\"edge\">\n<title>Real_I&#45;&gt;St1</title>\n<path fill=\"none\" stroke=\"#000000\" d=\"M161.3619,-146.6074C174.7179,-146.6074 189.8746,-146.6074 203.0662,-146.6074\"/>\n<polygon fill=\"#000000\" stroke=\"#000000\" points=\"203.1523,-150.1075 213.1523,-146.6074 203.1522,-143.1075 203.1523,-150.1075\"/>\n<text text-anchor=\"middle\" x=\"187.1938\" y=\"-150.4074\" font-family=\"Times,serif\" font-size=\"14.00\" fill=\"#000000\">&quot;&quot; </text>\n</g>\n<!-- St5 -->\n<g id=\"node3\" class=\"node\">\n<title>St5</title>\n<ellipse fill=\"none\" stroke=\"#000000\" cx=\"434.733\" cy=\"-198.6074\" rx=\"23.2963\" ry=\"23.2963\"/>\n<text text-anchor=\"middle\" x=\"434.733\" y=\"-194.9074\" font-family=\"Times,serif\" font-size=\"14.00\" fill=\"#000000\">St5</text>\n</g>\n<!-- St6 -->\n<g id=\"node11\" class=\"node\">\n<title>St6</title>\n<ellipse fill=\"none\" stroke=\"#000000\" cx=\"568.8743\" cy=\"-202.6074\" rx=\"23.2963\" ry=\"23.2963\"/>\n<text text-anchor=\"middle\" x=\"568.8743\" y=\"-198.9074\" font-family=\"Times,serif\" font-size=\"14.00\" fill=\"#000000\">St6</text>\n</g>\n<!-- St5&#45;&gt;St6 -->\n<g id=\"edge5\" class=\"edge\">\n<title>St5&#45;&gt;St6</title>\n<path fill=\"none\" stroke=\"#000000\" d=\"M458.406,-199.3134C479.7648,-199.9503 511.4138,-200.894 535.3676,-201.6083\"/>\n<polygon fill=\"#000000\" stroke=\"#000000\" points=\"535.338,-205.1089 545.4379,-201.9086 535.5467,-198.112 535.338,-205.1089\"/>\n<text text-anchor=\"middle\" x=\"504.0784\" y=\"-204.4074\" font-family=\"Times,serif\" font-size=\"14.00\" fill=\"#000000\">a </text>\n</g>\n<!-- St10 -->\n<g id=\"node4\" class=\"node\">\n<title>St10</title>\n<ellipse fill=\"none\" stroke=\"#000000\" cx=\"703.6655\" cy=\"-62.6074\" rx=\"28.6953\" ry=\"28.6953\"/>\n<text text-anchor=\"middle\" x=\"703.6655\" y=\"-58.9074\" font-family=\"Times,serif\" font-size=\"14.00\" fill=\"#000000\">St10</text>\n</g>\n<!-- St11 -->\n<g id=\"node10\" class=\"node\">\n<title>St11</title>\n<ellipse fill=\"none\" stroke=\"#000000\" cx=\"434.733\" cy=\"-71.6074\" rx=\"27.8951\" ry=\"27.8951\"/>\n<text text-anchor=\"middle\" x=\"434.733\" y=\"-67.9074\" font-family=\"Times,serif\" font-size=\"14.00\" fill=\"#000000\">St11</text>\n</g>\n<!-- St10&#45;&gt;St11 -->\n<g id=\"edge10\" class=\"edge\">\n<title>St10&#45;&gt;St11</title>\n<path fill=\"none\" stroke=\"#000000\" d=\"M675.7048,-69.391C669.5953,-70.6534 663.1401,-71.8208 657.0681,-72.6074 649.3488,-73.6075 528.1266,-82.2009 480.6805,-78.6074 477.9826,-78.4031 475.2031,-78.1322 472.4098,-77.8157\"/>\n<polygon fill=\"#000000\" stroke=\"#000000\" points=\"472.7223,-74.3269 462.3543,-76.5071 471.819,-81.2684 472.7223,-74.3269\"/>\n<text text-anchor=\"middle\" x=\"568.8743\" y=\"-83.4074\" font-family=\"Times,serif\" font-size=\"14.00\" fill=\"#000000\">&quot;&quot; </text>\n</g>\n<!-- St2 -->\n<g id=\"node12\" class=\"node\">\n<title>St2</title>\n<ellipse fill=\"none\" stroke=\"#000000\" cx=\"331.3875\" cy=\"-146.6074\" rx=\"23.2963\" ry=\"23.2963\"/>\n<text text-anchor=\"middle\" x=\"331.3875\" y=\"-142.9074\" font-family=\"Times,serif\" font-size=\"14.00\" fill=\"#000000\">St2</text>\n</g>\n<!-- St1&#45;&gt;St2 -->\n<g id=\"edge3\" class=\"edge\">\n<title>St1&#45;&gt;St2</title>\n<path fill=\"none\" stroke=\"#000000\" d=\"M260.0244,-146.6074C271.4183,-146.6074 285.3194,-146.6074 297.8155,-146.6074\"/>\n<polygon fill=\"#000000\" stroke=\"#000000\" points=\"297.8959,-150.1075 307.8959,-146.6074 297.8959,-143.1075 297.8959,-150.1075\"/>\n<text text-anchor=\"middle\" x=\"283.9896\" y=\"-150.4074\" font-family=\"Times,serif\" font-size=\"14.00\" fill=\"#000000\">b </text>\n</g>\n<!-- St3 -->\n<g id=\"node6\" class=\"node\">\n<title>St3</title>\n<ellipse fill=\"none\" stroke=\"#000000\" cx=\"504.0784\" cy=\"-146.6074\" rx=\"23.2963\" ry=\"23.2963\"/>\n<text text-anchor=\"middle\" x=\"504.0784\" y=\"-142.9074\" font-family=\"Times,serif\" font-size=\"14.00\" fill=\"#000000\">St3</text>\n</g>\n<!-- St4 -->\n<g id=\"node9\" class=\"node\">\n<title>St4</title>\n<ellipse fill=\"none\" stroke=\"#000000\" cx=\"633.6701\" cy=\"-146.6074\" rx=\"23.2963\" ry=\"23.2963\"/>\n<text text-anchor=\"middle\" x=\"633.6701\" y=\"-142.9074\" font-family=\"Times,serif\" font-size=\"14.00\" fill=\"#000000\">St4</text>\n</g>\n<!-- St3&#45;&gt;St4 -->\n<g id=\"edge4\" class=\"edge\">\n<title>St3&#45;&gt;St4</title>\n<path fill=\"none\" stroke=\"#000000\" d=\"M527.5465,-146.6074C547.6959,-146.6074 576.9962,-146.6074 599.7069,-146.6074\"/>\n<polygon fill=\"#000000\" stroke=\"#000000\" points=\"599.9388,-150.1075 609.9387,-146.6074 599.9387,-143.1075 599.9388,-150.1075\"/>\n<text text-anchor=\"middle\" x=\"568.8743\" y=\"-150.4074\" font-family=\"Times,serif\" font-size=\"14.00\" fill=\"#000000\">a </text>\n</g>\n<!-- St7 -->\n<g id=\"node7\" class=\"node\">\n<title>St7</title>\n<ellipse fill=\"none\" stroke=\"#000000\" cx=\"703.6655\" cy=\"-202.6074\" rx=\"23.2963\" ry=\"23.2963\"/>\n<text text-anchor=\"middle\" x=\"703.6655\" y=\"-198.9074\" font-family=\"Times,serif\" font-size=\"14.00\" fill=\"#000000\">St7</text>\n</g>\n<!-- Real_F -->\n<g id=\"node13\" class=\"node\">\n<title>Real_F</title>\n<ellipse fill=\"none\" stroke=\"#000000\" cx=\"821.9596\" cy=\"-146.6074\" rx=\"37.8753\" ry=\"37.8753\"/>\n<ellipse fill=\"none\" stroke=\"#000000\" cx=\"821.9596\" cy=\"-146.6074\" rx=\"41.8942\" ry=\"41.8942\"/>\n<text text-anchor=\"middle\" x=\"821.9596\" y=\"-142.9074\" font-family=\"Times,serif\" font-size=\"14.00\" fill=\"#000000\">Real_F</text>\n</g>\n<!-- St7&#45;&gt;Real_F -->\n<g id=\"edge2\" class=\"edge\">\n<title>St7&#45;&gt;Real_F</title>\n<path fill=\"none\" stroke=\"#000000\" d=\"M724.8141,-192.5958C738.7201,-186.0127 757.4856,-177.1292 774.8159,-168.9251\"/>\n<polygon fill=\"#000000\" stroke=\"#000000\" points=\"776.7154,-171.8983 784.2563,-164.4561 773.7203,-165.5714 776.7154,-171.8983\"/>\n<text text-anchor=\"middle\" x=\"756.263\" y=\"-183.4074\" font-family=\"Times,serif\" font-size=\"14.00\" fill=\"#000000\">b </text>\n</g>\n<!-- St9 -->\n<g id=\"node8\" class=\"node\">\n<title>St9</title>\n<ellipse fill=\"none\" stroke=\"#000000\" cx=\"568.8743\" cy=\"-36.6074\" rx=\"23.2963\" ry=\"23.2963\"/>\n<text text-anchor=\"middle\" x=\"568.8743\" y=\"-32.9074\" font-family=\"Times,serif\" font-size=\"14.00\" fill=\"#000000\">St9</text>\n</g>\n<!-- St9&#45;&gt;St10 -->\n<g id=\"edge9\" class=\"edge\">\n<title>St9&#45;&gt;St10</title>\n<path fill=\"none\" stroke=\"#000000\" d=\"M592.0457,-41.077C612.1096,-44.9471 641.5357,-50.6232 665.1378,-55.1758\"/>\n<polygon fill=\"#000000\" stroke=\"#000000\" points=\"664.7021,-58.6562 675.184,-57.1136 666.0279,-51.7829 664.7021,-58.6562\"/>\n<text text-anchor=\"middle\" x=\"633.6701\" y=\"-57.4074\" font-family=\"Times,serif\" font-size=\"14.00\" fill=\"#000000\">b </text>\n</g>\n<!-- St4&#45;&gt;Real_F -->\n<g id=\"edge15\" class=\"edge\">\n<title>St4&#45;&gt;Real_F</title>\n<path fill=\"none\" stroke=\"#000000\" d=\"M657.1364,-146.6074C685.251,-146.6074 733.183,-146.6074 770.1329,-146.6074\"/>\n<polygon fill=\"#000000\" stroke=\"#000000\" points=\"770.2378,-150.1075 780.2378,-146.6074 770.2378,-143.1075 770.2378,-150.1075\"/>\n<text text-anchor=\"middle\" x=\"703.6655\" y=\"-150.4074\" font-family=\"Times,serif\" font-size=\"14.00\" fill=\"#000000\">&quot;&quot; </text>\n</g>\n<!-- St11&#45;&gt;St9 -->\n<g id=\"edge7\" class=\"edge\">\n<title>St11&#45;&gt;St9</title>\n<path fill=\"none\" stroke=\"#000000\" d=\"M461.8785,-64.5247C483.3882,-58.9124 513.5116,-51.0526 536.3172,-45.1022\"/>\n<polygon fill=\"#000000\" stroke=\"#000000\" points=\"537.431,-48.4289 546.2234,-42.5175 535.6636,-41.6556 537.431,-48.4289\"/>\n<text text-anchor=\"middle\" x=\"504.0784\" y=\"-63.4074\" font-family=\"Times,serif\" font-size=\"14.00\" fill=\"#000000\">&quot;&quot; </text>\n</g>\n<!-- St11&#45;&gt;Real_F -->\n<g id=\"edge8\" class=\"edge\">\n<title>St11&#45;&gt;Real_F</title>\n<path fill=\"none\" stroke=\"#000000\" d=\"M456.3627,-53.5505C477.5411,-37.139 511.4941,-14.0872 545.4764,-4.6074 595.2923,9.2893 711.5698,-12.2212 732.263,-24.6074 761.6487,-42.1967 784.3545,-73.4774 799.5693,-99.9599\"/>\n<polygon fill=\"#000000\" stroke=\"#000000\" points=\"796.5254,-101.6878 804.4408,-108.7303 802.6448,-98.2888 796.5254,-101.6878\"/>\n<text text-anchor=\"middle\" x=\"633.6701\" y=\"-10.4074\" font-family=\"Times,serif\" font-size=\"14.00\" fill=\"#000000\">&quot;&quot; </text>\n</g>\n<!-- St6&#45;&gt;St7 -->\n<g id=\"edge6\" class=\"edge\">\n<title>St6&#45;&gt;St7</title>\n<path fill=\"none\" stroke=\"#000000\" d=\"M592.3531,-202.6074C613.7726,-202.6074 645.6746,-202.6074 669.8417,-202.6074\"/>\n<polygon fill=\"#000000\" stroke=\"#000000\" points=\"670.0035,-206.1075 680.0035,-202.6074 670.0034,-199.1075 670.0035,-206.1075\"/>\n<text text-anchor=\"middle\" x=\"633.6701\" y=\"-206.4074\" font-family=\"Times,serif\" font-size=\"14.00\" fill=\"#000000\">&quot;&quot; </text>\n</g>\n<!-- St2&#45;&gt;St5 -->\n<g id=\"edge12\" class=\"edge\">\n<title>St2&#45;&gt;St5</title>\n<path fill=\"none\" stroke=\"#000000\" d=\"M352.301,-157.1304C367.1908,-164.6224 387.438,-174.8102 404.1394,-183.2138\"/>\n<polygon fill=\"#000000\" stroke=\"#000000\" points=\"402.9898,-186.5534 413.4959,-187.9216 406.1361,-180.3003 402.9898,-186.5534\"/>\n<text text-anchor=\"middle\" x=\"380.7855\" y=\"-177.4074\" font-family=\"Times,serif\" font-size=\"14.00\" fill=\"#000000\">&quot;&quot; </text>\n</g>\n<!-- St2&#45;&gt;St3 -->\n<g id=\"edge11\" class=\"edge\">\n<title>St2&#45;&gt;St3</title>\n<path fill=\"none\" stroke=\"#000000\" d=\"M355.0374,-146.6074C384.7946,-146.6074 436.1061,-146.6074 470.0696,-146.6074\"/>\n<polygon fill=\"#000000\" stroke=\"#000000\" points=\"470.4378,-150.1075 480.4378,-146.6074 470.4377,-143.1075 470.4378,-150.1075\"/>\n<text text-anchor=\"middle\" x=\"380.7855\" y=\"-150.4074\" font-family=\"Times,serif\" font-size=\"14.00\" fill=\"#000000\">&quot;&quot; </text>\n</g>\n<!-- St2&#45;&gt;St11 -->\n<g id=\"edge13\" class=\"edge\">\n<title>St2&#45;&gt;St11</title>\n<path fill=\"none\" stroke=\"#000000\" d=\"M348.5244,-130.0389C355.7611,-123.3792 364.4339,-115.8229 372.7855,-109.6074 381.7597,-102.9286 391.9484,-96.3179 401.4339,-90.5292\"/>\n<polygon fill=\"#000000\" stroke=\"#000000\" points=\"403.4649,-93.3928 410.2502,-85.2558 399.8716,-87.3854 403.4649,-93.3928\"/>\n<text text-anchor=\"middle\" x=\"380.7855\" y=\"-113.4074\" font-family=\"Times,serif\" font-size=\"14.00\" fill=\"#000000\">&quot;&quot; </text>\n</g>\n</g>\n</svg>\n"
          },
          "metadata": {},
          "execution_count": 93
        }
      ]
    },
    {
      "cell_type": "code",
      "source": [
        "DO[2]"
      ],
      "metadata": {
        "id": "dsMjN6ElAFhf",
        "outputId": "b245c28f-4c81-4622-cbd0-b3d9acd63c7c",
        "colab": {
          "base_uri": "https://localhost:8080/",
          "height": 409
        }
      },
      "execution_count": 94,
      "outputs": [
        {
          "output_type": "execute_result",
          "data": {
            "text/plain": [
              "<graphviz.dot.Digraph at 0x7f87f85f8bd0>"
            ],
            "image/svg+xml": "<?xml version=\"1.0\" encoding=\"UTF-8\" standalone=\"no\"?>\n<!DOCTYPE svg PUBLIC \"-//W3C//DTD SVG 1.1//EN\"\n \"http://www.w3.org/Graphics/SVG/1.1/DTD/svg11.dtd\">\n<!-- Generated by graphviz version 2.40.1 (20161225.0304)\n -->\n<!-- Title: %3 Pages: 1 -->\n<svg width=\"705pt\" height=\"276pt\"\n viewBox=\"0.00 0.00 704.87 276.00\" xmlns=\"http://www.w3.org/2000/svg\" xmlns:xlink=\"http://www.w3.org/1999/xlink\">\n<g id=\"graph0\" class=\"graph\" transform=\"scale(1 1) rotate(0) translate(4 271.9954)\">\n<title>%3</title>\n<polygon fill=\"#ffffff\" stroke=\"transparent\" points=\"-4,4 -4,-271.9954 700.8697,-271.9954 700.8697,4 -4,4\"/>\n<!-- EMPTY -->\n<g id=\"node1\" class=\"node\">\n<title>EMPTY</title>\n</g>\n<!-- Real_I -->\n<g id=\"node2\" class=\"node\">\n<title>Real_I</title>\n<ellipse fill=\"none\" stroke=\"#000000\" cx=\"126.0969\" cy=\"-88.3979\" rx=\"35.194\" ry=\"35.194\"/>\n<text text-anchor=\"middle\" x=\"126.0969\" y=\"-84.6979\" font-family=\"Times,serif\" font-size=\"14.00\" fill=\"#000000\">Real_I</text>\n</g>\n<!-- EMPTY&#45;&gt;Real_I -->\n<g id=\"edge1\" class=\"edge\">\n<title>EMPTY&#45;&gt;Real_I</title>\n<path fill=\"none\" stroke=\"#000000\" d=\"M54.0787,-88.3979C62.3227,-88.3979 71.6196,-88.3979 80.7269,-88.3979\"/>\n<polygon fill=\"#000000\" stroke=\"#000000\" points=\"80.8626,-91.898 90.8626,-88.3979 80.8625,-84.898 80.8626,-91.898\"/>\n</g>\n<!-- St1 -->\n<g id=\"node4\" class=\"node\">\n<title>St1</title>\n<ellipse fill=\"none\" stroke=\"#000000\" cx=\"236.5917\" cy=\"-88.3979\" rx=\"23.2963\" ry=\"23.2963\"/>\n<text text-anchor=\"middle\" x=\"236.5917\" y=\"-84.6979\" font-family=\"Times,serif\" font-size=\"14.00\" fill=\"#000000\">St1</text>\n</g>\n<!-- Real_I&#45;&gt;St1 -->\n<g id=\"edge13\" class=\"edge\">\n<title>Real_I&#45;&gt;St1</title>\n<path fill=\"none\" stroke=\"#000000\" d=\"M161.3619,-88.3979C174.7179,-88.3979 189.8746,-88.3979 203.0662,-88.3979\"/>\n<polygon fill=\"#000000\" stroke=\"#000000\" points=\"203.1523,-91.898 213.1523,-88.3979 203.1522,-84.898 203.1523,-91.898\"/>\n<text text-anchor=\"middle\" x=\"187.1938\" y=\"-92.1979\" font-family=\"Times,serif\" font-size=\"14.00\" fill=\"#000000\">&quot;&quot; </text>\n</g>\n<!-- St10 -->\n<g id=\"node3\" class=\"node\">\n<title>St10</title>\n<ellipse fill=\"none\" stroke=\"#000000\" cx=\"655.173\" cy=\"-239.3979\" rx=\"28.6953\" ry=\"28.6953\"/>\n<text text-anchor=\"middle\" x=\"655.173\" y=\"-235.6979\" font-family=\"Times,serif\" font-size=\"14.00\" fill=\"#000000\">St10</text>\n</g>\n<!-- St11 -->\n<g id=\"node9\" class=\"node\">\n<title>St11</title>\n<ellipse fill=\"none\" stroke=\"#000000\" cx=\"434.733\" cy=\"-178.3979\" rx=\"27.8951\" ry=\"27.8951\"/>\n<text text-anchor=\"middle\" x=\"434.733\" y=\"-174.6979\" font-family=\"Times,serif\" font-size=\"14.00\" fill=\"#000000\">St11</text>\n</g>\n<!-- St10&#45;&gt;St11 -->\n<g id=\"edge10\" class=\"edge\">\n<title>St10&#45;&gt;St11</title>\n<path fill=\"none\" stroke=\"#000000\" d=\"M626.8423,-243.4206C597.8281,-246.441 551.8404,-248.1454 514.6805,-235.3979 495.6757,-228.8784 477.2235,-216.2792 462.8438,-204.5806\"/>\n<polygon fill=\"#000000\" stroke=\"#000000\" points=\"464.7726,-201.6283 454.8745,-197.8496 460.2557,-206.9761 464.7726,-201.6283\"/>\n<text text-anchor=\"middle\" x=\"538.0784\" y=\"-248.1979\" font-family=\"Times,serif\" font-size=\"14.00\" fill=\"#000000\">&quot;&quot; </text>\n</g>\n<!-- St2 -->\n<g id=\"node11\" class=\"node\">\n<title>St2</title>\n<ellipse fill=\"none\" stroke=\"#000000\" cx=\"331.3875\" cy=\"-88.3979\" rx=\"23.2963\" ry=\"23.2963\"/>\n<text text-anchor=\"middle\" x=\"331.3875\" y=\"-84.6979\" font-family=\"Times,serif\" font-size=\"14.00\" fill=\"#000000\">St2</text>\n</g>\n<!-- St1&#45;&gt;St2 -->\n<g id=\"edge4\" class=\"edge\">\n<title>St1&#45;&gt;St2</title>\n<path fill=\"none\" stroke=\"#000000\" d=\"M260.0244,-88.3979C271.4183,-88.3979 285.3194,-88.3979 297.8155,-88.3979\"/>\n<polygon fill=\"#000000\" stroke=\"#000000\" points=\"297.8959,-91.898 307.8959,-88.3979 297.8959,-84.898 297.8959,-91.898\"/>\n<text text-anchor=\"middle\" x=\"283.9896\" y=\"-92.1979\" font-family=\"Times,serif\" font-size=\"14.00\" fill=\"#000000\">b </text>\n</g>\n<!-- St3 -->\n<g id=\"node5\" class=\"node\">\n<title>St3</title>\n<ellipse fill=\"none\" stroke=\"#000000\" cx=\"434.733\" cy=\"-88.3979\" rx=\"23.2963\" ry=\"23.2963\"/>\n<text text-anchor=\"middle\" x=\"434.733\" y=\"-84.6979\" font-family=\"Times,serif\" font-size=\"14.00\" fill=\"#000000\">St3</text>\n</g>\n<!-- St4 -->\n<g id=\"node8\" class=\"node\">\n<title>St4</title>\n<ellipse fill=\"none\" stroke=\"#000000\" cx=\"538.0784\" cy=\"-88.3979\" rx=\"23.2963\" ry=\"23.2963\"/>\n<text text-anchor=\"middle\" x=\"538.0784\" y=\"-84.6979\" font-family=\"Times,serif\" font-size=\"14.00\" fill=\"#000000\">St4</text>\n</g>\n<!-- St3&#45;&gt;St4 -->\n<g id=\"edge5\" class=\"edge\">\n<title>St3&#45;&gt;St4</title>\n<path fill=\"none\" stroke=\"#000000\" d=\"M458.1837,-88.3979C471.8288,-88.3979 489.2614,-88.3979 504.359,-88.3979\"/>\n<polygon fill=\"#000000\" stroke=\"#000000\" points=\"504.3629,-91.898 514.3628,-88.3979 504.3628,-84.898 504.3629,-91.898\"/>\n<text text-anchor=\"middle\" x=\"488.6805\" y=\"-92.1979\" font-family=\"Times,serif\" font-size=\"14.00\" fill=\"#000000\">a </text>\n</g>\n<!-- St7 -->\n<g id=\"node6\" class=\"node\">\n<title>St7</title>\n<ellipse fill=\"none\" stroke=\"#000000\" cx=\"538.0784\" cy=\"-23.3979\" rx=\"23.2963\" ry=\"23.2963\"/>\n<text text-anchor=\"middle\" x=\"538.0784\" y=\"-19.6979\" font-family=\"Times,serif\" font-size=\"14.00\" fill=\"#000000\">St7</text>\n</g>\n<!-- Real_F -->\n<g id=\"node12\" class=\"node\">\n<title>Real_F</title>\n<ellipse fill=\"none\" stroke=\"#000000\" cx=\"655.173\" cy=\"-88.3979\" rx=\"37.8753\" ry=\"37.8753\"/>\n<ellipse fill=\"none\" stroke=\"#000000\" cx=\"655.173\" cy=\"-88.3979\" rx=\"41.8942\" ry=\"41.8942\"/>\n<text text-anchor=\"middle\" x=\"655.173\" y=\"-84.6979\" font-family=\"Times,serif\" font-size=\"14.00\" fill=\"#000000\">Real_F</text>\n</g>\n<!-- St7&#45;&gt;Real_F -->\n<g id=\"edge3\" class=\"edge\">\n<title>St7&#45;&gt;Real_F</title>\n<path fill=\"none\" stroke=\"#000000\" d=\"M558.7431,-34.869C572.8323,-42.69 592.0508,-53.3584 609.624,-63.1133\"/>\n<polygon fill=\"#000000\" stroke=\"#000000\" points=\"608.1858,-66.3181 618.6277,-68.1114 611.5832,-60.1978 608.1858,-66.3181\"/>\n<text text-anchor=\"middle\" x=\"587.4764\" y=\"-58.1979\" font-family=\"Times,serif\" font-size=\"14.00\" fill=\"#000000\">b </text>\n</g>\n<!-- St9 -->\n<g id=\"node7\" class=\"node\">\n<title>St9</title>\n<ellipse fill=\"none\" stroke=\"#000000\" cx=\"538.0784\" cy=\"-203.3979\" rx=\"23.2963\" ry=\"23.2963\"/>\n<text text-anchor=\"middle\" x=\"538.0784\" y=\"-199.6979\" font-family=\"Times,serif\" font-size=\"14.00\" fill=\"#000000\">St9</text>\n</g>\n<!-- St9&#45;&gt;St10 -->\n<g id=\"edge9\" class=\"edge\">\n<title>St9&#45;&gt;St10</title>\n<path fill=\"none\" stroke=\"#000000\" d=\"M560.6554,-210.3391C576.8794,-215.327 599.1201,-222.1648 617.9513,-227.9544\"/>\n<polygon fill=\"#000000\" stroke=\"#000000\" points=\"617.1325,-231.3642 627.7195,-230.9575 619.1896,-224.6733 617.1325,-231.3642\"/>\n<text text-anchor=\"middle\" x=\"587.4764\" y=\"-223.1979\" font-family=\"Times,serif\" font-size=\"14.00\" fill=\"#000000\">b </text>\n</g>\n<!-- St4&#45;&gt;Real_F -->\n<g id=\"edge14\" class=\"edge\">\n<title>St4&#45;&gt;Real_F</title>\n<path fill=\"none\" stroke=\"#000000\" d=\"M561.4928,-88.3979C573.4154,-88.3979 588.4225,-88.3979 602.9103,-88.3979\"/>\n<polygon fill=\"#000000\" stroke=\"#000000\" points=\"603.3164,-91.898 613.3164,-88.3979 603.3164,-84.898 603.3164,-91.898\"/>\n<text text-anchor=\"middle\" x=\"587.4764\" y=\"-92.1979\" font-family=\"Times,serif\" font-size=\"14.00\" fill=\"#000000\">&quot;&quot; </text>\n</g>\n<!-- St11&#45;&gt;St9 -->\n<g id=\"edge7\" class=\"edge\">\n<title>St11&#45;&gt;St9</title>\n<path fill=\"none\" stroke=\"#000000\" d=\"M462.1563,-185.0318C475.3082,-188.2134 491.1705,-192.0506 504.9878,-195.3931\"/>\n<polygon fill=\"#000000\" stroke=\"#000000\" points=\"504.5339,-198.8842 515.0766,-197.8336 506.1799,-192.0804 504.5339,-198.8842\"/>\n<text text-anchor=\"middle\" x=\"488.6805\" y=\"-196.1979\" font-family=\"Times,serif\" font-size=\"14.00\" fill=\"#000000\">&quot;&quot; </text>\n</g>\n<!-- St11&#45;&gt;Real_F -->\n<g id=\"edge8\" class=\"edge\">\n<title>St11&#45;&gt;Real_F</title>\n<path fill=\"none\" stroke=\"#000000\" d=\"M460.886,-167.7203C496.7989,-153.058 562.0279,-126.4267 606.9281,-108.0951\"/>\n<polygon fill=\"#000000\" stroke=\"#000000\" points=\"608.5287,-111.2221 616.4638,-104.2019 605.8827,-104.7415 608.5287,-111.2221\"/>\n<text text-anchor=\"middle\" x=\"538.0784\" y=\"-149.1979\" font-family=\"Times,serif\" font-size=\"14.00\" fill=\"#000000\">&quot;&quot; </text>\n</g>\n<!-- St6 -->\n<g id=\"node10\" class=\"node\">\n<title>St6</title>\n<ellipse fill=\"none\" stroke=\"#000000\" cx=\"434.733\" cy=\"-23.3979\" rx=\"23.2963\" ry=\"23.2963\"/>\n<text text-anchor=\"middle\" x=\"434.733\" y=\"-19.6979\" font-family=\"Times,serif\" font-size=\"14.00\" fill=\"#000000\">St6</text>\n</g>\n<!-- St6&#45;&gt;St7 -->\n<g id=\"edge6\" class=\"edge\">\n<title>St6&#45;&gt;St7</title>\n<path fill=\"none\" stroke=\"#000000\" d=\"M458.1837,-23.3979C471.8288,-23.3979 489.2614,-23.3979 504.359,-23.3979\"/>\n<polygon fill=\"#000000\" stroke=\"#000000\" points=\"504.3629,-26.898 514.3628,-23.3979 504.3628,-19.898 504.3629,-26.898\"/>\n<text text-anchor=\"middle\" x=\"488.6805\" y=\"-27.1979\" font-family=\"Times,serif\" font-size=\"14.00\" fill=\"#000000\">&quot;&quot; </text>\n</g>\n<!-- St2&#45;&gt;St3 -->\n<g id=\"edge11\" class=\"edge\">\n<title>St2&#45;&gt;St3</title>\n<path fill=\"none\" stroke=\"#000000\" d=\"M354.8382,-88.3979C368.4834,-88.3979 385.9159,-88.3979 401.0135,-88.3979\"/>\n<polygon fill=\"#000000\" stroke=\"#000000\" points=\"401.0174,-91.898 411.0174,-88.3979 401.0173,-84.898 401.0174,-91.898\"/>\n<text text-anchor=\"middle\" x=\"380.7855\" y=\"-92.1979\" font-family=\"Times,serif\" font-size=\"14.00\" fill=\"#000000\">&quot;&quot; </text>\n</g>\n<!-- St2&#45;&gt;St11 -->\n<g id=\"edge12\" class=\"edge\">\n<title>St2&#45;&gt;St11</title>\n<path fill=\"none\" stroke=\"#000000\" d=\"M349.3889,-104.0747C364.8351,-117.5262 387.391,-137.1694 405.4353,-152.8836\"/>\n<polygon fill=\"#000000\" stroke=\"#000000\" points=\"403.527,-155.8628 413.3668,-159.7908 408.1241,-150.584 403.527,-155.8628\"/>\n<text text-anchor=\"middle\" x=\"380.7855\" y=\"-140.1979\" font-family=\"Times,serif\" font-size=\"14.00\" fill=\"#000000\">&quot;&quot; </text>\n</g>\n<!-- St2&#45;&gt;St6 -->\n<g id=\"edge2\" class=\"edge\">\n<title>St2&#45;&gt;St6</title>\n<path fill=\"none\" stroke=\"#000000\" d=\"M351.3136,-75.8653C366.8973,-66.0638 388.7707,-52.3063 406.2097,-41.3379\"/>\n<polygon fill=\"#000000\" stroke=\"#000000\" points=\"408.2667,-44.1789 414.8681,-35.8921 404.5398,-38.2535 408.2667,-44.1789\"/>\n<text text-anchor=\"middle\" x=\"380.7855\" y=\"-66.1979\" font-family=\"Times,serif\" font-size=\"14.00\" fill=\"#000000\">a </text>\n</g>\n</g>\n</svg>\n"
          },
          "metadata": {},
          "execution_count": 94
        }
      ]
    },
    {
      "cell_type": "code",
      "source": [
        "DO[3]"
      ],
      "metadata": {
        "id": "bPm9REw9AHwn",
        "outputId": "23ff2b75-cca3-4dde-9888-3fa90a3d0e81",
        "colab": {
          "base_uri": "https://localhost:8080/",
          "height": 355
        }
      },
      "execution_count": 95,
      "outputs": [
        {
          "output_type": "execute_result",
          "data": {
            "text/plain": [
              "<graphviz.dot.Digraph at 0x7f87f8644110>"
            ],
            "image/svg+xml": "<?xml version=\"1.0\" encoding=\"UTF-8\" standalone=\"no\"?>\n<!DOCTYPE svg PUBLIC \"-//W3C//DTD SVG 1.1//EN\"\n \"http://www.w3.org/Graphics/SVG/1.1/DTD/svg11.dtd\">\n<!-- Generated by graphviz version 2.40.1 (20161225.0304)\n -->\n<!-- Title: %3 Pages: 1 -->\n<svg width=\"705pt\" height=\"235pt\"\n viewBox=\"0.00 0.00 704.87 234.80\" xmlns=\"http://www.w3.org/2000/svg\" xmlns:xlink=\"http://www.w3.org/1999/xlink\">\n<g id=\"graph0\" class=\"graph\" transform=\"scale(1 1) rotate(0) translate(4 230.7958)\">\n<title>%3</title>\n<polygon fill=\"#ffffff\" stroke=\"transparent\" points=\"-4,4 -4,-230.7958 700.8697,-230.7958 700.8697,4 -4,4\"/>\n<!-- EMPTY -->\n<g id=\"node1\" class=\"node\">\n<title>EMPTY</title>\n</g>\n<!-- Real_I -->\n<g id=\"node2\" class=\"node\">\n<title>Real_I</title>\n<ellipse fill=\"none\" stroke=\"#000000\" cx=\"126.0969\" cy=\"-115.3979\" rx=\"35.194\" ry=\"35.194\"/>\n<text text-anchor=\"middle\" x=\"126.0969\" y=\"-111.6979\" font-family=\"Times,serif\" font-size=\"14.00\" fill=\"#000000\">Real_I</text>\n</g>\n<!-- EMPTY&#45;&gt;Real_I -->\n<g id=\"edge1\" class=\"edge\">\n<title>EMPTY&#45;&gt;Real_I</title>\n<path fill=\"none\" stroke=\"#000000\" d=\"M54.0787,-115.3979C62.3227,-115.3979 71.6196,-115.3979 80.7269,-115.3979\"/>\n<polygon fill=\"#000000\" stroke=\"#000000\" points=\"80.8626,-118.898 90.8626,-115.3979 80.8625,-111.898 80.8626,-118.898\"/>\n</g>\n<!-- St1 -->\n<g id=\"node3\" class=\"node\">\n<title>St1</title>\n<ellipse fill=\"none\" stroke=\"#000000\" cx=\"236.5917\" cy=\"-115.3979\" rx=\"23.2963\" ry=\"23.2963\"/>\n<text text-anchor=\"middle\" x=\"236.5917\" y=\"-111.6979\" font-family=\"Times,serif\" font-size=\"14.00\" fill=\"#000000\">St1</text>\n</g>\n<!-- Real_I&#45;&gt;St1 -->\n<g id=\"edge12\" class=\"edge\">\n<title>Real_I&#45;&gt;St1</title>\n<path fill=\"none\" stroke=\"#000000\" d=\"M161.3619,-115.3979C174.7179,-115.3979 189.8746,-115.3979 203.0662,-115.3979\"/>\n<polygon fill=\"#000000\" stroke=\"#000000\" points=\"203.1523,-118.898 213.1523,-115.3979 203.1522,-111.898 203.1523,-118.898\"/>\n<text text-anchor=\"middle\" x=\"187.1938\" y=\"-119.1979\" font-family=\"Times,serif\" font-size=\"14.00\" fill=\"#000000\">&quot;&quot; </text>\n</g>\n<!-- St2 -->\n<g id=\"node10\" class=\"node\">\n<title>St2</title>\n<ellipse fill=\"none\" stroke=\"#000000\" cx=\"331.3875\" cy=\"-115.3979\" rx=\"23.2963\" ry=\"23.2963\"/>\n<text text-anchor=\"middle\" x=\"331.3875\" y=\"-111.6979\" font-family=\"Times,serif\" font-size=\"14.00\" fill=\"#000000\">St2</text>\n</g>\n<!-- St1&#45;&gt;St2 -->\n<g id=\"edge5\" class=\"edge\">\n<title>St1&#45;&gt;St2</title>\n<path fill=\"none\" stroke=\"#000000\" d=\"M260.0244,-115.3979C271.4183,-115.3979 285.3194,-115.3979 297.8155,-115.3979\"/>\n<polygon fill=\"#000000\" stroke=\"#000000\" points=\"297.8959,-118.898 307.8959,-115.3979 297.8959,-111.898 297.8959,-118.898\"/>\n<text text-anchor=\"middle\" x=\"283.9896\" y=\"-119.1979\" font-family=\"Times,serif\" font-size=\"14.00\" fill=\"#000000\">b </text>\n</g>\n<!-- St3 -->\n<g id=\"node4\" class=\"node\">\n<title>St3</title>\n<ellipse fill=\"none\" stroke=\"#000000\" cx=\"434.733\" cy=\"-187.3979\" rx=\"23.2963\" ry=\"23.2963\"/>\n<text text-anchor=\"middle\" x=\"434.733\" y=\"-183.6979\" font-family=\"Times,serif\" font-size=\"14.00\" fill=\"#000000\">St3</text>\n</g>\n<!-- St4 -->\n<g id=\"node7\" class=\"node\">\n<title>St4</title>\n<ellipse fill=\"none\" stroke=\"#000000\" cx=\"538.0784\" cy=\"-203.3979\" rx=\"23.2963\" ry=\"23.2963\"/>\n<text text-anchor=\"middle\" x=\"538.0784\" y=\"-199.6979\" font-family=\"Times,serif\" font-size=\"14.00\" fill=\"#000000\">St4</text>\n</g>\n<!-- St3&#45;&gt;St4 -->\n<g id=\"edge6\" class=\"edge\">\n<title>St3&#45;&gt;St4</title>\n<path fill=\"none\" stroke=\"#000000\" d=\"M457.9257,-190.9886C471.6579,-193.1147 489.2926,-195.8449 504.523,-198.2029\"/>\n<polygon fill=\"#000000\" stroke=\"#000000\" points=\"504.1878,-201.6926 514.6055,-199.7638 505.2588,-194.775 504.1878,-201.6926\"/>\n<text text-anchor=\"middle\" x=\"488.6805\" y=\"-200.1979\" font-family=\"Times,serif\" font-size=\"14.00\" fill=\"#000000\">a </text>\n</g>\n<!-- St7 -->\n<g id=\"node5\" class=\"node\">\n<title>St7</title>\n<ellipse fill=\"none\" stroke=\"#000000\" cx=\"538.0784\" cy=\"-23.3979\" rx=\"23.2963\" ry=\"23.2963\"/>\n<text text-anchor=\"middle\" x=\"538.0784\" y=\"-19.6979\" font-family=\"Times,serif\" font-size=\"14.00\" fill=\"#000000\">St7</text>\n</g>\n<!-- Real_F -->\n<g id=\"node11\" class=\"node\">\n<title>Real_F</title>\n<ellipse fill=\"none\" stroke=\"#000000\" cx=\"655.173\" cy=\"-82.3979\" rx=\"37.8753\" ry=\"37.8753\"/>\n<ellipse fill=\"none\" stroke=\"#000000\" cx=\"655.173\" cy=\"-82.3979\" rx=\"41.8942\" ry=\"41.8942\"/>\n<text text-anchor=\"middle\" x=\"655.173\" y=\"-78.6979\" font-family=\"Times,serif\" font-size=\"14.00\" fill=\"#000000\">Real_F</text>\n</g>\n<!-- St7&#45;&gt;Real_F -->\n<g id=\"edge4\" class=\"edge\">\n<title>St7&#45;&gt;Real_F</title>\n<path fill=\"none\" stroke=\"#000000\" d=\"M559.0126,-33.9459C572.7775,-40.8816 591.3528,-50.2411 608.5074,-58.8847\"/>\n<polygon fill=\"#000000\" stroke=\"#000000\" points=\"607.3466,-62.219 617.852,-63.5931 610.4965,-55.9677 607.3466,-62.219\"/>\n<text text-anchor=\"middle\" x=\"587.4764\" y=\"-55.1979\" font-family=\"Times,serif\" font-size=\"14.00\" fill=\"#000000\">b </text>\n</g>\n<!-- St9 -->\n<g id=\"node6\" class=\"node\">\n<title>St9</title>\n<ellipse fill=\"none\" stroke=\"#000000\" cx=\"538.0784\" cy=\"-138.3979\" rx=\"23.2963\" ry=\"23.2963\"/>\n<text text-anchor=\"middle\" x=\"538.0784\" y=\"-134.6979\" font-family=\"Times,serif\" font-size=\"14.00\" fill=\"#000000\">St9</text>\n</g>\n<!-- St11 -->\n<g id=\"node8\" class=\"node\">\n<title>St11</title>\n<ellipse fill=\"none\" stroke=\"#000000\" cx=\"434.733\" cy=\"-115.3979\" rx=\"27.8951\" ry=\"27.8951\"/>\n<text text-anchor=\"middle\" x=\"434.733\" y=\"-111.6979\" font-family=\"Times,serif\" font-size=\"14.00\" fill=\"#000000\">St11</text>\n</g>\n<!-- St9&#45;&gt;St11 -->\n<g id=\"edge2\" class=\"edge\">\n<title>St9&#45;&gt;St11</title>\n<path fill=\"none\" stroke=\"#000000\" d=\"M518.2263,-125.4127C511.6383,-121.7813 504.0889,-118.3078 496.6805,-116.3979 489.1487,-114.4562 480.9292,-113.5317 473.0114,-113.2046\"/>\n<polygon fill=\"#000000\" stroke=\"#000000\" points=\"472.9007,-109.7031 462.8597,-113.0834 472.8171,-116.7026 472.9007,-109.7031\"/>\n<text text-anchor=\"middle\" x=\"488.6805\" y=\"-120.1979\" font-family=\"Times,serif\" font-size=\"14.00\" fill=\"#000000\">b </text>\n</g>\n<!-- St4&#45;&gt;Real_F -->\n<g id=\"edge13\" class=\"edge\">\n<title>St4&#45;&gt;Real_F</title>\n<path fill=\"none\" stroke=\"#000000\" d=\"M554.3599,-186.5734C570.9587,-169.421 597.2625,-142.2399 618.8399,-119.9428\"/>\n<polygon fill=\"#000000\" stroke=\"#000000\" points=\"621.5164,-122.2101 625.9554,-112.59 616.4861,-117.3421 621.5164,-122.2101\"/>\n<text text-anchor=\"middle\" x=\"587.4764\" y=\"-160.1979\" font-family=\"Times,serif\" font-size=\"14.00\" fill=\"#000000\">&quot;&quot; </text>\n</g>\n<!-- St11&#45;&gt;St9 -->\n<g id=\"edge8\" class=\"edge\">\n<title>St11&#45;&gt;St9</title>\n<path fill=\"none\" stroke=\"#000000\" d=\"M461.1752,-125.685C467.4904,-127.8397 474.2628,-129.9073 480.6805,-131.3979 488.3635,-133.1824 496.7371,-134.531 504.6537,-135.543\"/>\n<polygon fill=\"#000000\" stroke=\"#000000\" points=\"504.3692,-139.0331 514.7012,-136.688 505.1618,-132.0781 504.3692,-139.0331\"/>\n<text text-anchor=\"middle\" x=\"488.6805\" y=\"-138.1979\" font-family=\"Times,serif\" font-size=\"14.00\" fill=\"#000000\">&quot;&quot; </text>\n</g>\n<!-- St11&#45;&gt;Real_F -->\n<g id=\"edge9\" class=\"edge\">\n<title>St11&#45;&gt;Real_F</title>\n<path fill=\"none\" stroke=\"#000000\" d=\"M461.014,-105.8585C476.4367,-100.6787 496.4236,-94.6787 514.6805,-91.3979 543.6686,-86.1887 576.496,-83.8894 603.1251,-82.9148\"/>\n<polygon fill=\"#000000\" stroke=\"#000000\" points=\"603.4933,-86.4051 613.3785,-82.593 603.2736,-79.4085 603.4933,-86.4051\"/>\n<text text-anchor=\"middle\" x=\"538.0784\" y=\"-95.1979\" font-family=\"Times,serif\" font-size=\"14.00\" fill=\"#000000\">&quot;&quot; </text>\n</g>\n<!-- St6 -->\n<g id=\"node9\" class=\"node\">\n<title>St6</title>\n<ellipse fill=\"none\" stroke=\"#000000\" cx=\"434.733\" cy=\"-40.3979\" rx=\"23.2963\" ry=\"23.2963\"/>\n<text text-anchor=\"middle\" x=\"434.733\" y=\"-36.6979\" font-family=\"Times,serif\" font-size=\"14.00\" fill=\"#000000\">St6</text>\n</g>\n<!-- St6&#45;&gt;St7 -->\n<g id=\"edge7\" class=\"edge\">\n<title>St6&#45;&gt;St7</title>\n<path fill=\"none\" stroke=\"#000000\" d=\"M457.9257,-36.5828C471.7546,-34.308 489.5412,-31.3821 504.8444,-28.8648\"/>\n<polygon fill=\"#000000\" stroke=\"#000000\" points=\"505.6638,-32.2771 514.9631,-27.2003 504.5276,-25.37 505.6638,-32.2771\"/>\n<text text-anchor=\"middle\" x=\"488.6805\" y=\"-37.1979\" font-family=\"Times,serif\" font-size=\"14.00\" fill=\"#000000\">&quot;&quot; </text>\n</g>\n<!-- St2&#45;&gt;St3 -->\n<g id=\"edge10\" class=\"edge\">\n<title>St2&#45;&gt;St3</title>\n<path fill=\"none\" stroke=\"#000000\" d=\"M350.826,-128.9406C366.7043,-140.0028 389.3437,-155.7755 407.1052,-168.1499\"/>\n<polygon fill=\"#000000\" stroke=\"#000000\" points=\"405.1758,-171.0713 415.3817,-173.916 409.1774,-165.3278 405.1758,-171.0713\"/>\n<text text-anchor=\"middle\" x=\"380.7855\" y=\"-157.1979\" font-family=\"Times,serif\" font-size=\"14.00\" fill=\"#000000\">&quot;&quot; </text>\n</g>\n<!-- St2&#45;&gt;St11 -->\n<g id=\"edge11\" class=\"edge\">\n<title>St2&#45;&gt;St11</title>\n<path fill=\"none\" stroke=\"#000000\" d=\"M354.8382,-115.3979C367.082,-115.3979 382.3752,-115.3979 396.2947,-115.3979\"/>\n<polygon fill=\"#000000\" stroke=\"#000000\" points=\"396.598,-118.898 406.5979,-115.3979 396.5979,-111.898 396.598,-118.898\"/>\n<text text-anchor=\"middle\" x=\"380.7855\" y=\"-119.1979\" font-family=\"Times,serif\" font-size=\"14.00\" fill=\"#000000\">&quot;&quot; </text>\n</g>\n<!-- St2&#45;&gt;St6 -->\n<g id=\"edge3\" class=\"edge\">\n<title>St2&#45;&gt;St6</title>\n<path fill=\"none\" stroke=\"#000000\" d=\"M350.3427,-101.6418C366.2672,-90.085 389.2343,-73.4173 407.1892,-60.387\"/>\n<polygon fill=\"#000000\" stroke=\"#000000\" points=\"409.5104,-63.0271 415.548,-54.3209 405.3989,-57.3617 409.5104,-63.0271\"/>\n<text text-anchor=\"middle\" x=\"380.7855\" y=\"-89.1979\" font-family=\"Times,serif\" font-size=\"14.00\" fill=\"#000000\">a </text>\n</g>\n</g>\n</svg>\n"
          },
          "metadata": {},
          "execution_count": 95
        }
      ]
    },
    {
      "cell_type": "code",
      "source": [
        "DO[4\n",
        "   ]"
      ],
      "metadata": {
        "id": "uOZpVkTFAMlP",
        "outputId": "3d953fdf-ffc9-4008-80f1-469f6e6b3e52",
        "colab": {
          "base_uri": "https://localhost:8080/",
          "height": 355
        }
      },
      "execution_count": 96,
      "outputs": [
        {
          "output_type": "execute_result",
          "data": {
            "text/plain": [
              "<graphviz.dot.Digraph at 0x7f87f8644810>"
            ],
            "image/svg+xml": "<?xml version=\"1.0\" encoding=\"UTF-8\" standalone=\"no\"?>\n<!DOCTYPE svg PUBLIC \"-//W3C//DTD SVG 1.1//EN\"\n \"http://www.w3.org/Graphics/SVG/1.1/DTD/svg11.dtd\">\n<!-- Generated by graphviz version 2.40.1 (20161225.0304)\n -->\n<!-- Title: %3 Pages: 1 -->\n<svg width=\"606pt\" height=\"235pt\"\n viewBox=\"0.00 0.00 606.07 234.80\" xmlns=\"http://www.w3.org/2000/svg\" xmlns:xlink=\"http://www.w3.org/1999/xlink\">\n<g id=\"graph0\" class=\"graph\" transform=\"scale(1 1) rotate(0) translate(4 230.7958)\">\n<title>%3</title>\n<polygon fill=\"#ffffff\" stroke=\"transparent\" points=\"-4,4 -4,-230.7958 602.0738,-230.7958 602.0738,4 -4,4\"/>\n<!-- EMPTY -->\n<g id=\"node1\" class=\"node\">\n<title>EMPTY</title>\n</g>\n<!-- Real_I -->\n<g id=\"node2\" class=\"node\">\n<title>Real_I</title>\n<ellipse fill=\"none\" stroke=\"#000000\" cx=\"126.0969\" cy=\"-115.3979\" rx=\"35.194\" ry=\"35.194\"/>\n<text text-anchor=\"middle\" x=\"126.0969\" y=\"-111.6979\" font-family=\"Times,serif\" font-size=\"14.00\" fill=\"#000000\">Real_I</text>\n</g>\n<!-- EMPTY&#45;&gt;Real_I -->\n<g id=\"edge1\" class=\"edge\">\n<title>EMPTY&#45;&gt;Real_I</title>\n<path fill=\"none\" stroke=\"#000000\" d=\"M54.0787,-115.3979C62.3227,-115.3979 71.6196,-115.3979 80.7269,-115.3979\"/>\n<polygon fill=\"#000000\" stroke=\"#000000\" points=\"80.8626,-118.898 90.8626,-115.3979 80.8625,-111.898 80.8626,-118.898\"/>\n</g>\n<!-- St2 -->\n<g id=\"node9\" class=\"node\">\n<title>St2</title>\n<ellipse fill=\"none\" stroke=\"#000000\" cx=\"232.5917\" cy=\"-115.3979\" rx=\"23.2963\" ry=\"23.2963\"/>\n<text text-anchor=\"middle\" x=\"232.5917\" y=\"-111.6979\" font-family=\"Times,serif\" font-size=\"14.00\" fill=\"#000000\">St2</text>\n</g>\n<!-- Real_I&#45;&gt;St2 -->\n<g id=\"edge2\" class=\"edge\">\n<title>Real_I&#45;&gt;St2</title>\n<path fill=\"none\" stroke=\"#000000\" d=\"M161.2624,-115.3979C173.352,-115.3979 186.8527,-115.3979 198.8282,-115.3979\"/>\n<polygon fill=\"#000000\" stroke=\"#000000\" points=\"198.8858,-118.898 208.8857,-115.3979 198.8857,-111.898 198.8858,-118.898\"/>\n<text text-anchor=\"middle\" x=\"185.1938\" y=\"-119.1979\" font-family=\"Times,serif\" font-size=\"14.00\" fill=\"#000000\">b </text>\n</g>\n<!-- St3 -->\n<g id=\"node3\" class=\"node\">\n<title>St3</title>\n<ellipse fill=\"none\" stroke=\"#000000\" cx=\"335.9371\" cy=\"-187.3979\" rx=\"23.2963\" ry=\"23.2963\"/>\n<text text-anchor=\"middle\" x=\"335.9371\" y=\"-183.6979\" font-family=\"Times,serif\" font-size=\"14.00\" fill=\"#000000\">St3</text>\n</g>\n<!-- St4 -->\n<g id=\"node6\" class=\"node\">\n<title>St4</title>\n<ellipse fill=\"none\" stroke=\"#000000\" cx=\"439.2826\" cy=\"-203.3979\" rx=\"23.2963\" ry=\"23.2963\"/>\n<text text-anchor=\"middle\" x=\"439.2826\" y=\"-199.6979\" font-family=\"Times,serif\" font-size=\"14.00\" fill=\"#000000\">St4</text>\n</g>\n<!-- St3&#45;&gt;St4 -->\n<g id=\"edge6\" class=\"edge\">\n<title>St3&#45;&gt;St4</title>\n<path fill=\"none\" stroke=\"#000000\" d=\"M359.1299,-190.9886C372.8621,-193.1147 390.4968,-195.8449 405.7272,-198.2029\"/>\n<polygon fill=\"#000000\" stroke=\"#000000\" points=\"405.3919,-201.6926 415.8097,-199.7638 406.4629,-194.775 405.3919,-201.6926\"/>\n<text text-anchor=\"middle\" x=\"389.8847\" y=\"-200.1979\" font-family=\"Times,serif\" font-size=\"14.00\" fill=\"#000000\">a </text>\n</g>\n<!-- St7 -->\n<g id=\"node4\" class=\"node\">\n<title>St7</title>\n<ellipse fill=\"none\" stroke=\"#000000\" cx=\"439.2826\" cy=\"-23.3979\" rx=\"23.2963\" ry=\"23.2963\"/>\n<text text-anchor=\"middle\" x=\"439.2826\" y=\"-19.6979\" font-family=\"Times,serif\" font-size=\"14.00\" fill=\"#000000\">St7</text>\n</g>\n<!-- Real_F -->\n<g id=\"node10\" class=\"node\">\n<title>Real_F</title>\n<ellipse fill=\"none\" stroke=\"#000000\" cx=\"556.3772\" cy=\"-82.3979\" rx=\"37.8753\" ry=\"37.8753\"/>\n<ellipse fill=\"none\" stroke=\"#000000\" cx=\"556.3772\" cy=\"-82.3979\" rx=\"41.8942\" ry=\"41.8942\"/>\n<text text-anchor=\"middle\" x=\"556.3772\" y=\"-78.6979\" font-family=\"Times,serif\" font-size=\"14.00\" fill=\"#000000\">Real_F</text>\n</g>\n<!-- St7&#45;&gt;Real_F -->\n<g id=\"edge5\" class=\"edge\">\n<title>St7&#45;&gt;Real_F</title>\n<path fill=\"none\" stroke=\"#000000\" d=\"M460.2167,-33.9459C473.9817,-40.8816 492.557,-50.2411 509.7115,-58.8847\"/>\n<polygon fill=\"#000000\" stroke=\"#000000\" points=\"508.5508,-62.219 519.0561,-63.5931 511.7006,-55.9677 508.5508,-62.219\"/>\n<text text-anchor=\"middle\" x=\"488.6805\" y=\"-55.1979\" font-family=\"Times,serif\" font-size=\"14.00\" fill=\"#000000\">b </text>\n</g>\n<!-- St9 -->\n<g id=\"node5\" class=\"node\">\n<title>St9</title>\n<ellipse fill=\"none\" stroke=\"#000000\" cx=\"439.2826\" cy=\"-138.3979\" rx=\"23.2963\" ry=\"23.2963\"/>\n<text text-anchor=\"middle\" x=\"439.2826\" y=\"-134.6979\" font-family=\"Times,serif\" font-size=\"14.00\" fill=\"#000000\">St9</text>\n</g>\n<!-- St11 -->\n<g id=\"node7\" class=\"node\">\n<title>St11</title>\n<ellipse fill=\"none\" stroke=\"#000000\" cx=\"335.9371\" cy=\"-115.3979\" rx=\"27.8951\" ry=\"27.8951\"/>\n<text text-anchor=\"middle\" x=\"335.9371\" y=\"-111.6979\" font-family=\"Times,serif\" font-size=\"14.00\" fill=\"#000000\">St11</text>\n</g>\n<!-- St9&#45;&gt;St11 -->\n<g id=\"edge3\" class=\"edge\">\n<title>St9&#45;&gt;St11</title>\n<path fill=\"none\" stroke=\"#000000\" d=\"M419.4305,-125.4127C412.8425,-121.7813 405.2931,-118.3078 397.8847,-116.3979 390.3529,-114.4562 382.1333,-113.5317 374.2155,-113.2046\"/>\n<polygon fill=\"#000000\" stroke=\"#000000\" points=\"374.1049,-109.7031 364.0638,-113.0834 374.0213,-116.7026 374.1049,-109.7031\"/>\n<text text-anchor=\"middle\" x=\"389.8847\" y=\"-120.1979\" font-family=\"Times,serif\" font-size=\"14.00\" fill=\"#000000\">b </text>\n</g>\n<!-- St4&#45;&gt;Real_F -->\n<g id=\"edge12\" class=\"edge\">\n<title>St4&#45;&gt;Real_F</title>\n<path fill=\"none\" stroke=\"#000000\" d=\"M455.5641,-186.5734C472.1628,-169.421 498.4667,-142.2399 520.0441,-119.9428\"/>\n<polygon fill=\"#000000\" stroke=\"#000000\" points=\"522.7205,-122.2101 527.1596,-112.59 517.6903,-117.3421 522.7205,-122.2101\"/>\n<text text-anchor=\"middle\" x=\"488.6805\" y=\"-160.1979\" font-family=\"Times,serif\" font-size=\"14.00\" fill=\"#000000\">&quot;&quot; </text>\n</g>\n<!-- St11&#45;&gt;St9 -->\n<g id=\"edge8\" class=\"edge\">\n<title>St11&#45;&gt;St9</title>\n<path fill=\"none\" stroke=\"#000000\" d=\"M362.3794,-125.685C368.6946,-127.8397 375.467,-129.9073 381.8847,-131.3979 389.5676,-133.1824 397.9412,-134.531 405.8579,-135.543\"/>\n<polygon fill=\"#000000\" stroke=\"#000000\" points=\"405.5733,-139.0331 415.9053,-136.688 406.366,-132.0781 405.5733,-139.0331\"/>\n<text text-anchor=\"middle\" x=\"389.8847\" y=\"-138.1979\" font-family=\"Times,serif\" font-size=\"14.00\" fill=\"#000000\">&quot;&quot; </text>\n</g>\n<!-- St11&#45;&gt;Real_F -->\n<g id=\"edge9\" class=\"edge\">\n<title>St11&#45;&gt;Real_F</title>\n<path fill=\"none\" stroke=\"#000000\" d=\"M362.2182,-105.8585C377.6408,-100.6787 397.6277,-94.6787 415.8847,-91.3979 444.8727,-86.1887 477.7001,-83.8894 504.3293,-82.9148\"/>\n<polygon fill=\"#000000\" stroke=\"#000000\" points=\"504.6974,-86.4051 514.5827,-82.593 504.4778,-79.4085 504.6974,-86.4051\"/>\n<text text-anchor=\"middle\" x=\"439.2826\" y=\"-95.1979\" font-family=\"Times,serif\" font-size=\"14.00\" fill=\"#000000\">&quot;&quot; </text>\n</g>\n<!-- St6 -->\n<g id=\"node8\" class=\"node\">\n<title>St6</title>\n<ellipse fill=\"none\" stroke=\"#000000\" cx=\"335.9371\" cy=\"-40.3979\" rx=\"23.2963\" ry=\"23.2963\"/>\n<text text-anchor=\"middle\" x=\"335.9371\" y=\"-36.6979\" font-family=\"Times,serif\" font-size=\"14.00\" fill=\"#000000\">St6</text>\n</g>\n<!-- St6&#45;&gt;St7 -->\n<g id=\"edge7\" class=\"edge\">\n<title>St6&#45;&gt;St7</title>\n<path fill=\"none\" stroke=\"#000000\" d=\"M359.1299,-36.5828C372.9588,-34.308 390.7453,-31.3821 406.0486,-28.8648\"/>\n<polygon fill=\"#000000\" stroke=\"#000000\" points=\"406.868,-32.2771 416.1673,-27.2003 405.7317,-25.37 406.868,-32.2771\"/>\n<text text-anchor=\"middle\" x=\"389.8847\" y=\"-37.1979\" font-family=\"Times,serif\" font-size=\"14.00\" fill=\"#000000\">&quot;&quot; </text>\n</g>\n<!-- St2&#45;&gt;St3 -->\n<g id=\"edge10\" class=\"edge\">\n<title>St2&#45;&gt;St3</title>\n<path fill=\"none\" stroke=\"#000000\" d=\"M252.0302,-128.9406C267.9084,-140.0028 290.5478,-155.7755 308.3094,-168.1499\"/>\n<polygon fill=\"#000000\" stroke=\"#000000\" points=\"306.38,-171.0713 316.5858,-173.916 310.3815,-165.3278 306.38,-171.0713\"/>\n<text text-anchor=\"middle\" x=\"281.9896\" y=\"-157.1979\" font-family=\"Times,serif\" font-size=\"14.00\" fill=\"#000000\">&quot;&quot; </text>\n</g>\n<!-- St2&#45;&gt;St11 -->\n<g id=\"edge11\" class=\"edge\">\n<title>St2&#45;&gt;St11</title>\n<path fill=\"none\" stroke=\"#000000\" d=\"M256.0424,-115.3979C268.2861,-115.3979 283.5794,-115.3979 297.4988,-115.3979\"/>\n<polygon fill=\"#000000\" stroke=\"#000000\" points=\"297.8021,-118.898 307.8021,-115.3979 297.802,-111.898 297.8021,-118.898\"/>\n<text text-anchor=\"middle\" x=\"281.9896\" y=\"-119.1979\" font-family=\"Times,serif\" font-size=\"14.00\" fill=\"#000000\">&quot;&quot; </text>\n</g>\n<!-- St2&#45;&gt;St6 -->\n<g id=\"edge4\" class=\"edge\">\n<title>St2&#45;&gt;St6</title>\n<path fill=\"none\" stroke=\"#000000\" d=\"M251.5468,-101.6418C267.4713,-90.085 290.4384,-73.4173 308.3934,-60.387\"/>\n<polygon fill=\"#000000\" stroke=\"#000000\" points=\"310.7146,-63.0271 316.7522,-54.3209 306.6031,-57.3617 310.7146,-63.0271\"/>\n<text text-anchor=\"middle\" x=\"281.9896\" y=\"-89.1979\" font-family=\"Times,serif\" font-size=\"14.00\" fill=\"#000000\">a </text>\n</g>\n</g>\n</svg>\n"
          },
          "metadata": {},
          "execution_count": 96
        }
      ]
    },
    {
      "cell_type": "code",
      "source": [
        "DO[5]"
      ],
      "metadata": {
        "id": "Joe7GBJ2AVau",
        "outputId": "2d4b7f57-3dfc-4639-d023-77c5eb460976",
        "colab": {
          "base_uri": "https://localhost:8080/",
          "height": 345
        }
      },
      "execution_count": 97,
      "outputs": [
        {
          "output_type": "execute_result",
          "data": {
            "text/plain": [
              "<graphviz.dot.Digraph at 0x7f87f8644f50>"
            ],
            "image/svg+xml": "<?xml version=\"1.0\" encoding=\"UTF-8\" standalone=\"no\"?>\n<!DOCTYPE svg PUBLIC \"-//W3C//DTD SVG 1.1//EN\"\n \"http://www.w3.org/Graphics/SVG/1.1/DTD/svg11.dtd\">\n<!-- Generated by graphviz version 2.40.1 (20161225.0304)\n -->\n<!-- Title: %3 Pages: 1 -->\n<svg width=\"633pt\" height=\"228pt\"\n viewBox=\"0.00 0.00 632.87 227.80\" xmlns=\"http://www.w3.org/2000/svg\" xmlns:xlink=\"http://www.w3.org/1999/xlink\">\n<g id=\"graph0\" class=\"graph\" transform=\"scale(1 1) rotate(0) translate(4 223.7958)\">\n<title>%3</title>\n<polygon fill=\"#ffffff\" stroke=\"transparent\" points=\"-4,4 -4,-223.7958 628.8697,-223.7958 628.8697,4 -4,4\"/>\n<!-- EMPTY -->\n<g id=\"node1\" class=\"node\">\n<title>EMPTY</title>\n</g>\n<!-- Real_I -->\n<g id=\"node2\" class=\"node\">\n<title>Real_I</title>\n<ellipse fill=\"none\" stroke=\"#000000\" cx=\"126.0969\" cy=\"-115.3979\" rx=\"35.194\" ry=\"35.194\"/>\n<text text-anchor=\"middle\" x=\"126.0969\" y=\"-111.6979\" font-family=\"Times,serif\" font-size=\"14.00\" fill=\"#000000\">Real_I</text>\n</g>\n<!-- EMPTY&#45;&gt;Real_I -->\n<g id=\"edge1\" class=\"edge\">\n<title>EMPTY&#45;&gt;Real_I</title>\n<path fill=\"none\" stroke=\"#000000\" d=\"M54.0787,-115.3979C62.3227,-115.3979 71.6196,-115.3979 80.7269,-115.3979\"/>\n<polygon fill=\"#000000\" stroke=\"#000000\" points=\"80.8626,-118.898 90.8626,-115.3979 80.8625,-111.898 80.8626,-118.898\"/>\n</g>\n<!-- St2 -->\n<g id=\"node8\" class=\"node\">\n<title>St2</title>\n<ellipse fill=\"none\" stroke=\"#000000\" cx=\"232.5917\" cy=\"-115.3979\" rx=\"23.2963\" ry=\"23.2963\"/>\n<text text-anchor=\"middle\" x=\"232.5917\" y=\"-111.6979\" font-family=\"Times,serif\" font-size=\"14.00\" fill=\"#000000\">St2</text>\n</g>\n<!-- Real_I&#45;&gt;St2 -->\n<g id=\"edge4\" class=\"edge\">\n<title>Real_I&#45;&gt;St2</title>\n<path fill=\"none\" stroke=\"#000000\" d=\"M161.2624,-115.3979C173.352,-115.3979 186.8527,-115.3979 198.8282,-115.3979\"/>\n<polygon fill=\"#000000\" stroke=\"#000000\" points=\"198.8858,-118.898 208.8857,-115.3979 198.8857,-111.898 198.8858,-118.898\"/>\n<text text-anchor=\"middle\" x=\"185.1938\" y=\"-119.1979\" font-family=\"Times,serif\" font-size=\"14.00\" fill=\"#000000\">b </text>\n</g>\n<!-- St7 -->\n<g id=\"node3\" class=\"node\">\n<title>St7</title>\n<ellipse fill=\"none\" stroke=\"#000000\" cx=\"470.0784\" cy=\"-23.3979\" rx=\"23.2963\" ry=\"23.2963\"/>\n<text text-anchor=\"middle\" x=\"470.0784\" y=\"-19.6979\" font-family=\"Times,serif\" font-size=\"14.00\" fill=\"#000000\">St7</text>\n</g>\n<!-- Real_F -->\n<g id=\"node9\" class=\"node\">\n<title>Real_F</title>\n<ellipse fill=\"none\" stroke=\"#000000\" cx=\"583.173\" cy=\"-82.3979\" rx=\"37.8753\" ry=\"37.8753\"/>\n<ellipse fill=\"none\" stroke=\"#000000\" cx=\"583.173\" cy=\"-82.3979\" rx=\"41.8942\" ry=\"41.8942\"/>\n<text text-anchor=\"middle\" x=\"583.173\" y=\"-78.6979\" font-family=\"Times,serif\" font-size=\"14.00\" fill=\"#000000\">Real_F</text>\n</g>\n<!-- St7&#45;&gt;Real_F -->\n<g id=\"edge6\" class=\"edge\">\n<title>St7&#45;&gt;Real_F</title>\n<path fill=\"none\" stroke=\"#000000\" d=\"M491.0856,-34.3571C503.9014,-41.0429 520.8129,-49.8654 536.6426,-58.1236\"/>\n<polygon fill=\"#000000\" stroke=\"#000000\" points=\"535.3138,-61.378 545.7988,-62.9003 538.5516,-55.1718 535.3138,-61.378\"/>\n<text text-anchor=\"middle\" x=\"517.4764\" y=\"-55.1979\" font-family=\"Times,serif\" font-size=\"14.00\" fill=\"#000000\">b </text>\n</g>\n<!-- St9 -->\n<g id=\"node4\" class=\"node\">\n<title>St9</title>\n<ellipse fill=\"none\" stroke=\"#000000\" cx=\"470.0784\" cy=\"-138.3979\" rx=\"23.2963\" ry=\"23.2963\"/>\n<text text-anchor=\"middle\" x=\"470.0784\" y=\"-134.6979\" font-family=\"Times,serif\" font-size=\"14.00\" fill=\"#000000\">St9</text>\n</g>\n<!-- St11 -->\n<g id=\"node6\" class=\"node\">\n<title>St11</title>\n<ellipse fill=\"none\" stroke=\"#000000\" cx=\"335.9371\" cy=\"-115.3979\" rx=\"27.8951\" ry=\"27.8951\"/>\n<text text-anchor=\"middle\" x=\"335.9371\" y=\"-111.6979\" font-family=\"Times,serif\" font-size=\"14.00\" fill=\"#000000\">St11</text>\n</g>\n<!-- St9&#45;&gt;St11 -->\n<g id=\"edge5\" class=\"edge\">\n<title>St9&#45;&gt;St11</title>\n<path fill=\"none\" stroke=\"#000000\" d=\"M450.2325,-125.3888C443.6448,-121.7562 436.094,-118.288 428.6805,-116.3979 411.1075,-111.9178 391.0463,-111.1861 374.0875,-111.7718\"/>\n<polygon fill=\"#000000\" stroke=\"#000000\" points=\"373.7888,-108.2823 363.9792,-112.285 374.1438,-115.2733 373.7888,-108.2823\"/>\n<text text-anchor=\"middle\" x=\"405.2826\" y=\"-120.1979\" font-family=\"Times,serif\" font-size=\"14.00\" fill=\"#000000\">b </text>\n</g>\n<!-- St4 -->\n<g id=\"node5\" class=\"node\">\n<title>St4</title>\n<ellipse fill=\"none\" stroke=\"#000000\" cx=\"405.2826\" cy=\"-196.3979\" rx=\"23.2963\" ry=\"23.2963\"/>\n<text text-anchor=\"middle\" x=\"405.2826\" y=\"-192.6979\" font-family=\"Times,serif\" font-size=\"14.00\" fill=\"#000000\">St4</text>\n</g>\n<!-- St4&#45;&gt;Real_F -->\n<g id=\"edge11\" class=\"edge\">\n<title>St4&#45;&gt;Real_F</title>\n<path fill=\"none\" stroke=\"#000000\" d=\"M428.63,-192.7368C447.1684,-189.0944 473.2452,-182.2862 493.4764,-170.3979 514.5168,-158.0341 534.2965,-139.672 549.8996,-122.9147\"/>\n<polygon fill=\"#000000\" stroke=\"#000000\" points=\"552.6323,-125.1117 556.7642,-115.3557 547.4503,-120.4057 552.6323,-125.1117\"/>\n<text text-anchor=\"middle\" x=\"470.0784\" y=\"-192.1979\" font-family=\"Times,serif\" font-size=\"14.00\" fill=\"#000000\">&quot;&quot; </text>\n</g>\n<!-- St11&#45;&gt;St9 -->\n<g id=\"edge8\" class=\"edge\">\n<title>St11&#45;&gt;St9</title>\n<path fill=\"none\" stroke=\"#000000\" d=\"M362.3359,-125.8817C368.6529,-128.0282 375.437,-130.0429 381.8847,-131.3979 399.6403,-135.1295 419.7878,-136.9078 436.3394,-137.7409\"/>\n<polygon fill=\"#000000\" stroke=\"#000000\" points=\"436.5006,-141.2503 446.6356,-138.1629 436.7873,-134.2562 436.5006,-141.2503\"/>\n<text text-anchor=\"middle\" x=\"405.2826\" y=\"-141.1979\" font-family=\"Times,serif\" font-size=\"14.00\" fill=\"#000000\">&quot;&quot; </text>\n</g>\n<!-- St11&#45;&gt;Real_F -->\n<g id=\"edge9\" class=\"edge\">\n<title>St11&#45;&gt;Real_F</title>\n<path fill=\"none\" stroke=\"#000000\" d=\"M363.0422,-108.3511C385.3399,-102.8384 417.8484,-95.4501 446.6805,-91.3979 474.3772,-87.5053 505.4785,-85.2895 530.9897,-84.0315\"/>\n<polygon fill=\"#000000\" stroke=\"#000000\" points=\"531.3632,-87.5181 541.1925,-83.5642 531.0428,-80.5255 531.3632,-87.5181\"/>\n<text text-anchor=\"middle\" x=\"470.0784\" y=\"-95.1979\" font-family=\"Times,serif\" font-size=\"14.00\" fill=\"#000000\">&quot;&quot; </text>\n</g>\n<!-- St6 -->\n<g id=\"node7\" class=\"node\">\n<title>St6</title>\n<ellipse fill=\"none\" stroke=\"#000000\" cx=\"335.9371\" cy=\"-40.3979\" rx=\"23.2963\" ry=\"23.2963\"/>\n<text text-anchor=\"middle\" x=\"335.9371\" y=\"-36.6979\" font-family=\"Times,serif\" font-size=\"14.00\" fill=\"#000000\">St6</text>\n</g>\n<!-- St6&#45;&gt;St7 -->\n<g id=\"edge7\" class=\"edge\">\n<title>St6&#45;&gt;St7</title>\n<path fill=\"none\" stroke=\"#000000\" d=\"M359.3028,-37.4367C380.619,-34.7353 412.3671,-30.7118 436.4177,-27.6638\"/>\n<polygon fill=\"#000000\" stroke=\"#000000\" points=\"437.0499,-31.1118 446.5305,-26.3822 436.1698,-24.1673 437.0499,-31.1118\"/>\n<text text-anchor=\"middle\" x=\"405.2826\" y=\"-39.1979\" font-family=\"Times,serif\" font-size=\"14.00\" fill=\"#000000\">&quot;&quot; </text>\n</g>\n<!-- St2&#45;&gt;St4 -->\n<g id=\"edge3\" class=\"edge\">\n<title>St2&#45;&gt;St4</title>\n<path fill=\"none\" stroke=\"#000000\" d=\"M253.6308,-125.943C268.7061,-133.4448 289.5244,-143.6945 307.9896,-152.3979 330.0812,-162.8106 355.2016,-174.1588 374.3829,-182.722\"/>\n<polygon fill=\"#000000\" stroke=\"#000000\" points=\"372.9941,-185.9349 383.5531,-186.8058 375.8419,-179.5403 372.9941,-185.9349\"/>\n<text text-anchor=\"middle\" x=\"281.9896\" y=\"-146.1979\" font-family=\"Times,serif\" font-size=\"14.00\" fill=\"#000000\">a </text>\n</g>\n<!-- St2&#45;&gt;St11 -->\n<g id=\"edge10\" class=\"edge\">\n<title>St2&#45;&gt;St11</title>\n<path fill=\"none\" stroke=\"#000000\" d=\"M256.0424,-115.3979C268.2861,-115.3979 283.5794,-115.3979 297.4988,-115.3979\"/>\n<polygon fill=\"#000000\" stroke=\"#000000\" points=\"297.8021,-118.898 307.8021,-115.3979 297.802,-111.898 297.8021,-118.898\"/>\n<text text-anchor=\"middle\" x=\"281.9896\" y=\"-119.1979\" font-family=\"Times,serif\" font-size=\"14.00\" fill=\"#000000\">&quot;&quot; </text>\n</g>\n<!-- St2&#45;&gt;St6 -->\n<g id=\"edge2\" class=\"edge\">\n<title>St2&#45;&gt;St6</title>\n<path fill=\"none\" stroke=\"#000000\" d=\"M251.5468,-101.6418C267.4713,-90.085 290.4384,-73.4173 308.3934,-60.387\"/>\n<polygon fill=\"#000000\" stroke=\"#000000\" points=\"310.7146,-63.0271 316.7522,-54.3209 306.6031,-57.3617 310.7146,-63.0271\"/>\n<text text-anchor=\"middle\" x=\"281.9896\" y=\"-89.1979\" font-family=\"Times,serif\" font-size=\"14.00\" fill=\"#000000\">a </text>\n</g>\n</g>\n</svg>\n"
          },
          "metadata": {},
          "execution_count": 97
        }
      ]
    },
    {
      "cell_type": "code",
      "source": [],
      "metadata": {
        "id": "2BprL2iOAafF"
      },
      "execution_count": 97,
      "outputs": []
    }
  ],
  "metadata": {
    "kernelspec": {
      "display_name": "Python 3",
      "language": "python",
      "name": "python3"
    },
    "language_info": {
      "codemirror_mode": {
        "name": "ipython",
        "version": 3
      },
      "file_extension": ".py",
      "mimetype": "text/x-python",
      "name": "python",
      "nbconvert_exporter": "python",
      "pygments_lexer": "ipython3",
      "version": "3.7.3"
    },
    "toc": {
      "colors": {
        "hover_highlight": "#DAA520",
        "running_highlight": "#FF0000",
        "selected_highlight": "#FFD700"
      },
      "moveMenuLeft": true,
      "nav_menu": {
        "height": "318px",
        "width": "252px"
      },
      "navigate_menu": true,
      "number_sections": true,
      "sideBar": true,
      "threshold": 4,
      "toc_cell": false,
      "toc_section_display": "block",
      "toc_window_display": false,
      "widenNotebook": false
    },
    "colab": {
      "provenance": []
    }
  },
  "nbformat": 4,
  "nbformat_minor": 0
}