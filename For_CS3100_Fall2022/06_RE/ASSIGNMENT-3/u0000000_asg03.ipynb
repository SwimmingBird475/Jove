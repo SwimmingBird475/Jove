{
  "cells": [
    {
      "cell_type": "code",
      "execution_count": null,
      "metadata": {
        "id": "2mGV-Aw3qw8I",
        "outputId": "d0f258b2-de4d-40ad-b397-850e1c3040a2",
        "colab": {
          "base_uri": "https://localhost:8080/"
        }
      },
      "outputs": [
        {
          "output_type": "stream",
          "name": "stdout",
          "text": [
            "Cloning into 'Jove'...\n",
            "remote: Enumerating objects: 5872, done.\u001b[K\n",
            "remote: Counting objects: 100% (1238/1238), done.\u001b[K\n",
            "remote: Compressing objects: 100% (550/550), done.\u001b[K\n",
            "remote: Total 5872 (delta 701), reused 1162 (delta 637), pack-reused 4634\u001b[K\n",
            "Receiving objects: 100% (5872/5872), 9.05 MiB | 13.77 MiB/s, done.\n",
            "Resolving deltas: 100% (3706/3706), done.\n",
            "You may use any of these help commands:\n",
            "help(lphi)\n",
            "help(lunit)\n",
            "help(lcat)\n",
            "help(lexp)\n",
            "help(lunion)\n",
            "help(lstar)\n",
            "help(srev)\n",
            "help(lrev)\n",
            "help(shomo)\n",
            "help(lhomo)\n",
            "help(powset)\n",
            "help(lint)\n",
            "help(lsymdiff)\n",
            "help(lminus)\n",
            "help(lissubset)\n",
            "help(lissuperset)\n",
            "help(lcomplem)\n",
            "help(product)\n",
            "help(nthnumeric)\n",
            "\n",
            "You may use any of these help commands:\n",
            "help(md2mc)\n",
            ".. and if you want to dig more, then ..\n",
            "help(default_line_attr)\n",
            "help(length_ok_input_items)\n",
            "help(union_line_attr_list_fld)\n",
            "help(extend_rsltdict)\n",
            "help(form_delta)\n",
            "help(get_machine_components)\n",
            "\n",
            "You may use any of these help commands:\n",
            "help(ResetStNum)\n",
            "help(NxtStateStr)\n",
            "\n",
            "You may use any of these help commands:\n",
            "help(mkp_dfa)\n",
            "help(mk_dfa)\n",
            "help(totalize_dfa)\n",
            "help(addtosigma_delta)\n",
            "help(step_dfa)\n",
            "help(run_dfa)\n",
            "help(accepts_dfa)\n",
            "help(comp_dfa)\n",
            "help(flTup)\n",
            "help(union_dfa)\n",
            "help(intersect_dfa)\n",
            "help(pruneUnreach)\n",
            "help(iso_dfa)\n",
            "help(langeq_dfa)\n",
            "help(same_status)\n",
            "help(h_langeq_dfa)\n",
            "help(fixptDist)\n",
            "help(min_dfa)\n",
            "help(pairFR)\n",
            "help(state_combos)\n",
            "help(sepFinNonFin)\n",
            "help(bash_eql_classes)\n",
            "help(listminus)\n",
            "help(bash_1)\n",
            "help(mk_rep_eqc)\n",
            "help(F_of)\n",
            "help(rep_of_s)\n",
            "help(q0_of)\n",
            "help(Delta_of)\n",
            "help(mk_state_eqc_name)\n",
            "\n",
            "You may use any of these help commands:\n",
            "help(mk_nfa)\n",
            "help(totalize_nfa)\n",
            "help(step_nfa)\n",
            "help(run_nfa)\n",
            "help(ec_step_nfa)\n",
            "help(Eclosure)\n",
            "help(Echelp)\n",
            "help(accepts_nfa)\n",
            "help(nfa2dfa)\n",
            "help(n2d)\n",
            "help(inSets)\n",
            "help(rev_dfa)\n",
            "help(min_dfa_brz)\n",
            "\n",
            "You may use any of these help commands:\n",
            "help(re2nfa)\n",
            "\n",
            "You may use any of these help commands:\n",
            "help(RE2Str)\n",
            "help(mk_gnfa)\n",
            "help(mk_gnfa_from_D)\n",
            "help(dfa2nfa)\n",
            "help(del_gnfa_states)\n",
            "help(gnfa_w_REStr)\n",
            "help(del_one_gnfa_state)\n",
            "help(Edges_Exist_Via)\n",
            "help(choose_state_to_del)\n",
            "help(form_alt_RE)\n",
            "help(form_concat_RE)\n",
            "help(form_kleene_RE)\n",
            "\n"
          ]
        }
      ],
      "source": [
        "#~~~~~~~~~~~~~~~~~~~~~~~~~~~~~~~~~~~~~~~~~~~~~~~~~~~~~~~\n",
        "# If you want to clear outputs for a \"fresh look\", go to Edit and hit \"clear outputs\"\n",
        "#~~~~~~~~~~~~~~~~~~~~~~~~~~~~~~~~~~~~~~~~~~~~~~~~~~~~~~~\n",
        "import sys\n",
        "\n",
        "# -- Detect if in Own Install or in Colab\n",
        "try:\n",
        "    import google.colab\n",
        "    OWN_INSTALL = False\n",
        "except:\n",
        "    OWN_INSTALL = True\n",
        "    \n",
        "if OWN_INSTALL:\n",
        "    \n",
        "  #---- Leave these definitions ON if running on laptop\n",
        "  #---- Else turn OFF by putting them between ''' ... '''\n",
        "\n",
        "  sys.path[0:0] = ['../../../../..',  '../../../../../3rdparty',  \n",
        "                   '../../../..',  '../../../../3rdparty',  \n",
        "                   '../../..',     '../../../3rdparty', \n",
        "                   '../..',        '../../3rdparty',\n",
        "                   '..',           '../3rdparty' ]\n",
        "\n",
        "else: # In colab\n",
        "  ! if [ ! -d Jove ]; then git clone https://github.com/ganeshutah/Jove Jove; fi\n",
        "  sys.path.append('./Jove')\n",
        "  sys.path.append('./Jove/jove')\n",
        "\n",
        "# -- common imports --\n",
        " \n",
        "from jove.LangDef   import *  #-- mainly for nthnumeric\n",
        "from jove.Def_md2mc import *  #-- for md2mc\n",
        "from jove.Def_DFA   import *  #-- for all DFA functions\n",
        "from jove.DotBashers import * #-- for dotObj_dfa\n",
        "\n",
        "from jove.Def_NFA import *\n",
        "from jove.Def_RE2NFA import *\n",
        "from jove.Def_NFA2RE import * #-- to check Even010 via RE and NFA\n",
        "#~~~~~~~~~~~~~~~~~~~~~~~~~~~~~~~~~~~~~~~~~~~~~~~~~~~~~~~"
      ]
    },
    {
      "cell_type": "markdown",
      "metadata": {
        "id": "pyzZYYushHv9"
      },
      "source": [
        "# Total points are 150. This helps us avoid wierd fractional points for each part below. Finally we will scale it to 100.\n",
        "\n",
        "# Also the material almost entirely depends on 06_RE/RegLang_Tutorial.ipynb . \n",
        "\n",
        "# This assignment is __deliberately__ kept instruction-sparse but we expect a certain number of steps to be carefully used. In particular:\n",
        "\n",
        "## To obtain NFA from RE, Getting DFA from NFA, minimizing DFA, operations on DFA (union, intersection, complementation, reversal), you must know which functions do this (use help(function) printout if you like). All Jove functions are also nicely listed in the Appendix of our book - with examples of use also mentioned there! Also DFA can be turned into an NFA and a GNFA.\n",
        "\n",
        "## You know that you can't directly complement an RE, etc. But we expect you not to guess the steps but use the aforesaid steps to actually get it done\n",
        "\n",
        "## To put strings together, you can do this: \"(\" + s + \")*\" embeds a string \"s\" in parentheses and stars the whole. so if \"s\" were to be \"(a+b)\" before, you now get \"((a+b))*\".\n",
        "\n",
        "## The steps will vary. Avoid hugely nested one-liners entirely. Here is a good solution.\n",
        "\n",
        "## * Starting_RE = \"...a string...\"\n",
        "\n",
        "## * NFA_from_RE = conversion of above to NFA\n",
        "\n",
        "## * DFA_for_RE = conversion of above NFA to DFA\n",
        "\n",
        "# Don't write it as f(g(h(i(j(args, args), args)))) as it is hard to grade\n"
      ]
    },
    {
      "cell_type": "markdown",
      "metadata": {
        "id": "p-yLCjKKdX4v"
      },
      "source": [
        "# Question 1 (90 points for this question): Obtain the DFA of Question-2 more systematically. \n",
        "\n",
        "## This question has these parts: a:5, b:20, c:10, d:5, e:20, f:10, g:10, h:10\n",
        "\n",
        "## 1a (5 pts): Write down an important piece of our desired language as a regular expression\n",
        "\n",
        "$L_{010}$ = $    \\{0,1\\}^* \\{010\\}\\{0,1\\}^*  $"
      ]
    },
    {
      "cell_type": "markdown",
      "source": [
        "# SOLUTION CELLS FOLLOW"
      ],
      "metadata": {
        "id": "RsK2QgQIiBjo"
      }
    },
    {
      "cell_type": "code",
      "source": [
        "L010 =    #-- \"...fill the regexp for L_010 above  here \" "
      ],
      "metadata": {
        "id": "6dkKtsqy108N"
      },
      "execution_count": null,
      "outputs": []
    },
    {
      "cell_type": "markdown",
      "source": [
        "## 1b (20 pts): We recall that $L_{010}$ had to be complemented in Asg2's DFA. Unfortunately, our RE language does not include complements. Your task is to pay attention to lectures Lec7 on and find a way to obtain a regular expression for $ LC_{010} = \\overline {  \\{0,1\\}^* \\{010\\}\\{0,1\\}^*  } $. The steps are up to you to design.\n",
        "\n",
        "\n"
      ],
      "metadata": {
        "id": "y3JwaxKy2tQq"
      }
    },
    {
      "cell_type": "markdown",
      "source": [
        "# SOLUTION CELLS FOLLOW"
      ],
      "metadata": {
        "id": "3iH1X7gciKco"
      }
    },
    {
      "cell_type": "code",
      "source": [
        "    # -- steps with documentation"
      ],
      "metadata": {
        "id": "XFnvERtW2qDx"
      },
      "execution_count": null,
      "outputs": []
    },
    {
      "cell_type": "code",
      "source": [],
      "metadata": {
        "id": "6Cc84ghIoVzs"
      },
      "execution_count": null,
      "outputs": []
    },
    {
      "cell_type": "code",
      "source": [],
      "metadata": {
        "id": "14WrkPh0oWgE"
      },
      "execution_count": null,
      "outputs": []
    },
    {
      "cell_type": "code",
      "source": [],
      "metadata": {
        "id": "uhbxZAPwoZyN"
      },
      "execution_count": null,
      "outputs": []
    },
    {
      "cell_type": "code",
      "source": [],
      "metadata": {
        "id": "08l7xBJ93Y7D"
      },
      "execution_count": null,
      "outputs": []
    },
    {
      "cell_type": "code",
      "source": [],
      "metadata": {
        "id": "tkFloMQUoik-"
      },
      "execution_count": null,
      "outputs": []
    },
    {
      "cell_type": "code",
      "source": [],
      "metadata": {
        "id": "gRMjeJVHokzV"
      },
      "execution_count": null,
      "outputs": []
    },
    {
      "cell_type": "code",
      "source": [],
      "metadata": {
        "id": "LgLYpKh4ooFd"
      },
      "execution_count": null,
      "outputs": []
    },
    {
      "cell_type": "code",
      "source": [],
      "metadata": {
        "id": "MGdbNKdvosH1"
      },
      "execution_count": null,
      "outputs": []
    },
    {
      "cell_type": "code",
      "source": [],
      "metadata": {
        "id": "Kpg-d0nQoua0"
      },
      "execution_count": null,
      "outputs": []
    },
    {
      "cell_type": "code",
      "source": [],
      "metadata": {
        "id": "raNmQrYNowAU"
      },
      "execution_count": null,
      "outputs": []
    },
    {
      "cell_type": "code",
      "source": [],
      "metadata": {
        "id": "RozBZewWoz7b"
      },
      "execution_count": null,
      "outputs": []
    },
    {
      "cell_type": "code",
      "source": [],
      "metadata": {
        "id": "VyzG_zyYo30z"
      },
      "execution_count": null,
      "outputs": []
    },
    {
      "cell_type": "code",
      "source": [],
      "metadata": {
        "id": "4Ko_zeq4o7lD"
      },
      "execution_count": null,
      "outputs": []
    },
    {
      "cell_type": "code",
      "source": [],
      "metadata": {
        "id": "nSy13bCuo8kz"
      },
      "execution_count": null,
      "outputs": []
    },
    {
      "cell_type": "code",
      "source": [
        "LC010 = \"... here, you must have a regexp for LC_{010} mentioned above\""
      ],
      "metadata": {
        "id": "C9EgwWvk3dLS"
      },
      "execution_count": null,
      "outputs": []
    },
    {
      "cell_type": "markdown",
      "source": [
        "# 1c (10 pts): Verify that LC010 is right. Hint: reobtain a minimal DFA and establish isomorphism with a minimal complement DFA in an earlier stage for $LC_{010}$."
      ],
      "metadata": {
        "id": "USg3ijt3fThA"
      }
    },
    {
      "cell_type": "markdown",
      "source": [
        "# SOLUTION CELLS FOLLOW"
      ],
      "metadata": {
        "id": "_J0OQnaliQmP"
      }
    },
    {
      "cell_type": "markdown",
      "source": [
        "# 1d (5 pts): Now fill in all the steps needed to write out the RE for $ L =   ( \\;\\; \\overline {\\{0,1\\}^* \\; \\{010\\}\\; \\{0,1\\}^* }\\;\\; (010) \\;\\; \\overline {\\{0,1\\}^* \\{010\\}\\{0,1\\}^*} \\;\\; (010)\\;\\; )*  $"
      ],
      "metadata": {
        "id": "Q-BvhqwQY7my"
      }
    },
    {
      "cell_type": "markdown",
      "source": [
        "# SOLUTION CELLS FOLLOW"
      ],
      "metadata": {
        "id": "y4rm1R_TiSVv"
      }
    },
    {
      "cell_type": "code",
      "source": [
        "# -- More steps to finally obtain the RE for L\n",
        "\n",
        "L_RE = \"...\" #- form L_RE suitably"
      ],
      "metadata": {
        "id": "UJ695xUo3oqQ"
      },
      "execution_count": null,
      "outputs": []
    },
    {
      "cell_type": "markdown",
      "source": [
        "# 1e (20 pts): Now finish all the steps to write out the correct DFA for $L$. Call it Correct010DFA. NOTE: It must be minimized!!"
      ],
      "metadata": {
        "id": "xXXbeDHjZ-vV"
      }
    },
    {
      "cell_type": "code",
      "source": [],
      "metadata": {
        "id": "npwdeyWzpFMz"
      },
      "execution_count": null,
      "outputs": []
    },
    {
      "cell_type": "code",
      "source": [],
      "metadata": {
        "id": "M6Ub4l29sr9Z"
      },
      "execution_count": null,
      "outputs": []
    },
    {
      "cell_type": "code",
      "source": [],
      "metadata": {
        "id": "pkQPT5uMtyOZ"
      },
      "execution_count": null,
      "outputs": []
    },
    {
      "cell_type": "code",
      "source": [],
      "metadata": {
        "id": "J1Ym9iuspJKb"
      },
      "execution_count": null,
      "outputs": []
    },
    {
      "cell_type": "code",
      "source": [],
      "metadata": {
        "id": "Fh0grZxOpL4Y"
      },
      "execution_count": null,
      "outputs": []
    },
    {
      "cell_type": "code",
      "source": [],
      "metadata": {
        "id": "nfFWFv1ipP3x"
      },
      "execution_count": null,
      "outputs": []
    },
    {
      "cell_type": "markdown",
      "source": [
        "# SOLUTION CELLS FOLLOW"
      ],
      "metadata": {
        "id": "HqG7cpuFiTSf"
      }
    },
    {
      "cell_type": "code",
      "source": [
        "# Correct010DFA = # --- the DFA is assigned to this variable"
      ],
      "metadata": {
        "id": "rxku_Jx9aGvX"
      },
      "execution_count": null,
      "outputs": []
    },
    {
      "cell_type": "markdown",
      "source": [
        "# 1f(10 pts): Run __seven__ MustPass and __three__ MustFail tests through Correct101DFA. \n",
        "\n",
        "## Your tests must include these MustPass  (add one more to make seven). Blanks added for readability only! There are seven final states, so the full list of seven test strings __must hit each of the seven final states!__ . A few extra ones from your side are OK; mark them as \"extra ones\". Here are some that you must run. Run as many more as necessary to hit each final state.\n",
        "\n",
        "### 010 010 010 010    \n",
        "       \n",
        "### 01010101010\n",
        "\n",
        "### 1010101010 \n",
        "\n",
        "### 110010001010\n",
        "\n",
        "### some more\n"
      ],
      "metadata": {
        "id": "ksEKb0Q1mTVZ"
      }
    },
    {
      "cell_type": "code",
      "source": [
        "from jove.AnimateDFA import *\n",
        "AnimateDFA(Correct010DFA, FuseEdges=True)\n",
        "display(HTML('<link rel=\"stylesheet\" href=\"//stackpath.bootstrapcdn.com/font-awesome/4.7.0/css/font-awesome.min.css\"/>'))"
      ],
      "metadata": {
        "id": "GtPcmazCpXWY"
      },
      "execution_count": null,
      "outputs": []
    },
    {
      "cell_type": "code",
      "source": [
        "from jove.AnimateDFA import *\n",
        "AnimateDFA(Correct010DFA, FuseEdges=True)\n",
        "display(HTML('<link rel=\"stylesheet\" href=\"//stackpath.bootstrapcdn.com/font-awesome/4.7.0/css/font-awesome.min.css\"/>'))"
      ],
      "metadata": {
        "id": "of9O0DtUpe3W"
      },
      "execution_count": null,
      "outputs": []
    },
    {
      "cell_type": "code",
      "source": [
        "from jove.AnimateDFA import *\n",
        "AnimateDFA(Correct010DFA, FuseEdges=True)\n",
        "display(HTML('<link rel=\"stylesheet\" href=\"//stackpath.bootstrapcdn.com/font-awesome/4.7.0/css/font-awesome.min.css\"/>'))"
      ],
      "metadata": {
        "id": "c-UQ3KTApfCe"
      },
      "execution_count": null,
      "outputs": []
    },
    {
      "cell_type": "code",
      "source": [
        "from jove.AnimateDFA import *\n",
        "AnimateDFA(Correct010DFA, FuseEdges=True)\n",
        "display(HTML('<link rel=\"stylesheet\" href=\"//stackpath.bootstrapcdn.com/font-awesome/4.7.0/css/font-awesome.min.css\"/>'))"
      ],
      "metadata": {
        "id": "sllPs-EypfNu"
      },
      "execution_count": null,
      "outputs": []
    },
    {
      "cell_type": "code",
      "source": [
        "from jove.AnimateDFA import *\n",
        "AnimateDFA(Correct010DFA, FuseEdges=True)\n",
        "display(HTML('<link rel=\"stylesheet\" href=\"//stackpath.bootstrapcdn.com/font-awesome/4.7.0/css/font-awesome.min.css\"/>'))"
      ],
      "metadata": {
        "id": "h0r3_U-RpfYu"
      },
      "execution_count": null,
      "outputs": []
    },
    {
      "cell_type": "code",
      "source": [
        "from jove.AnimateDFA import *\n",
        "AnimateDFA(Correct010DFA, FuseEdges=True)\n",
        "display(HTML('<link rel=\"stylesheet\" href=\"//stackpath.bootstrapcdn.com/font-awesome/4.7.0/css/font-awesome.min.css\"/>'))"
      ],
      "metadata": {
        "id": "TJGjL4sTpfw4"
      },
      "execution_count": null,
      "outputs": []
    },
    {
      "cell_type": "code",
      "source": [
        "from jove.AnimateDFA import *\n",
        "AnimateDFA(Correct010DFA, FuseEdges=True)\n",
        "display(HTML('<link rel=\"stylesheet\" href=\"//stackpath.bootstrapcdn.com/font-awesome/4.7.0/css/font-awesome.min.css\"/>'))"
      ],
      "metadata": {
        "id": "5Vemh_s4pf5n"
      },
      "execution_count": null,
      "outputs": []
    },
    {
      "cell_type": "markdown",
      "source": [
        "# SOLUTION CELLS FOLLOW"
      ],
      "metadata": {
        "id": "B0PC7hXMni7k"
      }
    },
    {
      "cell_type": "markdown",
      "source": [
        "\n",
        "## Your tests must include these MustFail  (add one more to make three). Blanks added for readability only! A few more than three is OK. Mark it as \"extra ones from your side\".\n",
        "\n",
        "\n",
        "### 010    010   010  010 010\n",
        "\n",
        "### 010010 010   010010  010 1\n",
        "\n",
        " "
      ],
      "metadata": {
        "id": "4MtclXyGnsnm"
      }
    },
    {
      "cell_type": "code",
      "source": [
        "from jove.AnimateDFA import *\n",
        "AnimateDFA(Correct010DFA, FuseEdges=True)\n",
        "display(HTML('<link rel=\"stylesheet\" href=\"//stackpath.bootstrapcdn.com/font-awesome/4.7.0/css/font-awesome.min.css\"/>'))"
      ],
      "metadata": {
        "id": "7ojiXtOGpgT_"
      },
      "execution_count": null,
      "outputs": []
    },
    {
      "cell_type": "code",
      "source": [
        "from jove.AnimateDFA import *\n",
        "AnimateDFA(Correct010DFA, FuseEdges=True)\n",
        "display(HTML('<link rel=\"stylesheet\" href=\"//stackpath.bootstrapcdn.com/font-awesome/4.7.0/css/font-awesome.min.css\"/>'))"
      ],
      "metadata": {
        "id": "KHeV3-PruQgB"
      },
      "execution_count": null,
      "outputs": []
    },
    {
      "cell_type": "code",
      "source": [
        "from jove.AnimateDFA import *\n",
        "AnimateDFA(Correct010DFA, FuseEdges=True)\n",
        "display(HTML('<link rel=\"stylesheet\" href=\"//stackpath.bootstrapcdn.com/font-awesome/4.7.0/css/font-awesome.min.css\"/>'))"
      ],
      "metadata": {
        "id": "6ccLqHYduQpP"
      },
      "execution_count": null,
      "outputs": []
    },
    {
      "cell_type": "markdown",
      "source": [
        "# SOLUTION CELLS FOLLOW"
      ],
      "metadata": {
        "id": "b8JTTRaVnjNI"
      }
    },
    {
      "cell_type": "markdown",
      "source": [
        "# Someone proposes this Even010 DFA. More on it below..."
      ],
      "metadata": {
        "id": "YbSwNYl5j-7z"
      }
    },
    {
      "cell_type": "code",
      "execution_count": null,
      "metadata": {
        "id": "wFevIiOMewRD"
      },
      "outputs": [],
      "source": [
        "Even010 = md2mc('''\n",
        "DFA \n",
        "\n",
        "!! Put comments describing overall plan here. Look at 00_Overview_Of_CS3100 for commenting conventions\n",
        "\n",
        "!!  \n",
        " \n",
        "!! ... After key lines of the DFA, put short comments specific to the line ...\n",
        "!! ... Also, group lines for each state in nice bunches ...\n",
        " \n",
        "IF  : 0 -> S0\n",
        "IF  : 1 -> S1\n",
        "\n",
        "S0  : 0 -> S0\n",
        "\n",
        "S0  : 1 -> S01\n",
        "\n",
        "S01 : 0 -> S010\n",
        "S01 : 1 -> S1\n",
        "\n",
        "S1 : 1 -> S1\n",
        "\n",
        "S1 : 0 -> S0\n",
        "\n",
        "S010    : 0 -> S0100\n",
        "S010    : 1 -> S010\n",
        "\n",
        "S0100   : 0 -> S0100\n",
        "\n",
        "S0100   : 1 -> S01001\n",
        "\n",
        "S01001  : 0 -> IF\n",
        "S01001  : 1 -> S010\n",
        " \n",
        "''')"
      ]
    },
    {
      "cell_type": "markdown",
      "source": [
        "# 1g (10 pts): Now suppose someone believes that the DFA Even010 (__above__) is right for L. Show what is in Correct010DFA that is not in Even010 -- __as a DFA__ . That means, obtain an entire DFA capturing all the missing strings! Call it MissedDFA. __In your answer, present how many states the minimal MissedDFA has!__"
      ],
      "metadata": {
        "id": "XoNCXVfLZ20N"
      }
    },
    {
      "cell_type": "markdown",
      "source": [
        "# SOLUTION CELLS FOLLOW"
      ],
      "metadata": {
        "id": "c3XENsrvie4G"
      }
    },
    {
      "cell_type": "code",
      "source": [
        "#-- Steps that list MissedDFA  are below\n",
        "#-- \n",
        "\n"
      ],
      "metadata": {
        "id": "dCBefpyviY7N"
      },
      "execution_count": null,
      "outputs": []
    },
    {
      "cell_type": "code",
      "source": [],
      "metadata": {
        "id": "IJueEddQvdQX"
      },
      "execution_count": null,
      "outputs": []
    },
    {
      "cell_type": "markdown",
      "source": [
        "# 1h(10 pts): Generate MissedDFA in steps below, and print it using dotObj_dfa. Then  run this DFA via numeric order enumeration and find out 10 strings present in this MissedDFA (that were missing in Even010 DFA)."
      ],
      "metadata": {
        "id": "n0_dvayXhpty"
      }
    },
    {
      "cell_type": "markdown",
      "source": [
        "# SOLUTION CELLS FOLLOW"
      ],
      "metadata": {
        "id": "wVyKxQq3lPGM"
      }
    },
    {
      "cell_type": "code",
      "source": [
        "#-- Steps that that tell us what was missed by Even010 DFA. What you missed must appear as a numeric order listing with five \"Accept\" strings (more is OK)\n",
        "\n",
        "#-- "
      ],
      "metadata": {
        "id": "7Qd67D_6lGGD"
      },
      "execution_count": null,
      "outputs": []
    },
    {
      "cell_type": "code",
      "source": [],
      "metadata": {
        "id": "grnjhiI0aTpD"
      },
      "execution_count": null,
      "outputs": []
    },
    {
      "cell_type": "markdown",
      "metadata": {
        "id": "a8fbUtbzlMf-"
      },
      "source": [
        "# Question 2 (10 pts): Now, go back RegLang_Tutorial.ipynb . You see a \"nfa1\", \"dfa1\" and an \"mdfa1\" in it. Answer the question below wrt these DFA. The said items are reproduced below for your convenience."
      ]
    },
    {
      "cell_type": "code",
      "source": [
        "nfa1 = md2mc('''\n",
        "NFA\n",
        "\n",
        "IF : '' | a -> A\n",
        "\n",
        "A  : '' | b -> B\n",
        "\n",
        "B  : ''     -> C\n",
        "\n",
        "C  : '' | a -> IF\n",
        "\n",
        "C  : a | c  -> D\n",
        "\n",
        "D  : a      -> F\n",
        "\n",
        "''')"
      ],
      "metadata": {
        "id": "sLLYZ9wSw2aW"
      },
      "execution_count": null,
      "outputs": []
    },
    {
      "cell_type": "code",
      "source": [
        "dotObj_nfa(nfa1)"
      ],
      "metadata": {
        "id": "kFLoq3aVx5Ie"
      },
      "execution_count": null,
      "outputs": []
    },
    {
      "cell_type": "code",
      "source": [
        "dfa1 = nfa2dfa(nfa1, STATENAME_MAXSIZE = 10)\n",
        "dotObj_dfa(dfa1)"
      ],
      "metadata": {
        "id": "49iP4OLextlD"
      },
      "execution_count": null,
      "outputs": []
    },
    {
      "cell_type": "code",
      "source": [
        "mdfa1 = min_dfa_brz(dfa1) # <--- Make sure you understand min_dfa_brz 100% !!"
      ],
      "metadata": {
        "id": "Jom1Hf3Yx24f"
      },
      "execution_count": null,
      "outputs": []
    },
    {
      "cell_type": "code",
      "source": [
        "dotObj_dfa(mdfa1)"
      ],
      "metadata": {
        "id": "25VDilNAyBE-"
      },
      "execution_count": null,
      "outputs": []
    },
    {
      "cell_type": "markdown",
      "metadata": {
        "id": "VCr5BDfulhiV"
      },
      "source": [
        "###  Explain why it is OK to leave some of the states in dfa1 (Original) to obtain mdfa1  (Minimized)\n",
        "\n",
        "Here is how you must form your answer in the \"Answer\"\" field below that you must submit:\n",
        "\n",
        "* **Pick the first state**  in \"Original - Minimized\" (call it  __S1__). This is the first state in Original that is found missing in Minimized.  **Depending on how Python hashes, this first state may vary run-to-run. That is OK. Settle on one! **\n",
        "\n",
        " \n",
        "\n",
        "* Now you want to argue that Minimized is still correct. Proceed as follows.\n",
        "\n",
        "* Find the shortest string, w,  in numeric order that reached __S1__ in Original\n",
        "\n",
        "* Find the state that the same string w reaches in Minimized. Call that __S2__\n",
        "\n",
        "* Since the DFA was correctly minimized, it must be the case that __S1__ and __S2__ are equivalent. Let us spot-check that this state equivalence holds.\n",
        "\n",
        "* Note down the states that  __S1__ reaches on a $0$ and a $1$, respectively. Call those states __S10__ and __S11__ .\n",
        "\n",
        "* Note down the states that  __S2__ reaches on a $0$ and a $1$, respectively. Call those states __S20__ and __S21__ .\n",
        "\n",
        "* It must be the case that __S10__ is accepting iff __S20__ is accepting. \n",
        "\n",
        "* Likewise, __S11__ is accepting iff __S21__ is accepting."
      ]
    },
    {
      "cell_type": "markdown",
      "source": [
        "# SOLUTION CELLS FOLLOW"
      ],
      "metadata": {
        "id": "QiBLGaZTikhu"
      }
    },
    {
      "cell_type": "markdown",
      "metadata": {
        "id": "TWSgWzxDlrU7"
      },
      "source": [
        "**Answer:**  Answer by editing these lines as per your machine:\n",
        "\n",
        "* I find that state S1 [...]  is in Original but is missing in Minimized (edit as necessary to put in the __actual__ state name that is found in the former but missing in the latter state.)\n",
        "\n",
        "* I find that the shortest string, w, reaching S1 is w [...] : (edit-in the actual string, in place of string w)\n",
        "\n",
        "* Now I find that the same w reaches state S2 in Minimized : (edit-in the actual state name in place of S2) [ ... ]\n",
        "\n",
        "* Now upon a, S1 goes to state S10 while S2 goes to S20, and they are both accepting/non-accepting:  (edit-in the actual states S10 and S20, and indicate whether they are both accepting---or they are both non-accepting)\n",
        "\n",
        "* Upon a b, S1 goes to S11 while S21 goes to S21 and they are both accepting/non-accepting:  (edit-in the actual states S11 and S21, and indicate whether they are both accepting---or they are both non-accepting)\n",
        "\n",
        "* Thus I have spot-checked that the minimized machine is correctly produced.\n",
        "\n",
        "\n",
        "== ANSWER ==\n",
        "\n",
        " "
      ]
    },
    {
      "cell_type": "markdown",
      "source": [],
      "metadata": {
        "id": "Znnp3fxYttki"
      }
    },
    {
      "cell_type": "markdown",
      "source": [
        "# Question 3 (50 pts split as below): \n",
        "\n",
        "## 3a:20 ( Explain each of the DO[..] printout steps in 2 sentences each\n",
        "\n",
        "## 3b:30 This has three tasks\n",
        "\n",
        "### 3b(i): 20\n",
        "\n",
        "### 3b(ii): 5\n",
        "\n",
        "### 3b(iii): 5\n",
        "\n",
        "Explain the conversion of nfa1 to an RE. Use Jove commands. Eliminate states in the order A,B,C,D, F, IF. Obtain the final RE.  Verify that is the right RE by taking it, obtaining a minimal DFA, and then taking nfa1 to its own minimal DFA, and finally showing they are isomorphic."
      ],
      "metadata": {
        "id": "a8-bqhqTctQI"
      }
    },
    {
      "cell_type": "markdown",
      "source": [
        "# 3a (20 pts) : All the steps till obtaining the final RE are  to be shown below. You can of course use Jove to do this. But show the DO[1] , DO[2] , ..  printouts and explain each such step in 2 sentences"
      ],
      "metadata": {
        "id": "EgqWaIUSeLrs"
      }
    },
    {
      "cell_type": "markdown",
      "source": [
        "# SOLUTION CELLS FOLLOW"
      ],
      "metadata": {
        "id": "XEomGo5Vioz8"
      }
    },
    {
      "cell_type": "code",
      "source": [
        "dotObj_nfa(nfa1)\n",
        "gnfa1 =  \n",
        "dotObj_gnfa(gnfa1)"
      ],
      "metadata": {
        "id": "LEBKhAAbyG31"
      },
      "execution_count": null,
      "outputs": []
    },
    {
      "cell_type": "code",
      "source": [
        "help(del_gnfa_states)"
      ],
      "metadata": {
        "id": "HBIAxJ7-y_ev"
      },
      "execution_count": null,
      "outputs": []
    },
    {
      "cell_type": "code",
      "source": [
        "DelList=['A','B','C','D','F','IF']\n",
        "(Gf, DO, REfin) = del_gnfa_states(gnfa1, DelList) # <-- make sure you follow this 100%"
      ],
      "metadata": {
        "id": "17AoVH1PzF2_"
      },
      "execution_count": null,
      "outputs": []
    },
    {
      "cell_type": "code",
      "source": [
        "dotObj_gnfa(Gf)"
      ],
      "metadata": {
        "id": "lpB5NdtSzXk1"
      },
      "execution_count": null,
      "outputs": []
    },
    {
      "cell_type": "code",
      "source": [
        "REfin"
      ],
      "metadata": {
        "id": "Lzmi3w2ZzaXM"
      },
      "execution_count": null,
      "outputs": []
    },
    {
      "cell_type": "code",
      "source": [
        "DO[0]"
      ],
      "metadata": {
        "id": "6ubv_rMrzcsE"
      },
      "execution_count": null,
      "outputs": []
    },
    {
      "cell_type": "code",
      "source": [
        "DO[1]"
      ],
      "metadata": {
        "id": "kHUadoUcziMc"
      },
      "execution_count": null,
      "outputs": []
    },
    {
      "cell_type": "code",
      "source": [
        "DO[2]"
      ],
      "metadata": {
        "id": "v16Q3lvYzjsj"
      },
      "execution_count": null,
      "outputs": []
    },
    {
      "cell_type": "code",
      "source": [
        "DO[3]"
      ],
      "metadata": {
        "id": "Ohp_RgBjzkdT"
      },
      "execution_count": null,
      "outputs": []
    },
    {
      "cell_type": "code",
      "source": [
        "DO[4]"
      ],
      "metadata": {
        "id": "PIPhGvdbzlvL"
      },
      "execution_count": null,
      "outputs": []
    },
    {
      "cell_type": "code",
      "source": [
        "DO[5]"
      ],
      "metadata": {
        "id": "X_3NK_2JznHj"
      },
      "execution_count": null,
      "outputs": []
    },
    {
      "cell_type": "code",
      "source": [
        "DO[6]"
      ],
      "metadata": {
        "id": "Hxhb3p7-zozj"
      },
      "execution_count": null,
      "outputs": []
    },
    {
      "cell_type": "code",
      "source": [],
      "metadata": {
        "id": "oVsbq8GSzqTc"
      },
      "execution_count": null,
      "outputs": []
    },
    {
      "cell_type": "code",
      "source": [],
      "metadata": {
        "id": "29dV0qxXyOgE"
      },
      "execution_count": null,
      "outputs": []
    },
    {
      "cell_type": "markdown",
      "source": [
        "\n",
        "\n",
        "# 3b (30 pts): \n",
        "\n",
        "## 3b(i): (20 pts): All the steps to verify the final RE obtained after the \"DO[..]\" series are to be provided as answer to this question. You can use Jove tooling to verify this RE.\n",
        "\n",
        ">> (OLD wording is here: Also double-check two derivations by hand and attach a scanned PNG inserted into the Jove notebook. Better wording is above.)\n",
        "\n",
        "# * 3b(ii): (5 pts): Show the \"C\" state elimination - hand-check and include in your png. Please do this after turning the initial NFA into a GNFA and doing that \"C\" state elimination.\n",
        "\n",
        "# * 3b(iii): (5 pts) Show the \"IF\" state elimination - show in your png. Do this after the above \"C\"-state elimination is finished."
      ],
      "metadata": {
        "id": "-4cPmv1KeVCL"
      }
    },
    {
      "cell_type": "markdown",
      "source": [
        "# SOLUTION CELLS FOLLOW"
      ],
      "metadata": {
        "id": "pzaz-Ehripfj"
      }
    },
    {
      "cell_type": "markdown",
      "metadata": {
        "id": "f2-TQO36qw8M"
      },
      "source": [
        "# *** DUDE, DID you run all cells afresh before submission?? Thank you!! *** \n",
        "\n",
        "# THE END"
      ]
    }
  ],
  "metadata": {
    "colab": {
      "provenance": [],
      "collapsed_sections": []
    },
    "kernelspec": {
      "display_name": "Python 3",
      "language": "python",
      "name": "python3"
    },
    "language_info": {
      "codemirror_mode": {
        "name": "ipython",
        "version": 3
      },
      "file_extension": ".py",
      "mimetype": "text/x-python",
      "name": "python",
      "nbconvert_exporter": "python",
      "pygments_lexer": "ipython3",
      "version": "3.8.5"
    }
  },
  "nbformat": 4,
  "nbformat_minor": 0
}