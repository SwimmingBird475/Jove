{
  "cells": [
    {
      "cell_type": "markdown",
      "metadata": {
        "id": "PwYWD2DJyH1_",
        "run_control": {
          "frozen": false,
          "read_only": false
        }
      },
      "source": [
        "# Asg-4 imports \n"
      ]
    },
    {
      "cell_type": "code",
      "execution_count": 136,
      "metadata": {
        "id": "1Xgq_sM8yH2A",
        "run_control": {
          "frozen": false,
          "read_only": false
        },
        "scrolled": true
      },
      "outputs": [],
      "source": [
        "#~~~~~~~~~~~~~~~~~~~~~~~~~~~~~~~~~~~~~~~~~~~~~~~~~~~~~~~\n",
        "import sys\n",
        "\n",
        "# -- Detect if in Own Install or in Colab\n",
        "try:\n",
        "    import google.colab\n",
        "    OWN_INSTALL = False\n",
        "except:\n",
        "    OWN_INSTALL = True\n",
        "    \n",
        "if OWN_INSTALL:\n",
        "    \n",
        "  #---- Leave these definitions ON if running on laptop\n",
        "  #---- Else turn OFF by putting them between ''' ... '''\n",
        "\n",
        "  sys.path[0:0] = ['../../../../..',  '../../../../../3rdparty',  \n",
        "                   '../../../..',  '../../../../3rdparty',  \n",
        "                   '../../..',     '../../../3rdparty', \n",
        "                   '../..',        '../../3rdparty',\n",
        "                   '..',           '../3rdparty' ]\n",
        "\n",
        "else: # In colab\n",
        "  ! if [ ! -d Jove ]; then git clone https://github.com/ganeshutah/Jove Jove; fi\n",
        "  sys.path.append('./Jove')\n",
        "  sys.path.append('./Jove/jove')\n",
        "\n",
        "# -- common imports --\n",
        "from jove.DotBashers import *\n",
        "from jove.Def_md2mc  import *\n",
        "from jove.AnimatePDA import *\n",
        "from jove.Def_PDA    import *\n",
        "#~~~~~~~~~~~~~~~~~~~~~~~~~~~~~~~~~~~~~~~~~~~~~~~~~~~~~~~"
      ]
    },
    {
      "cell_type": "markdown",
      "metadata": {
        "id": "9DWYCndfyH1-"
      },
      "source": [
        "## Question 1: \n",
        " "
      ]
    },
    {
      "cell_type": "markdown",
      "metadata": {
        "id": "vs-OI0ooqI9N"
      },
      "source": [
        "Prove that this language is not regular \n",
        "\n",
        "$L_{if} = \\{ a^i b^j c^k \\;:\\; i,j,k\\ge 0,\\; {\\rm and}\\; {\\rm if}\\; (i=2)\\; {\\rm then}\\; (j=k)  \\}$\n",
        "\n",
        "Hint: Consider the reverse of $L_{if}$ calling it the language $LR_{if}$, prove that $LR_{if}$ is non-regular using the Pumping Lemma. Then, justify why this means that $L_{if}$ is non-regular.\n"
      ]
    },
    {
      "cell_type": "markdown",
      "metadata": {
        "id": "Jpw2HZKZqNim"
      },
      "source": [
        "\n",
        "\n",
        "```\n",
        "# This is formatted as code\n",
        "```\n",
        "\n",
        "- Answer: \n",
        "\n",
        "  $LR_{if} = \\{ c^k b^j a^i \\;:\\; i,j,k\\ge 0,\\; {\\rm and}\\; {\\rm if}\\; (i=2)\\; {\\rm then}\\; (j=k)  \\}$\n",
        "\n",
        "  $w = xy^iz =  ccbbaa$ \n",
        "  \n",
        "  c  c  bbaa \n",
        "  \n",
        "  c bbaa not in $LR_{if}$\n",
        "\n",
        "  c cc bbaa not in $LR_{if}$\n",
        "\n",
        "  c ccc bbaa not in $LR_{if}$\n",
        "\n",
        "  Since When L is regular than rev(L) is also regular, and\n",
        "  When L is non-regular than rev(L) is also non-regular. Thus, prooving $LR_{if}$ is non-regular means $L_{if} non-regular"
      ]
    },
    {
      "cell_type": "markdown",
      "metadata": {
        "id": "hql4ESGnyH1_"
      },
      "source": [
        "## Question 2:"
      ]
    },
    {
      "cell_type": "markdown",
      "metadata": {
        "id": "WnLP1lkhqUn-"
      },
      "source": [
        "Prove that language $Add$ is not regular \n",
        "\n",
        "Add = {x = y + z where x, y, and z are binary numbers and the addition yields correct result}\n",
        "          \n",
        "More examples of strings in the language $Add$ are below:\n",
        "\n",
        "* String s1 = \"$101=10+11$\" \n",
        "\n",
        "* String s2 = \"$1000 = 100 + 100$\"\n",
        "\n",
        "* String s3 = \"$1011 = 110 + 101$\""
      ]
    },
    {
      "cell_type": "markdown",
      "metadata": {
        "id": "1EFiFyBirWhO"
      },
      "source": [
        "- Answer:\n",
        "\n",
        "$w=xy^iz$\n",
        "\n",
        "For the case String s1\n",
        "\n",
        "1 01=10+11\n",
        "\n",
        "1      =10+11 not in $Add$\n",
        "\n",
        "1 0101 =10+11 not in $Add$"
      ]
    },
    {
      "cell_type": "markdown",
      "metadata": {
        "id": "lvqcw1nwqlTL"
      },
      "source": [
        "## Question 3:"
      ]
    },
    {
      "cell_type": "markdown",
      "metadata": {
        "id": "eBDJu0_8qnSI"
      },
      "source": [
        "Design a PDA called \"a2b\" for the language $\\{a^i b^j : i,j\\ge 0, {\\rm and}\\; j = 2i \\}$.\n",
        "- Some strings in such language are: $abb$, $aabbbb$, $aaabbbbbb$, etc.\n",
        "- Put a \"header block\" of comments (before you list the PDA transitions) that describes the overall stacking strategy. For example:\n",
        "  - !! The PDA uses the stack in THIS WAY while a's arrive\n",
        "  - !! Then when b's arrive, the PDA does THIS\n",
        "  - !! After b's, if $a$'s arrive, the PDA does THIS\n",
        "- After that, fully document your design (line by line)\n",
        "- Then, test your PDA on these strings\n",
        "  1. $\\varepsilon$ (accept)\n",
        "\n",
        "  2. $abb$ (accept)\n",
        "\n",
        "  3. $aabbbb$ (accept)\n",
        "\n",
        "  4. $aaabbbbbb$ (accept)\n",
        "\n",
        "  5. $ab$ (reject)\n",
        "\n",
        "  6. $b$ (reject)\n",
        "\n",
        "  7. $aba$ (reject)\n",
        "\n",
        "  8. $abba$ (reject)\n",
        "- Finally, add two more accepting and two more rejecting tests of your own."
      ]
    },
    {
      "cell_type": "markdown",
      "metadata": {
        "id": "KydC8uUYs3SL"
      },
      "source": [
        "### Given test cases:"
      ]
    },
    {
      "cell_type": "code",
      "execution_count": 137,
      "metadata": {
        "id": "BNUyi9p5yH2B"
      },
      "outputs": [],
      "source": [
        "a2b = md2mc('''\n",
        "PDA\n",
        "\n",
        "!! Overall Algorithm:\n",
        "!! ...a few more points\n",
        "!! The PDA uses the stack in storing doubled as\n",
        "!! Then when b's arrive, the PDA triggers stack pops a up\n",
        "!! After b's, if  𝑎 's arrive, the PDA does nothing, and it results this PDA rejecting the string.\n",
        "\n",
        "!! Now a line-by-line description\n",
        "I   : '', # ; # ->  F     !! In case the input string is empty,\n",
        "                          !! we satisfy acceptance trivially; move into F state\n",
        "I   : a, #  ; aa# -> I    !! a is stacked twice\n",
        "I   : a, a  ; aaa -> I    !! a is stacked twice\n",
        "I   : b, a  ; ''  -> POP  !! b starts and pop a\n",
        "POP : '', # ; #   -> F    !! for string 'a'\n",
        "POP : b, a  ; ''  -> POP  !! pop a\n",
        "''')"
      ]
    },
    {
      "cell_type": "code",
      "execution_count": 138,
      "metadata": {
        "id": "GmL0xdfIyH2B",
        "outputId": "349c2ee5-cb88-4312-fe4a-d9ad31bb80ff",
        "colab": {
          "base_uri": "https://localhost:8080/",
          "height": 205
        }
      },
      "outputs": [
        {
          "output_type": "execute_result",
          "data": {
            "text/plain": [
              "<graphviz.dot.Digraph at 0x7fc7ba9ac6d0>"
            ],
            "image/svg+xml": "<?xml version=\"1.0\" encoding=\"UTF-8\" standalone=\"no\"?>\n<!DOCTYPE svg PUBLIC \"-//W3C//DTD SVG 1.1//EN\"\n \"http://www.w3.org/Graphics/SVG/1.1/DTD/svg11.dtd\">\n<!-- Generated by graphviz version 2.40.1 (20161225.0304)\n -->\n<!-- Title: %3 Pages: 1 -->\n<svg width=\"384pt\" height=\"138pt\"\n viewBox=\"0.00 0.00 384.19 137.60\" xmlns=\"http://www.w3.org/2000/svg\" xmlns:xlink=\"http://www.w3.org/1999/xlink\">\n<g id=\"graph0\" class=\"graph\" transform=\"scale(1 1) rotate(0) translate(4 133.5975)\">\n<title>%3</title>\n<polygon fill=\"#ffffff\" stroke=\"transparent\" points=\"-4,4 -4,-133.5975 380.1949,-133.5975 380.1949,4 -4,4\"/>\n<!-- EMPTY -->\n<g id=\"node1\" class=\"node\">\n<title>EMPTY</title>\n</g>\n<!-- I -->\n<g id=\"node2\" class=\"node\">\n<title>I</title>\n<ellipse fill=\"none\" stroke=\"#000000\" cx=\"109\" cy=\"-22\" rx=\"18\" ry=\"18\"/>\n<text text-anchor=\"middle\" x=\"109\" y=\"-18.3\" font-family=\"Times,serif\" font-size=\"14.00\" fill=\"#000000\">I</text>\n</g>\n<!-- EMPTY&#45;&gt;I -->\n<g id=\"edge1\" class=\"edge\">\n<title>EMPTY&#45;&gt;I</title>\n<path fill=\"none\" stroke=\"#000000\" d=\"M54.3048,-22C62.6909,-22 71.9407,-22 80.4103,-22\"/>\n<polygon fill=\"#000000\" stroke=\"#000000\" points=\"80.5976,-25.5001 90.5976,-22 80.5976,-18.5001 80.5976,-25.5001\"/>\n</g>\n<!-- I&#45;&gt;I -->\n<g id=\"edge3\" class=\"edge\">\n<title>I&#45;&gt;I</title>\n<path fill=\"none\" stroke=\"#000000\" d=\"M105.7643,-39.7817C105.2144,-49.3149 106.293,-58 109,-58 110.6496,-58 111.6945,-54.7749 112.1347,-50.0981\"/>\n<polygon fill=\"#000000\" stroke=\"#000000\" points=\"115.6375,-49.8156 112.2357,-39.7817 108.6379,-49.7469 115.6375,-49.8156\"/>\n<text text-anchor=\"middle\" x=\"109\" y=\"-61.8\" font-family=\"Times,serif\" font-size=\"14.00\" fill=\"#000000\">a, # ; aa#</text>\n</g>\n<!-- I&#45;&gt;I -->\n<g id=\"edge4\" class=\"edge\">\n<title>I&#45;&gt;I</title>\n<path fill=\"none\" stroke=\"#000000\" d=\"M103.6841,-39.4203C100.6538,-56.791 102.4258,-76 109,-76 114.2902,-76 116.4708,-63.5617 115.5419,-49.652\"/>\n<polygon fill=\"#000000\" stroke=\"#000000\" points=\"118.9808,-48.9328 114.3159,-39.4203 112.0305,-49.7657 118.9808,-48.9328\"/>\n<text text-anchor=\"middle\" x=\"109\" y=\"-79.8\" font-family=\"Times,serif\" font-size=\"14.00\" fill=\"#000000\">a, a ; aaa</text>\n</g>\n<!-- POP -->\n<g id=\"node3\" class=\"node\">\n<title>POP</title>\n<ellipse fill=\"none\" stroke=\"#000000\" cx=\"228.5975\" cy=\"-68\" rx=\"28.6953\" ry=\"28.6953\"/>\n<text text-anchor=\"middle\" x=\"228.5975\" y=\"-64.3\" font-family=\"Times,serif\" font-size=\"14.00\" fill=\"#000000\">POP</text>\n</g>\n<!-- I&#45;&gt;POP -->\n<g id=\"edge5\" class=\"edge\">\n<title>I&#45;&gt;POP</title>\n<path fill=\"none\" stroke=\"#000000\" d=\"M125.8817,-28.4931C143.0449,-35.0945 170.1773,-45.5302 192.2468,-54.0187\"/>\n<polygon fill=\"#000000\" stroke=\"#000000\" points=\"191.0732,-57.3172 201.6631,-57.6404 193.5862,-50.7838 191.0732,-57.3172\"/>\n<text text-anchor=\"middle\" x=\"163.5\" y=\"-52.8\" font-family=\"Times,serif\" font-size=\"14.00\" fill=\"#000000\">b, a ; &#39;&#39;</text>\n</g>\n<!-- F -->\n<g id=\"node4\" class=\"node\">\n<title>F</title>\n<ellipse fill=\"none\" stroke=\"#000000\" cx=\"354.1949\" cy=\"-22\" rx=\"18\" ry=\"18\"/>\n<ellipse fill=\"none\" stroke=\"#000000\" cx=\"354.1949\" cy=\"-22\" rx=\"22\" ry=\"22\"/>\n<text text-anchor=\"middle\" x=\"354.1949\" y=\"-18.3\" font-family=\"Times,serif\" font-size=\"14.00\" fill=\"#000000\">F</text>\n</g>\n<!-- I&#45;&gt;F -->\n<g id=\"edge2\" class=\"edge\">\n<title>I&#45;&gt;F</title>\n<path fill=\"none\" stroke=\"#000000\" d=\"M127.1053,-20.1956C145.4528,-18.4641 174.6662,-15.9729 200,-15 225.4012,-14.0245 231.7914,-14.0846 257.1949,-15 278.8762,-15.7813 303.2305,-17.5419 322.1121,-19.1018\"/>\n<polygon fill=\"#000000\" stroke=\"#000000\" points=\"322,-22.6048 332.2605,-19.9641 322.5928,-15.6299 322,-22.6048\"/>\n<text text-anchor=\"middle\" x=\"228.5975\" y=\"-18.8\" font-family=\"Times,serif\" font-size=\"14.00\" fill=\"#000000\">&#39;&#39;, # ; #</text>\n</g>\n<!-- POP&#45;&gt;POP -->\n<g id=\"edge7\" class=\"edge\">\n<title>POP&#45;&gt;POP</title>\n<path fill=\"none\" stroke=\"#000000\" d=\"M216.7029,-94.3467C215.8826,-105.3068 219.8475,-114.5975 228.5975,-114.5975 234.4764,-114.5975 238.1952,-110.4035 239.7539,-104.3271\"/>\n<polygon fill=\"#000000\" stroke=\"#000000\" points=\"243.2448,-104.5776 240.492,-94.3467 236.2639,-104.0613 243.2448,-104.5776\"/>\n<text text-anchor=\"middle\" x=\"228.5975\" y=\"-118.3975\" font-family=\"Times,serif\" font-size=\"14.00\" fill=\"#000000\">b, a ; &#39;&#39;</text>\n</g>\n<!-- POP&#45;&gt;F -->\n<g id=\"edge6\" class=\"edge\">\n<title>POP&#45;&gt;F</title>\n<path fill=\"none\" stroke=\"#000000\" d=\"M255.5413,-58.1318C275.6109,-50.7814 303.0281,-40.7398 323.8658,-33.108\"/>\n<polygon fill=\"#000000\" stroke=\"#000000\" points=\"325.3193,-36.3031 333.5056,-29.5774 322.9119,-29.7301 325.3193,-36.3031\"/>\n<text text-anchor=\"middle\" x=\"294.6949\" y=\"-53.8\" font-family=\"Times,serif\" font-size=\"14.00\" fill=\"#000000\">&#39;&#39;, # ; #</text>\n</g>\n</g>\n</svg>\n"
          },
          "metadata": {},
          "execution_count": 138
        }
      ],
      "source": [
        "dotObj_pda(a2b)"
      ]
    },
    {
      "cell_type": "code",
      "execution_count": 139,
      "metadata": {
        "id": "-I9wnqF0yH2B",
        "outputId": "65a3c8d7-2d2c-4f5d-dc54-b8c6fee23656",
        "colab": {
          "base_uri": "https://localhost:8080/"
        }
      },
      "outputs": [
        {
          "output_type": "stream",
          "name": "stdout",
          "text": [
            "String  accepted by your PDA in 1 ways :-) \n",
            "Here are the ways: \n",
            "Final state  ('F', '', '#')\n",
            "Reached as follows:\n",
            "->  ('I', '', '#')\n",
            "->  ('F', '', '#') .\n"
          ]
        }
      ],
      "source": [
        "explore_pda('', a2b)"
      ]
    },
    {
      "cell_type": "code",
      "execution_count": 140,
      "metadata": {
        "id": "LkT2W1m2yH2B",
        "outputId": "b99f0441-77cb-48d1-f370-c5ed9c83d833",
        "colab": {
          "base_uri": "https://localhost:8080/"
        }
      },
      "outputs": [
        {
          "output_type": "stream",
          "name": "stdout",
          "text": [
            "String abb accepted by your PDA in 1 ways :-) \n",
            "Here are the ways: \n",
            "Final state  ('F', '', '#')\n",
            "Reached as follows:\n",
            "->  ('I', 'abb', '#')\n",
            "->  ('I', 'bb', 'aa#')\n",
            "->  ('POP', 'b', 'a#')\n",
            "->  ('POP', '', '#')\n",
            "->  ('F', '', '#') .\n"
          ]
        }
      ],
      "source": [
        "explore_pda('abb', a2b)"
      ]
    },
    {
      "cell_type": "code",
      "execution_count": 141,
      "metadata": {
        "id": "gfbSu77gyH2B",
        "outputId": "516063db-9934-4afb-f26f-1a163bf83599",
        "colab": {
          "base_uri": "https://localhost:8080/"
        }
      },
      "outputs": [
        {
          "output_type": "stream",
          "name": "stdout",
          "text": [
            "String aabbbb accepted by your PDA in 1 ways :-) \n",
            "Here are the ways: \n",
            "Final state  ('F', '', '#')\n",
            "Reached as follows:\n",
            "->  ('I', 'aabbbb', '#')\n",
            "->  ('I', 'abbbb', 'aa#')\n",
            "->  ('I', 'bbbb', 'aaaa#')\n",
            "->  ('POP', 'bbb', 'aaa#')\n",
            "->  ('POP', 'bb', 'aa#')\n",
            "->  ('POP', 'b', 'a#')\n",
            "->  ('POP', '', '#')\n",
            "->  ('F', '', '#') .\n"
          ]
        }
      ],
      "source": [
        "explore_pda('aabbbb', a2b)"
      ]
    },
    {
      "cell_type": "code",
      "execution_count": 142,
      "metadata": {
        "id": "Wvh5l8LgyH2C",
        "outputId": "4803b23d-f773-4081-85b0-bf7d60a7123e",
        "colab": {
          "base_uri": "https://localhost:8080/"
        }
      },
      "outputs": [
        {
          "output_type": "stream",
          "name": "stdout",
          "text": [
            "String aaabbbbbb accepted by your PDA in 1 ways :-) \n",
            "Here are the ways: \n",
            "Final state  ('F', '', '#')\n",
            "Reached as follows:\n",
            "->  ('I', 'aaabbbbbb', '#')\n",
            "->  ('I', 'aabbbbbb', 'aa#')\n",
            "->  ('I', 'abbbbbb', 'aaaa#')\n",
            "->  ('I', 'bbbbbb', 'aaaaaa#')\n",
            "->  ('POP', 'bbbbb', 'aaaaa#')\n",
            "->  ('POP', 'bbbb', 'aaaa#')\n",
            "->  ('POP', 'bbb', 'aaa#')\n",
            "->  ('POP', 'bb', 'aa#')\n",
            "->  ('POP', 'b', 'a#')\n",
            "->  ('POP', '', '#')\n",
            "->  ('F', '', '#') .\n"
          ]
        }
      ],
      "source": [
        "explore_pda('aaabbbbbb', a2b)"
      ]
    },
    {
      "cell_type": "code",
      "execution_count": 143,
      "metadata": {
        "id": "d6cB517ZyH2C",
        "outputId": "876718d6-5f53-4ac4-a367-fa6177dbdd7e",
        "colab": {
          "base_uri": "https://localhost:8080/"
        }
      },
      "outputs": [
        {
          "output_type": "stream",
          "name": "stdout",
          "text": [
            "String ab rejected by your PDA :-(\n",
            "Visited states are:\n",
            "{('I', 'b', 'aa#'), ('POP', '', 'a#'), ('I', 'ab', '#'), ('F', 'ab', '#')}\n"
          ]
        }
      ],
      "source": [
        "explore_pda('ab', a2b)"
      ]
    },
    {
      "cell_type": "code",
      "execution_count": 144,
      "metadata": {
        "id": "CwwJSo7vyH2C",
        "outputId": "6e251692-3792-47ce-e1d5-e50300405ba7",
        "colab": {
          "base_uri": "https://localhost:8080/"
        }
      },
      "outputs": [
        {
          "output_type": "stream",
          "name": "stdout",
          "text": [
            "String b rejected by your PDA :-(\n",
            "Visited states are:\n",
            "{('F', 'b', '#'), ('I', 'b', '#')}\n"
          ]
        }
      ],
      "source": [
        "explore_pda('b', a2b)"
      ]
    },
    {
      "cell_type": "code",
      "execution_count": 145,
      "metadata": {
        "id": "3KMkj2zcyH2C",
        "outputId": "a2bbe4a7-0792-4d5d-bee6-5cec72746845",
        "colab": {
          "base_uri": "https://localhost:8080/"
        }
      },
      "outputs": [
        {
          "output_type": "stream",
          "name": "stdout",
          "text": [
            "String aba rejected by your PDA :-(\n",
            "Visited states are:\n",
            "{('POP', 'a', 'a#'), ('I', 'ba', 'aa#'), ('I', 'aba', '#'), ('F', 'aba', '#')}\n"
          ]
        }
      ],
      "source": [
        "explore_pda('aba', a2b)"
      ]
    },
    {
      "cell_type": "code",
      "execution_count": 146,
      "metadata": {
        "id": "6P5QjKeMyH2C",
        "outputId": "b7a47a5b-d103-45ea-b63c-d0fb1045a766",
        "colab": {
          "base_uri": "https://localhost:8080/"
        }
      },
      "outputs": [
        {
          "output_type": "stream",
          "name": "stdout",
          "text": [
            "String abba rejected by your PDA :-(\n",
            "Visited states are:\n",
            "{('F', 'abba', '#'), ('POP', 'a', '#'), ('I', 'abba', '#'), ('POP', 'ba', 'a#'), ('F', 'a', '#'), ('I', 'bba', 'aa#')}\n"
          ]
        }
      ],
      "source": [
        "explore_pda('abba', a2b)"
      ]
    },
    {
      "cell_type": "markdown",
      "metadata": {
        "id": "3PJK79yayH2D"
      },
      "source": [
        "### Add your own test cases here:"
      ]
    },
    {
      "cell_type": "code",
      "execution_count": 147,
      "metadata": {
        "id": "feTF43KyyH2D",
        "outputId": "66320bbc-5149-43db-9a46-fbb4e7e0d6d7",
        "colab": {
          "base_uri": "https://localhost:8080/"
        }
      },
      "outputs": [
        {
          "output_type": "stream",
          "name": "stdout",
          "text": [
            "String aaaaabbbbbbbbbb accepted by your PDA in 1 ways :-) \n",
            "Here are the ways: \n",
            "Final state  ('F', '', '#')\n",
            "Reached as follows:\n",
            "->  ('I', 'aaaaabbbbbbbbbb', '#')\n",
            "->  ('I', 'aaaabbbbbbbbbb', 'aa#')\n",
            "->  ('I', 'aaabbbbbbbbbb', 'aaaa#')\n",
            "->  ('I', 'aabbbbbbbbbb', 'aaaaaa#')\n",
            "->  ('I', 'abbbbbbbbbb', 'aaaaaaaa#')\n",
            "->  ('I', 'bbbbbbbbbb', 'aaaaaaaaaa#')\n",
            "->  ('POP', 'bbbbbbbbb', 'aaaaaaaaa#')\n",
            "->  ('POP', 'bbbbbbbb', 'aaaaaaaa#')\n",
            "->  ('POP', 'bbbbbbb', 'aaaaaaa#')\n",
            "->  ('POP', 'bbbbbb', 'aaaaaa#')\n",
            "->  ('POP', 'bbbbb', 'aaaaa#')\n",
            "->  ('POP', 'bbbb', 'aaaa#')\n",
            "->  ('POP', 'bbb', 'aaa#')\n",
            "->  ('POP', 'bb', 'aa#')\n",
            "->  ('POP', 'b', 'a#')\n",
            "->  ('POP', '', '#')\n",
            "->  ('F', '', '#') .\n"
          ]
        }
      ],
      "source": [
        "explore_pda('aaaaabbbbbbbbbb', a2b)"
      ]
    },
    {
      "cell_type": "code",
      "source": [
        "explore_pda('aaaaaabbbbbbbbbbbb', a2b)"
      ],
      "metadata": {
        "id": "OVXo4qACYSDI",
        "outputId": "ddc82e91-fa3f-4f6a-b539-5edaa4d4ee3f",
        "colab": {
          "base_uri": "https://localhost:8080/"
        }
      },
      "execution_count": 148,
      "outputs": [
        {
          "output_type": "stream",
          "name": "stdout",
          "text": [
            "String aaaaaabbbbbbbbbbbb accepted by your PDA in 1 ways :-) \n",
            "Here are the ways: \n",
            "Final state  ('F', '', '#')\n",
            "Reached as follows:\n",
            "->  ('I', 'aaaaaabbbbbbbbbbbb', '#')\n",
            "->  ('I', 'aaaaabbbbbbbbbbbb', 'aa#')\n",
            "->  ('I', 'aaaabbbbbbbbbbbb', 'aaaa#')\n",
            "->  ('I', 'aaabbbbbbbbbbbb', 'aaaaaa#')\n",
            "->  ('I', 'aabbbbbbbbbbbb', 'aaaaaaaa#')\n",
            "->  ('I', 'abbbbbbbbbbbb', 'aaaaaaaaaa#')\n",
            "->  ('I', 'bbbbbbbbbbbb', 'aaaaaaaaaaaa#')\n",
            "->  ('POP', 'bbbbbbbbbbb', 'aaaaaaaaaaa#')\n",
            "->  ('POP', 'bbbbbbbbbb', 'aaaaaaaaaa#')\n",
            "->  ('POP', 'bbbbbbbbb', 'aaaaaaaaa#')\n",
            "->  ('POP', 'bbbbbbbb', 'aaaaaaaa#')\n",
            "->  ('POP', 'bbbbbbb', 'aaaaaaa#')\n",
            "->  ('POP', 'bbbbbb', 'aaaaaa#')\n",
            "->  ('POP', 'bbbbb', 'aaaaa#')\n",
            "->  ('POP', 'bbbb', 'aaaa#')\n",
            "->  ('POP', 'bbb', 'aaa#')\n",
            "->  ('POP', 'bb', 'aa#')\n",
            "->  ('POP', 'b', 'a#')\n",
            "->  ('POP', '', '#')\n",
            "->  ('F', '', '#') .\n"
          ]
        }
      ]
    },
    {
      "cell_type": "code",
      "source": [
        "explore_pda('aabb', a2b)"
      ],
      "metadata": {
        "id": "84CVGqsmYZfN",
        "outputId": "9a00c0d6-2bb1-446a-95f5-fe7a3867ffd0",
        "colab": {
          "base_uri": "https://localhost:8080/"
        }
      },
      "execution_count": 149,
      "outputs": [
        {
          "output_type": "stream",
          "name": "stdout",
          "text": [
            "String aabb rejected by your PDA :-(\n",
            "Visited states are:\n",
            "{('F', 'aabb', '#'), ('I', 'bb', 'aaaa#'), ('POP', 'b', 'aaa#'), ('I', 'aabb', '#'), ('POP', '', 'aa#'), ('I', 'abb', 'aa#')}\n"
          ]
        }
      ]
    },
    {
      "cell_type": "code",
      "source": [
        "explore_pda('abab', a2b)"
      ],
      "metadata": {
        "id": "vsRMteBNYfna",
        "outputId": "738d7dca-654e-4560-8623-01d79c14ee1c",
        "colab": {
          "base_uri": "https://localhost:8080/"
        }
      },
      "execution_count": 150,
      "outputs": [
        {
          "output_type": "stream",
          "name": "stdout",
          "text": [
            "String abab rejected by your PDA :-(\n",
            "Visited states are:\n",
            "{('I', 'bab', 'aa#'), ('I', 'abab', '#'), ('F', 'abab', '#'), ('POP', 'ab', 'a#')}\n"
          ]
        }
      ]
    },
    {
      "cell_type": "markdown",
      "metadata": {
        "id": "5ttGubLrr3OU"
      },
      "source": [
        "## Question 4:"
      ]
    },
    {
      "cell_type": "markdown",
      "metadata": {
        "id": "HgHEIsUrr92k"
      },
      "source": [
        "Design a PDA for language Lif in question 1. \n",
        "\n",
        "- Hint: when a = 2, the PDA matches b's and c's (using the stack for this match). Else, it only checks their order of arrival (and simply ignores the stack).\n",
        "- Test your PDA on these strings:\n",
        "  - aabbbccc   (accept)\n",
        "  - aabbbbcccc (accept)\n",
        "  - aa         (accept)\n",
        "  - abbbcccc (accept)\n",
        "  - aaabbc   (accept)\n",
        "  - Epsilon    (accept, as there are zero a's)\n",
        "  - abbcc    (accept, as there is no constraint to not match b's and c's if two a's)\n",
        "  - cb        (reject)\n",
        "  - aabbcca (reject)\n",
        "  - abba     (reject)\n",
        "  - ccac       (reject)\n",
        "  - abba       (reject)\n",
        "  - baac       (reject)\n",
        "  - ac         (accept)\n",
        "- Then add three more accepting test cases and three more rejecting test cases. Document the tests saying why they must pass/fail"
      ]
    },
    {
      "cell_type": "code",
      "execution_count": 151,
      "metadata": {
        "id": "qOGCbbuJyH2D"
      },
      "outputs": [],
      "source": [
        "#𝐿𝑖𝑓={𝑎𝑖𝑏𝑗𝑐𝑘:𝑖,𝑗,𝑘≥0,andif(𝑖=2)then(𝑗=𝑘)}\n",
        "Lif = md2mc('''\n",
        "PDA\n",
        "\n",
        "!! Overall Algorithm\n",
        "!! This PDA uses stack to check the numbers of bs and cs are same when there are 2 as.\n",
        "!! more specifically b is only stacked and c triggers the stacked bs to pop,\n",
        "!! and after this, if # is TOS that means there are same number of bs and cs\n",
        "!! otherwise the stack stays empty or ignored and, the flow of its states prevents accepting mixed combination of a, b and cs. such as ace\n",
        "\n",
        "!! ... Now a line-by-line description\n",
        "I       : '', #   ; #   ->  F         !! In case the input string is empty,\n",
        "                                      !! we satisfy acceptance trivially; move into F state\n",
        "I       : a, #    ; a#  -> I          !! ingest first a\n",
        "I       : a, a    ; ''  -> Push_Bs    !! second a makes 2 brances to face 2 as case and NEXT LINE\n",
        "I       : '', ''  ; ''  -> As         !! face other than 2 as case\n",
        "As      : a, #    ; #   -> As         !! ingest a\n",
        "As      : b, ''   ; ''  -> Bs         !! a ends and b begins\n",
        "As      : c, ''   ; ''  -> Cs         !! a ends and c begins\n",
        "As      : '', ''  ; ''  -> F          !! end of string\n",
        "Push_Bs : b, ''   ; b   -> Push_Bs    !! b input when b is TOS turns into b stacked\n",
        "Push_Bs : c, b    ; ''  -> Pop_Bs     !! c input after Bs end cancels B\n",
        "Pop_Bs  : c, b    ; ''  -> Pop_Bs     !! c input followed by c cancels B in the stack\n",
        "Pop_Bs  : '', #   ; #   -> F          !! '' and # is TOS mean there were same number of Bs and Cs\n",
        "Bs      : b, ''   ; ''  -> Bs         !! ingest b\n",
        "Bs      : c, ''   ; ''  -> Cs         !! b ends and c begins\n",
        "Bs      : '', ''  ; ''  -> F          !! end of string\n",
        "Cs      : c, ''   ; ''  -> Cs         !! ingest c\n",
        "Cs      : '', ''  ; ''  -> F          !! end of string\n",
        "\n",
        "''')"
      ]
    },
    {
      "cell_type": "code",
      "execution_count": 152,
      "metadata": {
        "id": "Qyzpk_0byH2E",
        "colab": {
          "base_uri": "https://localhost:8080/",
          "height": 433
        },
        "outputId": "56a6f3c1-c454-4a59-e4a9-237df6d747fc"
      },
      "outputs": [
        {
          "output_type": "execute_result",
          "data": {
            "text/plain": [
              "<graphviz.dot.Digraph at 0x7fc7ba758f90>"
            ],
            "image/svg+xml": "<?xml version=\"1.0\" encoding=\"UTF-8\" standalone=\"no\"?>\n<!DOCTYPE svg PUBLIC \"-//W3C//DTD SVG 1.1//EN\"\n \"http://www.w3.org/Graphics/SVG/1.1/DTD/svg11.dtd\">\n<!-- Generated by graphviz version 2.40.1 (20161225.0304)\n -->\n<!-- Title: %3 Pages: 1 -->\n<svg width=\"686pt\" height=\"309pt\"\n viewBox=\"0.00 0.00 685.77 309.00\" xmlns=\"http://www.w3.org/2000/svg\" xmlns:xlink=\"http://www.w3.org/1999/xlink\">\n<g id=\"graph0\" class=\"graph\" transform=\"scale(1 1) rotate(0) translate(4 305)\">\n<title>%3</title>\n<polygon fill=\"#ffffff\" stroke=\"transparent\" points=\"-4,4 -4,-305 681.7739,-305 681.7739,4 -4,4\"/>\n<!-- EMPTY -->\n<g id=\"node1\" class=\"node\">\n<title>EMPTY</title>\n</g>\n<!-- I -->\n<g id=\"node4\" class=\"node\">\n<title>I</title>\n<ellipse fill=\"none\" stroke=\"#000000\" cx=\"109\" cy=\"-59\" rx=\"18\" ry=\"18\"/>\n<text text-anchor=\"middle\" x=\"109\" y=\"-55.3\" font-family=\"Times,serif\" font-size=\"14.00\" fill=\"#000000\">I</text>\n</g>\n<!-- EMPTY&#45;&gt;I -->\n<g id=\"edge1\" class=\"edge\">\n<title>EMPTY&#45;&gt;I</title>\n<path fill=\"none\" stroke=\"#000000\" d=\"M54.3048,-59C62.6909,-59 71.9407,-59 80.4103,-59\"/>\n<polygon fill=\"#000000\" stroke=\"#000000\" points=\"80.5976,-62.5001 90.5976,-59 80.5976,-55.5001 80.5976,-62.5001\"/>\n</g>\n<!-- Bs -->\n<g id=\"node2\" class=\"node\">\n<title>Bs</title>\n<ellipse fill=\"none\" stroke=\"#000000\" cx=\"385.7866\" cy=\"-143\" rx=\"20.5982\" ry=\"20.5982\"/>\n<text text-anchor=\"middle\" x=\"385.7866\" y=\"-139.3\" font-family=\"Times,serif\" font-size=\"14.00\" fill=\"#000000\">Bs</text>\n</g>\n<!-- Bs&#45;&gt;Bs -->\n<g id=\"edge14\" class=\"edge\">\n<title>Bs&#45;&gt;Bs</title>\n<path fill=\"none\" stroke=\"#000000\" d=\"M372.5898,-159.3455C368.5908,-170.6588 372.9897,-181.7982 385.7866,-181.7982 394.5845,-181.7982 399.413,-176.5331 400.2721,-169.5661\"/>\n<polygon fill=\"#000000\" stroke=\"#000000\" points=\"403.707,-168.829 398.9834,-159.3455 396.762,-169.7048 403.707,-168.829\"/>\n<text text-anchor=\"middle\" x=\"385.7866\" y=\"-185.5982\" font-family=\"Times,serif\" font-size=\"14.00\" fill=\"#000000\">b, &#39;&#39; ; &#39;&#39;</text>\n</g>\n<!-- Cs -->\n<g id=\"node3\" class=\"node\">\n<title>Cs</title>\n<ellipse fill=\"none\" stroke=\"#000000\" cx=\"543.9758\" cy=\"-197\" rx=\"20.5982\" ry=\"20.5982\"/>\n<text text-anchor=\"middle\" x=\"543.9758\" y=\"-193.3\" font-family=\"Times,serif\" font-size=\"14.00\" fill=\"#000000\">Cs</text>\n</g>\n<!-- Bs&#45;&gt;Cs -->\n<g id=\"edge15\" class=\"edge\">\n<title>Bs&#45;&gt;Cs</title>\n<path fill=\"none\" stroke=\"#000000\" d=\"M405.493,-150.2102C411.6017,-152.4185 418.3625,-154.8354 424.5848,-157 455.1155,-167.6212 490.2114,-179.3186 514.4114,-187.3049\"/>\n<polygon fill=\"#000000\" stroke=\"#000000\" points=\"513.4777,-190.6823 524.0707,-190.4865 515.6676,-184.0337 513.4777,-190.6823\"/>\n<text text-anchor=\"middle\" x=\"464.8812\" y=\"-187.8\" font-family=\"Times,serif\" font-size=\"14.00\" fill=\"#000000\">c, &#39;&#39; ; &#39;&#39;</text>\n</g>\n<!-- F -->\n<g id=\"node8\" class=\"node\">\n<title>F</title>\n<ellipse fill=\"none\" stroke=\"#000000\" cx=\"655.7739\" cy=\"-143\" rx=\"18\" ry=\"18\"/>\n<ellipse fill=\"none\" stroke=\"#000000\" cx=\"655.7739\" cy=\"-143\" rx=\"22\" ry=\"22\"/>\n<text text-anchor=\"middle\" x=\"655.7739\" y=\"-139.3\" font-family=\"Times,serif\" font-size=\"14.00\" fill=\"#000000\">F</text>\n</g>\n<!-- Bs&#45;&gt;F -->\n<g id=\"edge16\" class=\"edge\">\n<title>Bs&#45;&gt;F</title>\n<path fill=\"none\" stroke=\"#000000\" d=\"M406.9721,-143C454.036,-143 567.5392,-143 623.4902,-143\"/>\n<polygon fill=\"#000000\" stroke=\"#000000\" points=\"623.5579,-146.5001 633.5578,-143 623.5578,-139.5001 623.5579,-146.5001\"/>\n<text text-anchor=\"middle\" x=\"543.9758\" y=\"-146.8\" font-family=\"Times,serif\" font-size=\"14.00\" fill=\"#000000\">&#39;&#39;, &#39;&#39; ; &#39;&#39;</text>\n</g>\n<!-- Cs&#45;&gt;Cs -->\n<g id=\"edge17\" class=\"edge\">\n<title>Cs&#45;&gt;Cs</title>\n<path fill=\"none\" stroke=\"#000000\" d=\"M534.3353,-215.7631C532.5357,-226.1933 535.7492,-235.7982 543.9758,-235.7982 549.3745,-235.7982 552.6142,-231.6617 553.695,-225.8701\"/>\n<polygon fill=\"#000000\" stroke=\"#000000\" points=\"557.1941,-225.7355 553.6163,-215.7631 550.1944,-225.7901 557.1941,-225.7355\"/>\n<text text-anchor=\"middle\" x=\"543.9758\" y=\"-239.5982\" font-family=\"Times,serif\" font-size=\"14.00\" fill=\"#000000\">c, &#39;&#39; ; &#39;&#39;</text>\n</g>\n<!-- Cs&#45;&gt;F -->\n<g id=\"edge18\" class=\"edge\">\n<title>Cs&#45;&gt;F</title>\n<path fill=\"none\" stroke=\"#000000\" d=\"M562.9408,-187.8396C580.4733,-179.3712 606.7798,-166.6648 626.9175,-156.938\"/>\n<polygon fill=\"#000000\" stroke=\"#000000\" points=\"628.4794,-160.0706 635.9617,-152.5696 625.4348,-153.7674 628.4794,-160.0706\"/>\n<text text-anchor=\"middle\" x=\"599.2739\" y=\"-181.8\" font-family=\"Times,serif\" font-size=\"14.00\" fill=\"#000000\">&#39;&#39;, &#39;&#39; ; &#39;&#39;</text>\n</g>\n<!-- I&#45;&gt;I -->\n<g id=\"edge3\" class=\"edge\">\n<title>I&#45;&gt;I</title>\n<path fill=\"none\" stroke=\"#000000\" d=\"M102.6208,-76.0373C101.3189,-85.8579 103.4453,-95 109,-95 112.4717,-95 114.6042,-91.4289 115.3975,-86.3529\"/>\n<polygon fill=\"#000000\" stroke=\"#000000\" points=\"118.8971,-86.031 115.3792,-76.0373 111.8971,-86.0435 118.8971,-86.031\"/>\n<text text-anchor=\"middle\" x=\"109\" y=\"-98.8\" font-family=\"Times,serif\" font-size=\"14.00\" fill=\"#000000\">a, # ; a#</text>\n</g>\n<!-- As -->\n<g id=\"node5\" class=\"node\">\n<title>As</title>\n<ellipse fill=\"none\" stroke=\"#000000\" cx=\"219.7982\" cy=\"-207\" rx=\"20.5982\" ry=\"20.5982\"/>\n<text text-anchor=\"middle\" x=\"219.7982\" y=\"-203.3\" font-family=\"Times,serif\" font-size=\"14.00\" fill=\"#000000\">As</text>\n</g>\n<!-- I&#45;&gt;As -->\n<g id=\"edge5\" class=\"edge\">\n<title>I&#45;&gt;As</title>\n<path fill=\"none\" stroke=\"#000000\" d=\"M119.8255,-73.4603C138.6397,-98.5916 177.5887,-150.6183 200.9292,-181.7955\"/>\n<polygon fill=\"#000000\" stroke=\"#000000\" points=\"198.2739,-184.0889 207.0688,-189.9966 203.8776,-179.8938 198.2739,-184.0889\"/>\n<text text-anchor=\"middle\" x=\"163\" y=\"-158.8\" font-family=\"Times,serif\" font-size=\"14.00\" fill=\"#000000\">&#39;&#39;, &#39;&#39; ; &#39;&#39;</text>\n</g>\n<!-- Push_Bs -->\n<g id=\"node6\" class=\"node\">\n<title>Push_Bs</title>\n<ellipse fill=\"none\" stroke=\"#000000\" cx=\"302.7924\" cy=\"-59\" rx=\"44.393\" ry=\"44.393\"/>\n<text text-anchor=\"middle\" x=\"302.7924\" y=\"-55.3\" font-family=\"Times,serif\" font-size=\"14.00\" fill=\"#000000\">Push_Bs</text>\n</g>\n<!-- I&#45;&gt;Push_Bs -->\n<g id=\"edge4\" class=\"edge\">\n<title>I&#45;&gt;Push_Bs</title>\n<path fill=\"none\" stroke=\"#000000\" d=\"M127.2315,-59C154.6797,-59 207.7272,-59 248.3579,-59\"/>\n<polygon fill=\"#000000\" stroke=\"#000000\" points=\"248.3971,-62.5001 258.3971,-59 248.397,-55.5001 248.3971,-62.5001\"/>\n<text text-anchor=\"middle\" x=\"163\" y=\"-62.8\" font-family=\"Times,serif\" font-size=\"14.00\" fill=\"#000000\">a, a ; &#39;&#39;</text>\n</g>\n<!-- I&#45;&gt;F -->\n<g id=\"edge2\" class=\"edge\">\n<title>I&#45;&gt;F</title>\n<path fill=\"none\" stroke=\"#000000\" d=\"M122.1255,-46.4876C141.7299,-29.1687 180.5707,0 219.7982,0 219.7982,0 219.7982,0 543.9758,0 600.4279,0 632.6177,-70.022 646.8582,-112.0688\"/>\n<polygon fill=\"#000000\" stroke=\"#000000\" points=\"643.531,-113.1552 649.9403,-121.5915 650.1908,-110.9996 643.531,-113.1552\"/>\n<text text-anchor=\"middle\" x=\"385.7866\" y=\"-3.8\" font-family=\"Times,serif\" font-size=\"14.00\" fill=\"#000000\">&#39;&#39;, # ; #</text>\n</g>\n<!-- As&#45;&gt;Bs -->\n<g id=\"edge7\" class=\"edge\">\n<title>As&#45;&gt;Bs</title>\n<path fill=\"none\" stroke=\"#000000\" d=\"M239.491,-199.407C268.5199,-188.2144 322.9864,-167.2138 356.6484,-154.2348\"/>\n<polygon fill=\"#000000\" stroke=\"#000000\" points=\"358.3049,-157.3473 366.3762,-150.4841 355.7866,-150.816 358.3049,-157.3473\"/>\n<text text-anchor=\"middle\" x=\"302.7924\" y=\"-195.8\" font-family=\"Times,serif\" font-size=\"14.00\" fill=\"#000000\">b, &#39;&#39; ; &#39;&#39;</text>\n</g>\n<!-- As&#45;&gt;Cs -->\n<g id=\"edge8\" class=\"edge\">\n<title>As&#45;&gt;Cs</title>\n<path fill=\"none\" stroke=\"#000000\" d=\"M240.7086,-209.5535C246.4937,-210.1515 252.7805,-210.701 258.5963,-211 368.101,-216.6299 396.0979,-214.1627 505.1776,-203 507.7288,-202.7389 510.3681,-202.425 513.0146,-202.0794\"/>\n<polygon fill=\"#000000\" stroke=\"#000000\" points=\"513.6843,-205.5192 523.0857,-200.6341 512.6899,-198.5902 513.6843,-205.5192\"/>\n<text text-anchor=\"middle\" x=\"385.7866\" y=\"-217.8\" font-family=\"Times,serif\" font-size=\"14.00\" fill=\"#000000\">c, &#39;&#39; ; &#39;&#39;</text>\n</g>\n<!-- As&#45;&gt;As -->\n<g id=\"edge6\" class=\"edge\">\n<title>As&#45;&gt;As</title>\n<path fill=\"none\" stroke=\"#000000\" d=\"M209.8749,-225.3616C207.8498,-235.9455 211.1575,-245.7982 219.7982,-245.7982 225.4686,-245.7982 228.8423,-241.555 229.9193,-235.6465\"/>\n<polygon fill=\"#000000\" stroke=\"#000000\" points=\"233.4133,-235.2923 229.7214,-225.3616 226.4146,-235.4271 233.4133,-235.2923\"/>\n<text text-anchor=\"middle\" x=\"219.7982\" y=\"-249.5982\" font-family=\"Times,serif\" font-size=\"14.00\" fill=\"#000000\">a, # ; #</text>\n</g>\n<!-- As&#45;&gt;F -->\n<g id=\"edge9\" class=\"edge\">\n<title>As&#45;&gt;F</title>\n<path fill=\"none\" stroke=\"#000000\" d=\"M237.7847,-217.9431C244.153,-221.3598 251.5015,-224.8052 258.5963,-227 389.3495,-267.45 441.2444,-318.9325 564.7739,-260 601.9165,-242.2803 628.1657,-201.0409 642.637,-172.5821\"/>\n<polygon fill=\"#000000\" stroke=\"#000000\" points=\"645.8425,-173.9942 647.0918,-163.4732 639.5542,-170.9187 645.8425,-173.9942\"/>\n<text text-anchor=\"middle\" x=\"464.8812\" y=\"-289.8\" font-family=\"Times,serif\" font-size=\"14.00\" fill=\"#000000\">&#39;&#39;, &#39;&#39; ; &#39;&#39;</text>\n</g>\n<!-- Push_Bs&#45;&gt;Push_Bs -->\n<g id=\"edge10\" class=\"edge\">\n<title>Push_Bs&#45;&gt;Push_Bs</title>\n<path fill=\"none\" stroke=\"#000000\" d=\"M287.4934,-100.5646C288.1634,-112.2365 293.2631,-121.1961 302.7924,-121.1961 309.3438,-121.1961 313.8015,-116.9613 316.1655,-110.5218\"/>\n<polygon fill=\"#000000\" stroke=\"#000000\" points=\"319.6286,-111.0473 318.0914,-100.5646 312.756,-109.718 319.6286,-111.0473\"/>\n<text text-anchor=\"middle\" x=\"302.7924\" y=\"-124.9961\" font-family=\"Times,serif\" font-size=\"14.00\" fill=\"#000000\">b, &#39;&#39; ; b</text>\n</g>\n<!-- Pop_Bs -->\n<g id=\"node7\" class=\"node\">\n<title>Pop_Bs</title>\n<ellipse fill=\"none\" stroke=\"#000000\" cx=\"464.8812\" cy=\"-55\" rx=\"40.0939\" ry=\"40.0939\"/>\n<text text-anchor=\"middle\" x=\"464.8812\" y=\"-51.3\" font-family=\"Times,serif\" font-size=\"14.00\" fill=\"#000000\">Pop_Bs</text>\n</g>\n<!-- Push_Bs&#45;&gt;Pop_Bs -->\n<g id=\"edge11\" class=\"edge\">\n<title>Push_Bs&#45;&gt;Pop_Bs</title>\n<path fill=\"none\" stroke=\"#000000\" d=\"M347.0839,-57.907C367.8663,-57.3941 392.7396,-56.7803 414.2633,-56.2491\"/>\n<polygon fill=\"#000000\" stroke=\"#000000\" points=\"414.6173,-59.7416 424.5279,-55.9958 414.4445,-52.7437 414.6173,-59.7416\"/>\n<text text-anchor=\"middle\" x=\"385.7866\" y=\"-61.8\" font-family=\"Times,serif\" font-size=\"14.00\" fill=\"#000000\">c, b ; &#39;&#39;</text>\n</g>\n<!-- Pop_Bs&#45;&gt;Pop_Bs -->\n<g id=\"edge12\" class=\"edge\">\n<title>Pop_Bs&#45;&gt;Pop_Bs</title>\n<path fill=\"none\" stroke=\"#000000\" d=\"M450.2705,-92.5665C450.5656,-104.1781 455.4359,-113.2964 464.8812,-113.2964 471.3749,-113.2964 475.7061,-108.9866 477.8748,-102.5198\"/>\n<polygon fill=\"#000000\" stroke=\"#000000\" points=\"481.3429,-102.9984 479.4919,-92.5665 474.4335,-101.8758 481.3429,-102.9984\"/>\n<text text-anchor=\"middle\" x=\"464.8812\" y=\"-117.0964\" font-family=\"Times,serif\" font-size=\"14.00\" fill=\"#000000\">c, b ; &#39;&#39;</text>\n</g>\n<!-- Pop_Bs&#45;&gt;F -->\n<g id=\"edge13\" class=\"edge\">\n<title>Pop_Bs&#45;&gt;F</title>\n<path fill=\"none\" stroke=\"#000000\" d=\"M501.6872,-71.9673C538.0737,-88.7412 593.024,-114.0728 626.5281,-129.5179\"/>\n<polygon fill=\"#000000\" stroke=\"#000000\" points=\"625.2377,-132.777 635.7844,-133.785 628.1682,-126.4199 625.2377,-132.777\"/>\n<text text-anchor=\"middle\" x=\"543.9758\" y=\"-104.8\" font-family=\"Times,serif\" font-size=\"14.00\" fill=\"#000000\">&#39;&#39;, # ; #</text>\n</g>\n</g>\n</svg>\n"
          },
          "metadata": {},
          "execution_count": 152
        }
      ],
      "source": [
        "dotObj_pda(Lif)"
      ]
    },
    {
      "cell_type": "markdown",
      "metadata": {
        "id": "yAxOHtwUyH2E"
      },
      "source": [
        "### Given test cases:"
      ]
    },
    {
      "cell_type": "markdown",
      "metadata": {
        "id": "cbD49D_YyH2E"
      },
      "source": [
        "* aa bbb ccc   (accept)"
      ]
    },
    {
      "cell_type": "code",
      "execution_count": 153,
      "metadata": {
        "id": "TkyBjxrcyH2F",
        "colab": {
          "base_uri": "https://localhost:8080/"
        },
        "outputId": "d6b47b03-361d-40f3-f943-93db196ac911"
      },
      "outputs": [
        {
          "output_type": "stream",
          "name": "stdout",
          "text": [
            "String aabbbccc accepted by your PDA in 2 ways :-) \n",
            "Here are the ways: \n",
            "Final state  ('F', '', '#')\n",
            "Reached as follows:\n",
            "->  ('I', 'aabbbccc', '#')\n",
            "->  ('I', 'abbbccc', 'a#')\n",
            "->  ('Push_Bs', 'bbbccc', '#')\n",
            "->  ('Push_Bs', 'bbccc', 'b#')\n",
            "->  ('Push_Bs', 'bccc', 'bb#')\n",
            "->  ('Push_Bs', 'ccc', 'bbb#')\n",
            "->  ('Pop_Bs', 'cc', 'bb#')\n",
            "->  ('Pop_Bs', 'c', 'b#')\n",
            "->  ('Pop_Bs', '', '#')\n",
            "->  ('F', '', '#') .\n",
            "Final state  ('F', '', '#')\n",
            "Reached as follows:\n",
            "->  ('I', 'aabbbccc', '#')\n",
            "->  ('As', 'aabbbccc', '#')\n",
            "->  ('As', 'abbbccc', '#')\n",
            "->  ('As', 'bbbccc', '#')\n",
            "->  ('Bs', 'bbccc', '#')\n",
            "->  ('Bs', 'bccc', '#')\n",
            "->  ('Bs', 'ccc', '#')\n",
            "->  ('Cs', 'cc', '#')\n",
            "->  ('Cs', 'c', '#')\n",
            "->  ('Cs', '', '#')\n",
            "->  ('F', '', '#') .\n"
          ]
        }
      ],
      "source": [
        "explore_pda('aabbbccc', Lif)"
      ]
    },
    {
      "cell_type": "markdown",
      "metadata": {
        "id": "qwKAfT20yH2F"
      },
      "source": [
        "* aa bbbb cccc (accept)\n",
        " "
      ]
    },
    {
      "cell_type": "code",
      "execution_count": 154,
      "metadata": {
        "id": "gr5jQ8WMyH2F",
        "colab": {
          "base_uri": "https://localhost:8080/"
        },
        "outputId": "5c498b07-ab3d-44f7-e1ba-698dea3a5f08"
      },
      "outputs": [
        {
          "output_type": "stream",
          "name": "stdout",
          "text": [
            "String aabbbbcccc accepted by your PDA in 2 ways :-) \n",
            "Here are the ways: \n",
            "Final state  ('F', '', '#')\n",
            "Reached as follows:\n",
            "->  ('I', 'aabbbbcccc', '#')\n",
            "->  ('I', 'abbbbcccc', 'a#')\n",
            "->  ('Push_Bs', 'bbbbcccc', '#')\n",
            "->  ('Push_Bs', 'bbbcccc', 'b#')\n",
            "->  ('Push_Bs', 'bbcccc', 'bb#')\n",
            "->  ('Push_Bs', 'bcccc', 'bbb#')\n",
            "->  ('Push_Bs', 'cccc', 'bbbb#')\n",
            "->  ('Pop_Bs', 'ccc', 'bbb#')\n",
            "->  ('Pop_Bs', 'cc', 'bb#')\n",
            "->  ('Pop_Bs', 'c', 'b#')\n",
            "->  ('Pop_Bs', '', '#')\n",
            "->  ('F', '', '#') .\n",
            "Final state  ('F', '', '#')\n",
            "Reached as follows:\n",
            "->  ('I', 'aabbbbcccc', '#')\n",
            "->  ('As', 'aabbbbcccc', '#')\n",
            "->  ('As', 'abbbbcccc', '#')\n",
            "->  ('As', 'bbbbcccc', '#')\n",
            "->  ('Bs', 'bbbcccc', '#')\n",
            "->  ('Bs', 'bbcccc', '#')\n",
            "->  ('Bs', 'bcccc', '#')\n",
            "->  ('Bs', 'cccc', '#')\n",
            "->  ('Cs', 'ccc', '#')\n",
            "->  ('Cs', 'cc', '#')\n",
            "->  ('Cs', 'c', '#')\n",
            "->  ('Cs', '', '#')\n",
            "->  ('F', '', '#') .\n"
          ]
        }
      ],
      "source": [
        "explore_pda('aabbbbcccc', Lif)"
      ]
    },
    {
      "cell_type": "markdown",
      "metadata": {
        "id": "eQWBq-HjyH2F"
      },
      "source": [
        "* aa         (accept)"
      ]
    },
    {
      "cell_type": "code",
      "execution_count": 155,
      "metadata": {
        "id": "S10QZSA8yH2F",
        "colab": {
          "base_uri": "https://localhost:8080/"
        },
        "outputId": "4c65e706-1c8b-4dfe-cbc4-c8e49b3f4cab"
      },
      "outputs": [
        {
          "output_type": "stream",
          "name": "stdout",
          "text": [
            "String aa accepted by your PDA in 1 ways :-) \n",
            "Here are the ways: \n",
            "Final state  ('F', '', '#')\n",
            "Reached as follows:\n",
            "->  ('I', 'aa', '#')\n",
            "->  ('As', 'aa', '#')\n",
            "->  ('As', 'a', '#')\n",
            "->  ('As', '', '#')\n",
            "->  ('F', '', '#') .\n"
          ]
        }
      ],
      "source": [
        "explore_pda('aa', Lif)"
      ]
    },
    {
      "cell_type": "markdown",
      "metadata": {
        "id": "Mu_hxfcHyH2F"
      },
      "source": [
        "* a bbb cccc (accept)"
      ]
    },
    {
      "cell_type": "code",
      "execution_count": 156,
      "metadata": {
        "id": "qRtQEZ8JyH2G",
        "colab": {
          "base_uri": "https://localhost:8080/"
        },
        "outputId": "8b03d313-7bfa-4a8a-bed2-caf9d080e9a6"
      },
      "outputs": [
        {
          "output_type": "stream",
          "name": "stdout",
          "text": [
            "String abbbcccc accepted by your PDA in 2 ways :-) \n",
            "Here are the ways: \n",
            "Final state  ('F', '', '#')\n",
            "Reached as follows:\n",
            "->  ('I', 'abbbcccc', '#')\n",
            "->  ('As', 'abbbcccc', '#')\n",
            "->  ('As', 'bbbcccc', '#')\n",
            "->  ('Bs', 'bbcccc', '#')\n",
            "->  ('Bs', 'bcccc', '#')\n",
            "->  ('Bs', 'cccc', '#')\n",
            "->  ('Cs', 'ccc', '#')\n",
            "->  ('Cs', 'cc', '#')\n",
            "->  ('Cs', 'c', '#')\n",
            "->  ('Cs', '', '#')\n",
            "->  ('F', '', '#') .\n",
            "Final state  ('F', '', 'a#')\n",
            "Reached as follows:\n",
            "->  ('I', 'abbbcccc', '#')\n",
            "->  ('I', 'bbbcccc', 'a#')\n",
            "->  ('As', 'bbbcccc', 'a#')\n",
            "->  ('Bs', 'bbcccc', 'a#')\n",
            "->  ('Bs', 'bcccc', 'a#')\n",
            "->  ('Bs', 'cccc', 'a#')\n",
            "->  ('Cs', 'ccc', 'a#')\n",
            "->  ('Cs', 'cc', 'a#')\n",
            "->  ('Cs', 'c', 'a#')\n",
            "->  ('Cs', '', 'a#')\n",
            "->  ('F', '', 'a#') .\n"
          ]
        }
      ],
      "source": [
        "explore_pda('abbbcccc', Lif)"
      ]
    },
    {
      "cell_type": "markdown",
      "metadata": {
        "id": "22Hhpq-YyH2G"
      },
      "source": [
        "* aaa bb c   (accept)"
      ]
    },
    {
      "cell_type": "code",
      "execution_count": 157,
      "metadata": {
        "id": "l5ys9PFKyH2G",
        "colab": {
          "base_uri": "https://localhost:8080/"
        },
        "outputId": "0a160648-d3f9-4399-bd52-aa49e24cf05c"
      },
      "outputs": [
        {
          "output_type": "stream",
          "name": "stdout",
          "text": [
            "String aaabbc accepted by your PDA in 1 ways :-) \n",
            "Here are the ways: \n",
            "Final state  ('F', '', '#')\n",
            "Reached as follows:\n",
            "->  ('I', 'aaabbc', '#')\n",
            "->  ('As', 'aaabbc', '#')\n",
            "->  ('As', 'aabbc', '#')\n",
            "->  ('As', 'abbc', '#')\n",
            "->  ('As', 'bbc', '#')\n",
            "->  ('Bs', 'bc', '#')\n",
            "->  ('Bs', 'c', '#')\n",
            "->  ('Cs', '', '#')\n",
            "->  ('F', '', '#') .\n"
          ]
        }
      ],
      "source": [
        "explore_pda('aaabbc', Lif)"
      ]
    },
    {
      "cell_type": "markdown",
      "metadata": {
        "id": "rODWiy8PyH2G"
      },
      "source": [
        "* Epsilon    (accept, as there are zero a's)"
      ]
    },
    {
      "cell_type": "code",
      "execution_count": 158,
      "metadata": {
        "id": "QhgMqBbiyH2G",
        "colab": {
          "base_uri": "https://localhost:8080/"
        },
        "outputId": "b336e3fc-1cc2-4f17-ee1a-de371b81a120"
      },
      "outputs": [
        {
          "output_type": "stream",
          "name": "stdout",
          "text": [
            "String  accepted by your PDA in 2 ways :-) \n",
            "Here are the ways: \n",
            "Final state  ('F', '', '#')\n",
            "Reached as follows:\n",
            "->  ('I', '', '#')\n",
            "->  ('F', '', '#') .\n",
            "Final state  ('F', '', '#')\n",
            "Reached as follows:\n",
            "->  ('I', '', '#')\n",
            "->  ('As', '', '#')\n",
            "->  ('F', '', '#') .\n"
          ]
        }
      ],
      "source": [
        "explore_pda('', Lif)"
      ]
    },
    {
      "cell_type": "markdown",
      "metadata": {
        "id": "BXg9_3iZyH2G"
      },
      "source": [
        "* a bb cc    (accept, as there is no constraint to not match b's and c's if two a's)"
      ]
    },
    {
      "cell_type": "code",
      "execution_count": 159,
      "metadata": {
        "id": "OdwhYAk7yH2H",
        "colab": {
          "base_uri": "https://localhost:8080/"
        },
        "outputId": "916872ea-6a76-47fe-e8e6-b654701a7aed"
      },
      "outputs": [
        {
          "output_type": "stream",
          "name": "stdout",
          "text": [
            "String abbcc accepted by your PDA in 2 ways :-) \n",
            "Here are the ways: \n",
            "Final state  ('F', '', '#')\n",
            "Reached as follows:\n",
            "->  ('I', 'abbcc', '#')\n",
            "->  ('As', 'abbcc', '#')\n",
            "->  ('As', 'bbcc', '#')\n",
            "->  ('Bs', 'bcc', '#')\n",
            "->  ('Bs', 'cc', '#')\n",
            "->  ('Cs', 'c', '#')\n",
            "->  ('Cs', '', '#')\n",
            "->  ('F', '', '#') .\n",
            "Final state  ('F', '', 'a#')\n",
            "Reached as follows:\n",
            "->  ('I', 'abbcc', '#')\n",
            "->  ('I', 'bbcc', 'a#')\n",
            "->  ('As', 'bbcc', 'a#')\n",
            "->  ('Bs', 'bcc', 'a#')\n",
            "->  ('Bs', 'cc', 'a#')\n",
            "->  ('Cs', 'c', 'a#')\n",
            "->  ('Cs', '', 'a#')\n",
            "->  ('F', '', 'a#') .\n"
          ]
        }
      ],
      "source": [
        "explore_pda('abbcc', Lif)"
      ]
    },
    {
      "cell_type": "markdown",
      "metadata": {
        "id": "f2ljJYGSyH2H"
      },
      "source": [
        "* b c must accept too"
      ]
    },
    {
      "cell_type": "code",
      "execution_count": 160,
      "metadata": {
        "id": "TYj2p7FSyH2H",
        "colab": {
          "base_uri": "https://localhost:8080/"
        },
        "outputId": "c6ac5fd6-7637-4164-a115-fb60dcf6c86c"
      },
      "outputs": [
        {
          "output_type": "stream",
          "name": "stdout",
          "text": [
            "String bc accepted by your PDA in 1 ways :-) \n",
            "Here are the ways: \n",
            "Final state  ('F', '', '#')\n",
            "Reached as follows:\n",
            "->  ('I', 'bc', '#')\n",
            "->  ('As', 'bc', '#')\n",
            "->  ('Bs', 'c', '#')\n",
            "->  ('Cs', '', '#')\n",
            "->  ('F', '', '#') .\n"
          ]
        }
      ],
      "source": [
        "explore_pda('bc', Lif)"
      ]
    },
    {
      "cell_type": "markdown",
      "metadata": {
        "id": "4wSowAWvyH2H"
      },
      "source": [
        "* c b        (reject)"
      ]
    },
    {
      "cell_type": "code",
      "execution_count": 161,
      "metadata": {
        "id": "njFYWda6yH2H",
        "colab": {
          "base_uri": "https://localhost:8080/"
        },
        "outputId": "429868cc-8fbb-40d2-add0-1efae45aa72a"
      },
      "outputs": [
        {
          "output_type": "stream",
          "name": "stdout",
          "text": [
            "String cb rejected by your PDA :-(\n",
            "Visited states are:\n",
            "{('F', 'b', '#'), ('Cs', 'b', '#'), ('As', 'cb', '#'), ('F', 'cb', '#'), ('I', 'cb', '#')}\n"
          ]
        }
      ],
      "source": [
        "explore_pda('cb', Lif)"
      ]
    },
    {
      "cell_type": "markdown",
      "metadata": {
        "id": "Q-t4PSqLyH2H"
      },
      "source": [
        "* aa bb cc a (reject)"
      ]
    },
    {
      "cell_type": "code",
      "execution_count": 162,
      "metadata": {
        "id": "1jgOABLSyH2H",
        "colab": {
          "base_uri": "https://localhost:8080/"
        },
        "outputId": "2dcadecf-c99e-4c10-8d42-299aff52233a"
      },
      "outputs": [
        {
          "output_type": "stream",
          "name": "stdout",
          "text": [
            "String aabbcca rejected by your PDA :-(\n",
            "Visited states are:\n",
            "{('F', 'bcca', '#'), ('F', 'ca', '#'), ('F', 'bbcca', '#'), ('F', 'abbcca', 'a#'), ('As', 'abbcca', '#'), ('Pop_Bs', 'ca', 'b#'), ('Push_Bs', 'bcca', 'b#'), ('Bs', 'bcca', '#'), ('F', 'aabbcca', '#'), ('F', 'a', '#'), ('Pop_Bs', 'a', '#'), ('Push_Bs', 'bbcca', '#'), ('I', 'abbcca', 'a#'), ('F', 'cca', '#'), ('Bs', 'cca', '#'), ('F', 'abbcca', '#'), ('As', 'bbcca', '#'), ('As', 'abbcca', 'a#'), ('Cs', 'a', '#'), ('Push_Bs', 'cca', 'bb#'), ('Cs', 'ca', '#'), ('As', 'aabbcca', '#'), ('I', 'aabbcca', '#')}\n"
          ]
        }
      ],
      "source": [
        "explore_pda('aabbcca', Lif)"
      ]
    },
    {
      "cell_type": "markdown",
      "metadata": {
        "id": "XTm6znnHyH2H"
      },
      "source": [
        "* a bb a     (reject)"
      ]
    },
    {
      "cell_type": "code",
      "execution_count": 163,
      "metadata": {
        "id": "bQCHZI1IyH2I",
        "colab": {
          "base_uri": "https://localhost:8080/"
        },
        "outputId": "c0a2a94c-d694-4aff-9143-b68985e0f43c"
      },
      "outputs": [
        {
          "output_type": "stream",
          "name": "stdout",
          "text": [
            "String abba rejected by your PDA :-(\n",
            "Visited states are:\n",
            "{('Bs', 'ba', 'a#'), ('I', 'bba', 'a#'), ('Bs', 'a', 'a#'), ('F', 'ba', '#'), ('F', 'abba', '#'), ('Bs', 'ba', '#'), ('F', 'a', '#'), ('F', 'bba', 'a#'), ('As', 'bba', '#'), ('As', 'abba', '#'), ('I', 'abba', '#'), ('F', 'ba', 'a#'), ('Bs', 'a', '#'), ('As', 'bba', 'a#'), ('F', 'bba', '#'), ('F', 'a', 'a#')}\n"
          ]
        }
      ],
      "source": [
        "explore_pda('abba', Lif)"
      ]
    },
    {
      "cell_type": "markdown",
      "metadata": {
        "id": "VcIqurXVyH2I"
      },
      "source": [
        "* ccac       (reject)"
      ]
    },
    {
      "cell_type": "code",
      "execution_count": 164,
      "metadata": {
        "id": "M96UpYWPyH2I",
        "colab": {
          "base_uri": "https://localhost:8080/"
        },
        "outputId": "1b9cabb4-fb7c-4ad8-8384-154b16844b3a"
      },
      "outputs": [
        {
          "output_type": "stream",
          "name": "stdout",
          "text": [
            "String ccac rejected by your PDA :-(\n",
            "Visited states are:\n",
            "{('F', 'cac', '#'), ('Cs', 'cac', '#'), ('As', 'ccac', '#'), ('I', 'ccac', '#'), ('F', 'ac', '#'), ('Cs', 'ac', '#'), ('F', 'ccac', '#')}\n"
          ]
        }
      ],
      "source": [
        "explore_pda('ccac', Lif)"
      ]
    },
    {
      "cell_type": "markdown",
      "metadata": {
        "id": "lMjb3ozcyH2I"
      },
      "source": [
        "* abba       (reject)"
      ]
    },
    {
      "cell_type": "code",
      "execution_count": 165,
      "metadata": {
        "id": "5RHTbf73yH2I",
        "colab": {
          "base_uri": "https://localhost:8080/"
        },
        "outputId": "96060c79-3307-45ce-aba2-73af442b1c0e"
      },
      "outputs": [
        {
          "output_type": "stream",
          "name": "stdout",
          "text": [
            "String abba rejected by your PDA :-(\n",
            "Visited states are:\n",
            "{('Bs', 'ba', 'a#'), ('I', 'bba', 'a#'), ('Bs', 'a', 'a#'), ('F', 'ba', '#'), ('F', 'abba', '#'), ('Bs', 'ba', '#'), ('F', 'a', '#'), ('F', 'bba', 'a#'), ('As', 'bba', '#'), ('As', 'abba', '#'), ('I', 'abba', '#'), ('F', 'ba', 'a#'), ('Bs', 'a', '#'), ('As', 'bba', 'a#'), ('F', 'bba', '#'), ('F', 'a', 'a#')}\n"
          ]
        }
      ],
      "source": [
        "explore_pda('abba', Lif)"
      ]
    },
    {
      "cell_type": "markdown",
      "metadata": {
        "id": "PENs7s32yH2I"
      },
      "source": [
        "* baac       (reject)"
      ]
    },
    {
      "cell_type": "code",
      "execution_count": 166,
      "metadata": {
        "id": "1ZeWeu_EyH2I",
        "colab": {
          "base_uri": "https://localhost:8080/"
        },
        "outputId": "4616e3a4-f3b6-45b5-8768-0d17b8bb7bf4"
      },
      "outputs": [
        {
          "output_type": "stream",
          "name": "stdout",
          "text": [
            "String baac rejected by your PDA :-(\n",
            "Visited states are:\n",
            "{('F', 'aac', '#'), ('F', 'baac', '#'), ('I', 'baac', '#'), ('Bs', 'aac', '#'), ('As', 'baac', '#')}\n"
          ]
        }
      ],
      "source": [
        "explore_pda('baac', Lif)"
      ]
    },
    {
      "cell_type": "markdown",
      "metadata": {
        "id": "RVFp21rXyH2J"
      },
      "source": [
        "* ac         (accept), as there are no b's  "
      ]
    },
    {
      "cell_type": "code",
      "execution_count": 167,
      "metadata": {
        "id": "Br1nz3SZyH2J",
        "colab": {
          "base_uri": "https://localhost:8080/"
        },
        "outputId": "2d2093c4-d0e4-4910-a53b-c6491983f1d6"
      },
      "outputs": [
        {
          "output_type": "stream",
          "name": "stdout",
          "text": [
            "String ac accepted by your PDA in 2 ways :-) \n",
            "Here are the ways: \n",
            "Final state  ('F', '', '#')\n",
            "Reached as follows:\n",
            "->  ('I', 'ac', '#')\n",
            "->  ('As', 'ac', '#')\n",
            "->  ('As', 'c', '#')\n",
            "->  ('Cs', '', '#')\n",
            "->  ('F', '', '#') .\n",
            "Final state  ('F', '', 'a#')\n",
            "Reached as follows:\n",
            "->  ('I', 'ac', '#')\n",
            "->  ('I', 'c', 'a#')\n",
            "->  ('As', 'c', 'a#')\n",
            "->  ('Cs', '', 'a#')\n",
            "->  ('F', '', 'a#') .\n"
          ]
        }
      ],
      "source": [
        "explore_pda('ac', Lif)"
      ]
    },
    {
      "cell_type": "markdown",
      "metadata": {
        "id": "7C_BvHfxyH2J"
      },
      "source": [
        "* acb (reject)"
      ]
    },
    {
      "cell_type": "code",
      "execution_count": 168,
      "metadata": {
        "id": "dDOs575fyH2J",
        "colab": {
          "base_uri": "https://localhost:8080/"
        },
        "outputId": "56a1161e-7b7e-4609-d161-626812323767"
      },
      "outputs": [
        {
          "output_type": "stream",
          "name": "stdout",
          "text": [
            "String acb rejected by your PDA :-(\n",
            "Visited states are:\n",
            "{('F', 'b', '#'), ('F', 'b', 'a#'), ('Cs', 'b', '#'), ('F', 'acb', '#'), ('F', 'cb', 'a#'), ('As', 'cb', '#'), ('I', 'acb', '#'), ('I', 'cb', 'a#'), ('As', 'acb', '#'), ('As', 'cb', 'a#'), ('Cs', 'b', 'a#'), ('F', 'cb', '#')}\n"
          ]
        }
      ],
      "source": [
        "explore_pda('acb', Lif)"
      ]
    },
    {
      "cell_type": "markdown",
      "metadata": {
        "id": "tFvi-uZeyH2J"
      },
      "source": [
        "### Add your test cases below:"
      ]
    },
    {
      "cell_type": "code",
      "execution_count": 169,
      "metadata": {
        "id": "Vk3ax3qdCePR",
        "colab": {
          "base_uri": "https://localhost:8080/"
        },
        "outputId": "f982b2c2-a020-48a6-9908-a9974e34fb32"
      },
      "outputs": [
        {
          "output_type": "stream",
          "name": "stdout",
          "text": [
            "String aaabbbc accepted by your PDA in 1 ways :-) \n",
            "Here are the ways: \n",
            "Final state  ('F', '', '#')\n",
            "Reached as follows:\n",
            "->  ('I', 'aaabbbc', '#')\n",
            "->  ('As', 'aaabbbc', '#')\n",
            "->  ('As', 'aabbbc', '#')\n",
            "->  ('As', 'abbbc', '#')\n",
            "->  ('As', 'bbbc', '#')\n",
            "->  ('Bs', 'bbc', '#')\n",
            "->  ('Bs', 'bc', '#')\n",
            "->  ('Bs', 'c', '#')\n",
            "->  ('Cs', '', '#')\n",
            "->  ('F', '', '#') .\n"
          ]
        }
      ],
      "source": [
        "explore_pda('aaabbbc', Lif)"
      ]
    },
    {
      "cell_type": "code",
      "source": [
        "explore_pda('aaaaaabbc', Lif)"
      ],
      "metadata": {
        "id": "oWKM_qaOZE-s",
        "colab": {
          "base_uri": "https://localhost:8080/"
        },
        "outputId": "eef69bf0-7ca0-4890-bdb6-b9bf8d9b7efe"
      },
      "execution_count": 170,
      "outputs": [
        {
          "output_type": "stream",
          "name": "stdout",
          "text": [
            "String aaaaaabbc accepted by your PDA in 1 ways :-) \n",
            "Here are the ways: \n",
            "Final state  ('F', '', '#')\n",
            "Reached as follows:\n",
            "->  ('I', 'aaaaaabbc', '#')\n",
            "->  ('As', 'aaaaaabbc', '#')\n",
            "->  ('As', 'aaaaabbc', '#')\n",
            "->  ('As', 'aaaabbc', '#')\n",
            "->  ('As', 'aaabbc', '#')\n",
            "->  ('As', 'aabbc', '#')\n",
            "->  ('As', 'abbc', '#')\n",
            "->  ('As', 'bbc', '#')\n",
            "->  ('Bs', 'bc', '#')\n",
            "->  ('Bs', 'c', '#')\n",
            "->  ('Cs', '', '#')\n",
            "->  ('F', '', '#') .\n"
          ]
        }
      ]
    },
    {
      "cell_type": "code",
      "source": [
        "explore_pda('cccccccccccccccccc', Lif)"
      ],
      "metadata": {
        "id": "wbIEC59bZE1L",
        "colab": {
          "base_uri": "https://localhost:8080/"
        },
        "outputId": "fff2d602-22e2-43df-e139-85bb5b08ec74"
      },
      "execution_count": 171,
      "outputs": [
        {
          "output_type": "stream",
          "name": "stdout",
          "text": [
            "String cccccccccccccccccc accepted by your PDA in 1 ways :-) \n",
            "Here are the ways: \n",
            "Final state  ('F', '', '#')\n",
            "Reached as follows:\n",
            "->  ('I', 'cccccccccccccccccc', '#')\n",
            "->  ('As', 'cccccccccccccccccc', '#')\n",
            "->  ('Cs', 'ccccccccccccccccc', '#')\n",
            "->  ('Cs', 'cccccccccccccccc', '#')\n",
            "->  ('Cs', 'ccccccccccccccc', '#')\n",
            "->  ('Cs', 'cccccccccccccc', '#')\n",
            "->  ('Cs', 'ccccccccccccc', '#')\n",
            "->  ('Cs', 'cccccccccccc', '#')\n",
            "->  ('Cs', 'ccccccccccc', '#')\n",
            "->  ('Cs', 'cccccccccc', '#')\n",
            "->  ('Cs', 'ccccccccc', '#')\n",
            "->  ('Cs', 'cccccccc', '#')\n",
            "->  ('Cs', 'ccccccc', '#')\n",
            "->  ('Cs', 'cccccc', '#')\n",
            "->  ('Cs', 'ccccc', '#')\n",
            "->  ('Cs', 'cccc', '#')\n",
            "->  ('Cs', 'ccc', '#')\n",
            "->  ('Cs', 'cc', '#')\n",
            "->  ('Cs', 'c', '#')\n",
            "->  ('Cs', '', '#')\n",
            "->  ('F', '', '#') .\n"
          ]
        }
      ]
    },
    {
      "cell_type": "code",
      "source": [
        "explore_pda('aabcbc', Lif)"
      ],
      "metadata": {
        "id": "tkAXbmGmZEtw",
        "colab": {
          "base_uri": "https://localhost:8080/"
        },
        "outputId": "bc7bffea-3713-45a1-c288-96d3a0119f87"
      },
      "execution_count": 172,
      "outputs": [
        {
          "output_type": "stream",
          "name": "stdout",
          "text": [
            "String aabcbc rejected by your PDA :-(\n",
            "Visited states are:\n",
            "{('Push_Bs', 'cbc', 'b#'), ('F', 'bc', '#'), ('F', 'bcbc', '#'), ('F', 'abcbc', 'a#'), ('As', 'abcbc', '#'), ('F', 'cbc', '#'), ('Cs', 'bc', '#'), ('F', 'aabcbc', '#'), ('Pop_Bs', 'bc', '#'), ('As', 'bcbc', '#'), ('F', 'abcbc', '#'), ('As', 'abcbc', 'a#'), ('Push_Bs', 'bcbc', '#'), ('I', 'abcbc', 'a#'), ('I', 'aabcbc', '#'), ('As', 'aabcbc', '#'), ('Bs', 'cbc', '#')}\n"
          ]
        }
      ]
    },
    {
      "cell_type": "code",
      "source": [
        "explore_pda('acbbbbbc', Lif)"
      ],
      "metadata": {
        "id": "oKF43f6tZEbG",
        "colab": {
          "base_uri": "https://localhost:8080/"
        },
        "outputId": "45df8ca7-e0e6-4bc6-99c4-45e1e38f45d5"
      },
      "execution_count": 173,
      "outputs": [
        {
          "output_type": "stream",
          "name": "stdout",
          "text": [
            "String acbbbbbc rejected by your PDA :-(\n",
            "Visited states are:\n",
            "{('Cs', 'bbbbbc', 'a#'), ('F', 'cbbbbbc', '#'), ('F', 'acbbbbbc', '#'), ('I', 'acbbbbbc', '#'), ('As', 'acbbbbbc', '#'), ('Cs', 'bbbbbc', '#'), ('F', 'cbbbbbc', 'a#'), ('F', 'bbbbbc', 'a#'), ('As', 'cbbbbbc', '#'), ('I', 'cbbbbbc', 'a#'), ('F', 'bbbbbc', '#'), ('As', 'cbbbbbc', 'a#')}\n"
          ]
        }
      ]
    },
    {
      "cell_type": "code",
      "source": [
        "explore_pda('ccccccbba', Lif)"
      ],
      "metadata": {
        "id": "dycNsgWdZERq",
        "colab": {
          "base_uri": "https://localhost:8080/"
        },
        "outputId": "e346bdc2-e98b-4051-ee91-f0b73fbef272"
      },
      "execution_count": 174,
      "outputs": [
        {
          "output_type": "stream",
          "name": "stdout",
          "text": [
            "String ccccccbba rejected by your PDA :-(\n",
            "Visited states are:\n",
            "{('F', 'cccccbba', '#'), ('F', 'cbba', '#'), ('F', 'ccbba', '#'), ('I', 'ccccccbba', '#'), ('F', 'bba', '#'), ('F', 'cccbba', '#'), ('Cs', 'ccccbba', '#'), ('Cs', 'cccccbba', '#'), ('Cs', 'bba', '#'), ('Cs', 'cbba', '#'), ('F', 'ccccccbba', '#'), ('Cs', 'ccbba', '#'), ('As', 'ccccccbba', '#'), ('Cs', 'cccbba', '#'), ('F', 'ccccbba', '#')}\n"
          ]
        }
      ]
    },
    {
      "cell_type": "markdown",
      "metadata": {
        "id": "iXp_GBi-yH2J"
      },
      "source": [
        "# END\n"
      ]
    }
  ],
  "metadata": {
    "colab": {
      "provenance": [],
      "collapsed_sections": []
    },
    "kernelspec": {
      "display_name": "Python 3",
      "language": "python",
      "name": "python3"
    },
    "language_info": {
      "codemirror_mode": {
        "name": "ipython",
        "version": 3
      },
      "file_extension": ".py",
      "mimetype": "text/x-python",
      "name": "python",
      "nbconvert_exporter": "python",
      "pygments_lexer": "ipython3",
      "version": "3.8.5"
    },
    "toc": {
      "colors": {
        "hover_highlight": "#DAA520",
        "running_highlight": "#FF0000",
        "selected_highlight": "#FFD700"
      },
      "moveMenuLeft": true,
      "nav_menu": {
        "height": "121px",
        "width": "252px"
      },
      "navigate_menu": true,
      "number_sections": true,
      "sideBar": true,
      "threshold": 4,
      "toc_cell": false,
      "toc_section_display": "block",
      "toc_window_display": false,
      "widenNotebook": false
    }
  },
  "nbformat": 4,
  "nbformat_minor": 0
}