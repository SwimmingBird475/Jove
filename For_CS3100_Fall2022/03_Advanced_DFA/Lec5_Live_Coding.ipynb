{
  "cells": [
    {
      "cell_type": "markdown",
      "metadata": {
        "run_control": {
          "frozen": false,
          "read_only": false
        },
        "id": "-5_c7nLkBg9e"
      },
      "source": [
        "# DFA design exercise\n",
        "\n",
        "DFA that accepts (Odd 0's or Even 1's) AND the number MSB-first isn't divisible by 3"
      ]
    },
    {
      "cell_type": "code",
      "execution_count": 2,
      "metadata": {
        "run_control": {
          "frozen": false,
          "read_only": false
        },
        "id": "A5yuQFdyBg9k",
        "outputId": "c73caaaa-4dda-4493-e2e4-43d2c920b57a",
        "colab": {
          "base_uri": "https://localhost:8080/"
        }
      },
      "outputs": [
        {
          "output_type": "stream",
          "name": "stdout",
          "text": [
            "Cloning into 'Jove'...\n",
            "remote: Enumerating objects: 5748, done.\u001b[K\n",
            "remote: Counting objects: 100% (1114/1114), done.\u001b[K\n",
            "remote: Compressing objects: 100% (462/462), done.\u001b[K\n",
            "remote: Total 5748 (delta 611), reused 1098 (delta 602), pack-reused 4634\u001b[K\n",
            "Receiving objects: 100% (5748/5748), 8.35 MiB | 27.86 MiB/s, done.\n",
            "Resolving deltas: 100% (3616/3616), done.\n",
            "You may use any of these help commands:\n",
            "help(ResetStNum)\n",
            "help(NxtStateStr)\n",
            "\n",
            "You may use any of these help commands:\n",
            "help(md2mc)\n",
            ".. and if you want to dig more, then ..\n",
            "help(default_line_attr)\n",
            "help(length_ok_input_items)\n",
            "help(union_line_attr_list_fld)\n",
            "help(extend_rsltdict)\n",
            "help(form_delta)\n",
            "help(get_machine_components)\n",
            "\n",
            "You may use any of these help commands:\n",
            "help(mkp_dfa)\n",
            "help(mk_dfa)\n",
            "help(totalize_dfa)\n",
            "help(addtosigma_delta)\n",
            "help(step_dfa)\n",
            "help(run_dfa)\n",
            "help(accepts_dfa)\n",
            "help(comp_dfa)\n",
            "help(union_dfa)\n",
            "help(intersect_dfa)\n",
            "help(pruneUnreach)\n",
            "help(iso_dfa)\n",
            "help(langeq_dfa)\n",
            "help(same_status)\n",
            "help(h_langeq_dfa)\n",
            "help(fixptDist)\n",
            "help(min_dfa)\n",
            "help(pairFR)\n",
            "help(state_combos)\n",
            "help(sepFinNonFin)\n",
            "help(bash_eql_classes)\n",
            "help(listminus)\n",
            "help(bash_1)\n",
            "help(mk_rep_eqc)\n",
            "help(F_of)\n",
            "help(rep_of_s)\n",
            "help(q0_of)\n",
            "help(Delta_of)\n",
            "help(mk_state_eqc_name)\n",
            "\n",
            "You may use any of these help commands:\n",
            "help(mk_nfa)\n",
            "help(totalize_nfa)\n",
            "help(step_nfa)\n",
            "help(run_nfa)\n",
            "help(ec_step_nfa)\n",
            "help(Eclosure)\n",
            "help(Echelp)\n",
            "help(accepts_nfa)\n",
            "help(nfa2dfa)\n",
            "help(n2d)\n",
            "help(inSets)\n",
            "help(rev_dfa)\n",
            "help(min_dfa_brz)\n",
            "\n",
            "You may use any of these help commands:\n",
            "help(lphi)\n",
            "help(lunit)\n",
            "help(lcat)\n",
            "help(lexp)\n",
            "help(lunion)\n",
            "help(lstar)\n",
            "help(srev)\n",
            "help(lrev)\n",
            "help(shomo)\n",
            "help(lhomo)\n",
            "help(powset)\n",
            "help(lint)\n",
            "help(lsymdiff)\n",
            "help(lminus)\n",
            "help(lissubset)\n",
            "help(lissuperset)\n",
            "help(lcomplem)\n",
            "help(product)\n",
            "help(nthnumeric)\n",
            "\n",
            "You may use any of these help commands:\n",
            "help(re2nfa)\n",
            "\n"
          ]
        }
      ],
      "source": [
        "#~~~~~~~~~~~~~~~~~~~~~~~~~~~~~~~~~~~~~~~~~~~~~~~~~~~~~~~\n",
        "import sys\n",
        "\n",
        "# -- Detect if in Own Install or in Colab\n",
        "try:\n",
        "    import google.colab\n",
        "    OWN_INSTALL = False\n",
        "except:\n",
        "    OWN_INSTALL = True\n",
        "    \n",
        "if OWN_INSTALL:\n",
        "    \n",
        "  #---- Leave these definitions ON if running on laptop\n",
        "  #---- Else turn OFF by putting them between ''' ... '''\n",
        "\n",
        "  sys.path[0:0] = ['../../../../..',  '../../../../../3rdparty',  \n",
        "                   '../../../..',  '../../../../3rdparty',  \n",
        "                   '../../..',     '../../../3rdparty', \n",
        "                   '../..',        '../../3rdparty',\n",
        "                   '..',           '../3rdparty' ]\n",
        "\n",
        "else: # In colab\n",
        "  ! if [ ! -d Jove ]; then git clone https://github.com/ganeshutah/Jove Jove; fi\n",
        "  sys.path.append('./Jove')\n",
        "  sys.path.append('./Jove/jove')\n",
        "\n",
        "# -- common imports --\n",
        "from jove.DotBashers import *\n",
        "from jove.Def_md2mc  import *\n",
        "from jove.Def_DFA    import *\n",
        "from jove.Def_NFA import *\n",
        "from jove.LangDef    import *  # for testing DFA actions\n",
        "from jove.Def_RE2NFA import *\n",
        "#~~~~~~~~~~~~~~~~~~~~~~~~~~~~~~~~~~~~~~~~~~~~~~~~~~~~~~~"
      ]
    },
    {
      "cell_type": "markdown",
      "source": [
        "Odd 0's"
      ],
      "metadata": {
        "id": "jbb1K9_CCBqg"
      }
    },
    {
      "cell_type": "code",
      "source": [
        "# DFA over {0,1} that accepts all strings that contain odd # of 0's\n",
        "\n",
        "Odd_zeros = md2mc('''\n",
        "DFA\n",
        "\n",
        "Ieven0 : 0 -> FOdd0\n",
        "Ieven0 : 1 -> Ieven0\n",
        "\n",
        "FOdd0 : 0 -> Ieven0\n",
        "FOdd0 : 1 -> FOdd0\n",
        "''')\n",
        "\n",
        "dotObj_dfa(Odd_zeros, FuseEdges=True)"
      ],
      "metadata": {
        "id": "pQgKpB4KB96O",
        "outputId": "1c86078f-6e21-4a36-95c5-275ef7cce14b",
        "colab": {
          "base_uri": "https://localhost:8080/",
          "height": 187
        }
      },
      "execution_count": 15,
      "outputs": [
        {
          "output_type": "execute_result",
          "data": {
            "text/plain": [
              "<graphviz.dot.Digraph at 0x7fc7eeb78590>"
            ],
            "image/svg+xml": "<?xml version=\"1.0\" encoding=\"UTF-8\" standalone=\"no\"?>\n<!DOCTYPE svg PUBLIC \"-//W3C//DTD SVG 1.1//EN\"\n \"http://www.w3.org/Graphics/SVG/1.1/DTD/svg11.dtd\">\n<!-- Generated by graphviz version 2.40.1 (20161225.0304)\n -->\n<!-- Title: %3 Pages: 1 -->\n<svg width=\"303pt\" height=\"124pt\"\n viewBox=\"0.00 0.00 303.19 124.39\" xmlns=\"http://www.w3.org/2000/svg\" xmlns:xlink=\"http://www.w3.org/1999/xlink\">\n<g id=\"graph0\" class=\"graph\" transform=\"scale(1 1) rotate(0) translate(4 120.3933)\">\n<title>%3</title>\n<polygon fill=\"#ffffff\" stroke=\"transparent\" points=\"-4,4 -4,-120.3933 299.1869,-120.3933 299.1869,4 -4,4\"/>\n<!-- EMPTY -->\n<g id=\"node1\" class=\"node\">\n<title>EMPTY</title>\n</g>\n<!-- Ieven0 -->\n<g id=\"node2\" class=\"node\">\n<title>Ieven0</title>\n<ellipse fill=\"none\" stroke=\"#000000\" cx=\"127.3968\" cy=\"-41.6967\" rx=\"36.2938\" ry=\"36.2938\"/>\n<text text-anchor=\"middle\" x=\"127.3968\" y=\"-37.9967\" font-family=\"Times,serif\" font-size=\"14.00\" fill=\"#000000\">Ieven0</text>\n</g>\n<!-- EMPTY&#45;&gt;Ieven0 -->\n<g id=\"edge1\" class=\"edge\">\n<title>EMPTY&#45;&gt;Ieven0</title>\n<path fill=\"none\" stroke=\"#000000\" d=\"M54.1688,-41.6967C62.3543,-41.6967 71.5827,-41.6967 80.6596,-41.6967\"/>\n<polygon fill=\"#000000\" stroke=\"#000000\" points=\"80.7795,-45.1968 90.7795,-41.6967 80.7795,-38.1968 80.7795,-45.1968\"/>\n</g>\n<!-- Ieven0&#45;&gt;Ieven0 -->\n<g id=\"edge3\" class=\"edge\">\n<title>Ieven0&#45;&gt;Ieven0</title>\n<path fill=\"none\" stroke=\"#000000\" d=\"M117.2817,-76.7502C117.486,-87.5851 120.8577,-96.0934 127.3968,-96.0934 131.688,-96.0934 134.6152,-92.4292 136.1783,-86.8478\"/>\n<polygon fill=\"#000000\" stroke=\"#000000\" points=\"139.6724,-87.1224 137.5119,-76.7502 132.7326,-86.2059 139.6724,-87.1224\"/>\n<text text-anchor=\"middle\" x=\"127.3968\" y=\"-99.8934\" font-family=\"Times,serif\" font-size=\"14.00\" fill=\"#000000\">1 </text>\n</g>\n<!-- FOdd0 -->\n<g id=\"node3\" class=\"node\">\n<title>FOdd0</title>\n<ellipse fill=\"none\" stroke=\"#000000\" cx=\"253.4902\" cy=\"-41.6967\" rx=\"37.8753\" ry=\"37.8753\"/>\n<ellipse fill=\"none\" stroke=\"#000000\" cx=\"253.4902\" cy=\"-41.6967\" rx=\"41.8942\" ry=\"41.8942\"/>\n<text text-anchor=\"middle\" x=\"253.4902\" y=\"-37.9967\" font-family=\"Times,serif\" font-size=\"14.00\" fill=\"#000000\">FOdd0</text>\n</g>\n<!-- Ieven0&#45;&gt;FOdd0 -->\n<g id=\"edge2\" class=\"edge\">\n<title>Ieven0&#45;&gt;FOdd0</title>\n<path fill=\"none\" stroke=\"#000000\" d=\"M163.8682,-41.6967C175.691,-41.6967 189.0399,-41.6967 201.7544,-41.6967\"/>\n<polygon fill=\"#000000\" stroke=\"#000000\" points=\"201.7738,-45.1968 211.7738,-41.6967 201.7737,-38.1968 201.7738,-45.1968\"/>\n<text text-anchor=\"middle\" x=\"187.7935\" y=\"-45.4967\" font-family=\"Times,serif\" font-size=\"14.00\" fill=\"#000000\">0 </text>\n</g>\n<!-- FOdd0&#45;&gt;Ieven0 -->\n<g id=\"edge4\" class=\"edge\">\n<title>FOdd0&#45;&gt;Ieven0</title>\n<path fill=\"none\" stroke=\"#000000\" d=\"M215.0752,-25.2387C204.3856,-22.3813 192.7118,-20.8447 181.7935,-22.6967 178.1783,-23.3099 174.4831,-24.137 170.805,-25.1043\"/>\n<polygon fill=\"#000000\" stroke=\"#000000\" points=\"169.7785,-21.7579 161.1751,-27.9412 171.7566,-28.4726 169.7785,-21.7579\"/>\n<text text-anchor=\"middle\" x=\"187.7935\" y=\"-26.4967\" font-family=\"Times,serif\" font-size=\"14.00\" fill=\"#000000\">0 </text>\n</g>\n<!-- FOdd0&#45;&gt;FOdd0 -->\n<g id=\"edge5\" class=\"edge\">\n<title>FOdd0&#45;&gt;FOdd0</title>\n<path fill=\"none\" stroke=\"#000000\" d=\"M241.5634,-81.8728C242.1396,-92.9377 246.1152,-101.3933 253.4902,-101.3933 258.33,-101.3933 261.7059,-97.7518 263.6177,-92.1211\"/>\n<polygon fill=\"#000000\" stroke=\"#000000\" points=\"267.1349,-92.3274 265.417,-81.8728 260.2404,-91.1169 267.1349,-92.3274\"/>\n<text text-anchor=\"middle\" x=\"253.4902\" y=\"-105.1933\" font-family=\"Times,serif\" font-size=\"14.00\" fill=\"#000000\">1 </text>\n</g>\n</g>\n</svg>\n"
          },
          "metadata": {},
          "execution_count": 15
        }
      ]
    },
    {
      "cell_type": "markdown",
      "source": [
        "Even 1's"
      ],
      "metadata": {
        "id": "jUHuCzAVCJqf"
      }
    },
    {
      "cell_type": "code",
      "source": [
        "# DFA over {0,1} that accepts all strings that contain an even number of 1's\n",
        "\n",
        "Even_ones = md2mc('''\n",
        "DFA\n",
        "\n",
        "IFEven1 : 0 -> IFEven1\n",
        "IFEven1 : 1 -> Odd1\n",
        "\n",
        "Odd1 : 0 -> Odd1\n",
        "Odd1 : 1 -> IFEven1\n",
        "''')\n",
        "\n",
        "dotObj_dfa(Even_ones, FuseEdges=True)"
      ],
      "metadata": {
        "id": "MBcP4FJ4B-xj",
        "outputId": "859bf52c-eb59-437a-e451-eabf68bbe125",
        "colab": {
          "base_uri": "https://localhost:8080/",
          "height": 203
        }
      },
      "execution_count": 17,
      "outputs": [
        {
          "output_type": "execute_result",
          "data": {
            "text/plain": [
              "<graphviz.dot.Digraph at 0x7fc7eed14e10>"
            ],
            "image/svg+xml": "<?xml version=\"1.0\" encoding=\"UTF-8\" standalone=\"no\"?>\n<!DOCTYPE svg PUBLIC \"-//W3C//DTD SVG 1.1//EN\"\n \"http://www.w3.org/Graphics/SVG/1.1/DTD/svg11.dtd\">\n<!-- Generated by graphviz version 2.40.1 (20161225.0304)\n -->\n<!-- Title: %3 Pages: 1 -->\n<svg width=\"307pt\" height=\"136pt\"\n viewBox=\"0.00 0.00 307.09 136.09\" xmlns=\"http://www.w3.org/2000/svg\" xmlns:xlink=\"http://www.w3.org/1999/xlink\">\n<g id=\"graph0\" class=\"graph\" transform=\"scale(1 1) rotate(0) translate(4 132.0923)\">\n<title>%3</title>\n<polygon fill=\"#ffffff\" stroke=\"transparent\" points=\"-4,4 -4,-132.0923 303.0865,-132.0923 303.0865,4 -4,4\"/>\n<!-- EMPTY -->\n<g id=\"node1\" class=\"node\">\n<title>EMPTY</title>\n</g>\n<!-- IFEven1 -->\n<g id=\"node3\" class=\"node\">\n<title>IFEven1</title>\n<ellipse fill=\"none\" stroke=\"#000000\" cx=\"138.5461\" cy=\"-47.5461\" rx=\"43.5884\" ry=\"43.5884\"/>\n<ellipse fill=\"none\" stroke=\"#000000\" cx=\"138.5461\" cy=\"-47.5461\" rx=\"47.5923\" ry=\"47.5923\"/>\n<text text-anchor=\"middle\" x=\"138.5461\" y=\"-43.8461\" font-family=\"Times,serif\" font-size=\"14.00\" fill=\"#000000\">IFEven1</text>\n</g>\n<!-- EMPTY&#45;&gt;IFEven1 -->\n<g id=\"edge1\" class=\"edge\">\n<title>EMPTY&#45;&gt;IFEven1</title>\n<path fill=\"none\" stroke=\"#000000\" d=\"M54.0022,-47.5461C62.1465,-47.5461 71.4179,-47.5461 80.7647,-47.5461\"/>\n<polygon fill=\"#000000\" stroke=\"#000000\" points=\"80.8867,-51.0462 90.8866,-47.5461 80.8866,-44.0462 80.8867,-51.0462\"/>\n</g>\n<!-- Odd1 -->\n<g id=\"node2\" class=\"node\">\n<title>Odd1</title>\n<ellipse fill=\"none\" stroke=\"#000000\" cx=\"266.5894\" cy=\"-47.5461\" rx=\"32.4942\" ry=\"32.4942\"/>\n<text text-anchor=\"middle\" x=\"266.5894\" y=\"-43.8461\" font-family=\"Times,serif\" font-size=\"14.00\" fill=\"#000000\">Odd1</text>\n</g>\n<!-- Odd1&#45;&gt;Odd1 -->\n<g id=\"edge4\" class=\"edge\">\n<title>Odd1&#45;&gt;Odd1</title>\n<path fill=\"none\" stroke=\"#000000\" d=\"M256.092,-78.6122C255.9809,-89.362 259.48,-98.0433 266.5894,-98.0433 271.2549,-98.0433 274.3656,-94.3046 275.9216,-88.696\"/>\n<polygon fill=\"#000000\" stroke=\"#000000\" points=\"279.4157,-88.9479 277.0868,-78.6122 272.462,-88.1443 279.4157,-88.9479\"/>\n<text text-anchor=\"middle\" x=\"266.5894\" y=\"-101.8433\" font-family=\"Times,serif\" font-size=\"14.00\" fill=\"#000000\">0 </text>\n</g>\n<!-- Odd1&#45;&gt;IFEven1 -->\n<g id=\"edge5\" class=\"edge\">\n<title>Odd1&#45;&gt;IFEven1</title>\n<path fill=\"none\" stroke=\"#000000\" d=\"M236.6516,-34.2721C230.0083,-31.8976 222.9119,-29.7867 216.0923,-28.5461 208.6013,-27.1835 200.7548,-27.2804 193.0502,-28.2732\"/>\n<polygon fill=\"#000000\" stroke=\"#000000\" points=\"192.2807,-24.8549 183.0453,-30.047 193.5028,-31.7475 192.2807,-24.8549\"/>\n<text text-anchor=\"middle\" x=\"210.0923\" y=\"-32.3461\" font-family=\"Times,serif\" font-size=\"14.00\" fill=\"#000000\">1 </text>\n</g>\n<!-- IFEven1&#45;&gt;Odd1 -->\n<g id=\"edge3\" class=\"edge\">\n<title>IFEven1&#45;&gt;Odd1</title>\n<path fill=\"none\" stroke=\"#000000\" d=\"M186.2247,-47.5461C198.5432,-47.5461 211.7269,-47.5461 223.7797,-47.5461\"/>\n<polygon fill=\"#000000\" stroke=\"#000000\" points=\"224.0303,-51.0462 234.0303,-47.5461 224.0303,-44.0462 224.0303,-51.0462\"/>\n<text text-anchor=\"middle\" x=\"210.0923\" y=\"-51.3461\" font-family=\"Times,serif\" font-size=\"14.00\" fill=\"#000000\">1 </text>\n</g>\n<!-- IFEven1&#45;&gt;IFEven1 -->\n<g id=\"edge2\" class=\"edge\">\n<title>IFEven1&#45;&gt;IFEven1</title>\n<path fill=\"none\" stroke=\"#000000\" d=\"M126.3894,-93.7896C127.3396,-104.877 131.3918,-113.0923 138.5461,-113.0923 143.2411,-113.0923 146.6002,-109.5543 148.6233,-103.9883\"/>\n<polygon fill=\"#000000\" stroke=\"#000000\" points=\"152.1343,-104.2873 150.7029,-93.7896 145.2754,-102.8887 152.1343,-104.2873\"/>\n<text text-anchor=\"middle\" x=\"138.5461\" y=\"-116.8923\" font-family=\"Times,serif\" font-size=\"14.00\" fill=\"#000000\">0 </text>\n</g>\n</g>\n</svg>\n"
          },
          "metadata": {},
          "execution_count": 17
        }
      ]
    },
    {
      "cell_type": "markdown",
      "source": [
        "Odd 0's OR even 1's"
      ],
      "metadata": {
        "id": "DeZkw8TsCL4G"
      }
    },
    {
      "cell_type": "code",
      "source": [
        "help(union_dfa)"
      ],
      "metadata": {
        "id": "Xnrqn8LpH8ea",
        "outputId": "a7a1544c-905a-4ff4-e700-57e774d7d18b",
        "colab": {
          "base_uri": "https://localhost:8080/"
        }
      },
      "execution_count": 34,
      "outputs": [
        {
          "output_type": "stream",
          "name": "stdout",
          "text": [
            "Help on function union_dfa in module jove.Def_DFA:\n",
            "\n",
            "union_dfa(D1in, D2in)\n",
            "    In : D1in (consistent DFA)\n",
            "         D2in (consistent DFA)\n",
            "    Out: DFA for language union of D1in, D2in (consistent DFA).\n",
            "\n"
          ]
        }
      ]
    },
    {
      "cell_type": "code",
      "source": [
        "help(dotObj_dfa)"
      ],
      "metadata": {
        "id": "SL4Proj9IBjx",
        "outputId": "645598a7-81b1-4567-8eb5-72a5f48dffd9",
        "colab": {
          "base_uri": "https://localhost:8080/"
        }
      },
      "execution_count": 35,
      "outputs": [
        {
          "output_type": "stream",
          "name": "stdout",
          "text": [
            "Help on function dotObj_dfa in module jove.DotBashers:\n",
            "\n",
            "dotObj_dfa(D, FuseEdges=False, dfaName='do_', STATENAME_MAXSIZE=20)\n",
            "    In : D1 (DFA : partially consistent)\n",
            "         dfaName (string)\n",
            "         STATENAME_MAXSIZE : number\n",
            "    Out: A dot object. \n",
            "    Generate a dot object representing the automaton. \n",
            "    Suppress \"black-hole states\".\n",
            "\n"
          ]
        }
      ]
    },
    {
      "cell_type": "code",
      "source": [
        "Odd0s_Even1s = union_dfa(Odd_zeros, Even_ones)"
      ],
      "metadata": {
        "id": "DQP2PF9iCNz7"
      },
      "execution_count": 18,
      "outputs": []
    },
    {
      "cell_type": "code",
      "source": [
        "dotObj_dfa(Odd0s_Even1s)"
      ],
      "metadata": {
        "id": "KfTwf9T9D7s6",
        "outputId": "73ccd165-f009-4a41-9b6c-a44b4d180d72",
        "colab": {
          "base_uri": "https://localhost:8080/",
          "height": 379
        }
      },
      "execution_count": 36,
      "outputs": [
        {
          "output_type": "execute_result",
          "data": {
            "text/plain": [
              "<graphviz.dot.Digraph at 0x7fc7e6bfbf10>"
            ],
            "image/svg+xml": "<?xml version=\"1.0\" encoding=\"UTF-8\" standalone=\"no\"?>\n<!DOCTYPE svg PUBLIC \"-//W3C//DTD SVG 1.1//EN\"\n \"http://www.w3.org/Graphics/SVG/1.1/DTD/svg11.dtd\">\n<!-- Generated by graphviz version 2.40.1 (20161225.0304)\n -->\n<!-- Title: %3 Pages: 1 -->\n<svg width=\"864pt\" height=\"253pt\"\n viewBox=\"0.00 0.00 863.65 252.79\" xmlns=\"http://www.w3.org/2000/svg\" xmlns:xlink=\"http://www.w3.org/1999/xlink\">\n<g id=\"graph0\" class=\"graph\" transform=\"scale(1 1) rotate(0) translate(4 248.7866)\">\n<title>%3</title>\n<polygon fill=\"#ffffff\" stroke=\"transparent\" points=\"-4,4 -4,-248.7866 859.6471,-248.7866 859.6471,4 -4,4\"/>\n<!-- EMPTY -->\n<g id=\"node1\" class=\"node\">\n<title>EMPTY</title>\n</g>\n<!-- \\(Ieven0_IFEven1\\) -->\n<g id=\"node5\" class=\"node\">\n<title>\\(Ieven0_IFEven1\\)</title>\n<ellipse fill=\"none\" stroke=\"#000000\" cx=\"174.293\" cy=\"-85.2428\" rx=\"79.0964\" ry=\"79.0964\"/>\n<ellipse fill=\"none\" stroke=\"#000000\" cx=\"174.293\" cy=\"-85.2428\" rx=\"83.0864\" ry=\"83.0864\"/>\n<text text-anchor=\"middle\" x=\"174.293\" y=\"-81.5428\" font-family=\"Times,serif\" font-size=\"14.00\" fill=\"#000000\">(Ieven0_IFEven1)</text>\n</g>\n<!-- EMPTY&#45;&gt;\\(Ieven0_IFEven1\\) -->\n<g id=\"edge1\" class=\"edge\">\n<title>EMPTY&#45;&gt;\\(Ieven0_IFEven1\\)</title>\n<path fill=\"none\" stroke=\"#000000\" d=\"M54.0158,-85.2428C61.9057,-85.2428 71.0085,-85.2428 80.6026,-85.2428\"/>\n<polygon fill=\"#000000\" stroke=\"#000000\" points=\"80.7482,-88.7429 90.7482,-85.2428 80.7481,-81.7429 80.7482,-88.7429\"/>\n</g>\n<!-- \\(Ieven0_Odd1\\) -->\n<g id=\"node2\" class=\"node\">\n<title>\\(Ieven0_Odd1\\)</title>\n<ellipse fill=\"none\" stroke=\"#000000\" cx=\"373.8299\" cy=\"-165.2428\" rx=\"68.4888\" ry=\"68.4888\"/>\n<text text-anchor=\"middle\" x=\"373.8299\" y=\"-161.5428\" font-family=\"Times,serif\" font-size=\"14.00\" fill=\"#000000\">(Ieven0_Odd1)</text>\n</g>\n<!-- \\(FOdd0_Odd1\\) -->\n<g id=\"node4\" class=\"node\">\n<title>\\(FOdd0_Odd1\\)</title>\n<ellipse fill=\"none\" stroke=\"#000000\" cx=\"563.6176\" cy=\"-171.2428\" rx=\"69.5853\" ry=\"69.5853\"/>\n<ellipse fill=\"none\" stroke=\"#000000\" cx=\"563.6176\" cy=\"-171.2428\" rx=\"73.5877\" ry=\"73.5877\"/>\n<text text-anchor=\"middle\" x=\"563.6176\" y=\"-167.5428\" font-family=\"Times,serif\" font-size=\"14.00\" fill=\"#000000\">(FOdd0_Odd1)</text>\n</g>\n<!-- \\(Ieven0_Odd1\\)&#45;&gt;\\(FOdd0_Odd1\\) -->\n<g id=\"edge6\" class=\"edge\">\n<title>\\(Ieven0_Odd1\\)&#45;&gt;\\(FOdd0_Odd1\\)</title>\n<path fill=\"none\" stroke=\"#000000\" d=\"M442.0795,-167.4005C454.3221,-167.7875 467.2086,-168.1949 479.8294,-168.5939\"/>\n<polygon fill=\"#000000\" stroke=\"#000000\" points=\"479.7711,-172.0937 489.8767,-168.9115 479.9924,-165.0972 479.7711,-172.0937\"/>\n<text text-anchor=\"middle\" x=\"466.0738\" y=\"-172.0428\" font-family=\"Times,serif\" font-size=\"14.00\" fill=\"#000000\">0 </text>\n</g>\n<!-- \\(Ieven0_Odd1\\)&#45;&gt;\\(Ieven0_IFEven1\\) -->\n<g id=\"edge8\" class=\"edge\">\n<title>\\(Ieven0_Odd1\\)&#45;&gt;\\(Ieven0_IFEven1\\)</title>\n<path fill=\"none\" stroke=\"#000000\" d=\"M316.0646,-128.0917C306.7623,-122.9907 297.0692,-118.1666 287.5859,-114.2428 280.4628,-111.2955 272.9604,-108.5846 265.348,-106.1047\"/>\n<polygon fill=\"#000000\" stroke=\"#000000\" points=\"266.2556,-102.7215 255.667,-103.0866 264.1722,-109.4043 266.2556,-102.7215\"/>\n<text text-anchor=\"middle\" x=\"281.5859\" y=\"-118.0428\" font-family=\"Times,serif\" font-size=\"14.00\" fill=\"#000000\">1 </text>\n</g>\n<!-- \\(FOdd0_IFEven1\\) -->\n<g id=\"node3\" class=\"node\">\n<title>\\(FOdd0_IFEven1\\)</title>\n<ellipse fill=\"none\" stroke=\"#000000\" cx=\"770.4043\" cy=\"-85.2428\" rx=\"81.4749\" ry=\"81.4749\"/>\n<ellipse fill=\"none\" stroke=\"#000000\" cx=\"770.4043\" cy=\"-85.2428\" rx=\"85.4863\" ry=\"85.4863\"/>\n<text text-anchor=\"middle\" x=\"770.4043\" y=\"-81.5428\" font-family=\"Times,serif\" font-size=\"14.00\" fill=\"#000000\">(FOdd0_IFEven1)</text>\n</g>\n<!-- \\(FOdd0_IFEven1\\)&#45;&gt;\\(FOdd0_Odd1\\) -->\n<g id=\"edge9\" class=\"edge\">\n<title>\\(FOdd0_IFEven1\\)&#45;&gt;\\(FOdd0_Odd1\\)</title>\n<path fill=\"none\" stroke=\"#000000\" d=\"M687.3486,-105.4773C676.369,-108.9706 665.3853,-112.8973 655.1615,-117.2428 648.4484,-120.0961 641.6256,-123.3558 634.8872,-126.8284\"/>\n<polygon fill=\"#000000\" stroke=\"#000000\" points=\"632.9547,-123.892 625.7689,-131.6776 636.2414,-130.0724 632.9547,-123.892\"/>\n<text text-anchor=\"middle\" x=\"661.1615\" y=\"-121.0428\" font-family=\"Times,serif\" font-size=\"14.00\" fill=\"#000000\">1 </text>\n</g>\n<!-- \\(FOdd0_IFEven1\\)&#45;&gt;\\(Ieven0_IFEven1\\) -->\n<g id=\"edge7\" class=\"edge\">\n<title>\\(FOdd0_IFEven1\\)&#45;&gt;\\(Ieven0_IFEven1\\)</title>\n<path fill=\"none\" stroke=\"#000000\" d=\"M685.5081,-75.7189C623.1698,-69.7801 536.4102,-63.708 460.0738,-66.2428 395.7445,-68.3789 323.4043,-73.2125 267.6016,-77.4696\"/>\n<polygon fill=\"#000000\" stroke=\"#000000\" points=\"267.0817,-73.9992 257.3801,-78.257 267.6194,-80.9785 267.0817,-73.9992\"/>\n<text text-anchor=\"middle\" x=\"466.0738\" y=\"-70.0428\" font-family=\"Times,serif\" font-size=\"14.00\" fill=\"#000000\">0 </text>\n</g>\n<!-- \\(FOdd0_Odd1\\)&#45;&gt;\\(Ieven0_Odd1\\) -->\n<g id=\"edge3\" class=\"edge\">\n<title>\\(FOdd0_Odd1\\)&#45;&gt;\\(Ieven0_Odd1\\)</title>\n<path fill=\"none\" stroke=\"#000000\" d=\"M492.6318,-151.3463C481.7843,-149.9056 470.673,-149.3279 460.0738,-150.2428 457.1638,-150.494 454.2047,-150.792 451.2202,-151.1283\"/>\n<polygon fill=\"#000000\" stroke=\"#000000\" points=\"450.4971,-147.6915 441.0098,-152.4076 451.3674,-154.6372 450.4971,-147.6915\"/>\n<text text-anchor=\"middle\" x=\"466.0738\" y=\"-154.0428\" font-family=\"Times,serif\" font-size=\"14.00\" fill=\"#000000\">0 </text>\n</g>\n<!-- \\(FOdd0_Odd1\\)&#45;&gt;\\(FOdd0_IFEven1\\) -->\n<g id=\"edge5\" class=\"edge\">\n<title>\\(FOdd0_Odd1\\)&#45;&gt;\\(FOdd0_IFEven1\\)</title>\n<path fill=\"none\" stroke=\"#000000\" d=\"M633.7093,-148.9621C644.9888,-144.9732 656.4661,-140.6691 667.1615,-136.2428 673.0409,-133.8096 679.0542,-131.1931 685.0773,-128.4764\"/>\n<polygon fill=\"#000000\" stroke=\"#000000\" points=\"686.9037,-131.4893 694.5323,-124.137 683.9838,-125.1273 686.9037,-131.4893\"/>\n<text text-anchor=\"middle\" x=\"661.1615\" y=\"-144.0428\" font-family=\"Times,serif\" font-size=\"14.00\" fill=\"#000000\">1 </text>\n</g>\n<!-- \\(Ieven0_IFEven1\\)&#45;&gt;\\(Ieven0_Odd1\\) -->\n<g id=\"edge4\" class=\"edge\">\n<title>\\(Ieven0_IFEven1\\)&#45;&gt;\\(Ieven0_Odd1\\)</title>\n<path fill=\"none\" stroke=\"#000000\" d=\"M249.3269,-122.0976C258.1086,-126.0235 266.9973,-129.8253 275.5859,-133.2428 283.051,-136.2132 290.9112,-139.1238 298.7997,-141.9045\"/>\n<polygon fill=\"#000000\" stroke=\"#000000\" points=\"297.8167,-145.2679 308.4114,-145.2273 300.1038,-138.652 297.8167,-145.2679\"/>\n<text text-anchor=\"middle\" x=\"281.5859\" y=\"-141.0428\" font-family=\"Times,serif\" font-size=\"14.00\" fill=\"#000000\">1 </text>\n</g>\n<!-- \\(Ieven0_IFEven1\\)&#45;&gt;\\(FOdd0_IFEven1\\) -->\n<g id=\"edge2\" class=\"edge\">\n<title>\\(Ieven0_IFEven1\\)&#45;&gt;\\(FOdd0_IFEven1\\)</title>\n<path fill=\"none\" stroke=\"#000000\" d=\"M257.8074,-85.2428C367.4485,-85.2428 559.4848,-85.2428 674.8164,-85.2428\"/>\n<polygon fill=\"#000000\" stroke=\"#000000\" points=\"675.045,-88.7429 685.045,-85.2428 675.0449,-81.7429 675.045,-88.7429\"/>\n<text text-anchor=\"middle\" x=\"466.0738\" y=\"-89.0428\" font-family=\"Times,serif\" font-size=\"14.00\" fill=\"#000000\">0 </text>\n</g>\n</g>\n</svg>\n"
          },
          "metadata": {},
          "execution_count": 36
        }
      ]
    },
    {
      "cell_type": "code",
      "source": [
        "dotObj_dfa(Odd0s_Even1s, STATENAME_MAXSIZE=1)"
      ],
      "metadata": {
        "id": "MlWrYLmeINU2",
        "outputId": "1d3cf54f-ab15-4586-f252-1c4e1bb48fb7",
        "colab": {
          "base_uri": "https://localhost:8080/",
          "height": 168
        }
      },
      "execution_count": 38,
      "outputs": [
        {
          "output_type": "execute_result",
          "data": {
            "text/plain": [
              "<graphviz.dot.Digraph at 0x7fc7e6c1a590>"
            ],
            "image/svg+xml": "<?xml version=\"1.0\" encoding=\"UTF-8\" standalone=\"no\"?>\n<!DOCTYPE svg PUBLIC \"-//W3C//DTD SVG 1.1//EN\"\n \"http://www.w3.org/Graphics/SVG/1.1/DTD/svg11.dtd\">\n<!-- Generated by graphviz version 2.40.1 (20161225.0304)\n -->\n<!-- Title: %3 Pages: 1 -->\n<svg width=\"454pt\" height=\"110pt\"\n viewBox=\"0.00 0.00 454.18 109.80\" xmlns=\"http://www.w3.org/2000/svg\" xmlns:xlink=\"http://www.w3.org/1999/xlink\">\n<g id=\"graph0\" class=\"graph\" transform=\"scale(1 1) rotate(0) translate(4 105.7958)\">\n<title>%3</title>\n<polygon fill=\"#ffffff\" stroke=\"transparent\" points=\"-4,4 -4,-105.7958 450.1834,-105.7958 450.1834,4 -4,4\"/>\n<!-- EMPTY -->\n<g id=\"node1\" class=\"node\">\n<title>EMPTY</title>\n</g>\n<!-- St2 -->\n<g id=\"node5\" class=\"node\">\n<title>St2</title>\n<ellipse fill=\"none\" stroke=\"#000000\" cx=\"118.3979\" cy=\"-27.3979\" rx=\"23.3111\" ry=\"23.3111\"/>\n<ellipse fill=\"none\" stroke=\"#000000\" cx=\"118.3979\" cy=\"-27.3979\" rx=\"27.2962\" ry=\"27.2962\"/>\n<text text-anchor=\"middle\" x=\"118.3979\" y=\"-23.6979\" font-family=\"Times,serif\" font-size=\"14.00\" fill=\"#000000\">St2</text>\n</g>\n<!-- EMPTY&#45;&gt;St2 -->\n<g id=\"edge1\" class=\"edge\">\n<title>EMPTY&#45;&gt;St2</title>\n<path fill=\"none\" stroke=\"#000000\" d=\"M54.4224,-27.3979C62.7369,-27.3979 72.0177,-27.3979 80.875,-27.3979\"/>\n<polygon fill=\"#000000\" stroke=\"#000000\" points=\"80.9949,-30.898 90.9949,-27.3979 80.9949,-23.898 80.9949,-30.898\"/>\n</g>\n<!-- St3 -->\n<g id=\"node2\" class=\"node\">\n<title>St3</title>\n<ellipse fill=\"none\" stroke=\"#000000\" cx=\"217.1938\" cy=\"-72.3979\" rx=\"23.2963\" ry=\"23.2963\"/>\n<text text-anchor=\"middle\" x=\"217.1938\" y=\"-68.6979\" font-family=\"Times,serif\" font-size=\"14.00\" fill=\"#000000\">St3</text>\n</g>\n<!-- St1 -->\n<g id=\"node4\" class=\"node\">\n<title>St1</title>\n<ellipse fill=\"none\" stroke=\"#000000\" cx=\"315.9896\" cy=\"-74.3979\" rx=\"23.3111\" ry=\"23.3111\"/>\n<ellipse fill=\"none\" stroke=\"#000000\" cx=\"315.9896\" cy=\"-74.3979\" rx=\"27.2962\" ry=\"27.2962\"/>\n<text text-anchor=\"middle\" x=\"315.9896\" y=\"-70.6979\" font-family=\"Times,serif\" font-size=\"14.00\" fill=\"#000000\">St1</text>\n</g>\n<!-- St3&#45;&gt;St1 -->\n<g id=\"edge6\" class=\"edge\">\n<title>St3&#45;&gt;St1</title>\n<path fill=\"none\" stroke=\"#000000\" d=\"M240.8366,-72.9965C246.6425,-73.1359 252.8415,-73.2784 258.5917,-73.3979 265,-73.5311 271.811,-73.6605 278.4179,-73.7796\"/>\n<polygon fill=\"#000000\" stroke=\"#000000\" points=\"278.4851,-77.2812 288.545,-73.9573 278.608,-70.2823 278.4851,-77.2812\"/>\n<text text-anchor=\"middle\" x=\"264.5917\" y=\"-77.1979\" font-family=\"Times,serif\" font-size=\"14.00\" fill=\"#000000\">0 </text>\n</g>\n<!-- St3&#45;&gt;St2 -->\n<g id=\"edge8\" class=\"edge\">\n<title>St3&#45;&gt;St2</title>\n<path fill=\"none\" stroke=\"#000000\" d=\"M199.6726,-56.8051C192.6561,-51.2473 184.2405,-45.3838 175.7958,-41.3979 169.5014,-38.427 162.5109,-36.0473 155.6356,-34.1543\"/>\n<polygon fill=\"#000000\" stroke=\"#000000\" points=\"156.2864,-30.7101 145.7395,-31.7168 154.6122,-37.5069 156.2864,-30.7101\"/>\n<text text-anchor=\"middle\" x=\"169.7958\" y=\"-45.1979\" font-family=\"Times,serif\" font-size=\"14.00\" fill=\"#000000\">1 </text>\n</g>\n<!-- St0 -->\n<g id=\"node3\" class=\"node\">\n<title>St0</title>\n<ellipse fill=\"none\" stroke=\"#000000\" cx=\"418.7855\" cy=\"-27.3979\" rx=\"23.3111\" ry=\"23.3111\"/>\n<ellipse fill=\"none\" stroke=\"#000000\" cx=\"418.7855\" cy=\"-27.3979\" rx=\"27.2962\" ry=\"27.2962\"/>\n<text text-anchor=\"middle\" x=\"418.7855\" y=\"-23.6979\" font-family=\"Times,serif\" font-size=\"14.00\" fill=\"#000000\">St0</text>\n</g>\n<!-- St0&#45;&gt;St1 -->\n<g id=\"edge9\" class=\"edge\">\n<title>St0&#45;&gt;St1</title>\n<path fill=\"none\" stroke=\"#000000\" d=\"M391.4782,-31.7901C381.7042,-33.9448 370.7872,-37.0426 361.3875,-41.3979 355.9504,-43.9172 350.5056,-47.1306 345.3706,-50.5592\"/>\n<polygon fill=\"#000000\" stroke=\"#000000\" points=\"343.2046,-47.8045 337.0773,-56.4478 347.2573,-53.512 343.2046,-47.8045\"/>\n<text text-anchor=\"middle\" x=\"367.3875\" y=\"-45.1979\" font-family=\"Times,serif\" font-size=\"14.00\" fill=\"#000000\">1 </text>\n</g>\n<!-- St0&#45;&gt;St2 -->\n<g id=\"edge7\" class=\"edge\">\n<title>St0&#45;&gt;St2</title>\n<path fill=\"none\" stroke=\"#000000\" d=\"M391.9364,-21.1431C360.1788,-14.4582 305.6754,-5.2219 258.5917,-8.3979 223.4978,-10.7652 183.7968,-16.4295 155.6248,-20.9614\"/>\n<polygon fill=\"#000000\" stroke=\"#000000\" points=\"154.7276,-17.5617 145.4257,-22.6336 155.8602,-24.4695 154.7276,-17.5617\"/>\n<text text-anchor=\"middle\" x=\"264.5917\" y=\"-12.1979\" font-family=\"Times,serif\" font-size=\"14.00\" fill=\"#000000\">0 </text>\n</g>\n<!-- St1&#45;&gt;St3 -->\n<g id=\"edge3\" class=\"edge\">\n<title>St1&#45;&gt;St3</title>\n<path fill=\"none\" stroke=\"#000000\" d=\"M291.1089,-62.5223C281.1122,-59.0551 269.4118,-56.6179 258.5917,-58.3979 255.3726,-58.9275 252.0669,-59.6742 248.7945,-60.5501\"/>\n<polygon fill=\"#000000\" stroke=\"#000000\" points=\"247.7412,-57.2121 239.1974,-63.4775 249.7835,-63.9075 247.7412,-57.2121\"/>\n<text text-anchor=\"middle\" x=\"264.5917\" y=\"-62.1979\" font-family=\"Times,serif\" font-size=\"14.00\" fill=\"#000000\">0 </text>\n</g>\n<!-- St1&#45;&gt;St0 -->\n<g id=\"edge5\" class=\"edge\">\n<title>St1&#45;&gt;St0</title>\n<path fill=\"none\" stroke=\"#000000\" d=\"M343.2969,-70.0058C353.0709,-67.8511 363.9879,-64.7532 373.3875,-60.3979 378.8247,-57.8786 384.2695,-54.6653 389.4045,-51.2367\"/>\n<polygon fill=\"#000000\" stroke=\"#000000\" points=\"391.5705,-53.9914 397.6978,-45.348 387.5178,-48.2838 391.5705,-53.9914\"/>\n<text text-anchor=\"middle\" x=\"367.3875\" y=\"-68.1979\" font-family=\"Times,serif\" font-size=\"14.00\" fill=\"#000000\">1 </text>\n</g>\n<!-- St2&#45;&gt;St3 -->\n<g id=\"edge4\" class=\"edge\">\n<title>St2&#45;&gt;St3</title>\n<path fill=\"none\" stroke=\"#000000\" d=\"M139.4441,-45.4387C146.7584,-50.9383 155.2732,-56.5427 163.7958,-60.3979 170.1359,-63.2658 177.2184,-65.4749 184.0998,-67.1674\"/>\n<polygon fill=\"#000000\" stroke=\"#000000\" points=\"183.414,-70.6 193.928,-69.2941 184.8944,-63.7583 183.414,-70.6\"/>\n<text text-anchor=\"middle\" x=\"169.7958\" y=\"-68.1979\" font-family=\"Times,serif\" font-size=\"14.00\" fill=\"#000000\">1 </text>\n</g>\n<!-- St2&#45;&gt;St0 -->\n<g id=\"edge2\" class=\"edge\">\n<title>St2&#45;&gt;St0</title>\n<path fill=\"none\" stroke=\"#000000\" d=\"M145.8516,-27.3979C199.7949,-27.3979 319.6875,-27.3979 381.0343,-27.3979\"/>\n<polygon fill=\"#000000\" stroke=\"#000000\" points=\"381.0694,-30.898 391.0694,-27.3979 381.0694,-23.898 381.0694,-30.898\"/>\n<text text-anchor=\"middle\" x=\"264.5917\" y=\"-31.1979\" font-family=\"Times,serif\" font-size=\"14.00\" fill=\"#000000\">0 </text>\n</g>\n</g>\n</svg>\n"
          },
          "metadata": {},
          "execution_count": 38
        }
      ]
    },
    {
      "cell_type": "code",
      "source": [],
      "metadata": {
        "id": "Raiz1zvyISum"
      },
      "execution_count": null,
      "outputs": []
    },
    {
      "cell_type": "markdown",
      "metadata": {
        "id": "UTqaVdSzBg9n"
      },
      "source": [
        "# Mod-3 DFA, MSB-first\n",
        "\n",
        "(But, does it matter whether MSB-first or LSB-first?)\n",
        "\n"
      ]
    },
    {
      "cell_type": "code",
      "execution_count": 20,
      "metadata": {
        "run_control": {
          "frozen": false,
          "read_only": false
        },
        "id": "dOfporKUBg9o",
        "outputId": "4c6d0589-f731-4f16-ee3c-8af29be09eb1",
        "colab": {
          "base_uri": "https://localhost:8080/",
          "height": 138
        }
      },
      "outputs": [
        {
          "output_type": "execute_result",
          "data": {
            "text/plain": [
              "<graphviz.dot.Digraph at 0x7fc7eeb7c050>"
            ],
            "image/svg+xml": "<?xml version=\"1.0\" encoding=\"UTF-8\" standalone=\"no\"?>\n<!DOCTYPE svg PUBLIC \"-//W3C//DTD SVG 1.1//EN\"\n \"http://www.w3.org/Graphics/SVG/1.1/DTD/svg11.dtd\">\n<!-- Generated by graphviz version 2.40.1 (20161225.0304)\n -->\n<!-- Title: %3 Pages: 1 -->\n<svg width=\"324pt\" height=\"87pt\"\n viewBox=\"0.00 0.00 323.89 86.70\" xmlns=\"http://www.w3.org/2000/svg\" xmlns:xlink=\"http://www.w3.org/1999/xlink\">\n<g id=\"graph0\" class=\"graph\" transform=\"scale(1 1) rotate(0) translate(4 82.6967)\">\n<title>%3</title>\n<polygon fill=\"#ffffff\" stroke=\"transparent\" points=\"-4,4 -4,-82.6967 319.8893,-82.6967 319.8893,4 -4,4\"/>\n<!-- EMPTY -->\n<g id=\"node1\" class=\"node\">\n<title>EMPTY</title>\n</g>\n<!-- IF -->\n<g id=\"node4\" class=\"node\">\n<title>IF</title>\n<ellipse fill=\"none\" stroke=\"#000000\" cx=\"113.8483\" cy=\"-22.8483\" rx=\"18.724\" ry=\"18.724\"/>\n<ellipse fill=\"none\" stroke=\"#000000\" cx=\"113.8483\" cy=\"-22.8483\" rx=\"22.6977\" ry=\"22.6977\"/>\n<text text-anchor=\"middle\" x=\"113.8483\" y=\"-19.1483\" font-family=\"Times,serif\" font-size=\"14.00\" fill=\"#000000\">IF</text>\n</g>\n<!-- EMPTY&#45;&gt;IF -->\n<g id=\"edge1\" class=\"edge\">\n<title>EMPTY&#45;&gt;IF</title>\n<path fill=\"none\" stroke=\"#000000\" d=\"M54.0033,-22.8483C62.5212,-22.8483 72.0276,-22.8483 80.9112,-22.8483\"/>\n<polygon fill=\"#000000\" stroke=\"#000000\" points=\"80.9572,-26.3484 90.9572,-22.8483 80.9572,-19.3484 80.9572,-26.3484\"/>\n</g>\n<!-- S1 -->\n<g id=\"node2\" class=\"node\">\n<title>S1</title>\n<ellipse fill=\"none\" stroke=\"#000000\" cx=\"205.4948\" cy=\"-22.8483\" rx=\"20.5982\" ry=\"20.5982\"/>\n<text text-anchor=\"middle\" x=\"205.4948\" y=\"-19.1483\" font-family=\"Times,serif\" font-size=\"14.00\" fill=\"#000000\">S1</text>\n</g>\n<!-- S2 -->\n<g id=\"node3\" class=\"node\">\n<title>S2</title>\n<ellipse fill=\"none\" stroke=\"#000000\" cx=\"295.0911\" cy=\"-22.8483\" rx=\"20.5982\" ry=\"20.5982\"/>\n<text text-anchor=\"middle\" x=\"295.0911\" y=\"-19.1483\" font-family=\"Times,serif\" font-size=\"14.00\" fill=\"#000000\">S2</text>\n</g>\n<!-- S1&#45;&gt;S2 -->\n<g id=\"edge4\" class=\"edge\">\n<title>S1&#45;&gt;S2</title>\n<path fill=\"none\" stroke=\"#000000\" d=\"M226.7279,-22.8483C237.7744,-22.8483 251.4933,-22.8483 263.736,-22.8483\"/>\n<polygon fill=\"#000000\" stroke=\"#000000\" points=\"264.0105,-26.3484 274.0105,-22.8483 264.0104,-19.3484 264.0105,-26.3484\"/>\n<text text-anchor=\"middle\" x=\"250.293\" y=\"-26.6483\" font-family=\"Times,serif\" font-size=\"14.00\" fill=\"#000000\">0 </text>\n</g>\n<!-- S1&#45;&gt;IF -->\n<g id=\"edge5\" class=\"edge\">\n<title>S1&#45;&gt;IF</title>\n<path fill=\"none\" stroke=\"#000000\" d=\"M187.5833,-11.9656C181.221,-8.6807 173.8571,-5.5075 166.6967,-3.8483 158.6824,-1.9913 150.2101,-3.4224 142.4523,-6.1758\"/>\n<polygon fill=\"#000000\" stroke=\"#000000\" points=\"140.8848,-3.0404 133.0961,-10.2227 143.6638,-9.4651 140.8848,-3.0404\"/>\n<text text-anchor=\"middle\" x=\"160.6967\" y=\"-7.6483\" font-family=\"Times,serif\" font-size=\"14.00\" fill=\"#000000\">1 </text>\n</g>\n<!-- S2&#45;&gt;S1 -->\n<g id=\"edge6\" class=\"edge\">\n<title>S2&#45;&gt;S1</title>\n<path fill=\"none\" stroke=\"#000000\" d=\"M277.1796,-11.9656C270.8173,-8.6807 263.4534,-5.5075 256.293,-3.8483 248.2954,-1.9952 239.8532,-3.6082 232.1969,-6.5413\"/>\n<polygon fill=\"#000000\" stroke=\"#000000\" points=\"230.6112,-3.4186 223.0119,-10.801 233.5563,-9.7689 230.6112,-3.4186\"/>\n<text text-anchor=\"middle\" x=\"250.293\" y=\"-7.6483\" font-family=\"Times,serif\" font-size=\"14.00\" fill=\"#000000\">0 </text>\n</g>\n<!-- S2&#45;&gt;S2 -->\n<g id=\"edge7\" class=\"edge\">\n<title>S2&#45;&gt;S2</title>\n<path fill=\"none\" stroke=\"#000000\" d=\"M287.1312,-42.412C285.9065,-52.5279 288.5599,-61.6465 295.0911,-61.6465 299.2752,-61.6465 301.8678,-57.9042 302.8689,-52.5549\"/>\n<polygon fill=\"#000000\" stroke=\"#000000\" points=\"306.3708,-52.4733 303.0511,-42.412 299.3719,-52.3475 306.3708,-52.4733\"/>\n<text text-anchor=\"middle\" x=\"295.0911\" y=\"-65.4465\" font-family=\"Times,serif\" font-size=\"14.00\" fill=\"#000000\">1 </text>\n</g>\n<!-- IF&#45;&gt;S1 -->\n<g id=\"edge3\" class=\"edge\">\n<title>IF&#45;&gt;S1</title>\n<path fill=\"none\" stroke=\"#000000\" d=\"M136.9746,-22.8483C148.2941,-22.8483 162.0857,-22.8483 174.3202,-22.8483\"/>\n<polygon fill=\"#000000\" stroke=\"#000000\" points=\"174.5698,-26.3484 184.5698,-22.8483 174.5697,-19.3484 174.5698,-26.3484\"/>\n<text text-anchor=\"middle\" x=\"160.6967\" y=\"-26.6483\" font-family=\"Times,serif\" font-size=\"14.00\" fill=\"#000000\">1 </text>\n</g>\n<!-- IF&#45;&gt;IF -->\n<g id=\"edge2\" class=\"edge\">\n<title>IF&#45;&gt;IF</title>\n<path fill=\"none\" stroke=\"#000000\" d=\"M106.4966,-44.7016C105.6946,-54.8392 108.1452,-63.6967 113.8483,-63.6967 117.5019,-63.6967 119.8206,-60.0616 120.8045,-54.7835\"/>\n<polygon fill=\"#000000\" stroke=\"#000000\" points=\"124.3052,-54.8311 121.2,-44.7016 117.3106,-54.5566 124.3052,-54.8311\"/>\n<text text-anchor=\"middle\" x=\"113.8483\" y=\"-67.4967\" font-family=\"Times,serif\" font-size=\"14.00\" fill=\"#000000\">0 </text>\n</g>\n</g>\n</svg>\n"
          },
          "metadata": {},
          "execution_count": 20
        }
      ],
      "source": [
        "## KEEP DRAWING WHILE YOU FILL !!\n",
        "\n",
        "DFA3 = md2mc('''DFA\n",
        "\n",
        "IF : 0 -> IF\n",
        "IF : 1 -> S1 \n",
        "\n",
        "S1 : 0 -> S2\n",
        "S1 : 1 -> IF\n",
        "\n",
        "S2 : 0 -> S1\n",
        "S2 : 1 -> S2\n",
        "\n",
        "\n",
        "''')\n",
        "\n",
        "dotObj_dfa(DFA3)"
      ]
    },
    {
      "cell_type": "code",
      "source": [
        "# MSB-first isn't divisible by 3\n",
        "\n",
        "not_DFA3 = comp_dfa(DFA3)\n",
        "dotObj_dfa(not_DFA3)"
      ],
      "metadata": {
        "id": "MM4580JHE7xT",
        "outputId": "f002dbf0-4a05-4340-fe93-0e6cb50669e0",
        "colab": {
          "base_uri": "https://localhost:8080/",
          "height": 143
        }
      },
      "execution_count": 21,
      "outputs": [
        {
          "output_type": "execute_result",
          "data": {
            "text/plain": [
              "<graphviz.dot.Digraph at 0x7fc7f42bc750>"
            ],
            "image/svg+xml": "<?xml version=\"1.0\" encoding=\"UTF-8\" standalone=\"no\"?>\n<!DOCTYPE svg PUBLIC \"-//W3C//DTD SVG 1.1//EN\"\n \"http://www.w3.org/Graphics/SVG/1.1/DTD/svg11.dtd\">\n<!-- Generated by graphviz version 2.40.1 (20161225.0304)\n -->\n<!-- Title: %3 Pages: 1 -->\n<svg width=\"332pt\" height=\"91pt\"\n viewBox=\"0.00 0.00 331.89 90.60\" xmlns=\"http://www.w3.org/2000/svg\" xmlns:xlink=\"http://www.w3.org/1999/xlink\">\n<g id=\"graph0\" class=\"graph\" transform=\"scale(1 1) rotate(0) translate(4 86.5963)\">\n<title>%3</title>\n<polygon fill=\"#ffffff\" stroke=\"transparent\" points=\"-4,4 -4,-86.5963 327.8893,-86.5963 327.8893,4 -4,4\"/>\n<!-- EMPTY -->\n<g id=\"node1\" class=\"node\">\n<title>EMPTY</title>\n</g>\n<!-- IF -->\n<g id=\"node2\" class=\"node\">\n<title>IF</title>\n<ellipse fill=\"none\" stroke=\"#000000\" cx=\"109.8483\" cy=\"-24.7982\" rx=\"18.6979\" ry=\"18.6979\"/>\n<text text-anchor=\"middle\" x=\"109.8483\" y=\"-21.0982\" font-family=\"Times,serif\" font-size=\"14.00\" fill=\"#000000\">IF</text>\n</g>\n<!-- EMPTY&#45;&gt;IF -->\n<g id=\"edge1\" class=\"edge\">\n<title>EMPTY&#45;&gt;IF</title>\n<path fill=\"none\" stroke=\"#000000\" d=\"M54.1276,-24.7982C62.6494,-24.7982 72.0912,-24.7982 80.7441,-24.7982\"/>\n<polygon fill=\"#000000\" stroke=\"#000000\" points=\"80.7925,-28.2983 90.7925,-24.7982 80.7925,-21.2983 80.7925,-28.2983\"/>\n</g>\n<!-- IF&#45;&gt;IF -->\n<g id=\"edge2\" class=\"edge\">\n<title>IF&#45;&gt;IF</title>\n<path fill=\"none\" stroke=\"#000000\" d=\"M103.4213,-42.6183C102.2216,-52.5244 104.364,-61.6465 109.8483,-61.6465 113.2761,-61.6465 115.3983,-58.0832 116.2151,-52.9922\"/>\n<polygon fill=\"#000000\" stroke=\"#000000\" points=\"119.7171,-52.6385 116.2753,-42.6183 112.7172,-52.5978 119.7171,-52.6385\"/>\n<text text-anchor=\"middle\" x=\"109.8483\" y=\"-65.4465\" font-family=\"Times,serif\" font-size=\"14.00\" fill=\"#000000\">0 </text>\n</g>\n<!-- S1 -->\n<g id=\"node3\" class=\"node\">\n<title>S1</title>\n<ellipse fill=\"none\" stroke=\"#000000\" cx=\"201.4948\" cy=\"-24.7982\" rx=\"20.6302\" ry=\"20.6302\"/>\n<ellipse fill=\"none\" stroke=\"#000000\" cx=\"201.4948\" cy=\"-24.7982\" rx=\"24.5979\" ry=\"24.5979\"/>\n<text text-anchor=\"middle\" x=\"201.4948\" y=\"-21.0982\" font-family=\"Times,serif\" font-size=\"14.00\" fill=\"#000000\">S1</text>\n</g>\n<!-- IF&#45;&gt;S1 -->\n<g id=\"edge3\" class=\"edge\">\n<title>IF&#45;&gt;S1</title>\n<path fill=\"none\" stroke=\"#000000\" d=\"M128.8375,-24.7982C139.6511,-24.7982 153.5429,-24.7982 166.2782,-24.7982\"/>\n<polygon fill=\"#000000\" stroke=\"#000000\" points=\"166.6109,-28.2983 176.6109,-24.7982 166.6108,-21.2983 166.6109,-28.2983\"/>\n<text text-anchor=\"middle\" x=\"152.6967\" y=\"-28.5982\" font-family=\"Times,serif\" font-size=\"14.00\" fill=\"#000000\">1 </text>\n</g>\n<!-- S1&#45;&gt;IF -->\n<g id=\"edge5\" class=\"edge\">\n<title>S1&#45;&gt;IF</title>\n<path fill=\"none\" stroke=\"#000000\" d=\"M180.4383,-11.4951C170.363,-6.6869 158.0476,-3.044 146.6967,-5.7982 142.7184,-6.7634 138.6891,-8.2376 134.8277,-9.9469\"/>\n<polygon fill=\"#000000\" stroke=\"#000000\" points=\"133.0699,-6.9129 125.7,-14.5243 136.2079,-13.1702 133.0699,-6.9129\"/>\n<text text-anchor=\"middle\" x=\"152.6967\" y=\"-9.5982\" font-family=\"Times,serif\" font-size=\"14.00\" fill=\"#000000\">1 </text>\n</g>\n<!-- S2 -->\n<g id=\"node4\" class=\"node\">\n<title>S2</title>\n<ellipse fill=\"none\" stroke=\"#000000\" cx=\"299.0911\" cy=\"-24.7982\" rx=\"20.6302\" ry=\"20.6302\"/>\n<ellipse fill=\"none\" stroke=\"#000000\" cx=\"299.0911\" cy=\"-24.7982\" rx=\"24.5979\" ry=\"24.5979\"/>\n<text text-anchor=\"middle\" x=\"299.0911\" y=\"-21.0982\" font-family=\"Times,serif\" font-size=\"14.00\" fill=\"#000000\">S2</text>\n</g>\n<!-- S1&#45;&gt;S2 -->\n<g id=\"edge4\" class=\"edge\">\n<title>S1&#45;&gt;S2</title>\n<path fill=\"none\" stroke=\"#000000\" d=\"M226.375,-24.7982C237.8465,-24.7982 251.661,-24.7982 264.1537,-24.7982\"/>\n<polygon fill=\"#000000\" stroke=\"#000000\" points=\"264.2564,-28.2983 274.2564,-24.7982 264.2563,-21.2983 264.2564,-28.2983\"/>\n<text text-anchor=\"middle\" x=\"250.293\" y=\"-28.5982\" font-family=\"Times,serif\" font-size=\"14.00\" fill=\"#000000\">0 </text>\n</g>\n<!-- S2&#45;&gt;S1 -->\n<g id=\"edge6\" class=\"edge\">\n<title>S2&#45;&gt;S1</title>\n<path fill=\"none\" stroke=\"#000000\" d=\"M277.0297,-12.9068C270.5356,-9.9906 263.2914,-7.2818 256.293,-5.7982 248.3281,-4.1096 239.9278,-5.3833 232.1617,-7.9164\"/>\n<polygon fill=\"#000000\" stroke=\"#000000\" points=\"230.7375,-4.7162 222.7444,-11.6703 233.3296,-11.2186 230.7375,-4.7162\"/>\n<text text-anchor=\"middle\" x=\"250.293\" y=\"-9.5982\" font-family=\"Times,serif\" font-size=\"14.00\" fill=\"#000000\">0 </text>\n</g>\n<!-- S2&#45;&gt;S2 -->\n<g id=\"edge7\" class=\"edge\">\n<title>S2&#45;&gt;S2</title>\n<path fill=\"none\" stroke=\"#000000\" d=\"M290.2317,-48.1303C289.388,-58.5686 292.3411,-67.5963 299.0911,-67.5963 303.4153,-67.5963 306.1813,-63.8913 307.3891,-58.484\"/>\n<polygon fill=\"#000000\" stroke=\"#000000\" points=\"310.9038,-58.3051 307.9505,-48.1303 303.9141,-57.926 310.9038,-58.3051\"/>\n<text text-anchor=\"middle\" x=\"299.0911\" y=\"-71.3963\" font-family=\"Times,serif\" font-size=\"14.00\" fill=\"#000000\">1 </text>\n</g>\n</g>\n</svg>\n"
          },
          "metadata": {},
          "execution_count": 21
        }
      ]
    },
    {
      "cell_type": "code",
      "source": [
        "Finally, (Odd0 or Even1) AND (not mod div by 3)"
      ],
      "metadata": {
        "id": "4JULaL72FvQ9"
      },
      "execution_count": null,
      "outputs": []
    },
    {
      "cell_type": "code",
      "source": [
        "O0_or_E1_and_nm3 = intersect_dfa(Odd0s_Even1s, not_DFA3)\n",
        "dotObj_dfa(O0_or_E1_and_nm3, STATENAME_MAXSIZE=1)"
      ],
      "metadata": {
        "id": "7twRklspFk2t",
        "outputId": "ce02e5ac-2724-4e80-e32e-bc111dbd36ea",
        "colab": {
          "base_uri": "https://localhost:8080/",
          "height": 226
        }
      },
      "execution_count": 39,
      "outputs": [
        {
          "output_type": "execute_result",
          "data": {
            "text/plain": [
              "<graphviz.dot.Digraph at 0x7fc7e6b97e10>"
            ],
            "image/svg+xml": "<?xml version=\"1.0\" encoding=\"UTF-8\" standalone=\"no\"?>\n<!DOCTYPE svg PUBLIC \"-//W3C//DTD SVG 1.1//EN\"\n \"http://www.w3.org/Graphics/SVG/1.1/DTD/svg11.dtd\">\n<!-- Generated by graphviz version 2.40.1 (20161225.0304)\n -->\n<!-- Title: %3 Pages: 1 -->\n<svg width=\"1256pt\" height=\"138pt\"\n viewBox=\"0.00 0.00 1256.05 138.40\" xmlns=\"http://www.w3.org/2000/svg\" xmlns:xlink=\"http://www.w3.org/1999/xlink\">\n<g id=\"graph0\" class=\"graph\" transform=\"scale(1 1) rotate(0) translate(4 134.3979)\">\n<title>%3</title>\n<polygon fill=\"#ffffff\" stroke=\"transparent\" points=\"-4,4 -4,-134.3979 1252.0484,-134.3979 1252.0484,4 -4,4\"/>\n<!-- EMPTY -->\n<g id=\"node1\" class=\"node\">\n<title>EMPTY</title>\n</g>\n<!-- St6 -->\n<g id=\"node4\" class=\"node\">\n<title>St6</title>\n<ellipse fill=\"none\" stroke=\"#000000\" cx=\"114.3979\" cy=\"-54\" rx=\"23.2963\" ry=\"23.2963\"/>\n<text text-anchor=\"middle\" x=\"114.3979\" y=\"-50.3\" font-family=\"Times,serif\" font-size=\"14.00\" fill=\"#000000\">St6</text>\n</g>\n<!-- EMPTY&#45;&gt;St6 -->\n<g id=\"edge1\" class=\"edge\">\n<title>EMPTY&#45;&gt;St6</title>\n<path fill=\"none\" stroke=\"#000000\" d=\"M54.1742,-54C62.5103,-54 71.7873,-54 80.5137,-54\"/>\n<polygon fill=\"#000000\" stroke=\"#000000\" points=\"80.7846,-57.5001 90.7846,-54 80.7845,-50.5001 80.7846,-57.5001\"/>\n</g>\n<!-- St0 -->\n<g id=\"node2\" class=\"node\">\n<title>St0</title>\n<ellipse fill=\"none\" stroke=\"#000000\" cx=\"209.1938\" cy=\"-99\" rx=\"23.2963\" ry=\"23.2963\"/>\n<text text-anchor=\"middle\" x=\"209.1938\" y=\"-95.3\" font-family=\"Times,serif\" font-size=\"14.00\" fill=\"#000000\">St0</text>\n</g>\n<!-- St0&#45;&gt;St6 -->\n<g id=\"edge18\" class=\"edge\">\n<title>St0&#45;&gt;St6</title>\n<path fill=\"none\" stroke=\"#000000\" d=\"M191.6361,-83.4837C184.6151,-77.9353 176.206,-72.0582 167.7958,-68 161.4747,-64.9498 154.4002,-62.499 147.5207,-60.5543\"/>\n<polygon fill=\"#000000\" stroke=\"#000000\" points=\"148.2454,-57.1273 137.6914,-58.0564 146.5213,-63.9117 148.2454,-57.1273\"/>\n<text text-anchor=\"middle\" x=\"161.7958\" y=\"-71.8\" font-family=\"Times,serif\" font-size=\"14.00\" fill=\"#000000\">0 </text>\n</g>\n<!-- St4 -->\n<g id=\"node8\" class=\"node\">\n<title>St4</title>\n<ellipse fill=\"none\" stroke=\"#000000\" cx=\"307.9896\" cy=\"-101\" rx=\"23.3111\" ry=\"23.3111\"/>\n<ellipse fill=\"none\" stroke=\"#000000\" cx=\"307.9896\" cy=\"-101\" rx=\"27.2962\" ry=\"27.2962\"/>\n<text text-anchor=\"middle\" x=\"307.9896\" y=\"-97.3\" font-family=\"Times,serif\" font-size=\"14.00\" fill=\"#000000\">St4</text>\n</g>\n<!-- St0&#45;&gt;St4 -->\n<g id=\"edge13\" class=\"edge\">\n<title>St0&#45;&gt;St4</title>\n<path fill=\"none\" stroke=\"#000000\" d=\"M232.607,-99.474C243.8409,-99.7014 257.5813,-99.9795 270.2395,-100.2358\"/>\n<polygon fill=\"#000000\" stroke=\"#000000\" points=\"270.4704,-103.7411 280.5392,-100.4443 270.6121,-96.7425 270.4704,-103.7411\"/>\n<text text-anchor=\"middle\" x=\"256.5917\" y=\"-103.8\" font-family=\"Times,serif\" font-size=\"14.00\" fill=\"#000000\">1 </text>\n</g>\n<!-- St3 -->\n<g id=\"node3\" class=\"node\">\n<title>St3</title>\n<ellipse fill=\"none\" stroke=\"#000000\" cx=\"716.2722\" cy=\"-99\" rx=\"23.2963\" ry=\"23.2963\"/>\n<text text-anchor=\"middle\" x=\"716.2722\" y=\"-95.3\" font-family=\"Times,serif\" font-size=\"14.00\" fill=\"#000000\">St3</text>\n</g>\n<!-- St9 -->\n<g id=\"node7\" class=\"node\">\n<title>St9</title>\n<ellipse fill=\"none\" stroke=\"#000000\" cx=\"811.0681\" cy=\"-99\" rx=\"23.2963\" ry=\"23.2963\"/>\n<text text-anchor=\"middle\" x=\"811.0681\" y=\"-95.3\" font-family=\"Times,serif\" font-size=\"14.00\" fill=\"#000000\">St9</text>\n</g>\n<!-- St3&#45;&gt;St9 -->\n<g id=\"edge22\" class=\"edge\">\n<title>St3&#45;&gt;St9</title>\n<path fill=\"none\" stroke=\"#000000\" d=\"M739.7049,-99C751.0988,-99 764.9999,-99 777.496,-99\"/>\n<polygon fill=\"#000000\" stroke=\"#000000\" points=\"777.5764,-102.5001 787.5764,-99 777.5764,-95.5001 777.5764,-102.5001\"/>\n<text text-anchor=\"middle\" x=\"763.6701\" y=\"-102.8\" font-family=\"Times,serif\" font-size=\"14.00\" fill=\"#000000\">0 </text>\n</g>\n<!-- St1 -->\n<g id=\"node12\" class=\"node\">\n<title>St1</title>\n<ellipse fill=\"none\" stroke=\"#000000\" cx=\"617.4764\" cy=\"-103\" rx=\"23.3111\" ry=\"23.3111\"/>\n<ellipse fill=\"none\" stroke=\"#000000\" cx=\"617.4764\" cy=\"-103\" rx=\"27.2962\" ry=\"27.2962\"/>\n<text text-anchor=\"middle\" x=\"617.4764\" y=\"-99.3\" font-family=\"Times,serif\" font-size=\"14.00\" fill=\"#000000\">St1</text>\n</g>\n<!-- St3&#45;&gt;St1 -->\n<g id=\"edge8\" class=\"edge\">\n<title>St3&#45;&gt;St1</title>\n<path fill=\"none\" stroke=\"#000000\" d=\"M695.6859,-87.8034C685.8533,-83.7558 673.8596,-80.6874 662.8743,-83 659.0028,-83.815 655.0589,-84.9815 651.1932,-86.3471\"/>\n<polygon fill=\"#000000\" stroke=\"#000000\" points=\"649.8333,-83.1212 641.8313,-90.0651 652.417,-89.627 649.8333,-83.1212\"/>\n<text text-anchor=\"middle\" x=\"668.8743\" y=\"-86.8\" font-family=\"Times,serif\" font-size=\"14.00\" fill=\"#000000\">1 </text>\n</g>\n<!-- St6&#45;&gt;St0 -->\n<g id=\"edge17\" class=\"edge\">\n<title>St6&#45;&gt;St0</title>\n<path fill=\"none\" stroke=\"#000000\" d=\"M131.3322,-70.3742C138.403,-76.4067 147.0105,-82.7884 155.7958,-87 162.0706,-90.0081 169.1252,-92.2771 176,-93.9838\"/>\n<polygon fill=\"#000000\" stroke=\"#000000\" points=\"175.319,-97.4173 185.8319,-96.1025 176.7936,-90.5744 175.319,-97.4173\"/>\n<text text-anchor=\"middle\" x=\"161.7958\" y=\"-94.8\" font-family=\"Times,serif\" font-size=\"14.00\" fill=\"#000000\">0 </text>\n</g>\n<!-- St10 -->\n<g id=\"node5\" class=\"node\">\n<title>St10</title>\n<ellipse fill=\"none\" stroke=\"#000000\" cx=\"1219.451\" cy=\"-54\" rx=\"28.6953\" ry=\"28.6953\"/>\n<text text-anchor=\"middle\" x=\"1219.451\" y=\"-50.3\" font-family=\"Times,serif\" font-size=\"14.00\" fill=\"#000000\">St10</text>\n</g>\n<!-- St6&#45;&gt;St10 -->\n<g id=\"edge25\" class=\"edge\">\n<title>St6&#45;&gt;St10</title>\n<path fill=\"none\" stroke=\"#000000\" d=\"M137.2027,-47.9511C156.292,-43.4202 184.3251,-38 209.1938,-38 209.1938,-38 209.1938,-38 1115.4556,-38 1137.4433,-38 1161.7451,-41.5372 1181.3239,-45.2853\"/>\n<polygon fill=\"#000000\" stroke=\"#000000\" points=\"1180.888,-48.7676 1191.3817,-47.3073 1182.2678,-41.9049 1180.888,-48.7676\"/>\n<text text-anchor=\"middle\" x=\"668.8743\" y=\"-41.8\" font-family=\"Times,serif\" font-size=\"14.00\" fill=\"#000000\">1 </text>\n</g>\n<!-- St10&#45;&gt;St6 -->\n<g id=\"edge9\" class=\"edge\">\n<title>St10&#45;&gt;St6</title>\n<path fill=\"none\" stroke=\"#000000\" d=\"M1197.6093,-34.8096C1177.6486,-19.2884 1146.5814,0 1115.4556,0 209.1938,0 209.1938,0 209.1938,0 182.7495,0 156.9536,-16.0617 138.9644,-30.6657\"/>\n<polygon fill=\"#000000\" stroke=\"#000000\" points=\"136.6215,-28.0636 131.2741,-37.2101 141.1581,-33.3946 136.6215,-28.0636\"/>\n<text text-anchor=\"middle\" x=\"668.8743\" y=\"-3.8\" font-family=\"Times,serif\" font-size=\"14.00\" fill=\"#000000\">1 </text>\n</g>\n<!-- St5 -->\n<g id=\"node9\" class=\"node\">\n<title>St5</title>\n<ellipse fill=\"none\" stroke=\"#000000\" cx=\"1115.4556\" cy=\"-101\" rx=\"23.3111\" ry=\"23.3111\"/>\n<ellipse fill=\"none\" stroke=\"#000000\" cx=\"1115.4556\" cy=\"-101\" rx=\"27.2962\" ry=\"27.2962\"/>\n<text text-anchor=\"middle\" x=\"1115.4556\" y=\"-97.3\" font-family=\"Times,serif\" font-size=\"14.00\" fill=\"#000000\">St5</text>\n</g>\n<!-- St10&#45;&gt;St5 -->\n<g id=\"edge16\" class=\"edge\">\n<title>St10&#45;&gt;St5</title>\n<path fill=\"none\" stroke=\"#000000\" d=\"M1190.9783,-58.4512C1181.1534,-60.5939 1170.2591,-63.6689 1160.8535,-68 1155.4104,-70.5065 1149.9625,-73.7132 1144.8263,-77.139\"/>\n<polygon fill=\"#000000\" stroke=\"#000000\" points=\"1142.6609,-74.3839 1136.5324,-83.0264 1146.7128,-80.092 1142.6609,-74.3839\"/>\n<text text-anchor=\"middle\" x=\"1166.8535\" y=\"-71.8\" font-family=\"Times,serif\" font-size=\"14.00\" fill=\"#000000\">0 </text>\n</g>\n<!-- St11 -->\n<g id=\"node6\" class=\"node\">\n<title>St11</title>\n<ellipse fill=\"none\" stroke=\"#000000\" cx=\"411.3351\" cy=\"-101\" rx=\"27.8951\" ry=\"27.8951\"/>\n<text text-anchor=\"middle\" x=\"411.3351\" y=\"-97.3\" font-family=\"Times,serif\" font-size=\"14.00\" fill=\"#000000\">St11</text>\n</g>\n<!-- St11&#45;&gt;St4 -->\n<g id=\"edge5\" class=\"edge\">\n<title>St11&#45;&gt;St4</title>\n<path fill=\"none\" stroke=\"#000000\" d=\"M386.547,-87.6557C376.3991,-83.6827 364.4593,-80.8851 353.3875,-83 349.7597,-83.693 346.0519,-84.6713 342.3965,-85.8179\"/>\n<polygon fill=\"#000000\" stroke=\"#000000\" points=\"341.194,-82.5306 332.9336,-89.1651 343.5284,-89.1299 341.194,-82.5306\"/>\n<text text-anchor=\"middle\" x=\"359.3875\" y=\"-86.8\" font-family=\"Times,serif\" font-size=\"14.00\" fill=\"#000000\">0 </text>\n</g>\n<!-- St8 -->\n<g id=\"node13\" class=\"node\">\n<title>St8</title>\n<ellipse fill=\"none\" stroke=\"#000000\" cx=\"514.6805\" cy=\"-101\" rx=\"23.3111\" ry=\"23.3111\"/>\n<ellipse fill=\"none\" stroke=\"#000000\" cx=\"514.6805\" cy=\"-101\" rx=\"27.2962\" ry=\"27.2962\"/>\n<text text-anchor=\"middle\" x=\"514.6805\" y=\"-97.3\" font-family=\"Times,serif\" font-size=\"14.00\" fill=\"#000000\">St8</text>\n</g>\n<!-- St11&#45;&gt;St8 -->\n<g id=\"edge21\" class=\"edge\">\n<title>St11&#45;&gt;St8</title>\n<path fill=\"none\" stroke=\"#000000\" d=\"M439.3018,-101C450.8838,-101 464.4943,-101 476.9396,-101\"/>\n<polygon fill=\"#000000\" stroke=\"#000000\" points=\"477.0495,-104.5001 487.0495,-101 477.0495,-97.5001 477.0495,-104.5001\"/>\n<text text-anchor=\"middle\" x=\"463.2826\" y=\"-104.8\" font-family=\"Times,serif\" font-size=\"14.00\" fill=\"#000000\">1 </text>\n</g>\n<!-- St9&#45;&gt;St3 -->\n<g id=\"edge23\" class=\"edge\">\n<title>St9&#45;&gt;St3</title>\n<path fill=\"none\" stroke=\"#000000\" d=\"M790.6178,-87.5101C784.1233,-84.4439 776.7777,-81.5532 769.6701,-80 761.6943,-78.2571 753.2796,-79.6397 745.5481,-82.3049\"/>\n<polygon fill=\"#000000\" stroke=\"#000000\" points=\"744.07,-79.1295 736.2049,-86.2281 746.7801,-85.5836 744.07,-79.1295\"/>\n<text text-anchor=\"middle\" x=\"763.6701\" y=\"-83.8\" font-family=\"Times,serif\" font-size=\"14.00\" fill=\"#000000\">0 </text>\n</g>\n<!-- St7 -->\n<g id=\"node11\" class=\"node\">\n<title>St7</title>\n<ellipse fill=\"none\" stroke=\"#000000\" cx=\"909.8639\" cy=\"-101\" rx=\"23.3111\" ry=\"23.3111\"/>\n<ellipse fill=\"none\" stroke=\"#000000\" cx=\"909.8639\" cy=\"-101\" rx=\"27.2962\" ry=\"27.2962\"/>\n<text text-anchor=\"middle\" x=\"909.8639\" y=\"-97.3\" font-family=\"Times,serif\" font-size=\"14.00\" fill=\"#000000\">St7</text>\n</g>\n<!-- St9&#45;&gt;St7 -->\n<g id=\"edge4\" class=\"edge\">\n<title>St9&#45;&gt;St7</title>\n<path fill=\"none\" stroke=\"#000000\" d=\"M834.4813,-99.474C845.7152,-99.7014 859.4556,-99.9795 872.1138,-100.2358\"/>\n<polygon fill=\"#000000\" stroke=\"#000000\" points=\"872.3446,-103.7411 882.4135,-100.4443 872.4864,-96.7425 872.3446,-103.7411\"/>\n<text text-anchor=\"middle\" x=\"858.466\" y=\"-103.8\" font-family=\"Times,serif\" font-size=\"14.00\" fill=\"#000000\">1 </text>\n</g>\n<!-- St4&#45;&gt;St0 -->\n<g id=\"edge11\" class=\"edge\">\n<title>St4&#45;&gt;St0</title>\n<path fill=\"none\" stroke=\"#000000\" d=\"M283.0456,-89.1651C276.5326,-86.62 269.4206,-84.3044 262.5917,-83 255.0761,-81.5644 247.1096,-82.5417 239.6875,-84.5783\"/>\n<polygon fill=\"#000000\" stroke=\"#000000\" points=\"238.3311,-81.3429 229.9974,-87.8851 240.592,-87.9678 238.3311,-81.3429\"/>\n<text text-anchor=\"middle\" x=\"256.5917\" y=\"-86.8\" font-family=\"Times,serif\" font-size=\"14.00\" fill=\"#000000\">1 </text>\n</g>\n<!-- St4&#45;&gt;St11 -->\n<g id=\"edge15\" class=\"edge\">\n<title>St4&#45;&gt;St11</title>\n<path fill=\"none\" stroke=\"#000000\" d=\"M335.413,-101C346.9054,-101 360.4675,-101 372.9262,-101\"/>\n<polygon fill=\"#000000\" stroke=\"#000000\" points=\"373.0624,-104.5001 383.0624,-101 373.0623,-97.5001 373.0624,-104.5001\"/>\n<text text-anchor=\"middle\" x=\"359.3875\" y=\"-104.8\" font-family=\"Times,serif\" font-size=\"14.00\" fill=\"#000000\">0 </text>\n</g>\n<!-- St5&#45;&gt;St10 -->\n<g id=\"edge14\" class=\"edge\">\n<title>St5&#45;&gt;St10</title>\n<path fill=\"none\" stroke=\"#000000\" d=\"M1142.7335,-96.5439C1152.5045,-94.3828 1163.4272,-91.2972 1172.8535,-87 1178.2853,-84.5238 1183.74,-81.3866 1188.9063,-78.0364\"/>\n<polygon fill=\"#000000\" stroke=\"#000000\" points=\"1191.0214,-80.8295 1197.2736,-72.2761 1187.052,-75.0637 1191.0214,-80.8295\"/>\n<text text-anchor=\"middle\" x=\"1166.8535\" y=\"-94.8\" font-family=\"Times,serif\" font-size=\"14.00\" fill=\"#000000\">0 </text>\n</g>\n<!-- St2 -->\n<g id=\"node10\" class=\"node\">\n<title>St2</title>\n<ellipse fill=\"none\" stroke=\"#000000\" cx=\"1012.6597\" cy=\"-101\" rx=\"23.3111\" ry=\"23.3111\"/>\n<ellipse fill=\"none\" stroke=\"#000000\" cx=\"1012.6597\" cy=\"-101\" rx=\"27.2962\" ry=\"27.2962\"/>\n<text text-anchor=\"middle\" x=\"1012.6597\" y=\"-97.3\" font-family=\"Times,serif\" font-size=\"14.00\" fill=\"#000000\">St2</text>\n</g>\n<!-- St5&#45;&gt;St2 -->\n<g id=\"edge10\" class=\"edge\">\n<title>St5&#45;&gt;St2</title>\n<path fill=\"none\" stroke=\"#000000\" d=\"M1090.5116,-89.1651C1083.9985,-86.62 1076.8866,-84.3044 1070.0577,-83 1062.3546,-81.5286 1054.2318,-82.4692 1046.5984,-84.5335\"/>\n<polygon fill=\"#000000\" stroke=\"#000000\" points=\"1045.2857,-81.2822 1036.9219,-87.7859 1047.516,-87.9174 1045.2857,-81.2822\"/>\n<text text-anchor=\"middle\" x=\"1064.0577\" y=\"-86.8\" font-family=\"Times,serif\" font-size=\"14.00\" fill=\"#000000\">1 </text>\n</g>\n<!-- St2&#45;&gt;St5 -->\n<g id=\"edge24\" class=\"edge\">\n<title>St2&#45;&gt;St5</title>\n<path fill=\"none\" stroke=\"#000000\" d=\"M1040.2071,-101C1051.7297,-101 1065.3072,-101 1077.7343,-101\"/>\n<polygon fill=\"#000000\" stroke=\"#000000\" points=\"1077.8322,-104.5001 1087.8322,-101 1077.8321,-97.5001 1077.8322,-104.5001\"/>\n<text text-anchor=\"middle\" x=\"1064.0577\" y=\"-104.8\" font-family=\"Times,serif\" font-size=\"14.00\" fill=\"#000000\">1 </text>\n</g>\n<!-- St2&#45;&gt;St7 -->\n<g id=\"edge3\" class=\"edge\">\n<title>St2&#45;&gt;St7</title>\n<path fill=\"none\" stroke=\"#000000\" d=\"M987.7157,-89.1651C981.2027,-86.62 974.0907,-84.3044 967.2618,-83 959.5587,-81.5286 951.436,-82.4692 943.8026,-84.5335\"/>\n<polygon fill=\"#000000\" stroke=\"#000000\" points=\"942.4898,-81.2822 934.1261,-87.7859 944.7201,-87.9174 942.4898,-81.2822\"/>\n<text text-anchor=\"middle\" x=\"961.2618\" y=\"-86.8\" font-family=\"Times,serif\" font-size=\"14.00\" fill=\"#000000\">0 </text>\n</g>\n<!-- St7&#45;&gt;St9 -->\n<g id=\"edge2\" class=\"edge\">\n<title>St7&#45;&gt;St9</title>\n<path fill=\"none\" stroke=\"#000000\" d=\"M884.9199,-89.1651C878.4069,-86.62 871.2949,-84.3044 864.466,-83 856.9504,-81.5644 848.9839,-82.5417 841.5618,-84.5783\"/>\n<polygon fill=\"#000000\" stroke=\"#000000\" points=\"840.2054,-81.3429 831.8717,-87.8851 842.4662,-87.9678 840.2054,-81.3429\"/>\n<text text-anchor=\"middle\" x=\"858.466\" y=\"-86.8\" font-family=\"Times,serif\" font-size=\"14.00\" fill=\"#000000\">1 </text>\n</g>\n<!-- St7&#45;&gt;St2 -->\n<g id=\"edge20\" class=\"edge\">\n<title>St7&#45;&gt;St2</title>\n<path fill=\"none\" stroke=\"#000000\" d=\"M937.4113,-101C948.9339,-101 962.5114,-101 974.9385,-101\"/>\n<polygon fill=\"#000000\" stroke=\"#000000\" points=\"975.0363,-104.5001 985.0363,-101 975.0363,-97.5001 975.0363,-104.5001\"/>\n<text text-anchor=\"middle\" x=\"961.2618\" y=\"-104.8\" font-family=\"Times,serif\" font-size=\"14.00\" fill=\"#000000\">0 </text>\n</g>\n<!-- St1&#45;&gt;St3 -->\n<g id=\"edge19\" class=\"edge\">\n<title>St1&#45;&gt;St3</title>\n<path fill=\"none\" stroke=\"#000000\" d=\"M644.9965,-101.8858C656.5664,-101.4173 670.1428,-100.8677 682.3252,-100.3744\"/>\n<polygon fill=\"#000000\" stroke=\"#000000\" points=\"682.7364,-103.8607 692.5865,-99.959 682.4531,-96.8665 682.7364,-103.8607\"/>\n<text text-anchor=\"middle\" x=\"668.8743\" y=\"-104.8\" font-family=\"Times,serif\" font-size=\"14.00\" fill=\"#000000\">1 </text>\n</g>\n<!-- St1&#45;&gt;St8 -->\n<g id=\"edge12\" class=\"edge\">\n<title>St1&#45;&gt;St8</title>\n<path fill=\"none\" stroke=\"#000000\" d=\"M593.182,-89.4225C586.5392,-86.3678 579.2025,-83.5679 572.0784,-82 564.1497,-80.255 555.7726,-81.2987 547.9419,-83.6053\"/>\n<polygon fill=\"#000000\" stroke=\"#000000\" points=\"546.5863,-80.3741 538.39,-87.0877 548.984,-86.9507 546.5863,-80.3741\"/>\n<text text-anchor=\"middle\" x=\"566.0784\" y=\"-85.8\" font-family=\"Times,serif\" font-size=\"14.00\" fill=\"#000000\">0 </text>\n</g>\n<!-- St8&#45;&gt;St11 -->\n<g id=\"edge7\" class=\"edge\">\n<title>St8&#45;&gt;St11</title>\n<path fill=\"none\" stroke=\"#000000\" d=\"M489.7365,-89.1651C483.2235,-86.62 476.1115,-84.3044 469.2826,-83 461.5843,-81.5295 453.4663,-82.434 445.8228,-84.4572\"/>\n<polygon fill=\"#000000\" stroke=\"#000000\" points=\"444.524,-81.2001 436.1231,-87.6557 446.7162,-87.8479 444.524,-81.2001\"/>\n<text text-anchor=\"middle\" x=\"463.2826\" y=\"-86.8\" font-family=\"Times,serif\" font-size=\"14.00\" fill=\"#000000\">1 </text>\n</g>\n<!-- St8&#45;&gt;St1 -->\n<g id=\"edge6\" class=\"edge\">\n<title>St8&#45;&gt;St1</title>\n<path fill=\"none\" stroke=\"#000000\" d=\"M542.2279,-101.536C553.7505,-101.7601 567.328,-102.0243 579.7551,-102.2661\"/>\n<polygon fill=\"#000000\" stroke=\"#000000\" points=\"579.7867,-105.7673 589.8529,-102.4626 579.9229,-98.7686 579.7867,-105.7673\"/>\n<text text-anchor=\"middle\" x=\"566.0784\" y=\"-105.8\" font-family=\"Times,serif\" font-size=\"14.00\" fill=\"#000000\">0 </text>\n</g>\n</g>\n</svg>\n"
          },
          "metadata": {},
          "execution_count": 39
        }
      ]
    },
    {
      "cell_type": "code",
      "source": [
        "min_answer = min_dfa(O0_or_E1_and_nm3)"
      ],
      "metadata": {
        "id": "caRxr-Q3G4IQ"
      },
      "execution_count": 29,
      "outputs": []
    },
    {
      "cell_type": "code",
      "source": [
        "len(min_answer[\"Q\"])"
      ],
      "metadata": {
        "id": "HuA8mkPeG77c",
        "outputId": "f092f2f1-304e-4763-f6da-2c2334bdf42b",
        "colab": {
          "base_uri": "https://localhost:8080/"
        }
      },
      "execution_count": 30,
      "outputs": [
        {
          "output_type": "execute_result",
          "data": {
            "text/plain": [
              "12"
            ]
          },
          "metadata": {},
          "execution_count": 30
        }
      ]
    },
    {
      "cell_type": "code",
      "source": [
        "len(O0_or_E1_and_nm3[\"Q\"])"
      ],
      "metadata": {
        "id": "Aku3vm6iHc4W",
        "outputId": "d17bc3a0-8c32-4f1d-a9df-4017b7db1981",
        "colab": {
          "base_uri": "https://localhost:8080/"
        }
      },
      "execution_count": 32,
      "outputs": [
        {
          "output_type": "execute_result",
          "data": {
            "text/plain": [
              "12"
            ]
          },
          "metadata": {},
          "execution_count": 32
        }
      ]
    },
    {
      "cell_type": "code",
      "source": [
        "dotObj_dfa(min_answer, STATENAME_MAXSIZE=1)"
      ],
      "metadata": {
        "id": "LRO4X2PaHP0F",
        "outputId": "bcdc26c5-3775-478c-923a-776c24309abd",
        "colab": {
          "base_uri": "https://localhost:8080/",
          "height": 226
        }
      },
      "execution_count": 41,
      "outputs": [
        {
          "output_type": "execute_result",
          "data": {
            "text/plain": [
              "<graphviz.dot.Digraph at 0x7fc7e6c77a90>"
            ],
            "image/svg+xml": "<?xml version=\"1.0\" encoding=\"UTF-8\" standalone=\"no\"?>\n<!DOCTYPE svg PUBLIC \"-//W3C//DTD SVG 1.1//EN\"\n \"http://www.w3.org/Graphics/SVG/1.1/DTD/svg11.dtd\">\n<!-- Generated by graphviz version 2.40.1 (20161225.0304)\n -->\n<!-- Title: %3 Pages: 1 -->\n<svg width=\"1256pt\" height=\"138pt\"\n viewBox=\"0.00 0.00 1256.05 138.40\" xmlns=\"http://www.w3.org/2000/svg\" xmlns:xlink=\"http://www.w3.org/1999/xlink\">\n<g id=\"graph0\" class=\"graph\" transform=\"scale(1 1) rotate(0) translate(4 134.3979)\">\n<title>%3</title>\n<polygon fill=\"#ffffff\" stroke=\"transparent\" points=\"-4,4 -4,-134.3979 1252.0484,-134.3979 1252.0484,4 -4,4\"/>\n<!-- EMPTY -->\n<g id=\"node1\" class=\"node\">\n<title>EMPTY</title>\n</g>\n<!-- St6 -->\n<g id=\"node4\" class=\"node\">\n<title>St6</title>\n<ellipse fill=\"none\" stroke=\"#000000\" cx=\"114.3979\" cy=\"-54\" rx=\"23.2963\" ry=\"23.2963\"/>\n<text text-anchor=\"middle\" x=\"114.3979\" y=\"-50.3\" font-family=\"Times,serif\" font-size=\"14.00\" fill=\"#000000\">St6</text>\n</g>\n<!-- EMPTY&#45;&gt;St6 -->\n<g id=\"edge1\" class=\"edge\">\n<title>EMPTY&#45;&gt;St6</title>\n<path fill=\"none\" stroke=\"#000000\" d=\"M54.1742,-54C62.5103,-54 71.7873,-54 80.5137,-54\"/>\n<polygon fill=\"#000000\" stroke=\"#000000\" points=\"80.7846,-57.5001 90.7846,-54 80.7845,-50.5001 80.7846,-57.5001\"/>\n</g>\n<!-- St0 -->\n<g id=\"node2\" class=\"node\">\n<title>St0</title>\n<ellipse fill=\"none\" stroke=\"#000000\" cx=\"209.1938\" cy=\"-99\" rx=\"23.2963\" ry=\"23.2963\"/>\n<text text-anchor=\"middle\" x=\"209.1938\" y=\"-95.3\" font-family=\"Times,serif\" font-size=\"14.00\" fill=\"#000000\">St0</text>\n</g>\n<!-- St0&#45;&gt;St6 -->\n<g id=\"edge18\" class=\"edge\">\n<title>St0&#45;&gt;St6</title>\n<path fill=\"none\" stroke=\"#000000\" d=\"M191.6361,-83.4837C184.6151,-77.9353 176.206,-72.0582 167.7958,-68 161.4747,-64.9498 154.4002,-62.499 147.5207,-60.5543\"/>\n<polygon fill=\"#000000\" stroke=\"#000000\" points=\"148.2454,-57.1273 137.6914,-58.0564 146.5213,-63.9117 148.2454,-57.1273\"/>\n<text text-anchor=\"middle\" x=\"161.7958\" y=\"-71.8\" font-family=\"Times,serif\" font-size=\"14.00\" fill=\"#000000\">0 </text>\n</g>\n<!-- St4 -->\n<g id=\"node8\" class=\"node\">\n<title>St4</title>\n<ellipse fill=\"none\" stroke=\"#000000\" cx=\"307.9896\" cy=\"-101\" rx=\"23.3111\" ry=\"23.3111\"/>\n<ellipse fill=\"none\" stroke=\"#000000\" cx=\"307.9896\" cy=\"-101\" rx=\"27.2962\" ry=\"27.2962\"/>\n<text text-anchor=\"middle\" x=\"307.9896\" y=\"-97.3\" font-family=\"Times,serif\" font-size=\"14.00\" fill=\"#000000\">St4</text>\n</g>\n<!-- St0&#45;&gt;St4 -->\n<g id=\"edge13\" class=\"edge\">\n<title>St0&#45;&gt;St4</title>\n<path fill=\"none\" stroke=\"#000000\" d=\"M232.607,-99.474C243.8409,-99.7014 257.5813,-99.9795 270.2395,-100.2358\"/>\n<polygon fill=\"#000000\" stroke=\"#000000\" points=\"270.4704,-103.7411 280.5392,-100.4443 270.6121,-96.7425 270.4704,-103.7411\"/>\n<text text-anchor=\"middle\" x=\"256.5917\" y=\"-103.8\" font-family=\"Times,serif\" font-size=\"14.00\" fill=\"#000000\">1 </text>\n</g>\n<!-- St3 -->\n<g id=\"node3\" class=\"node\">\n<title>St3</title>\n<ellipse fill=\"none\" stroke=\"#000000\" cx=\"716.2722\" cy=\"-99\" rx=\"23.2963\" ry=\"23.2963\"/>\n<text text-anchor=\"middle\" x=\"716.2722\" y=\"-95.3\" font-family=\"Times,serif\" font-size=\"14.00\" fill=\"#000000\">St3</text>\n</g>\n<!-- St9 -->\n<g id=\"node7\" class=\"node\">\n<title>St9</title>\n<ellipse fill=\"none\" stroke=\"#000000\" cx=\"811.0681\" cy=\"-99\" rx=\"23.2963\" ry=\"23.2963\"/>\n<text text-anchor=\"middle\" x=\"811.0681\" y=\"-95.3\" font-family=\"Times,serif\" font-size=\"14.00\" fill=\"#000000\">St9</text>\n</g>\n<!-- St3&#45;&gt;St9 -->\n<g id=\"edge22\" class=\"edge\">\n<title>St3&#45;&gt;St9</title>\n<path fill=\"none\" stroke=\"#000000\" d=\"M739.7049,-99C751.0988,-99 764.9999,-99 777.496,-99\"/>\n<polygon fill=\"#000000\" stroke=\"#000000\" points=\"777.5764,-102.5001 787.5764,-99 777.5764,-95.5001 777.5764,-102.5001\"/>\n<text text-anchor=\"middle\" x=\"763.6701\" y=\"-102.8\" font-family=\"Times,serif\" font-size=\"14.00\" fill=\"#000000\">0 </text>\n</g>\n<!-- St1 -->\n<g id=\"node12\" class=\"node\">\n<title>St1</title>\n<ellipse fill=\"none\" stroke=\"#000000\" cx=\"617.4764\" cy=\"-103\" rx=\"23.3111\" ry=\"23.3111\"/>\n<ellipse fill=\"none\" stroke=\"#000000\" cx=\"617.4764\" cy=\"-103\" rx=\"27.2962\" ry=\"27.2962\"/>\n<text text-anchor=\"middle\" x=\"617.4764\" y=\"-99.3\" font-family=\"Times,serif\" font-size=\"14.00\" fill=\"#000000\">St1</text>\n</g>\n<!-- St3&#45;&gt;St1 -->\n<g id=\"edge8\" class=\"edge\">\n<title>St3&#45;&gt;St1</title>\n<path fill=\"none\" stroke=\"#000000\" d=\"M695.6859,-87.8034C685.8533,-83.7558 673.8596,-80.6874 662.8743,-83 659.0028,-83.815 655.0589,-84.9815 651.1932,-86.3471\"/>\n<polygon fill=\"#000000\" stroke=\"#000000\" points=\"649.8333,-83.1212 641.8313,-90.0651 652.417,-89.627 649.8333,-83.1212\"/>\n<text text-anchor=\"middle\" x=\"668.8743\" y=\"-86.8\" font-family=\"Times,serif\" font-size=\"14.00\" fill=\"#000000\">1 </text>\n</g>\n<!-- St6&#45;&gt;St0 -->\n<g id=\"edge17\" class=\"edge\">\n<title>St6&#45;&gt;St0</title>\n<path fill=\"none\" stroke=\"#000000\" d=\"M131.3322,-70.3742C138.403,-76.4067 147.0105,-82.7884 155.7958,-87 162.0706,-90.0081 169.1252,-92.2771 176,-93.9838\"/>\n<polygon fill=\"#000000\" stroke=\"#000000\" points=\"175.319,-97.4173 185.8319,-96.1025 176.7936,-90.5744 175.319,-97.4173\"/>\n<text text-anchor=\"middle\" x=\"161.7958\" y=\"-94.8\" font-family=\"Times,serif\" font-size=\"14.00\" fill=\"#000000\">0 </text>\n</g>\n<!-- St10 -->\n<g id=\"node5\" class=\"node\">\n<title>St10</title>\n<ellipse fill=\"none\" stroke=\"#000000\" cx=\"1219.451\" cy=\"-54\" rx=\"28.6953\" ry=\"28.6953\"/>\n<text text-anchor=\"middle\" x=\"1219.451\" y=\"-50.3\" font-family=\"Times,serif\" font-size=\"14.00\" fill=\"#000000\">St10</text>\n</g>\n<!-- St6&#45;&gt;St10 -->\n<g id=\"edge25\" class=\"edge\">\n<title>St6&#45;&gt;St10</title>\n<path fill=\"none\" stroke=\"#000000\" d=\"M137.2027,-47.9511C156.292,-43.4202 184.3251,-38 209.1938,-38 209.1938,-38 209.1938,-38 1115.4556,-38 1137.4433,-38 1161.7451,-41.5372 1181.3239,-45.2853\"/>\n<polygon fill=\"#000000\" stroke=\"#000000\" points=\"1180.888,-48.7676 1191.3817,-47.3073 1182.2678,-41.9049 1180.888,-48.7676\"/>\n<text text-anchor=\"middle\" x=\"668.8743\" y=\"-41.8\" font-family=\"Times,serif\" font-size=\"14.00\" fill=\"#000000\">1 </text>\n</g>\n<!-- St10&#45;&gt;St6 -->\n<g id=\"edge9\" class=\"edge\">\n<title>St10&#45;&gt;St6</title>\n<path fill=\"none\" stroke=\"#000000\" d=\"M1197.6093,-34.8096C1177.6486,-19.2884 1146.5814,0 1115.4556,0 209.1938,0 209.1938,0 209.1938,0 182.7495,0 156.9536,-16.0617 138.9644,-30.6657\"/>\n<polygon fill=\"#000000\" stroke=\"#000000\" points=\"136.6215,-28.0636 131.2741,-37.2101 141.1581,-33.3946 136.6215,-28.0636\"/>\n<text text-anchor=\"middle\" x=\"668.8743\" y=\"-3.8\" font-family=\"Times,serif\" font-size=\"14.00\" fill=\"#000000\">1 </text>\n</g>\n<!-- St5 -->\n<g id=\"node9\" class=\"node\">\n<title>St5</title>\n<ellipse fill=\"none\" stroke=\"#000000\" cx=\"1115.4556\" cy=\"-101\" rx=\"23.3111\" ry=\"23.3111\"/>\n<ellipse fill=\"none\" stroke=\"#000000\" cx=\"1115.4556\" cy=\"-101\" rx=\"27.2962\" ry=\"27.2962\"/>\n<text text-anchor=\"middle\" x=\"1115.4556\" y=\"-97.3\" font-family=\"Times,serif\" font-size=\"14.00\" fill=\"#000000\">St5</text>\n</g>\n<!-- St10&#45;&gt;St5 -->\n<g id=\"edge16\" class=\"edge\">\n<title>St10&#45;&gt;St5</title>\n<path fill=\"none\" stroke=\"#000000\" d=\"M1190.9783,-58.4512C1181.1534,-60.5939 1170.2591,-63.6689 1160.8535,-68 1155.4104,-70.5065 1149.9625,-73.7132 1144.8263,-77.139\"/>\n<polygon fill=\"#000000\" stroke=\"#000000\" points=\"1142.6609,-74.3839 1136.5324,-83.0264 1146.7128,-80.092 1142.6609,-74.3839\"/>\n<text text-anchor=\"middle\" x=\"1166.8535\" y=\"-71.8\" font-family=\"Times,serif\" font-size=\"14.00\" fill=\"#000000\">0 </text>\n</g>\n<!-- St11 -->\n<g id=\"node6\" class=\"node\">\n<title>St11</title>\n<ellipse fill=\"none\" stroke=\"#000000\" cx=\"411.3351\" cy=\"-101\" rx=\"27.8951\" ry=\"27.8951\"/>\n<text text-anchor=\"middle\" x=\"411.3351\" y=\"-97.3\" font-family=\"Times,serif\" font-size=\"14.00\" fill=\"#000000\">St11</text>\n</g>\n<!-- St11&#45;&gt;St4 -->\n<g id=\"edge5\" class=\"edge\">\n<title>St11&#45;&gt;St4</title>\n<path fill=\"none\" stroke=\"#000000\" d=\"M386.547,-87.6557C376.3991,-83.6827 364.4593,-80.8851 353.3875,-83 349.7597,-83.693 346.0519,-84.6713 342.3965,-85.8179\"/>\n<polygon fill=\"#000000\" stroke=\"#000000\" points=\"341.194,-82.5306 332.9336,-89.1651 343.5284,-89.1299 341.194,-82.5306\"/>\n<text text-anchor=\"middle\" x=\"359.3875\" y=\"-86.8\" font-family=\"Times,serif\" font-size=\"14.00\" fill=\"#000000\">0 </text>\n</g>\n<!-- St8 -->\n<g id=\"node13\" class=\"node\">\n<title>St8</title>\n<ellipse fill=\"none\" stroke=\"#000000\" cx=\"514.6805\" cy=\"-101\" rx=\"23.3111\" ry=\"23.3111\"/>\n<ellipse fill=\"none\" stroke=\"#000000\" cx=\"514.6805\" cy=\"-101\" rx=\"27.2962\" ry=\"27.2962\"/>\n<text text-anchor=\"middle\" x=\"514.6805\" y=\"-97.3\" font-family=\"Times,serif\" font-size=\"14.00\" fill=\"#000000\">St8</text>\n</g>\n<!-- St11&#45;&gt;St8 -->\n<g id=\"edge21\" class=\"edge\">\n<title>St11&#45;&gt;St8</title>\n<path fill=\"none\" stroke=\"#000000\" d=\"M439.3018,-101C450.8838,-101 464.4943,-101 476.9396,-101\"/>\n<polygon fill=\"#000000\" stroke=\"#000000\" points=\"477.0495,-104.5001 487.0495,-101 477.0495,-97.5001 477.0495,-104.5001\"/>\n<text text-anchor=\"middle\" x=\"463.2826\" y=\"-104.8\" font-family=\"Times,serif\" font-size=\"14.00\" fill=\"#000000\">1 </text>\n</g>\n<!-- St9&#45;&gt;St3 -->\n<g id=\"edge23\" class=\"edge\">\n<title>St9&#45;&gt;St3</title>\n<path fill=\"none\" stroke=\"#000000\" d=\"M790.6178,-87.5101C784.1233,-84.4439 776.7777,-81.5532 769.6701,-80 761.6943,-78.2571 753.2796,-79.6397 745.5481,-82.3049\"/>\n<polygon fill=\"#000000\" stroke=\"#000000\" points=\"744.07,-79.1295 736.2049,-86.2281 746.7801,-85.5836 744.07,-79.1295\"/>\n<text text-anchor=\"middle\" x=\"763.6701\" y=\"-83.8\" font-family=\"Times,serif\" font-size=\"14.00\" fill=\"#000000\">0 </text>\n</g>\n<!-- St7 -->\n<g id=\"node11\" class=\"node\">\n<title>St7</title>\n<ellipse fill=\"none\" stroke=\"#000000\" cx=\"909.8639\" cy=\"-101\" rx=\"23.3111\" ry=\"23.3111\"/>\n<ellipse fill=\"none\" stroke=\"#000000\" cx=\"909.8639\" cy=\"-101\" rx=\"27.2962\" ry=\"27.2962\"/>\n<text text-anchor=\"middle\" x=\"909.8639\" y=\"-97.3\" font-family=\"Times,serif\" font-size=\"14.00\" fill=\"#000000\">St7</text>\n</g>\n<!-- St9&#45;&gt;St7 -->\n<g id=\"edge4\" class=\"edge\">\n<title>St9&#45;&gt;St7</title>\n<path fill=\"none\" stroke=\"#000000\" d=\"M834.4813,-99.474C845.7152,-99.7014 859.4556,-99.9795 872.1138,-100.2358\"/>\n<polygon fill=\"#000000\" stroke=\"#000000\" points=\"872.3446,-103.7411 882.4135,-100.4443 872.4864,-96.7425 872.3446,-103.7411\"/>\n<text text-anchor=\"middle\" x=\"858.466\" y=\"-103.8\" font-family=\"Times,serif\" font-size=\"14.00\" fill=\"#000000\">1 </text>\n</g>\n<!-- St4&#45;&gt;St0 -->\n<g id=\"edge11\" class=\"edge\">\n<title>St4&#45;&gt;St0</title>\n<path fill=\"none\" stroke=\"#000000\" d=\"M283.0456,-89.1651C276.5326,-86.62 269.4206,-84.3044 262.5917,-83 255.0761,-81.5644 247.1096,-82.5417 239.6875,-84.5783\"/>\n<polygon fill=\"#000000\" stroke=\"#000000\" points=\"238.3311,-81.3429 229.9974,-87.8851 240.592,-87.9678 238.3311,-81.3429\"/>\n<text text-anchor=\"middle\" x=\"256.5917\" y=\"-86.8\" font-family=\"Times,serif\" font-size=\"14.00\" fill=\"#000000\">1 </text>\n</g>\n<!-- St4&#45;&gt;St11 -->\n<g id=\"edge15\" class=\"edge\">\n<title>St4&#45;&gt;St11</title>\n<path fill=\"none\" stroke=\"#000000\" d=\"M335.413,-101C346.9054,-101 360.4675,-101 372.9262,-101\"/>\n<polygon fill=\"#000000\" stroke=\"#000000\" points=\"373.0624,-104.5001 383.0624,-101 373.0623,-97.5001 373.0624,-104.5001\"/>\n<text text-anchor=\"middle\" x=\"359.3875\" y=\"-104.8\" font-family=\"Times,serif\" font-size=\"14.00\" fill=\"#000000\">0 </text>\n</g>\n<!-- St5&#45;&gt;St10 -->\n<g id=\"edge14\" class=\"edge\">\n<title>St5&#45;&gt;St10</title>\n<path fill=\"none\" stroke=\"#000000\" d=\"M1142.7335,-96.5439C1152.5045,-94.3828 1163.4272,-91.2972 1172.8535,-87 1178.2853,-84.5238 1183.74,-81.3866 1188.9063,-78.0364\"/>\n<polygon fill=\"#000000\" stroke=\"#000000\" points=\"1191.0214,-80.8295 1197.2736,-72.2761 1187.052,-75.0637 1191.0214,-80.8295\"/>\n<text text-anchor=\"middle\" x=\"1166.8535\" y=\"-94.8\" font-family=\"Times,serif\" font-size=\"14.00\" fill=\"#000000\">0 </text>\n</g>\n<!-- St2 -->\n<g id=\"node10\" class=\"node\">\n<title>St2</title>\n<ellipse fill=\"none\" stroke=\"#000000\" cx=\"1012.6597\" cy=\"-101\" rx=\"23.3111\" ry=\"23.3111\"/>\n<ellipse fill=\"none\" stroke=\"#000000\" cx=\"1012.6597\" cy=\"-101\" rx=\"27.2962\" ry=\"27.2962\"/>\n<text text-anchor=\"middle\" x=\"1012.6597\" y=\"-97.3\" font-family=\"Times,serif\" font-size=\"14.00\" fill=\"#000000\">St2</text>\n</g>\n<!-- St5&#45;&gt;St2 -->\n<g id=\"edge10\" class=\"edge\">\n<title>St5&#45;&gt;St2</title>\n<path fill=\"none\" stroke=\"#000000\" d=\"M1090.5116,-89.1651C1083.9985,-86.62 1076.8866,-84.3044 1070.0577,-83 1062.3546,-81.5286 1054.2318,-82.4692 1046.5984,-84.5335\"/>\n<polygon fill=\"#000000\" stroke=\"#000000\" points=\"1045.2857,-81.2822 1036.9219,-87.7859 1047.516,-87.9174 1045.2857,-81.2822\"/>\n<text text-anchor=\"middle\" x=\"1064.0577\" y=\"-86.8\" font-family=\"Times,serif\" font-size=\"14.00\" fill=\"#000000\">1 </text>\n</g>\n<!-- St2&#45;&gt;St5 -->\n<g id=\"edge24\" class=\"edge\">\n<title>St2&#45;&gt;St5</title>\n<path fill=\"none\" stroke=\"#000000\" d=\"M1040.2071,-101C1051.7297,-101 1065.3072,-101 1077.7343,-101\"/>\n<polygon fill=\"#000000\" stroke=\"#000000\" points=\"1077.8322,-104.5001 1087.8322,-101 1077.8321,-97.5001 1077.8322,-104.5001\"/>\n<text text-anchor=\"middle\" x=\"1064.0577\" y=\"-104.8\" font-family=\"Times,serif\" font-size=\"14.00\" fill=\"#000000\">1 </text>\n</g>\n<!-- St2&#45;&gt;St7 -->\n<g id=\"edge3\" class=\"edge\">\n<title>St2&#45;&gt;St7</title>\n<path fill=\"none\" stroke=\"#000000\" d=\"M987.7157,-89.1651C981.2027,-86.62 974.0907,-84.3044 967.2618,-83 959.5587,-81.5286 951.436,-82.4692 943.8026,-84.5335\"/>\n<polygon fill=\"#000000\" stroke=\"#000000\" points=\"942.4898,-81.2822 934.1261,-87.7859 944.7201,-87.9174 942.4898,-81.2822\"/>\n<text text-anchor=\"middle\" x=\"961.2618\" y=\"-86.8\" font-family=\"Times,serif\" font-size=\"14.00\" fill=\"#000000\">0 </text>\n</g>\n<!-- St7&#45;&gt;St9 -->\n<g id=\"edge2\" class=\"edge\">\n<title>St7&#45;&gt;St9</title>\n<path fill=\"none\" stroke=\"#000000\" d=\"M884.9199,-89.1651C878.4069,-86.62 871.2949,-84.3044 864.466,-83 856.9504,-81.5644 848.9839,-82.5417 841.5618,-84.5783\"/>\n<polygon fill=\"#000000\" stroke=\"#000000\" points=\"840.2054,-81.3429 831.8717,-87.8851 842.4662,-87.9678 840.2054,-81.3429\"/>\n<text text-anchor=\"middle\" x=\"858.466\" y=\"-86.8\" font-family=\"Times,serif\" font-size=\"14.00\" fill=\"#000000\">1 </text>\n</g>\n<!-- St7&#45;&gt;St2 -->\n<g id=\"edge20\" class=\"edge\">\n<title>St7&#45;&gt;St2</title>\n<path fill=\"none\" stroke=\"#000000\" d=\"M937.4113,-101C948.9339,-101 962.5114,-101 974.9385,-101\"/>\n<polygon fill=\"#000000\" stroke=\"#000000\" points=\"975.0363,-104.5001 985.0363,-101 975.0363,-97.5001 975.0363,-104.5001\"/>\n<text text-anchor=\"middle\" x=\"961.2618\" y=\"-104.8\" font-family=\"Times,serif\" font-size=\"14.00\" fill=\"#000000\">0 </text>\n</g>\n<!-- St1&#45;&gt;St3 -->\n<g id=\"edge19\" class=\"edge\">\n<title>St1&#45;&gt;St3</title>\n<path fill=\"none\" stroke=\"#000000\" d=\"M644.9965,-101.8858C656.5664,-101.4173 670.1428,-100.8677 682.3252,-100.3744\"/>\n<polygon fill=\"#000000\" stroke=\"#000000\" points=\"682.7364,-103.8607 692.5865,-99.959 682.4531,-96.8665 682.7364,-103.8607\"/>\n<text text-anchor=\"middle\" x=\"668.8743\" y=\"-104.8\" font-family=\"Times,serif\" font-size=\"14.00\" fill=\"#000000\">1 </text>\n</g>\n<!-- St1&#45;&gt;St8 -->\n<g id=\"edge12\" class=\"edge\">\n<title>St1&#45;&gt;St8</title>\n<path fill=\"none\" stroke=\"#000000\" d=\"M593.182,-89.4225C586.5392,-86.3678 579.2025,-83.5679 572.0784,-82 564.1497,-80.255 555.7726,-81.2987 547.9419,-83.6053\"/>\n<polygon fill=\"#000000\" stroke=\"#000000\" points=\"546.5863,-80.3741 538.39,-87.0877 548.984,-86.9507 546.5863,-80.3741\"/>\n<text text-anchor=\"middle\" x=\"566.0784\" y=\"-85.8\" font-family=\"Times,serif\" font-size=\"14.00\" fill=\"#000000\">0 </text>\n</g>\n<!-- St8&#45;&gt;St11 -->\n<g id=\"edge7\" class=\"edge\">\n<title>St8&#45;&gt;St11</title>\n<path fill=\"none\" stroke=\"#000000\" d=\"M489.7365,-89.1651C483.2235,-86.62 476.1115,-84.3044 469.2826,-83 461.5843,-81.5295 453.4663,-82.434 445.8228,-84.4572\"/>\n<polygon fill=\"#000000\" stroke=\"#000000\" points=\"444.524,-81.2001 436.1231,-87.6557 446.7162,-87.8479 444.524,-81.2001\"/>\n<text text-anchor=\"middle\" x=\"463.2826\" y=\"-86.8\" font-family=\"Times,serif\" font-size=\"14.00\" fill=\"#000000\">1 </text>\n</g>\n<!-- St8&#45;&gt;St1 -->\n<g id=\"edge6\" class=\"edge\">\n<title>St8&#45;&gt;St1</title>\n<path fill=\"none\" stroke=\"#000000\" d=\"M542.2279,-101.536C553.7505,-101.7601 567.328,-102.0243 579.7551,-102.2661\"/>\n<polygon fill=\"#000000\" stroke=\"#000000\" points=\"579.7867,-105.7673 589.8529,-102.4626 579.9229,-98.7686 579.7867,-105.7673\"/>\n<text text-anchor=\"middle\" x=\"566.0784\" y=\"-105.8\" font-family=\"Times,serif\" font-size=\"14.00\" fill=\"#000000\">0 </text>\n</g>\n</g>\n</svg>\n"
          },
          "metadata": {},
          "execution_count": 41
        }
      ]
    },
    {
      "cell_type": "markdown",
      "metadata": {
        "id": "NEtN7ANSBg9v"
      },
      "source": [
        "# Even the min DFA can be large!"
      ]
    },
    {
      "cell_type": "markdown",
      "metadata": {
        "id": "rKq03Wz8Bg9w"
      },
      "source": [
        "# Illustrate REs to generate test DFA"
      ]
    },
    {
      "cell_type": "code",
      "execution_count": 42,
      "metadata": {
        "id": "bJIqnptsBg9w",
        "outputId": "3d4429a8-e8bd-4c5b-ad5e-cd6d5131cc67",
        "colab": {
          "base_uri": "https://localhost:8080/"
        }
      },
      "outputs": [
        {
          "output_type": "stream",
          "name": "stderr",
          "text": [
            "Generating LALR tables\n"
          ]
        },
        {
          "output_type": "execute_result",
          "data": {
            "text/plain": [
              "{'Q': {'St1', 'St10', 'St2', 'St3', 'St4', 'St5', 'St6', 'St7', 'St8', 'St9'},\n",
              " 'Sigma': {'0', '1'},\n",
              " 'Delta': {('St1', '0'): {'St2'},\n",
              "  ('St5', ''): {'St10', 'St3', 'St6'},\n",
              "  ('St3', '0'): {'St4'},\n",
              "  ('St4', ''): {'St5'},\n",
              "  ('St2', ''): {'St5'},\n",
              "  ('St6', '0'): {'St7'},\n",
              "  ('St10', ''): {'St8'},\n",
              "  ('St8', '1'): {'St9'},\n",
              "  ('St9', ''): {'St10'}},\n",
              " 'Q0': {'St1'},\n",
              " 'F': {'St10', 'St7'}}"
            ]
          },
          "metadata": {},
          "execution_count": 42
        }
      ],
      "source": [
        "re2nfa('00*(0+1*)')"
      ]
    },
    {
      "cell_type": "code",
      "execution_count": 43,
      "metadata": {
        "id": "eEufBOK1Bg9x",
        "outputId": "89179aaf-cea3-49f5-d7ba-cb6b57579532",
        "colab": {
          "base_uri": "https://localhost:8080/"
        }
      },
      "outputs": [
        {
          "output_type": "stream",
          "name": "stderr",
          "text": [
            "Generating LALR tables\n"
          ]
        }
      ],
      "source": [
        "nd = nfa2dfa(re2nfa('00*(0+1*)'))"
      ]
    },
    {
      "cell_type": "code",
      "execution_count": 44,
      "metadata": {
        "id": "t4Z9LCwGBg9x"
      },
      "outputs": [],
      "source": [
        "mnd = min_dfa(nd, state_name_mode='verbose')"
      ]
    },
    {
      "cell_type": "code",
      "execution_count": 45,
      "metadata": {
        "id": "SeWCDBA_Bg9y",
        "outputId": "6f06c3ee-8c46-4118-820e-36b744b7f55a",
        "colab": {
          "base_uri": "https://localhost:8080/"
        }
      },
      "outputs": [
        {
          "output_type": "stream",
          "name": "stdout",
          "text": [
            "Help on function min_dfa in module jove.Def_DFA:\n",
            "\n",
            "min_dfa(D, state_name_mode='succinct', chatty=False)\n",
            "    The top-level callable DFA minimizer.\n",
            "    \n",
            "    In : D (consistent DFA to be minimized)\n",
            "    Out: Minimized version of D.\n",
            "    \n",
            "    Given a DFA D, go through the state minimization algorithm.\n",
            "    \n",
            "    Setting chatty=True helps reveal the detailed steps. Please try it!        \n",
            "    \n",
            "    If the state_name_mode is verbose, we will make state names\n",
            "    by stringing together the state names in the equivalence\n",
            "    classes. If 'succinct', then only the name of the equivalence-class\n",
            "    representative is retained.\n",
            "\n"
          ]
        }
      ],
      "source": [
        "help(min_dfa)"
      ]
    },
    {
      "cell_type": "code",
      "execution_count": 46,
      "metadata": {
        "id": "GPmN5OkKBg95",
        "outputId": "63557e2b-74fb-4428-f759-61cba55fbb68",
        "colab": {
          "base_uri": "https://localhost:8080/"
        }
      },
      "outputs": [
        {
          "output_type": "execute_result",
          "data": {
            "text/plain": [
              "5"
            ]
          },
          "metadata": {},
          "execution_count": 46
        }
      ],
      "source": [
        "len(nd[\"Q\"])"
      ]
    },
    {
      "cell_type": "code",
      "execution_count": 47,
      "metadata": {
        "id": "4koi5V0nBg97",
        "outputId": "3b8f6792-f137-4f9b-93e7-f6d3d8c54423",
        "colab": {
          "base_uri": "https://localhost:8080/"
        }
      },
      "outputs": [
        {
          "output_type": "execute_result",
          "data": {
            "text/plain": [
              "4"
            ]
          },
          "metadata": {},
          "execution_count": 47
        }
      ],
      "source": [
        "len(mnd[\"Q\"])"
      ]
    },
    {
      "cell_type": "code",
      "execution_count": 48,
      "metadata": {
        "id": "pNMCXj41Bg97",
        "outputId": "d208825b-50a7-453c-9d32-1890f7ae8d6e",
        "colab": {
          "base_uri": "https://localhost:8080/",
          "height": 214
        }
      },
      "outputs": [
        {
          "output_type": "execute_result",
          "data": {
            "text/plain": [
              "<graphviz.dot.Digraph at 0x7fc7e6bb6f50>"
            ],
            "image/svg+xml": "<?xml version=\"1.0\" encoding=\"UTF-8\" standalone=\"no\"?>\n<!DOCTYPE svg PUBLIC \"-//W3C//DTD SVG 1.1//EN\"\n \"http://www.w3.org/Graphics/SVG/1.1/DTD/svg11.dtd\">\n<!-- Generated by graphviz version 2.40.1 (20161225.0304)\n -->\n<!-- Title: %3 Pages: 1 -->\n<svg width=\"454pt\" height=\"144pt\"\n viewBox=\"0.00 0.00 454.18 143.80\" xmlns=\"http://www.w3.org/2000/svg\" xmlns:xlink=\"http://www.w3.org/1999/xlink\">\n<g id=\"graph0\" class=\"graph\" transform=\"scale(1 1) rotate(0) translate(4 139.7958)\">\n<title>%3</title>\n<polygon fill=\"#ffffff\" stroke=\"transparent\" points=\"-4,4 -4,-139.7958 450.1834,-139.7958 450.1834,4 -4,4\"/>\n<!-- EMPTY -->\n<g id=\"node1\" class=\"node\">\n<title>EMPTY</title>\n</g>\n<!-- St1 -->\n<g id=\"node2\" class=\"node\">\n<title>St1</title>\n<ellipse fill=\"none\" stroke=\"#000000\" cx=\"114.3979\" cy=\"-75.3979\" rx=\"23.2963\" ry=\"23.2963\"/>\n<text text-anchor=\"middle\" x=\"114.3979\" y=\"-71.6979\" font-family=\"Times,serif\" font-size=\"14.00\" fill=\"#000000\">St1</text>\n</g>\n<!-- EMPTY&#45;&gt;St1 -->\n<g id=\"edge1\" class=\"edge\">\n<title>EMPTY&#45;&gt;St1</title>\n<path fill=\"none\" stroke=\"#000000\" d=\"M54.1742,-75.3979C62.5103,-75.3979 71.7873,-75.3979 80.5137,-75.3979\"/>\n<polygon fill=\"#000000\" stroke=\"#000000\" points=\"80.7846,-78.898 90.7846,-75.3979 80.7845,-71.898 80.7846,-78.898\"/>\n</g>\n<!-- St2 -->\n<g id=\"node5\" class=\"node\">\n<title>St2</title>\n<ellipse fill=\"none\" stroke=\"#000000\" cx=\"213.1938\" cy=\"-75.3979\" rx=\"23.3111\" ry=\"23.3111\"/>\n<ellipse fill=\"none\" stroke=\"#000000\" cx=\"213.1938\" cy=\"-75.3979\" rx=\"27.2962\" ry=\"27.2962\"/>\n<text text-anchor=\"middle\" x=\"213.1938\" y=\"-71.6979\" font-family=\"Times,serif\" font-size=\"14.00\" fill=\"#000000\">St2</text>\n</g>\n<!-- St1&#45;&gt;St2 -->\n<g id=\"edge2\" class=\"edge\">\n<title>St1&#45;&gt;St2</title>\n<path fill=\"none\" stroke=\"#000000\" d=\"M137.8112,-75.3979C149.0451,-75.3979 162.7854,-75.3979 175.4437,-75.3979\"/>\n<polygon fill=\"#000000\" stroke=\"#000000\" points=\"175.7434,-78.898 185.7433,-75.3979 175.7433,-71.898 175.7434,-78.898\"/>\n<text text-anchor=\"middle\" x=\"161.7958\" y=\"-79.1979\" font-family=\"Times,serif\" font-size=\"14.00\" fill=\"#000000\">0 </text>\n</g>\n<!-- St4 -->\n<g id=\"node3\" class=\"node\">\n<title>St4</title>\n<ellipse fill=\"none\" stroke=\"#000000\" cx=\"418.7855\" cy=\"-75.3979\" rx=\"23.3111\" ry=\"23.3111\"/>\n<ellipse fill=\"none\" stroke=\"#000000\" cx=\"418.7855\" cy=\"-75.3979\" rx=\"27.2962\" ry=\"27.2962\"/>\n<text text-anchor=\"middle\" x=\"418.7855\" y=\"-71.6979\" font-family=\"Times,serif\" font-size=\"14.00\" fill=\"#000000\">St4</text>\n</g>\n<!-- St4&#45;&gt;St4 -->\n<g id=\"edge5\" class=\"edge\">\n<title>St4&#45;&gt;St4</title>\n<path fill=\"none\" stroke=\"#000000\" d=\"M409.4677,-101.523C408.9413,-112.0011 412.0472,-120.7958 418.7855,-120.7958 423.1022,-120.7958 425.9282,-117.1865 427.2634,-111.8374\"/>\n<polygon fill=\"#000000\" stroke=\"#000000\" points=\"430.7801,-111.7741 428.1032,-101.523 423.8032,-111.206 430.7801,-111.7741\"/>\n<text text-anchor=\"middle\" x=\"418.7855\" y=\"-124.5958\" font-family=\"Times,serif\" font-size=\"14.00\" fill=\"#000000\">1 </text>\n</g>\n<!-- St3 -->\n<g id=\"node4\" class=\"node\">\n<title>St3</title>\n<ellipse fill=\"none\" stroke=\"#000000\" cx=\"315.9896\" cy=\"-27.3979\" rx=\"23.3111\" ry=\"23.3111\"/>\n<ellipse fill=\"none\" stroke=\"#000000\" cx=\"315.9896\" cy=\"-27.3979\" rx=\"27.2962\" ry=\"27.2962\"/>\n<text text-anchor=\"middle\" x=\"315.9896\" y=\"-23.6979\" font-family=\"Times,serif\" font-size=\"14.00\" fill=\"#000000\">St3</text>\n</g>\n<!-- St3&#45;&gt;St4 -->\n<g id=\"edge6\" class=\"edge\">\n<title>St3&#45;&gt;St4</title>\n<path fill=\"none\" stroke=\"#000000\" d=\"M340.8736,-39.0174C354.0341,-45.1626 370.3882,-52.7991 384.7102,-59.4866\"/>\n<polygon fill=\"#000000\" stroke=\"#000000\" points=\"383.2326,-62.6594 393.7743,-63.7191 386.1943,-56.3168 383.2326,-62.6594\"/>\n<text text-anchor=\"middle\" x=\"367.3875\" y=\"-56.1979\" font-family=\"Times,serif\" font-size=\"14.00\" fill=\"#000000\">1 </text>\n</g>\n<!-- St3&#45;&gt;St3 -->\n<g id=\"edge7\" class=\"edge\">\n<title>St3&#45;&gt;St3</title>\n<path fill=\"none\" stroke=\"#000000\" d=\"M306.6718,-53.523C306.1454,-64.0011 309.2513,-72.7958 315.9896,-72.7958 320.3063,-72.7958 323.1323,-69.1865 324.4676,-63.8374\"/>\n<polygon fill=\"#000000\" stroke=\"#000000\" points=\"327.9842,-63.7741 325.3074,-53.523 321.0073,-63.206 327.9842,-63.7741\"/>\n<text text-anchor=\"middle\" x=\"315.9896\" y=\"-76.5958\" font-family=\"Times,serif\" font-size=\"14.00\" fill=\"#000000\">0 </text>\n</g>\n<!-- St2&#45;&gt;St4 -->\n<g id=\"edge3\" class=\"edge\">\n<title>St2&#45;&gt;St4</title>\n<path fill=\"none\" stroke=\"#000000\" d=\"M239.3439,-84.5703C253.6861,-89.1182 271.8975,-94.1165 288.5917,-96.3979 312.7211,-99.6955 319.2581,-99.6955 343.3875,-96.3979 356.4298,-94.6156 370.3983,-91.1749 382.7242,-87.5863\"/>\n<polygon fill=\"#000000\" stroke=\"#000000\" points=\"384.0875,-90.83 392.6353,-84.5703 382.0495,-84.1333 384.0875,-90.83\"/>\n<text text-anchor=\"middle\" x=\"315.9896\" y=\"-102.1979\" font-family=\"Times,serif\" font-size=\"14.00\" fill=\"#000000\">1 </text>\n</g>\n<!-- St2&#45;&gt;St3 -->\n<g id=\"edge4\" class=\"edge\">\n<title>St2&#45;&gt;St3</title>\n<path fill=\"none\" stroke=\"#000000\" d=\"M238.0778,-63.7785C251.2382,-57.6333 267.5924,-49.9968 281.9143,-43.3092\"/>\n<polygon fill=\"#000000\" stroke=\"#000000\" points=\"283.3984,-46.479 290.9785,-39.0767 280.4368,-40.1364 283.3984,-46.479\"/>\n<text text-anchor=\"middle\" x=\"264.5917\" y=\"-56.1979\" font-family=\"Times,serif\" font-size=\"14.00\" fill=\"#000000\">0 </text>\n</g>\n</g>\n</svg>\n"
          },
          "metadata": {},
          "execution_count": 48
        }
      ],
      "source": [
        "dotObj_dfa(nd, STATENAME_MAXSIZE=40)"
      ]
    },
    {
      "cell_type": "code",
      "execution_count": 49,
      "metadata": {
        "scrolled": true,
        "id": "V_7doEXrBg98",
        "outputId": "addb86b9-6c1f-4e43-8f20-7a8a4da9cc64",
        "colab": {
          "base_uri": "https://localhost:8080/",
          "height": 196
        }
      },
      "outputs": [
        {
          "output_type": "execute_result",
          "data": {
            "text/plain": [
              "<graphviz.dot.Digraph at 0x7fc7e6bb6990>"
            ],
            "image/svg+xml": "<?xml version=\"1.0\" encoding=\"UTF-8\" standalone=\"no\"?>\n<!DOCTYPE svg PUBLIC \"-//W3C//DTD SVG 1.1//EN\"\n \"http://www.w3.org/Graphics/SVG/1.1/DTD/svg11.dtd\">\n<!-- Generated by graphviz version 2.40.1 (20161225.0304)\n -->\n<!-- Title: %3 Pages: 1 -->\n<svg width=\"386pt\" height=\"131pt\"\n viewBox=\"0.00 0.00 386.48 130.89\" xmlns=\"http://www.w3.org/2000/svg\" xmlns:xlink=\"http://www.w3.org/1999/xlink\">\n<g id=\"graph0\" class=\"graph\" transform=\"scale(1 1) rotate(0) translate(4 126.8927)\">\n<title>%3</title>\n<polygon fill=\"#ffffff\" stroke=\"transparent\" points=\"-4,4 -4,-126.8927 382.4844,-126.8927 382.4844,4 -4,4\"/>\n<!-- EMPTY -->\n<g id=\"node1\" class=\"node\">\n<title>EMPTY</title>\n</g>\n<!-- St1 -->\n<g id=\"node2\" class=\"node\">\n<title>St1</title>\n<ellipse fill=\"none\" stroke=\"#000000\" cx=\"114.3979\" cy=\"-44.9464\" rx=\"23.2963\" ry=\"23.2963\"/>\n<text text-anchor=\"middle\" x=\"114.3979\" y=\"-41.2464\" font-family=\"Times,serif\" font-size=\"14.00\" fill=\"#000000\">St1</text>\n</g>\n<!-- EMPTY&#45;&gt;St1 -->\n<g id=\"edge1\" class=\"edge\">\n<title>EMPTY&#45;&gt;St1</title>\n<path fill=\"none\" stroke=\"#000000\" d=\"M54.1742,-44.9464C62.5103,-44.9464 71.7873,-44.9464 80.5137,-44.9464\"/>\n<polygon fill=\"#000000\" stroke=\"#000000\" points=\"80.7846,-48.4465 90.7846,-44.9464 80.7845,-41.4465 80.7846,-48.4465\"/>\n</g>\n<!-- St3_St2 -->\n<g id=\"node4\" class=\"node\">\n<title>St3_St2</title>\n<ellipse fill=\"none\" stroke=\"#000000\" cx=\"230.7422\" cy=\"-44.9464\" rx=\"40.8976\" ry=\"40.8976\"/>\n<ellipse fill=\"none\" stroke=\"#000000\" cx=\"230.7422\" cy=\"-44.9464\" rx=\"44.8928\" ry=\"44.8928\"/>\n<text text-anchor=\"middle\" x=\"230.7422\" y=\"-41.2464\" font-family=\"Times,serif\" font-size=\"14.00\" fill=\"#000000\">St3_St2</text>\n</g>\n<!-- St1&#45;&gt;St3_St2 -->\n<g id=\"edge2\" class=\"edge\">\n<title>St1&#45;&gt;St3_St2</title>\n<path fill=\"none\" stroke=\"#000000\" d=\"M137.9419,-44.9464C148.8417,-44.9464 162.2916,-44.9464 175.536,-44.9464\"/>\n<polygon fill=\"#000000\" stroke=\"#000000\" points=\"175.5784,-48.4465 185.5783,-44.9464 175.5783,-41.4465 175.5784,-48.4465\"/>\n<text text-anchor=\"middle\" x=\"161.7958\" y=\"-48.7464\" font-family=\"Times,serif\" font-size=\"14.00\" fill=\"#000000\">0 </text>\n</g>\n<!-- St4 -->\n<g id=\"node3\" class=\"node\">\n<title>St4</title>\n<ellipse fill=\"none\" stroke=\"#000000\" cx=\"351.0865\" cy=\"-44.9464\" rx=\"23.3111\" ry=\"23.3111\"/>\n<ellipse fill=\"none\" stroke=\"#000000\" cx=\"351.0865\" cy=\"-44.9464\" rx=\"27.2962\" ry=\"27.2962\"/>\n<text text-anchor=\"middle\" x=\"351.0865\" y=\"-41.2464\" font-family=\"Times,serif\" font-size=\"14.00\" fill=\"#000000\">St4</text>\n</g>\n<!-- St4&#45;&gt;St4 -->\n<g id=\"edge5\" class=\"edge\">\n<title>St4&#45;&gt;St4</title>\n<path fill=\"none\" stroke=\"#000000\" d=\"M341.7687,-71.0714C341.2423,-81.5496 344.3482,-90.3443 351.0865,-90.3443 355.4032,-90.3443 358.2292,-86.7349 359.5645,-81.3859\"/>\n<polygon fill=\"#000000\" stroke=\"#000000\" points=\"363.0811,-81.3225 360.4043,-71.0714 356.1042,-80.7544 363.0811,-81.3225\"/>\n<text text-anchor=\"middle\" x=\"351.0865\" y=\"-94.1443\" font-family=\"Times,serif\" font-size=\"14.00\" fill=\"#000000\">1 </text>\n</g>\n<!-- St3_St2&#45;&gt;St4 -->\n<g id=\"edge3\" class=\"edge\">\n<title>St3_St2&#45;&gt;St4</title>\n<path fill=\"none\" stroke=\"#000000\" d=\"M275.8964,-44.9464C288.2768,-44.9464 301.5633,-44.9464 313.4716,-44.9464\"/>\n<polygon fill=\"#000000\" stroke=\"#000000\" points=\"313.5243,-48.4465 323.5243,-44.9464 313.5242,-41.4465 313.5243,-48.4465\"/>\n<text text-anchor=\"middle\" x=\"299.6886\" y=\"-48.7464\" font-family=\"Times,serif\" font-size=\"14.00\" fill=\"#000000\">1 </text>\n</g>\n<!-- St3_St2&#45;&gt;St3_St2 -->\n<g id=\"edge4\" class=\"edge\">\n<title>St3_St2&#45;&gt;St3_St2</title>\n<path fill=\"none\" stroke=\"#000000\" d=\"M218.1237,-88.1941C218.8993,-99.4245 223.1055,-107.8927 230.7422,-107.8927 235.8731,-107.8927 239.4554,-104.07 241.4892,-98.1552\"/>\n<polygon fill=\"#000000\" stroke=\"#000000\" points=\"244.9539,-98.6684 243.3607,-88.1941 238.0743,-97.3758 244.9539,-98.6684\"/>\n<text text-anchor=\"middle\" x=\"230.7422\" y=\"-111.6927\" font-family=\"Times,serif\" font-size=\"14.00\" fill=\"#000000\">0 </text>\n</g>\n</g>\n</svg>\n"
          },
          "metadata": {},
          "execution_count": 49
        }
      ],
      "source": [
        "dotObj_dfa(mnd)"
      ]
    },
    {
      "cell_type": "code",
      "source": [],
      "metadata": {
        "id": "rz6k6nwbJYNV"
      },
      "execution_count": null,
      "outputs": []
    }
  ],
  "metadata": {
    "kernelspec": {
      "display_name": "Python 3",
      "language": "python",
      "name": "python3"
    },
    "language_info": {
      "codemirror_mode": {
        "name": "ipython",
        "version": 3
      },
      "file_extension": ".py",
      "mimetype": "text/x-python",
      "name": "python",
      "nbconvert_exporter": "python",
      "pygments_lexer": "ipython3",
      "version": "3.7.3"
    },
    "toc": {
      "colors": {
        "hover_highlight": "#DAA520",
        "running_highlight": "#FF0000",
        "selected_highlight": "#FFD700"
      },
      "moveMenuLeft": true,
      "nav_menu": {
        "height": "318px",
        "width": "252px"
      },
      "navigate_menu": true,
      "number_sections": true,
      "sideBar": true,
      "threshold": 4,
      "toc_cell": false,
      "toc_section_display": "block",
      "toc_window_display": false,
      "widenNotebook": false
    },
    "colab": {
      "provenance": []
    }
  },
  "nbformat": 4,
  "nbformat_minor": 0
}